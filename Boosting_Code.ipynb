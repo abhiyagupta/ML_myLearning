{
  "nbformat": 4,
  "nbformat_minor": 0,
  "metadata": {
    "colab": {
      "provenance": [],
      "machine_shape": "hm",
      "toc_visible": true
    },
    "kernelspec": {
      "name": "python3",
      "display_name": "Python 3"
    },
    "accelerator": "GPU"
  },
  "cells": [
    {
      "cell_type": "markdown",
      "metadata": {
        "id": "uPq4rP4eDoQh"
      },
      "source": [
        "[statinfer.com](https://statinfer.com/)"
      ]
    },
    {
      "cell_type": "markdown",
      "metadata": {
        "id": "5Wtphu1LLyVa"
      },
      "source": [
        "# Packages"
      ]
    },
    {
      "cell_type": "code",
      "metadata": {
        "id": "6zgPKfcWFH1L"
      },
      "source": [
        "import pandas as pd\n",
        "import sklearn as sk\n",
        "import numpy as np\n",
        "import scipy as sp\n",
        "from sklearn import tree\n",
        "from sklearn.metrics import confusion_matrix\n",
        "from sklearn.metrics import f1_score\n",
        "import time\n",
        "from sklearn.ensemble import GradientBoostingClassifier\n",
        "import xgboost\n",
        "from xgboost.sklearn import XGBClassifier\n",
        "from sklearn import preprocessing"
      ],
      "execution_count": 1,
      "outputs": []
    },
    {
      "cell_type": "markdown",
      "metadata": {
        "id": "8qLTl5tyD5dc"
      },
      "source": [
        "# Data Importing"
      ]
    },
    {
      "cell_type": "markdown",
      "metadata": {
        "id": "nyO2R9lAEblx"
      },
      "source": [
        "Dataset Background : https://www.kaggle.com/c/otto-group-product-classification-challenge/notebooks"
      ]
    },
    {
      "cell_type": "code",
      "metadata": {
        "id": "RjM68PQ8DkLB"
      },
      "source": [
        "ecom_prod_train=pd.read_csv(\"https://raw.githubusercontent.com/venkatareddykonasani/Datasets/master/Ecom_Products_Menu/train.csv\")\n",
        "ecom_prod_test=pd.read_csv(\"https://raw.githubusercontent.com/venkatareddykonasani/Datasets/master/Ecom_Products_Menu/test.csv\")"
      ],
      "execution_count": 2,
      "outputs": []
    },
    {
      "cell_type": "code",
      "metadata": {
        "id": "E1jc0eX_FA8Q"
      },
      "source": [
        "print(ecom_prod_train.sample(10))\n",
        "print(ecom_prod_test.sample(10))"
      ],
      "execution_count": null,
      "outputs": []
    },
    {
      "cell_type": "code",
      "metadata": {
        "id": "Wj2NV6efGTcC"
      },
      "source": [
        "#Frequency counts of the products\n",
        "ecom_prod_train['Category'].value_counts()"
      ],
      "execution_count": null,
      "outputs": []
    },
    {
      "cell_type": "markdown",
      "metadata": {
        "id": "0SW5fKjLGCfo"
      },
      "source": [
        "# Prepare Features, Train and Test data"
      ]
    },
    {
      "cell_type": "code",
      "metadata": {
        "id": "A-V7YGhrFqfZ"
      },
      "source": [
        "features=list(ecom_prod_train.columns[1:101])\n",
        "print(\"features \\n\", features)\n",
        "X_train=ecom_prod_train[features]\n",
        "y_train=ecom_prod_train['Category']\n",
        "\n",
        "X_test=ecom_prod_test[features]\n",
        "y_test=ecom_prod_test['Category']"
      ],
      "execution_count": null,
      "outputs": []
    },
    {
      "cell_type": "markdown",
      "metadata": {
        "id": "12BIlI7gHctK"
      },
      "source": [
        "# Decision Tree model"
      ]
    },
    {
      "cell_type": "code",
      "metadata": {
        "id": "9pjj7RppGKqr",
        "colab": {
          "base_uri": "https://localhost:8080/",
          "height": 74
        },
        "outputId": "c48ea23e-7d2b-46e5-e9e6-90642a42d053"
      },
      "source": [
        "###buildng Decision tree on the training data ####\n",
        "from sklearn import tree\n",
        "tree = tree.DecisionTreeClassifier(max_depth=9)\n",
        "tree.fit(X_train,y_train)"
      ],
      "execution_count": 7,
      "outputs": [
        {
          "output_type": "execute_result",
          "data": {
            "text/plain": [
              "DecisionTreeClassifier(max_depth=9)"
            ],
            "text/html": [
              "<style>#sk-container-id-1 {color: black;background-color: white;}#sk-container-id-1 pre{padding: 0;}#sk-container-id-1 div.sk-toggleable {background-color: white;}#sk-container-id-1 label.sk-toggleable__label {cursor: pointer;display: block;width: 100%;margin-bottom: 0;padding: 0.3em;box-sizing: border-box;text-align: center;}#sk-container-id-1 label.sk-toggleable__label-arrow:before {content: \"▸\";float: left;margin-right: 0.25em;color: #696969;}#sk-container-id-1 label.sk-toggleable__label-arrow:hover:before {color: black;}#sk-container-id-1 div.sk-estimator:hover label.sk-toggleable__label-arrow:before {color: black;}#sk-container-id-1 div.sk-toggleable__content {max-height: 0;max-width: 0;overflow: hidden;text-align: left;background-color: #f0f8ff;}#sk-container-id-1 div.sk-toggleable__content pre {margin: 0.2em;color: black;border-radius: 0.25em;background-color: #f0f8ff;}#sk-container-id-1 input.sk-toggleable__control:checked~div.sk-toggleable__content {max-height: 200px;max-width: 100%;overflow: auto;}#sk-container-id-1 input.sk-toggleable__control:checked~label.sk-toggleable__label-arrow:before {content: \"▾\";}#sk-container-id-1 div.sk-estimator input.sk-toggleable__control:checked~label.sk-toggleable__label {background-color: #d4ebff;}#sk-container-id-1 div.sk-label input.sk-toggleable__control:checked~label.sk-toggleable__label {background-color: #d4ebff;}#sk-container-id-1 input.sk-hidden--visually {border: 0;clip: rect(1px 1px 1px 1px);clip: rect(1px, 1px, 1px, 1px);height: 1px;margin: -1px;overflow: hidden;padding: 0;position: absolute;width: 1px;}#sk-container-id-1 div.sk-estimator {font-family: monospace;background-color: #f0f8ff;border: 1px dotted black;border-radius: 0.25em;box-sizing: border-box;margin-bottom: 0.5em;}#sk-container-id-1 div.sk-estimator:hover {background-color: #d4ebff;}#sk-container-id-1 div.sk-parallel-item::after {content: \"\";width: 100%;border-bottom: 1px solid gray;flex-grow: 1;}#sk-container-id-1 div.sk-label:hover label.sk-toggleable__label {background-color: #d4ebff;}#sk-container-id-1 div.sk-serial::before {content: \"\";position: absolute;border-left: 1px solid gray;box-sizing: border-box;top: 0;bottom: 0;left: 50%;z-index: 0;}#sk-container-id-1 div.sk-serial {display: flex;flex-direction: column;align-items: center;background-color: white;padding-right: 0.2em;padding-left: 0.2em;position: relative;}#sk-container-id-1 div.sk-item {position: relative;z-index: 1;}#sk-container-id-1 div.sk-parallel {display: flex;align-items: stretch;justify-content: center;background-color: white;position: relative;}#sk-container-id-1 div.sk-item::before, #sk-container-id-1 div.sk-parallel-item::before {content: \"\";position: absolute;border-left: 1px solid gray;box-sizing: border-box;top: 0;bottom: 0;left: 50%;z-index: -1;}#sk-container-id-1 div.sk-parallel-item {display: flex;flex-direction: column;z-index: 1;position: relative;background-color: white;}#sk-container-id-1 div.sk-parallel-item:first-child::after {align-self: flex-end;width: 50%;}#sk-container-id-1 div.sk-parallel-item:last-child::after {align-self: flex-start;width: 50%;}#sk-container-id-1 div.sk-parallel-item:only-child::after {width: 0;}#sk-container-id-1 div.sk-dashed-wrapped {border: 1px dashed gray;margin: 0 0.4em 0.5em 0.4em;box-sizing: border-box;padding-bottom: 0.4em;background-color: white;}#sk-container-id-1 div.sk-label label {font-family: monospace;font-weight: bold;display: inline-block;line-height: 1.2em;}#sk-container-id-1 div.sk-label-container {text-align: center;}#sk-container-id-1 div.sk-container {/* jupyter's `normalize.less` sets `[hidden] { display: none; }` but bootstrap.min.css set `[hidden] { display: none !important; }` so we also need the `!important` here to be able to override the default hidden behavior on the sphinx rendered scikit-learn.org. See: https://github.com/scikit-learn/scikit-learn/issues/21755 */display: inline-block !important;position: relative;}#sk-container-id-1 div.sk-text-repr-fallback {display: none;}</style><div id=\"sk-container-id-1\" class=\"sk-top-container\"><div class=\"sk-text-repr-fallback\"><pre>DecisionTreeClassifier(max_depth=9)</pre><b>In a Jupyter environment, please rerun this cell to show the HTML representation or trust the notebook. <br />On GitHub, the HTML representation is unable to render, please try loading this page with nbviewer.org.</b></div><div class=\"sk-container\" hidden><div class=\"sk-item\"><div class=\"sk-estimator sk-toggleable\"><input class=\"sk-toggleable__control sk-hidden--visually\" id=\"sk-estimator-id-1\" type=\"checkbox\" checked><label for=\"sk-estimator-id-1\" class=\"sk-toggleable__label sk-toggleable__label-arrow\">DecisionTreeClassifier</label><div class=\"sk-toggleable__content\"><pre>DecisionTreeClassifier(max_depth=9)</pre></div></div></div></div></div>"
            ]
          },
          "metadata": {},
          "execution_count": 7
        }
      ]
    },
    {
      "cell_type": "markdown",
      "metadata": {
        "id": "YSOShFnhXyfO"
      },
      "source": [
        "## Decision Tree Results"
      ]
    },
    {
      "cell_type": "code",
      "metadata": {
        "id": "Sj-71axBXxab",
        "colab": {
          "base_uri": "https://localhost:8080/"
        },
        "outputId": "52846d7c-a55f-46de-a7e9-a2af1dc2a6f2"
      },
      "source": [
        "#Accuracy on train data\n",
        "print(\"Decision Tree Results \\n\")\n",
        "print(\"Accuracy on train data\" , tree.score(X_train, y_train))\n",
        "print(\"Accuracy on test data\" , tree.score(X_test, y_test))"
      ],
      "execution_count": 8,
      "outputs": [
        {
          "output_type": "stream",
          "name": "stdout",
          "text": [
            "Decision Tree Results \n",
            "\n",
            "Accuracy on train data 0.6363672638761422\n",
            "Accuracy on test data 0.6270840421912215\n"
          ]
        }
      ]
    },
    {
      "cell_type": "markdown",
      "metadata": {
        "id": "aD6wVUHSHevX"
      },
      "source": [
        "# Boosted Model"
      ]
    },
    {
      "cell_type": "markdown",
      "source": [
        "VERBOSE=0 : WILL SHOW ONLY END RESULT. NO OF ITERANTIONS =100. TRAINING LOSS = ERROR. REAMNG TIME= TIME LEFT FOR COMPLETE EXECUTION."
      ],
      "metadata": {
        "id": "0gbBzrVG9THx"
      }
    },
    {
      "cell_type": "code",
      "metadata": {
        "id": "CFdhv8k2GjsG",
        "colab": {
          "base_uri": "https://localhost:8080/"
        },
        "outputId": "e47e05d5-19a6-4e96-d09b-c2b98e542f0a"
      },
      "source": [
        "from sklearn.ensemble import GradientBoostingClassifier\n",
        "boost=GradientBoostingClassifier(n_estimators=100,learning_rate=0.1, verbose=1) \n",
        "##fitting the gradient boost classifier\n",
        "start_time = time.time()\n",
        "boost.fit(X_train,y_train)\n",
        "print(\"Time taken by GBM \"+ str((time.time() - start_time))+ \" Seconds\")"
      ],
      "execution_count": 9,
      "outputs": [
        {
          "output_type": "stream",
          "name": "stdout",
          "text": [
            "      Iter       Train Loss   Remaining Time \n",
            "         1           1.6679            2.51m\n",
            "         2           1.5254            3.81m\n",
            "         3           1.4205            4.29m\n",
            "         4           1.3357            4.64m\n",
            "         5           1.2661            4.63m\n",
            "         6           1.2069            4.21m\n",
            "         7           1.1570            3.90m\n",
            "         8           1.1147            3.66m\n",
            "         9           1.0746            3.47m\n",
            "        10           1.0392            3.31m\n",
            "        20           0.8356            2.59m\n",
            "        30           0.7398            2.18m\n",
            "        40           0.6852            1.99m\n",
            "        50           0.6487            1.62m\n",
            "        60           0.6220            1.28m\n",
            "        70           0.6009           58.47s\n",
            "        80           0.5838           38.04s\n",
            "        90           0.5694           18.64s\n",
            "       100           0.5563            0.00s\n",
            "Time taken by GBM 187.24856185913086 Seconds\n"
          ]
        }
      ]
    },
    {
      "cell_type": "markdown",
      "metadata": {
        "id": "UFzjaDCFTOO-"
      },
      "source": [
        "## GBM Results"
      ]
    },
    {
      "cell_type": "code",
      "metadata": {
        "id": "_IdqKxgwHp0w",
        "colab": {
          "base_uri": "https://localhost:8080/"
        },
        "outputId": "4c14cfc1-05d8-419f-cf5e-a8194397e8f8"
      },
      "source": [
        "###predicting Gradient boosting model on the train Data\n",
        "boost_predict_train=boost.predict(X_train)\n",
        "cm1 = confusion_matrix(y_train,boost_predict_train)\n",
        "print(cm1)\n",
        "\n",
        "accuracy_train=f1_score(y_train, boost_predict_train, average='micro') \n",
        "print(\"train accuracy\", accuracy_train)"
      ],
      "execution_count": 10,
      "outputs": [
        {
          "output_type": "stream",
          "name": "stdout",
          "text": [
            "[[ 1497   116    16    11   132    54   162    23   330]\n",
            " [   50  6328    91     5    24    74   174     0   117]\n",
            " [   21   196  3352     4     6    86   146     1   152]\n",
            " [    0     3     3  2144     7     0     4     0    56]\n",
            " [  124    18    11     1  2954     7     8    69  3274]\n",
            " [   32   225   271     9     5   767   149     2    98]\n",
            " [  108   188   126     1    13    50 10813    11   142]\n",
            " [   20     7     2    14   264     0    61   934   880]\n",
            " [   77    24    12    18  1377     8    32    94 11437]]\n",
            "train accuracy 0.8025617493316308\n"
          ]
        }
      ]
    },
    {
      "cell_type": "code",
      "metadata": {
        "id": "rnNZq0TbHwiA",
        "colab": {
          "base_uri": "https://localhost:8080/"
        },
        "outputId": "2e986aa6-2fe6-43f9-c8c3-df4913aecf7f"
      },
      "source": [
        "###predicting Gradient boosting model on the test Data\n",
        "boost_predict_test=boost.predict(X_test)\n",
        "cm1 = confusion_matrix(y_test,boost_predict_test)\n",
        "print(cm1)\n",
        "\n",
        "accuracy_test=f1_score(y_test, boost_predict_test, average='micro') \n",
        "print(\"test accuracy\", accuracy_test)"
      ],
      "execution_count": 11,
      "outputs": [
        {
          "output_type": "stream",
          "name": "stdout",
          "text": [
            "[[ 310   31    0    1   25    9   41    5   76]\n",
            " [  14 1456   31    1    3   20   49    0   27]\n",
            " [   3   41  850    2    0   26   38    0   31]\n",
            " [   0    0    0  498    1    0    0    1   22]\n",
            " [  21    6    4    0  682    0    2   23  800]\n",
            " [   6   68   78    0    4  150   36    0   29]\n",
            " [  38   38   37    1    2   10 2512    3   42]\n",
            " [   5    1    0    3   68    0   22  169  241]\n",
            " [  20    7    7    9  329    0    8   23 2640]]\n",
            "test accuracy 0.7882783259612114\n"
          ]
        }
      ]
    },
    {
      "cell_type": "markdown",
      "metadata": {
        "id": "ZyjFgaA8KE7D"
      },
      "source": [
        "# XGB Model"
      ]
    },
    {
      "cell_type": "markdown",
      "source": [
        "PARAMATER : MAX_DEPT = BUILD SHORT TREE. TAKE 50% DEPTH OF ORIGINAL TREE. ETA : STANDARD LEARNIGN RATE. "
      ],
      "metadata": {
        "id": "5uvtSi0G93Ai"
      }
    },
    {
      "cell_type": "code",
      "metadata": {
        "id": "1Fgvgn-sNeOf"
      },
      "source": [
        "#Creating XGB Friendly data and matrices\n",
        "train_labels = y_train.values\n",
        "train_labels = preprocessing.LabelEncoder().fit_transform(train_labels)\n",
        "test_labels = y_test.values\n",
        "test_labels = preprocessing.LabelEncoder().fit_transform(test_labels)\n",
        "\n",
        "matrix_train = xgboost.DMatrix(X_train,label=train_labels)\n",
        "matrix_test = xgboost.DMatrix(X_test,label=test_labels)"
      ],
      "execution_count": null,
      "outputs": []
    },
    {
      "cell_type": "code",
      "metadata": {
        "id": "zMgbSHJwLwHD"
      },
      "source": [
        "params = {\n",
        "    'max_depth': 4,   # SHORTER TREE WILL PROLONG THE ALOGORITHM\n",
        "    'eta':0.1, #Learning Rate\n",
        "    'eval_metric':'merror', # Multiclass classification error rate. \n",
        "    'tree_method' : \"gpu_hist\", # use this with colab in gpu mode for faster training\n",
        "    'num_class': 9\n",
        "}\n",
        "\n",
        "start_time = time.time()\n",
        "\n",
        "model=xgboost.train(params=params,\n",
        "                    dtrain=matrix_train,\n",
        "                    num_boost_round=300,    #Number of trees\n",
        "                    early_stopping_rounds=4, # Stop after 4 rounds, if test error doesn't improve. \n",
        "                    evals=[(matrix_test,'test')] \n",
        "                   )\n",
        "\n",
        "print(\"Time taken by XGB \"+ str((time.time() - start_time))+ \" Seconds\")"
      ],
      "execution_count": null,
      "outputs": []
    },
    {
      "cell_type": "markdown",
      "metadata": {
        "id": "4MqFhLeiTRR8"
      },
      "source": [
        "## XGB Results"
      ]
    },
    {
      "cell_type": "code",
      "metadata": {
        "id": "ZMFjJ82YMw5n"
      },
      "source": [
        "###prediction using XGB on the train Data\n",
        "boost_predict_train=model.predict(matrix_train)\n",
        "cm1 = confusion_matrix(train_labels,boost_predict_train)\n",
        "print(cm1)\n",
        "\n",
        "accuracy_train=f1_score(train_labels, boost_predict_train, average='micro') \n",
        "print(\"train accuracy\", accuracy_train)"
      ],
      "execution_count": null,
      "outputs": []
    },
    {
      "cell_type": "code",
      "metadata": {
        "id": "C4lt5xN8UHIZ"
      },
      "source": [
        "###prediction using XGB on the test Data\n",
        "boost_predict_test=model.predict(matrix_test)\n",
        "cm1 = confusion_matrix(test_labels,boost_predict_test)\n",
        "print(cm1)\n",
        "\n",
        "accuracy_test=f1_score(test_labels, boost_predict_test, average='micro') \n",
        "print(\"test accuracy\", accuracy_test)"
      ],
      "execution_count": null,
      "outputs": []
    },
    {
      "cell_type": "code",
      "metadata": {
        "id": "6SZu2c4mUl_o"
      },
      "source": [],
      "execution_count": null,
      "outputs": []
    }
  ]
}
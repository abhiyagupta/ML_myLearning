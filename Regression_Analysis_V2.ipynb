{
  "nbformat": 4,
  "nbformat_minor": 0,
  "metadata": {
    "colab": {
      "provenance": [],
      "toc_visible": true
    },
    "kernelspec": {
      "name": "python3",
      "display_name": "Python 3"
    }
  },
  "cells": [
    {
      "cell_type": "code",
      "metadata": {
        "id": "a6xFwUTH-Jxw"
      },
      "source": [
        "import pandas as pd\n",
        "import numpy as np\n",
        "import matplotlib as matlab\n",
        "import statsmodels"
      ],
      "execution_count": 14,
      "outputs": []
    },
    {
      "cell_type": "markdown",
      "metadata": {
        "id": "19Xrwq2g-OTp"
      },
      "source": [
        "# Correlation"
      ]
    },
    {
      "cell_type": "code",
      "metadata": {
        "id": "5w_nsSUA-Z3e"
      },
      "source": [
        "air = pd.read_csv(\"https://raw.githubusercontent.com/venkatareddykonasani/Datasets/master/AirPassengers/AirPassengers.csv\")\n",
        "air.info()"
      ],
      "execution_count": null,
      "outputs": []
    },
    {
      "cell_type": "code",
      "metadata": {
        "id": "BjVd057a-3px",
        "colab": {
          "base_uri": "https://localhost:8080/"
        },
        "outputId": "07b57374-4121-48d7-f1f3-a4f0cd726702"
      },
      "source": [
        "#Find the correlation between number of passengers and promotional budget.\n",
        "np.corrcoef(air.Passengers,air.Promotion_Budget)"
      ],
      "execution_count": 17,
      "outputs": [
        {
          "output_type": "execute_result",
          "data": {
            "text/plain": [
              "array([[1.        , 0.96585103],\n",
              "       [0.96585103, 1.        ]])"
            ]
          },
          "metadata": {},
          "execution_count": 17
        }
      ]
    },
    {
      "cell_type": "markdown",
      "source": [
        "# since corelation between two varibales is 0.965 , > .75; that means very strong positve co-relation\n"
      ],
      "metadata": {
        "id": "Qr2eXgNau0bp"
      }
    },
    {
      "cell_type": "markdown",
      "metadata": {
        "id": "ou0-Mlep--gt"
      },
      "source": [
        "# Regression "
      ]
    },
    {
      "cell_type": "markdown",
      "source": [
        "# coeff of intercept or beta0 = 1259.6058\n",
        "# beta1 = coeff of x (promotional budget) = 0.0695\n",
        "#regression line= beta0 + b1*x\n"
      ],
      "metadata": {
        "id": "lR8bSf3gwJ4T"
      }
    },
    {
      "cell_type": "code",
      "metadata": {
        "id": "PKQxiD_B-9Z9",
        "colab": {
          "base_uri": "https://localhost:8080/"
        },
        "outputId": "c9d18f3c-c26a-4c69-df79-a619fb5fd4cf"
      },
      "source": [
        "import statsmodels.formula.api as sm\n",
        "model = sm.ols(formula='Passengers ~ Promotion_Budget', data=air)\n",
        "fitted1 = model.fit()\n",
        "print(fitted1.summary())\n"
      ],
      "execution_count": 18,
      "outputs": [
        {
          "output_type": "stream",
          "name": "stdout",
          "text": [
            "                            OLS Regression Results                            \n",
            "==============================================================================\n",
            "Dep. Variable:             Passengers   R-squared:                       0.933\n",
            "Model:                            OLS   Adj. R-squared:                  0.932\n",
            "Method:                 Least Squares   F-statistic:                     1084.\n",
            "Date:                Thu, 30 Mar 2023   Prob (F-statistic):           1.66e-47\n",
            "Time:                        13:36:58   Log-Likelihood:                -751.34\n",
            "No. Observations:                  80   AIC:                             1507.\n",
            "Df Residuals:                      78   BIC:                             1511.\n",
            "Df Model:                           1                                         \n",
            "Covariance Type:            nonrobust                                         \n",
            "====================================================================================\n",
            "                       coef    std err          t      P>|t|      [0.025      0.975]\n",
            "------------------------------------------------------------------------------------\n",
            "Intercept         1259.6058   1361.071      0.925      0.358   -1450.078    3969.290\n",
            "Promotion_Budget     0.0695      0.002     32.923      0.000       0.065       0.074\n",
            "==============================================================================\n",
            "Omnibus:                       26.624   Durbin-Watson:                   1.831\n",
            "Prob(Omnibus):                  0.000   Jarque-Bera (JB):                5.188\n",
            "Skew:                          -0.128   Prob(JB):                       0.0747\n",
            "Kurtosis:                       1.779   Cond. No.                     2.67e+06\n",
            "==============================================================================\n",
            "\n",
            "Notes:\n",
            "[1] Standard Errors assume that the covariance matrix of the errors is correctly specified.\n",
            "[2] The condition number is large, 2.67e+06. This might indicate that there are\n",
            "strong multicollinearity or other numerical problems.\n"
          ]
        }
      ]
    },
    {
      "cell_type": "code",
      "metadata": {
        "id": "eh3IX6k-_Ecm"
      },
      "source": [
        "#b0 ==> Intercept  ==> \n",
        "#b1 ===> coeff prmo budget ==>"
      ],
      "execution_count": null,
      "outputs": []
    },
    {
      "cell_type": "markdown",
      "source": [
        "#question: if budget is 5000000 then what will be number of passangers\n",
        "#ans: 36009.6058"
      ],
      "metadata": {
        "id": "P_zDT9hhxIM9"
      }
    },
    {
      "cell_type": "code",
      "metadata": {
        "id": "MPKb3Rjm9h1Y",
        "colab": {
          "base_uri": "https://localhost:8080/"
        },
        "outputId": "d5086630-1d4f-45ba-ecb7-f4ee43728627"
      },
      "source": [
        "# y = b0 +b1*x \n",
        "# Passengers = 1259.6058 + 0.0695 * (promo_budget)\n",
        "# promo_budget = 500,000 ==> Predict passengers ? \n",
        "\n",
        "1259.6058 + 0.0695 * (500000)"
      ],
      "execution_count": 19,
      "outputs": [
        {
          "output_type": "execute_result",
          "data": {
            "text/plain": [
              "36009.6058"
            ]
          },
          "metadata": {},
          "execution_count": 19
        }
      ]
    },
    {
      "cell_type": "markdown",
      "metadata": {
        "id": "Q4mqQjN9_T59"
      },
      "source": [
        "# R Squared"
      ]
    },
    {
      "cell_type": "markdown",
      "source": [
        "#r sq for above model where we are comparing promotional budget with no of passangers, value of r2=0.93 or 93%\n",
        "#whereas second model below comparision of inter_metro flight connectivity and no of pasangers, value of r2=0.242 or 24%.\n",
        "\n",
        "##model validation shows above model is good as r2 >80% where as below model r2<80%.\n"
      ],
      "metadata": {
        "id": "dBY57-pU1Y4v"
      }
    },
    {
      "cell_type": "code",
      "metadata": {
        "id": "GJl6yQJa_L4m",
        "colab": {
          "base_uri": "https://localhost:8080/"
        },
        "outputId": "ac3f4f50-baf5-40e6-ff16-4d217ec53b28"
      },
      "source": [
        "##Regression Model inter_metro_flight_ratio and passengers count\n",
        "#matlab.pyplot.scatter(air.Inter_metro_flight_ratio,air.Passengers)\n",
        "\n",
        "import statsmodels.formula.api as sm\n",
        "model = sm.ols(formula='Passengers ~ Inter_metro_flight_ratio', data=air)\n",
        "fitted2 = model.fit()\n",
        "print(fitted2.summary())"
      ],
      "execution_count": 20,
      "outputs": [
        {
          "output_type": "stream",
          "name": "stdout",
          "text": [
            "                            OLS Regression Results                            \n",
            "==============================================================================\n",
            "Dep. Variable:             Passengers   R-squared:                       0.242\n",
            "Model:                            OLS   Adj. R-squared:                  0.232\n",
            "Method:                 Least Squares   F-statistic:                     24.90\n",
            "Date:                Thu, 30 Mar 2023   Prob (F-statistic):           3.58e-06\n",
            "Time:                        13:53:05   Log-Likelihood:                -848.30\n",
            "No. Observations:                  80   AIC:                             1701.\n",
            "Df Residuals:                      78   BIC:                             1705.\n",
            "Df Model:                           1                                         \n",
            "Covariance Type:            nonrobust                                         \n",
            "============================================================================================\n",
            "                               coef    std err          t      P>|t|      [0.025      0.975]\n",
            "--------------------------------------------------------------------------------------------\n",
            "Intercept                 2.044e+04   4993.747      4.093      0.000    1.05e+04    3.04e+04\n",
            "Inter_metro_flight_ratio  3.507e+04   7027.768      4.990      0.000    2.11e+04    4.91e+04\n",
            "==============================================================================\n",
            "Omnibus:                       10.172   Durbin-Watson:                   1.385\n",
            "Prob(Omnibus):                  0.006   Jarque-Bera (JB):               10.098\n",
            "Skew:                           0.822   Prob(JB):                      0.00641\n",
            "Kurtosis:                       3.573   Cond. No.                         9.48\n",
            "==============================================================================\n",
            "\n",
            "Notes:\n",
            "[1] Standard Errors assume that the covariance matrix of the errors is correctly specified.\n"
          ]
        }
      ]
    },
    {
      "cell_type": "markdown",
      "metadata": {
        "id": "nLqhPNeL_axO"
      },
      "source": [
        "# Multiple Regerssion Model "
      ]
    },
    {
      "cell_type": "code",
      "metadata": {
        "id": "-hpy_86N_Or8",
        "colab": {
          "base_uri": "https://localhost:8080/"
        },
        "outputId": "5f763deb-e112-4625-c202-44add9764d92"
      },
      "source": [
        "model = sm.ols(formula='Passengers ~ Promotion_Budget+Service_Quality_Score+Inter_metro_flight_ratio', data=air)\n",
        "fitted = model.fit()\n",
        "print(fitted.summary())"
      ],
      "execution_count": 21,
      "outputs": [
        {
          "output_type": "stream",
          "name": "stdout",
          "text": [
            "                            OLS Regression Results                            \n",
            "==============================================================================\n",
            "Dep. Variable:             Passengers   R-squared:                       0.951\n",
            "Model:                            OLS   Adj. R-squared:                  0.949\n",
            "Method:                 Least Squares   F-statistic:                     495.6\n",
            "Date:                Thu, 30 Mar 2023   Prob (F-statistic):           8.71e-50\n",
            "Time:                        14:07:23   Log-Likelihood:                -738.45\n",
            "No. Observations:                  80   AIC:                             1485.\n",
            "Df Residuals:                      76   BIC:                             1494.\n",
            "Df Model:                           3                                         \n",
            "Covariance Type:            nonrobust                                         \n",
            "============================================================================================\n",
            "                               coef    std err          t      P>|t|      [0.025      0.975]\n",
            "--------------------------------------------------------------------------------------------\n",
            "Intercept                 1.921e+04   3542.694      5.424      0.000    1.22e+04    2.63e+04\n",
            "Promotion_Budget             0.0555      0.004     15.476      0.000       0.048       0.063\n",
            "Service_Quality_Score    -2802.0708    530.382     -5.283      0.000   -3858.419   -1745.723\n",
            "Inter_metro_flight_ratio -2003.4508   2129.095     -0.941      0.350   -6243.912    2237.010\n",
            "==============================================================================\n",
            "Omnibus:                        6.902   Durbin-Watson:                   2.312\n",
            "Prob(Omnibus):                  0.032   Jarque-Bera (JB):                2.759\n",
            "Skew:                          -0.051   Prob(JB):                        0.252\n",
            "Kurtosis:                       2.096   Cond. No.                     8.22e+06\n",
            "==============================================================================\n",
            "\n",
            "Notes:\n",
            "[1] Standard Errors assume that the covariance matrix of the errors is correctly specified.\n",
            "[2] The condition number is large, 8.22e+06. This might indicate that there are\n",
            "strong multicollinearity or other numerical problems.\n"
          ]
        }
      ]
    },
    {
      "cell_type": "markdown",
      "source": [
        "# here equatin is y=b0 + b1x1 + b2x2+...+bkxk\n",
        "#b0=intercept=1.921e+04 \n",
        "#b1 for x1(promotinal budget)=0.0555\n",
        "#b2 for x2(service qulaity)=-2802.0708 etc.."
      ],
      "metadata": {
        "id": "ZmjinrMG2Sb7"
      }
    },
    {
      "cell_type": "markdown",
      "metadata": {
        "id": "muIuylOi_kuM"
      },
      "source": [
        "# Individual variables impact\n",
        "# p value from abole OLS regression chart/outcome\n",
        "Promotion_Budget  0.000  (less than 0.05)\n",
        "Service_Quality_Score 0.000  \n",
        "Inter_metro_flight_ratio  0.350 (> than 0.05) = NON IMPACTFUL VARIBALE\n"
      ]
    },
    {
      "cell_type": "markdown",
      "source": [
        "#HOW TO PROVE IT IS NON-IMPACTFUL. LOOK FOR R2 WITH ALL THREE VARIBALE AND R2 WITH ONLY TWO VARIBALES. R2 IS 95% FOR BOTH MODELS, EVEN FATER DROPPING INTERMETRO FLIGHT CONNECTIVITY VARIBALE. \n"
      ],
      "metadata": {
        "id": "QwVYXbdm56-l"
      }
    },
    {
      "cell_type": "code",
      "metadata": {
        "id": "HaFY86Hq_hfN",
        "colab": {
          "base_uri": "https://localhost:8080/"
        },
        "outputId": "459beb71-72a9-4c48-a337-e671c8776864"
      },
      "source": [
        "#Are there any predictor variables that are not impacting the dependent variable \n",
        "##Inter_metro_flight_ratio is dropped\n",
        "import statsmodels.formula.api as sm\n",
        "model = sm.ols(formula='Passengers ~ Promotion_Budget+Service_Quality_Score', data=air)\n",
        "fitted = model.fit()\n",
        "print(fitted.summary())"
      ],
      "execution_count": 22,
      "outputs": [
        {
          "output_type": "stream",
          "name": "stdout",
          "text": [
            "                            OLS Regression Results                            \n",
            "==============================================================================\n",
            "Dep. Variable:             Passengers   R-squared:                       0.951\n",
            "Model:                            OLS   Adj. R-squared:                  0.950\n",
            "Method:                 Least Squares   F-statistic:                     744.0\n",
            "Date:                Thu, 30 Mar 2023   Prob (F-statistic):           4.38e-51\n",
            "Time:                        14:12:47   Log-Likelihood:                -738.91\n",
            "No. Observations:                  80   AIC:                             1484.\n",
            "Df Residuals:                      77   BIC:                             1491.\n",
            "Df Model:                           2                                         \n",
            "Covariance Type:            nonrobust                                         \n",
            "=========================================================================================\n",
            "                            coef    std err          t      P>|t|      [0.025      0.975]\n",
            "-----------------------------------------------------------------------------------------\n",
            "Intercept              1.853e+04   3464.796      5.348      0.000    1.16e+04    2.54e+04\n",
            "Promotion_Budget          0.0544      0.003     16.063      0.000       0.048       0.061\n",
            "Service_Quality_Score -2807.3095    529.958     -5.297      0.000   -3862.592   -1752.028\n",
            "==============================================================================\n",
            "Omnibus:                        7.728   Durbin-Watson:                   2.331\n",
            "Prob(Omnibus):                  0.021   Jarque-Bera (JB):                2.913\n",
            "Skew:                          -0.043   Prob(JB):                        0.233\n",
            "Kurtosis:                       2.069   Cond. No.                     7.97e+06\n",
            "==============================================================================\n",
            "\n",
            "Notes:\n",
            "[1] Standard Errors assume that the covariance matrix of the errors is correctly specified.\n",
            "[2] The condition number is large, 7.97e+06. This might indicate that there are\n",
            "strong multicollinearity or other numerical problems.\n"
          ]
        }
      ]
    },
    {
      "cell_type": "code",
      "metadata": {
        "id": "KQOZhKte_tbj",
        "colab": {
          "base_uri": "https://localhost:8080/"
        },
        "outputId": "4e5f9ebf-1e10-400f-9946-f085f5bab1b7"
      },
      "source": [
        "import statsmodels.formula.api as sm\n",
        "model = sm.ols(formula='Passengers ~ Service_Quality_Score', data=air)\n",
        "fitted = model.fit()\n",
        "print(fitted.summary())"
      ],
      "execution_count": 23,
      "outputs": [
        {
          "output_type": "stream",
          "name": "stdout",
          "text": [
            "                            OLS Regression Results                            \n",
            "==============================================================================\n",
            "Dep. Variable:             Passengers   R-squared:                       0.786\n",
            "Model:                            OLS   Adj. R-squared:                  0.783\n",
            "Method:                 Least Squares   F-statistic:                     286.4\n",
            "Date:                Thu, 30 Mar 2023   Prob (F-statistic):           7.88e-28\n",
            "Time:                        14:21:37   Log-Likelihood:                -797.72\n",
            "No. Observations:                  80   AIC:                             1599.\n",
            "Df Residuals:                      78   BIC:                             1604.\n",
            "Df Model:                           1                                         \n",
            "Covariance Type:            nonrobust                                         \n",
            "=========================================================================================\n",
            "                            coef    std err          t      P>|t|      [0.025      0.975]\n",
            "-----------------------------------------------------------------------------------------\n",
            "Intercept              7.252e+04   1742.925     41.608      0.000     6.9e+04     7.6e+04\n",
            "Service_Quality_Score -9986.6349    590.134    -16.923      0.000   -1.12e+04   -8811.768\n",
            "==============================================================================\n",
            "Omnibus:                        6.997   Durbin-Watson:                   1.713\n",
            "Prob(Omnibus):                  0.030   Jarque-Bera (JB):                7.571\n",
            "Skew:                           0.450   Prob(JB):                       0.0227\n",
            "Kurtosis:                       4.209   Cond. No.                         9.68\n",
            "==============================================================================\n",
            "\n",
            "Notes:\n",
            "[1] Standard Errors assume that the covariance matrix of the errors is correctly specified.\n"
          ]
        }
      ]
    },
    {
      "cell_type": "markdown",
      "metadata": {
        "id": "p-vPsbPn_32F"
      },
      "source": [
        "# Adjusted R-Square"
      ]
    },
    {
      "cell_type": "markdown",
      "source": [
        "# EXPERIMENT DONE WITH MODEL M1, M2, M3 WHERE MODEL M1 HAS VALUE OF Y AGAGINSTX1,X2,X3 . MODEL 2 VALUES OF X1,X2...X6 AND MODEL 3 X1,X2...X8. CHCEK FOR VALUES OF R2 AND ADJUSTED R2."
      ],
      "metadata": {
        "id": "iW0NEm4OCufh"
      }
    },
    {
      "cell_type": "code",
      "metadata": {
        "id": "ovSvLsfA_wib",
        "colab": {
          "base_uri": "https://localhost:8080/"
        },
        "outputId": "7d320135-b07a-4c94-c6ac-53a11ce0b1c6"
      },
      "source": [
        "adj_sample=pd.read_csv(\"https://raw.githubusercontent.com/venkatareddykonasani/Datasets/master/Adjusted%20RSquare/Adj_Sample.csv\")\n",
        "#Build a model to predict y using x1,x2 and x3. Note down R-Square and Adj R-Square values \n",
        "model = sm.ols(formula='Y ~ x1+x2+x3', data=adj_sample)\n",
        "fitted = model.fit()\n",
        "print(fitted.summary())\n",
        "#R-Squared "
      ],
      "execution_count": 24,
      "outputs": [
        {
          "output_type": "stream",
          "name": "stdout",
          "text": [
            "                            OLS Regression Results                            \n",
            "==============================================================================\n",
            "Dep. Variable:                      Y   R-squared:                       0.684\n",
            "Model:                            OLS   Adj. R-squared:                  0.566\n",
            "Method:                 Least Squares   F-statistic:                     5.785\n",
            "Date:                Thu, 30 Mar 2023   Prob (F-statistic):             0.0211\n",
            "Time:                        15:01:47   Log-Likelihood:                -10.430\n",
            "No. Observations:                  12   AIC:                             28.86\n",
            "Df Residuals:                       8   BIC:                             30.80\n",
            "Df Model:                           3                                         \n",
            "Covariance Type:            nonrobust                                         \n",
            "==============================================================================\n",
            "                 coef    std err          t      P>|t|      [0.025      0.975]\n",
            "------------------------------------------------------------------------------\n",
            "Intercept     -2.8798      1.163     -2.477      0.038      -5.561      -0.199\n",
            "x1            -0.4894      0.370     -1.324      0.222      -1.342       0.363\n",
            "x2             0.0029      0.001      2.586      0.032       0.000       0.005\n",
            "x3             0.4572      0.176      2.595      0.032       0.051       0.864\n",
            "==============================================================================\n",
            "Omnibus:                        1.113   Durbin-Watson:                   1.978\n",
            "Prob(Omnibus):                  0.573   Jarque-Bera (JB):                0.763\n",
            "Skew:                          -0.562   Prob(JB):                        0.683\n",
            "Kurtosis:                       2.489   Cond. No.                     6.00e+03\n",
            "==============================================================================\n",
            "\n",
            "Notes:\n",
            "[1] Standard Errors assume that the covariance matrix of the errors is correctly specified.\n",
            "[2] The condition number is large,  6e+03. This might indicate that there are\n",
            "strong multicollinearity or other numerical problems.\n"
          ]
        },
        {
          "output_type": "stream",
          "name": "stderr",
          "text": [
            "/usr/local/lib/python3.9/dist-packages/scipy/stats/_stats_py.py:1736: UserWarning: kurtosistest only valid for n>=20 ... continuing anyway, n=12\n",
            "  warnings.warn(\"kurtosistest only valid for n>=20 ... continuing \"\n"
          ]
        }
      ]
    },
    {
      "cell_type": "code",
      "metadata": {
        "id": "e9yKv5qDADA9",
        "colab": {
          "base_uri": "https://localhost:8080/"
        },
        "outputId": "3d72b01d-477f-4419-c24b-44e51ddbf1a7"
      },
      "source": [
        "#Model2\n",
        "model = sm.ols(formula='Y ~ x1+x2+x3+x4+x5+x6', data=adj_sample)\n",
        "fitted = model.fit()\n",
        "print(fitted.summary())"
      ],
      "execution_count": 25,
      "outputs": [
        {
          "output_type": "stream",
          "name": "stdout",
          "text": [
            "                            OLS Regression Results                            \n",
            "==============================================================================\n",
            "Dep. Variable:                      Y   R-squared:                       0.717\n",
            "Model:                            OLS   Adj. R-squared:                  0.377\n",
            "Method:                 Least Squares   F-statistic:                     2.111\n",
            "Date:                Thu, 30 Mar 2023   Prob (F-statistic):              0.215\n",
            "Time:                        15:01:57   Log-Likelihood:                -9.7790\n",
            "No. Observations:                  12   AIC:                             33.56\n",
            "Df Residuals:                       5   BIC:                             36.95\n",
            "Df Model:                           6                                         \n",
            "Covariance Type:            nonrobust                                         \n",
            "==============================================================================\n",
            "                 coef    std err          t      P>|t|      [0.025      0.975]\n",
            "------------------------------------------------------------------------------\n",
            "Intercept     -5.3751      4.687     -1.147      0.303     -17.423       6.673\n",
            "x1            -0.6697      0.537     -1.247      0.268      -2.050       0.711\n",
            "x2             0.0030      0.002      1.956      0.108      -0.001       0.007\n",
            "x3             0.5063      0.249      2.036      0.097      -0.133       1.146\n",
            "x4             0.0376      0.084      0.449      0.672      -0.178       0.253\n",
            "x5             0.0436      0.169      0.258      0.806      -0.390       0.478\n",
            "x6             0.0516      0.088      0.588      0.582      -0.174       0.277\n",
            "==============================================================================\n",
            "Omnibus:                        0.426   Durbin-Watson:                   2.065\n",
            "Prob(Omnibus):                  0.808   Jarque-Bera (JB):                0.434\n",
            "Skew:                          -0.347   Prob(JB):                        0.805\n",
            "Kurtosis:                       2.378   Cond. No.                     1.98e+04\n",
            "==============================================================================\n",
            "\n",
            "Notes:\n",
            "[1] Standard Errors assume that the covariance matrix of the errors is correctly specified.\n",
            "[2] The condition number is large, 1.98e+04. This might indicate that there are\n",
            "strong multicollinearity or other numerical problems.\n"
          ]
        },
        {
          "output_type": "stream",
          "name": "stderr",
          "text": [
            "/usr/local/lib/python3.9/dist-packages/scipy/stats/_stats_py.py:1736: UserWarning: kurtosistest only valid for n>=20 ... continuing anyway, n=12\n",
            "  warnings.warn(\"kurtosistest only valid for n>=20 ... continuing \"\n"
          ]
        }
      ]
    },
    {
      "cell_type": "code",
      "metadata": {
        "id": "yLxGHZnRAKl_",
        "colab": {
          "base_uri": "https://localhost:8080/"
        },
        "outputId": "2a79388a-bb83-4c53-a5d4-ce95b7432038"
      },
      "source": [
        "#Model3\n",
        "model = sm.ols(formula='Y ~ x1+x2+x3+x4+x5+x6+x7+x8', data=adj_sample)\n",
        "fitted = model.fit()\n",
        "print(fitted.summary())"
      ],
      "execution_count": 26,
      "outputs": [
        {
          "output_type": "stream",
          "name": "stdout",
          "text": [
            "                            OLS Regression Results                            \n",
            "==============================================================================\n",
            "Dep. Variable:                      Y   R-squared:                       0.805\n",
            "Model:                            OLS   Adj. R-squared:                  0.285\n",
            "Method:                 Least Squares   F-statistic:                     1.549\n",
            "Date:                Thu, 30 Mar 2023   Prob (F-statistic):              0.393\n",
            "Time:                        15:02:12   Log-Likelihood:                -7.5390\n",
            "No. Observations:                  12   AIC:                             33.08\n",
            "Df Residuals:                       3   BIC:                             37.44\n",
            "Df Model:                           8                                         \n",
            "Covariance Type:            nonrobust                                         \n",
            "==============================================================================\n",
            "                 coef    std err          t      P>|t|      [0.025      0.975]\n",
            "------------------------------------------------------------------------------\n",
            "Intercept     17.0440     19.903      0.856      0.455     -46.297      80.385\n",
            "x1            -0.0956      0.761     -0.126      0.908      -2.519       2.328\n",
            "x2             0.0007      0.003      0.291      0.790      -0.007       0.009\n",
            "x3             0.5157      0.306      1.684      0.191      -0.459       1.490\n",
            "x4             0.0579      0.103      0.560      0.615      -0.271       0.387\n",
            "x5             0.0858      0.191      0.448      0.684      -0.524       0.695\n",
            "x6            -0.1747      0.220     -0.795      0.485      -0.874       0.525\n",
            "x7            -0.0324      0.153     -0.212      0.846      -0.519       0.455\n",
            "x8            -0.2321      0.207     -1.124      0.343      -0.890       0.425\n",
            "==============================================================================\n",
            "Omnibus:                        1.329   Durbin-Watson:                   1.594\n",
            "Prob(Omnibus):                  0.514   Jarque-Bera (JB):                0.875\n",
            "Skew:                          -0.339   Prob(JB):                        0.646\n",
            "Kurtosis:                       1.863   Cond. No.                     7.85e+04\n",
            "==============================================================================\n",
            "\n",
            "Notes:\n",
            "[1] Standard Errors assume that the covariance matrix of the errors is correctly specified.\n",
            "[2] The condition number is large, 7.85e+04. This might indicate that there are\n",
            "strong multicollinearity or other numerical problems.\n"
          ]
        },
        {
          "output_type": "stream",
          "name": "stderr",
          "text": [
            "/usr/local/lib/python3.9/dist-packages/scipy/stats/_stats_py.py:1736: UserWarning: kurtosistest only valid for n>=20 ... continuing anyway, n=12\n",
            "  warnings.warn(\"kurtosistest only valid for n>=20 ... continuing \"\n"
          ]
        }
      ]
    },
    {
      "cell_type": "markdown",
      "metadata": {
        "id": "iYoq4GaiAPsA"
      },
      "source": [
        "# Multiple Regression- issues"
      ]
    },
    {
      "cell_type": "code",
      "metadata": {
        "id": "b5UlwdLCALD4",
        "colab": {
          "base_uri": "https://localhost:8080/"
        },
        "outputId": "301604d6-2878-4f2c-ecb4-3a967db9abb7"
      },
      "source": [
        "#Import Regional Sales data\n",
        "regional_sales=pd.read_csv(\"https://raw.githubusercontent.com/venkatareddykonasani/Datasets/master/Regional_Sales/Sales_by_Region.csv\")\n",
        "\n",
        "#Variable names\n",
        "regional_sales.columns"
      ],
      "execution_count": 27,
      "outputs": [
        {
          "output_type": "execute_result",
          "data": {
            "text/plain": [
              "Index(['Region_id', 'Avg_Income', 'Avg_Expenses', 'Percent_Male',\n",
              "       'Percent_Female', 'Regional_Sales'],\n",
              "      dtype='object')"
            ]
          },
          "metadata": {},
          "execution_count": 27
        }
      ]
    },
    {
      "cell_type": "code",
      "metadata": {
        "id": "hc6i_1q-AbUT",
        "colab": {
          "base_uri": "https://localhost:8080/"
        },
        "outputId": "53b2c586-7cad-4424-d55d-efdf3af9e058"
      },
      "source": [
        "model1 = sm.ols(formula='Regional_Sales ~ Avg_Income+Avg_Expenses+Percent_Male+Percent_Female', data=regional_sales)\n",
        "fitted1 = model1.fit()\n",
        "print(fitted1.summary())"
      ],
      "execution_count": 28,
      "outputs": [
        {
          "output_type": "stream",
          "name": "stdout",
          "text": [
            "                            OLS Regression Results                            \n",
            "==============================================================================\n",
            "Dep. Variable:         Regional_Sales   R-squared:                       0.845\n",
            "Model:                            OLS   Adj. R-squared:                  0.838\n",
            "Method:                 Least Squares   F-statistic:                     124.0\n",
            "Date:                Thu, 30 Mar 2023   Prob (F-statistic):           5.71e-36\n",
            "Time:                        15:18:17   Log-Likelihood:                -955.00\n",
            "No. Observations:                  96   AIC:                             1920.\n",
            "Df Residuals:                      91   BIC:                             1933.\n",
            "Df Model:                           4                                         \n",
            "Covariance Type:            nonrobust                                         \n",
            "==================================================================================\n",
            "                     coef    std err          t      P>|t|      [0.025      0.975]\n",
            "----------------------------------------------------------------------------------\n",
            "Intercept      -4.318e+04   1.95e+04     -2.211      0.030    -8.2e+04   -4386.455\n",
            "Avg_Income        27.4480     13.252      2.071      0.041       1.125      53.771\n",
            "Avg_Expenses     -26.2249     20.191     -1.299      0.197     -66.332      13.883\n",
            "Percent_Male     414.4477    205.405      2.018      0.047       6.436     822.459\n",
            "Percent_Female   429.5928    181.552      2.366      0.020      68.962     790.223\n",
            "==============================================================================\n",
            "Omnibus:                        6.223   Durbin-Watson:                   2.216\n",
            "Prob(Omnibus):                  0.045   Jarque-Bera (JB):                4.548\n",
            "Skew:                           0.402   Prob(JB):                        0.103\n",
            "Kurtosis:                       2.299   Cond. No.                     3.48e+05\n",
            "==============================================================================\n",
            "\n",
            "Notes:\n",
            "[1] Standard Errors assume that the covariance matrix of the errors is correctly specified.\n",
            "[2] The condition number is large, 3.48e+05. This might indicate that there are\n",
            "strong multicollinearity or other numerical problems.\n"
          ]
        }
      ]
    },
    {
      "cell_type": "markdown",
      "metadata": {
        "id": "Ipa7gOWJm_gY"
      },
      "source": [
        "Model After dropping Avg Income"
      ]
    },
    {
      "cell_type": "code",
      "metadata": {
        "id": "U-H9it5jApez",
        "colab": {
          "base_uri": "https://localhost:8080/"
        },
        "outputId": "f8699cfc-bad1-43a5-96f9-fdfe0a542f64"
      },
      "source": [
        "model1 = sm.ols(formula='Regional_Sales ~ Avg_Expenses+Percent_Male+Percent_Female', data=regional_sales)\n",
        "fitted1 = model1.fit()\n",
        "print(fitted1.summary())"
      ],
      "execution_count": 29,
      "outputs": [
        {
          "output_type": "stream",
          "name": "stdout",
          "text": [
            "                            OLS Regression Results                            \n",
            "==============================================================================\n",
            "Dep. Variable:         Regional_Sales   R-squared:                       0.838\n",
            "Model:                            OLS   Adj. R-squared:                  0.832\n",
            "Method:                 Least Squares   F-statistic:                     158.3\n",
            "Date:                Thu, 30 Mar 2023   Prob (F-statistic):           3.35e-36\n",
            "Time:                        15:18:46   Log-Likelihood:                -957.21\n",
            "No. Observations:                  96   AIC:                             1922.\n",
            "Df Residuals:                      92   BIC:                             1933.\n",
            "Df Model:                           3                                         \n",
            "Covariance Type:            nonrobust                                         \n",
            "==================================================================================\n",
            "                     coef    std err          t      P>|t|      [0.025      0.975]\n",
            "----------------------------------------------------------------------------------\n",
            "Intercept      -3.879e+04   1.98e+04     -1.964      0.053    -7.8e+04     444.025\n",
            "Avg_Expenses      15.5707      0.723     21.549      0.000      14.136      17.006\n",
            "Percent_Male     395.6785    208.842      1.895      0.061     -19.100     810.457\n",
            "Percent_Female   399.9817    184.196      2.172      0.032      34.153     765.811\n",
            "==============================================================================\n",
            "Omnibus:                        5.390   Durbin-Watson:                   2.367\n",
            "Prob(Omnibus):                  0.068   Jarque-Bera (JB):                4.495\n",
            "Skew:                           0.431   Prob(JB):                        0.106\n",
            "Kurtosis:                       2.384   Cond. No.                     1.89e+05\n",
            "==============================================================================\n",
            "\n",
            "Notes:\n",
            "[1] Standard Errors assume that the covariance matrix of the errors is correctly specified.\n",
            "[2] The condition number is large, 1.89e+05. This might indicate that there are\n",
            "strong multicollinearity or other numerical problems.\n"
          ]
        }
      ]
    },
    {
      "cell_type": "markdown",
      "metadata": {
        "id": "ROTfGpTNnJsR"
      },
      "source": [
        "## VIF"
      ]
    },
    {
      "cell_type": "code",
      "metadata": {
        "id": "ZTTfVYFYAzGH"
      },
      "source": [
        "#Code for VIF Calculation\n",
        "#Writing a function to calculate the VIF values\n",
        "\n",
        "def vif_cal(input_data):\n",
        "    x_vars = input_data\n",
        "    xvar_names=x_vars.columns\n",
        "    for i in range(0,xvar_names.shape[0]):\n",
        "        y=x_vars[xvar_names[i]] \n",
        "        x=x_vars[xvar_names.drop(xvar_names[i])]\n",
        "        rsq=sm.ols(formula=\"y~x\", data=x_vars).fit().rsquared  \n",
        "        vif=round(1/(1-rsq),2)\n",
        "        print (xvar_names[i], \" VIF = \" , vif)"
      ],
      "execution_count": 30,
      "outputs": []
    },
    {
      "cell_type": "code",
      "metadata": {
        "id": "sOCQVbdbA6eL",
        "colab": {
          "base_uri": "https://localhost:8080/"
        },
        "outputId": "ec477292-2f25-48ea-be97-a0a0ea60ecb4"
      },
      "source": [
        "#Calculating VIF values using that function\n",
        "X_Data=regional_sales.drop([\"Region_id\",\"Regional_Sales\"],axis=1)\n",
        "vif_cal(input_data=X_Data)"
      ],
      "execution_count": 31,
      "outputs": [
        {
          "output_type": "stream",
          "name": "stdout",
          "text": [
            "Avg_Income  VIF =  863.43\n",
            "Avg_Expenses  VIF =  862.07\n",
            "Percent_Male  VIF =  11.31\n",
            "Percent_Female  VIF =  11.48\n"
          ]
        }
      ]
    },
    {
      "cell_type": "code",
      "metadata": {
        "id": "zt6gIIZSA9Ra",
        "colab": {
          "base_uri": "https://localhost:8080/"
        },
        "outputId": "53ecda6e-92c2-42d0-a6b1-cc29617fc4ed"
      },
      "source": [
        "vif_cal(input_data=X_Data.drop([\"Avg_Income\"], axis=1))"
      ],
      "execution_count": 32,
      "outputs": [
        {
          "output_type": "stream",
          "name": "stdout",
          "text": [
            "Avg_Expenses  VIF =  1.07\n",
            "Percent_Male  VIF =  11.29\n",
            "Percent_Female  VIF =  11.41\n"
          ]
        }
      ]
    },
    {
      "cell_type": "code",
      "metadata": {
        "id": "g2oafXb4A_hN",
        "colab": {
          "base_uri": "https://localhost:8080/"
        },
        "outputId": "2e3f82ee-c412-4a7a-de7a-22e96047b57a"
      },
      "source": [
        "vif_cal(input_data=X_Data.drop([\"Avg_Income\",\"Percent_Female\"], axis=1))"
      ],
      "execution_count": 33,
      "outputs": [
        {
          "output_type": "stream",
          "name": "stdout",
          "text": [
            "Avg_Expenses  VIF =  1.0\n",
            "Percent_Male  VIF =  1.0\n"
          ]
        }
      ]
    },
    {
      "cell_type": "code",
      "metadata": {
        "id": "P0suyPm5oIXA",
        "colab": {
          "base_uri": "https://localhost:8080/"
        },
        "outputId": "3a52aaa8-d635-40d1-acb6-c2c862923eeb"
      },
      "source": [
        "model1 = sm.ols(formula='Regional_Sales ~ Avg_Expenses+Percent_Male', data=regional_sales)\n",
        "fitted1 = model1.fit()\n",
        "print(fitted1.summary())"
      ],
      "execution_count": 34,
      "outputs": [
        {
          "output_type": "stream",
          "name": "stdout",
          "text": [
            "                            OLS Regression Results                            \n",
            "==============================================================================\n",
            "Dep. Variable:         Regional_Sales   R-squared:                       0.829\n",
            "Model:                            OLS   Adj. R-squared:                  0.826\n",
            "Method:                 Least Squares   F-statistic:                     226.0\n",
            "Date:                Thu, 30 Mar 2023   Prob (F-statistic):           1.95e-36\n",
            "Time:                        15:24:35   Log-Likelihood:                -959.61\n",
            "No. Observations:                  96   AIC:                             1925.\n",
            "Df Residuals:                      93   BIC:                             1933.\n",
            "Df Model:                           2                                         \n",
            "Covariance Type:            nonrobust                                         \n",
            "================================================================================\n",
            "                   coef    std err          t      P>|t|      [0.025      0.975]\n",
            "--------------------------------------------------------------------------------\n",
            "Intercept     2758.7784   5011.638      0.550      0.583   -7193.342    1.27e+04\n",
            "Avg_Expenses    15.1848      0.714     21.260      0.000      13.766      16.603\n",
            "Percent_Male   -37.2371     63.437     -0.587      0.559    -163.210      88.736\n",
            "==============================================================================\n",
            "Omnibus:                        9.744   Durbin-Watson:                   2.396\n",
            "Prob(Omnibus):                  0.008   Jarque-Bera (JB):                4.409\n",
            "Skew:                           0.275   Prob(JB):                        0.110\n",
            "Kurtosis:                       2.105   Cond. No.                     4.69e+04\n",
            "==============================================================================\n",
            "\n",
            "Notes:\n",
            "[1] Standard Errors assume that the covariance matrix of the errors is correctly specified.\n",
            "[2] The condition number is large, 4.69e+04. This might indicate that there are\n",
            "strong multicollinearity or other numerical problems.\n"
          ]
        }
      ]
    },
    {
      "cell_type": "markdown",
      "metadata": {
        "id": "F4AMj-H2BDSu"
      },
      "source": [
        "# Multiple Regression model building steps"
      ]
    },
    {
      "cell_type": "code",
      "metadata": {
        "id": "Vn4vQfXuBA9J",
        "colab": {
          "base_uri": "https://localhost:8080/"
        },
        "outputId": "df6d2854-d765-4752-ba7e-fc1ad0eaac1b"
      },
      "source": [
        "Webpage_Product_Sales=pd.read_csv(\"https://raw.githubusercontent.com/venkatareddykonasani/Datasets/master/Webpage_Product_Sales/Webpage_Product_Sales.csv\")\n",
        "Webpage_Product_Sales.shape\n",
        "Webpage_Product_Sales.columns"
      ],
      "execution_count": 35,
      "outputs": [
        {
          "output_type": "execute_result",
          "data": {
            "text/plain": [
              "Index(['ID', 'DayofMonth', 'Weekday', 'Month', 'Social_Network_Ref_links',\n",
              "       'Online_Ad_Paid_ref_links', 'Clicks_From_Serach_Engine',\n",
              "       'Special_Discount', 'Holiday', 'Server_Down_time_Sec', 'Web_UI_Score',\n",
              "       'Sales'],\n",
              "      dtype='object')"
            ]
          },
          "metadata": {},
          "execution_count": 35
        }
      ]
    },
    {
      "cell_type": "code",
      "metadata": {
        "id": "PkD4fxW4BOgB",
        "colab": {
          "base_uri": "https://localhost:8080/"
        },
        "outputId": "73ed50ee-51cc-481a-8c40-b557cc40675f"
      },
      "source": [
        "model1 = sm.ols(formula='Sales ~ Web_UI_Score+Server_Down_time_Sec+Holiday+Special_Discount+Clicks_From_Serach_Engine+Online_Ad_Paid_ref_links+Social_Network_Ref_links+Month+Weekday+DayofMonth', data=Webpage_Product_Sales)\n",
        "fitted1 = model1.fit()\n",
        "print(fitted1.summary())"
      ],
      "execution_count": 36,
      "outputs": [
        {
          "output_type": "stream",
          "name": "stdout",
          "text": [
            "                            OLS Regression Results                            \n",
            "==============================================================================\n",
            "Dep. Variable:                  Sales   R-squared:                       0.818\n",
            "Model:                            OLS   Adj. R-squared:                  0.815\n",
            "Method:                 Least Squares   F-statistic:                     298.4\n",
            "Date:                Thu, 30 Mar 2023   Prob (F-statistic):          5.54e-238\n",
            "Time:                        15:32:35   Log-Likelihood:                -6456.7\n",
            "No. Observations:                 675   AIC:                         1.294e+04\n",
            "Df Residuals:                     664   BIC:                         1.299e+04\n",
            "Df Model:                          10                                         \n",
            "Covariance Type:            nonrobust                                         \n",
            "=============================================================================================\n",
            "                                coef    std err          t      P>|t|      [0.025      0.975]\n",
            "---------------------------------------------------------------------------------------------\n",
            "Intercept                  6545.8922   1286.240      5.089      0.000    4020.304    9071.481\n",
            "Web_UI_Score                 -6.2582     11.545     -0.542      0.588     -28.928      16.412\n",
            "Server_Down_time_Sec       -134.0441     14.009     -9.569      0.000    -161.551    -106.537\n",
            "Holiday                    1.877e+04    683.077     27.477      0.000    1.74e+04    2.01e+04\n",
            "Special_Discount           4718.3978    402.019     11.737      0.000    3929.016    5507.780\n",
            "Clicks_From_Serach_Engine    -0.1258      0.944     -0.133      0.894      -1.980       1.728\n",
            "Online_Ad_Paid_ref_links      6.1557      1.002      6.142      0.000       4.188       8.124\n",
            "Social_Network_Ref_links      6.6841      0.411     16.261      0.000       5.877       7.491\n",
            "Month                       481.0294     41.508     11.589      0.000     399.527     562.532\n",
            "Weekday                    1355.2153     67.224     20.160      0.000    1223.218    1487.213\n",
            "DayofMonth                   47.0579     15.198      3.096      0.002      17.216      76.900\n",
            "==============================================================================\n",
            "Omnibus:                       40.759   Durbin-Watson:                   1.356\n",
            "Prob(Omnibus):                  0.000   Jarque-Bera (JB):              102.136\n",
            "Skew:                           0.297   Prob(JB):                     6.63e-23\n",
            "Kurtosis:                       4.811   Cond. No.                     2.57e+04\n",
            "==============================================================================\n",
            "\n",
            "Notes:\n",
            "[1] Standard Errors assume that the covariance matrix of the errors is correctly specified.\n",
            "[2] The condition number is large, 2.57e+04. This might indicate that there are\n",
            "strong multicollinearity or other numerical problems.\n"
          ]
        }
      ]
    },
    {
      "cell_type": "code",
      "metadata": {
        "id": "4B4MbKtvhnqT",
        "colab": {
          "base_uri": "https://localhost:8080/"
        },
        "outputId": "8c01f42c-8fcd-4bda-e4e7-c90a89812107"
      },
      "source": [
        "model1 = sm.ols(formula='Sales ~ Web_UI_Score+Server_Down_time_Sec+Holiday+Special_Discount+Online_Ad_Paid_ref_links+Social_Network_Ref_links+Month+Weekday+DayofMonth', data=Webpage_Product_Sales)\n",
        "fitted1 = model1.fit()\n",
        "print(fitted1.summary())"
      ],
      "execution_count": 37,
      "outputs": [
        {
          "output_type": "stream",
          "name": "stdout",
          "text": [
            "                            OLS Regression Results                            \n",
            "==============================================================================\n",
            "Dep. Variable:                  Sales   R-squared:                       0.818\n",
            "Model:                            OLS   Adj. R-squared:                  0.815\n",
            "Method:                 Least Squares   F-statistic:                     332.0\n",
            "Date:                Thu, 30 Mar 2023   Prob (F-statistic):          2.98e-239\n",
            "Time:                        15:33:02   Log-Likelihood:                -6456.7\n",
            "No. Observations:                 675   AIC:                         1.293e+04\n",
            "Df Residuals:                     665   BIC:                         1.298e+04\n",
            "Df Model:                           9                                         \n",
            "Covariance Type:            nonrobust                                         \n",
            "============================================================================================\n",
            "                               coef    std err          t      P>|t|      [0.025      0.975]\n",
            "--------------------------------------------------------------------------------------------\n",
            "Intercept                 6598.7469   1222.658      5.397      0.000    4198.012    8999.482\n",
            "Web_UI_Score                -6.3332     11.523     -0.550      0.583     -28.959      16.293\n",
            "Server_Down_time_Sec      -133.9518     13.981     -9.581      0.000    -161.405    -106.499\n",
            "Holiday                   1.877e+04    681.292     27.557      0.000    1.74e+04    2.01e+04\n",
            "Special_Discount          4713.9295    400.323     11.775      0.000    3927.881    5499.978\n",
            "Online_Ad_Paid_ref_links     6.0279      0.291     20.740      0.000       5.457       6.599\n",
            "Social_Network_Ref_links     6.6872      0.410     16.307      0.000       5.882       7.492\n",
            "Month                      480.6876     41.398     11.611      0.000     399.401     561.974\n",
            "Weekday                   1355.2536     67.174     20.175      0.000    1223.355    1487.152\n",
            "DayofMonth                  47.0168     15.184      3.097      0.002      17.203      76.831\n",
            "==============================================================================\n",
            "Omnibus:                       40.826   Durbin-Watson:                   1.356\n",
            "Prob(Omnibus):                  0.000   Jarque-Bera (JB):              102.313\n",
            "Skew:                           0.298   Prob(JB):                     6.07e-23\n",
            "Kurtosis:                       4.812   Cond. No.                     1.94e+04\n",
            "==============================================================================\n",
            "\n",
            "Notes:\n",
            "[1] Standard Errors assume that the covariance matrix of the errors is correctly specified.\n",
            "[2] The condition number is large, 1.94e+04. This might indicate that there are\n",
            "strong multicollinearity or other numerical problems.\n"
          ]
        }
      ]
    },
    {
      "cell_type": "code",
      "metadata": {
        "id": "R7UvipUiBTVh",
        "colab": {
          "base_uri": "https://localhost:8080/"
        },
        "outputId": "4d60f633-c27f-4190-e057-e20d3c119df4"
      },
      "source": [
        "#VIF\n",
        "vif_cal(Webpage_Product_Sales.drop([\"Clicks_From_Serach_Engine\"], axis=1))"
      ],
      "execution_count": 42,
      "outputs": [
        {
          "output_type": "stream",
          "name": "stdout",
          "text": [
            "ID  VIF =  1.58\n",
            "DayofMonth  VIF =  1.02\n",
            "Weekday  VIF =  1.83\n",
            "Month  VIF =  1.27\n",
            "Social_Network_Ref_links  VIF =  1.5\n",
            "Online_Ad_Paid_ref_links  VIF =  1.89\n",
            "Special_Discount  VIF =  1.73\n",
            "Holiday  VIF =  3.44\n",
            "Server_Down_time_Sec  VIF =  1.2\n",
            "Web_UI_Score  VIF =  1.02\n",
            "Sales  VIF =  7.38\n"
          ]
        }
      ]
    },
    {
      "cell_type": "code",
      "metadata": {
        "id": "FOSR-tYzBVeb",
        "colab": {
          "base_uri": "https://localhost:8080/"
        },
        "outputId": "17d98499-92ec-46b7-bc92-6439455d0fe1"
      },
      "source": [
        "model1 = sm.ols(formula='Sales ~ Web_UI_Score+Server_Down_time_Sec+Holiday+Special_Discount+Online_Ad_Paid_ref_links+Social_Network_Ref_links+Month+Weekday+DayofMonth', data=Webpage_Product_Sales)\n",
        "fitted1 = model1.fit()\n",
        "print(fitted1.summary())"
      ],
      "execution_count": 40,
      "outputs": [
        {
          "output_type": "stream",
          "name": "stdout",
          "text": [
            "                            OLS Regression Results                            \n",
            "==============================================================================\n",
            "Dep. Variable:                  Sales   R-squared:                       0.818\n",
            "Model:                            OLS   Adj. R-squared:                  0.815\n",
            "Method:                 Least Squares   F-statistic:                     332.0\n",
            "Date:                Thu, 30 Mar 2023   Prob (F-statistic):          2.98e-239\n",
            "Time:                        15:33:54   Log-Likelihood:                -6456.7\n",
            "No. Observations:                 675   AIC:                         1.293e+04\n",
            "Df Residuals:                     665   BIC:                         1.298e+04\n",
            "Df Model:                           9                                         \n",
            "Covariance Type:            nonrobust                                         \n",
            "============================================================================================\n",
            "                               coef    std err          t      P>|t|      [0.025      0.975]\n",
            "--------------------------------------------------------------------------------------------\n",
            "Intercept                 6598.7469   1222.658      5.397      0.000    4198.012    8999.482\n",
            "Web_UI_Score                -6.3332     11.523     -0.550      0.583     -28.959      16.293\n",
            "Server_Down_time_Sec      -133.9518     13.981     -9.581      0.000    -161.405    -106.499\n",
            "Holiday                   1.877e+04    681.292     27.557      0.000    1.74e+04    2.01e+04\n",
            "Special_Discount          4713.9295    400.323     11.775      0.000    3927.881    5499.978\n",
            "Online_Ad_Paid_ref_links     6.0279      0.291     20.740      0.000       5.457       6.599\n",
            "Social_Network_Ref_links     6.6872      0.410     16.307      0.000       5.882       7.492\n",
            "Month                      480.6876     41.398     11.611      0.000     399.401     561.974\n",
            "Weekday                   1355.2536     67.174     20.175      0.000    1223.355    1487.152\n",
            "DayofMonth                  47.0168     15.184      3.097      0.002      17.203      76.831\n",
            "==============================================================================\n",
            "Omnibus:                       40.826   Durbin-Watson:                   1.356\n",
            "Prob(Omnibus):                  0.000   Jarque-Bera (JB):              102.313\n",
            "Skew:                           0.298   Prob(JB):                     6.07e-23\n",
            "Kurtosis:                       4.812   Cond. No.                     1.94e+04\n",
            "==============================================================================\n",
            "\n",
            "Notes:\n",
            "[1] Standard Errors assume that the covariance matrix of the errors is correctly specified.\n",
            "[2] The condition number is large, 1.94e+04. This might indicate that there are\n",
            "strong multicollinearity or other numerical problems.\n"
          ]
        }
      ]
    }
  ]
}
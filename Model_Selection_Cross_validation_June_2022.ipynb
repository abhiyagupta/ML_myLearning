{
  "nbformat": 4,
  "nbformat_minor": 0,
  "metadata": {
    "colab": {
      "provenance": [],
      "toc_visible": true
    },
    "kernelspec": {
      "name": "python3",
      "display_name": "Python 3"
    },
    "language_info": {
      "name": "python"
    }
  },
  "cells": [
    {
      "cell_type": "markdown",
      "metadata": {
        "id": "PjDfX-qU7-jm"
      },
      "source": [
        "[statinfer.com](https://statinfer.com/)"
      ]
    },
    {
      "cell_type": "markdown",
      "metadata": {
        "id": "AZ5UWallNWDm"
      },
      "source": [
        "# Model Selection Cross validation"
      ]
    },
    {
      "cell_type": "code",
      "metadata": {
        "id": "-3I2xHju78yR"
      },
      "source": [
        "import sklearn as sk\n",
        "import pandas as pd\n",
        "import numpy as np"
      ],
      "execution_count": null,
      "outputs": []
    },
    {
      "cell_type": "markdown",
      "metadata": {
        "id": "-fqcF5108R-f"
      },
      "source": [
        "# Data Importing"
      ]
    },
    {
      "cell_type": "code",
      "metadata": {
        "id": "tHDjDud78M8H"
      },
      "source": [
        "import pandas as pd\n",
        "loans=pd.read_csv(\"https://raw.githubusercontent.com/venkatareddykonasani/Datasets/master/Credit_Risk_Cleaned/Cleaned_cs_training.csv\")"
      ],
      "execution_count": 2,
      "outputs": []
    },
    {
      "cell_type": "code",
      "metadata": {
        "id": "_MKuTqJr8chG"
      },
      "source": [
        "loans.info()"
      ],
      "execution_count": null,
      "outputs": []
    },
    {
      "cell_type": "markdown",
      "source": [
        "CODE FOR WRTTING ALL VARIBALE/COLUMN NAMES BESIDES TARGET VARIBALE"
      ],
      "metadata": {
        "id": "B1fz0r2oiZmc"
      }
    },
    {
      "cell_type": "code",
      "metadata": {
        "id": "dJNJzqIdsltX"
      },
      "source": [
        "## Function for OLS formula\n",
        "def ols_formula(df, dependent_var, *excluded_cols):\n",
        "    '''\n",
        "    Generates the y~X style formula for statsmodels (patsy) given\n",
        "    the dataframe, dependent variable and optional excluded columns\n",
        "    as strings\n",
        "    '''\n",
        "    df_columns = list(df.columns.values)\n",
        "    df_columns.remove(dependent_var)\n",
        "    for col in excluded_cols:\n",
        "        df_columns.remove(col)\n",
        "    return dependent_var + ' ~ ' + ' + '.join(df_columns)"
      ],
      "execution_count": 3,
      "outputs": []
    },
    {
      "cell_type": "code",
      "metadata": {
        "id": "WdmZqxdusomK",
        "colab": {
          "base_uri": "https://localhost:8080/"
        },
        "outputId": "755942f5-9190-4788-9194-6433273c730b"
      },
      "source": [
        "model_formula=ols_formula(loans.iloc[:,1:], dependent_var=\"SeriousDlqin2yrs\")\n",
        "print(model_formula)"
      ],
      "execution_count": 4,
      "outputs": [
        {
          "output_type": "stream",
          "name": "stdout",
          "text": [
            "SeriousDlqin2yrs ~ util_new + age_new + num_30_59_dpd_new + DebtRatio_new_ind + DebtRatio_new + MonthlyIncome_ind + MonthlyIncome_new + Open_Credit_lines_new + num_90_dpd_new + Real_estate_loans_new + num_60_dpd_new + NumberOfDependents_new\n"
          ]
        }
      ]
    },
    {
      "cell_type": "markdown",
      "metadata": {
        "id": "o02PLtq-71YC"
      },
      "source": [
        "# Sensitivity and Specificity"
      ]
    },
    {
      "cell_type": "code",
      "metadata": {
        "id": "YJdBYHjN8qNu",
        "colab": {
          "base_uri": "https://localhost:8080/"
        },
        "outputId": "2afe286b-3cea-4166-b9e5-e7ed0b898404"
      },
      "source": [
        "#LOGISTIC REGRESSION LOGIT FIT - FOR P VALUES \n",
        "#INDIVIDUAL IMPACT\n",
        "\n",
        "import statsmodels.formula.api as sm\n",
        "\n",
        "risk_model=sm.logit(model_formula, data=loans)\n",
        "results=risk_model.fit()\n",
        "print(results.summary())"
      ],
      "execution_count": 5,
      "outputs": [
        {
          "output_type": "stream",
          "name": "stdout",
          "text": [
            "Optimization terminated successfully.\n",
            "         Current function value: 0.193444\n",
            "         Iterations 8\n",
            "                           Logit Regression Results                           \n",
            "==============================================================================\n",
            "Dep. Variable:       SeriousDlqin2yrs   No. Observations:               150000\n",
            "Model:                          Logit   Df Residuals:                   149987\n",
            "Method:                           MLE   Df Model:                           12\n",
            "Date:                Mon, 03 Apr 2023   Pseudo R-squ.:                  0.2117\n",
            "Time:                        12:33:18   Log-Likelihood:                -29017.\n",
            "converged:                       True   LL-Null:                       -36808.\n",
            "Covariance Type:            nonrobust   LLR p-value:                     0.000\n",
            "==========================================================================================\n",
            "                             coef    std err          z      P>|z|      [0.025      0.975]\n",
            "------------------------------------------------------------------------------------------\n",
            "Intercept                 -3.5074      0.080    -43.799      0.000      -3.664      -3.350\n",
            "util_new                   1.4764      0.033     44.414      0.000       1.411       1.542\n",
            "age_new                   -0.0192      0.001    -20.566      0.000      -0.021      -0.017\n",
            "num_30_59_dpd_new          0.4364      0.011     39.272      0.000       0.415       0.458\n",
            "DebtRatio_new_ind          0.4078      0.046      8.821      0.000       0.317       0.498\n",
            "DebtRatio_new              0.7831      0.067     11.734      0.000       0.652       0.914\n",
            "MonthlyIncome_ind          0.4513      0.053      8.579      0.000       0.348       0.554\n",
            "MonthlyIncome_new      -1.874e-05    4.5e-06     -4.162      0.000   -2.76e-05   -9.92e-06\n",
            "Open_Credit_lines_new      0.0188      0.003      5.869      0.000       0.013       0.025\n",
            "num_90_dpd_new             0.7149      0.016     43.541      0.000       0.683       0.747\n",
            "Real_estate_loans_new     -0.0828      0.016     -5.096      0.000      -0.115      -0.051\n",
            "num_60_dpd_new             0.5795      0.023     25.640      0.000       0.535       0.624\n",
            "NumberOfDependents_new     0.0574      0.010      5.697      0.000       0.038       0.077\n",
            "==========================================================================================\n"
          ]
        }
      ]
    },
    {
      "cell_type": "code",
      "metadata": {
        "id": "_zQg-ghT8qqb",
        "colab": {
          "base_uri": "https://localhost:8080/"
        },
        "outputId": "0b20c9e9-259b-4a9e-a592-e2fa7e678070"
      },
      "source": [
        "#####Create the confusion matrix\n",
        "###predict the variable active customer from logistic fit####\n",
        "predictions = results.predict()\n",
        "print(predictions[0:10])\n",
        "len(predictions)"
      ],
      "execution_count": null,
      "outputs": [
        {
          "output_type": "stream",
          "name": "stdout",
          "text": [
            "[0.16607312 0.03823372 0.0952147  0.02527758 0.08018387 0.0839387\n",
            " 0.02279788 0.01345062 0.02385612 0.07162216]\n"
          ]
        },
        {
          "output_type": "execute_result",
          "data": {
            "text/plain": [
              "150000"
            ]
          },
          "metadata": {},
          "execution_count": 32
        }
      ]
    },
    {
      "cell_type": "code",
      "metadata": {
        "id": "vp1z6DFy8wjQ",
        "colab": {
          "base_uri": "https://localhost:8080/"
        },
        "outputId": "0d7a1590-431e-4e4d-b4d1-1d9b8dc216bf"
      },
      "source": [
        "### Converting predicted values into classes using threshold\n",
        "threshold=0.5\n",
        "predicted_class1=[ 0 if x < threshold else 1 for x in predictions]\n",
        "print(predicted_class1[0:10])"
      ],
      "execution_count": null,
      "outputs": [
        {
          "output_type": "stream",
          "name": "stdout",
          "text": [
            "[0, 0, 0, 0, 0, 0, 0, 0, 0, 0]\n"
          ]
        }
      ]
    },
    {
      "cell_type": "code",
      "metadata": {
        "id": "3--_3_QK8y2O",
        "colab": {
          "base_uri": "https://localhost:8080/"
        },
        "outputId": "570ad253-24be-4ebe-e0c3-0dc5c805364d"
      },
      "source": [
        "from sklearn.metrics import confusion_matrix\n",
        "\n",
        "cm1 = confusion_matrix(loans[\"SeriousDlqin2yrs\"],predicted_class1)\n",
        "print('Confusion Matrix : \\n', cm1)\n",
        "\n",
        "total1=sum(sum(cm1))\n",
        "#####from confusion matrix calculate accuracy\n",
        "accuracy1=(cm1[0,0]+cm1[1,1])/total1\n",
        "print ('Accuracy : ', accuracy1)\n",
        "\n",
        "sensitivity1 = cm1[0,0]/(cm1[0,0]+cm1[0,1])\n",
        "print('Sensitivity : ', sensitivity1 )\n",
        "\n",
        "specificity1 = cm1[1,1]/(cm1[1,0]+cm1[1,1])\n",
        "print('Specificity : ', specificity1)"
      ],
      "execution_count": null,
      "outputs": [
        {
          "output_type": "stream",
          "name": "stdout",
          "text": [
            "Confusion Matrix : \n",
            " [[138965   1009]\n",
            " [  8526   1500]]\n",
            "Accuracy :  0.9364333333333333\n",
            "Sensitivity :  0.9927915184248504\n",
            "Specificity :  0.14961101137043686\n"
          ]
        }
      ]
    },
    {
      "cell_type": "markdown",
      "metadata": {
        "id": "TN1dMCil-YKC"
      },
      "source": [
        "## Threshold"
      ]
    },
    {
      "cell_type": "code",
      "metadata": {
        "id": "20SBja2n-eiJ",
        "colab": {
          "base_uri": "https://localhost:8080/"
        },
        "outputId": "e1d13f2b-a8bb-4cc2-ef47-ade0433ef19a"
      },
      "source": [
        "###Sensitivity vs Specificity with Different Thresholds\n",
        "### Converting predicted values into classes using new threshold\n",
        "threshold=0.2\n",
        "predicted_class1=[ 0 if x < threshold else 1 for x in predictions]\n",
        "\n",
        "#Change in Confusion Matrix, Accuracy and Sensitivity-Specificity\n",
        "#Confusion matrix, Accuracy, sensitivity and specificity\n",
        "cm1 = confusion_matrix(loans[\"SeriousDlqin2yrs\"],predicted_class1)\n",
        "print('Confusion Matrix : \\n', cm1)\n",
        "\n",
        "total1=sum(sum(cm1))\n",
        "#####from confusion matrix calculate accuracy\n",
        "accuracy1=(cm1[0,0]+cm1[1,1])/total1\n",
        "print ('Accuracy : ', accuracy1)\n",
        "\n",
        "sensitivity1 = cm1[0,0]/(cm1[0,0]+cm1[0,1])\n",
        "print('Sensitivity : ', sensitivity1 )\n",
        "\n",
        "specificity1 = cm1[1,1]/(cm1[1,0]+cm1[1,1])\n",
        "print('Specificity : ', specificity1)"
      ],
      "execution_count": null,
      "outputs": [
        {
          "output_type": "stream",
          "name": "stdout",
          "text": [
            "Confusion Matrix : \n",
            " [[135485   4489]\n",
            " [  6491   3535]]\n",
            "Accuracy :  0.9268\n",
            "Sensitivity :  0.9679297583836999\n",
            "Specificity :  0.3525832834629962\n"
          ]
        }
      ]
    },
    {
      "cell_type": "code",
      "metadata": {
        "id": "qP5Kn32f83bT",
        "colab": {
          "base_uri": "https://localhost:8080/"
        },
        "outputId": "d90c976c-a705-414b-823d-b2843b7e3385"
      },
      "source": [
        "###Sensitivity vs Specificity with Different Thresholds\n",
        "### Converting predicted values into classes using new threshold\n",
        "threshold=0.8\n",
        "predicted_class1=[ 0 if x < threshold else 1 for x in predictions]\n",
        "\n",
        "#Change in Confusion Matrix, Accuracy and Sensitivity-Specificity\n",
        "#Confusion matrix, Accuracy, sensitivity and specificity\n",
        "cm1 = confusion_matrix(loans[\"SeriousDlqin2yrs\"],predicted_class1)\n",
        "print('Confusion Matrix : \\n', cm1)\n",
        "\n",
        "total1=sum(sum(cm1))\n",
        "#####from confusion matrix calculate accuracy\n",
        "accuracy1=(cm1[0,0]+cm1[1,1])/total1\n",
        "print ('Accuracy : ', accuracy1)\n",
        "\n",
        "sensitivity1 = cm1[0,0]/(cm1[0,0]+cm1[0,1])\n",
        "print('Sensitivity : ', sensitivity1 )\n",
        "\n",
        "specificity1 = cm1[1,1]/(cm1[1,0]+cm1[1,1])\n",
        "print('Specificity : ', specificity1)"
      ],
      "execution_count": null,
      "outputs": [
        {
          "output_type": "stream",
          "name": "stdout",
          "text": [
            "Confusion Matrix : \n",
            " [[139625    349]\n",
            " [  9400    626]]\n",
            "Accuracy :  0.9350066666666667\n",
            "Sensitivity :  0.9975066798119651\n",
            "Specificity :  0.06243766207859565\n"
          ]
        }
      ]
    },
    {
      "cell_type": "markdown",
      "metadata": {
        "id": "MjQYtR1NAf3k"
      },
      "source": [
        "# Precision, Recall and F1 Score"
      ]
    },
    {
      "cell_type": "code",
      "metadata": {
        "id": "uYoHBGuwAiRv",
        "colab": {
          "base_uri": "https://localhost:8080/"
        },
        "outputId": "31a15980-c090-4f0d-f657-533de54c3b29"
      },
      "source": [
        "predictions = results.predict()\n",
        "### Converting predicted values into classes using threshold\n",
        "threshold=0.2\n",
        "predicted_class1=[ 0 if x < threshold else 1 for x in predictions]\n",
        "\n",
        "cm1 = confusion_matrix(loans[\"SeriousDlqin2yrs\"],predicted_class1)\n",
        "print('Confusion Matrix : \\n', cm1)\n",
        "\n",
        "total1=sum(sum(cm1))\n",
        "#####from confusion matrix calculate accuracy\n",
        "accuracy1=(cm1[0,0]+cm1[1,1])/total1\n",
        "print ('Accuracy : ', accuracy1)\n",
        "\n",
        "Precision_Class0 = cm1[0,0]/(cm1[0,0]+cm1[1,0])\n",
        "print('Precision_Class0 : ', Precision_Class0 )\n",
        "\n",
        "Recall_Class0 = cm1[0,0]/(cm1[0,0]+cm1[0,1])\n",
        "print('Recall_Class0 : ', Recall_Class0 )\n",
        "\n",
        "F1_Class0 = 2/((1/Precision_Class0)+(1/Recall_Class0))\n",
        "print('F1_Class0 : ', F1_Class0 )\n",
        "\n",
        "\n",
        "Precision_Class1 = cm1[1,1]/(cm1[0,1]+cm1[1,1])\n",
        "print('Precision_Class1 : ', Precision_Class1 )\n",
        "\n",
        "Recall_Class1 = cm1[1,1]/(cm1[1,0]+cm1[1,1])\n",
        "print('Recall_Class1 : ', Recall_Class1 )\n",
        "\n",
        "F1_Class1 = 2/((1/Precision_Class1)+(1/Recall_Class1))\n",
        "print('F1_Class1 : ', F1_Class1 )\n",
        "\n"
      ],
      "execution_count": null,
      "outputs": [
        {
          "output_type": "stream",
          "name": "stdout",
          "text": [
            "Confusion Matrix : \n",
            " [[135485   4489]\n",
            " [  6491   3535]]\n",
            "Accuracy :  0.9268\n",
            "Precision_Class0 :  0.9542810052403223\n",
            "Recall_Class0 :  0.9679297583836999\n",
            "F1_Class0 :  0.9610569249866998\n",
            "Precision_Class1 :  0.4405533399800598\n",
            "Recall_Class1 :  0.3525832834629962\n",
            "F1_Class1 :  0.39168975069252077\n"
          ]
        }
      ]
    },
    {
      "cell_type": "code",
      "metadata": {
        "id": "40euqVLBCqOY",
        "colab": {
          "base_uri": "https://localhost:8080/"
        },
        "outputId": "9df3bc5c-e255-4c84-f58e-651258234112"
      },
      "source": [
        "from sklearn.metrics import classification_report\n",
        "print(classification_report(loans[\"SeriousDlqin2yrs\"],predicted_class1))"
      ],
      "execution_count": null,
      "outputs": [
        {
          "output_type": "stream",
          "name": "stdout",
          "text": [
            "              precision    recall  f1-score   support\n",
            "\n",
            "           0       0.94      0.99      0.97    139974\n",
            "           1       0.60      0.15      0.24     10026\n",
            "\n",
            "    accuracy                           0.94    150000\n",
            "   macro avg       0.77      0.57      0.60    150000\n",
            "weighted avg       0.92      0.94      0.92    150000\n",
            "\n"
          ]
        }
      ]
    },
    {
      "cell_type": "markdown",
      "metadata": {
        "id": "PMetlMPF-jrm"
      },
      "source": [
        "# ROC"
      ]
    },
    {
      "cell_type": "code",
      "metadata": {
        "id": "AlOto3GF-iLQ",
        "colab": {
          "base_uri": "https://localhost:8080/"
        },
        "outputId": "245b97f2-ba69-4bd0-c4ac-a5181ca69d0e"
      },
      "source": [
        "from sklearn.metrics import roc_curve, auc\n",
        "import matplotlib.pyplot as plt\n",
        "\n",
        "actual = loans[\"SeriousDlqin2yrs\"]\n",
        "false_positive_rate, true_positive_rate, thresholds = roc_curve(actual, predictions)\n",
        "print(\"false_positive_rate\", false_positive_rate)\n",
        "print(\"true_positive_rate\", true_positive_rate)\n",
        "print(\"thresholds\", thresholds)"
      ],
      "execution_count": null,
      "outputs": [
        {
          "output_type": "stream",
          "name": "stdout",
          "text": [
            "false_positive_rate [0.         0.         0.         ... 0.99996428 0.99998571 1.        ]\n",
            "true_positive_rate [0.00000000e+00 9.97406742e-05 1.99481348e-04 ... 1.00000000e+00\n",
            " 1.00000000e+00 1.00000000e+00]\n",
            "thresholds [1.99992317 0.99992317 0.99977919 ... 0.00518339 0.00518171 0.00502586]\n"
          ]
        }
      ]
    },
    {
      "cell_type": "code",
      "source": [
        "import matplotlib.pyplot as plt\n",
        "plt.title('ROC Curve')\n",
        "#Drawing ROC Curve\n",
        "plt.plot(false_positive_rate, true_positive_rate)\n",
        "\n",
        "#X and Y  Axis Limits \n",
        "plt.xlim([-0,1])\n",
        "plt.ylim([-0,1])\n",
        "\n",
        "# Labels \n",
        "plt.ylabel('True Positive Rate(Sensitivity)')\n",
        "plt.xlabel('False Positive Rate(Specificity)')\n",
        "plt.show()"
      ],
      "metadata": {
        "id": "3z7X_qyOOHN2",
        "colab": {
          "base_uri": "https://localhost:8080/",
          "height": 472
        },
        "outputId": "e1731261-65ae-4c3e-f86a-bb742fe0a2f0"
      },
      "execution_count": null,
      "outputs": [
        {
          "output_type": "display_data",
          "data": {
            "text/plain": [
              "<Figure size 640x480 with 1 Axes>"
            ],
            "image/png": "[encoded data removed]"
          },
          "metadata": {}
        }
      ]
    },
    {
      "cell_type": "markdown",
      "metadata": {
        "id": "dUYqNswlADVW"
      },
      "source": [
        "## AUC"
      ]
    },
    {
      "cell_type": "code",
      "metadata": {
        "id": "Qqp-5-3mAAzi",
        "colab": {
          "base_uri": "https://localhost:8080/"
        },
        "outputId": "53c796b8-982b-4a97-8b34-a3205f70d713"
      },
      "source": [
        "roc_auc = auc(false_positive_rate, true_positive_rate)\n",
        "roc_auc"
      ],
      "execution_count": null,
      "outputs": [
        {
          "output_type": "execute_result",
          "data": {
            "text/plain": [
              "0.8419745700913577"
            ]
          },
          "metadata": {},
          "execution_count": 39
        }
      ]
    },
    {
      "cell_type": "markdown",
      "metadata": {
        "id": "Z4P3Tbhjwi47"
      },
      "source": [
        "# Handling Class Imbalance"
      ]
    },
    {
      "cell_type": "code",
      "metadata": {
        "id": "t9Bo2p2aIz0g",
        "colab": {
          "base_uri": "https://localhost:8080/"
        },
        "outputId": "7c6f7177-ce02-4662-a002-6d1b80d5831e"
      },
      "source": [
        "print(\"Actual Data :\", loans.shape)\n",
        "\n",
        "#Frequency count on target column\n",
        "freq=loans['SeriousDlqin2yrs'].value_counts()\n",
        "print(freq)\n",
        "print((freq/freq.sum())*100)\n",
        "\n",
        "#Classwise data\n",
        "credit_risk_class0 = loans[loans['SeriousDlqin2yrs'] == 0]\n",
        "credit_risk_class1 = loans[loans['SeriousDlqin2yrs'] == 1]\n",
        "\n",
        "print(\"Class0 Actual :\", credit_risk_class0.shape)\n",
        "print(\"Class1 Actual  :\", credit_risk_class1.shape)\n"
      ],
      "execution_count": null,
      "outputs": [
        {
          "output_type": "stream",
          "name": "stdout",
          "text": [
            "Actual Data : (150000, 14)\n",
            "0    139974\n",
            "1     10026\n",
            "Name: SeriousDlqin2yrs, dtype: int64\n",
            "0    93.316\n",
            "1     6.684\n",
            "Name: SeriousDlqin2yrs, dtype: float64\n",
            "Class0 Actual : (139974, 14)\n",
            "Class1 Actual  : (10026, 14)\n"
          ]
        }
      ]
    },
    {
      "cell_type": "markdown",
      "metadata": {
        "id": "vov3DqY5Ji3q"
      },
      "source": [
        "## Undersampling and Oversampling"
      ]
    },
    {
      "cell_type": "code",
      "metadata": {
        "id": "nUSlfFAMJmA8",
        "colab": {
          "base_uri": "https://localhost:8080/"
        },
        "outputId": "bafe33fe-30b0-426a-a018-d364ce7ba8f6"
      },
      "source": [
        "##Undersampling of class-0\n",
        "## Consider half of class-0\n",
        "credit_risk_class0_under = credit_risk_class0.sample(int(0.5*len(credit_risk_class0)))\n",
        "print(\"Class0 Undersample :\", credit_risk_class0_under.shape)\n",
        "\n",
        "##Oversampling of Class-1 \n",
        "# Lets increase the size by four times\n",
        "credit_risk_class1_over = credit_risk_class1.sample(4*len(credit_risk_class1),replace=True)\n",
        "print(\"Class1 Oversample :\", credit_risk_class1_over.shape)\n",
        "\n",
        "#Concatenate to create the final balanced data\n",
        "credit_risk_balanced=pd.concat([credit_risk_class0_under,credit_risk_class1_over])\n",
        "print(\"Final Balannced Data :\", credit_risk_balanced.shape)\n",
        "\n",
        "#Frequency count on target column in the balanced data\n",
        "freq=credit_risk_balanced['SeriousDlqin2yrs'].value_counts()\n",
        "print(freq)\n",
        "print((freq/freq.sum())*100)\n"
      ],
      "execution_count": null,
      "outputs": [
        {
          "output_type": "stream",
          "name": "stdout",
          "text": [
            "Class0 Undersample : (69987, 14)\n",
            "Class1 Oversample : (40104, 14)\n",
            "Final Balannced Data : (110091, 14)\n",
            "0    69987\n",
            "1    40104\n",
            "Name: SeriousDlqin2yrs, dtype: int64\n",
            "0    63.571954\n",
            "1    36.428046\n",
            "Name: SeriousDlqin2yrs, dtype: float64\n"
          ]
        }
      ]
    },
    {
      "cell_type": "markdown",
      "metadata": {
        "id": "BfFSo7i9KLI1"
      },
      "source": [
        "### Model with balanced data"
      ]
    },
    {
      "cell_type": "code",
      "metadata": {
        "id": "Fr37XKBGKDdi"
      },
      "source": [
        "model_formula=\"SeriousDlqin2yrs ~ util_new + age_new + num_30_59_dpd_new + DebtRatio_new_ind + DebtRatio_new + MonthlyIncome_ind + MonthlyIncome_new + Open_Credit_lines_new + num_90_dpd_new + Real_estate_loans_new + num_60_dpd_new + NumberOfDependents_new\""
      ],
      "execution_count": null,
      "outputs": []
    },
    {
      "cell_type": "code",
      "metadata": {
        "id": "wKcp7IMPKAB1",
        "colab": {
          "base_uri": "https://localhost:8080/"
        },
        "outputId": "1b9e047c-04b8-4155-ee0b-5bfa94825887"
      },
      "source": [
        "risk_model=sm.logit(model_formula, data=credit_risk_balanced)\n",
        "results=risk_model.fit()\n",
        "print(results.summary())"
      ],
      "execution_count": null,
      "outputs": [
        {
          "output_type": "stream",
          "name": "stdout",
          "text": [
            "Optimization terminated successfully.\n",
            "         Current function value: 0.475548\n",
            "         Iterations 7\n",
            "                           Logit Regression Results                           \n",
            "==============================================================================\n",
            "Dep. Variable:       SeriousDlqin2yrs   No. Observations:               110091\n",
            "Model:                          Logit   Df Residuals:                   110078\n",
            "Method:                           MLE   Df Model:                           12\n",
            "Date:                Mon, 03 Apr 2023   Pseudo R-squ.:                  0.2749\n",
            "Time:                        08:09:33   Log-Likelihood:                -52354.\n",
            "converged:                       True   LL-Null:                       -72202.\n",
            "Covariance Type:            nonrobust   LLR p-value:                     0.000\n",
            "==========================================================================================\n",
            "                             coef    std err          z      P>|z|      [0.025      0.975]\n",
            "------------------------------------------------------------------------------------------\n",
            "Intercept                 -1.6313      0.052    -31.217      0.000      -1.734      -1.529\n",
            "util_new                   1.6184      0.022     73.152      0.000       1.575       1.662\n",
            "age_new                   -0.0210      0.001    -34.955      0.000      -0.022      -0.020\n",
            "num_30_59_dpd_new          0.5838      0.010     60.089      0.000       0.565       0.603\n",
            "DebtRatio_new_ind          0.3763      0.031     11.977      0.000       0.315       0.438\n",
            "DebtRatio_new              0.6946      0.045     15.509      0.000       0.607       0.782\n",
            "MonthlyIncome_ind          0.4878      0.035     13.853      0.000       0.419       0.557\n",
            "MonthlyIncome_new      -2.091e-05   2.86e-06     -7.302      0.000   -2.65e-05   -1.53e-05\n",
            "Open_Credit_lines_new      0.0280      0.002     13.449      0.000       0.024       0.032\n",
            "num_90_dpd_new             0.9938      0.018     55.386      0.000       0.959       1.029\n",
            "Real_estate_loans_new     -0.0610      0.010     -5.828      0.000      -0.082      -0.040\n",
            "num_60_dpd_new             0.8867      0.022     41.098      0.000       0.844       0.929\n",
            "NumberOfDependents_new     0.0320      0.007      4.664      0.000       0.019       0.045\n",
            "==========================================================================================\n"
          ]
        }
      ]
    },
    {
      "cell_type": "markdown",
      "metadata": {
        "id": "fFlqLuCeKtly"
      },
      "source": [
        "#### Updated Sensitivity and Specificity"
      ]
    },
    {
      "cell_type": "code",
      "metadata": {
        "id": "LTj8IVjLKtCF",
        "colab": {
          "base_uri": "https://localhost:8080/"
        },
        "outputId": "55cdaa72-a93e-487d-c14a-18b68dff99a8"
      },
      "source": [
        "#####Create the confusion matrix\n",
        "###predict the variable active customer from logistic fit####\n",
        "predictions = results.predict()\n",
        "threshold=0.5\n",
        "predicted_class1=[ 0 if x < threshold else 1 for x in predictions]\n",
        "\n",
        "cm1 = confusion_matrix(credit_risk_balanced[\"SeriousDlqin2yrs\"],predicted_class1)\n",
        "print('Confusion Matrix : \\n', cm1)\n",
        "\n",
        "total1=sum(sum(cm1))\n",
        "#####from confusion matrix calculate accuracy\n",
        "accuracy1=(cm1[0,0]+cm1[1,1])/total1\n",
        "print ('Accuracy : ', accuracy1)\n",
        "\n",
        "sensitivity1 = cm1[0,0]/(cm1[0,0]+cm1[0,1])\n",
        "print('Sensitivity : ', sensitivity1 )\n",
        "\n",
        "specificity1 = cm1[1,1]/(cm1[1,0]+cm1[1,1])\n",
        "print('Specificity : ', specificity1)"
      ],
      "execution_count": null,
      "outputs": [
        {
          "output_type": "stream",
          "name": "stdout",
          "text": [
            "Confusion Matrix : \n",
            " [[63515  6472]\n",
            " [17611 22493]]\n",
            "Accuracy :  0.7812446067344287\n",
            "Sensitivity :  0.907525683341192\n",
            "Specificity :  0.5608667464592061\n"
          ]
        }
      ]
    },
    {
      "cell_type": "markdown",
      "metadata": {
        "id": "t9SuaBYCLhYX"
      },
      "source": [
        "#### Updated Precision, Recall and F1-Score"
      ]
    },
    {
      "cell_type": "code",
      "metadata": {
        "id": "dNJHnHsyLgyB",
        "colab": {
          "base_uri": "https://localhost:8080/"
        },
        "outputId": "843fd8db-f19b-42dc-a4dd-a2346d2feb1a"
      },
      "source": [
        "#####from confusion matrix calculate accuracy\n",
        "accuracy1=(cm1[0,0]+cm1[1,1])/total1\n",
        "print ('Accuracy : ', accuracy1)\n",
        "\n",
        "Precision_Class0 = cm1[0,0]/(cm1[0,0]+cm1[1,0])\n",
        "print('Precision_Class0 : ', Precision_Class0 )\n",
        "\n",
        "Recall_Class0 = cm1[0,0]/(cm1[0,0]+cm1[0,1])\n",
        "print('Recall_Class0 : ', Recall_Class0 )\n",
        "\n",
        "F1_Class0 = 2/((1/Precision_Class0)+(1/Recall_Class0))\n",
        "print('F1_Class0 : ', F1_Class0 )\n",
        "\n",
        "\n",
        "Precision_Class1 = cm1[1,1]/(cm1[0,1]+cm1[1,1])\n",
        "print('Precision_Class1 : ', Precision_Class1 )\n",
        "\n",
        "Recall_Class1 = cm1[1,1]/(cm1[1,0]+cm1[1,1])\n",
        "print('Recall_Class1 : ', Recall_Class1 )\n",
        "\n",
        "F1_Class1 = 2/((1/Precision_Class1)+(1/Recall_Class1))\n",
        "print('F1_Class1 : ', F1_Class1 )"
      ],
      "execution_count": null,
      "outputs": [
        {
          "output_type": "stream",
          "name": "stdout",
          "text": [
            "Accuracy :  0.7812446067344287\n",
            "Precision_Class0 :  0.7829179301333727\n",
            "Recall_Class0 :  0.907525683341192\n",
            "F1_Class0 :  0.8406291980173778\n",
            "Precision_Class1 :  0.7765579147246677\n",
            "Recall_Class1 :  0.5608667464592061\n",
            "F1_Class1 :  0.6513196947979557\n"
          ]
        }
      ]
    },
    {
      "cell_type": "code",
      "metadata": {
        "id": "ukVzaIqWNwXr",
        "colab": {
          "base_uri": "https://localhost:8080/"
        },
        "outputId": "65aadf1a-bf76-43f8-f283-e0f4f0dbe9e9"
      },
      "source": [
        "from sklearn.metrics import classification_report\n",
        "print(classification_report(credit_risk_balanced[\"SeriousDlqin2yrs\"],predicted_class1))"
      ],
      "execution_count": null,
      "outputs": [
        {
          "output_type": "stream",
          "name": "stdout",
          "text": [
            "              precision    recall  f1-score   support\n",
            "\n",
            "           0       0.78      0.91      0.84     69987\n",
            "           1       0.78      0.56      0.65     40104\n",
            "\n",
            "    accuracy                           0.78    110091\n",
            "   macro avg       0.78      0.73      0.75    110091\n",
            "weighted avg       0.78      0.78      0.77    110091\n",
            "\n"
          ]
        }
      ]
    },
    {
      "cell_type": "markdown",
      "source": [
        "## SMOTE for Handling Class Imbalance"
      ],
      "metadata": {
        "id": "F4NFdz9tT3DV"
      }
    },
    {
      "cell_type": "code",
      "source": [
        "print(\"Actual Data :\", loans.shape)\n",
        "\n",
        "#Frequency count on target column\n",
        "freq=loans['SeriousDlqin2yrs'].value_counts()\n",
        "print(freq)\n",
        "print((freq/freq.sum())*100)\n",
        "\n",
        "#Classwise data\n",
        "credit_risk_class0 = loans[loans['SeriousDlqin2yrs'] == 0]\n",
        "credit_risk_class1 = loans[loans['SeriousDlqin2yrs'] == 1]\n",
        "\n",
        "print(\"Class0 Actual :\", credit_risk_class0.shape)\n",
        "print(\"Class1 Actual  :\", credit_risk_class1.shape)\n"
      ],
      "metadata": {
        "id": "M5P5xf7aT8Jj",
        "colab": {
          "base_uri": "https://localhost:8080/"
        },
        "outputId": "0d0bddf6-17ae-4f3f-c326-6269f430db76"
      },
      "execution_count": 6,
      "outputs": [
        {
          "output_type": "stream",
          "name": "stdout",
          "text": [
            "Actual Data : (150000, 14)\n",
            "0    139974\n",
            "1     10026\n",
            "Name: SeriousDlqin2yrs, dtype: int64\n",
            "0    93.316\n",
            "1     6.684\n",
            "Name: SeriousDlqin2yrs, dtype: float64\n",
            "Class0 Actual : (139974, 14)\n",
            "Class1 Actual  : (10026, 14)\n"
          ]
        }
      ]
    },
    {
      "cell_type": "markdown",
      "source": [
        "### Visulaizing Imbalanced Data"
      ],
      "metadata": {
        "id": "Du8j76EjVsde"
      }
    },
    {
      "cell_type": "code",
      "source": [
        "import matplotlib.pyplot as plt\n",
        "loans1=loans.sample(5000)\n",
        "fig = plt.figure()\n",
        "ax1 = fig.add_subplot(111)\n",
        "\n",
        "var1=\"util_new\"\n",
        "var2=\"MonthlyIncome_new\"\n",
        "\n",
        "ax1.scatter(loans1[var1][loans1.SeriousDlqin2yrs==0],loans1[var2][loans1.SeriousDlqin2yrs==0], s=50, c='b', marker=\"o\", label='0 Good')\n",
        "ax1.scatter(loans1[var1][loans1.SeriousDlqin2yrs==1],loans1[var2][loans1.SeriousDlqin2yrs==1], s=50, c='r', marker=\"o\", label='1 Bad')\n",
        "\n",
        "plt.xlim(min(loans1[var1]), max(loans1[var1]))\n",
        "plt.ylim(min(loans1[var2]), max(loans1[var2]))\n",
        "plt.legend(loc='upper left');\n",
        "\n",
        "plt.show()"
      ],
      "metadata": {
        "id": "KULDKjibT8R6",
        "colab": {
          "base_uri": "https://localhost:8080/",
          "height": 435
        },
        "outputId": "56667e04-2ade-414d-c176-b77f91c22ad4"
      },
      "execution_count": null,
      "outputs": [
        {
          "output_type": "display_data",
          "data": {
            "text/plain": [
              "<Figure size 640x480 with 1 Axes>"
            ],
            "image/png": "[encoded data removed]"
          },
          "metadata": {}
        }
      ]
    },
    {
      "cell_type": "markdown",
      "source": [
        "## SMOTE Function"
      ],
      "metadata": {
        "id": "W4ibQiKgdBxh"
      }
    },
    {
      "cell_type": "code",
      "source": [
        "print(loans.columns)\n",
        "X_train=loans.iloc[:,2:]\n",
        "y_train=loans[\"SeriousDlqin2yrs\"]\n",
        "print(X_train.shape)\n",
        "print(y_train.shape)\n",
        "\n",
        "print(X_train.columns)\n"
      ],
      "metadata": {
        "id": "lfAjJDTlZRKy",
        "colab": {
          "base_uri": "https://localhost:8080/"
        },
        "outputId": "214abd3d-629a-4647-82a0-abd3258552b7"
      },
      "execution_count": 11,
      "outputs": [
        {
          "output_type": "stream",
          "name": "stdout",
          "text": [
            "Index(['Sr_No', 'SeriousDlqin2yrs', 'util_new', 'age_new', 'num_30_59_dpd_new',\n",
            "       'DebtRatio_new_ind', 'DebtRatio_new', 'MonthlyIncome_ind',\n",
            "       'MonthlyIncome_new', 'Open_Credit_lines_new', 'num_90_dpd_new',\n",
            "       'Real_estate_loans_new', 'num_60_dpd_new', 'NumberOfDependents_new'],\n",
            "      dtype='object')\n",
            "(150000, 12)\n",
            "(150000,)\n",
            "Index(['util_new', 'age_new', 'num_30_59_dpd_new', 'DebtRatio_new_ind',\n",
            "       'DebtRatio_new', 'MonthlyIncome_ind', 'MonthlyIncome_new',\n",
            "       'Open_Credit_lines_new', 'num_90_dpd_new', 'Real_estate_loans_new',\n",
            "       'num_60_dpd_new', 'NumberOfDependents_new'],\n",
            "      dtype='object')\n"
          ]
        }
      ]
    },
    {
      "cell_type": "code",
      "source": [
        "from imblearn.over_sampling import SMOTE \n",
        "smote = SMOTE(random_state = 2)\n",
        "X_train_smote, y_train_smote = smote.fit_resample(X_train, y_train)\n",
        "\n",
        "import collections\n",
        "print(\"Before SMOTE\", collections.Counter(y_train))\n",
        "print(\"After SMOTE\", collections.Counter(y_train_smote))"
      ],
      "metadata": {
        "id": "x0ph6b_PT8cc",
        "colab": {
          "base_uri": "https://localhost:8080/"
        },
        "outputId": "d089a6d9-3482-49c4-d65e-631feeea1e96"
      },
      "execution_count": null,
      "outputs": [
        {
          "output_type": "stream",
          "name": "stdout",
          "text": [
            "Before SMOTE Counter({0: 139974, 1: 10026})\n",
            "After SMOTE Counter({0: 139974, 1: 139974})\n"
          ]
        }
      ]
    },
    {
      "cell_type": "markdown",
      "source": [
        "### Mention the sample size"
      ],
      "metadata": {
        "id": "ni8Z5UKceUDB"
      }
    },
    {
      "cell_type": "code",
      "source": [
        "from imblearn.over_sampling import SMOTE \n",
        "smote = SMOTE(sampling_strategy=0.6, random_state = 2)\n",
        "X_train_smote, y_train_smote = smote.fit_resample(X_train, y_train)\n",
        "\n",
        "import collections\n",
        "print(\"Before SMOTE\", collections.Counter(y_train))\n",
        "print(\"After SMOTE\", collections.Counter(y_train_smote))"
      ],
      "metadata": {
        "id": "WFuMOrxAeR-A",
        "colab": {
          "base_uri": "https://localhost:8080/"
        },
        "outputId": "258c4c95-8db6-4371-d0e6-a630dfa652e8"
      },
      "execution_count": null,
      "outputs": [
        {
          "output_type": "stream",
          "name": "stdout",
          "text": [
            "Before SMOTE Counter({0: 139974, 1: 10026})\n",
            "After SMOTE Counter({0: 139974, 1: 83984})\n"
          ]
        }
      ]
    },
    {
      "cell_type": "code",
      "source": [
        "loans_smote=X_train_smote\n",
        "loans_smote[\"SeriousDlqin2yrs\"]=y_train_smote"
      ],
      "metadata": {
        "id": "nNkR0dOkg1rx"
      },
      "execution_count": null,
      "outputs": []
    },
    {
      "cell_type": "markdown",
      "source": [
        "### Visulaizing balanced data after SMOTE"
      ],
      "metadata": {
        "id": "MECOs798hgXo"
      }
    },
    {
      "cell_type": "code",
      "source": [
        "import matplotlib.pyplot as plt\n",
        "loans1=loans_smote.sample(5000)\n",
        "fig = plt.figure()\n",
        "ax1 = fig.add_subplot(111)\n",
        "\n",
        "var1=\"util_new\"\n",
        "var2=\"MonthlyIncome_new\"\n",
        "\n",
        "ax1.scatter(loans1[var1][loans1.SeriousDlqin2yrs==0],loans1[var2][loans1.SeriousDlqin2yrs==0], s=50, c='b', marker=\"o\", label='0 Good')\n",
        "ax1.scatter(loans1[var1][loans1.SeriousDlqin2yrs==1],loans1[var2][loans1.SeriousDlqin2yrs==1], s=50, c='r', marker=\"o\", label='1 Bad')\n",
        "\n",
        "plt.xlim(min(loans1[var1]), max(loans1[var1]))\n",
        "plt.ylim(min(loans1[var2]), max(loans1[var2]))\n",
        "plt.legend(loc='upper left');\n",
        "\n",
        "plt.show()"
      ],
      "metadata": {
        "id": "3qgP61uOhQUJ",
        "colab": {
          "base_uri": "https://localhost:8080/",
          "height": 435
        },
        "outputId": "7762651e-0732-4e9c-ace7-5a33bf0c8ea0"
      },
      "execution_count": null,
      "outputs": [
        {
          "output_type": "display_data",
          "data": {
            "text/plain": [
              "<Figure size 640x480 with 1 Axes>"
            ],
            "image/png": "[encoded data removed]"
          },
          "metadata": {}
        }
      ]
    },
    {
      "cell_type": "markdown",
      "metadata": {
        "id": "erq7PH1Fh5A5"
      },
      "source": [
        "### Model with balanced data - SMOTE"
      ]
    },
    {
      "cell_type": "code",
      "metadata": {
        "id": "qL9UVtQyh5A6"
      },
      "source": [
        "model_formula=\"SeriousDlqin2yrs ~ util_new + age_new + num_30_59_dpd_new + DebtRatio_new_ind + DebtRatio_new + MonthlyIncome_ind + MonthlyIncome_new + Open_Credit_lines_new + num_90_dpd_new + Real_estate_loans_new + num_60_dpd_new + NumberOfDependents_new\""
      ],
      "execution_count": null,
      "outputs": []
    },
    {
      "cell_type": "code",
      "metadata": {
        "id": "AIyvHaPSh5A6",
        "colab": {
          "base_uri": "https://localhost:8080/"
        },
        "outputId": "de6d5cd7-8778-4a51-dd12-b59acef8fa12"
      },
      "source": [
        "credit_risk_balanced=loans_smote\n",
        "risk_model=sm.logit(model_formula, data=credit_risk_balanced)\n",
        "results=risk_model.fit()\n",
        "print(results.summary())"
      ],
      "execution_count": null,
      "outputs": [
        {
          "output_type": "stream",
          "name": "stdout",
          "text": [
            "Optimization terminated successfully.\n",
            "         Current function value: 0.502351\n",
            "         Iterations 6\n",
            "                           Logit Regression Results                           \n",
            "==============================================================================\n",
            "Dep. Variable:       SeriousDlqin2yrs   No. Observations:               223958\n",
            "Model:                          Logit   Df Residuals:                   223945\n",
            "Method:                           MLE   Df Model:                           12\n",
            "Date:                Mon, 03 Apr 2023   Pseudo R-squ.:                  0.2407\n",
            "Time:                        08:53:22   Log-Likelihood:            -1.1251e+05\n",
            "converged:                       True   LL-Null:                   -1.4816e+05\n",
            "Covariance Type:            nonrobust   LLR p-value:                     0.000\n",
            "==========================================================================================\n",
            "                             coef    std err          z      P>|z|      [0.025      0.975]\n",
            "------------------------------------------------------------------------------------------\n",
            "Intercept                 -0.4483      0.037    -12.170      0.000      -0.520      -0.376\n",
            "util_new                   1.8368      0.016    115.451      0.000       1.806       1.868\n",
            "age_new                   -0.0252      0.000    -61.761      0.000      -0.026      -0.024\n",
            "num_30_59_dpd_new          0.4977      0.007     69.516      0.000       0.484       0.512\n",
            "DebtRatio_new_ind         -0.6121      0.025    -24.232      0.000      -0.662      -0.563\n",
            "DebtRatio_new              1.9869      0.032     62.778      0.000       1.925       2.049\n",
            "MonthlyIncome_ind         -0.2819      0.026    -10.711      0.000      -0.333      -0.230\n",
            "MonthlyIncome_new       2.259e-05   1.92e-06     11.788      0.000    1.88e-05    2.63e-05\n",
            "Open_Credit_lines_new      0.0182      0.001     12.301      0.000       0.015       0.021\n",
            "num_90_dpd_new             0.7659      0.012     61.944      0.000       0.742       0.790\n",
            "Real_estate_loans_new     -0.5451      0.008    -68.257      0.000      -0.561      -0.529\n",
            "num_60_dpd_new             0.4141      0.016     26.297      0.000       0.383       0.445\n",
            "NumberOfDependents_new    -0.1793      0.005    -33.807      0.000      -0.190      -0.169\n",
            "==========================================================================================\n"
          ]
        }
      ]
    },
    {
      "cell_type": "markdown",
      "metadata": {
        "id": "6oGoAzYwh5A6"
      },
      "source": [
        "#### Updated Sensitivity and Specificity"
      ]
    },
    {
      "cell_type": "code",
      "metadata": {
        "id": "t1fTs1Sgh5A6"
      },
      "source": [
        "#####Create the confusion matrix\n",
        "###predict the variable active customer from logistic fit####\n",
        "predictions = results.predict()\n",
        "threshold=0.5\n",
        "predicted_class1=[ 0 if x < threshold else 1 for x in predictions]\n",
        "\n",
        "cm1 = confusion_matrix(credit_risk_balanced[\"SeriousDlqin2yrs\"],predicted_class1)\n",
        "print('Confusion Matrix : \\n', cm1)\n",
        "\n",
        "total1=sum(sum(cm1))\n",
        "#####from confusion matrix calculate accuracy\n",
        "accuracy1=(cm1[0,0]+cm1[1,1])/total1\n",
        "print ('Accuracy : ', accuracy1)\n",
        "\n",
        "sensitivity1 = cm1[0,0]/(cm1[0,0]+cm1[0,1])\n",
        "print('Sensitivity : ', sensitivity1 )\n",
        "\n",
        "specificity1 = cm1[1,1]/(cm1[1,0]+cm1[1,1])\n",
        "print('Specificity : ', specificity1)"
      ],
      "execution_count": null,
      "outputs": []
    },
    {
      "cell_type": "markdown",
      "metadata": {
        "id": "2VHlg6Okh5A7"
      },
      "source": [
        "#### Updated Precision, Recall and F1-Score"
      ]
    },
    {
      "cell_type": "code",
      "metadata": {
        "id": "xkyj6gNRh5A7"
      },
      "source": [
        "#####from confusion matrix calculate accuracy\n",
        "accuracy1=(cm1[0,0]+cm1[1,1])/total1\n",
        "print ('Accuracy : ', accuracy1)\n",
        "\n",
        "Precision_Class0 = cm1[0,0]/(cm1[0,0]+cm1[1,0])\n",
        "print('Precision_Class0 : ', Precision_Class0 )\n",
        "\n",
        "Recall_Class0 = cm1[0,0]/(cm1[0,0]+cm1[0,1])\n",
        "print('Recall_Class0 : ', Recall_Class0 )\n",
        "\n",
        "F1_Class0 = 2/((1/Precision_Class0)+(1/Recall_Class0))\n",
        "print('F1_Class0 : ', F1_Class0 )\n",
        "\n",
        "\n",
        "Precision_Class1 = cm1[1,1]/(cm1[0,1]+cm1[1,1])\n",
        "print('Precision_Class1 : ', Precision_Class1 )\n",
        "\n",
        "Recall_Class1 = cm1[1,1]/(cm1[1,0]+cm1[1,1])\n",
        "print('Recall_Class1 : ', Recall_Class1 )\n",
        "\n",
        "F1_Class1 = 2/((1/Precision_Class1)+(1/Recall_Class1))\n",
        "print('F1_Class1 : ', F1_Class1 )"
      ],
      "execution_count": null,
      "outputs": []
    },
    {
      "cell_type": "code",
      "metadata": {
        "id": "aN1SDyRfh5A7"
      },
      "source": [
        "from sklearn.metrics import classification_report\n",
        "print(classification_report(credit_risk_balanced[\"SeriousDlqin2yrs\"],predicted_class1))"
      ],
      "execution_count": null,
      "outputs": []
    },
    {
      "cell_type": "markdown",
      "source": [
        "# Bias Variance TradeOff "
      ],
      "metadata": {
        "id": "IXC0IJfpTA3P"
      }
    },
    {
      "cell_type": "markdown",
      "metadata": {
        "id": "L6JQGOvzIMXF"
      },
      "source": [
        "\n",
        "## Model with huge Variance - Overfitted model"
      ]
    },
    {
      "cell_type": "code",
      "metadata": {
        "id": "DKcjpFzLORiJ"
      },
      "source": [
        "Fiber_df=pd.read_csv(\"https://raw.githubusercontent.com/venkatareddykonasani/Datasets/master/Fiberbits/Fiberbits_v1.csv\")"
      ],
      "execution_count": 15,
      "outputs": []
    },
    {
      "cell_type": "code",
      "source": [
        "import numpy as np\n",
        "import pandas as pd"
      ],
      "metadata": {
        "id": "Xysxx2q3MUtm"
      },
      "execution_count": 17,
      "outputs": []
    },
    {
      "cell_type": "code",
      "metadata": {
        "id": "F7-fevOFIAN5",
        "colab": {
          "base_uri": "https://localhost:8080/"
        },
        "outputId": "192b7f5f-24f8-47db-f762-f11da22b3602"
      },
      "source": [
        "from sklearn.model_selection import train_test_split\n",
        "from sklearn import tree\n",
        "\n",
        "features = list(Fiber_df.drop(['active_cust'],1).columns) \n",
        "X = np.array(Fiber_df[features])\n",
        "y = np.array(Fiber_df['active_cust'])\n",
        "\n",
        "#Splitting the dataset into training and testing datasets\n",
        "X_train, X_test, y_train, y_test = train_test_split(X,y, train_size = 0.8 , random_state=333)\n",
        "#Build the best model(1% error) model on training data.\n",
        "tree_model = tree.DecisionTreeClassifier()\n",
        "tree_model.fit(X_train,y_train)\n",
        "\n",
        "train_acc= tree_model.score(X_train,y_train)\n",
        "print(\"train_accuracy\", train_acc)\n",
        "\n",
        "test_acc= tree_model.score(X_test,y_test)\n",
        "print(\"test_accuracy\", test_acc)"
      ],
      "execution_count": 18,
      "outputs": [
        {
          "output_type": "stream",
          "name": "stderr",
          "text": [
            "<ipython-input-18-3096a0f3eed7>:4: FutureWarning: In a future version of pandas all arguments of DataFrame.drop except for the argument 'labels' will be keyword-only.\n",
            "  features = list(Fiber_df.drop(['active_cust'],1).columns)\n"
          ]
        },
        {
          "output_type": "stream",
          "name": "stdout",
          "text": [
            "train_accuracy 0.9999625\n",
            "test_accuracy 0.88745\n"
          ]
        }
      ]
    },
    {
      "cell_type": "markdown",
      "metadata": {
        "id": "NhptDcHZJnSl"
      },
      "source": [
        "## Model with huge Bias - underfitted model"
      ]
    },
    {
      "cell_type": "code",
      "metadata": {
        "id": "u-CXybTFJFl-",
        "colab": {
          "base_uri": "https://localhost:8080/"
        },
        "outputId": "312f746a-5bf9-4e87-f20b-61ff6981b4e7"
      },
      "source": [
        "tree_model = tree.DecisionTreeClassifier(max_depth=1)\n",
        "tree_model.fit(X_train,y_train)\n",
        "\n",
        "train_acc= tree_model.score(X_train,y_train)\n",
        "print(\"train_accuracy\", train_acc)\n",
        "\n",
        "test_acc= tree_model.score(X_test,y_test)\n",
        "print(\"test_accuracy\", test_acc)"
      ],
      "execution_count": 19,
      "outputs": [
        {
          "output_type": "stream",
          "name": "stdout",
          "text": [
            "train_accuracy 0.813\n",
            "test_accuracy 0.81495\n"
          ]
        }
      ]
    },
    {
      "cell_type": "markdown",
      "metadata": {
        "id": "IX1xeUn-J5iV"
      },
      "source": [
        "## Holdout data Cross validation"
      ]
    },
    {
      "cell_type": "code",
      "metadata": {
        "id": "NnPc3jb3J3xT",
        "colab": {
          "base_uri": "https://localhost:8080/"
        },
        "outputId": "7c824272-6a20-4d8a-a385-14991e485f3a"
      },
      "source": [
        "tree_model = tree.DecisionTreeClassifier(max_depth=3)\n",
        "tree_model.fit(X_train,y_train)\n",
        "\n",
        "train_acc= tree_model.score(X_train,y_train)\n",
        "print(\"train_accuracy\", train_acc)\n",
        "\n",
        "test_acc= tree_model.score(X_test,y_test)\n",
        "print(\"test_accuracy\", test_acc)"
      ],
      "execution_count": 20,
      "outputs": [
        {
          "output_type": "stream",
          "name": "stdout",
          "text": [
            "train_accuracy 0.8936625\n",
            "test_accuracy 0.8961\n"
          ]
        }
      ]
    },
    {
      "cell_type": "markdown",
      "metadata": {
        "id": "R5FPk4fHKk3p"
      },
      "source": [
        "## K- Fold cross validation"
      ]
    },
    {
      "cell_type": "code",
      "metadata": {
        "id": "ZWRARLh8KOJ7",
        "colab": {
          "base_uri": "https://localhost:8080/"
        },
        "outputId": "37b0a431-865d-4c1f-ca3c-1ea23c3cb9c3"
      },
      "source": [
        "X = np.array(Fiber_df[features])\n",
        "y = np.array(Fiber_df['active_cust'])\n",
        "\n",
        "tree_KF = tree.DecisionTreeClassifier()\n",
        "\n",
        "#Simple K-Fold cross validation. 10 folds.\n",
        "from sklearn.model_selection import KFold\n",
        "kfold_models = KFold(n_splits=10)\n",
        "\n",
        "from sklearn import model_selection\n",
        "scores = model_selection.cross_val_score(tree_KF,X, y,cv=kfold_models)\n",
        "print(scores)\n",
        "print(\"Avg K-Fold Accuracy\", scores.mean())"
      ],
      "execution_count": 21,
      "outputs": [
        {
          "output_type": "stream",
          "name": "stdout",
          "text": [
            "[0.9098 0.879  0.8571 0.8917 0.8777 0.8509 0.8194 0.9052 0.8671 0.8632]\n",
            "Avg K-Fold Accuracy 0.8721099999999999\n"
          ]
        }
      ]
    },
    {
      "cell_type": "code",
      "metadata": {
        "id": "kIUr7c9QM3eQ"
      },
      "source": [],
      "execution_count": null,
      "outputs": []
    }
  ]
}
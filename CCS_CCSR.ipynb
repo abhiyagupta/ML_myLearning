{
 "cells": [
  {
   "cell_type": "markdown",
   "id": "6d59d8a9",
   "metadata": {},
   "source": [
    "# Import packages and set display options"
   ]
  },
  {
   "cell_type": "code",
   "execution_count": 2,
   "id": "2493ded1",
   "metadata": {
    "collapsed": true,
    "jupyter": {
     "outputs_hidden": true
    }
   },
   "outputs": [
    {
     "name": "stdout",
     "output_type": "stream",
     "text": [
      "Collecting awswrangler\n",
      "  Downloading awswrangler-3.4.2-py3-none-any.whl.metadata (23 kB)\n",
      "Requirement already satisfied: boto3<2.0.0,>=1.20.32 in /home/ec2-user/anaconda3/envs/python3/lib/python3.10/site-packages (from awswrangler) (1.28.80)\n",
      "Requirement already satisfied: botocore<2.0.0,>=1.23.32 in /home/ec2-user/anaconda3/envs/python3/lib/python3.10/site-packages (from awswrangler) (1.31.80)\n",
      "Requirement already satisfied: numpy<2.0,>=1.18 in /home/ec2-user/anaconda3/envs/python3/lib/python3.10/site-packages (from awswrangler) (1.22.4)\n",
      "Requirement already satisfied: packaging<24.0,>=21.1 in /home/ec2-user/anaconda3/envs/python3/lib/python3.10/site-packages (from awswrangler) (21.3)\n",
      "Requirement already satisfied: pandas<3.0.0,>=1.2.0 in /home/ec2-user/anaconda3/envs/python3/lib/python3.10/site-packages (from awswrangler) (2.1.1)\n",
      "Requirement already satisfied: pyarrow>=7.0.0 in /home/ec2-user/anaconda3/envs/python3/lib/python3.10/site-packages (from awswrangler) (13.0.0)\n",
      "Requirement already satisfied: typing-extensions<5.0.0,>=4.4.0 in /home/ec2-user/anaconda3/envs/python3/lib/python3.10/site-packages (from awswrangler) (4.8.0)\n",
      "Requirement already satisfied: jmespath<2.0.0,>=0.7.1 in /home/ec2-user/anaconda3/envs/python3/lib/python3.10/site-packages (from boto3<2.0.0,>=1.20.32->awswrangler) (1.0.1)\n",
      "Requirement already satisfied: s3transfer<0.8.0,>=0.7.0 in /home/ec2-user/anaconda3/envs/python3/lib/python3.10/site-packages (from boto3<2.0.0,>=1.20.32->awswrangler) (0.7.0)\n",
      "Requirement already satisfied: python-dateutil<3.0.0,>=2.1 in /home/ec2-user/anaconda3/envs/python3/lib/python3.10/site-packages (from botocore<2.0.0,>=1.23.32->awswrangler) (2.8.2)\n",
      "Requirement already satisfied: urllib3<2.1,>=1.25.4 in /home/ec2-user/anaconda3/envs/python3/lib/python3.10/site-packages (from botocore<2.0.0,>=1.23.32->awswrangler) (1.26.18)\n",
      "Requirement already satisfied: pyparsing!=3.0.5,>=2.0.2 in /home/ec2-user/anaconda3/envs/python3/lib/python3.10/site-packages (from packaging<24.0,>=21.1->awswrangler) (3.1.1)\n",
      "Requirement already satisfied: pytz>=2020.1 in /home/ec2-user/anaconda3/envs/python3/lib/python3.10/site-packages (from pandas<3.0.0,>=1.2.0->awswrangler) (2023.3.post1)\n",
      "Requirement already satisfied: tzdata>=2022.1 in /home/ec2-user/anaconda3/envs/python3/lib/python3.10/site-packages (from pandas<3.0.0,>=1.2.0->awswrangler) (2023.3)\n",
      "Requirement already satisfied: six>=1.5 in /home/ec2-user/anaconda3/envs/python3/lib/python3.10/site-packages (from python-dateutil<3.0.0,>=2.1->botocore<2.0.0,>=1.23.32->awswrangler) (1.16.0)\n",
      "Downloading awswrangler-3.4.2-py3-none-any.whl (396 kB)\n",
      "\u001b[2K   \u001b[90m━━━━━━━━━━━━━━━━━━━━━━━━━━━━━━━━━━━━━━━━\u001b[0m \u001b[32m396.9/396.9 kB\u001b[0m \u001b[31m9.2 MB/s\u001b[0m eta \u001b[36m0:00:00\u001b[0ma \u001b[36m0:00:01\u001b[0m\n",
      "\u001b[?25hInstalling collected packages: awswrangler\n",
      "Successfully installed awswrangler-3.4.2\n"
     ]
    }
   ],
   "source": [
    "!pip install awswrangler"
   ]
  },
  {
   "cell_type": "code",
   "execution_count": 3,
   "id": "30f26b93",
   "metadata": {
    "tags": []
   },
   "outputs": [],
   "source": [
    "import pandas as pd\n",
    "import numpy as np\n",
    "import awswrangler as wr"
   ]
  },
  {
   "cell_type": "code",
   "execution_count": 4,
   "id": "ae21ef8b",
   "metadata": {},
   "outputs": [],
   "source": [
    "pd.set_option('display.max_columns', None)\n",
    "\n",
    "# pd.set_option('display.max_rows', None)"
   ]
  },
  {
   "cell_type": "markdown",
   "id": "b7fe74a9",
   "metadata": {},
   "source": [
    "# Read ccsr_2023 : LEFT"
   ]
  },
  {
   "cell_type": "code",
   "execution_count": 5,
   "id": "9e8e70d6",
   "metadata": {},
   "outputs": [
    {
     "name": "stderr",
     "output_type": "stream",
     "text": [
      "/home/ec2-user/anaconda3/envs/python3/lib/python3.10/site-packages/fsspec/registry.py:272: UserWarning: Your installed version of s3fs is very old and known to cause\n",
      "severe performance issues, see also https://github.com/dask/dask/issues/10276\n",
      "\n",
      "To fix, you should specify a lower version bound on s3fs, or\n",
      "update the current installation.\n",
      "\n",
      "  warnings.warn(s3_msg)\n"
     ]
    }
   ],
   "source": [
    "CCSR_2023= pd.read_csv(\"s3://intl-euro-uk-datascientist-prod/Abhiya/icd_files_2019-2023/CCSR_ICD_CODE_2023.csv\")"
   ]
  },
  {
   "cell_type": "code",
   "execution_count": 6,
   "id": "183a7653",
   "metadata": {
    "collapsed": true,
    "jupyter": {
     "outputs_hidden": true
    }
   },
   "outputs": [
    {
     "data": {
      "text/html": [
       "<div>\n",
       "<style scoped>\n",
       "    .dataframe tbody tr th:only-of-type {\n",
       "        vertical-align: middle;\n",
       "    }\n",
       "\n",
       "    .dataframe tbody tr th {\n",
       "        vertical-align: top;\n",
       "    }\n",
       "\n",
       "    .dataframe thead th {\n",
       "        text-align: right;\n",
       "    }\n",
       "</style>\n",
       "<table border=\"1\" class=\"dataframe\">\n",
       "  <thead>\n",
       "    <tr style=\"text-align: right;\">\n",
       "      <th></th>\n",
       "      <th>ICD_code_2023</th>\n",
       "      <th>ICD_10_CM_CODE_DESCRIPTION_2023</th>\n",
       "      <th>Default_CCSR_CATEGORY_IP_2023</th>\n",
       "      <th>Default_CCSR_CATEGORY_DESCRIPTION_IP_2023</th>\n",
       "      <th>Default_CCSR_CATEGORY_OP_2023</th>\n",
       "      <th>Default_CCSR_CATEGORY_DESCRIPTION_OP_2023</th>\n",
       "      <th>CCSR_CATEGORY_1_2023</th>\n",
       "      <th>CCSR_CATEGORY_1_DESCRIPTION_2023</th>\n",
       "      <th>CCSR_CATEGORY_2_2023</th>\n",
       "      <th>CCSR_CATEGORY_2_DESCRIPTION_2023</th>\n",
       "      <th>CCSR_CATEGORY_3_2023</th>\n",
       "      <th>CCSR_CATEGORY_3_DESCRIPTION_2023</th>\n",
       "      <th>CCSR_CATEGORY_4_2023</th>\n",
       "      <th>CCSR_CATEGORY_4_DESCRIPTION_2023</th>\n",
       "      <th>CCSR_CATEGORY_5_2023</th>\n",
       "      <th>CCSR_CATEGORY_5_DESCRIPTION_2023</th>\n",
       "      <th>CCSR_CATEGORY_6_2023</th>\n",
       "      <th>CCSR_CATEGORY_6_DESCRIPTION_2023</th>\n",
       "    </tr>\n",
       "  </thead>\n",
       "  <tbody>\n",
       "    <tr>\n",
       "      <th>0</th>\n",
       "      <td>A000</td>\n",
       "      <td>Cholera due to Vibrio cholerae 01, biovar chol...</td>\n",
       "      <td>DIG001</td>\n",
       "      <td>Intestinal infection</td>\n",
       "      <td>DIG001</td>\n",
       "      <td>Intestinal infection</td>\n",
       "      <td>DIG001</td>\n",
       "      <td>Intestinal infection</td>\n",
       "      <td>INF003</td>\n",
       "      <td>Bacterial infections</td>\n",
       "      <td></td>\n",
       "      <td></td>\n",
       "      <td></td>\n",
       "      <td></td>\n",
       "      <td></td>\n",
       "      <td></td>\n",
       "      <td></td>\n",
       "      <td></td>\n",
       "    </tr>\n",
       "    <tr>\n",
       "      <th>1</th>\n",
       "      <td>A001</td>\n",
       "      <td>Cholera due to Vibrio cholerae 01, biovar eltor</td>\n",
       "      <td>DIG001</td>\n",
       "      <td>Intestinal infection</td>\n",
       "      <td>DIG001</td>\n",
       "      <td>Intestinal infection</td>\n",
       "      <td>DIG001</td>\n",
       "      <td>Intestinal infection</td>\n",
       "      <td>INF003</td>\n",
       "      <td>Bacterial infections</td>\n",
       "      <td></td>\n",
       "      <td></td>\n",
       "      <td></td>\n",
       "      <td></td>\n",
       "      <td></td>\n",
       "      <td></td>\n",
       "      <td></td>\n",
       "      <td></td>\n",
       "    </tr>\n",
       "    <tr>\n",
       "      <th>2</th>\n",
       "      <td>A009</td>\n",
       "      <td>Cholera, unspecified</td>\n",
       "      <td>DIG001</td>\n",
       "      <td>Intestinal infection</td>\n",
       "      <td>DIG001</td>\n",
       "      <td>Intestinal infection</td>\n",
       "      <td>DIG001</td>\n",
       "      <td>Intestinal infection</td>\n",
       "      <td>INF003</td>\n",
       "      <td>Bacterial infections</td>\n",
       "      <td></td>\n",
       "      <td></td>\n",
       "      <td></td>\n",
       "      <td></td>\n",
       "      <td></td>\n",
       "      <td></td>\n",
       "      <td></td>\n",
       "      <td></td>\n",
       "    </tr>\n",
       "  </tbody>\n",
       "</table>\n",
       "</div>"
      ],
      "text/plain": [
       "  ICD_code_2023                    ICD_10_CM_CODE_DESCRIPTION_2023  \\\n",
       "0          A000  Cholera due to Vibrio cholerae 01, biovar chol...   \n",
       "1          A001    Cholera due to Vibrio cholerae 01, biovar eltor   \n",
       "2          A009                               Cholera, unspecified   \n",
       "\n",
       "  Default_CCSR_CATEGORY_IP_2023 Default_CCSR_CATEGORY_DESCRIPTION_IP_2023  \\\n",
       "0                        DIG001                      Intestinal infection   \n",
       "1                        DIG001                      Intestinal infection   \n",
       "2                        DIG001                      Intestinal infection   \n",
       "\n",
       "  Default_CCSR_CATEGORY_OP_2023 Default_CCSR_CATEGORY_DESCRIPTION_OP_2023  \\\n",
       "0                        DIG001                      Intestinal infection   \n",
       "1                        DIG001                      Intestinal infection   \n",
       "2                        DIG001                      Intestinal infection   \n",
       "\n",
       "  CCSR_CATEGORY_1_2023 CCSR_CATEGORY_1_DESCRIPTION_2023 CCSR_CATEGORY_2_2023  \\\n",
       "0               DIG001             Intestinal infection               INF003   \n",
       "1               DIG001             Intestinal infection               INF003   \n",
       "2               DIG001             Intestinal infection               INF003   \n",
       "\n",
       "  CCSR_CATEGORY_2_DESCRIPTION_2023 CCSR_CATEGORY_3_2023  \\\n",
       "0             Bacterial infections                        \n",
       "1             Bacterial infections                        \n",
       "2             Bacterial infections                        \n",
       "\n",
       "  CCSR_CATEGORY_3_DESCRIPTION_2023 CCSR_CATEGORY_4_2023  \\\n",
       "0                                                         \n",
       "1                                                         \n",
       "2                                                         \n",
       "\n",
       "  CCSR_CATEGORY_4_DESCRIPTION_2023 CCSR_CATEGORY_5_2023  \\\n",
       "0                                                         \n",
       "1                                                         \n",
       "2                                                         \n",
       "\n",
       "  CCSR_CATEGORY_5_DESCRIPTION_2023 CCSR_CATEGORY_6_2023  \\\n",
       "0                                                         \n",
       "1                                                         \n",
       "2                                                         \n",
       "\n",
       "  CCSR_CATEGORY_6_DESCRIPTION_2023  \n",
       "0                                   \n",
       "1                                   \n",
       "2                                   "
      ]
     },
     "execution_count": 6,
     "metadata": {},
     "output_type": "execute_result"
    }
   ],
   "source": [
    "CCSR_2023.head(3)"
   ]
  },
  {
   "cell_type": "code",
   "execution_count": 7,
   "id": "f0d7b5d8",
   "metadata": {},
   "outputs": [
    {
     "name": "stdout",
     "output_type": "stream",
     "text": [
      "<class 'pandas.core.frame.DataFrame'>\n",
      "RangeIndex: 74549 entries, 0 to 74548\n",
      "Data columns (total 18 columns):\n",
      " #   Column                                     Non-Null Count  Dtype \n",
      "---  ------                                     --------------  ----- \n",
      " 0   ICD_code_2023                              74549 non-null  object\n",
      " 1   ICD_10_CM_CODE_DESCRIPTION_2023            74549 non-null  object\n",
      " 2   Default_CCSR_CATEGORY_IP_2023              74549 non-null  object\n",
      " 3   Default_CCSR_CATEGORY_DESCRIPTION_IP_2023  74549 non-null  object\n",
      " 4   Default_CCSR_CATEGORY_OP_2023              74549 non-null  object\n",
      " 5   Default_CCSR_CATEGORY_DESCRIPTION_OP_2023  74549 non-null  object\n",
      " 6   CCSR_CATEGORY_1_2023                       74549 non-null  object\n",
      " 7   CCSR_CATEGORY_1_DESCRIPTION_2023           74549 non-null  object\n",
      " 8   CCSR_CATEGORY_2_2023                       74549 non-null  object\n",
      " 9   CCSR_CATEGORY_2_DESCRIPTION_2023           74549 non-null  object\n",
      " 10  CCSR_CATEGORY_3_2023                       74549 non-null  object\n",
      " 11  CCSR_CATEGORY_3_DESCRIPTION_2023           74549 non-null  object\n",
      " 12  CCSR_CATEGORY_4_2023                       74549 non-null  object\n",
      " 13  CCSR_CATEGORY_4_DESCRIPTION_2023           74549 non-null  object\n",
      " 14  CCSR_CATEGORY_5_2023                       74549 non-null  object\n",
      " 15  CCSR_CATEGORY_5_DESCRIPTION_2023           74549 non-null  object\n",
      " 16  CCSR_CATEGORY_6_2023                       74549 non-null  object\n",
      " 17  CCSR_CATEGORY_6_DESCRIPTION_2023           74549 non-null  object\n",
      "dtypes: object(18)\n",
      "memory usage: 10.2+ MB\n"
     ]
    }
   ],
   "source": [
    "CCSR_2023.info()"
   ]
  },
  {
   "cell_type": "code",
   "execution_count": 8,
   "id": "84b5292b",
   "metadata": {},
   "outputs": [],
   "source": [
    "CCSR_2023 = CCSR_2023.rename(columns={'Default_CCS_CATEGORY_IP_2023':'Default_CCSR_CATEGORY_IP_2023'})"
   ]
  },
  {
   "cell_type": "code",
   "execution_count": 9,
   "id": "e38c824c",
   "metadata": {
    "collapsed": true,
    "jupyter": {
     "outputs_hidden": true
    }
   },
   "outputs": [
    {
     "data": {
      "text/html": [
       "<div>\n",
       "<style scoped>\n",
       "    .dataframe tbody tr th:only-of-type {\n",
       "        vertical-align: middle;\n",
       "    }\n",
       "\n",
       "    .dataframe tbody tr th {\n",
       "        vertical-align: top;\n",
       "    }\n",
       "\n",
       "    .dataframe thead th {\n",
       "        text-align: right;\n",
       "    }\n",
       "</style>\n",
       "<table border=\"1\" class=\"dataframe\">\n",
       "  <thead>\n",
       "    <tr style=\"text-align: right;\">\n",
       "      <th></th>\n",
       "      <th>ICD_code_2023</th>\n",
       "      <th>ICD_10_CM_CODE_DESCRIPTION_2023</th>\n",
       "      <th>Default_CCSR_CATEGORY_IP_2023</th>\n",
       "      <th>Default_CCSR_CATEGORY_DESCRIPTION_IP_2023</th>\n",
       "      <th>Default_CCSR_CATEGORY_OP_2023</th>\n",
       "      <th>Default_CCSR_CATEGORY_DESCRIPTION_OP_2023</th>\n",
       "      <th>CCSR_CATEGORY_1_2023</th>\n",
       "      <th>CCSR_CATEGORY_1_DESCRIPTION_2023</th>\n",
       "      <th>CCSR_CATEGORY_2_2023</th>\n",
       "      <th>CCSR_CATEGORY_2_DESCRIPTION_2023</th>\n",
       "      <th>CCSR_CATEGORY_3_2023</th>\n",
       "      <th>CCSR_CATEGORY_3_DESCRIPTION_2023</th>\n",
       "      <th>CCSR_CATEGORY_4_2023</th>\n",
       "      <th>CCSR_CATEGORY_4_DESCRIPTION_2023</th>\n",
       "      <th>CCSR_CATEGORY_5_2023</th>\n",
       "      <th>CCSR_CATEGORY_5_DESCRIPTION_2023</th>\n",
       "      <th>CCSR_CATEGORY_6_2023</th>\n",
       "      <th>CCSR_CATEGORY_6_DESCRIPTION_2023</th>\n",
       "    </tr>\n",
       "  </thead>\n",
       "  <tbody>\n",
       "    <tr>\n",
       "      <th>0</th>\n",
       "      <td>A000</td>\n",
       "      <td>Cholera due to Vibrio cholerae 01, biovar chol...</td>\n",
       "      <td>DIG001</td>\n",
       "      <td>Intestinal infection</td>\n",
       "      <td>DIG001</td>\n",
       "      <td>Intestinal infection</td>\n",
       "      <td>DIG001</td>\n",
       "      <td>Intestinal infection</td>\n",
       "      <td>INF003</td>\n",
       "      <td>Bacterial infections</td>\n",
       "      <td></td>\n",
       "      <td></td>\n",
       "      <td></td>\n",
       "      <td></td>\n",
       "      <td></td>\n",
       "      <td></td>\n",
       "      <td></td>\n",
       "      <td></td>\n",
       "    </tr>\n",
       "    <tr>\n",
       "      <th>1</th>\n",
       "      <td>A001</td>\n",
       "      <td>Cholera due to Vibrio cholerae 01, biovar eltor</td>\n",
       "      <td>DIG001</td>\n",
       "      <td>Intestinal infection</td>\n",
       "      <td>DIG001</td>\n",
       "      <td>Intestinal infection</td>\n",
       "      <td>DIG001</td>\n",
       "      <td>Intestinal infection</td>\n",
       "      <td>INF003</td>\n",
       "      <td>Bacterial infections</td>\n",
       "      <td></td>\n",
       "      <td></td>\n",
       "      <td></td>\n",
       "      <td></td>\n",
       "      <td></td>\n",
       "      <td></td>\n",
       "      <td></td>\n",
       "      <td></td>\n",
       "    </tr>\n",
       "  </tbody>\n",
       "</table>\n",
       "</div>"
      ],
      "text/plain": [
       "  ICD_code_2023                    ICD_10_CM_CODE_DESCRIPTION_2023  \\\n",
       "0          A000  Cholera due to Vibrio cholerae 01, biovar chol...   \n",
       "1          A001    Cholera due to Vibrio cholerae 01, biovar eltor   \n",
       "\n",
       "  Default_CCSR_CATEGORY_IP_2023 Default_CCSR_CATEGORY_DESCRIPTION_IP_2023  \\\n",
       "0                        DIG001                      Intestinal infection   \n",
       "1                        DIG001                      Intestinal infection   \n",
       "\n",
       "  Default_CCSR_CATEGORY_OP_2023 Default_CCSR_CATEGORY_DESCRIPTION_OP_2023  \\\n",
       "0                        DIG001                      Intestinal infection   \n",
       "1                        DIG001                      Intestinal infection   \n",
       "\n",
       "  CCSR_CATEGORY_1_2023 CCSR_CATEGORY_1_DESCRIPTION_2023 CCSR_CATEGORY_2_2023  \\\n",
       "0               DIG001             Intestinal infection               INF003   \n",
       "1               DIG001             Intestinal infection               INF003   \n",
       "\n",
       "  CCSR_CATEGORY_2_DESCRIPTION_2023 CCSR_CATEGORY_3_2023  \\\n",
       "0             Bacterial infections                        \n",
       "1             Bacterial infections                        \n",
       "\n",
       "  CCSR_CATEGORY_3_DESCRIPTION_2023 CCSR_CATEGORY_4_2023  \\\n",
       "0                                                         \n",
       "1                                                         \n",
       "\n",
       "  CCSR_CATEGORY_4_DESCRIPTION_2023 CCSR_CATEGORY_5_2023  \\\n",
       "0                                                         \n",
       "1                                                         \n",
       "\n",
       "  CCSR_CATEGORY_5_DESCRIPTION_2023 CCSR_CATEGORY_6_2023  \\\n",
       "0                                                         \n",
       "1                                                         \n",
       "\n",
       "  CCSR_CATEGORY_6_DESCRIPTION_2023  \n",
       "0                                   \n",
       "1                                   "
      ]
     },
     "execution_count": 9,
     "metadata": {},
     "output_type": "execute_result"
    }
   ],
   "source": [
    "CCSR_2023.head(2)"
   ]
  },
  {
   "cell_type": "code",
   "execution_count": 10,
   "id": "e4b9f9b2",
   "metadata": {},
   "outputs": [
    {
     "data": {
      "text/html": [
       "<div>\n",
       "<style scoped>\n",
       "    .dataframe tbody tr th:only-of-type {\n",
       "        vertical-align: middle;\n",
       "    }\n",
       "\n",
       "    .dataframe tbody tr th {\n",
       "        vertical-align: top;\n",
       "    }\n",
       "\n",
       "    .dataframe thead th {\n",
       "        text-align: right;\n",
       "    }\n",
       "</style>\n",
       "<table border=\"1\" class=\"dataframe\">\n",
       "  <thead>\n",
       "    <tr style=\"text-align: right;\">\n",
       "      <th></th>\n",
       "      <th>ICD_code_2023</th>\n",
       "      <th>ICD_10_CM_CODE_DESCRIPTION_2023</th>\n",
       "      <th>Default_CCSR_CATEGORY_IP_2023</th>\n",
       "      <th>Default_CCSR_CATEGORY_DESCRIPTION_IP_2023</th>\n",
       "      <th>Default_CCSR_CATEGORY_OP_2023</th>\n",
       "      <th>Default_CCSR_CATEGORY_DESCRIPTION_OP_2023</th>\n",
       "      <th>CCSR_CATEGORY_1_2023</th>\n",
       "      <th>CCSR_CATEGORY_1_DESCRIPTION_2023</th>\n",
       "      <th>CCSR_CATEGORY_2_2023</th>\n",
       "      <th>CCSR_CATEGORY_2_DESCRIPTION_2023</th>\n",
       "      <th>CCSR_CATEGORY_3_2023</th>\n",
       "      <th>CCSR_CATEGORY_3_DESCRIPTION_2023</th>\n",
       "      <th>CCSR_CATEGORY_4_2023</th>\n",
       "      <th>CCSR_CATEGORY_4_DESCRIPTION_2023</th>\n",
       "      <th>CCSR_CATEGORY_5_2023</th>\n",
       "      <th>CCSR_CATEGORY_5_DESCRIPTION_2023</th>\n",
       "      <th>CCSR_CATEGORY_6_2023</th>\n",
       "      <th>CCSR_CATEGORY_6_DESCRIPTION_2023</th>\n",
       "    </tr>\n",
       "  </thead>\n",
       "  <tbody>\n",
       "    <tr>\n",
       "      <th>0</th>\n",
       "      <td>A000</td>\n",
       "      <td>Cholera due to Vibrio cholerae 01, biovar chol...</td>\n",
       "      <td>DIG001</td>\n",
       "      <td>Intestinal infection</td>\n",
       "      <td>DIG001</td>\n",
       "      <td>Intestinal infection</td>\n",
       "      <td>DIG001</td>\n",
       "      <td>Intestinal infection</td>\n",
       "      <td>INF003</td>\n",
       "      <td>Bacterial infections</td>\n",
       "      <td></td>\n",
       "      <td></td>\n",
       "      <td></td>\n",
       "      <td></td>\n",
       "      <td></td>\n",
       "      <td></td>\n",
       "      <td></td>\n",
       "      <td></td>\n",
       "    </tr>\n",
       "    <tr>\n",
       "      <th>1</th>\n",
       "      <td>A001</td>\n",
       "      <td>Cholera due to Vibrio cholerae 01, biovar eltor</td>\n",
       "      <td>DIG001</td>\n",
       "      <td>Intestinal infection</td>\n",
       "      <td>DIG001</td>\n",
       "      <td>Intestinal infection</td>\n",
       "      <td>DIG001</td>\n",
       "      <td>Intestinal infection</td>\n",
       "      <td>INF003</td>\n",
       "      <td>Bacterial infections</td>\n",
       "      <td></td>\n",
       "      <td></td>\n",
       "      <td></td>\n",
       "      <td></td>\n",
       "      <td></td>\n",
       "      <td></td>\n",
       "      <td></td>\n",
       "      <td></td>\n",
       "    </tr>\n",
       "  </tbody>\n",
       "</table>\n",
       "</div>"
      ],
      "text/plain": [
       "  ICD_code_2023                    ICD_10_CM_CODE_DESCRIPTION_2023  \\\n",
       "0          A000  Cholera due to Vibrio cholerae 01, biovar chol...   \n",
       "1          A001    Cholera due to Vibrio cholerae 01, biovar eltor   \n",
       "\n",
       "  Default_CCSR_CATEGORY_IP_2023 Default_CCSR_CATEGORY_DESCRIPTION_IP_2023  \\\n",
       "0                        DIG001                      Intestinal infection   \n",
       "1                        DIG001                      Intestinal infection   \n",
       "\n",
       "  Default_CCSR_CATEGORY_OP_2023 Default_CCSR_CATEGORY_DESCRIPTION_OP_2023  \\\n",
       "0                        DIG001                      Intestinal infection   \n",
       "1                        DIG001                      Intestinal infection   \n",
       "\n",
       "  CCSR_CATEGORY_1_2023 CCSR_CATEGORY_1_DESCRIPTION_2023 CCSR_CATEGORY_2_2023  \\\n",
       "0               DIG001             Intestinal infection               INF003   \n",
       "1               DIG001             Intestinal infection               INF003   \n",
       "\n",
       "  CCSR_CATEGORY_2_DESCRIPTION_2023 CCSR_CATEGORY_3_2023  \\\n",
       "0             Bacterial infections                        \n",
       "1             Bacterial infections                        \n",
       "\n",
       "  CCSR_CATEGORY_3_DESCRIPTION_2023 CCSR_CATEGORY_4_2023  \\\n",
       "0                                                         \n",
       "1                                                         \n",
       "\n",
       "  CCSR_CATEGORY_4_DESCRIPTION_2023 CCSR_CATEGORY_5_2023  \\\n",
       "0                                                         \n",
       "1                                                         \n",
       "\n",
       "  CCSR_CATEGORY_5_DESCRIPTION_2023 CCSR_CATEGORY_6_2023  \\\n",
       "0                                                         \n",
       "1                                                         \n",
       "\n",
       "  CCSR_CATEGORY_6_DESCRIPTION_2023  \n",
       "0                                   \n",
       "1                                   "
      ]
     },
     "execution_count": 10,
     "metadata": {},
     "output_type": "execute_result"
    }
   ],
   "source": [
    "CCSR_2023.head(2)"
   ]
  },
  {
   "cell_type": "code",
   "execution_count": 11,
   "id": "641baea6",
   "metadata": {},
   "outputs": [
    {
     "data": {
      "text/plain": [
       "(74549, 18)"
      ]
     },
     "execution_count": 11,
     "metadata": {},
     "output_type": "execute_result"
    }
   ],
   "source": [
    "CCSR_2023.shape"
   ]
  },
  {
   "cell_type": "markdown",
   "id": "6d1df0ec",
   "metadata": {},
   "source": [
    "# Read ccs_2019 : RIGHT"
   ]
  },
  {
   "cell_type": "code",
   "execution_count": 12,
   "id": "9f853e86",
   "metadata": {},
   "outputs": [],
   "source": [
    "CCS_2019= pd.read_csv(\"s3://intl-euro-uk-datascientist-prod/Abhiya/icd_files_2019-2023/CCS_ICD_CODE_2019.csv\")"
   ]
  },
  {
   "cell_type": "code",
   "execution_count": 13,
   "id": "bd9aa525",
   "metadata": {
    "collapsed": true,
    "jupyter": {
     "outputs_hidden": true
    }
   },
   "outputs": [
    {
     "data": {
      "text/html": [
       "<div>\n",
       "<style scoped>\n",
       "    .dataframe tbody tr th:only-of-type {\n",
       "        vertical-align: middle;\n",
       "    }\n",
       "\n",
       "    .dataframe tbody tr th {\n",
       "        vertical-align: top;\n",
       "    }\n",
       "\n",
       "    .dataframe thead th {\n",
       "        text-align: right;\n",
       "    }\n",
       "</style>\n",
       "<table border=\"1\" class=\"dataframe\">\n",
       "  <thead>\n",
       "    <tr style=\"text-align: right;\">\n",
       "      <th></th>\n",
       "      <th>icd_code_2019</th>\n",
       "      <th>CCS_CATEGORY_2019</th>\n",
       "      <th>ICD_10_CM_CODE_DESCRIPTION_2019</th>\n",
       "      <th>CCS_CATEGORY_DESCRIPTION_2019</th>\n",
       "      <th>CCS_LVL_1_code_2019</th>\n",
       "      <th>CCS_LVL_1_Description_2019</th>\n",
       "      <th>CCS_LVL_2_code_2019</th>\n",
       "      <th>CCS_LVL_2_Description_2019</th>\n",
       "    </tr>\n",
       "  </thead>\n",
       "  <tbody>\n",
       "    <tr>\n",
       "      <th>0</th>\n",
       "      <td>A150</td>\n",
       "      <td>1</td>\n",
       "      <td>Tuberculosis of lung</td>\n",
       "      <td>Tuberculosis</td>\n",
       "      <td>1</td>\n",
       "      <td>Infectious and parasitic diseases</td>\n",
       "      <td>1.1</td>\n",
       "      <td>Bacterial infection</td>\n",
       "    </tr>\n",
       "    <tr>\n",
       "      <th>1</th>\n",
       "      <td>A154</td>\n",
       "      <td>1</td>\n",
       "      <td>Tuberculosis of intrathoracic lymph nodes</td>\n",
       "      <td>Tuberculosis</td>\n",
       "      <td>1</td>\n",
       "      <td>Infectious and parasitic diseases</td>\n",
       "      <td>1.1</td>\n",
       "      <td>Bacterial infection</td>\n",
       "    </tr>\n",
       "    <tr>\n",
       "      <th>2</th>\n",
       "      <td>A155</td>\n",
       "      <td>1</td>\n",
       "      <td>Tuberculosis of larynx, trachea and bronchus</td>\n",
       "      <td>Tuberculosis</td>\n",
       "      <td>1</td>\n",
       "      <td>Infectious and parasitic diseases</td>\n",
       "      <td>1.1</td>\n",
       "      <td>Bacterial infection</td>\n",
       "    </tr>\n",
       "  </tbody>\n",
       "</table>\n",
       "</div>"
      ],
      "text/plain": [
       "  icd_code_2019  CCS_CATEGORY_2019  \\\n",
       "0          A150                  1   \n",
       "1          A154                  1   \n",
       "2          A155                  1   \n",
       "\n",
       "                ICD_10_CM_CODE_DESCRIPTION_2019 CCS_CATEGORY_DESCRIPTION_2019  \\\n",
       "0                          Tuberculosis of lung                  Tuberculosis   \n",
       "1     Tuberculosis of intrathoracic lymph nodes                  Tuberculosis   \n",
       "2  Tuberculosis of larynx, trachea and bronchus                  Tuberculosis   \n",
       "\n",
       "   CCS_LVL_1_code_2019         CCS_LVL_1_Description_2019 CCS_LVL_2_code_2019  \\\n",
       "0                    1  Infectious and parasitic diseases                 1.1   \n",
       "1                    1  Infectious and parasitic diseases                 1.1   \n",
       "2                    1  Infectious and parasitic diseases                 1.1   \n",
       "\n",
       "  CCS_LVL_2_Description_2019  \n",
       "0        Bacterial infection  \n",
       "1        Bacterial infection  \n",
       "2        Bacterial infection  "
      ]
     },
     "execution_count": 13,
     "metadata": {},
     "output_type": "execute_result"
    }
   ],
   "source": [
    "CCS_2019.head(3)"
   ]
  },
  {
   "cell_type": "code",
   "execution_count": 14,
   "id": "b6c95cdd",
   "metadata": {},
   "outputs": [
    {
     "data": {
      "text/plain": [
       "(72477, 8)"
      ]
     },
     "execution_count": 14,
     "metadata": {},
     "output_type": "execute_result"
    }
   ],
   "source": [
    "CCS_2019.shape"
   ]
  },
  {
   "cell_type": "markdown",
   "id": "73b1ed06",
   "metadata": {},
   "source": [
    "# Map both the files LEFT : 2023 And RIGHT: 2019 OUTER JOIN"
   ]
  },
  {
   "cell_type": "code",
   "execution_count": 15,
   "id": "4dee18c8",
   "metadata": {},
   "outputs": [
    {
     "data": {
      "text/html": [
       "<div>\n",
       "<style scoped>\n",
       "    .dataframe tbody tr th:only-of-type {\n",
       "        vertical-align: middle;\n",
       "    }\n",
       "\n",
       "    .dataframe tbody tr th {\n",
       "        vertical-align: top;\n",
       "    }\n",
       "\n",
       "    .dataframe thead th {\n",
       "        text-align: right;\n",
       "    }\n",
       "</style>\n",
       "<table border=\"1\" class=\"dataframe\">\n",
       "  <thead>\n",
       "    <tr style=\"text-align: right;\">\n",
       "      <th></th>\n",
       "      <th>ICD_code_2023</th>\n",
       "      <th>ICD_10_CM_CODE_DESCRIPTION_2023</th>\n",
       "      <th>Default_CCSR_CATEGORY_IP_2023</th>\n",
       "      <th>Default_CCSR_CATEGORY_DESCRIPTION_IP_2023</th>\n",
       "      <th>Default_CCSR_CATEGORY_OP_2023</th>\n",
       "      <th>Default_CCSR_CATEGORY_DESCRIPTION_OP_2023</th>\n",
       "      <th>CCSR_CATEGORY_1_2023</th>\n",
       "      <th>CCSR_CATEGORY_1_DESCRIPTION_2023</th>\n",
       "      <th>CCSR_CATEGORY_2_2023</th>\n",
       "      <th>CCSR_CATEGORY_2_DESCRIPTION_2023</th>\n",
       "      <th>CCSR_CATEGORY_3_2023</th>\n",
       "      <th>CCSR_CATEGORY_3_DESCRIPTION_2023</th>\n",
       "      <th>CCSR_CATEGORY_4_2023</th>\n",
       "      <th>CCSR_CATEGORY_4_DESCRIPTION_2023</th>\n",
       "      <th>CCSR_CATEGORY_5_2023</th>\n",
       "      <th>CCSR_CATEGORY_5_DESCRIPTION_2023</th>\n",
       "      <th>CCSR_CATEGORY_6_2023</th>\n",
       "      <th>CCSR_CATEGORY_6_DESCRIPTION_2023</th>\n",
       "      <th>icd_code_2019</th>\n",
       "      <th>CCS_CATEGORY_2019</th>\n",
       "      <th>ICD_10_CM_CODE_DESCRIPTION_2019</th>\n",
       "      <th>CCS_CATEGORY_DESCRIPTION_2019</th>\n",
       "      <th>CCS_LVL_1_code_2019</th>\n",
       "      <th>CCS_LVL_1_Description_2019</th>\n",
       "      <th>CCS_LVL_2_code_2019</th>\n",
       "      <th>CCS_LVL_2_Description_2019</th>\n",
       "      <th>ICD_CODE_BUCKET_ccsr23_ccs19</th>\n",
       "    </tr>\n",
       "  </thead>\n",
       "  <tbody>\n",
       "    <tr>\n",
       "      <th>0</th>\n",
       "      <td>A000</td>\n",
       "      <td>Cholera due to Vibrio cholerae 01, biovar chol...</td>\n",
       "      <td>DIG001</td>\n",
       "      <td>Intestinal infection</td>\n",
       "      <td>DIG001</td>\n",
       "      <td>Intestinal infection</td>\n",
       "      <td>DIG001</td>\n",
       "      <td>Intestinal infection</td>\n",
       "      <td>INF003</td>\n",
       "      <td>Bacterial infections</td>\n",
       "      <td></td>\n",
       "      <td></td>\n",
       "      <td></td>\n",
       "      <td></td>\n",
       "      <td></td>\n",
       "      <td></td>\n",
       "      <td></td>\n",
       "      <td></td>\n",
       "      <td>A000</td>\n",
       "      <td>135.0</td>\n",
       "      <td>Cholera due to Vibrio cholerae 01, biovar chol...</td>\n",
       "      <td>Intestinal infection</td>\n",
       "      <td>9.0</td>\n",
       "      <td>Diseases of the digestive system</td>\n",
       "      <td>9.1</td>\n",
       "      <td>Intestinal infection</td>\n",
       "      <td>both</td>\n",
       "    </tr>\n",
       "    <tr>\n",
       "      <th>1</th>\n",
       "      <td>A001</td>\n",
       "      <td>Cholera due to Vibrio cholerae 01, biovar eltor</td>\n",
       "      <td>DIG001</td>\n",
       "      <td>Intestinal infection</td>\n",
       "      <td>DIG001</td>\n",
       "      <td>Intestinal infection</td>\n",
       "      <td>DIG001</td>\n",
       "      <td>Intestinal infection</td>\n",
       "      <td>INF003</td>\n",
       "      <td>Bacterial infections</td>\n",
       "      <td></td>\n",
       "      <td></td>\n",
       "      <td></td>\n",
       "      <td></td>\n",
       "      <td></td>\n",
       "      <td></td>\n",
       "      <td></td>\n",
       "      <td></td>\n",
       "      <td>A001</td>\n",
       "      <td>135.0</td>\n",
       "      <td>Cholera due to Vibrio cholerae 01, biovar eltor</td>\n",
       "      <td>Intestinal infection</td>\n",
       "      <td>9.0</td>\n",
       "      <td>Diseases of the digestive system</td>\n",
       "      <td>9.1</td>\n",
       "      <td>Intestinal infection</td>\n",
       "      <td>both</td>\n",
       "    </tr>\n",
       "  </tbody>\n",
       "</table>\n",
       "</div>"
      ],
      "text/plain": [
       "  ICD_code_2023                    ICD_10_CM_CODE_DESCRIPTION_2023  \\\n",
       "0          A000  Cholera due to Vibrio cholerae 01, biovar chol...   \n",
       "1          A001    Cholera due to Vibrio cholerae 01, biovar eltor   \n",
       "\n",
       "  Default_CCSR_CATEGORY_IP_2023 Default_CCSR_CATEGORY_DESCRIPTION_IP_2023  \\\n",
       "0                        DIG001                      Intestinal infection   \n",
       "1                        DIG001                      Intestinal infection   \n",
       "\n",
       "  Default_CCSR_CATEGORY_OP_2023 Default_CCSR_CATEGORY_DESCRIPTION_OP_2023  \\\n",
       "0                        DIG001                      Intestinal infection   \n",
       "1                        DIG001                      Intestinal infection   \n",
       "\n",
       "  CCSR_CATEGORY_1_2023 CCSR_CATEGORY_1_DESCRIPTION_2023 CCSR_CATEGORY_2_2023  \\\n",
       "0               DIG001             Intestinal infection               INF003   \n",
       "1               DIG001             Intestinal infection               INF003   \n",
       "\n",
       "  CCSR_CATEGORY_2_DESCRIPTION_2023 CCSR_CATEGORY_3_2023  \\\n",
       "0             Bacterial infections                        \n",
       "1             Bacterial infections                        \n",
       "\n",
       "  CCSR_CATEGORY_3_DESCRIPTION_2023 CCSR_CATEGORY_4_2023  \\\n",
       "0                                                         \n",
       "1                                                         \n",
       "\n",
       "  CCSR_CATEGORY_4_DESCRIPTION_2023 CCSR_CATEGORY_5_2023  \\\n",
       "0                                                         \n",
       "1                                                         \n",
       "\n",
       "  CCSR_CATEGORY_5_DESCRIPTION_2023 CCSR_CATEGORY_6_2023  \\\n",
       "0                                                         \n",
       "1                                                         \n",
       "\n",
       "  CCSR_CATEGORY_6_DESCRIPTION_2023 icd_code_2019  CCS_CATEGORY_2019  \\\n",
       "0                                           A000              135.0   \n",
       "1                                           A001              135.0   \n",
       "\n",
       "                     ICD_10_CM_CODE_DESCRIPTION_2019  \\\n",
       "0  Cholera due to Vibrio cholerae 01, biovar chol...   \n",
       "1    Cholera due to Vibrio cholerae 01, biovar eltor   \n",
       "\n",
       "  CCS_CATEGORY_DESCRIPTION_2019  CCS_LVL_1_code_2019  \\\n",
       "0          Intestinal infection                  9.0   \n",
       "1          Intestinal infection                  9.0   \n",
       "\n",
       "         CCS_LVL_1_Description_2019 CCS_LVL_2_code_2019  \\\n",
       "0  Diseases of the digestive system                 9.1   \n",
       "1  Diseases of the digestive system                 9.1   \n",
       "\n",
       "  CCS_LVL_2_Description_2019 ICD_CODE_BUCKET_ccsr23_ccs19  \n",
       "0       Intestinal infection                         both  \n",
       "1       Intestinal infection                         both  "
      ]
     },
     "execution_count": 15,
     "metadata": {},
     "output_type": "execute_result"
    }
   ],
   "source": [
    "CCSR_CCS_19_23_v1=pd.merge(left=CCSR_2023,right=CCS_2019, how='outer',\\\n",
    "                        left_on='ICD_code_2023',right_on='icd_code_2019', indicator='ICD_CODE_BUCKET_ccsr23_ccs19') \n",
    "\n",
    "CCSR_CCS_19_23_v1.head(2)\n"
   ]
  },
  {
   "cell_type": "code",
   "execution_count": 16,
   "id": "14e8a0d7",
   "metadata": {
    "collapsed": true,
    "jupyter": {
     "outputs_hidden": true
    }
   },
   "outputs": [
    {
     "name": "stdout",
     "output_type": "stream",
     "text": [
      "<class 'pandas.core.frame.DataFrame'>\n",
      "RangeIndex: 74582 entries, 0 to 74581\n",
      "Data columns (total 27 columns):\n",
      " #   Column                                     Non-Null Count  Dtype   \n",
      "---  ------                                     --------------  -----   \n",
      " 0   ICD_code_2023                              74549 non-null  object  \n",
      " 1   ICD_10_CM_CODE_DESCRIPTION_2023            74549 non-null  object  \n",
      " 2   Default_CCSR_CATEGORY_IP_2023              74549 non-null  object  \n",
      " 3   Default_CCSR_CATEGORY_DESCRIPTION_IP_2023  74549 non-null  object  \n",
      " 4   Default_CCSR_CATEGORY_OP_2023              74549 non-null  object  \n",
      " 5   Default_CCSR_CATEGORY_DESCRIPTION_OP_2023  74549 non-null  object  \n",
      " 6   CCSR_CATEGORY_1_2023                       74549 non-null  object  \n",
      " 7   CCSR_CATEGORY_1_DESCRIPTION_2023           74549 non-null  object  \n",
      " 8   CCSR_CATEGORY_2_2023                       74549 non-null  object  \n",
      " 9   CCSR_CATEGORY_2_DESCRIPTION_2023           74549 non-null  object  \n",
      " 10  CCSR_CATEGORY_3_2023                       74549 non-null  object  \n",
      " 11  CCSR_CATEGORY_3_DESCRIPTION_2023           74549 non-null  object  \n",
      " 12  CCSR_CATEGORY_4_2023                       74549 non-null  object  \n",
      " 13  CCSR_CATEGORY_4_DESCRIPTION_2023           74549 non-null  object  \n",
      " 14  CCSR_CATEGORY_5_2023                       74549 non-null  object  \n",
      " 15  CCSR_CATEGORY_5_DESCRIPTION_2023           74549 non-null  object  \n",
      " 16  CCSR_CATEGORY_6_2023                       74549 non-null  object  \n",
      " 17  CCSR_CATEGORY_6_DESCRIPTION_2023           74549 non-null  object  \n",
      " 18  icd_code_2019                              72477 non-null  object  \n",
      " 19  CCS_CATEGORY_2019                          72477 non-null  float64 \n",
      " 20  ICD_10_CM_CODE_DESCRIPTION_2019            72477 non-null  object  \n",
      " 21  CCS_CATEGORY_DESCRIPTION_2019              72477 non-null  object  \n",
      " 22  CCS_LVL_1_code_2019                        72477 non-null  float64 \n",
      " 23  CCS_LVL_1_Description_2019                 72477 non-null  object  \n",
      " 24  CCS_LVL_2_code_2019                        72477 non-null  object  \n",
      " 25  CCS_LVL_2_Description_2019                 72477 non-null  object  \n",
      " 26  ICD_CODE_BUCKET_ccsr23_ccs19               74582 non-null  category\n",
      "dtypes: category(1), float64(2), object(24)\n",
      "memory usage: 14.9+ MB\n"
     ]
    }
   ],
   "source": [
    "CCSR_CCS_19_23_v1.info()"
   ]
  },
  {
   "cell_type": "code",
   "execution_count": 17,
   "id": "0ab35797",
   "metadata": {},
   "outputs": [
    {
     "data": {
      "text/plain": [
       "(74582, 27)"
      ]
     },
     "execution_count": 17,
     "metadata": {},
     "output_type": "execute_result"
    }
   ],
   "source": [
    "CCSR_CCS_19_23_v1.shape"
   ]
  },
  {
   "cell_type": "markdown",
   "id": "16748437",
   "metadata": {},
   "source": [
    "## Rearrange columns in mapped file"
   ]
  },
  {
   "cell_type": "code",
   "execution_count": 18,
   "id": "59e35e06",
   "metadata": {},
   "outputs": [],
   "source": [
    "CCSR_CCS_19_23_v1= CCSR_CCS_19_23_v1.iloc[:,[0,1,18,20,26,2,3,4,5,19,21,6,7,22,23,8,9,24,25,10,11,12,13,14,15,16,17]]"
   ]
  },
  {
   "cell_type": "code",
   "execution_count": 19,
   "id": "33a8e4f1",
   "metadata": {},
   "outputs": [
    {
     "data": {
      "text/plain": [
       "{'paths': ['s3://intl-euro-uk-datascientist-prod/Abhiya/CCSR_CCS_23_19_comparison_outer_join.csv'],\n",
       " 'partitions_values': {}}"
      ]
     },
     "execution_count": 19,
     "metadata": {},
     "output_type": "execute_result"
    }
   ],
   "source": [
    "wr.s3.to_csv(\n",
    "    df= CCSR_CCS_19_23_v1,\n",
    "    path='s3://intl-euro-uk-datascientist-prod/Abhiya/CCSR_CCS_23_19_comparison_outer_join.csv')"
   ]
  },
  {
   "cell_type": "code",
   "execution_count": 20,
   "id": "06bfc8f1",
   "metadata": {
    "collapsed": true,
    "jupyter": {
     "outputs_hidden": true
    }
   },
   "outputs": [
    {
     "data": {
      "text/html": [
       "<div>\n",
       "<style scoped>\n",
       "    .dataframe tbody tr th:only-of-type {\n",
       "        vertical-align: middle;\n",
       "    }\n",
       "\n",
       "    .dataframe tbody tr th {\n",
       "        vertical-align: top;\n",
       "    }\n",
       "\n",
       "    .dataframe thead th {\n",
       "        text-align: right;\n",
       "    }\n",
       "</style>\n",
       "<table border=\"1\" class=\"dataframe\">\n",
       "  <thead>\n",
       "    <tr style=\"text-align: right;\">\n",
       "      <th></th>\n",
       "      <th>ICD_code_2023</th>\n",
       "      <th>ICD_10_CM_CODE_DESCRIPTION_2023</th>\n",
       "      <th>icd_code_2019</th>\n",
       "      <th>ICD_10_CM_CODE_DESCRIPTION_2019</th>\n",
       "      <th>ICD_CODE_BUCKET_ccsr23_ccs19</th>\n",
       "      <th>Default_CCSR_CATEGORY_IP_2023</th>\n",
       "      <th>Default_CCSR_CATEGORY_DESCRIPTION_IP_2023</th>\n",
       "      <th>Default_CCSR_CATEGORY_OP_2023</th>\n",
       "      <th>Default_CCSR_CATEGORY_DESCRIPTION_OP_2023</th>\n",
       "      <th>CCS_CATEGORY_2019</th>\n",
       "      <th>CCS_CATEGORY_DESCRIPTION_2019</th>\n",
       "      <th>CCSR_CATEGORY_1_2023</th>\n",
       "      <th>CCSR_CATEGORY_1_DESCRIPTION_2023</th>\n",
       "      <th>CCS_LVL_1_code_2019</th>\n",
       "      <th>CCS_LVL_1_Description_2019</th>\n",
       "      <th>CCSR_CATEGORY_2_2023</th>\n",
       "      <th>CCSR_CATEGORY_2_DESCRIPTION_2023</th>\n",
       "      <th>CCS_LVL_2_code_2019</th>\n",
       "      <th>CCS_LVL_2_Description_2019</th>\n",
       "      <th>CCSR_CATEGORY_3_2023</th>\n",
       "      <th>CCSR_CATEGORY_3_DESCRIPTION_2023</th>\n",
       "      <th>CCSR_CATEGORY_4_2023</th>\n",
       "      <th>CCSR_CATEGORY_4_DESCRIPTION_2023</th>\n",
       "      <th>CCSR_CATEGORY_5_2023</th>\n",
       "      <th>CCSR_CATEGORY_5_DESCRIPTION_2023</th>\n",
       "      <th>CCSR_CATEGORY_6_2023</th>\n",
       "      <th>CCSR_CATEGORY_6_DESCRIPTION_2023</th>\n",
       "    </tr>\n",
       "  </thead>\n",
       "  <tbody>\n",
       "    <tr>\n",
       "      <th>0</th>\n",
       "      <td>A000</td>\n",
       "      <td>Cholera due to Vibrio cholerae 01, biovar chol...</td>\n",
       "      <td>A000</td>\n",
       "      <td>Cholera due to Vibrio cholerae 01, biovar chol...</td>\n",
       "      <td>both</td>\n",
       "      <td>DIG001</td>\n",
       "      <td>Intestinal infection</td>\n",
       "      <td>DIG001</td>\n",
       "      <td>Intestinal infection</td>\n",
       "      <td>135.0</td>\n",
       "      <td>Intestinal infection</td>\n",
       "      <td>DIG001</td>\n",
       "      <td>Intestinal infection</td>\n",
       "      <td>9.0</td>\n",
       "      <td>Diseases of the digestive system</td>\n",
       "      <td>INF003</td>\n",
       "      <td>Bacterial infections</td>\n",
       "      <td>9.1</td>\n",
       "      <td>Intestinal infection</td>\n",
       "      <td></td>\n",
       "      <td></td>\n",
       "      <td></td>\n",
       "      <td></td>\n",
       "      <td></td>\n",
       "      <td></td>\n",
       "      <td></td>\n",
       "      <td></td>\n",
       "    </tr>\n",
       "    <tr>\n",
       "      <th>1</th>\n",
       "      <td>A001</td>\n",
       "      <td>Cholera due to Vibrio cholerae 01, biovar eltor</td>\n",
       "      <td>A001</td>\n",
       "      <td>Cholera due to Vibrio cholerae 01, biovar eltor</td>\n",
       "      <td>both</td>\n",
       "      <td>DIG001</td>\n",
       "      <td>Intestinal infection</td>\n",
       "      <td>DIG001</td>\n",
       "      <td>Intestinal infection</td>\n",
       "      <td>135.0</td>\n",
       "      <td>Intestinal infection</td>\n",
       "      <td>DIG001</td>\n",
       "      <td>Intestinal infection</td>\n",
       "      <td>9.0</td>\n",
       "      <td>Diseases of the digestive system</td>\n",
       "      <td>INF003</td>\n",
       "      <td>Bacterial infections</td>\n",
       "      <td>9.1</td>\n",
       "      <td>Intestinal infection</td>\n",
       "      <td></td>\n",
       "      <td></td>\n",
       "      <td></td>\n",
       "      <td></td>\n",
       "      <td></td>\n",
       "      <td></td>\n",
       "      <td></td>\n",
       "      <td></td>\n",
       "    </tr>\n",
       "    <tr>\n",
       "      <th>2</th>\n",
       "      <td>A009</td>\n",
       "      <td>Cholera, unspecified</td>\n",
       "      <td>A009</td>\n",
       "      <td>Cholera, unspecified</td>\n",
       "      <td>both</td>\n",
       "      <td>DIG001</td>\n",
       "      <td>Intestinal infection</td>\n",
       "      <td>DIG001</td>\n",
       "      <td>Intestinal infection</td>\n",
       "      <td>135.0</td>\n",
       "      <td>Intestinal infection</td>\n",
       "      <td>DIG001</td>\n",
       "      <td>Intestinal infection</td>\n",
       "      <td>9.0</td>\n",
       "      <td>Diseases of the digestive system</td>\n",
       "      <td>INF003</td>\n",
       "      <td>Bacterial infections</td>\n",
       "      <td>9.1</td>\n",
       "      <td>Intestinal infection</td>\n",
       "      <td></td>\n",
       "      <td></td>\n",
       "      <td></td>\n",
       "      <td></td>\n",
       "      <td></td>\n",
       "      <td></td>\n",
       "      <td></td>\n",
       "      <td></td>\n",
       "    </tr>\n",
       "  </tbody>\n",
       "</table>\n",
       "</div>"
      ],
      "text/plain": [
       "  ICD_code_2023                    ICD_10_CM_CODE_DESCRIPTION_2023  \\\n",
       "0          A000  Cholera due to Vibrio cholerae 01, biovar chol...   \n",
       "1          A001    Cholera due to Vibrio cholerae 01, biovar eltor   \n",
       "2          A009                               Cholera, unspecified   \n",
       "\n",
       "  icd_code_2019                    ICD_10_CM_CODE_DESCRIPTION_2019  \\\n",
       "0          A000  Cholera due to Vibrio cholerae 01, biovar chol...   \n",
       "1          A001    Cholera due to Vibrio cholerae 01, biovar eltor   \n",
       "2          A009                               Cholera, unspecified   \n",
       "\n",
       "  ICD_CODE_BUCKET_ccsr23_ccs19 Default_CCSR_CATEGORY_IP_2023  \\\n",
       "0                         both                        DIG001   \n",
       "1                         both                        DIG001   \n",
       "2                         both                        DIG001   \n",
       "\n",
       "  Default_CCSR_CATEGORY_DESCRIPTION_IP_2023 Default_CCSR_CATEGORY_OP_2023  \\\n",
       "0                      Intestinal infection                        DIG001   \n",
       "1                      Intestinal infection                        DIG001   \n",
       "2                      Intestinal infection                        DIG001   \n",
       "\n",
       "  Default_CCSR_CATEGORY_DESCRIPTION_OP_2023  CCS_CATEGORY_2019  \\\n",
       "0                      Intestinal infection              135.0   \n",
       "1                      Intestinal infection              135.0   \n",
       "2                      Intestinal infection              135.0   \n",
       "\n",
       "  CCS_CATEGORY_DESCRIPTION_2019 CCSR_CATEGORY_1_2023  \\\n",
       "0          Intestinal infection               DIG001   \n",
       "1          Intestinal infection               DIG001   \n",
       "2          Intestinal infection               DIG001   \n",
       "\n",
       "  CCSR_CATEGORY_1_DESCRIPTION_2023  CCS_LVL_1_code_2019  \\\n",
       "0             Intestinal infection                  9.0   \n",
       "1             Intestinal infection                  9.0   \n",
       "2             Intestinal infection                  9.0   \n",
       "\n",
       "         CCS_LVL_1_Description_2019 CCSR_CATEGORY_2_2023  \\\n",
       "0  Diseases of the digestive system               INF003   \n",
       "1  Diseases of the digestive system               INF003   \n",
       "2  Diseases of the digestive system               INF003   \n",
       "\n",
       "  CCSR_CATEGORY_2_DESCRIPTION_2023 CCS_LVL_2_code_2019  \\\n",
       "0             Bacterial infections                 9.1   \n",
       "1             Bacterial infections                 9.1   \n",
       "2             Bacterial infections                 9.1   \n",
       "\n",
       "  CCS_LVL_2_Description_2019 CCSR_CATEGORY_3_2023  \\\n",
       "0       Intestinal infection                        \n",
       "1       Intestinal infection                        \n",
       "2       Intestinal infection                        \n",
       "\n",
       "  CCSR_CATEGORY_3_DESCRIPTION_2023 CCSR_CATEGORY_4_2023  \\\n",
       "0                                                         \n",
       "1                                                         \n",
       "2                                                         \n",
       "\n",
       "  CCSR_CATEGORY_4_DESCRIPTION_2023 CCSR_CATEGORY_5_2023  \\\n",
       "0                                                         \n",
       "1                                                         \n",
       "2                                                         \n",
       "\n",
       "  CCSR_CATEGORY_5_DESCRIPTION_2023 CCSR_CATEGORY_6_2023  \\\n",
       "0                                                         \n",
       "1                                                         \n",
       "2                                                         \n",
       "\n",
       "  CCSR_CATEGORY_6_DESCRIPTION_2023  \n",
       "0                                   \n",
       "1                                   \n",
       "2                                   "
      ]
     },
     "execution_count": 20,
     "metadata": {},
     "output_type": "execute_result"
    }
   ],
   "source": [
    "CCSR_CCS_19_23_v1.head(3)"
   ]
  },
  {
   "cell_type": "code",
   "execution_count": 21,
   "id": "7cdd0f52",
   "metadata": {},
   "outputs": [
    {
     "data": {
      "text/plain": [
       "(74582, 27)"
      ]
     },
     "execution_count": 21,
     "metadata": {},
     "output_type": "execute_result"
    }
   ],
   "source": [
    "CCSR_CCS_19_23_v1.shape"
   ]
  },
  {
   "cell_type": "markdown",
   "id": "f1e9a09f",
   "metadata": {},
   "source": [
    "##  RESULT OF COMPARISON OF ICD_2023 AND ICD_2019 CODES"
   ]
  },
  {
   "cell_type": "code",
   "execution_count": 22,
   "id": "fa3e9de4",
   "metadata": {
    "collapsed": true,
    "jupyter": {
     "outputs_hidden": true
    },
    "tags": []
   },
   "outputs": [
    {
     "ename": "KeyError",
     "evalue": "'ICD_CODE_BUCKET'",
     "output_type": "error",
     "traceback": [
      "\u001b[0;31m---------------------------------------------------------------------------\u001b[0m",
      "\u001b[0;31mKeyError\u001b[0m                                  Traceback (most recent call last)",
      "File \u001b[0;32m~/anaconda3/envs/python3/lib/python3.10/site-packages/pandas/core/indexes/base.py:3790\u001b[0m, in \u001b[0;36mIndex.get_loc\u001b[0;34m(self, key)\u001b[0m\n\u001b[1;32m   3789\u001b[0m \u001b[38;5;28;01mtry\u001b[39;00m:\n\u001b[0;32m-> 3790\u001b[0m     \u001b[38;5;28;01mreturn\u001b[39;00m \u001b[38;5;28;43mself\u001b[39;49m\u001b[38;5;241;43m.\u001b[39;49m\u001b[43m_engine\u001b[49m\u001b[38;5;241;43m.\u001b[39;49m\u001b[43mget_loc\u001b[49m\u001b[43m(\u001b[49m\u001b[43mcasted_key\u001b[49m\u001b[43m)\u001b[49m\n\u001b[1;32m   3791\u001b[0m \u001b[38;5;28;01mexcept\u001b[39;00m \u001b[38;5;167;01mKeyError\u001b[39;00m \u001b[38;5;28;01mas\u001b[39;00m err:\n",
      "File \u001b[0;32mindex.pyx:152\u001b[0m, in \u001b[0;36mpandas._libs.index.IndexEngine.get_loc\u001b[0;34m()\u001b[0m\n",
      "File \u001b[0;32mindex.pyx:181\u001b[0m, in \u001b[0;36mpandas._libs.index.IndexEngine.get_loc\u001b[0;34m()\u001b[0m\n",
      "File \u001b[0;32mpandas/_libs/hashtable_class_helper.pxi:7080\u001b[0m, in \u001b[0;36mpandas._libs.hashtable.PyObjectHashTable.get_item\u001b[0;34m()\u001b[0m\n",
      "File \u001b[0;32mpandas/_libs/hashtable_class_helper.pxi:7088\u001b[0m, in \u001b[0;36mpandas._libs.hashtable.PyObjectHashTable.get_item\u001b[0;34m()\u001b[0m\n",
      "\u001b[0;31mKeyError\u001b[0m: 'ICD_CODE_BUCKET'",
      "\nThe above exception was the direct cause of the following exception:\n",
      "\u001b[0;31mKeyError\u001b[0m                                  Traceback (most recent call last)",
      "Cell \u001b[0;32mIn[22], line 1\u001b[0m\n\u001b[0;32m----> 1\u001b[0m \u001b[43mCCSR_CCS_19_23_v1\u001b[49m\u001b[43m[\u001b[49m\u001b[38;5;124;43m'\u001b[39;49m\u001b[38;5;124;43mICD_CODE_BUCKET\u001b[39;49m\u001b[38;5;124;43m'\u001b[39;49m\u001b[43m]\u001b[49m\u001b[38;5;241m.\u001b[39mvalue_counts(normalize\u001b[38;5;241m=\u001b[39m\u001b[38;5;28;01mFalse\u001b[39;00m) \n\u001b[1;32m      3\u001b[0m \u001b[38;5;66;03m# Left_only = 2023\u001b[39;00m\n\u001b[1;32m      4\u001b[0m \u001b[38;5;66;03m# right_only = 2019\u001b[39;00m\n",
      "File \u001b[0;32m~/anaconda3/envs/python3/lib/python3.10/site-packages/pandas/core/frame.py:3896\u001b[0m, in \u001b[0;36mDataFrame.__getitem__\u001b[0;34m(self, key)\u001b[0m\n\u001b[1;32m   3894\u001b[0m \u001b[38;5;28;01mif\u001b[39;00m \u001b[38;5;28mself\u001b[39m\u001b[38;5;241m.\u001b[39mcolumns\u001b[38;5;241m.\u001b[39mnlevels \u001b[38;5;241m>\u001b[39m \u001b[38;5;241m1\u001b[39m:\n\u001b[1;32m   3895\u001b[0m     \u001b[38;5;28;01mreturn\u001b[39;00m \u001b[38;5;28mself\u001b[39m\u001b[38;5;241m.\u001b[39m_getitem_multilevel(key)\n\u001b[0;32m-> 3896\u001b[0m indexer \u001b[38;5;241m=\u001b[39m \u001b[38;5;28;43mself\u001b[39;49m\u001b[38;5;241;43m.\u001b[39;49m\u001b[43mcolumns\u001b[49m\u001b[38;5;241;43m.\u001b[39;49m\u001b[43mget_loc\u001b[49m\u001b[43m(\u001b[49m\u001b[43mkey\u001b[49m\u001b[43m)\u001b[49m\n\u001b[1;32m   3897\u001b[0m \u001b[38;5;28;01mif\u001b[39;00m is_integer(indexer):\n\u001b[1;32m   3898\u001b[0m     indexer \u001b[38;5;241m=\u001b[39m [indexer]\n",
      "File \u001b[0;32m~/anaconda3/envs/python3/lib/python3.10/site-packages/pandas/core/indexes/base.py:3797\u001b[0m, in \u001b[0;36mIndex.get_loc\u001b[0;34m(self, key)\u001b[0m\n\u001b[1;32m   3792\u001b[0m     \u001b[38;5;28;01mif\u001b[39;00m \u001b[38;5;28misinstance\u001b[39m(casted_key, \u001b[38;5;28mslice\u001b[39m) \u001b[38;5;129;01mor\u001b[39;00m (\n\u001b[1;32m   3793\u001b[0m         \u001b[38;5;28misinstance\u001b[39m(casted_key, abc\u001b[38;5;241m.\u001b[39mIterable)\n\u001b[1;32m   3794\u001b[0m         \u001b[38;5;129;01mand\u001b[39;00m \u001b[38;5;28many\u001b[39m(\u001b[38;5;28misinstance\u001b[39m(x, \u001b[38;5;28mslice\u001b[39m) \u001b[38;5;28;01mfor\u001b[39;00m x \u001b[38;5;129;01min\u001b[39;00m casted_key)\n\u001b[1;32m   3795\u001b[0m     ):\n\u001b[1;32m   3796\u001b[0m         \u001b[38;5;28;01mraise\u001b[39;00m InvalidIndexError(key)\n\u001b[0;32m-> 3797\u001b[0m     \u001b[38;5;28;01mraise\u001b[39;00m \u001b[38;5;167;01mKeyError\u001b[39;00m(key) \u001b[38;5;28;01mfrom\u001b[39;00m \u001b[38;5;21;01merr\u001b[39;00m\n\u001b[1;32m   3798\u001b[0m \u001b[38;5;28;01mexcept\u001b[39;00m \u001b[38;5;167;01mTypeError\u001b[39;00m:\n\u001b[1;32m   3799\u001b[0m     \u001b[38;5;66;03m# If we have a listlike key, _check_indexing_error will raise\u001b[39;00m\n\u001b[1;32m   3800\u001b[0m     \u001b[38;5;66;03m#  InvalidIndexError. Otherwise we fall through and re-raise\u001b[39;00m\n\u001b[1;32m   3801\u001b[0m     \u001b[38;5;66;03m#  the TypeError.\u001b[39;00m\n\u001b[1;32m   3802\u001b[0m     \u001b[38;5;28mself\u001b[39m\u001b[38;5;241m.\u001b[39m_check_indexing_error(key)\n",
      "\u001b[0;31mKeyError\u001b[0m: 'ICD_CODE_BUCKET'"
     ]
    }
   ],
   "source": [
    "CCSR_CCS_19_23_v1['ICD_CODE_BUCKET'].value_counts(normalize=False) \n",
    "\n",
    "# Left_only = 2023\n",
    "# right_only = 2019"
   ]
  },
  {
   "cell_type": "markdown",
   "id": "a4a4afe6",
   "metadata": {},
   "source": [
    "# Map again with left join"
   ]
  },
  {
   "cell_type": "code",
   "execution_count": null,
   "id": "531fce5a",
   "metadata": {
    "tags": []
   },
   "outputs": [],
   "source": [
    "CCSR_CCS_19_23_ver1=pd.merge(left=CCSR_2023, right=CCS_2019, how='left',\\\n",
    "                        left_on='ICD_code_2023',right_on='icd_code_2019', indicator='ICD_CODE_BUCKET') \n",
    "\n",
    "CCSR_CCS_19_23_ver1.head(2)"
   ]
  },
  {
   "cell_type": "code",
   "execution_count": null,
   "id": "042d2a89",
   "metadata": {},
   "outputs": [],
   "source": [
    "CCSR_CCS_19_23_ver1.shape\n"
   ]
  },
  {
   "cell_type": "markdown",
   "id": "be824273",
   "metadata": {},
   "source": [
    "## rearrange columns"
   ]
  },
  {
   "cell_type": "code",
   "execution_count": null,
   "id": "04e8475f",
   "metadata": {},
   "outputs": [],
   "source": [
    "CCSR_CCS_19_23_ver1= CCSR_CCS_19_23_ver1.iloc[:,[0,1,18,20,26,2,3,4,5,19,21,6,7,22,23,8,9,24,25,10,11,12,13,14,15,16,17]]"
   ]
  },
  {
   "cell_type": "code",
   "execution_count": null,
   "id": "efa144f9",
   "metadata": {
    "collapsed": true,
    "jupyter": {
     "outputs_hidden": true
    }
   },
   "outputs": [],
   "source": [
    "CCSR_CCS_19_23_ver1.head(5)"
   ]
  },
  {
   "cell_type": "code",
   "execution_count": null,
   "id": "ceb11f40",
   "metadata": {},
   "outputs": [],
   "source": [
    "CCSR_CCS_19_23_ver1.shape"
   ]
  },
  {
   "cell_type": "markdown",
   "id": "bcc5ee5b",
   "metadata": {},
   "source": [
    "## Adding bucket for comparions icd_code 23 and 19"
   ]
  },
  {
   "cell_type": "code",
   "execution_count": null,
   "id": "4c08e6ab",
   "metadata": {},
   "outputs": [],
   "source": [
    "CCSR_CCS_19_23_ver1['ICD_CODE_BUCKET'].value_counts(normalize=False)"
   ]
  },
  {
   "cell_type": "markdown",
   "id": "04092733",
   "metadata": {},
   "source": [
    "## ADD NEW COLUMN  - BASED ON FIRST THREE CHARC CODE_2023 ABREVITAION"
   ]
  },
  {
   "cell_type": "code",
   "execution_count": null,
   "id": "6e0fd7f2",
   "metadata": {},
   "outputs": [],
   "source": [
    "CCSR_CCS_19_23_ver1['code_Abr_2023']=CCSR_CCS_19_23_ver1['ICD_code_2023'].str[0:3]"
   ]
  },
  {
   "cell_type": "code",
   "execution_count": null,
   "id": "6a2658c3",
   "metadata": {},
   "outputs": [],
   "source": [
    "CCSR_CCS_19_23_ver1.tail(3)"
   ]
  },
  {
   "cell_type": "code",
   "execution_count": null,
   "id": "14302d03",
   "metadata": {},
   "outputs": [],
   "source": [
    "CCSR_CCS_19_23_ver1.shape"
   ]
  },
  {
   "cell_type": "markdown",
   "id": "57edd795",
   "metadata": {},
   "source": [
    "# Read chapter code file"
   ]
  },
  {
   "cell_type": "code",
   "execution_count": null,
   "id": "cdfbb8bc",
   "metadata": {},
   "outputs": [],
   "source": [
    "ICD_CHAPTER= pd.read_csv(\"s3://intl-euro-uk-datascientist-prod/Abhiya/icd_files_2019-2023/Code_chapter_2023.csv\")\n",
    "\n",
    "ICD_CHAPTER[1900:2000]"
   ]
  },
  {
   "cell_type": "code",
   "execution_count": null,
   "id": "497c67a2",
   "metadata": {},
   "outputs": [],
   "source": [
    "ICD_CHAPTER.shape"
   ]
  },
  {
   "cell_type": "code",
   "execution_count": null,
   "id": "9ef2a669",
   "metadata": {},
   "outputs": [],
   "source": [
    "CCSR_CCS_19_23_ver1.shape"
   ]
  },
  {
   "cell_type": "markdown",
   "id": "82ab5072",
   "metadata": {},
   "source": [
    "# MAP CHAPTER TILTLE TO lecd_23_19 left join file"
   ]
  },
  {
   "cell_type": "code",
   "execution_count": null,
   "id": "2a1c3519",
   "metadata": {},
   "outputs": [],
   "source": [
    "CCSR_CCS_19_23_ver2= pd.merge (left=CCSR_CCS_19_23_ver1, right=ICD_CHAPTER, how='left',\\\n",
    "                               left_on='code_Abr_2023', right_on='CODE_range_first_three_characters',\\\n",
    "                                indicator='CHAPTER_CODE_BUCKET')\n"
   ]
  },
  {
   "cell_type": "code",
   "execution_count": null,
   "id": "4d901024",
   "metadata": {},
   "outputs": [],
   "source": [
    "CCSR_CCS_19_23_ver2.shape"
   ]
  },
  {
   "cell_type": "markdown",
   "id": "1b588a54",
   "metadata": {},
   "source": [
    "## Check for duplicates "
   ]
  },
  {
   "cell_type": "code",
   "execution_count": null,
   "id": "d7e1e72a",
   "metadata": {},
   "outputs": [],
   "source": [
    "dup= CCSR_CCS_19_23_ver2[CCSR_CCS_19_23_ver2.duplicated('ICD_code_2023')]\n",
    "dup"
   ]
  },
  {
   "cell_type": "markdown",
   "id": "3cc75606",
   "metadata": {},
   "source": [
    "## verify in original datset"
   ]
  },
  {
   "cell_type": "code",
   "execution_count": null,
   "id": "b76e3fd0",
   "metadata": {
    "collapsed": true,
    "jupyter": {
     "outputs_hidden": true
    }
   },
   "outputs": [],
   "source": [
    "CCSR_CCS_19_23_ver2.loc[2275:2280]"
   ]
  },
  {
   "cell_type": "markdown",
   "id": "f684062c",
   "metadata": {},
   "source": [
    "## drop duplicates "
   ]
  },
  {
   "cell_type": "code",
   "execution_count": null,
   "id": "7361068f",
   "metadata": {},
   "outputs": [],
   "source": [
    "CCSR_CCS_19_23_ver3=CCSR_CCS_19_23_ver2.drop_duplicates('ICD_code_2023')"
   ]
  },
  {
   "cell_type": "code",
   "execution_count": null,
   "id": "f41b62f0",
   "metadata": {},
   "outputs": [],
   "source": [
    "CCSR_CCS_19_23_ver3.shape"
   ]
  },
  {
   "cell_type": "markdown",
   "id": "1cf4be88",
   "metadata": {},
   "source": [
    "## Comparing results of chapter code with icd codes"
   ]
  },
  {
   "cell_type": "code",
   "execution_count": null,
   "id": "50428d6c",
   "metadata": {},
   "outputs": [],
   "source": [
    "CCSR_CCS_19_23_ver3['CHAPTER_CODE_BUCKET'].value_counts(normalize=False) "
   ]
  },
  {
   "cell_type": "code",
   "execution_count": null,
   "id": "3adf63a9",
   "metadata": {},
   "outputs": [],
   "source": [
    "CCSR_CCS_19_23_ver3.head(2)"
   ]
  },
  {
   "cell_type": "markdown",
   "id": "f4e01c15",
   "metadata": {},
   "source": [
    "# Adding Bucket for comparison with chapter code and ccsr_IP and OP"
   ]
  },
  {
   "cell_type": "markdown",
   "id": "83d835a5",
   "metadata": {},
   "source": [
    "## chapter_code_IP_bucket"
   ]
  },
  {
   "cell_type": "code",
   "execution_count": null,
   "id": "d7688962",
   "metadata": {},
   "outputs": [],
   "source": [
    "CCSR_CCS_19_23_ver3['chapter_code_IP_bucket']= np.where(CCSR_CCS_19_23_ver3['CCSR_Body_System_Abbreviation_2023']==(CCSR_CCS_19_23_ver3['Default_CCSR_CATEGORY_IP_2023'].str[0:3]),\\\n",
    "                                                         'MATCH',np.nan)"
   ]
  },
  {
   "cell_type": "code",
   "execution_count": null,
   "id": "e3788728",
   "metadata": {},
   "outputs": [],
   "source": [
    "CCSR_CCS_19_23_ver3.head(3)"
   ]
  },
  {
   "cell_type": "code",
   "execution_count": null,
   "id": "2cfc07d7",
   "metadata": {},
   "outputs": [],
   "source": [
    "CCSR_CCS_19_23_ver3['chapter_code_IP_bucket'].value_counts(normalize=False)"
   ]
  },
  {
   "cell_type": "code",
   "execution_count": null,
   "id": "8660bc28",
   "metadata": {},
   "outputs": [],
   "source": [
    "CCSR_CCS_19_23_ver3['chapter_code_IP_bucket'].value_counts(normalize=True)\\\n",
    ".mul(100).round(1).astype(str)+ '%'"
   ]
  },
  {
   "cell_type": "markdown",
   "id": "780fec7a",
   "metadata": {},
   "source": [
    "## chapter_code_OP_bucket"
   ]
  },
  {
   "cell_type": "code",
   "execution_count": null,
   "id": "41cbc129",
   "metadata": {},
   "outputs": [],
   "source": [
    "CCSR_CCS_19_23_ver3['chapter_code_OP_bucket']= np.where(CCSR_CCS_19_23_ver3['CCSR_Body_System_Abbreviation_2023']==(CCSR_CCS_19_23_ver3['Default_CCSR_CATEGORY_OP_2023'].str[0:3]),\\\n",
    "                                                         'MATCH',np.nan)"
   ]
  },
  {
   "cell_type": "code",
   "execution_count": null,
   "id": "7d68ba15",
   "metadata": {},
   "outputs": [],
   "source": [
    "CCSR_CCS_19_23_ver3['chapter_code_OP_bucket'].value_counts(normalize=False)"
   ]
  },
  {
   "cell_type": "code",
   "execution_count": null,
   "id": "0d95d209",
   "metadata": {},
   "outputs": [],
   "source": [
    "CCSR_CCS_19_23_ver3['chapter_code_OP_bucket'].value_counts(normalize=True)\\\n",
    ".mul(100).round(1).astype(str)+ '%'"
   ]
  },
  {
   "cell_type": "markdown",
   "id": "16d8f160",
   "metadata": {},
   "source": [
    "# Adding bucket for IP vs OP comparison"
   ]
  },
  {
   "cell_type": "code",
   "execution_count": null,
   "id": "e1d88f24",
   "metadata": {},
   "outputs": [],
   "source": [
    "CCSR_CCS_19_23_ver3['IP_OP_bucket']= np.where(CCSR_CCS_19_23_ver3['Default_CCSR_CATEGORY_OP_2023']==CCSR_CCS_19_23_ver3['Default_CCSR_CATEGORY_IP_2023'],\\\n",
    "                                             'MATCH',np.nan)"
   ]
  },
  {
   "cell_type": "code",
   "execution_count": null,
   "id": "bb1a5c0c",
   "metadata": {},
   "outputs": [],
   "source": [
    "CCSR_CCS_19_23_ver3['IP_OP_bucket'].value_counts(normalize=False)"
   ]
  },
  {
   "cell_type": "code",
   "execution_count": null,
   "id": "eb7d6b42",
   "metadata": {},
   "outputs": [],
   "source": [
    "CCSR_CCS_19_23_ver3['IP_OP_bucket'].value_counts(normalize=True)\\\n",
    ".mul(100).round(1).astype(str)+ '%'"
   ]
  },
  {
   "cell_type": "markdown",
   "id": "ae97b985",
   "metadata": {},
   "source": [
    "# Adding bucket for CCSR_1 with chapter code"
   ]
  },
  {
   "cell_type": "code",
   "execution_count": null,
   "id": "c0eebf10",
   "metadata": {},
   "outputs": [],
   "source": [
    "CCSR_CCS_19_23_ver3['chapter_code_CCSR_1_bucket']= np.where(CCSR_CCS_19_23_ver3['CCSR_Body_System_Abbreviation_2023']==(CCSR_CCS_19_23_ver3['CCSR_CATEGORY_1_2023'].str[0:3]),\\\n",
    "                                                         'MATCH',np.nan)"
   ]
  },
  {
   "cell_type": "code",
   "execution_count": null,
   "id": "7bd59675",
   "metadata": {},
   "outputs": [],
   "source": [
    "CCSR_CCS_19_23_ver3['chapter_code_CCSR_1_bucket'].value_counts(normalize=False)"
   ]
  },
  {
   "cell_type": "code",
   "execution_count": null,
   "id": "43437d18",
   "metadata": {},
   "outputs": [],
   "source": [
    "CCSR_CCS_19_23_ver3['chapter_code_CCSR_1_bucket'].value_counts(normalize=True)\\\n",
    ".mul(100).round(1).astype(str)+ '%'"
   ]
  },
  {
   "cell_type": "markdown",
   "id": "268d6283",
   "metadata": {},
   "source": [
    "# Rearrange all columns"
   ]
  },
  {
   "cell_type": "code",
   "execution_count": null,
   "id": "9d3ab45d",
   "metadata": {},
   "outputs": [],
   "source": [
    "CCSR_CCS_19_23_ver3.shape"
   ]
  },
  {
   "cell_type": "code",
   "execution_count": null,
   "id": "ed829e3e",
   "metadata": {},
   "outputs": [],
   "source": [
    "CCSR_CCS_19_23_ver3.head(3)"
   ]
  },
  {
   "cell_type": "code",
   "execution_count": null,
   "id": "8d9191f7",
   "metadata": {
    "collapsed": true,
    "jupyter": {
     "outputs_hidden": true
    }
   },
   "outputs": [],
   "source": [
    "CCSR_CCS_19_23_ver3.info()"
   ]
  },
  {
   "cell_type": "code",
   "execution_count": null,
   "id": "f6582959",
   "metadata": {},
   "outputs": [],
   "source": [
    "CCSR_CCS_19_23_ver3= CCSR_CCS_19_23_ver3.iloc[:,[0,1,5,6,7,27,28,29,30,31,34,8,11,32,12,15,33,\\\n",
    "16,19,22,23,26,2,20,21,35,24,25,9,3,10,13,14,17,18,4,]]\n"
   ]
  },
  {
   "cell_type": "code",
   "execution_count": null,
   "id": "6e725f1f",
   "metadata": {},
   "outputs": [],
   "source": [
    "CCSR_CCS_19_23_ver3.head(3)"
   ]
  },
  {
   "cell_type": "markdown",
   "id": "c1e26f4e",
   "metadata": {},
   "source": [
    "# Check missing values in CCSR_2"
   ]
  },
  {
   "cell_type": "markdown",
   "id": "a7c7c7ff",
   "metadata": {},
   "source": [
    "### Missing value masked as blank"
   ]
  },
  {
   "cell_type": "code",
   "execution_count": null,
   "id": "15490b1c",
   "metadata": {},
   "outputs": [],
   "source": [
    "CCSR_CCS_19_23_ver3['CCSR_CATEGORY_2_2023'].value_counts()"
   ]
  },
  {
   "cell_type": "code",
   "execution_count": null,
   "id": "b9566c85",
   "metadata": {},
   "outputs": [],
   "source": [
    "count_2 =(CCSR_CCS_19_23_ver3['CCSR_CATEGORY_2_2023']==\" \").value_counts()\n",
    "count_2"
   ]
  },
  {
   "cell_type": "code",
   "execution_count": null,
   "id": "1ff24dda",
   "metadata": {},
   "outputs": [],
   "source": [
    "percent_2 = (CCSR_CCS_19_23_ver3['CCSR_CATEGORY_2_2023']==\" \").value_counts(normalize=True)\\\n",
    ".mul(100).round(1).astype(str)+ '%'\n",
    "\n",
    "percent_2"
   ]
  },
  {
   "cell_type": "code",
   "execution_count": null,
   "id": "71b033ad",
   "metadata": {},
   "outputs": [],
   "source": [
    "pd.concat([count_2,percent_2], axis=1, keys=['Missing_count_CCSR_2','Missing_Percent_CCSR_2'])"
   ]
  },
  {
   "cell_type": "markdown",
   "id": "46b6368a",
   "metadata": {},
   "source": [
    "# Check missing values in CCSR_3"
   ]
  },
  {
   "cell_type": "code",
   "execution_count": null,
   "id": "bd2517bc",
   "metadata": {},
   "outputs": [],
   "source": [
    "count_3 = (CCSR_CCS_19_23_ver3['CCSR_CATEGORY_3_2023']==\" \").value_counts()\n",
    "count_3"
   ]
  },
  {
   "cell_type": "code",
   "execution_count": null,
   "id": "11eb1c3e",
   "metadata": {},
   "outputs": [],
   "source": [
    "percent_3= percent_4 = (CCSR_CCS_19_23_ver3['CCSR_CATEGORY_4_2023']==\" \").value_counts(normalize=True)\\\n",
    ".mul(100).round(1).astype(str) + '%'\n",
    "\n",
    "percent_3"
   ]
  },
  {
   "cell_type": "code",
   "execution_count": null,
   "id": "4f730c8f",
   "metadata": {},
   "outputs": [],
   "source": [
    "pd.concat([count_3,percent_3], axis=1, keys=['Missing_count_CCSR_3', 'Missing_percent_CCSR_3'])"
   ]
  },
  {
   "cell_type": "markdown",
   "id": "c65bf587",
   "metadata": {},
   "source": [
    "# Check missing values in CCSR_4"
   ]
  },
  {
   "cell_type": "code",
   "execution_count": null,
   "id": "9e37746a",
   "metadata": {},
   "outputs": [],
   "source": [
    "count_4= (CCSR_CCS_19_23_ver3['CCSR_CATEGORY_4_2023']==\" \").value_counts()\n",
    "count_4"
   ]
  },
  {
   "cell_type": "code",
   "execution_count": null,
   "id": "159bffc5",
   "metadata": {},
   "outputs": [],
   "source": [
    "percent_4 = (CCSR_CCS_19_23_ver3['CCSR_CATEGORY_4_2023']==\" \").value_counts(normalize=True)\\\n",
    ".mul(100).round(1).astype(str) + '%'\n",
    "\n",
    "percent_4"
   ]
  },
  {
   "cell_type": "code",
   "execution_count": null,
   "id": "ed1b1e66",
   "metadata": {},
   "outputs": [],
   "source": [
    "pd.concat([count_4,percent_4], axis=1, keys=['Missing_count_CCSR_4', 'Missing_percent_CCSR_4'])"
   ]
  },
  {
   "cell_type": "markdown",
   "id": "5e9fea9e",
   "metadata": {},
   "source": [
    "# Check missing values in CCSR_5"
   ]
  },
  {
   "cell_type": "code",
   "execution_count": null,
   "id": "8bf64e93",
   "metadata": {},
   "outputs": [],
   "source": [
    "count_5 = (CCSR_CCS_19_23_ver3['CCSR_CATEGORY_5_2023']==\" \").value_counts()\n",
    "\n",
    "count_5"
   ]
  },
  {
   "cell_type": "code",
   "execution_count": null,
   "id": "91a9a859",
   "metadata": {},
   "outputs": [],
   "source": [
    "percent_5 = (CCSR_CCS_19_23_ver3['CCSR_CATEGORY_5_2023']==\" \").value_counts(normalize=True)\\\n",
    ".mul(100).round(1).astype(str) + '%'\n",
    "\n",
    "percent_5"
   ]
  },
  {
   "cell_type": "code",
   "execution_count": null,
   "id": "db2908b0",
   "metadata": {},
   "outputs": [],
   "source": [
    "pd.concat([count_5,percent_5], axis=1, keys=['Missing_count_CCSR_5', 'Missing_percent_CCSR_5'])"
   ]
  },
  {
   "cell_type": "markdown",
   "id": "0776c805",
   "metadata": {},
   "source": [
    "# Check missing values in CCSR_6"
   ]
  },
  {
   "cell_type": "markdown",
   "id": "bf153f0e",
   "metadata": {},
   "source": [
    "'''\n",
    "## True: Missing\n",
    "## False: Not_missing \n",
    "'''"
   ]
  },
  {
   "cell_type": "code",
   "execution_count": null,
   "id": "4a307bbb",
   "metadata": {},
   "outputs": [],
   "source": [
    "count_6 = (CCSR_CCS_19_23_ver3['CCSR_CATEGORY_6_2023']==\" \").value_counts()\n",
    "count_6"
   ]
  },
  {
   "cell_type": "code",
   "execution_count": null,
   "id": "86b0e3bf",
   "metadata": {},
   "outputs": [],
   "source": [
    "percent_6 = (CCSR_CCS_19_23_ver3['CCSR_CATEGORY_6_2023']==\" \").value_counts(normalize=True)\\\n",
    ".mul(100).round(1).astype(str) + '%'\n",
    "\n",
    "percent_6"
   ]
  },
  {
   "cell_type": "code",
   "execution_count": null,
   "id": "c88043a7",
   "metadata": {},
   "outputs": [],
   "source": [
    "pd.concat([count_6,percent_6], axis=1, keys=['Missing_count_CCSR_6', 'Missing_percent_CCSR_6'])"
   ]
  },
  {
   "cell_type": "code",
   "execution_count": null,
   "id": "577f01ca",
   "metadata": {
    "collapsed": true,
    "jupyter": {
     "outputs_hidden": true
    }
   },
   "outputs": [],
   "source": [
    "CCSR_CCS_19_23_ver3.head(5)"
   ]
  },
  {
   "cell_type": "markdown",
   "id": "1de79852",
   "metadata": {},
   "source": [
    "# Map Icd 9 chapter name to CCS_Level_1"
   ]
  },
  {
   "cell_type": "markdown",
   "id": "9fb43dd1",
   "metadata": {},
   "source": [
    "## Read ICD_9_chapter file"
   ]
  },
  {
   "cell_type": "code",
   "execution_count": null,
   "id": "b7a681f0",
   "metadata": {},
   "outputs": [],
   "source": [
    "ICD_9_CHAPTER_NAME= pd.read_csv(\"s3://intl-euro-uk-datascientist-prod/Abhiya/icd_files_2019-2023/Chapter_CCS_icd_9.csv\")\n"
   ]
  },
  {
   "cell_type": "code",
   "execution_count": null,
   "id": "b40d217d",
   "metadata": {},
   "outputs": [],
   "source": [
    "ICD_9_CHAPTER_NAME.head(3)"
   ]
  },
  {
   "cell_type": "code",
   "execution_count": null,
   "id": "3cba1efc",
   "metadata": {},
   "outputs": [],
   "source": [
    "ICD_9_CHAPTER_NAME.info()"
   ]
  },
  {
   "cell_type": "markdown",
   "id": "1edff04c",
   "metadata": {},
   "source": [
    "## merge icd_9 chapter file with Version3"
   ]
  },
  {
   "cell_type": "code",
   "execution_count": null,
   "id": "23726ebb",
   "metadata": {},
   "outputs": [],
   "source": [
    "CCSR_CCS_19_23_ver4= pd.merge (left=CCSR_CCS_19_23_ver3, right=ICD_9_CHAPTER_NAME, how='left',\\\n",
    "                               left_on='CCS_LVL_1_code_2019', right_on='CCS_chapter_number_2019',\\\n",
    "                                indicator='CCS_LEVEL1_CHAPTER_NAME_BUCKET')"
   ]
  },
  {
   "cell_type": "code",
   "execution_count": null,
   "id": "7a14e4c6",
   "metadata": {},
   "outputs": [],
   "source": [
    "CCSR_CCS_19_23_ver4.shape"
   ]
  },
  {
   "cell_type": "code",
   "execution_count": null,
   "id": "ce3c68ed",
   "metadata": {},
   "outputs": [],
   "source": [
    "CCSR_CCS_19_23_ver4.head(3)"
   ]
  },
  {
   "cell_type": "code",
   "execution_count": null,
   "id": "65ff8dda",
   "metadata": {},
   "outputs": [],
   "source": [
    "CCSR_CCS_19_23_ver4['CCS_LEVEL1_CHAPTER_NAME_BUCKET'].value_counts(normalize=False)"
   ]
  },
  {
   "cell_type": "code",
   "execution_count": null,
   "id": "2d424bb2",
   "metadata": {
    "collapsed": true,
    "jupyter": {
     "outputs_hidden": true
    }
   },
   "outputs": [],
   "source": [
    "CCSR_CCS_19_23_ver4[CCSR_CCS_19_23_ver4['CCS_LEVEL1_CHAPTER_NAME_BUCKET']=='left_only']"
   ]
  },
  {
   "cell_type": "markdown",
   "id": "a2ec7600",
   "metadata": {},
   "source": [
    "## rearrange columns"
   ]
  },
  {
   "cell_type": "code",
   "execution_count": null,
   "id": "274e002c",
   "metadata": {},
   "outputs": [],
   "source": [
    "CCSR_CCS_19_23_ver4=CCSR_CCS_19_23_ver4.iloc[:,[0,1,35,5,6,7,8,9,10,2,3,13,\n",
    "4,11,16,12,14,25,15,17,18,23,24,19,20,26,27,21,22,29,28,30,31,32,\n",
    "36,37,38,39,33,34]]"
   ]
  },
  {
   "cell_type": "code",
   "execution_count": null,
   "id": "dedbcf95",
   "metadata": {},
   "outputs": [],
   "source": [
    "CCSR_CCS_19_23_ver4.head(3)"
   ]
  },
  {
   "cell_type": "markdown",
   "id": "e29365be",
   "metadata": {},
   "source": [
    "# Send final file to S3 "
   ]
  },
  {
   "cell_type": "markdown",
   "id": "488820a0",
   "metadata": {},
   "source": [
    "## export file to s3"
   ]
  },
  {
   "cell_type": "code",
   "execution_count": null,
   "id": "07f916da",
   "metadata": {},
   "outputs": [],
   "source": [
    "#Sending a dataframe from sagemaker to a S3 folder \n",
    "wr.s3.to_csv(\n",
    "    df= CCSR_CCS_19_23_ver4,\n",
    "    path='s3://intl-euro-uk-datascientist-prod/Abhiya/CCSR_CCS_23_19_comparison_FULL.csv')"
   ]
  },
  {
   "cell_type": "code",
   "execution_count": null,
   "id": "dc1e7bad",
   "metadata": {},
   "outputs": [],
   "source": []
  }
 ],
 "metadata": {
  "kernelspec": {
   "display_name": "conda_python3",
   "language": "python",
   "name": "conda_python3"
  },
  "language_info": {
   "codemirror_mode": {
    "name": "ipython",
    "version": 3
   },
   "file_extension": ".py",
   "mimetype": "text/x-python",
   "name": "python",
   "nbconvert_exporter": "python",
   "pygments_lexer": "ipython3",
   "version": "3.10.13"
  },
  "toc": {
   "base_numbering": 1,
   "nav_menu": {
    "height": "11.3333px",
    "width": "160px"
   },
   "number_sections": true,
   "sideBar": true,
   "skip_h1_title": false,
   "title_cell": "Table of Contents",
   "title_sidebar": "Contents",
   "toc_cell": false,
   "toc_position": {
    "height": "calc(100% - 180px)",
    "left": "10px",
    "top": "150px",
    "width": "215.667px"
   },
   "toc_section_display": true,
   "toc_window_display": true
  }
 },
 "nbformat": 4,
 "nbformat_minor": 5
}

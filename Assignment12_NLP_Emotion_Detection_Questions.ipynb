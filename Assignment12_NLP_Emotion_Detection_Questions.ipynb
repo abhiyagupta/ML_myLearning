{
  "nbformat": 4,
  "nbformat_minor": 0,
  "metadata": {
    "colab": {
      "provenance": [],
      "toc_visible": true
    },
    "kernelspec": {
      "name": "python3",
      "display_name": "Python 3"
    }
  },
  "cells": [
    {
      "cell_type": "markdown",
      "metadata": {
        "id": "5mF3mJst3QTA"
      },
      "source": [
        "Emotion Detection from text\n",
        "\n",
        "Prepared by - Venkata Reddy Konasani\n",
        "\n",
        "[statinfer.com](https://statinfer.com/)"
      ]
    },
    {
      "cell_type": "markdown",
      "metadata": {
        "id": "5-HvOQEO30WM"
      },
      "source": [
        "# Objective \n",
        "The objective is to build a model that  detects the emotion hidden in the text comments. The emotons include happiness,sadness,worry, love etc.,"
      ]
    },
    {
      "cell_type": "code",
      "metadata": {
        "id": "531r8AHr39jS"
      },
      "source": [],
      "execution_count": null,
      "outputs": []
    },
    {
      "cell_type": "markdown",
      "metadata": {
        "id": "StLaVyjZdHxB"
      },
      "source": [
        "# Q1)Import the data"
      ]
    },
    {
      "cell_type": "markdown",
      "metadata": {
        "id": "7njqBuV7dkGe"
      },
      "source": [
        "Get the dataset information and print few sample records"
      ]
    },
    {
      "cell_type": "markdown",
      "metadata": {
        "id": "Au9T4021dOPk"
      },
      "source": [
        "Dataset location - https://raw.githubusercontent.com/venkatareddykonasani/Datasets/master/Final_Emotion_Data/Final_Emotion_Data.csv"
      ]
    },
    {
      "cell_type": "code",
      "metadata": {
        "id": "nKAa0HM9dLf0"
      },
      "source": [
        "emotion_data=pd.read_csv(\"https://raw.githubusercontent.com/venkatareddykonasani/Datasets/master/Final_Emotion_Data/Final_Emotion_Data.csv\")"
      ],
      "execution_count": null,
      "outputs": []
    },
    {
      "cell_type": "code",
      "metadata": {
        "id": "wd72N-A4dn81"
      },
      "source": [],
      "execution_count": null,
      "outputs": []
    },
    {
      "cell_type": "code",
      "metadata": {
        "id": "L4HU9JX5dZr7"
      },
      "source": [],
      "execution_count": null,
      "outputs": []
    },
    {
      "cell_type": "markdown",
      "metadata": {
        "id": "1jYFWB5FdrJ2"
      },
      "source": [
        "# Q2)Get the unique list of emotions and their frequency counts."
      ]
    },
    {
      "cell_type": "code",
      "metadata": {
        "id": "JAO2R5_SdceE"
      },
      "source": [],
      "execution_count": null,
      "outputs": []
    },
    {
      "cell_type": "markdown",
      "metadata": {
        "id": "UcbKHla8gtqA"
      },
      "source": [
        "# Q3)Text Preprocessing"
      ]
    },
    {
      "cell_type": "markdown",
      "metadata": {
        "id": "lF7avEsFgzyF"
      },
      "source": [
        "Use a single function to perform all the pre-processing in one step. \n",
        "\n",
        "You need to take care of \n",
        "\n",
        "\n",
        "1. Expanded forms\n",
        "2. Stopwords\n",
        "3. Regular Expressions\n",
        "4. Lemmatization \n",
        "\n",
        "\n"
      ]
    },
    {
      "cell_type": "code",
      "metadata": {
        "id": "S9zgU0yBd5hV"
      },
      "source": [],
      "execution_count": null,
      "outputs": []
    },
    {
      "cell_type": "code",
      "metadata": {
        "id": "Sdok26qxhioH"
      },
      "source": [],
      "execution_count": null,
      "outputs": []
    },
    {
      "cell_type": "code",
      "metadata": {
        "id": "ZOG16U058c1q"
      },
      "source": [],
      "execution_count": null,
      "outputs": []
    },
    {
      "cell_type": "markdown",
      "metadata": {
        "id": "ilzCBeoshtL2"
      },
      "source": [
        "# Q4)Create a word cloud and generate atleast two visualizations to highlight the most frequent words\n",
        "\n",
        "Try different colour themes"
      ]
    },
    {
      "cell_type": "code",
      "metadata": {
        "id": "dFSiV5GphpLl"
      },
      "source": [],
      "execution_count": null,
      "outputs": []
    },
    {
      "cell_type": "code",
      "metadata": {
        "id": "qBqvu9xHiFZ8"
      },
      "source": [],
      "execution_count": null,
      "outputs": []
    },
    {
      "cell_type": "markdown",
      "metadata": {
        "id": "1UEXy3qOiylV"
      },
      "source": [
        "# Q5)Create a document term matrix. Keep the minimum frequency between  5 to 20. \n",
        "\n",
        "\n",
        "Note: If there are any missing values in the cleaned column. You need to drop the missing values before creating DTM"
      ]
    },
    {
      "cell_type": "code",
      "metadata": {
        "id": "1b6Cuog07ka7"
      },
      "source": [],
      "execution_count": null,
      "outputs": []
    },
    {
      "cell_type": "code",
      "metadata": {
        "id": "p-Z2f35Ui-D0"
      },
      "source": [],
      "execution_count": null,
      "outputs": []
    },
    {
      "cell_type": "markdown",
      "metadata": {
        "id": "2U0GWMfli__1"
      },
      "source": [
        "# Q6) Build a Naive bayes model"
      ]
    },
    {
      "cell_type": "markdown",
      "metadata": {
        "id": "NLWaHR21chVn"
      },
      "source": [
        "Prepare train and Test data. Build the model and get the accuracy on train and test data\n",
        "\n",
        "Note- Accuracy will be less\n"
      ]
    },
    {
      "cell_type": "code",
      "metadata": {
        "id": "JWPHjoGf2Th7"
      },
      "source": [],
      "execution_count": null,
      "outputs": []
    },
    {
      "cell_type": "code",
      "metadata": {
        "id": "C9UsKv9Z2k1j"
      },
      "source": [],
      "execution_count": null,
      "outputs": []
    },
    {
      "cell_type": "code",
      "metadata": {
        "id": "xPG3JH2JWveK"
      },
      "source": [],
      "execution_count": null,
      "outputs": []
    },
    {
      "cell_type": "code",
      "metadata": {
        "id": "W8RUS0db20Wj"
      },
      "source": [],
      "execution_count": null,
      "outputs": []
    },
    {
      "cell_type": "markdown",
      "metadata": {
        "id": "-h1W88fnaHUC"
      },
      "source": [
        "# Q7) Take only two emotions; Re-build the model"
      ]
    },
    {
      "cell_type": "markdown",
      "metadata": {
        "id": "6sarDL_HaL5m"
      },
      "source": [
        "Keep only two emotions. Ignore rest of the data while building the model. Keep only happiness and sadness"
      ]
    },
    {
      "cell_type": "code",
      "metadata": {
        "id": "d71vavYdXy1F"
      },
      "source": [],
      "execution_count": null,
      "outputs": []
    },
    {
      "cell_type": "markdown",
      "metadata": {
        "id": "o5pbGsdpkJPP"
      },
      "source": [
        "Build the model and get the confusion matrix and accuracy"
      ]
    },
    {
      "cell_type": "code",
      "metadata": {
        "id": "v-WHM15jauPs"
      },
      "source": [],
      "execution_count": null,
      "outputs": []
    },
    {
      "cell_type": "code",
      "metadata": {
        "id": "X2VLR8lJak8t"
      },
      "source": [],
      "execution_count": null,
      "outputs": []
    },
    {
      "cell_type": "markdown",
      "metadata": {
        "id": "CsgOuBAHqIMo"
      },
      "source": [
        "# Q8) Write down your final findings. How do you explain this project to a layman?"
      ]
    },
    {
      "cell_type": "markdown",
      "metadata": {
        "id": "IphMJZ9mqNvs"
      },
      "source": [
        "\n",
        "* Problem Statement \n",
        "* Overall Approach\n",
        "* Challenges faced\n",
        "* Accuracy of the final model"
      ]
    }
  ]
}
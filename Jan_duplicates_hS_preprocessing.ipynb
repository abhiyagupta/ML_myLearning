{
 "cells": [
  {
   "cell_type": "markdown",
   "id": "7a3771f4-70c3-4c1a-a244-c549c712b0dc",
   "metadata": {},
   "source": [
    "# Read Diamond_HS_Aug"
   ]
  },
  {
   "cell_type": "code",
   "execution_count": 1,
   "id": "d7da8891-5049-4f46-9d9f-df7e867d4a1c",
   "metadata": {
    "jupyter": {
     "outputs_hidden": true
    }
   },
   "outputs": [
    {
     "name": "stdout",
     "output_type": "stream",
     "text": [
      "Requirement already satisfied: awswrangler in /home/ec2-user/anaconda3/envs/python3/lib/python3.10/site-packages (3.5.1)\n",
      "Requirement already satisfied: boto3<2.0.0,>=1.20.32 in /home/ec2-user/anaconda3/envs/python3/lib/python3.10/site-packages (from awswrangler) (1.34.13)\n",
      "Requirement already satisfied: botocore<2.0.0,>=1.23.32 in /home/ec2-user/anaconda3/envs/python3/lib/python3.10/site-packages (from awswrangler) (1.34.13)\n",
      "Requirement already satisfied: numpy<2.0,>=1.18 in /home/ec2-user/anaconda3/envs/python3/lib/python3.10/site-packages (from awswrangler) (1.22.4)\n",
      "Requirement already satisfied: packaging<24.0,>=21.1 in /home/ec2-user/anaconda3/envs/python3/lib/python3.10/site-packages (from awswrangler) (21.3)\n",
      "Requirement already satisfied: pandas<3.0.0,>=1.2.0 in /home/ec2-user/anaconda3/envs/python3/lib/python3.10/site-packages (from awswrangler) (2.1.1)\n",
      "Requirement already satisfied: pyarrow>=7.0.0 in /home/ec2-user/anaconda3/envs/python3/lib/python3.10/site-packages (from awswrangler) (13.0.0)\n",
      "Requirement already satisfied: typing-extensions<5.0.0,>=4.4.0 in /home/ec2-user/anaconda3/envs/python3/lib/python3.10/site-packages (from awswrangler) (4.8.0)\n",
      "Requirement already satisfied: jmespath<2.0.0,>=0.7.1 in /home/ec2-user/anaconda3/envs/python3/lib/python3.10/site-packages (from boto3<2.0.0,>=1.20.32->awswrangler) (1.0.1)\n",
      "Requirement already satisfied: s3transfer<0.11.0,>=0.10.0 in /home/ec2-user/anaconda3/envs/python3/lib/python3.10/site-packages (from boto3<2.0.0,>=1.20.32->awswrangler) (0.10.0)\n",
      "Requirement already satisfied: python-dateutil<3.0.0,>=2.1 in /home/ec2-user/anaconda3/envs/python3/lib/python3.10/site-packages (from botocore<2.0.0,>=1.23.32->awswrangler) (2.8.2)\n",
      "Requirement already satisfied: urllib3<2.1,>=1.25.4 in /home/ec2-user/anaconda3/envs/python3/lib/python3.10/site-packages (from botocore<2.0.0,>=1.23.32->awswrangler) (1.26.18)\n",
      "Requirement already satisfied: pyparsing!=3.0.5,>=2.0.2 in /home/ec2-user/anaconda3/envs/python3/lib/python3.10/site-packages (from packaging<24.0,>=21.1->awswrangler) (3.1.1)\n",
      "Requirement already satisfied: pytz>=2020.1 in /home/ec2-user/anaconda3/envs/python3/lib/python3.10/site-packages (from pandas<3.0.0,>=1.2.0->awswrangler) (2023.3.post1)\n",
      "Requirement already satisfied: tzdata>=2022.1 in /home/ec2-user/anaconda3/envs/python3/lib/python3.10/site-packages (from pandas<3.0.0,>=1.2.0->awswrangler) (2023.3)\n",
      "Requirement already satisfied: six>=1.5 in /home/ec2-user/anaconda3/envs/python3/lib/python3.10/site-packages (from python-dateutil<3.0.0,>=2.1->botocore<2.0.0,>=1.23.32->awswrangler) (1.16.0)\n"
     ]
    }
   ],
   "source": [
    "!pip install awswrangler"
   ]
  },
  {
   "cell_type": "code",
   "execution_count": 2,
   "id": "b9aab95a-d9c5-4729-a161-6fa84873855c",
   "metadata": {
    "tags": []
   },
   "outputs": [
    {
     "name": "stderr",
     "output_type": "stream",
     "text": [
      "/home/ec2-user/anaconda3/envs/python3/lib/python3.10/site-packages/pandas/core/computation/expressions.py:21: UserWarning: Pandas requires version '2.8.0' or newer of 'numexpr' (version '2.7.3' currently installed).\n",
      "  from pandas.core.computation.check import NUMEXPR_INSTALLED\n"
     ]
    }
   ],
   "source": [
    "import awswrangler as wr\n",
    "\n",
    "import boto3 \n",
    "\n",
    "import pandas as pd\n",
    "import numpy as np\n",
    "import datetime as dt\n",
    "import os              \n",
    "#(interacting with several os system)\n",
    "\n",
    "import gc \n",
    "\n",
    "import pandas as pd\n",
    "import numpy as np\n",
    "import datetime as dt\n",
    "import os\n",
    "\n",
    "import fsspec               \n",
    "#(provide a unified pythonic interface to local, remote and embedded file systems)\n",
    "\n",
    "import s3fs                 \n",
    "#( Pythonic file interface to S3)\n",
    "\n",
    "from string import Template \n",
    "#(template usuing $ based substitution)\n",
    "\n",
    "import io\n",
    "\n",
    "import argparse             \n",
    "#(to add custom arguments eg print(\"Hello\" + unser input arg (args.name))\n",
    "\n",
    "import warnings\n",
    "\n",
    "import subprocess\n",
    "import asyncio, sys"
   ]
  },
  {
   "cell_type": "code",
   "execution_count": 3,
   "id": "0610ed12-6399-4354-812f-e15704a72893",
   "metadata": {
    "tags": []
   },
   "outputs": [],
   "source": [
    "pd.set_option('display.max_columns', None)\n",
    "\n",
    "pd.set_option('display.max_rows', None)"
   ]
  },
  {
   "cell_type": "code",
   "execution_count": 4,
   "id": "23e4a162-9b6b-4ebc-9bfd-ec2be70e77c1",
   "metadata": {
    "tags": []
   },
   "outputs": [
    {
     "name": "stderr",
     "output_type": "stream",
     "text": [
      "/home/ec2-user/anaconda3/envs/python3/lib/python3.10/site-packages/fsspec/registry.py:272: UserWarning: Your installed version of s3fs is very old and known to cause\n",
      "severe performance issues, see also https://github.com/dask/dask/issues/10276\n",
      "\n",
      "To fix, you should specify a lower version bound on s3fs, or\n",
      "update the current installation.\n",
      "\n",
      "  warnings.warn(s3_msg)\n"
     ]
    }
   ],
   "source": [
    "Health_State_2023= pd.read_csv(\"s3://intl-euro-uk-datascientist-prod/Abhiya/HEALTH_STATE_2023/8_HEALTH_STATE_CCSR_2023_AUG.csv\",\n",
    "                               usecols=['icd_10_cm_code','member_id',\n",
    "                                        'claim_location_country_nm','region',\n",
    "                                        'unique_member_id_key', 'local_currency_net_amt'\n",
    "                                        ])\n"
   ]
  },
  {
   "cell_type": "code",
   "execution_count": 5,
   "id": "b3ec0b6c-3ddf-4413-b268-a89fda58e713",
   "metadata": {
    "tags": []
   },
   "outputs": [],
   "source": [
    "Health_State_2023 = Health_State_2023.rename(columns={\n",
    "                                                      'icd_10_cm_code':'HS_icd_10_cm_code',\n",
    "                                                      'member_id':'HS_member_id',\n",
    "                                                      'claim_location_country_nm':'HS_claim_location_country_nm',\n",
    "                                                      'region':'HS_region',\n",
    "                                                      'unique_member_id_key':'HS_unique_member_id_key',\n",
    "                                                      'local_currency_net_amt':'HS_local_currency_net_amt'\n",
    "                                                     })"
   ]
  },
  {
   "cell_type": "code",
   "execution_count": 6,
   "id": "dbbe082a-5d0f-4dfc-9513-55d03ceba5ff",
   "metadata": {
    "tags": []
   },
   "outputs": [
    {
     "data": {
      "text/plain": [
       "(572373, 6)"
      ]
     },
     "execution_count": 6,
     "metadata": {},
     "output_type": "execute_result"
    }
   ],
   "source": [
    "Health_State_2023.shape"
   ]
  },
  {
   "cell_type": "markdown",
   "id": "702ecfa5-6986-424f-ae56-c34e55636106",
   "metadata": {},
   "source": [
    "# Read CCSR_2023"
   ]
  },
  {
   "cell_type": "code",
   "execution_count": 7,
   "id": "a16ce5ec",
   "metadata": {
    "tags": []
   },
   "outputs": [
    {
     "name": "stderr",
     "output_type": "stream",
     "text": [
      "/tmp/ipykernel_6310/3052546784.py:1: DtypeWarning: Columns (20) have mixed types. Specify dtype option on import or set low_memory=False.\n",
      "  CCSR_CCS=pd.read_csv(\"s3://intl-euro-uk-datascientist-prod/Abhiya/CCSR_CCS_23_19_comparison_FULL.csv\",\n"
     ]
    }
   ],
   "source": [
    "CCSR_CCS=pd.read_csv(\"s3://intl-euro-uk-datascientist-prod/Abhiya/CCSR_CCS_23_19_comparison_FULL.csv\",\n",
    "                usecols=['ICD_code_2023','ICD_10_CM_CODE_DESCRIPTION_2023',\n",
    "                'Default_CCSR_CATEGORY_IP_2023','Default_CCSR_CATEGORY_DESCRIPTION_IP_2023',\n",
    "                'Default_CCSR_CATEGORY_OP_2023','Default_CCSR_CATEGORY_DESCRIPTION_OP_2023',\n",
    "                'CCSR_CATEGORY_1_2023','CCSR_CATEGORY_1_DESCRIPTION_2023',\n",
    "                'CODE_range_first_three_characters',\n",
    "                 'CCSR_Body_System_Abbreviation_2023','ICD_10_code_book_chapter_2023',\n",
    "                'icd_code_2019','ICD_10_CM_CODE_DESCRIPTION_2019',\n",
    "                'CCS_CATEGORY_2019','CCS_CATEGORY_DESCRIPTION_2019',\n",
    "                'CCS_LVL_1_code_2019','CCS_LVL_1_Description_2019',\n",
    "                'CCS_LVL_2_code_2019','CCS_LVL_2_Description_2019']\n",
    "                            \n",
    "                )\n",
    "\n",
    " \n",
    "\n",
    "#CCS_chapter_number_2019',\n",
    "#CCS_Body_System_Abbreviation_2019',\n",
    "#IVD_9_code_diagnosis chapters'"
   ]
  },
  {
   "cell_type": "code",
   "execution_count": 8,
   "id": "abe3f306-7a95-4b98-b8ae-3b74aad87ee9",
   "metadata": {
    "tags": []
   },
   "outputs": [],
   "source": [
    "CCSR_CCS=CCSR_CCS.rename(columns={'CODE_range_first_three_characters':'ICD_2023_code_abr'})"
   ]
  },
  {
   "cell_type": "code",
   "execution_count": 9,
   "id": "209d4139-0f76-48d3-b339-3ad22fc5d610",
   "metadata": {
    "tags": []
   },
   "outputs": [],
   "source": [
    "Health_State_2023_map_CCSR_CCS=pd.merge(left=Health_State_2023,right=CCSR_CCS, how='left',\\\n",
    "                        left_on='HS_icd_10_cm_code',right_on='ICD_code_2023', indicator='ICD_CODE_BUCKET_HS_CCSR_2023') \n"
   ]
  },
  {
   "cell_type": "code",
   "execution_count": 10,
   "id": "e53a88c2-1841-4eec-8446-58c364b919b4",
   "metadata": {
    "tags": []
   },
   "outputs": [
    {
     "data": {
      "text/plain": [
       "ICD_CODE_BUCKET_HS_CCSR_2023\n",
       "both          91.34%\n",
       "left_only      8.66%\n",
       "right_only      0.0%\n",
       "Name: proportion, dtype: object"
      ]
     },
     "execution_count": 10,
     "metadata": {},
     "output_type": "execute_result"
    }
   ],
   "source": [
    "Health_State_2023_map_CCSR_CCS['ICD_CODE_BUCKET_HS_CCSR_2023'].value_counts(normalize=True)\\\n",
    ".mul(100).round(2).astype(str)+'%'"
   ]
  },
  {
   "cell_type": "markdown",
   "id": "c70a6445-788c-4b3e-a8be-cc350c95384a",
   "metadata": {},
   "source": [
    "# Read CCS_2019"
   ]
  },
  {
   "cell_type": "code",
   "execution_count": 11,
   "id": "053464d7",
   "metadata": {
    "tags": []
   },
   "outputs": [],
   "source": [
    "ICD_9_CHAPTER_NAME= pd.read_csv(\"s3://intl-euro-uk-datascientist-prod/Abhiya/icd_files_2019-2023/Chapter_CCS_icd_9.csv\")"
   ]
  },
  {
   "cell_type": "code",
   "execution_count": 12,
   "id": "f1334faf-e68a-40ae-8c7a-025fa3b270f4",
   "metadata": {
    "tags": []
   },
   "outputs": [],
   "source": [
    "HEALTH_STATE_MAP_CCSR_CCS_CHAPTER= pd.merge (left=Health_State_2023_map_CCSR_CCS, right=ICD_9_CHAPTER_NAME, how='left',\\\n",
    "                               left_on='CCS_LVL_1_code_2019', right_on='CCS_chapter_number_2019',\\\n",
    "                                indicator='CCS_LEVEL1_CHAPTER_NAME_BUCKET')"
   ]
  },
  {
   "cell_type": "code",
   "execution_count": 13,
   "id": "ad402caa-a9c3-4e54-bf37-2c595b6aae8f",
   "metadata": {
    "tags": []
   },
   "outputs": [
    {
     "data": {
      "text/plain": [
       "(572373, 30)"
      ]
     },
     "execution_count": 13,
     "metadata": {},
     "output_type": "execute_result"
    }
   ],
   "source": [
    "HEALTH_STATE_MAP_CCSR_CCS_CHAPTER.shape"
   ]
  },
  {
   "cell_type": "code",
   "execution_count": 14,
   "id": "cac46cf7-6e90-41d9-9663-953705924d76",
   "metadata": {
    "tags": []
   },
   "outputs": [
    {
     "data": {
      "text/plain": [
       "CCS_LEVEL1_CHAPTER_NAME_BUCKET\n",
       "both          88.59%\n",
       "left_only     11.41%\n",
       "right_only      0.0%\n",
       "Name: proportion, dtype: object"
      ]
     },
     "execution_count": 14,
     "metadata": {},
     "output_type": "execute_result"
    }
   ],
   "source": [
    "HEALTH_STATE_MAP_CCSR_CCS_CHAPTER['CCS_LEVEL1_CHAPTER_NAME_BUCKET'].value_counts(normalize=True)\\\n",
    ".mul(100).round(2).astype(str)+'%' "
   ]
  },
  {
   "cell_type": "markdown",
   "id": "f74046d1-5ed8-46f8-ae9a-6a20e96ba705",
   "metadata": {},
   "source": [
    "# CCSR_2023"
   ]
  },
  {
   "cell_type": "code",
   "execution_count": 15,
   "id": "fbf20f45-bbff-4700-8004-8fa910fb3ec6",
   "metadata": {
    "tags": []
   },
   "outputs": [
    {
     "data": {
      "text/plain": [
       "69505738.86000001"
      ]
     },
     "execution_count": 15,
     "metadata": {},
     "output_type": "execute_result"
    }
   ],
   "source": [
    "HEALTH_STATE_MAP_CCSR_CCS_CHAPTER['HS_local_currency_net_amt'].sum()"
   ]
  },
  {
   "cell_type": "code",
   "execution_count": 16,
   "id": "dec074ec-b1a2-47fc-8222-8a43517227f3",
   "metadata": {
    "collapsed": true,
    "jupyter": {
     "outputs_hidden": true
    },
    "tags": []
   },
   "outputs": [
    {
     "data": {
      "text/html": [
       "<div>\n",
       "<style scoped>\n",
       "    .dataframe tbody tr th:only-of-type {\n",
       "        vertical-align: middle;\n",
       "    }\n",
       "\n",
       "    .dataframe tbody tr th {\n",
       "        vertical-align: top;\n",
       "    }\n",
       "\n",
       "    .dataframe thead th {\n",
       "        text-align: right;\n",
       "    }\n",
       "</style>\n",
       "<table border=\"1\" class=\"dataframe\">\n",
       "  <thead>\n",
       "    <tr style=\"text-align: right;\">\n",
       "      <th></th>\n",
       "      <th>HS_unique_member_id_key</th>\n",
       "      <th>HS_local_currency_net_amt</th>\n",
       "    </tr>\n",
       "    <tr>\n",
       "      <th>CCSR_Body_System_Abbreviation_2023</th>\n",
       "      <th></th>\n",
       "      <th></th>\n",
       "    </tr>\n",
       "  </thead>\n",
       "  <tbody>\n",
       "    <tr>\n",
       "      <th>BLD</th>\n",
       "      <td>4718</td>\n",
       "      <td>1250152.59</td>\n",
       "    </tr>\n",
       "    <tr>\n",
       "      <th>CIR</th>\n",
       "      <td>13347</td>\n",
       "      <td>4225774.41</td>\n",
       "    </tr>\n",
       "    <tr>\n",
       "      <th>DIG</th>\n",
       "      <td>12495</td>\n",
       "      <td>2626491.04</td>\n",
       "    </tr>\n",
       "    <tr>\n",
       "      <th>EAR</th>\n",
       "      <td>3577</td>\n",
       "      <td>351681.54</td>\n",
       "    </tr>\n",
       "    <tr>\n",
       "      <th>END</th>\n",
       "      <td>22356</td>\n",
       "      <td>1745146.07</td>\n",
       "    </tr>\n",
       "    <tr>\n",
       "      <th>EXT</th>\n",
       "      <td>291</td>\n",
       "      <td>34918.73</td>\n",
       "    </tr>\n",
       "    <tr>\n",
       "      <th>EYE</th>\n",
       "      <td>8832</td>\n",
       "      <td>862213.42</td>\n",
       "    </tr>\n",
       "    <tr>\n",
       "      <th>FAC</th>\n",
       "      <td>228272</td>\n",
       "      <td>21078325.97</td>\n",
       "    </tr>\n",
       "    <tr>\n",
       "      <th>GEN</th>\n",
       "      <td>19745</td>\n",
       "      <td>2846172.36</td>\n",
       "    </tr>\n",
       "    <tr>\n",
       "      <th>INF</th>\n",
       "      <td>7966</td>\n",
       "      <td>1748709.01</td>\n",
       "    </tr>\n",
       "    <tr>\n",
       "      <th>INJ</th>\n",
       "      <td>12970</td>\n",
       "      <td>2303219.46</td>\n",
       "    </tr>\n",
       "    <tr>\n",
       "      <th>MAL</th>\n",
       "      <td>1580</td>\n",
       "      <td>837230.03</td>\n",
       "    </tr>\n",
       "    <tr>\n",
       "      <th>MBD</th>\n",
       "      <td>21875</td>\n",
       "      <td>2614628.90</td>\n",
       "    </tr>\n",
       "    <tr>\n",
       "      <th>MUS</th>\n",
       "      <td>46598</td>\n",
       "      <td>4363045.12</td>\n",
       "    </tr>\n",
       "    <tr>\n",
       "      <th>NEO</th>\n",
       "      <td>9911</td>\n",
       "      <td>3596482.95</td>\n",
       "    </tr>\n",
       "    <tr>\n",
       "      <th>NVS</th>\n",
       "      <td>5469</td>\n",
       "      <td>1189199.33</td>\n",
       "    </tr>\n",
       "    <tr>\n",
       "      <th>PNL</th>\n",
       "      <td>783</td>\n",
       "      <td>450322.04</td>\n",
       "    </tr>\n",
       "    <tr>\n",
       "      <th>PRG</th>\n",
       "      <td>9428</td>\n",
       "      <td>3567326.34</td>\n",
       "    </tr>\n",
       "    <tr>\n",
       "      <th>RSP</th>\n",
       "      <td>19550</td>\n",
       "      <td>1648122.86</td>\n",
       "    </tr>\n",
       "    <tr>\n",
       "      <th>SKN</th>\n",
       "      <td>12354</td>\n",
       "      <td>1089413.29</td>\n",
       "    </tr>\n",
       "    <tr>\n",
       "      <th>SYM</th>\n",
       "      <td>57389</td>\n",
       "      <td>6281777.14</td>\n",
       "    </tr>\n",
       "    <tr>\n",
       "      <th>code_special_purpose</th>\n",
       "      <td>3309</td>\n",
       "      <td>280432.33</td>\n",
       "    </tr>\n",
       "  </tbody>\n",
       "</table>\n",
       "</div>"
      ],
      "text/plain": [
       "                                    HS_unique_member_id_key  \\\n",
       "CCSR_Body_System_Abbreviation_2023                            \n",
       "BLD                                                    4718   \n",
       "CIR                                                   13347   \n",
       "DIG                                                   12495   \n",
       "EAR                                                    3577   \n",
       "END                                                   22356   \n",
       "EXT                                                     291   \n",
       "EYE                                                    8832   \n",
       "FAC                                                  228272   \n",
       "GEN                                                   19745   \n",
       "INF                                                    7966   \n",
       "INJ                                                   12970   \n",
       "MAL                                                    1580   \n",
       "MBD                                                   21875   \n",
       "MUS                                                   46598   \n",
       "NEO                                                    9911   \n",
       "NVS                                                    5469   \n",
       "PNL                                                     783   \n",
       "PRG                                                    9428   \n",
       "RSP                                                   19550   \n",
       "SKN                                                   12354   \n",
       "SYM                                                   57389   \n",
       "code_special_purpose                                   3309   \n",
       "\n",
       "                                    HS_local_currency_net_amt  \n",
       "CCSR_Body_System_Abbreviation_2023                             \n",
       "BLD                                                1250152.59  \n",
       "CIR                                                4225774.41  \n",
       "DIG                                                2626491.04  \n",
       "EAR                                                 351681.54  \n",
       "END                                                1745146.07  \n",
       "EXT                                                  34918.73  \n",
       "EYE                                                 862213.42  \n",
       "FAC                                               21078325.97  \n",
       "GEN                                                2846172.36  \n",
       "INF                                                1748709.01  \n",
       "INJ                                                2303219.46  \n",
       "MAL                                                 837230.03  \n",
       "MBD                                                2614628.90  \n",
       "MUS                                                4363045.12  \n",
       "NEO                                                3596482.95  \n",
       "NVS                                                1189199.33  \n",
       "PNL                                                 450322.04  \n",
       "PRG                                                3567326.34  \n",
       "RSP                                                1648122.86  \n",
       "SKN                                                1089413.29  \n",
       "SYM                                                6281777.14  \n",
       "code_special_purpose                                280432.33  "
      ]
     },
     "execution_count": 16,
     "metadata": {},
     "output_type": "execute_result"
    }
   ],
   "source": [
    "HEALTH_STATE_MAP_CCSR_CCS_CHAPTER.groupby('CCSR_Body_System_Abbreviation_2023')\\\n",
    ".agg({'HS_unique_member_id_key': 'count', 'HS_local_currency_net_amt':'sum'})"
   ]
  },
  {
   "cell_type": "code",
   "execution_count": 17,
   "id": "f55252ba-09ee-40c1-ba2d-30ab343f6501",
   "metadata": {
    "tags": []
   },
   "outputs": [
    {
     "data": {
      "text/plain": [
       "49558"
      ]
     },
     "execution_count": 17,
     "metadata": {},
     "output_type": "execute_result"
    }
   ],
   "source": [
    "HEALTH_STATE_MAP_CCSR_CCS_CHAPTER[('CCSR_Body_System_Abbreviation_2023')].isnull().sum()"
   ]
  },
  {
   "cell_type": "markdown",
   "id": "668c82b1-13c3-4c96-bdef-6d4c9dff5bc9",
   "metadata": {},
   "source": [
    "# CCS_2019"
   ]
  },
  {
   "cell_type": "code",
   "execution_count": 18,
   "id": "0ce6a7c2-4ac2-4069-9dda-9a468e0abad0",
   "metadata": {
    "collapsed": true,
    "jupyter": {
     "outputs_hidden": true
    },
    "tags": []
   },
   "outputs": [
    {
     "data": {
      "text/html": [
       "<div>\n",
       "<style scoped>\n",
       "    .dataframe tbody tr th:only-of-type {\n",
       "        vertical-align: middle;\n",
       "    }\n",
       "\n",
       "    .dataframe tbody tr th {\n",
       "        vertical-align: top;\n",
       "    }\n",
       "\n",
       "    .dataframe thead th {\n",
       "        text-align: right;\n",
       "    }\n",
       "</style>\n",
       "<table border=\"1\" class=\"dataframe\">\n",
       "  <thead>\n",
       "    <tr style=\"text-align: right;\">\n",
       "      <th></th>\n",
       "      <th>HS_unique_member_id_key</th>\n",
       "      <th>HS_local_currency_net_amt</th>\n",
       "    </tr>\n",
       "    <tr>\n",
       "      <th>CCS_Body_System_Abbreviation_2019</th>\n",
       "      <th></th>\n",
       "      <th></th>\n",
       "    </tr>\n",
       "  </thead>\n",
       "  <tbody>\n",
       "    <tr>\n",
       "      <th>BLD</th>\n",
       "      <td>4319</td>\n",
       "      <td>1174648.18</td>\n",
       "    </tr>\n",
       "    <tr>\n",
       "      <th>CIR</th>\n",
       "      <td>19128</td>\n",
       "      <td>5011570.31</td>\n",
       "    </tr>\n",
       "    <tr>\n",
       "      <th>DIG</th>\n",
       "      <td>15909</td>\n",
       "      <td>2744238.92</td>\n",
       "    </tr>\n",
       "    <tr>\n",
       "      <th>END</th>\n",
       "      <td>25116</td>\n",
       "      <td>1940234.40</td>\n",
       "    </tr>\n",
       "    <tr>\n",
       "      <th>GEN</th>\n",
       "      <td>21902</td>\n",
       "      <td>2978736.90</td>\n",
       "    </tr>\n",
       "    <tr>\n",
       "      <th>INF</th>\n",
       "      <td>27916</td>\n",
       "      <td>2647114.58</td>\n",
       "    </tr>\n",
       "    <tr>\n",
       "      <th>INJ</th>\n",
       "      <td>13540</td>\n",
       "      <td>2513616.10</td>\n",
       "    </tr>\n",
       "    <tr>\n",
       "      <th>MAL</th>\n",
       "      <td>1556</td>\n",
       "      <td>847816.15</td>\n",
       "    </tr>\n",
       "    <tr>\n",
       "      <th>MBD</th>\n",
       "      <td>22111</td>\n",
       "      <td>2657945.91</td>\n",
       "    </tr>\n",
       "    <tr>\n",
       "      <th>MUS</th>\n",
       "      <td>43392</td>\n",
       "      <td>4151196.04</td>\n",
       "    </tr>\n",
       "    <tr>\n",
       "      <th>NEO</th>\n",
       "      <td>12630</td>\n",
       "      <td>4865885.60</td>\n",
       "    </tr>\n",
       "    <tr>\n",
       "      <th>NVS</th>\n",
       "      <td>20047</td>\n",
       "      <td>2574753.78</td>\n",
       "    </tr>\n",
       "    <tr>\n",
       "      <th>Other_conditions</th>\n",
       "      <td>201900</td>\n",
       "      <td>17891736.31</td>\n",
       "    </tr>\n",
       "    <tr>\n",
       "      <th>PNL</th>\n",
       "      <td>2899</td>\n",
       "      <td>1360051.81</td>\n",
       "    </tr>\n",
       "    <tr>\n",
       "      <th>PRG</th>\n",
       "      <td>21082</td>\n",
       "      <td>4957470.16</td>\n",
       "    </tr>\n",
       "    <tr>\n",
       "      <th>RSP</th>\n",
       "      <td>24635</td>\n",
       "      <td>2036106.18</td>\n",
       "    </tr>\n",
       "    <tr>\n",
       "      <th>Residual_codes</th>\n",
       "      <td>18128</td>\n",
       "      <td>2349030.00</td>\n",
       "    </tr>\n",
       "    <tr>\n",
       "      <th>SKN</th>\n",
       "      <td>10853</td>\n",
       "      <td>1065665.68</td>\n",
       "    </tr>\n",
       "  </tbody>\n",
       "</table>\n",
       "</div>"
      ],
      "text/plain": [
       "                                   HS_unique_member_id_key  \\\n",
       "CCS_Body_System_Abbreviation_2019                            \n",
       "BLD                                                   4319   \n",
       "CIR                                                  19128   \n",
       "DIG                                                  15909   \n",
       "END                                                  25116   \n",
       "GEN                                                  21902   \n",
       "INF                                                  27916   \n",
       "INJ                                                  13540   \n",
       "MAL                                                   1556   \n",
       "MBD                                                  22111   \n",
       "MUS                                                  43392   \n",
       "NEO                                                  12630   \n",
       "NVS                                                  20047   \n",
       "Other_conditions                                    201900   \n",
       "PNL                                                   2899   \n",
       "PRG                                                  21082   \n",
       "RSP                                                  24635   \n",
       "Residual_codes                                       18128   \n",
       "SKN                                                  10853   \n",
       "\n",
       "                                   HS_local_currency_net_amt  \n",
       "CCS_Body_System_Abbreviation_2019                             \n",
       "BLD                                               1174648.18  \n",
       "CIR                                               5011570.31  \n",
       "DIG                                               2744238.92  \n",
       "END                                               1940234.40  \n",
       "GEN                                               2978736.90  \n",
       "INF                                               2647114.58  \n",
       "INJ                                               2513616.10  \n",
       "MAL                                                847816.15  \n",
       "MBD                                               2657945.91  \n",
       "MUS                                               4151196.04  \n",
       "NEO                                               4865885.60  \n",
       "NVS                                               2574753.78  \n",
       "Other_conditions                                 17891736.31  \n",
       "PNL                                               1360051.81  \n",
       "PRG                                               4957470.16  \n",
       "RSP                                               2036106.18  \n",
       "Residual_codes                                    2349030.00  \n",
       "SKN                                               1065665.68  "
      ]
     },
     "execution_count": 18,
     "metadata": {},
     "output_type": "execute_result"
    }
   ],
   "source": [
    "HEALTH_STATE_MAP_CCSR_CCS_CHAPTER.groupby('CCS_Body_System_Abbreviation_2019')\\\n",
    ".agg({'HS_unique_member_id_key': 'count', 'HS_local_currency_net_amt':'sum'})"
   ]
  },
  {
   "cell_type": "code",
   "execution_count": 19,
   "id": "5f253ef6-a11e-4fcb-8301-d48be507c648",
   "metadata": {
    "tags": []
   },
   "outputs": [
    {
     "data": {
      "text/plain": [
       "65310"
      ]
     },
     "execution_count": 19,
     "metadata": {},
     "output_type": "execute_result"
    }
   ],
   "source": [
    "HEALTH_STATE_MAP_CCSR_CCS_CHAPTER[('CCS_Body_System_Abbreviation_2019')].isnull().sum()"
   ]
  },
  {
   "cell_type": "code",
   "execution_count": null,
   "id": "cecde34b-c3ad-4e27-8824-d996ace6ce82",
   "metadata": {},
   "outputs": [],
   "source": []
  },
  {
   "cell_type": "markdown",
   "id": "3874a29c-df2c-4881-b3fb-1ef8acd8149d",
   "metadata": {},
   "source": [
    "## Maping ICD10 in diamond HS subset to 2023 CCSR chapters"
   ]
  },
  {
   "cell_type": "code",
   "execution_count": 20,
   "id": "2829b3e6-b3a1-4240-8b83-cacbd9525396",
   "metadata": {
    "tags": []
   },
   "outputs": [],
   "source": [
    "ICD_CHAPTER_2023= pd.read_csv(\"s3://intl-euro-uk-datascientist-prod/Abhiya/icd_files_2019-2023/Code_chapter_2023.csv\")"
   ]
  },
  {
   "cell_type": "code",
   "execution_count": 21,
   "id": "9f1c3f26-9b29-4947-98c4-1a21958a276f",
   "metadata": {
    "tags": []
   },
   "outputs": [],
   "source": [
    "ICD_CHAPTER_2023=ICD_CHAPTER_2023.rename(columns={'CCSR_Body_System_Abbreviation_2023':'CCSR_Body_sys_ABR_mapped_HS_CODE',\n",
    "                                                 'ICD_10_code_book_chapter_2023':'ICD_10_chapter_mapped_HS_CODE'})"
   ]
  },
  {
   "cell_type": "code",
   "execution_count": 22,
   "id": "31bbcf3b-c41d-4481-88d1-1d89aba6a71a",
   "metadata": {
    "tags": []
   },
   "outputs": [],
   "source": [
    "HEALTH_STATE_MAP_CCSR_CCS_CHAPTER['HS_ICD_code_Abr']=HEALTH_STATE_MAP_CCSR_CCS_CHAPTER['HS_icd_10_cm_code'].str[0:3]"
   ]
  },
  {
   "cell_type": "code",
   "execution_count": 23,
   "id": "e869e507",
   "metadata": {
    "tags": []
   },
   "outputs": [],
   "source": [
    "HEALTH_STATE_MAP_final= pd.merge (left=HEALTH_STATE_MAP_CCSR_CCS_CHAPTER, right=ICD_CHAPTER_2023, how='left',\\\n",
    "                               left_on='HS_ICD_code_Abr', right_on='CODE_range_first_three_characters',\\\n",
    "                                indicator='CCSR_CHAPTER_CODE_BUCKET')"
   ]
  },
  {
   "cell_type": "code",
   "execution_count": 24,
   "id": "8c5fe529-4289-44c5-92af-664cc0a9eeee",
   "metadata": {
    "tags": []
   },
   "outputs": [
    {
     "data": {
      "text/plain": [
       "CCSR_CHAPTER_CODE_BUCKET\n",
       "both          99.75%\n",
       "left_only      0.25%\n",
       "right_only      0.0%\n",
       "Name: proportion, dtype: object"
      ]
     },
     "execution_count": 24,
     "metadata": {},
     "output_type": "execute_result"
    }
   ],
   "source": [
    "HEALTH_STATE_MAP_final['CCSR_CHAPTER_CODE_BUCKET'].value_counts(normalize=True)\\\n",
    ".mul(100).round(2).astype(str)+'%' "
   ]
  },
  {
   "cell_type": "markdown",
   "id": "60716ee0",
   "metadata": {},
   "source": [
    "# Extra or DUPLICATE ROWS "
   ]
  },
  {
   "cell_type": "code",
   "execution_count": 25,
   "id": "788dbad8",
   "metadata": {},
   "outputs": [
    {
     "data": {
      "text/plain": [
       "(572373, 35)"
      ]
     },
     "execution_count": 25,
     "metadata": {},
     "output_type": "execute_result"
    }
   ],
   "source": [
    "HEALTH_STATE_MAP_final.shape"
   ]
  },
  {
   "cell_type": "code",
   "execution_count": 26,
   "id": "84253130",
   "metadata": {},
   "outputs": [
    {
     "data": {
      "text/html": [
       "<div>\n",
       "<style scoped>\n",
       "    .dataframe tbody tr th:only-of-type {\n",
       "        vertical-align: middle;\n",
       "    }\n",
       "\n",
       "    .dataframe tbody tr th {\n",
       "        vertical-align: top;\n",
       "    }\n",
       "\n",
       "    .dataframe thead th {\n",
       "        text-align: right;\n",
       "    }\n",
       "</style>\n",
       "<table border=\"1\" class=\"dataframe\">\n",
       "  <thead>\n",
       "    <tr style=\"text-align: right;\">\n",
       "      <th></th>\n",
       "      <th>HS_unique_member_id_key</th>\n",
       "      <th>HS_claim_location_country_nm</th>\n",
       "      <th>HS_region</th>\n",
       "      <th>HS_icd_10_cm_code</th>\n",
       "      <th>HS_local_currency_net_amt</th>\n",
       "      <th>HS_member_id</th>\n",
       "      <th>ICD_code_2023</th>\n",
       "      <th>ICD_10_CM_CODE_DESCRIPTION_2023</th>\n",
       "      <th>Default_CCSR_CATEGORY_IP_2023</th>\n",
       "      <th>Default_CCSR_CATEGORY_DESCRIPTION_IP_2023</th>\n",
       "      <th>Default_CCSR_CATEGORY_OP_2023</th>\n",
       "      <th>Default_CCSR_CATEGORY_DESCRIPTION_OP_2023</th>\n",
       "      <th>CCS_CATEGORY_2019</th>\n",
       "      <th>CCS_CATEGORY_DESCRIPTION_2019</th>\n",
       "      <th>icd_code_2019</th>\n",
       "      <th>ICD_10_CM_CODE_DESCRIPTION_2019</th>\n",
       "      <th>CCS_LVL_1_code_2019</th>\n",
       "      <th>CCSR_CATEGORY_1_2023</th>\n",
       "      <th>CCSR_CATEGORY_1_DESCRIPTION_2023</th>\n",
       "      <th>CCS_LVL_1_Description_2019</th>\n",
       "      <th>CCS_LVL_2_code_2019</th>\n",
       "      <th>CCS_LVL_2_Description_2019</th>\n",
       "      <th>CCSR_Body_System_Abbreviation_2023</th>\n",
       "      <th>ICD_2023_code_abr</th>\n",
       "      <th>ICD_10_code_book_chapter_2023</th>\n",
       "      <th>ICD_CODE_BUCKET_HS_CCSR_2023</th>\n",
       "      <th>CCS_chapter_number_2019</th>\n",
       "      <th>CCS_Body_System_Abbreviation_2019</th>\n",
       "      <th>IVD_9_code_diagnosis chapters</th>\n",
       "      <th>CCS_LEVEL1_CHAPTER_NAME_BUCKET</th>\n",
       "      <th>HS_ICD_code_Abr</th>\n",
       "      <th>CODE_range_first_three_characters</th>\n",
       "      <th>CCSR_Body_sys_ABR_mapped_HS_CODE</th>\n",
       "      <th>ICD_10_chapter_mapped_HS_CODE</th>\n",
       "      <th>CCSR_CHAPTER_CODE_BUCKET</th>\n",
       "    </tr>\n",
       "  </thead>\n",
       "  <tbody>\n",
       "    <tr>\n",
       "      <th>0</th>\n",
       "      <td>11598608</td>\n",
       "      <td>United States of America (the)</td>\n",
       "      <td>Americas</td>\n",
       "      <td>I2694</td>\n",
       "      <td>54.98</td>\n",
       "      <td>2.101605e+10</td>\n",
       "      <td>I2694</td>\n",
       "      <td>Multiple subsegmental pulmonary emboli without...</td>\n",
       "      <td>CIR013</td>\n",
       "      <td>Acute pulmonary embolism</td>\n",
       "      <td>CIR013</td>\n",
       "      <td>Acute pulmonary embolism</td>\n",
       "      <td>NaN</td>\n",
       "      <td>NaN</td>\n",
       "      <td>NaN</td>\n",
       "      <td>NaN</td>\n",
       "      <td>NaN</td>\n",
       "      <td>CIR013</td>\n",
       "      <td>Acute pulmonary embolism</td>\n",
       "      <td>NaN</td>\n",
       "      <td>NaN</td>\n",
       "      <td>NaN</td>\n",
       "      <td>CIR</td>\n",
       "      <td>I26</td>\n",
       "      <td>Diseases of the circulatory system</td>\n",
       "      <td>both</td>\n",
       "      <td>NaN</td>\n",
       "      <td>NaN</td>\n",
       "      <td>NaN</td>\n",
       "      <td>left_only</td>\n",
       "      <td>I26</td>\n",
       "      <td>I26</td>\n",
       "      <td>CIR</td>\n",
       "      <td>Diseases of the circulatory system</td>\n",
       "      <td>both</td>\n",
       "    </tr>\n",
       "    <tr>\n",
       "      <th>1</th>\n",
       "      <td>11598608</td>\n",
       "      <td>United States of America (the)</td>\n",
       "      <td>Americas</td>\n",
       "      <td>I2694</td>\n",
       "      <td>84.28</td>\n",
       "      <td>2.101605e+10</td>\n",
       "      <td>I2694</td>\n",
       "      <td>Multiple subsegmental pulmonary emboli without...</td>\n",
       "      <td>CIR013</td>\n",
       "      <td>Acute pulmonary embolism</td>\n",
       "      <td>CIR013</td>\n",
       "      <td>Acute pulmonary embolism</td>\n",
       "      <td>NaN</td>\n",
       "      <td>NaN</td>\n",
       "      <td>NaN</td>\n",
       "      <td>NaN</td>\n",
       "      <td>NaN</td>\n",
       "      <td>CIR013</td>\n",
       "      <td>Acute pulmonary embolism</td>\n",
       "      <td>NaN</td>\n",
       "      <td>NaN</td>\n",
       "      <td>NaN</td>\n",
       "      <td>CIR</td>\n",
       "      <td>I26</td>\n",
       "      <td>Diseases of the circulatory system</td>\n",
       "      <td>both</td>\n",
       "      <td>NaN</td>\n",
       "      <td>NaN</td>\n",
       "      <td>NaN</td>\n",
       "      <td>left_only</td>\n",
       "      <td>I26</td>\n",
       "      <td>I26</td>\n",
       "      <td>CIR</td>\n",
       "      <td>Diseases of the circulatory system</td>\n",
       "      <td>both</td>\n",
       "    </tr>\n",
       "    <tr>\n",
       "      <th>2</th>\n",
       "      <td>11598608</td>\n",
       "      <td>United States of America (the)</td>\n",
       "      <td>Americas</td>\n",
       "      <td>I2694</td>\n",
       "      <td>248.85</td>\n",
       "      <td>2.101605e+10</td>\n",
       "      <td>I2694</td>\n",
       "      <td>Multiple subsegmental pulmonary emboli without...</td>\n",
       "      <td>CIR013</td>\n",
       "      <td>Acute pulmonary embolism</td>\n",
       "      <td>CIR013</td>\n",
       "      <td>Acute pulmonary embolism</td>\n",
       "      <td>NaN</td>\n",
       "      <td>NaN</td>\n",
       "      <td>NaN</td>\n",
       "      <td>NaN</td>\n",
       "      <td>NaN</td>\n",
       "      <td>CIR013</td>\n",
       "      <td>Acute pulmonary embolism</td>\n",
       "      <td>NaN</td>\n",
       "      <td>NaN</td>\n",
       "      <td>NaN</td>\n",
       "      <td>CIR</td>\n",
       "      <td>I26</td>\n",
       "      <td>Diseases of the circulatory system</td>\n",
       "      <td>both</td>\n",
       "      <td>NaN</td>\n",
       "      <td>NaN</td>\n",
       "      <td>NaN</td>\n",
       "      <td>left_only</td>\n",
       "      <td>I26</td>\n",
       "      <td>I26</td>\n",
       "      <td>CIR</td>\n",
       "      <td>Diseases of the circulatory system</td>\n",
       "      <td>both</td>\n",
       "    </tr>\n",
       "  </tbody>\n",
       "</table>\n",
       "</div>"
      ],
      "text/plain": [
       "   HS_unique_member_id_key    HS_claim_location_country_nm HS_region  \\\n",
       "0                 11598608  United States of America (the)  Americas   \n",
       "1                 11598608  United States of America (the)  Americas   \n",
       "2                 11598608  United States of America (the)  Americas   \n",
       "\n",
       "  HS_icd_10_cm_code  HS_local_currency_net_amt  HS_member_id ICD_code_2023  \\\n",
       "0             I2694                      54.98  2.101605e+10         I2694   \n",
       "1             I2694                      84.28  2.101605e+10         I2694   \n",
       "2             I2694                     248.85  2.101605e+10         I2694   \n",
       "\n",
       "                     ICD_10_CM_CODE_DESCRIPTION_2023  \\\n",
       "0  Multiple subsegmental pulmonary emboli without...   \n",
       "1  Multiple subsegmental pulmonary emboli without...   \n",
       "2  Multiple subsegmental pulmonary emboli without...   \n",
       "\n",
       "  Default_CCSR_CATEGORY_IP_2023 Default_CCSR_CATEGORY_DESCRIPTION_IP_2023  \\\n",
       "0                        CIR013                  Acute pulmonary embolism   \n",
       "1                        CIR013                  Acute pulmonary embolism   \n",
       "2                        CIR013                  Acute pulmonary embolism   \n",
       "\n",
       "  Default_CCSR_CATEGORY_OP_2023 Default_CCSR_CATEGORY_DESCRIPTION_OP_2023  \\\n",
       "0                        CIR013                  Acute pulmonary embolism   \n",
       "1                        CIR013                  Acute pulmonary embolism   \n",
       "2                        CIR013                  Acute pulmonary embolism   \n",
       "\n",
       "   CCS_CATEGORY_2019 CCS_CATEGORY_DESCRIPTION_2019 icd_code_2019  \\\n",
       "0                NaN                           NaN           NaN   \n",
       "1                NaN                           NaN           NaN   \n",
       "2                NaN                           NaN           NaN   \n",
       "\n",
       "  ICD_10_CM_CODE_DESCRIPTION_2019  CCS_LVL_1_code_2019 CCSR_CATEGORY_1_2023  \\\n",
       "0                             NaN                  NaN               CIR013   \n",
       "1                             NaN                  NaN               CIR013   \n",
       "2                             NaN                  NaN               CIR013   \n",
       "\n",
       "  CCSR_CATEGORY_1_DESCRIPTION_2023 CCS_LVL_1_Description_2019  \\\n",
       "0         Acute pulmonary embolism                        NaN   \n",
       "1         Acute pulmonary embolism                        NaN   \n",
       "2         Acute pulmonary embolism                        NaN   \n",
       "\n",
       "  CCS_LVL_2_code_2019 CCS_LVL_2_Description_2019  \\\n",
       "0                 NaN                        NaN   \n",
       "1                 NaN                        NaN   \n",
       "2                 NaN                        NaN   \n",
       "\n",
       "  CCSR_Body_System_Abbreviation_2023 ICD_2023_code_abr  \\\n",
       "0                                CIR               I26   \n",
       "1                                CIR               I26   \n",
       "2                                CIR               I26   \n",
       "\n",
       "         ICD_10_code_book_chapter_2023 ICD_CODE_BUCKET_HS_CCSR_2023  \\\n",
       "0  Diseases of the circulatory system                          both   \n",
       "1  Diseases of the circulatory system                          both   \n",
       "2  Diseases of the circulatory system                          both   \n",
       "\n",
       "   CCS_chapter_number_2019 CCS_Body_System_Abbreviation_2019  \\\n",
       "0                      NaN                               NaN   \n",
       "1                      NaN                               NaN   \n",
       "2                      NaN                               NaN   \n",
       "\n",
       "  IVD_9_code_diagnosis chapters CCS_LEVEL1_CHAPTER_NAME_BUCKET  \\\n",
       "0                           NaN                      left_only   \n",
       "1                           NaN                      left_only   \n",
       "2                           NaN                      left_only   \n",
       "\n",
       "  HS_ICD_code_Abr CODE_range_first_three_characters  \\\n",
       "0             I26                               I26   \n",
       "1             I26                               I26   \n",
       "2             I26                               I26   \n",
       "\n",
       "  CCSR_Body_sys_ABR_mapped_HS_CODE        ICD_10_chapter_mapped_HS_CODE  \\\n",
       "0                              CIR  Diseases of the circulatory system    \n",
       "1                              CIR  Diseases of the circulatory system    \n",
       "2                              CIR  Diseases of the circulatory system    \n",
       "\n",
       "  CCSR_CHAPTER_CODE_BUCKET  \n",
       "0                     both  \n",
       "1                     both  \n",
       "2                     both  "
      ]
     },
     "execution_count": 26,
     "metadata": {},
     "output_type": "execute_result"
    }
   ],
   "source": [
    "HEALTH_STATE_MAP_final.head(3)"
   ]
  },
  {
   "cell_type": "markdown",
   "id": "295ca9c0",
   "metadata": {},
   "source": [
    "## CHECK FOR DUPLICATES-here 50% data is duplicated"
   ]
  },
  {
   "cell_type": "code",
   "execution_count": 27,
   "id": "12772110",
   "metadata": {},
   "outputs": [],
   "source": [
    "dup=HEALTH_STATE_MAP_final[HEALTH_STATE_MAP_final.duplicated(['HS_icd_10_cm_code','HS_unique_member_id_key'])]"
   ]
  },
  {
   "cell_type": "code",
   "execution_count": 28,
   "id": "ada63941",
   "metadata": {},
   "outputs": [
    {
     "data": {
      "text/html": [
       "<div>\n",
       "<style scoped>\n",
       "    .dataframe tbody tr th:only-of-type {\n",
       "        vertical-align: middle;\n",
       "    }\n",
       "\n",
       "    .dataframe tbody tr th {\n",
       "        vertical-align: top;\n",
       "    }\n",
       "\n",
       "    .dataframe thead th {\n",
       "        text-align: right;\n",
       "    }\n",
       "</style>\n",
       "<table border=\"1\" class=\"dataframe\">\n",
       "  <thead>\n",
       "    <tr style=\"text-align: right;\">\n",
       "      <th></th>\n",
       "      <th>HS_unique_member_id_key</th>\n",
       "      <th>HS_claim_location_country_nm</th>\n",
       "      <th>HS_region</th>\n",
       "      <th>HS_icd_10_cm_code</th>\n",
       "      <th>HS_local_currency_net_amt</th>\n",
       "      <th>HS_member_id</th>\n",
       "      <th>ICD_code_2023</th>\n",
       "      <th>ICD_10_CM_CODE_DESCRIPTION_2023</th>\n",
       "      <th>Default_CCSR_CATEGORY_IP_2023</th>\n",
       "      <th>Default_CCSR_CATEGORY_DESCRIPTION_IP_2023</th>\n",
       "      <th>Default_CCSR_CATEGORY_OP_2023</th>\n",
       "      <th>Default_CCSR_CATEGORY_DESCRIPTION_OP_2023</th>\n",
       "      <th>CCS_CATEGORY_2019</th>\n",
       "      <th>CCS_CATEGORY_DESCRIPTION_2019</th>\n",
       "      <th>icd_code_2019</th>\n",
       "      <th>ICD_10_CM_CODE_DESCRIPTION_2019</th>\n",
       "      <th>CCS_LVL_1_code_2019</th>\n",
       "      <th>CCSR_CATEGORY_1_2023</th>\n",
       "      <th>CCSR_CATEGORY_1_DESCRIPTION_2023</th>\n",
       "      <th>CCS_LVL_1_Description_2019</th>\n",
       "      <th>CCS_LVL_2_code_2019</th>\n",
       "      <th>CCS_LVL_2_Description_2019</th>\n",
       "      <th>CCSR_Body_System_Abbreviation_2023</th>\n",
       "      <th>ICD_2023_code_abr</th>\n",
       "      <th>ICD_10_code_book_chapter_2023</th>\n",
       "      <th>ICD_CODE_BUCKET_HS_CCSR_2023</th>\n",
       "      <th>CCS_chapter_number_2019</th>\n",
       "      <th>CCS_Body_System_Abbreviation_2019</th>\n",
       "      <th>IVD_9_code_diagnosis chapters</th>\n",
       "      <th>CCS_LEVEL1_CHAPTER_NAME_BUCKET</th>\n",
       "      <th>HS_ICD_code_Abr</th>\n",
       "      <th>CODE_range_first_three_characters</th>\n",
       "      <th>CCSR_Body_sys_ABR_mapped_HS_CODE</th>\n",
       "      <th>ICD_10_chapter_mapped_HS_CODE</th>\n",
       "      <th>CCSR_CHAPTER_CODE_BUCKET</th>\n",
       "    </tr>\n",
       "  </thead>\n",
       "  <tbody>\n",
       "    <tr>\n",
       "      <th>1</th>\n",
       "      <td>11598608</td>\n",
       "      <td>United States of America (the)</td>\n",
       "      <td>Americas</td>\n",
       "      <td>I2694</td>\n",
       "      <td>84.28</td>\n",
       "      <td>2.101605e+10</td>\n",
       "      <td>I2694</td>\n",
       "      <td>Multiple subsegmental pulmonary emboli without...</td>\n",
       "      <td>CIR013</td>\n",
       "      <td>Acute pulmonary embolism</td>\n",
       "      <td>CIR013</td>\n",
       "      <td>Acute pulmonary embolism</td>\n",
       "      <td>NaN</td>\n",
       "      <td>NaN</td>\n",
       "      <td>NaN</td>\n",
       "      <td>NaN</td>\n",
       "      <td>NaN</td>\n",
       "      <td>CIR013</td>\n",
       "      <td>Acute pulmonary embolism</td>\n",
       "      <td>NaN</td>\n",
       "      <td>NaN</td>\n",
       "      <td>NaN</td>\n",
       "      <td>CIR</td>\n",
       "      <td>I26</td>\n",
       "      <td>Diseases of the circulatory system</td>\n",
       "      <td>both</td>\n",
       "      <td>NaN</td>\n",
       "      <td>NaN</td>\n",
       "      <td>NaN</td>\n",
       "      <td>left_only</td>\n",
       "      <td>I26</td>\n",
       "      <td>I26</td>\n",
       "      <td>CIR</td>\n",
       "      <td>Diseases of the circulatory system</td>\n",
       "      <td>both</td>\n",
       "    </tr>\n",
       "    <tr>\n",
       "      <th>2</th>\n",
       "      <td>11598608</td>\n",
       "      <td>United States of America (the)</td>\n",
       "      <td>Americas</td>\n",
       "      <td>I2694</td>\n",
       "      <td>248.85</td>\n",
       "      <td>2.101605e+10</td>\n",
       "      <td>I2694</td>\n",
       "      <td>Multiple subsegmental pulmonary emboli without...</td>\n",
       "      <td>CIR013</td>\n",
       "      <td>Acute pulmonary embolism</td>\n",
       "      <td>CIR013</td>\n",
       "      <td>Acute pulmonary embolism</td>\n",
       "      <td>NaN</td>\n",
       "      <td>NaN</td>\n",
       "      <td>NaN</td>\n",
       "      <td>NaN</td>\n",
       "      <td>NaN</td>\n",
       "      <td>CIR013</td>\n",
       "      <td>Acute pulmonary embolism</td>\n",
       "      <td>NaN</td>\n",
       "      <td>NaN</td>\n",
       "      <td>NaN</td>\n",
       "      <td>CIR</td>\n",
       "      <td>I26</td>\n",
       "      <td>Diseases of the circulatory system</td>\n",
       "      <td>both</td>\n",
       "      <td>NaN</td>\n",
       "      <td>NaN</td>\n",
       "      <td>NaN</td>\n",
       "      <td>left_only</td>\n",
       "      <td>I26</td>\n",
       "      <td>I26</td>\n",
       "      <td>CIR</td>\n",
       "      <td>Diseases of the circulatory system</td>\n",
       "      <td>both</td>\n",
       "    </tr>\n",
       "    <tr>\n",
       "      <th>3</th>\n",
       "      <td>11598608</td>\n",
       "      <td>United States of America (the)</td>\n",
       "      <td>Americas</td>\n",
       "      <td>I2694</td>\n",
       "      <td>33.50</td>\n",
       "      <td>2.101605e+10</td>\n",
       "      <td>I2694</td>\n",
       "      <td>Multiple subsegmental pulmonary emboli without...</td>\n",
       "      <td>CIR013</td>\n",
       "      <td>Acute pulmonary embolism</td>\n",
       "      <td>CIR013</td>\n",
       "      <td>Acute pulmonary embolism</td>\n",
       "      <td>NaN</td>\n",
       "      <td>NaN</td>\n",
       "      <td>NaN</td>\n",
       "      <td>NaN</td>\n",
       "      <td>NaN</td>\n",
       "      <td>CIR013</td>\n",
       "      <td>Acute pulmonary embolism</td>\n",
       "      <td>NaN</td>\n",
       "      <td>NaN</td>\n",
       "      <td>NaN</td>\n",
       "      <td>CIR</td>\n",
       "      <td>I26</td>\n",
       "      <td>Diseases of the circulatory system</td>\n",
       "      <td>both</td>\n",
       "      <td>NaN</td>\n",
       "      <td>NaN</td>\n",
       "      <td>NaN</td>\n",
       "      <td>left_only</td>\n",
       "      <td>I26</td>\n",
       "      <td>I26</td>\n",
       "      <td>CIR</td>\n",
       "      <td>Diseases of the circulatory system</td>\n",
       "      <td>both</td>\n",
       "    </tr>\n",
       "  </tbody>\n",
       "</table>\n",
       "</div>"
      ],
      "text/plain": [
       "   HS_unique_member_id_key    HS_claim_location_country_nm HS_region  \\\n",
       "1                 11598608  United States of America (the)  Americas   \n",
       "2                 11598608  United States of America (the)  Americas   \n",
       "3                 11598608  United States of America (the)  Americas   \n",
       "\n",
       "  HS_icd_10_cm_code  HS_local_currency_net_amt  HS_member_id ICD_code_2023  \\\n",
       "1             I2694                      84.28  2.101605e+10         I2694   \n",
       "2             I2694                     248.85  2.101605e+10         I2694   \n",
       "3             I2694                      33.50  2.101605e+10         I2694   \n",
       "\n",
       "                     ICD_10_CM_CODE_DESCRIPTION_2023  \\\n",
       "1  Multiple subsegmental pulmonary emboli without...   \n",
       "2  Multiple subsegmental pulmonary emboli without...   \n",
       "3  Multiple subsegmental pulmonary emboli without...   \n",
       "\n",
       "  Default_CCSR_CATEGORY_IP_2023 Default_CCSR_CATEGORY_DESCRIPTION_IP_2023  \\\n",
       "1                        CIR013                  Acute pulmonary embolism   \n",
       "2                        CIR013                  Acute pulmonary embolism   \n",
       "3                        CIR013                  Acute pulmonary embolism   \n",
       "\n",
       "  Default_CCSR_CATEGORY_OP_2023 Default_CCSR_CATEGORY_DESCRIPTION_OP_2023  \\\n",
       "1                        CIR013                  Acute pulmonary embolism   \n",
       "2                        CIR013                  Acute pulmonary embolism   \n",
       "3                        CIR013                  Acute pulmonary embolism   \n",
       "\n",
       "   CCS_CATEGORY_2019 CCS_CATEGORY_DESCRIPTION_2019 icd_code_2019  \\\n",
       "1                NaN                           NaN           NaN   \n",
       "2                NaN                           NaN           NaN   \n",
       "3                NaN                           NaN           NaN   \n",
       "\n",
       "  ICD_10_CM_CODE_DESCRIPTION_2019  CCS_LVL_1_code_2019 CCSR_CATEGORY_1_2023  \\\n",
       "1                             NaN                  NaN               CIR013   \n",
       "2                             NaN                  NaN               CIR013   \n",
       "3                             NaN                  NaN               CIR013   \n",
       "\n",
       "  CCSR_CATEGORY_1_DESCRIPTION_2023 CCS_LVL_1_Description_2019  \\\n",
       "1         Acute pulmonary embolism                        NaN   \n",
       "2         Acute pulmonary embolism                        NaN   \n",
       "3         Acute pulmonary embolism                        NaN   \n",
       "\n",
       "  CCS_LVL_2_code_2019 CCS_LVL_2_Description_2019  \\\n",
       "1                 NaN                        NaN   \n",
       "2                 NaN                        NaN   \n",
       "3                 NaN                        NaN   \n",
       "\n",
       "  CCSR_Body_System_Abbreviation_2023 ICD_2023_code_abr  \\\n",
       "1                                CIR               I26   \n",
       "2                                CIR               I26   \n",
       "3                                CIR               I26   \n",
       "\n",
       "         ICD_10_code_book_chapter_2023 ICD_CODE_BUCKET_HS_CCSR_2023  \\\n",
       "1  Diseases of the circulatory system                          both   \n",
       "2  Diseases of the circulatory system                          both   \n",
       "3  Diseases of the circulatory system                          both   \n",
       "\n",
       "   CCS_chapter_number_2019 CCS_Body_System_Abbreviation_2019  \\\n",
       "1                      NaN                               NaN   \n",
       "2                      NaN                               NaN   \n",
       "3                      NaN                               NaN   \n",
       "\n",
       "  IVD_9_code_diagnosis chapters CCS_LEVEL1_CHAPTER_NAME_BUCKET  \\\n",
       "1                           NaN                      left_only   \n",
       "2                           NaN                      left_only   \n",
       "3                           NaN                      left_only   \n",
       "\n",
       "  HS_ICD_code_Abr CODE_range_first_three_characters  \\\n",
       "1             I26                               I26   \n",
       "2             I26                               I26   \n",
       "3             I26                               I26   \n",
       "\n",
       "  CCSR_Body_sys_ABR_mapped_HS_CODE        ICD_10_chapter_mapped_HS_CODE  \\\n",
       "1                              CIR  Diseases of the circulatory system    \n",
       "2                              CIR  Diseases of the circulatory system    \n",
       "3                              CIR  Diseases of the circulatory system    \n",
       "\n",
       "  CCSR_CHAPTER_CODE_BUCKET  \n",
       "1                     both  \n",
       "2                     both  \n",
       "3                     both  "
      ]
     },
     "execution_count": 28,
     "metadata": {},
     "output_type": "execute_result"
    }
   ],
   "source": [
    "dup.head(3)\n"
   ]
  },
  {
   "cell_type": "code",
   "execution_count": 29,
   "id": "9be305a8",
   "metadata": {},
   "outputs": [
    {
     "data": {
      "text/plain": [
       "(417576, 35)"
      ]
     },
     "execution_count": 29,
     "metadata": {},
     "output_type": "execute_result"
    }
   ],
   "source": [
    "dup.shape "
   ]
  },
  {
   "cell_type": "markdown",
   "id": "88a4c221",
   "metadata": {},
   "source": [
    "# HOW RO REMOVE DUPLICATES-create a unique field - row number"
   ]
  },
  {
   "cell_type": "code",
   "execution_count": 30,
   "id": "db7a30d7",
   "metadata": {},
   "outputs": [
    {
     "data": {
      "text/html": [
       "<div>\n",
       "<style scoped>\n",
       "    .dataframe tbody tr th:only-of-type {\n",
       "        vertical-align: middle;\n",
       "    }\n",
       "\n",
       "    .dataframe tbody tr th {\n",
       "        vertical-align: top;\n",
       "    }\n",
       "\n",
       "    .dataframe thead th {\n",
       "        text-align: right;\n",
       "    }\n",
       "</style>\n",
       "<table border=\"1\" class=\"dataframe\">\n",
       "  <thead>\n",
       "    <tr style=\"text-align: right;\">\n",
       "      <th></th>\n",
       "      <th>HS_unique_member_id_key</th>\n",
       "      <th>HS_claim_location_country_nm</th>\n",
       "      <th>HS_region</th>\n",
       "      <th>HS_icd_10_cm_code</th>\n",
       "      <th>HS_local_currency_net_amt</th>\n",
       "      <th>HS_member_id</th>\n",
       "    </tr>\n",
       "  </thead>\n",
       "  <tbody>\n",
       "    <tr>\n",
       "      <th>0</th>\n",
       "      <td>11598608</td>\n",
       "      <td>United States of America (the)</td>\n",
       "      <td>Americas</td>\n",
       "      <td>I2694</td>\n",
       "      <td>54.98</td>\n",
       "      <td>2.101605e+10</td>\n",
       "    </tr>\n",
       "    <tr>\n",
       "      <th>1</th>\n",
       "      <td>11598608</td>\n",
       "      <td>United States of America (the)</td>\n",
       "      <td>Americas</td>\n",
       "      <td>I2694</td>\n",
       "      <td>84.28</td>\n",
       "      <td>2.101605e+10</td>\n",
       "    </tr>\n",
       "  </tbody>\n",
       "</table>\n",
       "</div>"
      ],
      "text/plain": [
       "   HS_unique_member_id_key    HS_claim_location_country_nm HS_region  \\\n",
       "0                 11598608  United States of America (the)  Americas   \n",
       "1                 11598608  United States of America (the)  Americas   \n",
       "\n",
       "  HS_icd_10_cm_code  HS_local_currency_net_amt  HS_member_id  \n",
       "0             I2694                      54.98  2.101605e+10  \n",
       "1             I2694                      84.28  2.101605e+10  "
      ]
     },
     "execution_count": 30,
     "metadata": {},
     "output_type": "execute_result"
    }
   ],
   "source": [
    "Health_State_2023.head(2)"
   ]
  },
  {
   "cell_type": "code",
   "execution_count": 31,
   "id": "7f913e2e",
   "metadata": {},
   "outputs": [
    {
     "data": {
      "text/plain": [
       "(572373, 6)"
      ]
     },
     "execution_count": 31,
     "metadata": {},
     "output_type": "execute_result"
    }
   ],
   "source": [
    "Health_State_2023.shape"
   ]
  },
  {
   "cell_type": "code",
   "execution_count": 32,
   "id": "379d6fcf",
   "metadata": {},
   "outputs": [],
   "source": [
    "Health_State_2023=Health_State_2023.reset_index(drop=True)"
   ]
  },
  {
   "cell_type": "code",
   "execution_count": 33,
   "id": "5f64a9f9",
   "metadata": {},
   "outputs": [],
   "source": [
    "Health_State_2023['Row_number']=Health_State_2023.index+1 "
   ]
  },
  {
   "cell_type": "code",
   "execution_count": 34,
   "id": "5460d0f4",
   "metadata": {},
   "outputs": [
    {
     "data": {
      "text/html": [
       "<div>\n",
       "<style scoped>\n",
       "    .dataframe tbody tr th:only-of-type {\n",
       "        vertical-align: middle;\n",
       "    }\n",
       "\n",
       "    .dataframe tbody tr th {\n",
       "        vertical-align: top;\n",
       "    }\n",
       "\n",
       "    .dataframe thead th {\n",
       "        text-align: right;\n",
       "    }\n",
       "</style>\n",
       "<table border=\"1\" class=\"dataframe\">\n",
       "  <thead>\n",
       "    <tr style=\"text-align: right;\">\n",
       "      <th></th>\n",
       "      <th>HS_unique_member_id_key</th>\n",
       "      <th>HS_claim_location_country_nm</th>\n",
       "      <th>HS_region</th>\n",
       "      <th>HS_icd_10_cm_code</th>\n",
       "      <th>HS_local_currency_net_amt</th>\n",
       "      <th>HS_member_id</th>\n",
       "      <th>Row_number</th>\n",
       "    </tr>\n",
       "  </thead>\n",
       "  <tbody>\n",
       "    <tr>\n",
       "      <th>0</th>\n",
       "      <td>11598608</td>\n",
       "      <td>United States of America (the)</td>\n",
       "      <td>Americas</td>\n",
       "      <td>I2694</td>\n",
       "      <td>54.98</td>\n",
       "      <td>2.101605e+10</td>\n",
       "      <td>1</td>\n",
       "    </tr>\n",
       "    <tr>\n",
       "      <th>1</th>\n",
       "      <td>11598608</td>\n",
       "      <td>United States of America (the)</td>\n",
       "      <td>Americas</td>\n",
       "      <td>I2694</td>\n",
       "      <td>84.28</td>\n",
       "      <td>2.101605e+10</td>\n",
       "      <td>2</td>\n",
       "    </tr>\n",
       "  </tbody>\n",
       "</table>\n",
       "</div>"
      ],
      "text/plain": [
       "   HS_unique_member_id_key    HS_claim_location_country_nm HS_region  \\\n",
       "0                 11598608  United States of America (the)  Americas   \n",
       "1                 11598608  United States of America (the)  Americas   \n",
       "\n",
       "  HS_icd_10_cm_code  HS_local_currency_net_amt  HS_member_id  Row_number  \n",
       "0             I2694                      54.98  2.101605e+10           1  \n",
       "1             I2694                      84.28  2.101605e+10           2  "
      ]
     },
     "execution_count": 34,
     "metadata": {},
     "output_type": "execute_result"
    }
   ],
   "source": [
    "Health_State_2023.head(2) "
   ]
  },
  {
   "cell_type": "code",
   "execution_count": 35,
   "id": "6bbd1b4b",
   "metadata": {},
   "outputs": [],
   "source": [
    "Health_State_2023_map_CCSR_CCS=pd.merge(left=Health_State_2023,right=CCSR_CCS, how='left',\\\n",
    "                        left_on='HS_icd_10_cm_code',right_on='ICD_code_2023', indicator='ICD_CODE_BUCKET_HS_CCSR_2023') "
   ]
  },
  {
   "cell_type": "code",
   "execution_count": 36,
   "id": "ae465ad0",
   "metadata": {},
   "outputs": [
    {
     "data": {
      "text/plain": [
       "(572373, 27)"
      ]
     },
     "execution_count": 36,
     "metadata": {},
     "output_type": "execute_result"
    }
   ],
   "source": [
    "Health_State_2023_map_CCSR_CCS.shape"
   ]
  },
  {
   "cell_type": "code",
   "execution_count": 37,
   "id": "9821dc95",
   "metadata": {},
   "outputs": [],
   "source": [
    "HEALTH_STATE_MAP_CCSR_CCS_CHAPTER= pd.merge (left=Health_State_2023_map_CCSR_CCS, right=ICD_9_CHAPTER_NAME, how='left',\\\n",
    "                               left_on='CCS_LVL_1_code_2019', right_on='CCS_chapter_number_2019',\\\n",
    "                                indicator='CCS_LEVEL1_CHAPTER_NAME_BUCKET')"
   ]
  },
  {
   "cell_type": "code",
   "execution_count": 38,
   "id": "6bcf8d70",
   "metadata": {},
   "outputs": [
    {
     "data": {
      "text/plain": [
       "(572373, 31)"
      ]
     },
     "execution_count": 38,
     "metadata": {},
     "output_type": "execute_result"
    }
   ],
   "source": [
    "HEALTH_STATE_MAP_CCSR_CCS_CHAPTER.shape"
   ]
  },
  {
   "cell_type": "code",
   "execution_count": 39,
   "id": "31b20afa",
   "metadata": {},
   "outputs": [],
   "source": [
    "ICD_CHAPTER_2023=ICD_CHAPTER_2023.rename(columns={'CCSR_Body_System_Abbreviation_2023':'CCSR_Body_sys_ABR_mapped_HS_CODE',\n",
    "                                                 'ICD_10_code_book_chapter_2023':'ICD_10_chapter_mapped_HS_CODE'})"
   ]
  },
  {
   "cell_type": "code",
   "execution_count": 40,
   "id": "54db5408",
   "metadata": {},
   "outputs": [],
   "source": [
    "HEALTH_STATE_MAP_CCSR_CCS_CHAPTER['HS_ICD_code_Abr']=HEALTH_STATE_MAP_CCSR_CCS_CHAPTER['HS_icd_10_cm_code'].str[0:3]"
   ]
  },
  {
   "cell_type": "code",
   "execution_count": 41,
   "id": "b675bd5d",
   "metadata": {},
   "outputs": [],
   "source": [
    "HEALTH_STATE_MAP_final= pd.merge (left=HEALTH_STATE_MAP_CCSR_CCS_CHAPTER, right=ICD_CHAPTER_2023, how='left',\\\n",
    "                               left_on='HS_ICD_code_Abr', right_on='CODE_range_first_three_characters',\\\n",
    "                                indicator='CCSR_CHAPTER_CODE_BUCKET')"
   ]
  },
  {
   "cell_type": "code",
   "execution_count": 42,
   "id": "7c6d6049",
   "metadata": {},
   "outputs": [
    {
     "data": {
      "text/plain": [
       "(572373, 36)"
      ]
     },
     "execution_count": 42,
     "metadata": {},
     "output_type": "execute_result"
    }
   ],
   "source": [
    "HEALTH_STATE_MAP_final.shape"
   ]
  },
  {
   "cell_type": "code",
   "execution_count": 43,
   "id": "1d9ce3fb",
   "metadata": {},
   "outputs": [],
   "source": [
    "dup_2=HEALTH_STATE_MAP_final[HEALTH_STATE_MAP_final.duplicated(['Row_number'])] "
   ]
  },
  {
   "cell_type": "code",
   "execution_count": 44,
   "id": "f7e3e7f2",
   "metadata": {},
   "outputs": [
    {
     "data": {
      "text/html": [
       "<div>\n",
       "<style scoped>\n",
       "    .dataframe tbody tr th:only-of-type {\n",
       "        vertical-align: middle;\n",
       "    }\n",
       "\n",
       "    .dataframe tbody tr th {\n",
       "        vertical-align: top;\n",
       "    }\n",
       "\n",
       "    .dataframe thead th {\n",
       "        text-align: right;\n",
       "    }\n",
       "</style>\n",
       "<table border=\"1\" class=\"dataframe\">\n",
       "  <thead>\n",
       "    <tr style=\"text-align: right;\">\n",
       "      <th></th>\n",
       "      <th>HS_unique_member_id_key</th>\n",
       "      <th>HS_claim_location_country_nm</th>\n",
       "      <th>HS_region</th>\n",
       "      <th>HS_icd_10_cm_code</th>\n",
       "      <th>HS_local_currency_net_amt</th>\n",
       "      <th>HS_member_id</th>\n",
       "      <th>Row_number</th>\n",
       "      <th>ICD_code_2023</th>\n",
       "      <th>ICD_10_CM_CODE_DESCRIPTION_2023</th>\n",
       "      <th>Default_CCSR_CATEGORY_IP_2023</th>\n",
       "      <th>Default_CCSR_CATEGORY_DESCRIPTION_IP_2023</th>\n",
       "      <th>Default_CCSR_CATEGORY_OP_2023</th>\n",
       "      <th>Default_CCSR_CATEGORY_DESCRIPTION_OP_2023</th>\n",
       "      <th>CCS_CATEGORY_2019</th>\n",
       "      <th>CCS_CATEGORY_DESCRIPTION_2019</th>\n",
       "      <th>icd_code_2019</th>\n",
       "      <th>ICD_10_CM_CODE_DESCRIPTION_2019</th>\n",
       "      <th>CCS_LVL_1_code_2019</th>\n",
       "      <th>CCSR_CATEGORY_1_2023</th>\n",
       "      <th>CCSR_CATEGORY_1_DESCRIPTION_2023</th>\n",
       "      <th>CCS_LVL_1_Description_2019</th>\n",
       "      <th>CCS_LVL_2_code_2019</th>\n",
       "      <th>CCS_LVL_2_Description_2019</th>\n",
       "      <th>CCSR_Body_System_Abbreviation_2023</th>\n",
       "      <th>ICD_2023_code_abr</th>\n",
       "      <th>ICD_10_code_book_chapter_2023</th>\n",
       "      <th>ICD_CODE_BUCKET_HS_CCSR_2023</th>\n",
       "      <th>CCS_chapter_number_2019</th>\n",
       "      <th>CCS_Body_System_Abbreviation_2019</th>\n",
       "      <th>IVD_9_code_diagnosis chapters</th>\n",
       "      <th>CCS_LEVEL1_CHAPTER_NAME_BUCKET</th>\n",
       "      <th>HS_ICD_code_Abr</th>\n",
       "      <th>CODE_range_first_three_characters</th>\n",
       "      <th>CCSR_Body_sys_ABR_mapped_HS_CODE</th>\n",
       "      <th>ICD_10_chapter_mapped_HS_CODE</th>\n",
       "      <th>CCSR_CHAPTER_CODE_BUCKET</th>\n",
       "    </tr>\n",
       "  </thead>\n",
       "  <tbody>\n",
       "  </tbody>\n",
       "</table>\n",
       "</div>"
      ],
      "text/plain": [
       "Empty DataFrame\n",
       "Columns: [HS_unique_member_id_key, HS_claim_location_country_nm, HS_region, HS_icd_10_cm_code, HS_local_currency_net_amt, HS_member_id, Row_number, ICD_code_2023, ICD_10_CM_CODE_DESCRIPTION_2023, Default_CCSR_CATEGORY_IP_2023, Default_CCSR_CATEGORY_DESCRIPTION_IP_2023, Default_CCSR_CATEGORY_OP_2023, Default_CCSR_CATEGORY_DESCRIPTION_OP_2023, CCS_CATEGORY_2019, CCS_CATEGORY_DESCRIPTION_2019, icd_code_2019, ICD_10_CM_CODE_DESCRIPTION_2019, CCS_LVL_1_code_2019, CCSR_CATEGORY_1_2023, CCSR_CATEGORY_1_DESCRIPTION_2023, CCS_LVL_1_Description_2019, CCS_LVL_2_code_2019, CCS_LVL_2_Description_2019, CCSR_Body_System_Abbreviation_2023, ICD_2023_code_abr, ICD_10_code_book_chapter_2023, ICD_CODE_BUCKET_HS_CCSR_2023, CCS_chapter_number_2019, CCS_Body_System_Abbreviation_2019, IVD_9_code_diagnosis chapters, CCS_LEVEL1_CHAPTER_NAME_BUCKET, HS_ICD_code_Abr, CODE_range_first_three_characters, CCSR_Body_sys_ABR_mapped_HS_CODE, ICD_10_chapter_mapped_HS_CODE, CCSR_CHAPTER_CODE_BUCKET]\n",
       "Index: []"
      ]
     },
     "execution_count": 44,
     "metadata": {},
     "output_type": "execute_result"
    }
   ],
   "source": [
    "dup_2.head(3)"
   ]
  },
  {
   "cell_type": "code",
   "execution_count": 45,
   "id": "ce966d06",
   "metadata": {},
   "outputs": [
    {
     "data": {
      "text/plain": [
       "(0, 36)"
      ]
     },
     "execution_count": 45,
     "metadata": {},
     "output_type": "execute_result"
    }
   ],
   "source": [
    "dup_2.shape"
   ]
  },
  {
   "cell_type": "code",
   "execution_count": null,
   "id": "d912b6fc",
   "metadata": {},
   "outputs": [],
   "source": [
    "HEALTH_STATE_MAP_final.drop_duplicates()"
   ]
  },
  {
   "cell_type": "code",
   "execution_count": null,
   "id": "60b8bd78",
   "metadata": {},
   "outputs": [],
   "source": [
    "HEALTH_STATE_MAP_final=HEALTH_STATE_MAP_final.drop_duplicates(subset=['Row_number'],keep='first')   "
   ]
  },
  {
   "cell_type": "code",
   "execution_count": null,
   "id": "dd547de9",
   "metadata": {},
   "outputs": [],
   "source": [
    "HEALTH_STATE_MAP_final.shape"
   ]
  },
  {
   "cell_type": "markdown",
   "id": "fff48684",
   "metadata": {},
   "source": [
    "## CLAIM TOTAL"
   ]
  },
  {
   "cell_type": "code",
   "execution_count": null,
   "id": "088956b9",
   "metadata": {},
   "outputs": [],
   "source": [
    "HEALTH_STATE_MAP_final['HS_local_currency_net_amt'].sum()"
   ]
  },
  {
   "cell_type": "markdown",
   "id": "9714b958-8179-4680-92a7-8b6aff3007d5",
   "metadata": {},
   "source": [
    "# Diamond_HS"
   ]
  },
  {
   "cell_type": "code",
   "execution_count": null,
   "id": "d27ee9d9-449d-40db-9ab6-da8d1dcfd2d6",
   "metadata": {
    "tags": []
   },
   "outputs": [],
   "source": [
    "HEALTH_STATE_MAP_final.groupby('CCSR_Body_sys_ABR_mapped_HS_CODE')\\\n",
    ".agg({'HS_unique_member_id_key': 'count', 'HS_local_currency_net_amt':'sum'})"
   ]
  },
  {
   "cell_type": "code",
   "execution_count": null,
   "id": "0363af32-c3d5-46f2-9873-737f0532f067",
   "metadata": {
    "tags": []
   },
   "outputs": [],
   "source": [
    "HEALTH_STATE_MAP_final[('CCSR_Body_sys_ABR_mapped_HS_CODE')].isnull().sum()"
   ]
  },
  {
   "cell_type": "code",
   "execution_count": null,
   "id": "cdd39ffd-8f75-4280-807d-2d1571bff3fe",
   "metadata": {},
   "outputs": [],
   "source": []
  }
 ],
 "metadata": {
  "kernelspec": {
   "display_name": "conda_python3",
   "language": "python",
   "name": "conda_python3"
  },
  "language_info": {
   "codemirror_mode": {
    "name": "ipython",
    "version": 3
   },
   "file_extension": ".py",
   "mimetype": "text/x-python",
   "name": "python",
   "nbconvert_exporter": "python",
   "pygments_lexer": "ipython3",
   "version": "3.10.13"
  }
 },
 "nbformat": 4,
 "nbformat_minor": 5
}

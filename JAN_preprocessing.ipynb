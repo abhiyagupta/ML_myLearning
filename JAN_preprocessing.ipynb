{
 "cells": [
  {
   "cell_type": "markdown",
   "id": "6d59d8a9",
   "metadata": {
    "tags": []
   },
   "source": [
    "# Import packages and set display options"
   ]
  },
  {
   "cell_type": "code",
   "execution_count": 1,
   "id": "2493ded1",
   "metadata": {
    "collapsed": true,
    "jupyter": {
     "outputs_hidden": true
    },
    "tags": []
   },
   "outputs": [
    {
     "name": "stdout",
     "output_type": "stream",
     "text": [
      "Collecting awswrangler\n",
      "  Downloading awswrangler-3.4.2-py3-none-any.whl.metadata (23 kB)\n",
      "Requirement already satisfied: boto3<2.0.0,>=1.20.32 in /home/ec2-user/anaconda3/envs/python3/lib/python3.10/site-packages (from awswrangler) (1.28.85)\n",
      "Requirement already satisfied: botocore<2.0.0,>=1.23.32 in /home/ec2-user/anaconda3/envs/python3/lib/python3.10/site-packages (from awswrangler) (1.31.85)\n",
      "Requirement already satisfied: numpy<2.0,>=1.18 in /home/ec2-user/anaconda3/envs/python3/lib/python3.10/site-packages (from awswrangler) (1.22.4)\n",
      "Requirement already satisfied: packaging<24.0,>=21.1 in /home/ec2-user/anaconda3/envs/python3/lib/python3.10/site-packages (from awswrangler) (21.3)\n",
      "Requirement already satisfied: pandas<3.0.0,>=1.2.0 in /home/ec2-user/anaconda3/envs/python3/lib/python3.10/site-packages (from awswrangler) (2.1.1)\n",
      "Requirement already satisfied: pyarrow>=7.0.0 in /home/ec2-user/anaconda3/envs/python3/lib/python3.10/site-packages (from awswrangler) (13.0.0)\n",
      "Requirement already satisfied: typing-extensions<5.0.0,>=4.4.0 in /home/ec2-user/anaconda3/envs/python3/lib/python3.10/site-packages (from awswrangler) (4.8.0)\n",
      "Requirement already satisfied: jmespath<2.0.0,>=0.7.1 in /home/ec2-user/anaconda3/envs/python3/lib/python3.10/site-packages (from boto3<2.0.0,>=1.20.32->awswrangler) (1.0.1)\n",
      "Requirement already satisfied: s3transfer<0.8.0,>=0.7.0 in /home/ec2-user/anaconda3/envs/python3/lib/python3.10/site-packages (from boto3<2.0.0,>=1.20.32->awswrangler) (0.7.0)\n",
      "Requirement already satisfied: python-dateutil<3.0.0,>=2.1 in /home/ec2-user/anaconda3/envs/python3/lib/python3.10/site-packages (from botocore<2.0.0,>=1.23.32->awswrangler) (2.8.2)\n",
      "Requirement already satisfied: urllib3<2.1,>=1.25.4 in /home/ec2-user/anaconda3/envs/python3/lib/python3.10/site-packages (from botocore<2.0.0,>=1.23.32->awswrangler) (1.26.18)\n",
      "Requirement already satisfied: pyparsing!=3.0.5,>=2.0.2 in /home/ec2-user/anaconda3/envs/python3/lib/python3.10/site-packages (from packaging<24.0,>=21.1->awswrangler) (3.1.1)\n",
      "Requirement already satisfied: pytz>=2020.1 in /home/ec2-user/anaconda3/envs/python3/lib/python3.10/site-packages (from pandas<3.0.0,>=1.2.0->awswrangler) (2023.3.post1)\n",
      "Requirement already satisfied: tzdata>=2022.1 in /home/ec2-user/anaconda3/envs/python3/lib/python3.10/site-packages (from pandas<3.0.0,>=1.2.0->awswrangler) (2023.3)\n",
      "Requirement already satisfied: six>=1.5 in /home/ec2-user/anaconda3/envs/python3/lib/python3.10/site-packages (from python-dateutil<3.0.0,>=2.1->botocore<2.0.0,>=1.23.32->awswrangler) (1.16.0)\n",
      "Downloading awswrangler-3.4.2-py3-none-any.whl (396 kB)\n",
      "\u001b[2K   \u001b[90m━━━━━━━━━━━━━━━━━━━━━━━━━━━━━━━━━━━━━━━━\u001b[0m \u001b[32m396.9/396.9 kB\u001b[0m \u001b[31m10.7 MB/s\u001b[0m eta \u001b[36m0:00:00\u001b[0ma \u001b[36m0:00:01\u001b[0m\n",
      "\u001b[?25hInstalling collected packages: awswrangler\n",
      "Successfully installed awswrangler-3.4.2\n"
     ]
    }
   ],
   "source": [
    "!pip install awswrangler"
   ]
  },
  {
   "cell_type": "code",
   "execution_count": 2,
   "id": "70b5dd4c",
   "metadata": {
    "tags": []
   },
   "outputs": [
    {
     "name": "stderr",
     "output_type": "stream",
     "text": [
      "/home/ec2-user/anaconda3/envs/python3/lib/python3.10/site-packages/pandas/core/computation/expressions.py:21: UserWarning: Pandas requires version '2.8.0' or newer of 'numexpr' (version '2.7.3' currently installed).\n",
      "  from pandas.core.computation.check import NUMEXPR_INSTALLED\n"
     ]
    }
   ],
   "source": [
    "import awswrangler as wr"
   ]
  },
  {
   "cell_type": "code",
   "execution_count": 1,
   "id": "b0277ed3-cc0e-4ac7-8b76-9f665e03b8cc",
   "metadata": {
    "tags": []
   },
   "outputs": [],
   "source": [
    "import boto3 "
   ]
  },
  {
   "cell_type": "code",
   "execution_count": 2,
   "id": "30f26b93",
   "metadata": {
    "tags": []
   },
   "outputs": [
    {
     "name": "stderr",
     "output_type": "stream",
     "text": [
      "/home/ec2-user/anaconda3/envs/python3/lib/python3.10/site-packages/pandas/core/computation/expressions.py:21: UserWarning: Pandas requires version '2.8.0' or newer of 'numexpr' (version '2.7.3' currently installed).\n",
      "  from pandas.core.computation.check import NUMEXPR_INSTALLED\n"
     ]
    }
   ],
   "source": [
    "import pandas as pd\n",
    "import numpy as np\n",
    "import datetime as dt\n",
    "import os              \n",
    "#(interacting with several os system)\n",
    "\n",
    "import gc "
   ]
  },
  {
   "cell_type": "code",
   "execution_count": 3,
   "id": "95979b28-eba5-495b-a71e-8016f36248e7",
   "metadata": {
    "tags": []
   },
   "outputs": [],
   "source": [
    "import pandas as pd\n",
    "import numpy as np\n",
    "import datetime as dt\n",
    "import os"
   ]
  },
  {
   "cell_type": "code",
   "execution_count": 6,
   "id": "70e30b43-d55b-4c7f-8c36-748a67d399e8",
   "metadata": {
    "tags": []
   },
   "outputs": [],
   "source": [
    "import fsspec               \n",
    "#(provide a unified pythonic interface to local, remote and embedded file systems)\n",
    "\n",
    "import s3fs                 \n",
    "#( Pythonic file interface to S3)\n",
    "\n",
    "from string import Template \n",
    "#(template usuing $ based substitution)\n",
    "\n",
    "import io\n",
    "\n",
    "import argparse             \n",
    "#(to add custom arguments eg print(\"Hello\" + unser input arg (args.name))\n",
    "\n",
    "import warnings"
   ]
  },
  {
   "cell_type": "code",
   "execution_count": 7,
   "id": "3b48073f",
   "metadata": {
    "tags": []
   },
   "outputs": [],
   "source": [
    "import subprocess\n",
    "import asyncio, sys"
   ]
  },
  {
   "cell_type": "code",
   "execution_count": 8,
   "id": "ae21ef8b",
   "metadata": {
    "tags": []
   },
   "outputs": [],
   "source": [
    "pd.set_option('display.max_columns', None)\n",
    "\n",
    "# pd.set_option('display.max_rows', None)"
   ]
  },
  {
   "cell_type": "code",
   "execution_count": 9,
   "id": "15a2a789-0be3-4e11-96a6-97edb2aa200a",
   "metadata": {
    "tags": []
   },
   "outputs": [],
   "source": [
    "pd.set_option('display.max_rows',None)"
   ]
  },
  {
   "cell_type": "markdown",
   "id": "b7fe74a9",
   "metadata": {
    "toc-hr-collapsed": true
   },
   "source": [
    "# Read Jan_health_state"
   ]
  },
  {
   "cell_type": "code",
   "execution_count": 4,
   "id": "9e8e70d6",
   "metadata": {
    "tags": []
   },
   "outputs": [
    {
     "name": "stderr",
     "output_type": "stream",
     "text": [
      "/home/ec2-user/anaconda3/envs/python3/lib/python3.10/site-packages/fsspec/registry.py:272: UserWarning: Your installed version of s3fs is very old and known to cause\n",
      "severe performance issues, see also https://github.com/dask/dask/issues/10276\n",
      "\n",
      "To fix, you should specify a lower version bound on s3fs, or\n",
      "update the current installation.\n",
      "\n",
      "  warnings.warn(s3_msg)\n"
     ]
    }
   ],
   "source": [
    "Health_State_2023= pd.read_csv(\"s3://intl-euro-uk-datascientist-prod/Abhiya/HEALTH_STATE_2023/1_HEALTH_STATE_CCSR_2023_JAN.csv\",\n",
    "                               usecols=['claim_type_nm','icd_10_cm_code','diagnosis_1_desc','ccsr_category_1_description',\n",
    "                                        'is_chronic_cd','cm_diagnosis_flag','cm_flag',\n",
    "                                        'claim_num_key','member_id',\n",
    "                                        'book_of_business_nm','claim_location_country_cd',\n",
    "                                        'claim_location_country_nm','region',\n",
    "                                        'unique_member_id_key', 'local_currency_net_amt'\n",
    "                                        ])\n"
   ]
  },
  {
   "cell_type": "code",
   "execution_count": 5,
   "id": "a8d2a284-69bd-4383-b71e-c1d2de570e1d",
   "metadata": {
    "tags": []
   },
   "outputs": [
    {
     "data": {
      "text/plain": [
       "(608968, 15)"
      ]
     },
     "execution_count": 5,
     "metadata": {},
     "output_type": "execute_result"
    }
   ],
   "source": [
    "Health_State_2023.shape"
   ]
  },
  {
   "cell_type": "code",
   "execution_count": null,
   "id": "72dfab8d",
   "metadata": {
    "collapsed": true,
    "jupyter": {
     "outputs_hidden": true
    }
   },
   "outputs": [],
   "source": [
    "Health_State_2023.info()"
   ]
  },
  {
   "cell_type": "code",
   "execution_count": 6,
   "id": "84b5292b",
   "metadata": {
    "tags": []
   },
   "outputs": [],
   "source": [
    "Health_State_2023 = Health_State_2023.rename(columns={'claim_type_nm': 'HS_claim_type_nm',\n",
    "                                                      'icd_10_cm_code':'HS_icd_10_cm_code',\n",
    "                                                      'diagnosis_1_desc': 'HS_diagnosis_1_desc',\n",
    "                                                      'ccsr_category_1_description':'HS_ccsr_category_1_description',\n",
    "                                                      'is_chronic_cd': 'HS_is_chronic_cd',\n",
    "                                                      'cm_diagnosis_flag':'HS_cm_diagnosis_flag',\n",
    "                                                      'cm_flag':'HS_cm_flag',\n",
    "                                                      \n",
    "                                                      'claim_num_key':'HS_claim_num_key',\n",
    "                                                      'member_id':'HS_member_id',\n",
    "                                                      'book_of_business_nm':'HS_book_of_business_nm',\n",
    "                                                      'claim_location_country_cd':'HS_claim_location_country_cd',\n",
    "                                                      'claim_location_country_nm':'HS_claim_location_country_nm',\n",
    "                                                      'region':'HS_region',\n",
    "                                                      'unique_member_id_key':'HS_unique_member_id_key',\n",
    "                                                      'local_currency_net_amt':'HS_local_currency_net_amt'\n",
    "                                                     })\n",
    "\n"
   ]
  },
  {
   "cell_type": "code",
   "execution_count": 7,
   "id": "641baea6",
   "metadata": {
    "jupyter": {
     "outputs_hidden": true
    },
    "tags": []
   },
   "outputs": [
    {
     "data": {
      "text/html": [
       "<div>\n",
       "<style scoped>\n",
       "    .dataframe tbody tr th:only-of-type {\n",
       "        vertical-align: middle;\n",
       "    }\n",
       "\n",
       "    .dataframe tbody tr th {\n",
       "        vertical-align: top;\n",
       "    }\n",
       "\n",
       "    .dataframe thead th {\n",
       "        text-align: right;\n",
       "    }\n",
       "</style>\n",
       "<table border=\"1\" class=\"dataframe\">\n",
       "  <thead>\n",
       "    <tr style=\"text-align: right;\">\n",
       "      <th></th>\n",
       "      <th>HS_claim_num_key</th>\n",
       "      <th>HS_unique_member_id_key</th>\n",
       "      <th>HS_book_of_business_nm</th>\n",
       "      <th>HS_claim_location_country_cd</th>\n",
       "      <th>HS_claim_location_country_nm</th>\n",
       "      <th>HS_region</th>\n",
       "      <th>HS_claim_type_nm</th>\n",
       "      <th>HS_icd_10_cm_code</th>\n",
       "      <th>HS_diagnosis_1_desc</th>\n",
       "      <th>HS_ccsr_category_1_description</th>\n",
       "      <th>HS_is_chronic_cd</th>\n",
       "      <th>HS_cm_diagnosis_flag</th>\n",
       "      <th>HS_cm_flag</th>\n",
       "      <th>HS_local_currency_net_amt</th>\n",
       "      <th>HS_member_id</th>\n",
       "    </tr>\n",
       "  </thead>\n",
       "  <tbody>\n",
       "    <tr>\n",
       "      <th>303</th>\n",
       "      <td>113172597</td>\n",
       "      <td>3437243</td>\n",
       "      <td>Americas</td>\n",
       "      <td>IND</td>\n",
       "      <td>India</td>\n",
       "      <td>Asia</td>\n",
       "      <td>OP</td>\n",
       "      <td>A499</td>\n",
       "      <td>BACTERIAL INFECTION,UNSP</td>\n",
       "      <td>Bacterial infections</td>\n",
       "      <td>A</td>\n",
       "      <td>NaN</td>\n",
       "      <td>False</td>\n",
       "      <td>133.38</td>\n",
       "      <td>2.010951e+10</td>\n",
       "    </tr>\n",
       "    <tr>\n",
       "      <th>392</th>\n",
       "      <td>113797036</td>\n",
       "      <td>12205881</td>\n",
       "      <td>Americas</td>\n",
       "      <td>ARE</td>\n",
       "      <td>United Arab Emirates (the)</td>\n",
       "      <td>Asia</td>\n",
       "      <td>OP</td>\n",
       "      <td>A084</td>\n",
       "      <td>VIRAL INTESTINAL INFECTI</td>\n",
       "      <td>Intestinal infection</td>\n",
       "      <td>A</td>\n",
       "      <td>NaN</td>\n",
       "      <td>False</td>\n",
       "      <td>22.02</td>\n",
       "      <td>2.107227e+10</td>\n",
       "    </tr>\n",
       "    <tr>\n",
       "      <th>419</th>\n",
       "      <td>113797036</td>\n",
       "      <td>12205881</td>\n",
       "      <td>Americas</td>\n",
       "      <td>ARE</td>\n",
       "      <td>United Arab Emirates (the)</td>\n",
       "      <td>Asia</td>\n",
       "      <td>OP</td>\n",
       "      <td>A084</td>\n",
       "      <td>VIRAL INTESTINAL INFECTI</td>\n",
       "      <td>Intestinal infection</td>\n",
       "      <td>A</td>\n",
       "      <td>NaN</td>\n",
       "      <td>False</td>\n",
       "      <td>377.06</td>\n",
       "      <td>2.107227e+10</td>\n",
       "    </tr>\n",
       "    <tr>\n",
       "      <th>1127</th>\n",
       "      <td>113080393</td>\n",
       "      <td>11642226</td>\n",
       "      <td>Americas</td>\n",
       "      <td>SLE</td>\n",
       "      <td>Sierra Leone</td>\n",
       "      <td>Africa</td>\n",
       "      <td>OP</td>\n",
       "      <td>A0100</td>\n",
       "      <td>TYPHOID FEVER,UNSPECIFIE</td>\n",
       "      <td>Intestinal infection</td>\n",
       "      <td>A</td>\n",
       "      <td>NaN</td>\n",
       "      <td>False</td>\n",
       "      <td>1679.28</td>\n",
       "      <td>2.101989e+10</td>\n",
       "    </tr>\n",
       "    <tr>\n",
       "      <th>1128</th>\n",
       "      <td>113080393</td>\n",
       "      <td>11642226</td>\n",
       "      <td>Americas</td>\n",
       "      <td>SLE</td>\n",
       "      <td>Sierra Leone</td>\n",
       "      <td>Africa</td>\n",
       "      <td>OP</td>\n",
       "      <td>A0100</td>\n",
       "      <td>TYPHOID FEVER,UNSPECIFIE</td>\n",
       "      <td>Intestinal infection</td>\n",
       "      <td>A</td>\n",
       "      <td>NaN</td>\n",
       "      <td>False</td>\n",
       "      <td>-1679.28</td>\n",
       "      <td>2.101989e+10</td>\n",
       "    </tr>\n",
       "  </tbody>\n",
       "</table>\n",
       "</div>"
      ],
      "text/plain": [
       "      HS_claim_num_key  HS_unique_member_id_key HS_book_of_business_nm  \\\n",
       "303          113172597                  3437243               Americas   \n",
       "392          113797036                 12205881               Americas   \n",
       "419          113797036                 12205881               Americas   \n",
       "1127         113080393                 11642226               Americas   \n",
       "1128         113080393                 11642226               Americas   \n",
       "\n",
       "     HS_claim_location_country_cd HS_claim_location_country_nm HS_region  \\\n",
       "303                           IND                        India      Asia   \n",
       "392                           ARE   United Arab Emirates (the)      Asia   \n",
       "419                           ARE   United Arab Emirates (the)      Asia   \n",
       "1127                          SLE                 Sierra Leone    Africa   \n",
       "1128                          SLE                 Sierra Leone    Africa   \n",
       "\n",
       "     HS_claim_type_nm HS_icd_10_cm_code       HS_diagnosis_1_desc  \\\n",
       "303                OP              A499  BACTERIAL INFECTION,UNSP   \n",
       "392                OP              A084  VIRAL INTESTINAL INFECTI   \n",
       "419                OP              A084  VIRAL INTESTINAL INFECTI   \n",
       "1127               OP             A0100  TYPHOID FEVER,UNSPECIFIE   \n",
       "1128               OP             A0100  TYPHOID FEVER,UNSPECIFIE   \n",
       "\n",
       "     HS_ccsr_category_1_description HS_is_chronic_cd HS_cm_diagnosis_flag  \\\n",
       "303            Bacterial infections                A                  NaN   \n",
       "392            Intestinal infection                A                  NaN   \n",
       "419            Intestinal infection                A                  NaN   \n",
       "1127           Intestinal infection                A                  NaN   \n",
       "1128           Intestinal infection                A                  NaN   \n",
       "\n",
       "      HS_cm_flag  HS_local_currency_net_amt  HS_member_id  \n",
       "303        False                     133.38  2.010951e+10  \n",
       "392        False                      22.02  2.107227e+10  \n",
       "419        False                     377.06  2.107227e+10  \n",
       "1127       False                    1679.28  2.101989e+10  \n",
       "1128       False                   -1679.28  2.101989e+10  "
      ]
     },
     "execution_count": 7,
     "metadata": {},
     "output_type": "execute_result"
    }
   ],
   "source": [
    "Health_State_2023[Health_State_2023['HS_icd_10_cm_code'].str[0:1]=='A'].head(5)"
   ]
  },
  {
   "cell_type": "markdown",
   "id": "bfe5b75a",
   "metadata": {},
   "source": [
    "# READ CCSR_CCS FILE"
   ]
  },
  {
   "cell_type": "code",
   "execution_count": 8,
   "id": "a16ce5ec",
   "metadata": {
    "tags": []
   },
   "outputs": [
    {
     "name": "stderr",
     "output_type": "stream",
     "text": [
      "/tmp/ipykernel_16159/3052546784.py:1: DtypeWarning: Columns (20) have mixed types. Specify dtype option on import or set low_memory=False.\n",
      "  CCSR_CCS=pd.read_csv(\"s3://intl-euro-uk-datascientist-prod/Abhiya/CCSR_CCS_23_19_comparison_FULL.csv\",\n"
     ]
    }
   ],
   "source": [
    "CCSR_CCS=pd.read_csv(\"s3://intl-euro-uk-datascientist-prod/Abhiya/CCSR_CCS_23_19_comparison_FULL.csv\",\n",
    "                usecols=['ICD_code_2023','ICD_10_CM_CODE_DESCRIPTION_2023',\n",
    "                'Default_CCSR_CATEGORY_IP_2023','Default_CCSR_CATEGORY_DESCRIPTION_IP_2023',\n",
    "                'Default_CCSR_CATEGORY_OP_2023','Default_CCSR_CATEGORY_DESCRIPTION_OP_2023',\n",
    "                'CCSR_CATEGORY_1_2023','CCSR_CATEGORY_1_DESCRIPTION_2023',\n",
    "                'CODE_range_first_three_characters',\n",
    "                 'CCSR_Body_System_Abbreviation_2023','ICD_10_code_book_chapter_2023',\n",
    "                'icd_code_2019','ICD_10_CM_CODE_DESCRIPTION_2019',\n",
    "                'CCS_CATEGORY_2019','CCS_CATEGORY_DESCRIPTION_2019',\n",
    "                'CCS_LVL_1_code_2019','CCS_LVL_1_Description_2019',\n",
    "                'CCS_LVL_2_code_2019','CCS_LVL_2_Description_2019']\n",
    "                            \n",
    "                )\n",
    "\n",
    " \n",
    "\n",
    "#CCS_chapter_number_2019',\n",
    "#CCS_Body_System_Abbreviation_2019',\n",
    "#IVD_9_code_diagnosis chapters'"
   ]
  },
  {
   "cell_type": "code",
   "execution_count": 16,
   "id": "efb7d17a",
   "metadata": {
    "tags": []
   },
   "outputs": [
    {
     "data": {
      "text/html": [
       "<div>\n",
       "<style scoped>\n",
       "    .dataframe tbody tr th:only-of-type {\n",
       "        vertical-align: middle;\n",
       "    }\n",
       "\n",
       "    .dataframe tbody tr th {\n",
       "        vertical-align: top;\n",
       "    }\n",
       "\n",
       "    .dataframe thead th {\n",
       "        text-align: right;\n",
       "    }\n",
       "</style>\n",
       "<table border=\"1\" class=\"dataframe\">\n",
       "  <thead>\n",
       "    <tr style=\"text-align: right;\">\n",
       "      <th></th>\n",
       "      <th>ICD_code_2023</th>\n",
       "      <th>ICD_10_CM_CODE_DESCRIPTION_2023</th>\n",
       "      <th>Default_CCSR_CATEGORY_IP_2023</th>\n",
       "      <th>Default_CCSR_CATEGORY_DESCRIPTION_IP_2023</th>\n",
       "      <th>Default_CCSR_CATEGORY_OP_2023</th>\n",
       "      <th>Default_CCSR_CATEGORY_DESCRIPTION_OP_2023</th>\n",
       "      <th>CCS_CATEGORY_2019</th>\n",
       "      <th>CCS_CATEGORY_DESCRIPTION_2019</th>\n",
       "      <th>icd_code_2019</th>\n",
       "      <th>ICD_10_CM_CODE_DESCRIPTION_2019</th>\n",
       "      <th>CCS_LVL_1_code_2019</th>\n",
       "      <th>CCSR_CATEGORY_1_2023</th>\n",
       "      <th>CCSR_CATEGORY_1_DESCRIPTION_2023</th>\n",
       "      <th>CCS_LVL_1_Description_2019</th>\n",
       "      <th>CCS_LVL_2_code_2019</th>\n",
       "      <th>CCS_LVL_2_Description_2019</th>\n",
       "      <th>CCSR_Body_System_Abbreviation_2023</th>\n",
       "      <th>CODE_range_first_three_characters</th>\n",
       "      <th>ICD_10_code_book_chapter_2023</th>\n",
       "    </tr>\n",
       "  </thead>\n",
       "  <tbody>\n",
       "    <tr>\n",
       "      <th>0</th>\n",
       "      <td>A000</td>\n",
       "      <td>Cholera due to Vibrio cholerae 01, biovar chol...</td>\n",
       "      <td>DIG001</td>\n",
       "      <td>Intestinal infection</td>\n",
       "      <td>DIG001</td>\n",
       "      <td>Intestinal infection</td>\n",
       "      <td>135.0</td>\n",
       "      <td>Intestinal infection</td>\n",
       "      <td>A000</td>\n",
       "      <td>Cholera due to Vibrio cholerae 01, biovar chol...</td>\n",
       "      <td>9.0</td>\n",
       "      <td>DIG001</td>\n",
       "      <td>Intestinal infection</td>\n",
       "      <td>Diseases of the digestive system</td>\n",
       "      <td>9.1</td>\n",
       "      <td>Intestinal infection</td>\n",
       "      <td>INF</td>\n",
       "      <td>A00</td>\n",
       "      <td>Certain infectious and parasitic diseases</td>\n",
       "    </tr>\n",
       "    <tr>\n",
       "      <th>1</th>\n",
       "      <td>A001</td>\n",
       "      <td>Cholera due to Vibrio cholerae 01, biovar eltor</td>\n",
       "      <td>DIG001</td>\n",
       "      <td>Intestinal infection</td>\n",
       "      <td>DIG001</td>\n",
       "      <td>Intestinal infection</td>\n",
       "      <td>135.0</td>\n",
       "      <td>Intestinal infection</td>\n",
       "      <td>A001</td>\n",
       "      <td>Cholera due to Vibrio cholerae 01, biovar eltor</td>\n",
       "      <td>9.0</td>\n",
       "      <td>DIG001</td>\n",
       "      <td>Intestinal infection</td>\n",
       "      <td>Diseases of the digestive system</td>\n",
       "      <td>9.1</td>\n",
       "      <td>Intestinal infection</td>\n",
       "      <td>INF</td>\n",
       "      <td>A00</td>\n",
       "      <td>Certain infectious and parasitic diseases</td>\n",
       "    </tr>\n",
       "  </tbody>\n",
       "</table>\n",
       "</div>"
      ],
      "text/plain": [
       "  ICD_code_2023                    ICD_10_CM_CODE_DESCRIPTION_2023  \\\n",
       "0          A000  Cholera due to Vibrio cholerae 01, biovar chol...   \n",
       "1          A001    Cholera due to Vibrio cholerae 01, biovar eltor   \n",
       "\n",
       "  Default_CCSR_CATEGORY_IP_2023 Default_CCSR_CATEGORY_DESCRIPTION_IP_2023  \\\n",
       "0                        DIG001                      Intestinal infection   \n",
       "1                        DIG001                      Intestinal infection   \n",
       "\n",
       "  Default_CCSR_CATEGORY_OP_2023 Default_CCSR_CATEGORY_DESCRIPTION_OP_2023  \\\n",
       "0                        DIG001                      Intestinal infection   \n",
       "1                        DIG001                      Intestinal infection   \n",
       "\n",
       "   CCS_CATEGORY_2019 CCS_CATEGORY_DESCRIPTION_2019 icd_code_2019  \\\n",
       "0              135.0          Intestinal infection          A000   \n",
       "1              135.0          Intestinal infection          A001   \n",
       "\n",
       "                     ICD_10_CM_CODE_DESCRIPTION_2019  CCS_LVL_1_code_2019  \\\n",
       "0  Cholera due to Vibrio cholerae 01, biovar chol...                  9.0   \n",
       "1    Cholera due to Vibrio cholerae 01, biovar eltor                  9.0   \n",
       "\n",
       "  CCSR_CATEGORY_1_2023 CCSR_CATEGORY_1_DESCRIPTION_2023  \\\n",
       "0               DIG001             Intestinal infection   \n",
       "1               DIG001             Intestinal infection   \n",
       "\n",
       "         CCS_LVL_1_Description_2019 CCS_LVL_2_code_2019  \\\n",
       "0  Diseases of the digestive system                 9.1   \n",
       "1  Diseases of the digestive system                 9.1   \n",
       "\n",
       "  CCS_LVL_2_Description_2019 CCSR_Body_System_Abbreviation_2023  \\\n",
       "0       Intestinal infection                                INF   \n",
       "1       Intestinal infection                                INF   \n",
       "\n",
       "  CODE_range_first_three_characters  \\\n",
       "0                               A00   \n",
       "1                               A00   \n",
       "\n",
       "                ICD_10_code_book_chapter_2023  \n",
       "0  Certain infectious and parasitic diseases   \n",
       "1  Certain infectious and parasitic diseases   "
      ]
     },
     "execution_count": 16,
     "metadata": {},
     "output_type": "execute_result"
    }
   ],
   "source": [
    "CCSR_CCS.head(2)"
   ]
  },
  {
   "cell_type": "code",
   "execution_count": 9,
   "id": "7cea38f1",
   "metadata": {
    "tags": []
   },
   "outputs": [],
   "source": [
    "CCSR_CCS=CCSR_CCS.rename(columns={'CODE_range_first_three_characters':'ICD_2023_code_abr'})"
   ]
  },
  {
   "cell_type": "code",
   "execution_count": 18,
   "id": "88048325",
   "metadata": {
    "collapsed": true,
    "jupyter": {
     "outputs_hidden": true
    },
    "tags": []
   },
   "outputs": [
    {
     "name": "stdout",
     "output_type": "stream",
     "text": [
      "<class 'pandas.core.frame.DataFrame'>\n",
      "RangeIndex: 74549 entries, 0 to 74548\n",
      "Data columns (total 19 columns):\n",
      " #   Column                                     Non-Null Count  Dtype  \n",
      "---  ------                                     --------------  -----  \n",
      " 0   ICD_code_2023                              74549 non-null  object \n",
      " 1   ICD_10_CM_CODE_DESCRIPTION_2023            74549 non-null  object \n",
      " 2   Default_CCSR_CATEGORY_IP_2023              74549 non-null  object \n",
      " 3   Default_CCSR_CATEGORY_DESCRIPTION_IP_2023  74549 non-null  object \n",
      " 4   Default_CCSR_CATEGORY_OP_2023              74549 non-null  object \n",
      " 5   Default_CCSR_CATEGORY_DESCRIPTION_OP_2023  74549 non-null  object \n",
      " 6   CCS_CATEGORY_2019                          72444 non-null  float64\n",
      " 7   CCS_CATEGORY_DESCRIPTION_2019              72444 non-null  object \n",
      " 8   icd_code_2019                              72444 non-null  object \n",
      " 9   ICD_10_CM_CODE_DESCRIPTION_2019            72444 non-null  object \n",
      " 10  CCS_LVL_1_code_2019                        72444 non-null  float64\n",
      " 11  CCSR_CATEGORY_1_2023                       74549 non-null  object \n",
      " 12  CCSR_CATEGORY_1_DESCRIPTION_2023           74549 non-null  object \n",
      " 13  CCS_LVL_1_Description_2019                 72444 non-null  object \n",
      " 14  CCS_LVL_2_code_2019                        72444 non-null  object \n",
      " 15  CCS_LVL_2_Description_2019                 72444 non-null  object \n",
      " 16  CCSR_Body_System_Abbreviation_2023         74549 non-null  object \n",
      " 17  ICD_2023_code_abr                          74549 non-null  object \n",
      " 18  ICD_10_code_book_chapter_2023              74549 non-null  object \n",
      "dtypes: float64(2), object(17)\n",
      "memory usage: 10.8+ MB\n"
     ]
    }
   ],
   "source": [
    "CCSR_CCS.info()\n"
   ]
  },
  {
   "cell_type": "markdown",
   "id": "82c6a47b",
   "metadata": {
    "tags": []
   },
   "source": [
    "# MAP CCSR WITH HEALTH_STATE_JAN"
   ]
  },
  {
   "cell_type": "code",
   "execution_count": 10,
   "id": "04074a91",
   "metadata": {
    "tags": []
   },
   "outputs": [],
   "source": [
    "Health_State_2023_map_CCSR_CCS=pd.merge(left=Health_State_2023,right=CCSR_CCS, how='left',\\\n",
    "                        left_on='HS_icd_10_cm_code',right_on='ICD_code_2023', indicator='ICD_CODE_BUCKET_HS_CCSR_2023') \n"
   ]
  },
  {
   "cell_type": "code",
   "execution_count": 11,
   "id": "0ff2455f",
   "metadata": {},
   "outputs": [
    {
     "data": {
      "text/plain": [
       "(608968, 35)"
      ]
     },
     "execution_count": 11,
     "metadata": {},
     "output_type": "execute_result"
    }
   ],
   "source": [
    "Health_State_2023_map_CCSR_CCS.shape"
   ]
  },
  {
   "cell_type": "markdown",
   "id": "97e94d06-df3e-4c8d-8bf3-75df001c6218",
   "metadata": {},
   "source": [
    "# BUCKET- ICD HS and icd 2023 code "
   ]
  },
  {
   "cell_type": "code",
   "execution_count": 12,
   "id": "d2898099",
   "metadata": {
    "tags": []
   },
   "outputs": [
    {
     "data": {
      "text/plain": [
       "ICD_CODE_BUCKET_HS_CCSR_2023\n",
       "both          565126\n",
       "left_only      43842\n",
       "right_only         0\n",
       "Name: count, dtype: int64"
      ]
     },
     "execution_count": 12,
     "metadata": {},
     "output_type": "execute_result"
    }
   ],
   "source": [
    "Health_State_2023_map_CCSR_CCS['ICD_CODE_BUCKET_HS_CCSR_2023'].value_counts()"
   ]
  },
  {
   "cell_type": "code",
   "execution_count": 22,
   "id": "0cd21578-a9b9-48b2-8265-543e5d1830a7",
   "metadata": {
    "tags": []
   },
   "outputs": [
    {
     "data": {
      "text/plain": [
       "ICD_CODE_BUCKET_HS_CCSR_2023\n",
       "both          92.8%\n",
       "left_only      7.2%\n",
       "right_only     0.0%\n",
       "Name: proportion, dtype: object"
      ]
     },
     "execution_count": 22,
     "metadata": {},
     "output_type": "execute_result"
    }
   ],
   "source": [
    "Health_State_2023_map_CCSR_CCS['ICD_CODE_BUCKET_HS_CCSR_2023'].value_counts(normalize=True)\\\n",
    ".mul(100).round(2).astype(str)+ '%'"
   ]
  },
  {
   "cell_type": "code",
   "execution_count": 13,
   "id": "e6dd48c8",
   "metadata": {
    "tags": []
   },
   "outputs": [
    {
     "data": {
      "text/html": [
       "<div>\n",
       "<style scoped>\n",
       "    .dataframe tbody tr th:only-of-type {\n",
       "        vertical-align: middle;\n",
       "    }\n",
       "\n",
       "    .dataframe tbody tr th {\n",
       "        vertical-align: top;\n",
       "    }\n",
       "\n",
       "    .dataframe thead th {\n",
       "        text-align: right;\n",
       "    }\n",
       "</style>\n",
       "<table border=\"1\" class=\"dataframe\">\n",
       "  <thead>\n",
       "    <tr style=\"text-align: right;\">\n",
       "      <th></th>\n",
       "      <th>HS_claim_num_key</th>\n",
       "      <th>HS_unique_member_id_key</th>\n",
       "      <th>HS_book_of_business_nm</th>\n",
       "      <th>HS_claim_location_country_cd</th>\n",
       "      <th>HS_claim_location_country_nm</th>\n",
       "      <th>HS_region</th>\n",
       "      <th>HS_claim_type_nm</th>\n",
       "      <th>HS_icd_10_cm_code</th>\n",
       "      <th>HS_diagnosis_1_desc</th>\n",
       "      <th>HS_ccsr_category_1_description</th>\n",
       "      <th>...</th>\n",
       "      <th>CCS_LVL_1_code_2019</th>\n",
       "      <th>CCSR_CATEGORY_1_2023</th>\n",
       "      <th>CCSR_CATEGORY_1_DESCRIPTION_2023</th>\n",
       "      <th>CCS_LVL_1_Description_2019</th>\n",
       "      <th>CCS_LVL_2_code_2019</th>\n",
       "      <th>CCS_LVL_2_Description_2019</th>\n",
       "      <th>CCSR_Body_System_Abbreviation_2023</th>\n",
       "      <th>ICD_2023_code_abr</th>\n",
       "      <th>ICD_10_code_book_chapter_2023</th>\n",
       "      <th>ICD_CODE_BUCKET_HS_CCSR_2023</th>\n",
       "    </tr>\n",
       "  </thead>\n",
       "  <tbody>\n",
       "    <tr>\n",
       "      <th>608964</th>\n",
       "      <td>113113590</td>\n",
       "      <td>11756271</td>\n",
       "      <td>Americas</td>\n",
       "      <td>USA</td>\n",
       "      <td>United States of America (the)</td>\n",
       "      <td>Americas</td>\n",
       "      <td>OP</td>\n",
       "      <td>M7989</td>\n",
       "      <td>OTHER SPECIFIED SOFT TIS</td>\n",
       "      <td>Other specified connective tissue disease</td>\n",
       "      <td>...</td>\n",
       "      <td>13.0</td>\n",
       "      <td>MUS025</td>\n",
       "      <td>Other specified connective tissue disease</td>\n",
       "      <td>Diseases of the musculoskeletal system and con...</td>\n",
       "      <td>13.8</td>\n",
       "      <td>Other connective tissue disease</td>\n",
       "      <td>MUS</td>\n",
       "      <td>M79</td>\n",
       "      <td>Diseases of the musculoskeletal system and con...</td>\n",
       "      <td>both</td>\n",
       "    </tr>\n",
       "    <tr>\n",
       "      <th>608965</th>\n",
       "      <td>113069614</td>\n",
       "      <td>11242868</td>\n",
       "      <td>Americas</td>\n",
       "      <td>HKG</td>\n",
       "      <td>Hong Kong</td>\n",
       "      <td>Asia</td>\n",
       "      <td>IP</td>\n",
       "      <td>C801</td>\n",
       "      <td>MALIGNANT (PRIMARY) NEOP</td>\n",
       "      <td>Malignant neoplasm, unspecified</td>\n",
       "      <td>...</td>\n",
       "      <td>2.0</td>\n",
       "      <td>NEO071</td>\n",
       "      <td>Malignant neoplasm, unspecified</td>\n",
       "      <td>Neoplasms</td>\n",
       "      <td>2.13</td>\n",
       "      <td>Malignant neoplasm without specification of site</td>\n",
       "      <td>NEO</td>\n",
       "      <td>C80</td>\n",
       "      <td>Neoplasms</td>\n",
       "      <td>both</td>\n",
       "    </tr>\n",
       "    <tr>\n",
       "      <th>608967</th>\n",
       "      <td>113077992</td>\n",
       "      <td>395797</td>\n",
       "      <td>Americas</td>\n",
       "      <td>HKG</td>\n",
       "      <td>Hong Kong</td>\n",
       "      <td>Asia</td>\n",
       "      <td>IP</td>\n",
       "      <td>K319</td>\n",
       "      <td>DISEASE OF STOMACH AND D</td>\n",
       "      <td>Other specified and unspecified disorders of s...</td>\n",
       "      <td>...</td>\n",
       "      <td>9.0</td>\n",
       "      <td>DIG008</td>\n",
       "      <td>Other specified and unspecified disorders of s...</td>\n",
       "      <td>Diseases of the digestive system</td>\n",
       "      <td>9.4</td>\n",
       "      <td>Upper gastrointestinal disorders</td>\n",
       "      <td>DIG</td>\n",
       "      <td>K31</td>\n",
       "      <td>Diseases of the digestive system</td>\n",
       "      <td>both</td>\n",
       "    </tr>\n",
       "  </tbody>\n",
       "</table>\n",
       "<p>3 rows × 35 columns</p>\n",
       "</div>"
      ],
      "text/plain": [
       "        HS_claim_num_key  HS_unique_member_id_key HS_book_of_business_nm  \\\n",
       "608964         113113590                 11756271               Americas   \n",
       "608965         113069614                 11242868               Americas   \n",
       "608967         113077992                   395797               Americas   \n",
       "\n",
       "       HS_claim_location_country_cd    HS_claim_location_country_nm HS_region  \\\n",
       "608964                          USA  United States of America (the)  Americas   \n",
       "608965                          HKG                       Hong Kong      Asia   \n",
       "608967                          HKG                       Hong Kong      Asia   \n",
       "\n",
       "       HS_claim_type_nm HS_icd_10_cm_code       HS_diagnosis_1_desc  \\\n",
       "608964               OP             M7989  OTHER SPECIFIED SOFT TIS   \n",
       "608965               IP              C801  MALIGNANT (PRIMARY) NEOP   \n",
       "608967               IP              K319  DISEASE OF STOMACH AND D   \n",
       "\n",
       "                           HS_ccsr_category_1_description  ...  \\\n",
       "608964          Other specified connective tissue disease  ...   \n",
       "608965                    Malignant neoplasm, unspecified  ...   \n",
       "608967  Other specified and unspecified disorders of s...  ...   \n",
       "\n",
       "       CCS_LVL_1_code_2019 CCSR_CATEGORY_1_2023  \\\n",
       "608964                13.0               MUS025   \n",
       "608965                 2.0               NEO071   \n",
       "608967                 9.0               DIG008   \n",
       "\n",
       "                         CCSR_CATEGORY_1_DESCRIPTION_2023  \\\n",
       "608964          Other specified connective tissue disease   \n",
       "608965                    Malignant neoplasm, unspecified   \n",
       "608967  Other specified and unspecified disorders of s...   \n",
       "\n",
       "                               CCS_LVL_1_Description_2019  \\\n",
       "608964  Diseases of the musculoskeletal system and con...   \n",
       "608965                                          Neoplasms   \n",
       "608967                   Diseases of the digestive system   \n",
       "\n",
       "        CCS_LVL_2_code_2019                        CCS_LVL_2_Description_2019  \\\n",
       "608964                 13.8                   Other connective tissue disease   \n",
       "608965                 2.13  Malignant neoplasm without specification of site   \n",
       "608967                  9.4                  Upper gastrointestinal disorders   \n",
       "\n",
       "       CCSR_Body_System_Abbreviation_2023 ICD_2023_code_abr  \\\n",
       "608964                                MUS               M79   \n",
       "608965                                NEO               C80   \n",
       "608967                                DIG               K31   \n",
       "\n",
       "                            ICD_10_code_book_chapter_2023  \\\n",
       "608964  Diseases of the musculoskeletal system and con...   \n",
       "608965                                         Neoplasms    \n",
       "608967                  Diseases of the digestive system    \n",
       "\n",
       "       ICD_CODE_BUCKET_HS_CCSR_2023  \n",
       "608964                         both  \n",
       "608965                         both  \n",
       "608967                         both  \n",
       "\n",
       "[3 rows x 35 columns]"
      ]
     },
     "execution_count": 13,
     "metadata": {},
     "output_type": "execute_result"
    }
   ],
   "source": [
    "Health_State_2023_map_CCSR_CCS[Health_State_2023_map_CCSR_CCS['ICD_CODE_BUCKET_HS_CCSR_2023']=='both'].tail(3)"
   ]
  },
  {
   "cell_type": "code",
   "execution_count": 24,
   "id": "eb9646c2",
   "metadata": {
    "tags": []
   },
   "outputs": [
    {
     "data": {
      "text/html": [
       "<div>\n",
       "<style scoped>\n",
       "    .dataframe tbody tr th:only-of-type {\n",
       "        vertical-align: middle;\n",
       "    }\n",
       "\n",
       "    .dataframe tbody tr th {\n",
       "        vertical-align: top;\n",
       "    }\n",
       "\n",
       "    .dataframe thead th {\n",
       "        text-align: right;\n",
       "    }\n",
       "</style>\n",
       "<table border=\"1\" class=\"dataframe\">\n",
       "  <thead>\n",
       "    <tr style=\"text-align: right;\">\n",
       "      <th></th>\n",
       "      <th>HS_claim_num_key</th>\n",
       "      <th>HS_unique_member_id_key</th>\n",
       "      <th>HS_book_of_business_nm</th>\n",
       "      <th>HS_claim_location_country_cd</th>\n",
       "      <th>HS_claim_location_country_nm</th>\n",
       "      <th>HS_region</th>\n",
       "      <th>HS_claim_type_nm</th>\n",
       "      <th>HS_icd_10_cm_code</th>\n",
       "      <th>HS_diagnosis_1_desc</th>\n",
       "      <th>HS_ccsr_category_1_description</th>\n",
       "      <th>HS_is_chronic_cd</th>\n",
       "      <th>HS_cm_diagnosis_flag</th>\n",
       "      <th>HS_cm_flag</th>\n",
       "      <th>HS_local_currency_net_amt</th>\n",
       "      <th>HS_member_id</th>\n",
       "      <th>ICD_code_2023</th>\n",
       "      <th>ICD_10_CM_CODE_DESCRIPTION_2023</th>\n",
       "      <th>Default_CCSR_CATEGORY_IP_2023</th>\n",
       "      <th>Default_CCSR_CATEGORY_DESCRIPTION_IP_2023</th>\n",
       "      <th>Default_CCSR_CATEGORY_OP_2023</th>\n",
       "      <th>Default_CCSR_CATEGORY_DESCRIPTION_OP_2023</th>\n",
       "      <th>CCS_CATEGORY_2019</th>\n",
       "      <th>CCS_CATEGORY_DESCRIPTION_2019</th>\n",
       "      <th>icd_code_2019</th>\n",
       "      <th>ICD_10_CM_CODE_DESCRIPTION_2019</th>\n",
       "      <th>CCS_LVL_1_code_2019</th>\n",
       "      <th>CCSR_CATEGORY_1_2023</th>\n",
       "      <th>CCSR_CATEGORY_1_DESCRIPTION_2023</th>\n",
       "      <th>CCS_LVL_1_Description_2019</th>\n",
       "      <th>CCS_LVL_2_code_2019</th>\n",
       "      <th>CCS_LVL_2_Description_2019</th>\n",
       "      <th>CCSR_Body_System_Abbreviation_2023</th>\n",
       "      <th>ICD_2023_code_abr</th>\n",
       "      <th>ICD_10_code_book_chapter_2023</th>\n",
       "      <th>ICD_CODE_BUCKET_HS_CCSR_2023</th>\n",
       "    </tr>\n",
       "  </thead>\n",
       "  <tbody>\n",
       "    <tr>\n",
       "      <th>90</th>\n",
       "      <td>115139463</td>\n",
       "      <td>10192044</td>\n",
       "      <td>Americas</td>\n",
       "      <td>CHN</td>\n",
       "      <td>China</td>\n",
       "      <td>Asia</td>\n",
       "      <td>OP</td>\n",
       "      <td>J453</td>\n",
       "      <td>MILD PERSISTENT ASTHMA</td>\n",
       "      <td>NaN</td>\n",
       "      <td>NaN</td>\n",
       "      <td>NaN</td>\n",
       "      <td>False</td>\n",
       "      <td>0.00</td>\n",
       "      <td>2.090843e+10</td>\n",
       "      <td>NaN</td>\n",
       "      <td>NaN</td>\n",
       "      <td>NaN</td>\n",
       "      <td>NaN</td>\n",
       "      <td>NaN</td>\n",
       "      <td>NaN</td>\n",
       "      <td>NaN</td>\n",
       "      <td>NaN</td>\n",
       "      <td>NaN</td>\n",
       "      <td>NaN</td>\n",
       "      <td>NaN</td>\n",
       "      <td>NaN</td>\n",
       "      <td>NaN</td>\n",
       "      <td>NaN</td>\n",
       "      <td>NaN</td>\n",
       "      <td>NaN</td>\n",
       "      <td>NaN</td>\n",
       "      <td>NaN</td>\n",
       "      <td>NaN</td>\n",
       "      <td>left_only</td>\n",
       "    </tr>\n",
       "    <tr>\n",
       "      <th>200</th>\n",
       "      <td>116067446</td>\n",
       "      <td>11988361</td>\n",
       "      <td>Americas</td>\n",
       "      <td>GRC</td>\n",
       "      <td>Greece</td>\n",
       "      <td>Europe</td>\n",
       "      <td>IP</td>\n",
       "      <td>K409</td>\n",
       "      <td>UNILATERAL INGUINAL HERN</td>\n",
       "      <td>NaN</td>\n",
       "      <td>NaN</td>\n",
       "      <td>NaN</td>\n",
       "      <td>False</td>\n",
       "      <td>10408.38</td>\n",
       "      <td>2.105294e+10</td>\n",
       "      <td>NaN</td>\n",
       "      <td>NaN</td>\n",
       "      <td>NaN</td>\n",
       "      <td>NaN</td>\n",
       "      <td>NaN</td>\n",
       "      <td>NaN</td>\n",
       "      <td>NaN</td>\n",
       "      <td>NaN</td>\n",
       "      <td>NaN</td>\n",
       "      <td>NaN</td>\n",
       "      <td>NaN</td>\n",
       "      <td>NaN</td>\n",
       "      <td>NaN</td>\n",
       "      <td>NaN</td>\n",
       "      <td>NaN</td>\n",
       "      <td>NaN</td>\n",
       "      <td>NaN</td>\n",
       "      <td>NaN</td>\n",
       "      <td>NaN</td>\n",
       "      <td>left_only</td>\n",
       "    </tr>\n",
       "  </tbody>\n",
       "</table>\n",
       "</div>"
      ],
      "text/plain": [
       "     HS_claim_num_key  HS_unique_member_id_key HS_book_of_business_nm  \\\n",
       "90          115139463                 10192044               Americas   \n",
       "200         116067446                 11988361               Americas   \n",
       "\n",
       "    HS_claim_location_country_cd HS_claim_location_country_nm HS_region  \\\n",
       "90                           CHN                        China      Asia   \n",
       "200                          GRC                       Greece    Europe   \n",
       "\n",
       "    HS_claim_type_nm HS_icd_10_cm_code       HS_diagnosis_1_desc  \\\n",
       "90                OP              J453    MILD PERSISTENT ASTHMA   \n",
       "200               IP              K409  UNILATERAL INGUINAL HERN   \n",
       "\n",
       "    HS_ccsr_category_1_description HS_is_chronic_cd HS_cm_diagnosis_flag  \\\n",
       "90                             NaN              NaN                  NaN   \n",
       "200                            NaN              NaN                  NaN   \n",
       "\n",
       "     HS_cm_flag  HS_local_currency_net_amt  HS_member_id ICD_code_2023  \\\n",
       "90        False                       0.00  2.090843e+10           NaN   \n",
       "200       False                   10408.38  2.105294e+10           NaN   \n",
       "\n",
       "    ICD_10_CM_CODE_DESCRIPTION_2023 Default_CCSR_CATEGORY_IP_2023  \\\n",
       "90                              NaN                           NaN   \n",
       "200                             NaN                           NaN   \n",
       "\n",
       "    Default_CCSR_CATEGORY_DESCRIPTION_IP_2023 Default_CCSR_CATEGORY_OP_2023  \\\n",
       "90                                        NaN                           NaN   \n",
       "200                                       NaN                           NaN   \n",
       "\n",
       "    Default_CCSR_CATEGORY_DESCRIPTION_OP_2023  CCS_CATEGORY_2019  \\\n",
       "90                                        NaN                NaN   \n",
       "200                                       NaN                NaN   \n",
       "\n",
       "    CCS_CATEGORY_DESCRIPTION_2019 icd_code_2019  \\\n",
       "90                            NaN           NaN   \n",
       "200                           NaN           NaN   \n",
       "\n",
       "    ICD_10_CM_CODE_DESCRIPTION_2019  CCS_LVL_1_code_2019 CCSR_CATEGORY_1_2023  \\\n",
       "90                              NaN                  NaN                  NaN   \n",
       "200                             NaN                  NaN                  NaN   \n",
       "\n",
       "    CCSR_CATEGORY_1_DESCRIPTION_2023 CCS_LVL_1_Description_2019  \\\n",
       "90                               NaN                        NaN   \n",
       "200                              NaN                        NaN   \n",
       "\n",
       "    CCS_LVL_2_code_2019 CCS_LVL_2_Description_2019  \\\n",
       "90                  NaN                        NaN   \n",
       "200                 NaN                        NaN   \n",
       "\n",
       "    CCSR_Body_System_Abbreviation_2023 ICD_2023_code_abr  \\\n",
       "90                                 NaN               NaN   \n",
       "200                                NaN               NaN   \n",
       "\n",
       "    ICD_10_code_book_chapter_2023 ICD_CODE_BUCKET_HS_CCSR_2023  \n",
       "90                            NaN                    left_only  \n",
       "200                           NaN                    left_only  "
      ]
     },
     "execution_count": 24,
     "metadata": {},
     "output_type": "execute_result"
    }
   ],
   "source": [
    "Health_State_2023_map_CCSR_CCS[Health_State_2023_map_CCSR_CCS['ICD_CODE_BUCKET_HS_CCSR_2023']=='left_only'].head(2)"
   ]
  },
  {
   "cell_type": "markdown",
   "id": "436cb559",
   "metadata": {
    "tags": []
   },
   "source": [
    "# ADD CHAPTERS FOR CCSR AND CCS"
   ]
  },
  {
   "cell_type": "markdown",
   "id": "19335027",
   "metadata": {},
   "source": [
    "## Maping ICD-9 CHAPTERS"
   ]
  },
  {
   "cell_type": "code",
   "execution_count": 14,
   "id": "053464d7",
   "metadata": {
    "tags": []
   },
   "outputs": [],
   "source": [
    "ICD_9_CHAPTER_NAME= pd.read_csv(\"s3://intl-euro-uk-datascientist-prod/Abhiya/icd_files_2019-2023/Chapter_CCS_icd_9.csv\")"
   ]
  },
  {
   "cell_type": "code",
   "execution_count": 26,
   "id": "3aa95772",
   "metadata": {
    "tags": []
   },
   "outputs": [
    {
     "data": {
      "text/html": [
       "<div>\n",
       "<style scoped>\n",
       "    .dataframe tbody tr th:only-of-type {\n",
       "        vertical-align: middle;\n",
       "    }\n",
       "\n",
       "    .dataframe tbody tr th {\n",
       "        vertical-align: top;\n",
       "    }\n",
       "\n",
       "    .dataframe thead th {\n",
       "        text-align: right;\n",
       "    }\n",
       "</style>\n",
       "<table border=\"1\" class=\"dataframe\">\n",
       "  <thead>\n",
       "    <tr style=\"text-align: right;\">\n",
       "      <th></th>\n",
       "      <th>CCS_chapter_number_2019</th>\n",
       "      <th>CCS_Body_System_Abbreviation_2019</th>\n",
       "      <th>IVD_9_code_diagnosis chapters</th>\n",
       "    </tr>\n",
       "  </thead>\n",
       "  <tbody>\n",
       "    <tr>\n",
       "      <th>13</th>\n",
       "      <td>14</td>\n",
       "      <td>MAL</td>\n",
       "      <td>Congenital anomalities</td>\n",
       "    </tr>\n",
       "    <tr>\n",
       "      <th>14</th>\n",
       "      <td>15</td>\n",
       "      <td>PNL</td>\n",
       "      <td>Certain conditions originating in the perinata...</td>\n",
       "    </tr>\n",
       "    <tr>\n",
       "      <th>15</th>\n",
       "      <td>16</td>\n",
       "      <td>INJ</td>\n",
       "      <td>Injury and poisoning</td>\n",
       "    </tr>\n",
       "    <tr>\n",
       "      <th>16</th>\n",
       "      <td>17</td>\n",
       "      <td>Other_conditions</td>\n",
       "      <td>Symptoms; signs; and ill-defined conditions an...</td>\n",
       "    </tr>\n",
       "    <tr>\n",
       "      <th>17</th>\n",
       "      <td>18</td>\n",
       "      <td>Residual_codes</td>\n",
       "      <td>Residual codes; unclassified; all E codes</td>\n",
       "    </tr>\n",
       "  </tbody>\n",
       "</table>\n",
       "</div>"
      ],
      "text/plain": [
       "    CCS_chapter_number_2019 CCS_Body_System_Abbreviation_2019  \\\n",
       "13                       14                               MAL   \n",
       "14                       15                               PNL   \n",
       "15                       16                               INJ   \n",
       "16                       17                  Other_conditions   \n",
       "17                       18                    Residual_codes   \n",
       "\n",
       "                        IVD_9_code_diagnosis chapters  \n",
       "13                            Congenital anomalities   \n",
       "14  Certain conditions originating in the perinata...  \n",
       "15                               Injury and poisoning  \n",
       "16  Symptoms; signs; and ill-defined conditions an...  \n",
       "17          Residual codes; unclassified; all E codes  "
      ]
     },
     "execution_count": 26,
     "metadata": {},
     "output_type": "execute_result"
    }
   ],
   "source": [
    "ICD_9_CHAPTER_NAME.tail(5)"
   ]
  },
  {
   "cell_type": "code",
   "execution_count": 16,
   "id": "402b88bf",
   "metadata": {
    "tags": []
   },
   "outputs": [],
   "source": [
    "HEALTH_STATE_MAP_CCSR_CCS_CHAPTER= pd.merge (left=Health_State_2023_map_CCSR_CCS, right=ICD_9_CHAPTER_NAME, how='left',\\\n",
    "                               left_on='CCS_LVL_1_code_2019', right_on='CCS_chapter_number_2019',\\\n",
    "                                indicator='CCS_LEVEL1_CHAPTER_NAME_BUCKET')"
   ]
  },
  {
   "cell_type": "code",
   "execution_count": 17,
   "id": "13c2a647",
   "metadata": {
    "tags": []
   },
   "outputs": [
    {
     "data": {
      "text/plain": [
       "(608968, 39)"
      ]
     },
     "execution_count": 17,
     "metadata": {},
     "output_type": "execute_result"
    }
   ],
   "source": [
    "HEALTH_STATE_MAP_CCSR_CCS_CHAPTER.shape"
   ]
  },
  {
   "cell_type": "markdown",
   "id": "621c43d9-0082-416d-97dc-8849fcc72f48",
   "metadata": {},
   "source": [
    "## Analysis CCS_Multi_level_1 2019 "
   ]
  },
  {
   "cell_type": "code",
   "execution_count": 29,
   "id": "c2d30457-e5f8-42eb-9123-5955fe63f4bb",
   "metadata": {
    "tags": []
   },
   "outputs": [
    {
     "data": {
      "text/plain": [
       "510536"
      ]
     },
     "execution_count": 29,
     "metadata": {},
     "output_type": "execute_result"
    }
   ],
   "source": [
    "HEALTH_STATE_MAP_CCSR_CCS_CHAPTER['CCS_LVL_1_code_2019'].count()"
   ]
  },
  {
   "cell_type": "code",
   "execution_count": 30,
   "id": "8c724d6d-215b-402c-85bb-e578883f4d85",
   "metadata": {
    "tags": []
   },
   "outputs": [
    {
     "data": {
      "text/plain": [
       "98432"
      ]
     },
     "execution_count": 30,
     "metadata": {},
     "output_type": "execute_result"
    }
   ],
   "source": [
    "HEALTH_STATE_MAP_CCSR_CCS_CHAPTER['CCS_LVL_1_code_2019'].isnull().sum()"
   ]
  },
  {
   "cell_type": "code",
   "execution_count": 31,
   "id": "a3437d41-e171-460b-81f6-7346edb993c7",
   "metadata": {
    "tags": []
   },
   "outputs": [
    {
     "data": {
      "text/plain": [
       "CCS_LVL_1_code_2019\n",
       "17.0    194602\n",
       "1.0      50037\n",
       "13.0     39899\n",
       "3.0      25904\n",
       "8.0      25590\n",
       "10.0     22649\n",
       "5.0      22589\n",
       "11.0     21038\n",
       "6.0      18546\n",
       "7.0      17324\n",
       "18.0     15414\n",
       "9.0      14273\n",
       "16.0     12479\n",
       "2.0      12382\n",
       "12.0      9522\n",
       "15.0      3798\n",
       "4.0       3187\n",
       "14.0      1303\n",
       "Name: count, dtype: int64"
      ]
     },
     "execution_count": 31,
     "metadata": {},
     "output_type": "execute_result"
    }
   ],
   "source": [
    "HEALTH_STATE_MAP_CCSR_CCS_CHAPTER['CCS_LVL_1_code_2019'].value_counts()"
   ]
  },
  {
   "cell_type": "code",
   "execution_count": 32,
   "id": "6323433b-f81e-48cf-851e-51ab63c493c2",
   "metadata": {
    "tags": []
   },
   "outputs": [
    {
     "data": {
      "text/html": [
       "<div>\n",
       "<style scoped>\n",
       "    .dataframe tbody tr th:only-of-type {\n",
       "        vertical-align: middle;\n",
       "    }\n",
       "\n",
       "    .dataframe tbody tr th {\n",
       "        vertical-align: top;\n",
       "    }\n",
       "\n",
       "    .dataframe thead th {\n",
       "        text-align: right;\n",
       "    }\n",
       "</style>\n",
       "<table border=\"1\" class=\"dataframe\">\n",
       "  <thead>\n",
       "    <tr style=\"text-align: right;\">\n",
       "      <th></th>\n",
       "      <th>HS_claim_num_key</th>\n",
       "      <th>HS_unique_member_id_key</th>\n",
       "      <th>HS_book_of_business_nm</th>\n",
       "      <th>HS_claim_location_country_cd</th>\n",
       "      <th>HS_claim_location_country_nm</th>\n",
       "      <th>HS_region</th>\n",
       "      <th>HS_claim_type_nm</th>\n",
       "      <th>HS_icd_10_cm_code</th>\n",
       "      <th>HS_diagnosis_1_desc</th>\n",
       "      <th>HS_ccsr_category_1_description</th>\n",
       "      <th>HS_is_chronic_cd</th>\n",
       "      <th>HS_cm_diagnosis_flag</th>\n",
       "      <th>HS_cm_flag</th>\n",
       "      <th>HS_local_currency_net_amt</th>\n",
       "      <th>HS_member_id</th>\n",
       "      <th>ICD_code_2023</th>\n",
       "      <th>ICD_10_CM_CODE_DESCRIPTION_2023</th>\n",
       "      <th>Default_CCSR_CATEGORY_IP_2023</th>\n",
       "      <th>Default_CCSR_CATEGORY_DESCRIPTION_IP_2023</th>\n",
       "      <th>Default_CCSR_CATEGORY_OP_2023</th>\n",
       "      <th>Default_CCSR_CATEGORY_DESCRIPTION_OP_2023</th>\n",
       "      <th>CCS_CATEGORY_2019</th>\n",
       "      <th>CCS_CATEGORY_DESCRIPTION_2019</th>\n",
       "      <th>icd_code_2019</th>\n",
       "      <th>ICD_10_CM_CODE_DESCRIPTION_2019</th>\n",
       "      <th>CCS_LVL_1_code_2019</th>\n",
       "      <th>CCSR_CATEGORY_1_2023</th>\n",
       "      <th>CCSR_CATEGORY_1_DESCRIPTION_2023</th>\n",
       "      <th>CCS_LVL_1_Description_2019</th>\n",
       "      <th>CCS_LVL_2_code_2019</th>\n",
       "      <th>CCS_LVL_2_Description_2019</th>\n",
       "      <th>CCSR_Body_System_Abbreviation_2023</th>\n",
       "      <th>ICD_2023_code_abr</th>\n",
       "      <th>ICD_10_code_book_chapter_2023</th>\n",
       "      <th>ICD_CODE_BUCKET_HS_CCSR_2023</th>\n",
       "      <th>CCS_chapter_number_2019</th>\n",
       "      <th>CCS_Body_System_Abbreviation_2019</th>\n",
       "      <th>IVD_9_code_diagnosis chapters</th>\n",
       "      <th>CCS_LEVEL1_CHAPTER_NAME_BUCKET</th>\n",
       "    </tr>\n",
       "  </thead>\n",
       "  <tbody>\n",
       "    <tr>\n",
       "      <th>20</th>\n",
       "      <td>113558633</td>\n",
       "      <td>12039713</td>\n",
       "      <td>Americas</td>\n",
       "      <td>USA</td>\n",
       "      <td>United States of America (the)</td>\n",
       "      <td>Americas</td>\n",
       "      <td>OP</td>\n",
       "      <td>R69</td>\n",
       "      <td>ILLNESS,UNSPECIFIED</td>\n",
       "      <td>Other general signs and symptoms</td>\n",
       "      <td>A</td>\n",
       "      <td>NaN</td>\n",
       "      <td>False</td>\n",
       "      <td>0.0</td>\n",
       "      <td>2.105794e+10</td>\n",
       "      <td>R69</td>\n",
       "      <td>Illness, unspecified</td>\n",
       "      <td>SYM016</td>\n",
       "      <td>Other general signs and symptoms</td>\n",
       "      <td>SYM016</td>\n",
       "      <td>Other general signs and symptoms</td>\n",
       "      <td>259.0</td>\n",
       "      <td>Residual codes; unclassified</td>\n",
       "      <td>R69</td>\n",
       "      <td>Illness, unspecified</td>\n",
       "      <td>18.0</td>\n",
       "      <td>SYM016</td>\n",
       "      <td>Other general signs and symptoms</td>\n",
       "      <td>Residual codes; unclassified; all E codes [259...</td>\n",
       "      <td></td>\n",
       "      <td></td>\n",
       "      <td>SYM</td>\n",
       "      <td>R69</td>\n",
       "      <td>Symptoms, signs and abnormal clinical and labo...</td>\n",
       "      <td>both</td>\n",
       "      <td>18.0</td>\n",
       "      <td>Residual_codes</td>\n",
       "      <td>Residual codes; unclassified; all E codes</td>\n",
       "      <td>both</td>\n",
       "    </tr>\n",
       "    <tr>\n",
       "      <th>21</th>\n",
       "      <td>113558633</td>\n",
       "      <td>12039713</td>\n",
       "      <td>Americas</td>\n",
       "      <td>USA</td>\n",
       "      <td>United States of America (the)</td>\n",
       "      <td>Americas</td>\n",
       "      <td>OP</td>\n",
       "      <td>R69</td>\n",
       "      <td>ILLNESS,UNSPECIFIED</td>\n",
       "      <td>Other general signs and symptoms</td>\n",
       "      <td>A</td>\n",
       "      <td>NaN</td>\n",
       "      <td>False</td>\n",
       "      <td>0.0</td>\n",
       "      <td>2.105794e+10</td>\n",
       "      <td>R69</td>\n",
       "      <td>Illness, unspecified</td>\n",
       "      <td>SYM016</td>\n",
       "      <td>Other general signs and symptoms</td>\n",
       "      <td>SYM016</td>\n",
       "      <td>Other general signs and symptoms</td>\n",
       "      <td>259.0</td>\n",
       "      <td>Residual codes; unclassified</td>\n",
       "      <td>R69</td>\n",
       "      <td>Illness, unspecified</td>\n",
       "      <td>18.0</td>\n",
       "      <td>SYM016</td>\n",
       "      <td>Other general signs and symptoms</td>\n",
       "      <td>Residual codes; unclassified; all E codes [259...</td>\n",
       "      <td></td>\n",
       "      <td></td>\n",
       "      <td>SYM</td>\n",
       "      <td>R69</td>\n",
       "      <td>Symptoms, signs and abnormal clinical and labo...</td>\n",
       "      <td>both</td>\n",
       "      <td>18.0</td>\n",
       "      <td>Residual_codes</td>\n",
       "      <td>Residual codes; unclassified; all E codes</td>\n",
       "      <td>both</td>\n",
       "    </tr>\n",
       "    <tr>\n",
       "      <th>58</th>\n",
       "      <td>117856119</td>\n",
       "      <td>12039713</td>\n",
       "      <td>Americas</td>\n",
       "      <td>USA</td>\n",
       "      <td>United States of America (the)</td>\n",
       "      <td>Americas</td>\n",
       "      <td>OP</td>\n",
       "      <td>R69</td>\n",
       "      <td>ILLNESS,UNSPECIFIED</td>\n",
       "      <td>Other general signs and symptoms</td>\n",
       "      <td>A</td>\n",
       "      <td>NaN</td>\n",
       "      <td>False</td>\n",
       "      <td>0.0</td>\n",
       "      <td>2.105794e+10</td>\n",
       "      <td>R69</td>\n",
       "      <td>Illness, unspecified</td>\n",
       "      <td>SYM016</td>\n",
       "      <td>Other general signs and symptoms</td>\n",
       "      <td>SYM016</td>\n",
       "      <td>Other general signs and symptoms</td>\n",
       "      <td>259.0</td>\n",
       "      <td>Residual codes; unclassified</td>\n",
       "      <td>R69</td>\n",
       "      <td>Illness, unspecified</td>\n",
       "      <td>18.0</td>\n",
       "      <td>SYM016</td>\n",
       "      <td>Other general signs and symptoms</td>\n",
       "      <td>Residual codes; unclassified; all E codes [259...</td>\n",
       "      <td></td>\n",
       "      <td></td>\n",
       "      <td>SYM</td>\n",
       "      <td>R69</td>\n",
       "      <td>Symptoms, signs and abnormal clinical and labo...</td>\n",
       "      <td>both</td>\n",
       "      <td>18.0</td>\n",
       "      <td>Residual_codes</td>\n",
       "      <td>Residual codes; unclassified; all E codes</td>\n",
       "      <td>both</td>\n",
       "    </tr>\n",
       "    <tr>\n",
       "      <th>59</th>\n",
       "      <td>117856119</td>\n",
       "      <td>12039713</td>\n",
       "      <td>Americas</td>\n",
       "      <td>USA</td>\n",
       "      <td>United States of America (the)</td>\n",
       "      <td>Americas</td>\n",
       "      <td>OP</td>\n",
       "      <td>R69</td>\n",
       "      <td>ILLNESS,UNSPECIFIED</td>\n",
       "      <td>Other general signs and symptoms</td>\n",
       "      <td>A</td>\n",
       "      <td>NaN</td>\n",
       "      <td>False</td>\n",
       "      <td>0.0</td>\n",
       "      <td>2.105794e+10</td>\n",
       "      <td>R69</td>\n",
       "      <td>Illness, unspecified</td>\n",
       "      <td>SYM016</td>\n",
       "      <td>Other general signs and symptoms</td>\n",
       "      <td>SYM016</td>\n",
       "      <td>Other general signs and symptoms</td>\n",
       "      <td>259.0</td>\n",
       "      <td>Residual codes; unclassified</td>\n",
       "      <td>R69</td>\n",
       "      <td>Illness, unspecified</td>\n",
       "      <td>18.0</td>\n",
       "      <td>SYM016</td>\n",
       "      <td>Other general signs and symptoms</td>\n",
       "      <td>Residual codes; unclassified; all E codes [259...</td>\n",
       "      <td></td>\n",
       "      <td></td>\n",
       "      <td>SYM</td>\n",
       "      <td>R69</td>\n",
       "      <td>Symptoms, signs and abnormal clinical and labo...</td>\n",
       "      <td>both</td>\n",
       "      <td>18.0</td>\n",
       "      <td>Residual_codes</td>\n",
       "      <td>Residual codes; unclassified; all E codes</td>\n",
       "      <td>both</td>\n",
       "    </tr>\n",
       "    <tr>\n",
       "      <th>65</th>\n",
       "      <td>113570896</td>\n",
       "      <td>12039713</td>\n",
       "      <td>Americas</td>\n",
       "      <td>USA</td>\n",
       "      <td>United States of America (the)</td>\n",
       "      <td>Americas</td>\n",
       "      <td>OP</td>\n",
       "      <td>R69</td>\n",
       "      <td>ILLNESS,UNSPECIFIED</td>\n",
       "      <td>Other general signs and symptoms</td>\n",
       "      <td>A</td>\n",
       "      <td>NaN</td>\n",
       "      <td>False</td>\n",
       "      <td>0.0</td>\n",
       "      <td>2.105794e+10</td>\n",
       "      <td>R69</td>\n",
       "      <td>Illness, unspecified</td>\n",
       "      <td>SYM016</td>\n",
       "      <td>Other general signs and symptoms</td>\n",
       "      <td>SYM016</td>\n",
       "      <td>Other general signs and symptoms</td>\n",
       "      <td>259.0</td>\n",
       "      <td>Residual codes; unclassified</td>\n",
       "      <td>R69</td>\n",
       "      <td>Illness, unspecified</td>\n",
       "      <td>18.0</td>\n",
       "      <td>SYM016</td>\n",
       "      <td>Other general signs and symptoms</td>\n",
       "      <td>Residual codes; unclassified; all E codes [259...</td>\n",
       "      <td></td>\n",
       "      <td></td>\n",
       "      <td>SYM</td>\n",
       "      <td>R69</td>\n",
       "      <td>Symptoms, signs and abnormal clinical and labo...</td>\n",
       "      <td>both</td>\n",
       "      <td>18.0</td>\n",
       "      <td>Residual_codes</td>\n",
       "      <td>Residual codes; unclassified; all E codes</td>\n",
       "      <td>both</td>\n",
       "    </tr>\n",
       "  </tbody>\n",
       "</table>\n",
       "</div>"
      ],
      "text/plain": [
       "    HS_claim_num_key  HS_unique_member_id_key HS_book_of_business_nm  \\\n",
       "20         113558633                 12039713               Americas   \n",
       "21         113558633                 12039713               Americas   \n",
       "58         117856119                 12039713               Americas   \n",
       "59         117856119                 12039713               Americas   \n",
       "65         113570896                 12039713               Americas   \n",
       "\n",
       "   HS_claim_location_country_cd    HS_claim_location_country_nm HS_region  \\\n",
       "20                          USA  United States of America (the)  Americas   \n",
       "21                          USA  United States of America (the)  Americas   \n",
       "58                          USA  United States of America (the)  Americas   \n",
       "59                          USA  United States of America (the)  Americas   \n",
       "65                          USA  United States of America (the)  Americas   \n",
       "\n",
       "   HS_claim_type_nm HS_icd_10_cm_code  HS_diagnosis_1_desc  \\\n",
       "20               OP               R69  ILLNESS,UNSPECIFIED   \n",
       "21               OP               R69  ILLNESS,UNSPECIFIED   \n",
       "58               OP               R69  ILLNESS,UNSPECIFIED   \n",
       "59               OP               R69  ILLNESS,UNSPECIFIED   \n",
       "65               OP               R69  ILLNESS,UNSPECIFIED   \n",
       "\n",
       "      HS_ccsr_category_1_description HS_is_chronic_cd HS_cm_diagnosis_flag  \\\n",
       "20  Other general signs and symptoms                A                  NaN   \n",
       "21  Other general signs and symptoms                A                  NaN   \n",
       "58  Other general signs and symptoms                A                  NaN   \n",
       "59  Other general signs and symptoms                A                  NaN   \n",
       "65  Other general signs and symptoms                A                  NaN   \n",
       "\n",
       "    HS_cm_flag  HS_local_currency_net_amt  HS_member_id ICD_code_2023  \\\n",
       "20       False                        0.0  2.105794e+10           R69   \n",
       "21       False                        0.0  2.105794e+10           R69   \n",
       "58       False                        0.0  2.105794e+10           R69   \n",
       "59       False                        0.0  2.105794e+10           R69   \n",
       "65       False                        0.0  2.105794e+10           R69   \n",
       "\n",
       "   ICD_10_CM_CODE_DESCRIPTION_2023 Default_CCSR_CATEGORY_IP_2023  \\\n",
       "20            Illness, unspecified                        SYM016   \n",
       "21            Illness, unspecified                        SYM016   \n",
       "58            Illness, unspecified                        SYM016   \n",
       "59            Illness, unspecified                        SYM016   \n",
       "65            Illness, unspecified                        SYM016   \n",
       "\n",
       "   Default_CCSR_CATEGORY_DESCRIPTION_IP_2023 Default_CCSR_CATEGORY_OP_2023  \\\n",
       "20          Other general signs and symptoms                        SYM016   \n",
       "21          Other general signs and symptoms                        SYM016   \n",
       "58          Other general signs and symptoms                        SYM016   \n",
       "59          Other general signs and symptoms                        SYM016   \n",
       "65          Other general signs and symptoms                        SYM016   \n",
       "\n",
       "   Default_CCSR_CATEGORY_DESCRIPTION_OP_2023  CCS_CATEGORY_2019  \\\n",
       "20          Other general signs and symptoms              259.0   \n",
       "21          Other general signs and symptoms              259.0   \n",
       "58          Other general signs and symptoms              259.0   \n",
       "59          Other general signs and symptoms              259.0   \n",
       "65          Other general signs and symptoms              259.0   \n",
       "\n",
       "   CCS_CATEGORY_DESCRIPTION_2019 icd_code_2019  \\\n",
       "20  Residual codes; unclassified           R69   \n",
       "21  Residual codes; unclassified           R69   \n",
       "58  Residual codes; unclassified           R69   \n",
       "59  Residual codes; unclassified           R69   \n",
       "65  Residual codes; unclassified           R69   \n",
       "\n",
       "   ICD_10_CM_CODE_DESCRIPTION_2019  CCS_LVL_1_code_2019 CCSR_CATEGORY_1_2023  \\\n",
       "20            Illness, unspecified                 18.0               SYM016   \n",
       "21            Illness, unspecified                 18.0               SYM016   \n",
       "58            Illness, unspecified                 18.0               SYM016   \n",
       "59            Illness, unspecified                 18.0               SYM016   \n",
       "65            Illness, unspecified                 18.0               SYM016   \n",
       "\n",
       "    CCSR_CATEGORY_1_DESCRIPTION_2023  \\\n",
       "20  Other general signs and symptoms   \n",
       "21  Other general signs and symptoms   \n",
       "58  Other general signs and symptoms   \n",
       "59  Other general signs and symptoms   \n",
       "65  Other general signs and symptoms   \n",
       "\n",
       "                           CCS_LVL_1_Description_2019 CCS_LVL_2_code_2019  \\\n",
       "20  Residual codes; unclassified; all E codes [259...                       \n",
       "21  Residual codes; unclassified; all E codes [259...                       \n",
       "58  Residual codes; unclassified; all E codes [259...                       \n",
       "59  Residual codes; unclassified; all E codes [259...                       \n",
       "65  Residual codes; unclassified; all E codes [259...                       \n",
       "\n",
       "   CCS_LVL_2_Description_2019 CCSR_Body_System_Abbreviation_2023  \\\n",
       "20                                                           SYM   \n",
       "21                                                           SYM   \n",
       "58                                                           SYM   \n",
       "59                                                           SYM   \n",
       "65                                                           SYM   \n",
       "\n",
       "   ICD_2023_code_abr                      ICD_10_code_book_chapter_2023  \\\n",
       "20               R69  Symptoms, signs and abnormal clinical and labo...   \n",
       "21               R69  Symptoms, signs and abnormal clinical and labo...   \n",
       "58               R69  Symptoms, signs and abnormal clinical and labo...   \n",
       "59               R69  Symptoms, signs and abnormal clinical and labo...   \n",
       "65               R69  Symptoms, signs and abnormal clinical and labo...   \n",
       "\n",
       "   ICD_CODE_BUCKET_HS_CCSR_2023  CCS_chapter_number_2019  \\\n",
       "20                         both                     18.0   \n",
       "21                         both                     18.0   \n",
       "58                         both                     18.0   \n",
       "59                         both                     18.0   \n",
       "65                         both                     18.0   \n",
       "\n",
       "   CCS_Body_System_Abbreviation_2019  \\\n",
       "20                    Residual_codes   \n",
       "21                    Residual_codes   \n",
       "58                    Residual_codes   \n",
       "59                    Residual_codes   \n",
       "65                    Residual_codes   \n",
       "\n",
       "                IVD_9_code_diagnosis chapters CCS_LEVEL1_CHAPTER_NAME_BUCKET  \n",
       "20  Residual codes; unclassified; all E codes                           both  \n",
       "21  Residual codes; unclassified; all E codes                           both  \n",
       "58  Residual codes; unclassified; all E codes                           both  \n",
       "59  Residual codes; unclassified; all E codes                           both  \n",
       "65  Residual codes; unclassified; all E codes                           both  "
      ]
     },
     "execution_count": 32,
     "metadata": {},
     "output_type": "execute_result"
    }
   ],
   "source": [
    "HEALTH_STATE_MAP_CCSR_CCS_CHAPTER[HEALTH_STATE_MAP_CCSR_CCS_CHAPTER['CCS_LVL_1_code_2019']==18].head(5)"
   ]
  },
  {
   "cell_type": "code",
   "execution_count": 33,
   "id": "1b77a6c1-fe22-4292-99c7-ac0ed4a1ae72",
   "metadata": {
    "tags": []
   },
   "outputs": [
    {
     "data": {
      "text/html": [
       "<div>\n",
       "<style scoped>\n",
       "    .dataframe tbody tr th:only-of-type {\n",
       "        vertical-align: middle;\n",
       "    }\n",
       "\n",
       "    .dataframe tbody tr th {\n",
       "        vertical-align: top;\n",
       "    }\n",
       "\n",
       "    .dataframe thead th {\n",
       "        text-align: right;\n",
       "    }\n",
       "</style>\n",
       "<table border=\"1\" class=\"dataframe\">\n",
       "  <thead>\n",
       "    <tr style=\"text-align: right;\">\n",
       "      <th></th>\n",
       "      <th>HS_claim_num_key</th>\n",
       "      <th>HS_unique_member_id_key</th>\n",
       "      <th>HS_book_of_business_nm</th>\n",
       "      <th>HS_claim_location_country_cd</th>\n",
       "      <th>HS_claim_location_country_nm</th>\n",
       "      <th>HS_region</th>\n",
       "      <th>HS_claim_type_nm</th>\n",
       "      <th>HS_icd_10_cm_code</th>\n",
       "      <th>HS_diagnosis_1_desc</th>\n",
       "      <th>HS_ccsr_category_1_description</th>\n",
       "      <th>HS_is_chronic_cd</th>\n",
       "      <th>HS_cm_diagnosis_flag</th>\n",
       "      <th>HS_cm_flag</th>\n",
       "      <th>HS_local_currency_net_amt</th>\n",
       "      <th>HS_member_id</th>\n",
       "      <th>ICD_code_2023</th>\n",
       "      <th>ICD_10_CM_CODE_DESCRIPTION_2023</th>\n",
       "      <th>Default_CCSR_CATEGORY_IP_2023</th>\n",
       "      <th>Default_CCSR_CATEGORY_DESCRIPTION_IP_2023</th>\n",
       "      <th>Default_CCSR_CATEGORY_OP_2023</th>\n",
       "      <th>Default_CCSR_CATEGORY_DESCRIPTION_OP_2023</th>\n",
       "      <th>CCS_CATEGORY_2019</th>\n",
       "      <th>CCS_CATEGORY_DESCRIPTION_2019</th>\n",
       "      <th>icd_code_2019</th>\n",
       "      <th>ICD_10_CM_CODE_DESCRIPTION_2019</th>\n",
       "      <th>CCS_LVL_1_code_2019</th>\n",
       "      <th>CCSR_CATEGORY_1_2023</th>\n",
       "      <th>CCSR_CATEGORY_1_DESCRIPTION_2023</th>\n",
       "      <th>CCS_LVL_1_Description_2019</th>\n",
       "      <th>CCS_LVL_2_code_2019</th>\n",
       "      <th>CCS_LVL_2_Description_2019</th>\n",
       "      <th>CCSR_Body_System_Abbreviation_2023</th>\n",
       "      <th>ICD_2023_code_abr</th>\n",
       "      <th>ICD_10_code_book_chapter_2023</th>\n",
       "      <th>ICD_CODE_BUCKET_HS_CCSR_2023</th>\n",
       "      <th>CCS_chapter_number_2019</th>\n",
       "      <th>CCS_Body_System_Abbreviation_2019</th>\n",
       "      <th>IVD_9_code_diagnosis chapters</th>\n",
       "      <th>CCS_LEVEL1_CHAPTER_NAME_BUCKET</th>\n",
       "    </tr>\n",
       "  </thead>\n",
       "  <tbody>\n",
       "    <tr>\n",
       "      <th>53</th>\n",
       "      <td>113117619</td>\n",
       "      <td>11185481</td>\n",
       "      <td>Americas</td>\n",
       "      <td>USA</td>\n",
       "      <td>United States of America (the)</td>\n",
       "      <td>Americas</td>\n",
       "      <td>OP</td>\n",
       "      <td>Z20822</td>\n",
       "      <td>Cont w/and (sus) exp COV</td>\n",
       "      <td>NaN</td>\n",
       "      <td>NaN</td>\n",
       "      <td>NaN</td>\n",
       "      <td>False</td>\n",
       "      <td>55.16</td>\n",
       "      <td>2.098101e+10</td>\n",
       "      <td>Z20822</td>\n",
       "      <td>Contact with and (suspected) exposure to COVID-19</td>\n",
       "      <td>XXX000</td>\n",
       "      <td>Unacceptable PDX</td>\n",
       "      <td>FAC016</td>\n",
       "      <td>Exposure, encounters, screening or contact wit...</td>\n",
       "      <td>NaN</td>\n",
       "      <td>NaN</td>\n",
       "      <td>NaN</td>\n",
       "      <td>NaN</td>\n",
       "      <td>NaN</td>\n",
       "      <td>FAC016</td>\n",
       "      <td>Exposure, encounters, screening or contact wit...</td>\n",
       "      <td>NaN</td>\n",
       "      <td>NaN</td>\n",
       "      <td>NaN</td>\n",
       "      <td>FAC</td>\n",
       "      <td>Z20</td>\n",
       "      <td>Factors influencing health status and contact ...</td>\n",
       "      <td>both</td>\n",
       "      <td>NaN</td>\n",
       "      <td>NaN</td>\n",
       "      <td>NaN</td>\n",
       "      <td>left_only</td>\n",
       "    </tr>\n",
       "    <tr>\n",
       "      <th>54</th>\n",
       "      <td>113117619</td>\n",
       "      <td>11185481</td>\n",
       "      <td>Americas</td>\n",
       "      <td>USA</td>\n",
       "      <td>United States of America (the)</td>\n",
       "      <td>Americas</td>\n",
       "      <td>OP</td>\n",
       "      <td>Z20822</td>\n",
       "      <td>Cont w/and (sus) exp COV</td>\n",
       "      <td>NaN</td>\n",
       "      <td>NaN</td>\n",
       "      <td>NaN</td>\n",
       "      <td>False</td>\n",
       "      <td>75.00</td>\n",
       "      <td>2.098101e+10</td>\n",
       "      <td>Z20822</td>\n",
       "      <td>Contact with and (suspected) exposure to COVID-19</td>\n",
       "      <td>XXX000</td>\n",
       "      <td>Unacceptable PDX</td>\n",
       "      <td>FAC016</td>\n",
       "      <td>Exposure, encounters, screening or contact wit...</td>\n",
       "      <td>NaN</td>\n",
       "      <td>NaN</td>\n",
       "      <td>NaN</td>\n",
       "      <td>NaN</td>\n",
       "      <td>NaN</td>\n",
       "      <td>FAC016</td>\n",
       "      <td>Exposure, encounters, screening or contact wit...</td>\n",
       "      <td>NaN</td>\n",
       "      <td>NaN</td>\n",
       "      <td>NaN</td>\n",
       "      <td>FAC</td>\n",
       "      <td>Z20</td>\n",
       "      <td>Factors influencing health status and contact ...</td>\n",
       "      <td>both</td>\n",
       "      <td>NaN</td>\n",
       "      <td>NaN</td>\n",
       "      <td>NaN</td>\n",
       "      <td>left_only</td>\n",
       "    </tr>\n",
       "  </tbody>\n",
       "</table>\n",
       "</div>"
      ],
      "text/plain": [
       "    HS_claim_num_key  HS_unique_member_id_key HS_book_of_business_nm  \\\n",
       "53         113117619                 11185481               Americas   \n",
       "54         113117619                 11185481               Americas   \n",
       "\n",
       "   HS_claim_location_country_cd    HS_claim_location_country_nm HS_region  \\\n",
       "53                          USA  United States of America (the)  Americas   \n",
       "54                          USA  United States of America (the)  Americas   \n",
       "\n",
       "   HS_claim_type_nm HS_icd_10_cm_code       HS_diagnosis_1_desc  \\\n",
       "53               OP            Z20822  Cont w/and (sus) exp COV   \n",
       "54               OP            Z20822  Cont w/and (sus) exp COV   \n",
       "\n",
       "   HS_ccsr_category_1_description HS_is_chronic_cd HS_cm_diagnosis_flag  \\\n",
       "53                            NaN              NaN                  NaN   \n",
       "54                            NaN              NaN                  NaN   \n",
       "\n",
       "    HS_cm_flag  HS_local_currency_net_amt  HS_member_id ICD_code_2023  \\\n",
       "53       False                      55.16  2.098101e+10        Z20822   \n",
       "54       False                      75.00  2.098101e+10        Z20822   \n",
       "\n",
       "                      ICD_10_CM_CODE_DESCRIPTION_2023  \\\n",
       "53  Contact with and (suspected) exposure to COVID-19   \n",
       "54  Contact with and (suspected) exposure to COVID-19   \n",
       "\n",
       "   Default_CCSR_CATEGORY_IP_2023 Default_CCSR_CATEGORY_DESCRIPTION_IP_2023  \\\n",
       "53                        XXX000                          Unacceptable PDX   \n",
       "54                        XXX000                          Unacceptable PDX   \n",
       "\n",
       "   Default_CCSR_CATEGORY_OP_2023  \\\n",
       "53                        FAC016   \n",
       "54                        FAC016   \n",
       "\n",
       "            Default_CCSR_CATEGORY_DESCRIPTION_OP_2023  CCS_CATEGORY_2019  \\\n",
       "53  Exposure, encounters, screening or contact wit...                NaN   \n",
       "54  Exposure, encounters, screening or contact wit...                NaN   \n",
       "\n",
       "   CCS_CATEGORY_DESCRIPTION_2019 icd_code_2019  \\\n",
       "53                           NaN           NaN   \n",
       "54                           NaN           NaN   \n",
       "\n",
       "   ICD_10_CM_CODE_DESCRIPTION_2019  CCS_LVL_1_code_2019 CCSR_CATEGORY_1_2023  \\\n",
       "53                             NaN                  NaN               FAC016   \n",
       "54                             NaN                  NaN               FAC016   \n",
       "\n",
       "                     CCSR_CATEGORY_1_DESCRIPTION_2023  \\\n",
       "53  Exposure, encounters, screening or contact wit...   \n",
       "54  Exposure, encounters, screening or contact wit...   \n",
       "\n",
       "   CCS_LVL_1_Description_2019 CCS_LVL_2_code_2019 CCS_LVL_2_Description_2019  \\\n",
       "53                        NaN                 NaN                        NaN   \n",
       "54                        NaN                 NaN                        NaN   \n",
       "\n",
       "   CCSR_Body_System_Abbreviation_2023 ICD_2023_code_abr  \\\n",
       "53                                FAC               Z20   \n",
       "54                                FAC               Z20   \n",
       "\n",
       "                        ICD_10_code_book_chapter_2023  \\\n",
       "53  Factors influencing health status and contact ...   \n",
       "54  Factors influencing health status and contact ...   \n",
       "\n",
       "   ICD_CODE_BUCKET_HS_CCSR_2023  CCS_chapter_number_2019  \\\n",
       "53                         both                      NaN   \n",
       "54                         both                      NaN   \n",
       "\n",
       "   CCS_Body_System_Abbreviation_2019 IVD_9_code_diagnosis chapters  \\\n",
       "53                               NaN                           NaN   \n",
       "54                               NaN                           NaN   \n",
       "\n",
       "   CCS_LEVEL1_CHAPTER_NAME_BUCKET  \n",
       "53                      left_only  \n",
       "54                      left_only  "
      ]
     },
     "execution_count": 33,
     "metadata": {},
     "output_type": "execute_result"
    }
   ],
   "source": [
    "HEALTH_STATE_MAP_CCSR_CCS_CHAPTER[(HEALTH_STATE_MAP_CCSR_CCS_CHAPTER['CCS_LEVEL1_CHAPTER_NAME_BUCKET']=='left_only')\n",
    "                                 & (HEALTH_STATE_MAP_CCSR_CCS_CHAPTER['CCS_LVL_1_code_2019']!='NaN')].head(2)"
   ]
  },
  {
   "cell_type": "markdown",
   "id": "b34c9542-9bd6-4d95-a123-68da3bce4080",
   "metadata": {},
   "source": [
    "## BUCKET- CCS CHAPTER"
   ]
  },
  {
   "cell_type": "code",
   "execution_count": 34,
   "id": "799f69a5",
   "metadata": {
    "tags": []
   },
   "outputs": [
    {
     "data": {
      "text/plain": [
       "CCS_LEVEL1_CHAPTER_NAME_BUCKET\n",
       "both          510536\n",
       "left_only      98432\n",
       "right_only         0\n",
       "Name: count, dtype: int64"
      ]
     },
     "execution_count": 34,
     "metadata": {},
     "output_type": "execute_result"
    }
   ],
   "source": [
    "HEALTH_STATE_MAP_CCSR_CCS_CHAPTER['CCS_LEVEL1_CHAPTER_NAME_BUCKET'].value_counts()\n",
    "# left_only interpretation: only 494311 chapters can be added\n",
    "# right_only: out of total number of Multilevel_1 count available"
   ]
  },
  {
   "cell_type": "code",
   "execution_count": 35,
   "id": "9fab4f04-7eb9-4262-aae4-e9f3fa210a27",
   "metadata": {
    "tags": []
   },
   "outputs": [
    {
     "data": {
      "text/plain": [
       "CCS_LEVEL1_CHAPTER_NAME_BUCKET\n",
       "both          83.84%\n",
       "left_only     16.16%\n",
       "right_only      0.0%\n",
       "Name: proportion, dtype: object"
      ]
     },
     "execution_count": 35,
     "metadata": {},
     "output_type": "execute_result"
    }
   ],
   "source": [
    "HEALTH_STATE_MAP_CCSR_CCS_CHAPTER['CCS_LEVEL1_CHAPTER_NAME_BUCKET'].value_counts(normalize=True)\\\n",
    ".mul(100).round(2).astype(str)+'%' "
   ]
  },
  {
   "cell_type": "markdown",
   "id": "b50c821d",
   "metadata": {},
   "source": [
    "## Maping ICD10 in diamond HS subset to 2023 CCSR chapters"
   ]
  },
  {
   "cell_type": "code",
   "execution_count": 18,
   "id": "ce6638ed",
   "metadata": {
    "tags": []
   },
   "outputs": [],
   "source": [
    "ICD_CHAPTER_2023= pd.read_csv(\"s3://intl-euro-uk-datascientist-prod/Abhiya/icd_files_2019-2023/Code_chapter_2023.csv\")"
   ]
  },
  {
   "cell_type": "code",
   "execution_count": 37,
   "id": "aa6e34ca",
   "metadata": {
    "tags": []
   },
   "outputs": [
    {
     "data": {
      "text/html": [
       "<div>\n",
       "<style scoped>\n",
       "    .dataframe tbody tr th:only-of-type {\n",
       "        vertical-align: middle;\n",
       "    }\n",
       "\n",
       "    .dataframe tbody tr th {\n",
       "        vertical-align: top;\n",
       "    }\n",
       "\n",
       "    .dataframe thead th {\n",
       "        text-align: right;\n",
       "    }\n",
       "</style>\n",
       "<table border=\"1\" class=\"dataframe\">\n",
       "  <thead>\n",
       "    <tr style=\"text-align: right;\">\n",
       "      <th></th>\n",
       "      <th>CODE_range_first_three_characters</th>\n",
       "      <th>CCSR_Body_System_Abbreviation_2023</th>\n",
       "      <th>ICD_10_code_book_chapter_2023</th>\n",
       "    </tr>\n",
       "  </thead>\n",
       "  <tbody>\n",
       "    <tr>\n",
       "      <th>0</th>\n",
       "      <td>A00</td>\n",
       "      <td>INF</td>\n",
       "      <td>Certain infectious and parasitic diseases</td>\n",
       "    </tr>\n",
       "    <tr>\n",
       "      <th>1</th>\n",
       "      <td>A01</td>\n",
       "      <td>INF</td>\n",
       "      <td>Certain infectious and parasitic diseases</td>\n",
       "    </tr>\n",
       "    <tr>\n",
       "      <th>2</th>\n",
       "      <td>A02</td>\n",
       "      <td>INF</td>\n",
       "      <td>Certain infectious and parasitic diseases</td>\n",
       "    </tr>\n",
       "    <tr>\n",
       "      <th>3</th>\n",
       "      <td>A03</td>\n",
       "      <td>INF</td>\n",
       "      <td>Certain infectious and parasitic diseases</td>\n",
       "    </tr>\n",
       "    <tr>\n",
       "      <th>4</th>\n",
       "      <td>A04</td>\n",
       "      <td>INF</td>\n",
       "      <td>Certain infectious and parasitic diseases</td>\n",
       "    </tr>\n",
       "  </tbody>\n",
       "</table>\n",
       "</div>"
      ],
      "text/plain": [
       "  CODE_range_first_three_characters CCSR_Body_System_Abbreviation_2023  \\\n",
       "0                               A00                                INF   \n",
       "1                               A01                                INF   \n",
       "2                               A02                                INF   \n",
       "3                               A03                                INF   \n",
       "4                               A04                                INF   \n",
       "\n",
       "                ICD_10_code_book_chapter_2023  \n",
       "0  Certain infectious and parasitic diseases   \n",
       "1  Certain infectious and parasitic diseases   \n",
       "2  Certain infectious and parasitic diseases   \n",
       "3  Certain infectious and parasitic diseases   \n",
       "4  Certain infectious and parasitic diseases   "
      ]
     },
     "execution_count": 37,
     "metadata": {},
     "output_type": "execute_result"
    }
   ],
   "source": [
    "ICD_CHAPTER_2023.head(5)"
   ]
  },
  {
   "cell_type": "code",
   "execution_count": 19,
   "id": "c67b7db8",
   "metadata": {
    "tags": []
   },
   "outputs": [],
   "source": [
    "ICD_CHAPTER_2023=ICD_CHAPTER_2023.rename(columns={'CCSR_Body_System_Abbreviation_2023':'CCSR_Body_sys_ABR_mapped_HS_CODE',\n",
    "                                                 'ICD_10_code_book_chapter_2023':'ICD_10_chapter_mapped_HS_CODE'})"
   ]
  },
  {
   "cell_type": "code",
   "execution_count": 39,
   "id": "1f18158b",
   "metadata": {
    "tags": []
   },
   "outputs": [
    {
     "data": {
      "text/html": [
       "<div>\n",
       "<style scoped>\n",
       "    .dataframe tbody tr th:only-of-type {\n",
       "        vertical-align: middle;\n",
       "    }\n",
       "\n",
       "    .dataframe tbody tr th {\n",
       "        vertical-align: top;\n",
       "    }\n",
       "\n",
       "    .dataframe thead th {\n",
       "        text-align: right;\n",
       "    }\n",
       "</style>\n",
       "<table border=\"1\" class=\"dataframe\">\n",
       "  <thead>\n",
       "    <tr style=\"text-align: right;\">\n",
       "      <th></th>\n",
       "      <th>CODE_range_first_three_characters</th>\n",
       "      <th>CCSR_Body_sys_ABR_mapped_HS_CODE</th>\n",
       "      <th>ICD_10_chapter_mapped_HS_CODE</th>\n",
       "    </tr>\n",
       "  </thead>\n",
       "  <tbody>\n",
       "    <tr>\n",
       "      <th>0</th>\n",
       "      <td>A00</td>\n",
       "      <td>INF</td>\n",
       "      <td>Certain infectious and parasitic diseases</td>\n",
       "    </tr>\n",
       "    <tr>\n",
       "      <th>1</th>\n",
       "      <td>A01</td>\n",
       "      <td>INF</td>\n",
       "      <td>Certain infectious and parasitic diseases</td>\n",
       "    </tr>\n",
       "  </tbody>\n",
       "</table>\n",
       "</div>"
      ],
      "text/plain": [
       "  CODE_range_first_three_characters CCSR_Body_sys_ABR_mapped_HS_CODE  \\\n",
       "0                               A00                              INF   \n",
       "1                               A01                              INF   \n",
       "\n",
       "                ICD_10_chapter_mapped_HS_CODE  \n",
       "0  Certain infectious and parasitic diseases   \n",
       "1  Certain infectious and parasitic diseases   "
      ]
     },
     "execution_count": 39,
     "metadata": {},
     "output_type": "execute_result"
    }
   ],
   "source": [
    "ICD_CHAPTER_2023.head(2)"
   ]
  },
  {
   "cell_type": "code",
   "execution_count": 20,
   "id": "b9dbab48",
   "metadata": {
    "tags": []
   },
   "outputs": [],
   "source": [
    "HEALTH_STATE_MAP_CCSR_CCS_CHAPTER['HS_ICD_code_Abr']=HEALTH_STATE_MAP_CCSR_CCS_CHAPTER['HS_icd_10_cm_code'].str[0:3]"
   ]
  },
  {
   "cell_type": "code",
   "execution_count": 21,
   "id": "e869e507",
   "metadata": {
    "tags": []
   },
   "outputs": [],
   "source": [
    "HEALTH_STATE_MAP_final= pd.merge (left=HEALTH_STATE_MAP_CCSR_CCS_CHAPTER, right=ICD_CHAPTER_2023, how='left',\\\n",
    "                               left_on='HS_ICD_code_Abr', right_on='CODE_range_first_three_characters',\\\n",
    "                                indicator='CCSR_CHAPTER_CODE_BUCKET')"
   ]
  },
  {
   "cell_type": "code",
   "execution_count": 22,
   "id": "276c9c03",
   "metadata": {
    "tags": []
   },
   "outputs": [
    {
     "data": {
      "text/plain": [
       "(608968, 44)"
      ]
     },
     "execution_count": 22,
     "metadata": {},
     "output_type": "execute_result"
    }
   ],
   "source": [
    "HEALTH_STATE_MAP_final.shape"
   ]
  },
  {
   "cell_type": "code",
   "execution_count": 43,
   "id": "9073f8cc",
   "metadata": {
    "tags": []
   },
   "outputs": [
    {
     "data": {
      "text/html": [
       "<div>\n",
       "<style scoped>\n",
       "    .dataframe tbody tr th:only-of-type {\n",
       "        vertical-align: middle;\n",
       "    }\n",
       "\n",
       "    .dataframe tbody tr th {\n",
       "        vertical-align: top;\n",
       "    }\n",
       "\n",
       "    .dataframe thead th {\n",
       "        text-align: right;\n",
       "    }\n",
       "</style>\n",
       "<table border=\"1\" class=\"dataframe\">\n",
       "  <thead>\n",
       "    <tr style=\"text-align: right;\">\n",
       "      <th></th>\n",
       "      <th>HS_claim_num_key</th>\n",
       "      <th>HS_unique_member_id_key</th>\n",
       "      <th>HS_book_of_business_nm</th>\n",
       "      <th>HS_claim_location_country_cd</th>\n",
       "      <th>HS_claim_location_country_nm</th>\n",
       "      <th>HS_region</th>\n",
       "      <th>HS_claim_type_nm</th>\n",
       "      <th>HS_icd_10_cm_code</th>\n",
       "      <th>HS_diagnosis_1_desc</th>\n",
       "      <th>HS_ccsr_category_1_description</th>\n",
       "      <th>HS_is_chronic_cd</th>\n",
       "      <th>HS_cm_diagnosis_flag</th>\n",
       "      <th>HS_cm_flag</th>\n",
       "      <th>HS_local_currency_net_amt</th>\n",
       "      <th>HS_member_id</th>\n",
       "      <th>ICD_code_2023</th>\n",
       "      <th>ICD_10_CM_CODE_DESCRIPTION_2023</th>\n",
       "      <th>Default_CCSR_CATEGORY_IP_2023</th>\n",
       "      <th>Default_CCSR_CATEGORY_DESCRIPTION_IP_2023</th>\n",
       "      <th>Default_CCSR_CATEGORY_OP_2023</th>\n",
       "      <th>Default_CCSR_CATEGORY_DESCRIPTION_OP_2023</th>\n",
       "      <th>CCS_CATEGORY_2019</th>\n",
       "      <th>CCS_CATEGORY_DESCRIPTION_2019</th>\n",
       "      <th>icd_code_2019</th>\n",
       "      <th>ICD_10_CM_CODE_DESCRIPTION_2019</th>\n",
       "      <th>CCS_LVL_1_code_2019</th>\n",
       "      <th>CCSR_CATEGORY_1_2023</th>\n",
       "      <th>CCSR_CATEGORY_1_DESCRIPTION_2023</th>\n",
       "      <th>CCS_LVL_1_Description_2019</th>\n",
       "      <th>CCS_LVL_2_code_2019</th>\n",
       "      <th>CCS_LVL_2_Description_2019</th>\n",
       "      <th>CCSR_Body_System_Abbreviation_2023</th>\n",
       "      <th>ICD_2023_code_abr</th>\n",
       "      <th>ICD_10_code_book_chapter_2023</th>\n",
       "      <th>ICD_CODE_BUCKET_HS_CCSR_2023</th>\n",
       "      <th>CCS_chapter_number_2019</th>\n",
       "      <th>CCS_Body_System_Abbreviation_2019</th>\n",
       "      <th>IVD_9_code_diagnosis chapters</th>\n",
       "      <th>CCS_LEVEL1_CHAPTER_NAME_BUCKET</th>\n",
       "      <th>HS_ICD_code_Abr</th>\n",
       "      <th>CODE_range_first_three_characters</th>\n",
       "      <th>CCSR_Body_sys_ABR_mapped_HS_CODE</th>\n",
       "      <th>ICD_10_chapter_mapped_HS_CODE</th>\n",
       "      <th>CCSR_CHAPTER_CODE_BUCKET</th>\n",
       "    </tr>\n",
       "  </thead>\n",
       "  <tbody>\n",
       "    <tr>\n",
       "      <th>0</th>\n",
       "      <td>116247352</td>\n",
       "      <td>10451819</td>\n",
       "      <td>Americas</td>\n",
       "      <td>USA</td>\n",
       "      <td>United States of America (the)</td>\n",
       "      <td>Americas</td>\n",
       "      <td>OP</td>\n",
       "      <td>Z363</td>\n",
       "      <td>ENC ANT SCRN MALFRMT</td>\n",
       "      <td>Antenatal screening</td>\n",
       "      <td>N</td>\n",
       "      <td>NaN</td>\n",
       "      <td>False</td>\n",
       "      <td>1420.50</td>\n",
       "      <td>7.012551e+10</td>\n",
       "      <td>Z363</td>\n",
       "      <td>Encounter for antenatal screening for malforma...</td>\n",
       "      <td>PRG001</td>\n",
       "      <td>Antenatal screening</td>\n",
       "      <td>PRG001</td>\n",
       "      <td>Antenatal screening</td>\n",
       "      <td>258.0</td>\n",
       "      <td>Other screening for suspected conditions (not ...</td>\n",
       "      <td>Z363</td>\n",
       "      <td>Encounter for antenatal screening for malforma...</td>\n",
       "      <td>17.0</td>\n",
       "      <td>PRG001</td>\n",
       "      <td>Antenatal screening</td>\n",
       "      <td>Symptoms; signs; and ill-defined conditions an...</td>\n",
       "      <td>17.2</td>\n",
       "      <td>Factors influencing health care</td>\n",
       "      <td>FAC</td>\n",
       "      <td>Z36</td>\n",
       "      <td>Factors influencing health status and contact ...</td>\n",
       "      <td>both</td>\n",
       "      <td>17.0</td>\n",
       "      <td>Other_conditions</td>\n",
       "      <td>Symptoms; signs; and ill-defined conditions an...</td>\n",
       "      <td>both</td>\n",
       "      <td>Z36</td>\n",
       "      <td>Z36</td>\n",
       "      <td>FAC</td>\n",
       "      <td>Factors influencing health status and contact ...</td>\n",
       "      <td>both</td>\n",
       "    </tr>\n",
       "    <tr>\n",
       "      <th>1</th>\n",
       "      <td>112821455</td>\n",
       "      <td>11274519</td>\n",
       "      <td>Americas</td>\n",
       "      <td>USA</td>\n",
       "      <td>United States of America (the)</td>\n",
       "      <td>Americas</td>\n",
       "      <td>OP</td>\n",
       "      <td>D571</td>\n",
       "      <td>SICKLE-CELL DISEASE WITH</td>\n",
       "      <td>Sickle cell trait/anemia</td>\n",
       "      <td>C</td>\n",
       "      <td>NaN</td>\n",
       "      <td>False</td>\n",
       "      <td>32.08</td>\n",
       "      <td>2.099007e+10</td>\n",
       "      <td>D571</td>\n",
       "      <td>Sickle-cell disease without crisis</td>\n",
       "      <td>BLD005</td>\n",
       "      <td>Sickle cell trait/anemia</td>\n",
       "      <td>BLD005</td>\n",
       "      <td>Sickle cell trait/anemia</td>\n",
       "      <td>61.0</td>\n",
       "      <td>Sickle cell anemia</td>\n",
       "      <td>D571</td>\n",
       "      <td>Sickle-cell disease without crisis</td>\n",
       "      <td>4.0</td>\n",
       "      <td>BLD005</td>\n",
       "      <td>Sickle cell trait/anemia</td>\n",
       "      <td>Diseases of the blood and blood-forming organs</td>\n",
       "      <td>4.1</td>\n",
       "      <td>Anemia</td>\n",
       "      <td>BLD</td>\n",
       "      <td>D57</td>\n",
       "      <td>Diseases of the blood and blood-forming organs...</td>\n",
       "      <td>both</td>\n",
       "      <td>4.0</td>\n",
       "      <td>BLD</td>\n",
       "      <td>Diseases of the blood and blood-forming organs</td>\n",
       "      <td>both</td>\n",
       "      <td>D57</td>\n",
       "      <td>D57</td>\n",
       "      <td>BLD</td>\n",
       "      <td>Diseases of the blood and blood-forming organs...</td>\n",
       "      <td>both</td>\n",
       "    </tr>\n",
       "    <tr>\n",
       "      <th>2</th>\n",
       "      <td>112821455</td>\n",
       "      <td>11274519</td>\n",
       "      <td>Americas</td>\n",
       "      <td>USA</td>\n",
       "      <td>United States of America (the)</td>\n",
       "      <td>Americas</td>\n",
       "      <td>OP</td>\n",
       "      <td>D571</td>\n",
       "      <td>SICKLE-CELL DISEASE WITH</td>\n",
       "      <td>Sickle cell trait/anemia</td>\n",
       "      <td>C</td>\n",
       "      <td>NaN</td>\n",
       "      <td>False</td>\n",
       "      <td>80.22</td>\n",
       "      <td>2.099007e+10</td>\n",
       "      <td>D571</td>\n",
       "      <td>Sickle-cell disease without crisis</td>\n",
       "      <td>BLD005</td>\n",
       "      <td>Sickle cell trait/anemia</td>\n",
       "      <td>BLD005</td>\n",
       "      <td>Sickle cell trait/anemia</td>\n",
       "      <td>61.0</td>\n",
       "      <td>Sickle cell anemia</td>\n",
       "      <td>D571</td>\n",
       "      <td>Sickle-cell disease without crisis</td>\n",
       "      <td>4.0</td>\n",
       "      <td>BLD005</td>\n",
       "      <td>Sickle cell trait/anemia</td>\n",
       "      <td>Diseases of the blood and blood-forming organs</td>\n",
       "      <td>4.1</td>\n",
       "      <td>Anemia</td>\n",
       "      <td>BLD</td>\n",
       "      <td>D57</td>\n",
       "      <td>Diseases of the blood and blood-forming organs...</td>\n",
       "      <td>both</td>\n",
       "      <td>4.0</td>\n",
       "      <td>BLD</td>\n",
       "      <td>Diseases of the blood and blood-forming organs</td>\n",
       "      <td>both</td>\n",
       "      <td>D57</td>\n",
       "      <td>D57</td>\n",
       "      <td>BLD</td>\n",
       "      <td>Diseases of the blood and blood-forming organs...</td>\n",
       "      <td>both</td>\n",
       "    </tr>\n",
       "  </tbody>\n",
       "</table>\n",
       "</div>"
      ],
      "text/plain": [
       "   HS_claim_num_key  HS_unique_member_id_key HS_book_of_business_nm  \\\n",
       "0         116247352                 10451819               Americas   \n",
       "1         112821455                 11274519               Americas   \n",
       "2         112821455                 11274519               Americas   \n",
       "\n",
       "  HS_claim_location_country_cd    HS_claim_location_country_nm HS_region  \\\n",
       "0                          USA  United States of America (the)  Americas   \n",
       "1                          USA  United States of America (the)  Americas   \n",
       "2                          USA  United States of America (the)  Americas   \n",
       "\n",
       "  HS_claim_type_nm HS_icd_10_cm_code       HS_diagnosis_1_desc  \\\n",
       "0               OP              Z363      ENC ANT SCRN MALFRMT   \n",
       "1               OP              D571  SICKLE-CELL DISEASE WITH   \n",
       "2               OP              D571  SICKLE-CELL DISEASE WITH   \n",
       "\n",
       "  HS_ccsr_category_1_description HS_is_chronic_cd HS_cm_diagnosis_flag  \\\n",
       "0            Antenatal screening                N                  NaN   \n",
       "1       Sickle cell trait/anemia                C                  NaN   \n",
       "2       Sickle cell trait/anemia                C                  NaN   \n",
       "\n",
       "   HS_cm_flag  HS_local_currency_net_amt  HS_member_id ICD_code_2023  \\\n",
       "0       False                    1420.50  7.012551e+10          Z363   \n",
       "1       False                      32.08  2.099007e+10          D571   \n",
       "2       False                      80.22  2.099007e+10          D571   \n",
       "\n",
       "                     ICD_10_CM_CODE_DESCRIPTION_2023  \\\n",
       "0  Encounter for antenatal screening for malforma...   \n",
       "1                 Sickle-cell disease without crisis   \n",
       "2                 Sickle-cell disease without crisis   \n",
       "\n",
       "  Default_CCSR_CATEGORY_IP_2023 Default_CCSR_CATEGORY_DESCRIPTION_IP_2023  \\\n",
       "0                        PRG001                       Antenatal screening   \n",
       "1                        BLD005                  Sickle cell trait/anemia   \n",
       "2                        BLD005                  Sickle cell trait/anemia   \n",
       "\n",
       "  Default_CCSR_CATEGORY_OP_2023 Default_CCSR_CATEGORY_DESCRIPTION_OP_2023  \\\n",
       "0                        PRG001                       Antenatal screening   \n",
       "1                        BLD005                  Sickle cell trait/anemia   \n",
       "2                        BLD005                  Sickle cell trait/anemia   \n",
       "\n",
       "   CCS_CATEGORY_2019                      CCS_CATEGORY_DESCRIPTION_2019  \\\n",
       "0              258.0  Other screening for suspected conditions (not ...   \n",
       "1               61.0                                 Sickle cell anemia   \n",
       "2               61.0                                 Sickle cell anemia   \n",
       "\n",
       "  icd_code_2019                    ICD_10_CM_CODE_DESCRIPTION_2019  \\\n",
       "0          Z363  Encounter for antenatal screening for malforma...   \n",
       "1          D571                 Sickle-cell disease without crisis   \n",
       "2          D571                 Sickle-cell disease without crisis   \n",
       "\n",
       "   CCS_LVL_1_code_2019 CCSR_CATEGORY_1_2023 CCSR_CATEGORY_1_DESCRIPTION_2023  \\\n",
       "0                 17.0               PRG001              Antenatal screening   \n",
       "1                  4.0               BLD005         Sickle cell trait/anemia   \n",
       "2                  4.0               BLD005         Sickle cell trait/anemia   \n",
       "\n",
       "                          CCS_LVL_1_Description_2019 CCS_LVL_2_code_2019  \\\n",
       "0  Symptoms; signs; and ill-defined conditions an...                17.2   \n",
       "1     Diseases of the blood and blood-forming organs                 4.1   \n",
       "2     Diseases of the blood and blood-forming organs                 4.1   \n",
       "\n",
       "        CCS_LVL_2_Description_2019 CCSR_Body_System_Abbreviation_2023  \\\n",
       "0  Factors influencing health care                                FAC   \n",
       "1                           Anemia                                BLD   \n",
       "2                           Anemia                                BLD   \n",
       "\n",
       "  ICD_2023_code_abr                      ICD_10_code_book_chapter_2023  \\\n",
       "0               Z36  Factors influencing health status and contact ...   \n",
       "1               D57  Diseases of the blood and blood-forming organs...   \n",
       "2               D57  Diseases of the blood and blood-forming organs...   \n",
       "\n",
       "  ICD_CODE_BUCKET_HS_CCSR_2023  CCS_chapter_number_2019  \\\n",
       "0                         both                     17.0   \n",
       "1                         both                      4.0   \n",
       "2                         both                      4.0   \n",
       "\n",
       "  CCS_Body_System_Abbreviation_2019  \\\n",
       "0                  Other_conditions   \n",
       "1                               BLD   \n",
       "2                               BLD   \n",
       "\n",
       "                       IVD_9_code_diagnosis chapters  \\\n",
       "0  Symptoms; signs; and ill-defined conditions an...   \n",
       "1    Diseases of the blood and blood-forming organs    \n",
       "2    Diseases of the blood and blood-forming organs    \n",
       "\n",
       "  CCS_LEVEL1_CHAPTER_NAME_BUCKET HS_ICD_code_Abr  \\\n",
       "0                           both             Z36   \n",
       "1                           both             D57   \n",
       "2                           both             D57   \n",
       "\n",
       "  CODE_range_first_three_characters CCSR_Body_sys_ABR_mapped_HS_CODE  \\\n",
       "0                               Z36                              FAC   \n",
       "1                               D57                              BLD   \n",
       "2                               D57                              BLD   \n",
       "\n",
       "                       ICD_10_chapter_mapped_HS_CODE CCSR_CHAPTER_CODE_BUCKET  \n",
       "0  Factors influencing health status and contact ...                     both  \n",
       "1  Diseases of the blood and blood-forming organs...                     both  \n",
       "2  Diseases of the blood and blood-forming organs...                     both  "
      ]
     },
     "execution_count": 43,
     "metadata": {},
     "output_type": "execute_result"
    }
   ],
   "source": [
    "HEALTH_STATE_MAP_final.head(3)"
   ]
  },
  {
   "cell_type": "code",
   "execution_count": 44,
   "id": "1b7d16c7",
   "metadata": {
    "tags": []
   },
   "outputs": [
    {
     "data": {
      "text/plain": [
       "CCSR_CHAPTER_CODE_BUCKET\n",
       "both          607554\n",
       "left_only       1414\n",
       "right_only         0\n",
       "Name: count, dtype: int64"
      ]
     },
     "execution_count": 44,
     "metadata": {},
     "output_type": "execute_result"
    }
   ],
   "source": [
    "HEALTH_STATE_MAP_final['CCSR_CHAPTER_CODE_BUCKET'].value_counts()"
   ]
  },
  {
   "cell_type": "code",
   "execution_count": 45,
   "id": "5581a464-8c9b-466f-bf0c-128f8a7aa362",
   "metadata": {
    "tags": []
   },
   "outputs": [
    {
     "data": {
      "text/plain": [
       "CCSR_CHAPTER_CODE_BUCKET\n",
       "both          99.77%\n",
       "left_only      0.23%\n",
       "right_only      0.0%\n",
       "Name: proportion, dtype: object"
      ]
     },
     "execution_count": 45,
     "metadata": {},
     "output_type": "execute_result"
    }
   ],
   "source": [
    "HEALTH_STATE_MAP_final['CCSR_CHAPTER_CODE_BUCKET'].value_counts(normalize=True)\\\n",
    ".mul(100).round(2).astype(str)+'%'"
   ]
  },
  {
   "cell_type": "code",
   "execution_count": 46,
   "id": "647603ba-4a48-41e4-867e-f20f9e77cc80",
   "metadata": {
    "tags": []
   },
   "outputs": [
    {
     "data": {
      "text/html": [
       "<div>\n",
       "<style scoped>\n",
       "    .dataframe tbody tr th:only-of-type {\n",
       "        vertical-align: middle;\n",
       "    }\n",
       "\n",
       "    .dataframe tbody tr th {\n",
       "        vertical-align: top;\n",
       "    }\n",
       "\n",
       "    .dataframe thead th {\n",
       "        text-align: right;\n",
       "    }\n",
       "</style>\n",
       "<table border=\"1\" class=\"dataframe\">\n",
       "  <thead>\n",
       "    <tr style=\"text-align: right;\">\n",
       "      <th></th>\n",
       "      <th>HS_claim_num_key</th>\n",
       "      <th>HS_unique_member_id_key</th>\n",
       "      <th>HS_book_of_business_nm</th>\n",
       "      <th>HS_claim_location_country_cd</th>\n",
       "      <th>HS_claim_location_country_nm</th>\n",
       "      <th>HS_region</th>\n",
       "      <th>HS_claim_type_nm</th>\n",
       "      <th>HS_icd_10_cm_code</th>\n",
       "      <th>HS_diagnosis_1_desc</th>\n",
       "      <th>HS_ccsr_category_1_description</th>\n",
       "      <th>HS_is_chronic_cd</th>\n",
       "      <th>HS_cm_diagnosis_flag</th>\n",
       "      <th>HS_cm_flag</th>\n",
       "      <th>HS_local_currency_net_amt</th>\n",
       "      <th>HS_member_id</th>\n",
       "      <th>ICD_code_2023</th>\n",
       "      <th>ICD_10_CM_CODE_DESCRIPTION_2023</th>\n",
       "      <th>Default_CCSR_CATEGORY_IP_2023</th>\n",
       "      <th>Default_CCSR_CATEGORY_DESCRIPTION_IP_2023</th>\n",
       "      <th>Default_CCSR_CATEGORY_OP_2023</th>\n",
       "      <th>Default_CCSR_CATEGORY_DESCRIPTION_OP_2023</th>\n",
       "      <th>CCS_CATEGORY_2019</th>\n",
       "      <th>CCS_CATEGORY_DESCRIPTION_2019</th>\n",
       "      <th>icd_code_2019</th>\n",
       "      <th>ICD_10_CM_CODE_DESCRIPTION_2019</th>\n",
       "      <th>CCS_LVL_1_code_2019</th>\n",
       "      <th>CCSR_CATEGORY_1_2023</th>\n",
       "      <th>CCSR_CATEGORY_1_DESCRIPTION_2023</th>\n",
       "      <th>CCS_LVL_1_Description_2019</th>\n",
       "      <th>CCS_LVL_2_code_2019</th>\n",
       "      <th>CCS_LVL_2_Description_2019</th>\n",
       "      <th>CCSR_Body_System_Abbreviation_2023</th>\n",
       "      <th>ICD_2023_code_abr</th>\n",
       "      <th>ICD_10_code_book_chapter_2023</th>\n",
       "      <th>ICD_CODE_BUCKET_HS_CCSR_2023</th>\n",
       "      <th>CCS_chapter_number_2019</th>\n",
       "      <th>CCS_Body_System_Abbreviation_2019</th>\n",
       "      <th>IVD_9_code_diagnosis chapters</th>\n",
       "      <th>CCS_LEVEL1_CHAPTER_NAME_BUCKET</th>\n",
       "      <th>HS_ICD_code_Abr</th>\n",
       "      <th>CODE_range_first_three_characters</th>\n",
       "      <th>CCSR_Body_sys_ABR_mapped_HS_CODE</th>\n",
       "      <th>ICD_10_chapter_mapped_HS_CODE</th>\n",
       "      <th>CCSR_CHAPTER_CODE_BUCKET</th>\n",
       "    </tr>\n",
       "  </thead>\n",
       "  <tbody>\n",
       "    <tr>\n",
       "      <th>10543</th>\n",
       "      <td>113451772</td>\n",
       "      <td>12071530</td>\n",
       "      <td>Americas</td>\n",
       "      <td>USA</td>\n",
       "      <td>United States of America (the)</td>\n",
       "      <td>Americas</td>\n",
       "      <td>OP</td>\n",
       "      <td>72990</td>\n",
       "      <td>DISORDERS SOFT TISSUE UN</td>\n",
       "      <td>NaN</td>\n",
       "      <td>NaN</td>\n",
       "      <td>NaN</td>\n",
       "      <td>False</td>\n",
       "      <td>0.00</td>\n",
       "      <td>2.106051e+10</td>\n",
       "      <td>NaN</td>\n",
       "      <td>NaN</td>\n",
       "      <td>NaN</td>\n",
       "      <td>NaN</td>\n",
       "      <td>NaN</td>\n",
       "      <td>NaN</td>\n",
       "      <td>NaN</td>\n",
       "      <td>NaN</td>\n",
       "      <td>NaN</td>\n",
       "      <td>NaN</td>\n",
       "      <td>NaN</td>\n",
       "      <td>NaN</td>\n",
       "      <td>NaN</td>\n",
       "      <td>NaN</td>\n",
       "      <td>NaN</td>\n",
       "      <td>NaN</td>\n",
       "      <td>NaN</td>\n",
       "      <td>NaN</td>\n",
       "      <td>NaN</td>\n",
       "      <td>left_only</td>\n",
       "      <td>NaN</td>\n",
       "      <td>NaN</td>\n",
       "      <td>NaN</td>\n",
       "      <td>left_only</td>\n",
       "      <td>729</td>\n",
       "      <td>NaN</td>\n",
       "      <td>NaN</td>\n",
       "      <td>NaN</td>\n",
       "      <td>left_only</td>\n",
       "    </tr>\n",
       "    <tr>\n",
       "      <th>10544</th>\n",
       "      <td>113451772</td>\n",
       "      <td>12071530</td>\n",
       "      <td>Americas</td>\n",
       "      <td>USA</td>\n",
       "      <td>United States of America (the)</td>\n",
       "      <td>Americas</td>\n",
       "      <td>OP</td>\n",
       "      <td>72990</td>\n",
       "      <td>DISORDERS SOFT TISSUE UN</td>\n",
       "      <td>NaN</td>\n",
       "      <td>NaN</td>\n",
       "      <td>NaN</td>\n",
       "      <td>False</td>\n",
       "      <td>0.00</td>\n",
       "      <td>2.106051e+10</td>\n",
       "      <td>NaN</td>\n",
       "      <td>NaN</td>\n",
       "      <td>NaN</td>\n",
       "      <td>NaN</td>\n",
       "      <td>NaN</td>\n",
       "      <td>NaN</td>\n",
       "      <td>NaN</td>\n",
       "      <td>NaN</td>\n",
       "      <td>NaN</td>\n",
       "      <td>NaN</td>\n",
       "      <td>NaN</td>\n",
       "      <td>NaN</td>\n",
       "      <td>NaN</td>\n",
       "      <td>NaN</td>\n",
       "      <td>NaN</td>\n",
       "      <td>NaN</td>\n",
       "      <td>NaN</td>\n",
       "      <td>NaN</td>\n",
       "      <td>NaN</td>\n",
       "      <td>left_only</td>\n",
       "      <td>NaN</td>\n",
       "      <td>NaN</td>\n",
       "      <td>NaN</td>\n",
       "      <td>left_only</td>\n",
       "      <td>729</td>\n",
       "      <td>NaN</td>\n",
       "      <td>NaN</td>\n",
       "      <td>NaN</td>\n",
       "      <td>left_only</td>\n",
       "    </tr>\n",
       "    <tr>\n",
       "      <th>10545</th>\n",
       "      <td>113451772</td>\n",
       "      <td>12071530</td>\n",
       "      <td>Americas</td>\n",
       "      <td>USA</td>\n",
       "      <td>United States of America (the)</td>\n",
       "      <td>Americas</td>\n",
       "      <td>OP</td>\n",
       "      <td>72990</td>\n",
       "      <td>DISORDERS SOFT TISSUE UN</td>\n",
       "      <td>NaN</td>\n",
       "      <td>NaN</td>\n",
       "      <td>NaN</td>\n",
       "      <td>False</td>\n",
       "      <td>0.00</td>\n",
       "      <td>2.106051e+10</td>\n",
       "      <td>NaN</td>\n",
       "      <td>NaN</td>\n",
       "      <td>NaN</td>\n",
       "      <td>NaN</td>\n",
       "      <td>NaN</td>\n",
       "      <td>NaN</td>\n",
       "      <td>NaN</td>\n",
       "      <td>NaN</td>\n",
       "      <td>NaN</td>\n",
       "      <td>NaN</td>\n",
       "      <td>NaN</td>\n",
       "      <td>NaN</td>\n",
       "      <td>NaN</td>\n",
       "      <td>NaN</td>\n",
       "      <td>NaN</td>\n",
       "      <td>NaN</td>\n",
       "      <td>NaN</td>\n",
       "      <td>NaN</td>\n",
       "      <td>NaN</td>\n",
       "      <td>left_only</td>\n",
       "      <td>NaN</td>\n",
       "      <td>NaN</td>\n",
       "      <td>NaN</td>\n",
       "      <td>left_only</td>\n",
       "      <td>729</td>\n",
       "      <td>NaN</td>\n",
       "      <td>NaN</td>\n",
       "      <td>NaN</td>\n",
       "      <td>left_only</td>\n",
       "    </tr>\n",
       "    <tr>\n",
       "      <th>32012</th>\n",
       "      <td>112855153</td>\n",
       "      <td>11852092</td>\n",
       "      <td>Americas</td>\n",
       "      <td>EGY</td>\n",
       "      <td>Egypt</td>\n",
       "      <td>Africa</td>\n",
       "      <td>OP</td>\n",
       "      <td>RTNIMM</td>\n",
       "      <td>Routine Child Immunizati</td>\n",
       "      <td>NaN</td>\n",
       "      <td>NaN</td>\n",
       "      <td>NaN</td>\n",
       "      <td>False</td>\n",
       "      <td>31.78</td>\n",
       "      <td>2.034582e+10</td>\n",
       "      <td>NaN</td>\n",
       "      <td>NaN</td>\n",
       "      <td>NaN</td>\n",
       "      <td>NaN</td>\n",
       "      <td>NaN</td>\n",
       "      <td>NaN</td>\n",
       "      <td>NaN</td>\n",
       "      <td>NaN</td>\n",
       "      <td>NaN</td>\n",
       "      <td>NaN</td>\n",
       "      <td>NaN</td>\n",
       "      <td>NaN</td>\n",
       "      <td>NaN</td>\n",
       "      <td>NaN</td>\n",
       "      <td>NaN</td>\n",
       "      <td>NaN</td>\n",
       "      <td>NaN</td>\n",
       "      <td>NaN</td>\n",
       "      <td>NaN</td>\n",
       "      <td>left_only</td>\n",
       "      <td>NaN</td>\n",
       "      <td>NaN</td>\n",
       "      <td>NaN</td>\n",
       "      <td>left_only</td>\n",
       "      <td>RTN</td>\n",
       "      <td>NaN</td>\n",
       "      <td>NaN</td>\n",
       "      <td>NaN</td>\n",
       "      <td>left_only</td>\n",
       "    </tr>\n",
       "    <tr>\n",
       "      <th>32013</th>\n",
       "      <td>112855153</td>\n",
       "      <td>11852092</td>\n",
       "      <td>Americas</td>\n",
       "      <td>EGY</td>\n",
       "      <td>Egypt</td>\n",
       "      <td>Africa</td>\n",
       "      <td>OP</td>\n",
       "      <td>RTNIMM</td>\n",
       "      <td>Routine Child Immunizati</td>\n",
       "      <td>NaN</td>\n",
       "      <td>NaN</td>\n",
       "      <td>NaN</td>\n",
       "      <td>False</td>\n",
       "      <td>41.32</td>\n",
       "      <td>2.034582e+10</td>\n",
       "      <td>NaN</td>\n",
       "      <td>NaN</td>\n",
       "      <td>NaN</td>\n",
       "      <td>NaN</td>\n",
       "      <td>NaN</td>\n",
       "      <td>NaN</td>\n",
       "      <td>NaN</td>\n",
       "      <td>NaN</td>\n",
       "      <td>NaN</td>\n",
       "      <td>NaN</td>\n",
       "      <td>NaN</td>\n",
       "      <td>NaN</td>\n",
       "      <td>NaN</td>\n",
       "      <td>NaN</td>\n",
       "      <td>NaN</td>\n",
       "      <td>NaN</td>\n",
       "      <td>NaN</td>\n",
       "      <td>NaN</td>\n",
       "      <td>NaN</td>\n",
       "      <td>left_only</td>\n",
       "      <td>NaN</td>\n",
       "      <td>NaN</td>\n",
       "      <td>NaN</td>\n",
       "      <td>left_only</td>\n",
       "      <td>RTN</td>\n",
       "      <td>NaN</td>\n",
       "      <td>NaN</td>\n",
       "      <td>NaN</td>\n",
       "      <td>left_only</td>\n",
       "    </tr>\n",
       "  </tbody>\n",
       "</table>\n",
       "</div>"
      ],
      "text/plain": [
       "       HS_claim_num_key  HS_unique_member_id_key HS_book_of_business_nm  \\\n",
       "10543         113451772                 12071530               Americas   \n",
       "10544         113451772                 12071530               Americas   \n",
       "10545         113451772                 12071530               Americas   \n",
       "32012         112855153                 11852092               Americas   \n",
       "32013         112855153                 11852092               Americas   \n",
       "\n",
       "      HS_claim_location_country_cd    HS_claim_location_country_nm HS_region  \\\n",
       "10543                          USA  United States of America (the)  Americas   \n",
       "10544                          USA  United States of America (the)  Americas   \n",
       "10545                          USA  United States of America (the)  Americas   \n",
       "32012                          EGY                           Egypt    Africa   \n",
       "32013                          EGY                           Egypt    Africa   \n",
       "\n",
       "      HS_claim_type_nm HS_icd_10_cm_code       HS_diagnosis_1_desc  \\\n",
       "10543               OP             72990  DISORDERS SOFT TISSUE UN   \n",
       "10544               OP             72990  DISORDERS SOFT TISSUE UN   \n",
       "10545               OP             72990  DISORDERS SOFT TISSUE UN   \n",
       "32012               OP            RTNIMM  Routine Child Immunizati   \n",
       "32013               OP            RTNIMM  Routine Child Immunizati   \n",
       "\n",
       "      HS_ccsr_category_1_description HS_is_chronic_cd HS_cm_diagnosis_flag  \\\n",
       "10543                            NaN              NaN                  NaN   \n",
       "10544                            NaN              NaN                  NaN   \n",
       "10545                            NaN              NaN                  NaN   \n",
       "32012                            NaN              NaN                  NaN   \n",
       "32013                            NaN              NaN                  NaN   \n",
       "\n",
       "       HS_cm_flag  HS_local_currency_net_amt  HS_member_id ICD_code_2023  \\\n",
       "10543       False                       0.00  2.106051e+10           NaN   \n",
       "10544       False                       0.00  2.106051e+10           NaN   \n",
       "10545       False                       0.00  2.106051e+10           NaN   \n",
       "32012       False                      31.78  2.034582e+10           NaN   \n",
       "32013       False                      41.32  2.034582e+10           NaN   \n",
       "\n",
       "      ICD_10_CM_CODE_DESCRIPTION_2023 Default_CCSR_CATEGORY_IP_2023  \\\n",
       "10543                             NaN                           NaN   \n",
       "10544                             NaN                           NaN   \n",
       "10545                             NaN                           NaN   \n",
       "32012                             NaN                           NaN   \n",
       "32013                             NaN                           NaN   \n",
       "\n",
       "      Default_CCSR_CATEGORY_DESCRIPTION_IP_2023 Default_CCSR_CATEGORY_OP_2023  \\\n",
       "10543                                       NaN                           NaN   \n",
       "10544                                       NaN                           NaN   \n",
       "10545                                       NaN                           NaN   \n",
       "32012                                       NaN                           NaN   \n",
       "32013                                       NaN                           NaN   \n",
       "\n",
       "      Default_CCSR_CATEGORY_DESCRIPTION_OP_2023  CCS_CATEGORY_2019  \\\n",
       "10543                                       NaN                NaN   \n",
       "10544                                       NaN                NaN   \n",
       "10545                                       NaN                NaN   \n",
       "32012                                       NaN                NaN   \n",
       "32013                                       NaN                NaN   \n",
       "\n",
       "      CCS_CATEGORY_DESCRIPTION_2019 icd_code_2019  \\\n",
       "10543                           NaN           NaN   \n",
       "10544                           NaN           NaN   \n",
       "10545                           NaN           NaN   \n",
       "32012                           NaN           NaN   \n",
       "32013                           NaN           NaN   \n",
       "\n",
       "      ICD_10_CM_CODE_DESCRIPTION_2019  CCS_LVL_1_code_2019  \\\n",
       "10543                             NaN                  NaN   \n",
       "10544                             NaN                  NaN   \n",
       "10545                             NaN                  NaN   \n",
       "32012                             NaN                  NaN   \n",
       "32013                             NaN                  NaN   \n",
       "\n",
       "      CCSR_CATEGORY_1_2023 CCSR_CATEGORY_1_DESCRIPTION_2023  \\\n",
       "10543                  NaN                              NaN   \n",
       "10544                  NaN                              NaN   \n",
       "10545                  NaN                              NaN   \n",
       "32012                  NaN                              NaN   \n",
       "32013                  NaN                              NaN   \n",
       "\n",
       "      CCS_LVL_1_Description_2019 CCS_LVL_2_code_2019  \\\n",
       "10543                        NaN                 NaN   \n",
       "10544                        NaN                 NaN   \n",
       "10545                        NaN                 NaN   \n",
       "32012                        NaN                 NaN   \n",
       "32013                        NaN                 NaN   \n",
       "\n",
       "      CCS_LVL_2_Description_2019 CCSR_Body_System_Abbreviation_2023  \\\n",
       "10543                        NaN                                NaN   \n",
       "10544                        NaN                                NaN   \n",
       "10545                        NaN                                NaN   \n",
       "32012                        NaN                                NaN   \n",
       "32013                        NaN                                NaN   \n",
       "\n",
       "      ICD_2023_code_abr ICD_10_code_book_chapter_2023  \\\n",
       "10543               NaN                           NaN   \n",
       "10544               NaN                           NaN   \n",
       "10545               NaN                           NaN   \n",
       "32012               NaN                           NaN   \n",
       "32013               NaN                           NaN   \n",
       "\n",
       "      ICD_CODE_BUCKET_HS_CCSR_2023  CCS_chapter_number_2019  \\\n",
       "10543                    left_only                      NaN   \n",
       "10544                    left_only                      NaN   \n",
       "10545                    left_only                      NaN   \n",
       "32012                    left_only                      NaN   \n",
       "32013                    left_only                      NaN   \n",
       "\n",
       "      CCS_Body_System_Abbreviation_2019 IVD_9_code_diagnosis chapters  \\\n",
       "10543                               NaN                           NaN   \n",
       "10544                               NaN                           NaN   \n",
       "10545                               NaN                           NaN   \n",
       "32012                               NaN                           NaN   \n",
       "32013                               NaN                           NaN   \n",
       "\n",
       "      CCS_LEVEL1_CHAPTER_NAME_BUCKET HS_ICD_code_Abr  \\\n",
       "10543                      left_only             729   \n",
       "10544                      left_only             729   \n",
       "10545                      left_only             729   \n",
       "32012                      left_only             RTN   \n",
       "32013                      left_only             RTN   \n",
       "\n",
       "      CODE_range_first_three_characters CCSR_Body_sys_ABR_mapped_HS_CODE  \\\n",
       "10543                               NaN                              NaN   \n",
       "10544                               NaN                              NaN   \n",
       "10545                               NaN                              NaN   \n",
       "32012                               NaN                              NaN   \n",
       "32013                               NaN                              NaN   \n",
       "\n",
       "      ICD_10_chapter_mapped_HS_CODE CCSR_CHAPTER_CODE_BUCKET  \n",
       "10543                           NaN                left_only  \n",
       "10544                           NaN                left_only  \n",
       "10545                           NaN                left_only  \n",
       "32012                           NaN                left_only  \n",
       "32013                           NaN                left_only  "
      ]
     },
     "execution_count": 46,
     "metadata": {},
     "output_type": "execute_result"
    }
   ],
   "source": [
    "HEALTH_STATE_MAP_final[HEALTH_STATE_MAP_final['CCSR_CHAPTER_CODE_BUCKET']=='left_only'].head(5)"
   ]
  },
  {
   "cell_type": "code",
   "execution_count": 47,
   "id": "015cabb2",
   "metadata": {
    "collapsed": true,
    "jupyter": {
     "outputs_hidden": true
    },
    "tags": []
   },
   "outputs": [
    {
     "name": "stdout",
     "output_type": "stream",
     "text": [
      "<class 'pandas.core.frame.DataFrame'>\n",
      "RangeIndex: 608968 entries, 0 to 608967\n",
      "Data columns (total 44 columns):\n",
      " #   Column                                     Non-Null Count   Dtype   \n",
      "---  ------                                     --------------   -----   \n",
      " 0   HS_claim_num_key                           608968 non-null  int64   \n",
      " 1   HS_unique_member_id_key                    608968 non-null  int64   \n",
      " 2   HS_book_of_business_nm                     608718 non-null  object  \n",
      " 3   HS_claim_location_country_cd               608968 non-null  object  \n",
      " 4   HS_claim_location_country_nm               608968 non-null  object  \n",
      " 5   HS_region                                  608968 non-null  object  \n",
      " 6   HS_claim_type_nm                           602712 non-null  object  \n",
      " 7   HS_icd_10_cm_code                          608957 non-null  object  \n",
      " 8   HS_diagnosis_1_desc                        608957 non-null  object  \n",
      " 9   HS_ccsr_category_1_description             524448 non-null  object  \n",
      " 10  HS_is_chronic_cd                           524448 non-null  object  \n",
      " 11  HS_cm_diagnosis_flag                       15062 non-null   object  \n",
      " 12  HS_cm_flag                                 608968 non-null  bool    \n",
      " 13  HS_local_currency_net_amt                  608968 non-null  float64 \n",
      " 14  HS_member_id                               603987 non-null  float64 \n",
      " 15  ICD_code_2023                              565126 non-null  object  \n",
      " 16  ICD_10_CM_CODE_DESCRIPTION_2023            565126 non-null  object  \n",
      " 17  Default_CCSR_CATEGORY_IP_2023              565126 non-null  object  \n",
      " 18  Default_CCSR_CATEGORY_DESCRIPTION_IP_2023  565126 non-null  object  \n",
      " 19  Default_CCSR_CATEGORY_OP_2023              565126 non-null  object  \n",
      " 20  Default_CCSR_CATEGORY_DESCRIPTION_OP_2023  565126 non-null  object  \n",
      " 21  CCS_CATEGORY_2019                          510536 non-null  float64 \n",
      " 22  CCS_CATEGORY_DESCRIPTION_2019              510536 non-null  object  \n",
      " 23  icd_code_2019                              510536 non-null  object  \n",
      " 24  ICD_10_CM_CODE_DESCRIPTION_2019            510536 non-null  object  \n",
      " 25  CCS_LVL_1_code_2019                        510536 non-null  float64 \n",
      " 26  CCSR_CATEGORY_1_2023                       565126 non-null  object  \n",
      " 27  CCSR_CATEGORY_1_DESCRIPTION_2023           565126 non-null  object  \n",
      " 28  CCS_LVL_1_Description_2019                 510536 non-null  object  \n",
      " 29  CCS_LVL_2_code_2019                        510536 non-null  object  \n",
      " 30  CCS_LVL_2_Description_2019                 510536 non-null  object  \n",
      " 31  CCSR_Body_System_Abbreviation_2023         565126 non-null  object  \n",
      " 32  ICD_2023_code_abr                          565126 non-null  object  \n",
      " 33  ICD_10_code_book_chapter_2023              565126 non-null  object  \n",
      " 34  ICD_CODE_BUCKET_HS_CCSR_2023               608968 non-null  category\n",
      " 35  CCS_chapter_number_2019                    510536 non-null  float64 \n",
      " 36  CCS_Body_System_Abbreviation_2019          510536 non-null  object  \n",
      " 37  IVD_9_code_diagnosis chapters              510536 non-null  object  \n",
      " 38  CCS_LEVEL1_CHAPTER_NAME_BUCKET             608968 non-null  category\n",
      " 39  HS_ICD_code_Abr                            608957 non-null  object  \n",
      " 40  CODE_range_first_three_characters          607554 non-null  object  \n",
      " 41  CCSR_Body_sys_ABR_mapped_HS_CODE           607554 non-null  object  \n",
      " 42  ICD_10_chapter_mapped_HS_CODE              607554 non-null  object  \n",
      " 43  CCSR_CHAPTER_CODE_BUCKET                   608968 non-null  category\n",
      "dtypes: bool(1), category(3), float64(5), int64(2), object(33)\n",
      "memory usage: 188.2+ MB\n"
     ]
    }
   ],
   "source": [
    "HEALTH_STATE_MAP_final.info()"
   ]
  },
  {
   "cell_type": "markdown",
   "id": "976e117e-6c7c-493d-9b61-d24a6ec4effb",
   "metadata": {},
   "source": [
    "# Rearrgane columns as required"
   ]
  },
  {
   "cell_type": "code",
   "execution_count": 48,
   "id": "683cd71e",
   "metadata": {
    "collapsed": true,
    "jupyter": {
     "outputs_hidden": true
    },
    "tags": []
   },
   "outputs": [
    {
     "ename": "IndexError",
     "evalue": "positional indexers are out-of-bounds",
     "output_type": "error",
     "traceback": [
      "\u001b[0;31m---------------------------------------------------------------------------\u001b[0m",
      "\u001b[0;31mIndexError\u001b[0m                                Traceback (most recent call last)",
      "Cell \u001b[0;32mIn[48], line 1\u001b[0m\n\u001b[0;32m----> 1\u001b[0m HEALTH_STATE_MAP_final\u001b[38;5;241m=\u001b[39m\u001b[43mHEALTH_STATE_MAP_final\u001b[49m\u001b[38;5;241;43m.\u001b[39;49m\u001b[43miloc\u001b[49m\u001b[43m[\u001b[49m\u001b[43m:\u001b[49m\u001b[43m,\u001b[49m\u001b[43m[\u001b[49m\u001b[38;5;241;43m0\u001b[39;49m\u001b[43m,\u001b[49m\u001b[38;5;241;43m1\u001b[39;49m\u001b[43m,\u001b[49m\u001b[38;5;241;43m2\u001b[39;49m\u001b[43m,\u001b[49m\u001b[38;5;241;43m3\u001b[39;49m\u001b[43m,\u001b[49m\u001b[38;5;241;43m4\u001b[39;49m\u001b[43m,\u001b[49m\u001b[38;5;241;43m5\u001b[39;49m\u001b[43m,\u001b[49m\u001b[38;5;241;43m6\u001b[39;49m\u001b[43m,\u001b[49m\u001b[38;5;241;43m7\u001b[39;49m\u001b[43m,\u001b[49m\u001b[38;5;241;43m8\u001b[39;49m\u001b[43m,\u001b[49m\u001b[38;5;241;43m9\u001b[39;49m\u001b[43m,\u001b[49m\u001b[38;5;241;43m10\u001b[39;49m\u001b[43m,\u001b[49m\u001b[38;5;241;43m11\u001b[39;49m\u001b[43m,\u001b[49m\u001b[38;5;241;43m12\u001b[39;49m\u001b[43m,\u001b[49m\u001b[38;5;241;43m13\u001b[39;49m\u001b[43m,\u001b[49m\n\u001b[1;32m      2\u001b[0m \u001b[43m                                                      \u001b[49m\u001b[38;5;241;43m14\u001b[39;49m\u001b[43m,\u001b[49m\u001b[38;5;241;43m15\u001b[39;49m\u001b[43m,\u001b[49m\u001b[38;5;241;43m16\u001b[39;49m\u001b[43m,\u001b[49m\u001b[38;5;241;43m17\u001b[39;49m\u001b[43m,\u001b[49m\u001b[38;5;241;43m18\u001b[39;49m\u001b[43m,\u001b[49m\u001b[38;5;241;43m19\u001b[39;49m\u001b[43m,\u001b[49m\u001b[38;5;241;43m20\u001b[39;49m\u001b[43m,\u001b[49m\u001b[38;5;241;43m21\u001b[39;49m\u001b[43m,\u001b[49m\u001b[43m \u001b[49m\n\u001b[1;32m      3\u001b[0m \u001b[43m                                                      \u001b[49m\u001b[38;5;241;43m27\u001b[39;49m\u001b[43m,\u001b[49m\u001b[38;5;241;43m28\u001b[39;49m\u001b[43m,\u001b[49m\u001b[38;5;241;43m24\u001b[39;49m\u001b[43m,\u001b[49m\u001b[38;5;241;43m25\u001b[39;49m\u001b[43m,\u001b[49m\u001b[38;5;241;43m22\u001b[39;49m\u001b[43m,\u001b[49m\u001b[38;5;241;43m23\u001b[39;49m\u001b[43m,\u001b[49m\u001b[38;5;241;43m26\u001b[39;49m\u001b[43m,\u001b[49m\u001b[38;5;241;43m29\u001b[39;49m\u001b[43m,\u001b[49m\n\u001b[1;32m      4\u001b[0m \u001b[43m                                                      \u001b[49m\u001b[38;5;241;43m30\u001b[39;49m\u001b[43m,\u001b[49m\u001b[38;5;241;43m31\u001b[39;49m\u001b[43m,\u001b[49m\u001b[38;5;241;43m32\u001b[39;49m\u001b[43m,\u001b[49m\u001b[38;5;241;43m33\u001b[39;49m\u001b[43m,\u001b[49m\u001b[38;5;241;43m34\u001b[39;49m\u001b[43m,\u001b[49m\u001b[38;5;241;43m35\u001b[39;49m\u001b[43m,\u001b[49m\u001b[38;5;241;43m36\u001b[39;49m\u001b[43m,\u001b[49m\u001b[38;5;241;43m37\u001b[39;49m\u001b[43m,\u001b[49m\u001b[38;5;241;43m38\u001b[39;49m\u001b[43m,\u001b[49m\u001b[38;5;241;43m39\u001b[39;49m\u001b[43m,\u001b[49m\n\u001b[1;32m      5\u001b[0m \u001b[43m                                                      \u001b[49m\u001b[38;5;241;43m40\u001b[39;49m\u001b[43m,\u001b[49m\u001b[38;5;241;43m41\u001b[39;49m\u001b[43m,\u001b[49m\u001b[38;5;241;43m42\u001b[39;49m\u001b[43m,\u001b[49m\u001b[38;5;241;43m43\u001b[39;49m\u001b[43m,\u001b[49m\u001b[38;5;241;43m44\u001b[39;49m\u001b[43m]\u001b[49m\u001b[43m]\u001b[49m\n",
      "File \u001b[0;32m~/anaconda3/envs/python3/lib/python3.10/site-packages/pandas/core/indexing.py:1147\u001b[0m, in \u001b[0;36m_LocationIndexer.__getitem__\u001b[0;34m(self, key)\u001b[0m\n\u001b[1;32m   1145\u001b[0m     \u001b[38;5;28;01mif\u001b[39;00m \u001b[38;5;28mself\u001b[39m\u001b[38;5;241m.\u001b[39m_is_scalar_access(key):\n\u001b[1;32m   1146\u001b[0m         \u001b[38;5;28;01mreturn\u001b[39;00m \u001b[38;5;28mself\u001b[39m\u001b[38;5;241m.\u001b[39mobj\u001b[38;5;241m.\u001b[39m_get_value(\u001b[38;5;241m*\u001b[39mkey, takeable\u001b[38;5;241m=\u001b[39m\u001b[38;5;28mself\u001b[39m\u001b[38;5;241m.\u001b[39m_takeable)\n\u001b[0;32m-> 1147\u001b[0m     \u001b[38;5;28;01mreturn\u001b[39;00m \u001b[38;5;28;43mself\u001b[39;49m\u001b[38;5;241;43m.\u001b[39;49m\u001b[43m_getitem_tuple\u001b[49m\u001b[43m(\u001b[49m\u001b[43mkey\u001b[49m\u001b[43m)\u001b[49m\n\u001b[1;32m   1148\u001b[0m \u001b[38;5;28;01melse\u001b[39;00m:\n\u001b[1;32m   1149\u001b[0m     \u001b[38;5;66;03m# we by definition only have the 0th axis\u001b[39;00m\n\u001b[1;32m   1150\u001b[0m     axis \u001b[38;5;241m=\u001b[39m \u001b[38;5;28mself\u001b[39m\u001b[38;5;241m.\u001b[39maxis \u001b[38;5;129;01mor\u001b[39;00m \u001b[38;5;241m0\u001b[39m\n",
      "File \u001b[0;32m~/anaconda3/envs/python3/lib/python3.10/site-packages/pandas/core/indexing.py:1652\u001b[0m, in \u001b[0;36m_iLocIndexer._getitem_tuple\u001b[0;34m(self, tup)\u001b[0m\n\u001b[1;32m   1651\u001b[0m \u001b[38;5;28;01mdef\u001b[39;00m \u001b[38;5;21m_getitem_tuple\u001b[39m(\u001b[38;5;28mself\u001b[39m, tup: \u001b[38;5;28mtuple\u001b[39m):\n\u001b[0;32m-> 1652\u001b[0m     tup \u001b[38;5;241m=\u001b[39m \u001b[38;5;28;43mself\u001b[39;49m\u001b[38;5;241;43m.\u001b[39;49m\u001b[43m_validate_tuple_indexer\u001b[49m\u001b[43m(\u001b[49m\u001b[43mtup\u001b[49m\u001b[43m)\u001b[49m\n\u001b[1;32m   1653\u001b[0m     \u001b[38;5;28;01mwith\u001b[39;00m suppress(IndexingError):\n\u001b[1;32m   1654\u001b[0m         \u001b[38;5;28;01mreturn\u001b[39;00m \u001b[38;5;28mself\u001b[39m\u001b[38;5;241m.\u001b[39m_getitem_lowerdim(tup)\n",
      "File \u001b[0;32m~/anaconda3/envs/python3/lib/python3.10/site-packages/pandas/core/indexing.py:940\u001b[0m, in \u001b[0;36m_LocationIndexer._validate_tuple_indexer\u001b[0;34m(self, key)\u001b[0m\n\u001b[1;32m    938\u001b[0m \u001b[38;5;28;01mfor\u001b[39;00m i, k \u001b[38;5;129;01min\u001b[39;00m \u001b[38;5;28menumerate\u001b[39m(key):\n\u001b[1;32m    939\u001b[0m     \u001b[38;5;28;01mtry\u001b[39;00m:\n\u001b[0;32m--> 940\u001b[0m         \u001b[38;5;28;43mself\u001b[39;49m\u001b[38;5;241;43m.\u001b[39;49m\u001b[43m_validate_key\u001b[49m\u001b[43m(\u001b[49m\u001b[43mk\u001b[49m\u001b[43m,\u001b[49m\u001b[43m \u001b[49m\u001b[43mi\u001b[49m\u001b[43m)\u001b[49m\n\u001b[1;32m    941\u001b[0m     \u001b[38;5;28;01mexcept\u001b[39;00m \u001b[38;5;167;01mValueError\u001b[39;00m \u001b[38;5;28;01mas\u001b[39;00m err:\n\u001b[1;32m    942\u001b[0m         \u001b[38;5;28;01mraise\u001b[39;00m \u001b[38;5;167;01mValueError\u001b[39;00m(\n\u001b[1;32m    943\u001b[0m             \u001b[38;5;124m\"\u001b[39m\u001b[38;5;124mLocation based indexing can only have \u001b[39m\u001b[38;5;124m\"\u001b[39m\n\u001b[1;32m    944\u001b[0m             \u001b[38;5;124mf\u001b[39m\u001b[38;5;124m\"\u001b[39m\u001b[38;5;124m[\u001b[39m\u001b[38;5;132;01m{\u001b[39;00m\u001b[38;5;28mself\u001b[39m\u001b[38;5;241m.\u001b[39m_valid_types\u001b[38;5;132;01m}\u001b[39;00m\u001b[38;5;124m] types\u001b[39m\u001b[38;5;124m\"\u001b[39m\n\u001b[1;32m    945\u001b[0m         ) \u001b[38;5;28;01mfrom\u001b[39;00m \u001b[38;5;21;01merr\u001b[39;00m\n",
      "File \u001b[0;32m~/anaconda3/envs/python3/lib/python3.10/site-packages/pandas/core/indexing.py:1574\u001b[0m, in \u001b[0;36m_iLocIndexer._validate_key\u001b[0;34m(self, key, axis)\u001b[0m\n\u001b[1;32m   1572\u001b[0m     \u001b[38;5;66;03m# check that the key does not exceed the maximum size of the index\u001b[39;00m\n\u001b[1;32m   1573\u001b[0m     \u001b[38;5;28;01mif\u001b[39;00m \u001b[38;5;28mlen\u001b[39m(arr) \u001b[38;5;129;01mand\u001b[39;00m (arr\u001b[38;5;241m.\u001b[39mmax() \u001b[38;5;241m>\u001b[39m\u001b[38;5;241m=\u001b[39m len_axis \u001b[38;5;129;01mor\u001b[39;00m arr\u001b[38;5;241m.\u001b[39mmin() \u001b[38;5;241m<\u001b[39m \u001b[38;5;241m-\u001b[39mlen_axis):\n\u001b[0;32m-> 1574\u001b[0m         \u001b[38;5;28;01mraise\u001b[39;00m \u001b[38;5;167;01mIndexError\u001b[39;00m(\u001b[38;5;124m\"\u001b[39m\u001b[38;5;124mpositional indexers are out-of-bounds\u001b[39m\u001b[38;5;124m\"\u001b[39m)\n\u001b[1;32m   1575\u001b[0m \u001b[38;5;28;01melse\u001b[39;00m:\n\u001b[1;32m   1576\u001b[0m     \u001b[38;5;28;01mraise\u001b[39;00m \u001b[38;5;167;01mValueError\u001b[39;00m(\u001b[38;5;124mf\u001b[39m\u001b[38;5;124m\"\u001b[39m\u001b[38;5;124mCan only index by location with a [\u001b[39m\u001b[38;5;132;01m{\u001b[39;00m\u001b[38;5;28mself\u001b[39m\u001b[38;5;241m.\u001b[39m_valid_types\u001b[38;5;132;01m}\u001b[39;00m\u001b[38;5;124m]\u001b[39m\u001b[38;5;124m\"\u001b[39m)\n",
      "\u001b[0;31mIndexError\u001b[0m: positional indexers are out-of-bounds"
     ]
    }
   ],
   "source": [
    "HEALTH_STATE_MAP_final=HEALTH_STATE_MAP_final.iloc[:,[0,1,2,3,4,5,6,7,8,9,10,11,12,13,\n",
    "                                                      14,15,16,17,18,19,20,21, \n",
    "                                                      27,28,24,25,22,23,26,29,\n",
    "                                                      30,31,32,33,34,35,36,37,38,39,\n",
    "                                                      40,41,42,43,44]]\n",
    "        \n",
    "\n"
   ]
  },
  {
   "cell_type": "code",
   "execution_count": null,
   "id": "815efc90-d7ac-4d72-8911-9a34e50b05e2",
   "metadata": {
    "tags": []
   },
   "outputs": [],
   "source": [
    "HEALTH_STATE_MAP_final.shape"
   ]
  },
  {
   "cell_type": "markdown",
   "id": "4dcf747c-3627-49fb-a696-a4476274fe76",
   "metadata": {},
   "source": [
    "# CHAPTER DETAILS Analysis - diamond HS"
   ]
  },
  {
   "cell_type": "code",
   "execution_count": 49,
   "id": "50eab6df",
   "metadata": {
    "tags": []
   },
   "outputs": [
    {
     "data": {
      "text/plain": [
       "ICD_10_chapter_mapped_HS_CODE\n",
       "Factors influencing health status and contact with health services                                      300539\n",
       "Symptoms, signs and abnormal clinical and laboratory findings, not elsewhere classified                  52746\n",
       "Diseases of the musculoskeletal system and connective tissue                                             46589\n",
       "Endocrine, nutritional, and metabolic diseases                                                           25087\n",
       "Mental, behavioral, and neurodevelopmental disorders                                                     22789\n",
       "Diseases of the respiratory system                                                                       22236\n",
       "Diseases of the genitourinary system                                                                     20783\n",
       "Injury, poisoning and certain other consequences of external causes.                                     15003\n",
       "Codes for special purposes                                                                               13298\n",
       "Diseases of the digestive system                                                                         13155\n",
       "Diseases of the circulatory system                                                                       12097\n",
       "Diseases of the skin and subcutaneous tissue                                                             11612\n",
       "Neoplasms                                                                                                10550\n",
       "Pregnancy, childbirth, and the puerperium                                                                 9021\n",
       "Diseases of the eye and adnexa                                                                            8646\n",
       "Certain infectious and parasitic diseases                                                                 6784\n",
       "Diseases of the nervous system                                                                            6188\n",
       "Diseases of the ear and mastoid process                                                                   3977\n",
       "Diseases of the blood and blood-forming organs and certain disorders involving the immune mechanism       3577\n",
       "Congenital malformations, deformations and chromosomal abnormalities                                      1356\n",
       "Certain conditions originating in the perinatal period                                                    1207\n",
       "External causes of morbidity                                                                               314\n",
       "Name: count, dtype: int64"
      ]
     },
     "execution_count": 49,
     "metadata": {},
     "output_type": "execute_result"
    }
   ],
   "source": [
    "HEALTH_STATE_MAP_final['ICD_10_chapter_mapped_HS_CODE'].value_counts()"
   ]
  },
  {
   "cell_type": "code",
   "execution_count": 50,
   "id": "d23c4351",
   "metadata": {
    "tags": []
   },
   "outputs": [
    {
     "data": {
      "text/plain": [
       "CCSR_Body_sys_ABR_mapped_HS_CODE\n",
       "FAC                     300539\n",
       "SYM                      52746\n",
       "MUS                      46589\n",
       "END                      25087\n",
       "MBD                      22789\n",
       "RSP                      22236\n",
       "GEN                      20783\n",
       "INJ                      15003\n",
       "code_special_purpose     13298\n",
       "DIG                      13155\n",
       "CIR                      12097\n",
       "SKN                      11612\n",
       "NEO                      10550\n",
       "PRG                       9021\n",
       "EYE                       8646\n",
       "INF                       6784\n",
       "NVS                       6188\n",
       "EAR                       3977\n",
       "BLD                       3577\n",
       "MAL                       1356\n",
       "PNL                       1207\n",
       "EXT                        314\n",
       "Name: count, dtype: int64"
      ]
     },
     "execution_count": 50,
     "metadata": {},
     "output_type": "execute_result"
    }
   ],
   "source": [
    "HEALTH_STATE_MAP_final['CCSR_Body_sys_ABR_mapped_HS_CODE'].value_counts()\n"
   ]
  },
  {
   "cell_type": "code",
   "execution_count": 51,
   "id": "c7f3e257-aa14-44f3-978e-8fba973c875c",
   "metadata": {
    "tags": []
   },
   "outputs": [
    {
     "data": {
      "text/plain": [
       "607554"
      ]
     },
     "execution_count": 51,
     "metadata": {},
     "output_type": "execute_result"
    }
   ],
   "source": [
    "HEALTH_STATE_MAP_final['CCSR_Body_sys_ABR_mapped_HS_CODE'].count()"
   ]
  },
  {
   "cell_type": "code",
   "execution_count": 52,
   "id": "b7ce40e4-9105-4161-a82a-1ee229d0eadd",
   "metadata": {
    "tags": []
   },
   "outputs": [
    {
     "data": {
      "text/plain": [
       "1414"
      ]
     },
     "execution_count": 52,
     "metadata": {},
     "output_type": "execute_result"
    }
   ],
   "source": [
    "HEALTH_STATE_MAP_final['CCSR_Body_sys_ABR_mapped_HS_CODE'].isnull().sum()"
   ]
  },
  {
   "cell_type": "markdown",
   "id": "693fb170-d383-489f-94e2-2553401f2285",
   "metadata": {},
   "source": [
    "# ANALYSIS CHAPTERS IN CCS MULTILEVEL"
   ]
  },
  {
   "cell_type": "code",
   "execution_count": 53,
   "id": "dd4e277c",
   "metadata": {
    "tags": []
   },
   "outputs": [
    {
     "data": {
      "text/plain": [
       "CCS_Body_System_Abbreviation_2019\n",
       "Other_conditions    194602\n",
       "INF                  50037\n",
       "MUS                  39899\n",
       "END                  25904\n",
       "RSP                  25590\n",
       "GEN                  22649\n",
       "MBD                  22589\n",
       "PRG                  21038\n",
       "NVS                  18546\n",
       "CIR                  17324\n",
       "Residual_codes       15414\n",
       "DIG                  14273\n",
       "INJ                  12479\n",
       "NEO                  12382\n",
       "SKN                   9522\n",
       "PNL                   3798\n",
       "BLD                   3187\n",
       "MAL                   1303\n",
       "Name: count, dtype: int64"
      ]
     },
     "execution_count": 53,
     "metadata": {},
     "output_type": "execute_result"
    }
   ],
   "source": [
    "HEALTH_STATE_MAP_final['CCS_Body_System_Abbreviation_2019'].value_counts()"
   ]
  },
  {
   "cell_type": "code",
   "execution_count": 54,
   "id": "6aab5376",
   "metadata": {
    "tags": []
   },
   "outputs": [
    {
     "data": {
      "text/plain": [
       "IVD_9_code_diagnosis chapters\n",
       "Symptoms; signs; and ill-defined conditions and factors influencing health status    194602\n",
       "Certain infectious and parasitic diseases                                             50037\n",
       "Diseases of the musculoskeletal system and connective tissue                          39899\n",
       "Endocrine, nutritional, and metabolic diseases and immunity disorders                 25904\n",
       "Diseases of the respiratory system                                                    25590\n",
       "Diseases of the genitourinary system                                                  22649\n",
       "Mental illness                                                                        22589\n",
       "Complicatoins of pregnancy, childbirth, and the puerperium                            21038\n",
       "Diseases of the nervous system and sense organs                                       18546\n",
       "Diseases of the circulatory system                                                    17324\n",
       "Residual codes; unclassified; all E codes                                             15414\n",
       "Diseases of the digestive system                                                      14273\n",
       "Injury and poisoning                                                                  12479\n",
       "Neoplasms                                                                             12382\n",
       "Diseases of the skin and subcutaneous tissue                                           9522\n",
       "Certain conditions originating in the perinatal period                                 3798\n",
       "Diseases of the blood and blood-forming organs                                         3187\n",
       "Congenital anomalities                                                                 1303\n",
       "Name: count, dtype: int64"
      ]
     },
     "execution_count": 54,
     "metadata": {},
     "output_type": "execute_result"
    }
   ],
   "source": [
    "HEALTH_STATE_MAP_final['IVD_9_code_diagnosis chapters'].value_counts() "
   ]
  },
  {
   "cell_type": "markdown",
   "id": "6e6738d1-f4df-4cc5-8406-a7e8a9e50ebb",
   "metadata": {
    "tags": []
   },
   "source": [
    "## CCS COUNT "
   ]
  },
  {
   "cell_type": "code",
   "execution_count": 55,
   "id": "78f55243-e72a-40e7-a560-56e3d5a2e51a",
   "metadata": {
    "tags": []
   },
   "outputs": [
    {
     "data": {
      "text/plain": [
       "510536"
      ]
     },
     "execution_count": 55,
     "metadata": {},
     "output_type": "execute_result"
    }
   ],
   "source": [
    "HEALTH_STATE_MAP_final['CCS_Body_System_Abbreviation_2019'].count()"
   ]
  },
  {
   "cell_type": "code",
   "execution_count": 56,
   "id": "088a9542-9039-4f2a-9cb9-c73adbd1e30a",
   "metadata": {
    "tags": []
   },
   "outputs": [
    {
     "data": {
      "text/plain": [
       "510536"
      ]
     },
     "execution_count": 56,
     "metadata": {},
     "output_type": "execute_result"
    }
   ],
   "source": [
    "HEALTH_STATE_MAP_final['IVD_9_code_diagnosis chapters'].count()"
   ]
  },
  {
   "cell_type": "code",
   "execution_count": 57,
   "id": "c8230495-5940-47ea-aef3-27217cb982fb",
   "metadata": {
    "tags": []
   },
   "outputs": [
    {
     "data": {
      "text/plain": [
       "510536"
      ]
     },
     "execution_count": 57,
     "metadata": {},
     "output_type": "execute_result"
    }
   ],
   "source": [
    "HEALTH_STATE_MAP_final['CCS_Body_System_Abbreviation_2019'].count()"
   ]
  },
  {
   "cell_type": "code",
   "execution_count": 58,
   "id": "4dbd67ac-dc83-42dc-918c-88de222e395a",
   "metadata": {
    "tags": []
   },
   "outputs": [
    {
     "data": {
      "text/plain": [
       "98432"
      ]
     },
     "execution_count": 58,
     "metadata": {},
     "output_type": "execute_result"
    }
   ],
   "source": [
    "HEALTH_STATE_MAP_final['IVD_9_code_diagnosis chapters'].isnull().sum()"
   ]
  },
  {
   "cell_type": "code",
   "execution_count": 59,
   "id": "67dd13cd-cb2c-42e7-84ff-fcbf4aa5709f",
   "metadata": {
    "tags": []
   },
   "outputs": [
    {
     "data": {
      "text/plain": [
       "510536"
      ]
     },
     "execution_count": 59,
     "metadata": {},
     "output_type": "execute_result"
    }
   ],
   "source": [
    "HEALTH_STATE_MAP_final['icd_code_2019'].count()"
   ]
  },
  {
   "cell_type": "code",
   "execution_count": 60,
   "id": "d3dfaa22-10f8-44ec-8b02-d83439a20a31",
   "metadata": {
    "tags": []
   },
   "outputs": [
    {
     "data": {
      "text/plain": [
       "98432"
      ]
     },
     "execution_count": 60,
     "metadata": {},
     "output_type": "execute_result"
    }
   ],
   "source": [
    "HEALTH_STATE_MAP_final['icd_code_2019'].isnull().sum()"
   ]
  },
  {
   "cell_type": "markdown",
   "id": "f0e8ac94-eb6b-49a6-88c1-ccab73829c7a",
   "metadata": {},
   "source": [
    "# ANALYSIS CHAPTERS CCSR "
   ]
  },
  {
   "cell_type": "code",
   "execution_count": 61,
   "id": "cd8f5c52",
   "metadata": {
    "tags": []
   },
   "outputs": [
    {
     "data": {
      "text/plain": [
       "ICD_10_code_book_chapter_2023\n",
       "Factors influencing health status and contact with health services                                      276565\n",
       "Symptoms, signs and abnormal clinical and laboratory findings, not elsewhere classified                  51644\n",
       "Diseases of the musculoskeletal system and connective tissue                                             43348\n",
       "Endocrine, nutritional, and metabolic diseases                                                           23367\n",
       "Mental, behavioral, and neurodevelopmental disorders                                                     21976\n",
       "Diseases of the respiratory system                                                                       20335\n",
       "Diseases of the genitourinary system                                                                     20233\n",
       "Codes for special purposes                                                                               12720\n",
       "Diseases of the digestive system                                                                         12124\n",
       "Injury, poisoning and certain other consequences of external causes.                                     12095\n",
       "Diseases of the circulatory system                                                                       11772\n",
       "Diseases of the skin and subcutaneous tissue                                                             10819\n",
       "Neoplasms                                                                                                 9984\n",
       "Pregnancy, childbirth, and the puerperium                                                                 8883\n",
       "Diseases of the eye and adnexa                                                                            7613\n",
       "Certain infectious and parasitic diseases                                                                 6282\n",
       "Diseases of the nervous system                                                                            5705\n",
       "Diseases of the blood and blood-forming organs and certain disorders involving the immune mechanism       3518\n",
       "Diseases of the ear and mastoid process                                                                   3406\n",
       "Congenital malformations, deformations and chromosomal abnormalities                                      1335\n",
       "Certain conditions originating in the perinatal period                                                    1200\n",
       "External causes of morbidity                                                                               202\n",
       "Name: count, dtype: int64"
      ]
     },
     "execution_count": 61,
     "metadata": {},
     "output_type": "execute_result"
    }
   ],
   "source": [
    "HEALTH_STATE_MAP_final['ICD_10_code_book_chapter_2023'].value_counts()"
   ]
  },
  {
   "cell_type": "code",
   "execution_count": 62,
   "id": "23b75e7f-a54a-46e6-a3d4-11c633dfb6b4",
   "metadata": {
    "tags": []
   },
   "outputs": [
    {
     "data": {
      "text/plain": [
       "CCSR_Body_System_Abbreviation_2023\n",
       "FAC                     276565\n",
       "SYM                      51644\n",
       "MUS                      43348\n",
       "END                      23367\n",
       "MBD                      21976\n",
       "RSP                      20335\n",
       "GEN                      20233\n",
       "code_special_purpose     12720\n",
       "DIG                      12124\n",
       "INJ                      12095\n",
       "CIR                      11772\n",
       "SKN                      10819\n",
       "NEO                       9984\n",
       "PRG                       8883\n",
       "EYE                       7613\n",
       "INF                       6282\n",
       "NVS                       5705\n",
       "BLD                       3518\n",
       "EAR                       3406\n",
       "MAL                       1335\n",
       "PNL                       1200\n",
       "EXT                        202\n",
       "Name: count, dtype: int64"
      ]
     },
     "execution_count": 62,
     "metadata": {},
     "output_type": "execute_result"
    }
   ],
   "source": [
    "HEALTH_STATE_MAP_final['CCSR_Body_System_Abbreviation_2023'].value_counts()"
   ]
  },
  {
   "cell_type": "code",
   "execution_count": 63,
   "id": "b257e10e-b351-4790-80b5-32cfa4ec8d08",
   "metadata": {
    "tags": []
   },
   "outputs": [
    {
     "data": {
      "text/plain": [
       "565126"
      ]
     },
     "execution_count": 63,
     "metadata": {},
     "output_type": "execute_result"
    }
   ],
   "source": [
    "HEALTH_STATE_MAP_final['ICD_10_code_book_chapter_2023'].count()"
   ]
  },
  {
   "cell_type": "code",
   "execution_count": 64,
   "id": "16ed38fa-b264-40d2-829d-1fe68fa364f5",
   "metadata": {
    "tags": []
   },
   "outputs": [
    {
     "data": {
      "text/plain": [
       "43842"
      ]
     },
     "execution_count": 64,
     "metadata": {},
     "output_type": "execute_result"
    }
   ],
   "source": [
    "HEALTH_STATE_MAP_final['ICD_10_code_book_chapter_2023'].isnull().sum()"
   ]
  },
  {
   "cell_type": "markdown",
   "id": "d00a191c-90f3-4bc0-b820-c52e0d640b29",
   "metadata": {
    "tags": []
   },
   "source": [
    "# Analysis on codes not mapping"
   ]
  },
  {
   "cell_type": "code",
   "execution_count": 65,
   "id": "91676e58",
   "metadata": {
    "tags": []
   },
   "outputs": [
    {
     "data": {
      "text/plain": [
       "CCSR_Body_sys_ABR_mapped_HS_CODE\n",
       "FAC                     23974\n",
       "MUS                      3241\n",
       "INJ                      2908\n",
       "RSP                      1901\n",
       "END                      1720\n",
       "SYM                      1102\n",
       "EYE                      1033\n",
       "DIG                      1031\n",
       "MBD                       813\n",
       "SKN                       793\n",
       "code_special_purpose      578\n",
       "EAR                       571\n",
       "NEO                       566\n",
       "GEN                       550\n",
       "INF                       502\n",
       "NVS                       483\n",
       "CIR                       325\n",
       "PRG                       138\n",
       "EXT                       112\n",
       "BLD                        59\n",
       "MAL                        21\n",
       "PNL                         7\n",
       "Name: count, dtype: int64"
      ]
     },
     "execution_count": 65,
     "metadata": {},
     "output_type": "execute_result"
    }
   ],
   "source": [
    "HEALTH_STATE_MAP_final[HEALTH_STATE_MAP_final['ICD_CODE_BUCKET_HS_CCSR_2023']=='left_only']['CCSR_Body_sys_ABR_mapped_HS_CODE'].value_counts()\n"
   ]
  },
  {
   "cell_type": "code",
   "execution_count": 66,
   "id": "60c3ae91",
   "metadata": {
    "tags": []
   },
   "outputs": [
    {
     "data": {
      "text/plain": [
       "42428"
      ]
     },
     "execution_count": 66,
     "metadata": {},
     "output_type": "execute_result"
    }
   ],
   "source": [
    "HEALTH_STATE_MAP_final[HEALTH_STATE_MAP_final['ICD_CODE_BUCKET_HS_CCSR_2023']=='left_only']['CCSR_Body_sys_ABR_mapped_HS_CODE'].count()"
   ]
  },
  {
   "cell_type": "code",
   "execution_count": 67,
   "id": "9af508b9",
   "metadata": {
    "tags": []
   },
   "outputs": [
    {
     "data": {
      "text/plain": [
       "565126"
      ]
     },
     "execution_count": 67,
     "metadata": {},
     "output_type": "execute_result"
    }
   ],
   "source": [
    "HEALTH_STATE_MAP_final[HEALTH_STATE_MAP_final['ICD_CODE_BUCKET_HS_CCSR_2023']=='both']['CCSR_Body_sys_ABR_mapped_HS_CODE'].count()"
   ]
  },
  {
   "cell_type": "markdown",
   "id": "b046c97b-230d-430f-8af6-72d09ac394c5",
   "metadata": {},
   "source": [
    "# comparing 2019 2023"
   ]
  },
  {
   "cell_type": "code",
   "execution_count": 68,
   "id": "0061b341-690a-416e-82d1-c2aeea69d439",
   "metadata": {},
   "outputs": [],
   "source": [
    "HEALTH_STATE_MAP_final['ICD_code_2023']=HEALTH_STATE_MAP_final['ICD_code_2023']"
   ]
  },
  {
   "cell_type": "code",
   "execution_count": 69,
   "id": "0e013b2b-2926-47c1-932f-d610b0695665",
   "metadata": {
    "tags": []
   },
   "outputs": [],
   "source": [
    "HEALTH_STATE_MAP_final['ICD_23_19_BUCKET']= np.where(HEALTH_STATE_MAP_final['ICD_code_2023']==HEALTH_STATE_MAP_final['icd_code_2019'],'MATCH',\n",
    "                                                     np.where(HEALTH_STATE_MAP_final['ICD_code_2023'].isnull() ,\"NA\",np.nan))\n",
    "\n",
    "\n",
    "# Nan = 2023 codes are avioable, no mathcing 2019\n",
    "# NA = 2023 is null and 2019 is null"
   ]
  },
  {
   "cell_type": "code",
   "execution_count": 70,
   "id": "dc93d83d-04e1-4248-a4bc-f283c9a40cea",
   "metadata": {
    "tags": []
   },
   "outputs": [
    {
     "data": {
      "text/html": [
       "<div>\n",
       "<style scoped>\n",
       "    .dataframe tbody tr th:only-of-type {\n",
       "        vertical-align: middle;\n",
       "    }\n",
       "\n",
       "    .dataframe tbody tr th {\n",
       "        vertical-align: top;\n",
       "    }\n",
       "\n",
       "    .dataframe thead th {\n",
       "        text-align: right;\n",
       "    }\n",
       "</style>\n",
       "<table border=\"1\" class=\"dataframe\">\n",
       "  <thead>\n",
       "    <tr style=\"text-align: right;\">\n",
       "      <th></th>\n",
       "      <th>HS_claim_num_key</th>\n",
       "      <th>HS_unique_member_id_key</th>\n",
       "      <th>HS_book_of_business_nm</th>\n",
       "      <th>HS_claim_location_country_cd</th>\n",
       "      <th>HS_claim_location_country_nm</th>\n",
       "      <th>HS_region</th>\n",
       "      <th>HS_claim_type_nm</th>\n",
       "      <th>HS_icd_10_cm_code</th>\n",
       "      <th>HS_diagnosis_1_desc</th>\n",
       "      <th>HS_ccsr_category_1_description</th>\n",
       "      <th>HS_is_chronic_cd</th>\n",
       "      <th>HS_cm_diagnosis_flag</th>\n",
       "      <th>HS_cm_flag</th>\n",
       "      <th>HS_local_currency_net_amt</th>\n",
       "      <th>HS_member_id</th>\n",
       "      <th>ICD_code_2023</th>\n",
       "      <th>ICD_10_CM_CODE_DESCRIPTION_2023</th>\n",
       "      <th>Default_CCSR_CATEGORY_IP_2023</th>\n",
       "      <th>Default_CCSR_CATEGORY_DESCRIPTION_IP_2023</th>\n",
       "      <th>Default_CCSR_CATEGORY_OP_2023</th>\n",
       "      <th>Default_CCSR_CATEGORY_DESCRIPTION_OP_2023</th>\n",
       "      <th>CCS_CATEGORY_2019</th>\n",
       "      <th>CCS_CATEGORY_DESCRIPTION_2019</th>\n",
       "      <th>icd_code_2019</th>\n",
       "      <th>ICD_10_CM_CODE_DESCRIPTION_2019</th>\n",
       "      <th>CCS_LVL_1_code_2019</th>\n",
       "      <th>CCSR_CATEGORY_1_2023</th>\n",
       "      <th>CCSR_CATEGORY_1_DESCRIPTION_2023</th>\n",
       "      <th>CCS_LVL_1_Description_2019</th>\n",
       "      <th>CCS_LVL_2_code_2019</th>\n",
       "      <th>CCS_LVL_2_Description_2019</th>\n",
       "      <th>CCSR_Body_System_Abbreviation_2023</th>\n",
       "      <th>ICD_2023_code_abr</th>\n",
       "      <th>ICD_10_code_book_chapter_2023</th>\n",
       "      <th>ICD_CODE_BUCKET_HS_CCSR_2023</th>\n",
       "      <th>CCS_chapter_number_2019</th>\n",
       "      <th>CCS_Body_System_Abbreviation_2019</th>\n",
       "      <th>IVD_9_code_diagnosis chapters</th>\n",
       "      <th>CCS_LEVEL1_CHAPTER_NAME_BUCKET</th>\n",
       "      <th>HS_ICD_code_Abr</th>\n",
       "      <th>CODE_range_first_three_characters</th>\n",
       "      <th>CCSR_Body_sys_ABR_mapped_HS_CODE</th>\n",
       "      <th>ICD_10_chapter_mapped_HS_CODE</th>\n",
       "      <th>CCSR_CHAPTER_CODE_BUCKET</th>\n",
       "      <th>ICD_23_19_BUCKET</th>\n",
       "    </tr>\n",
       "  </thead>\n",
       "  <tbody>\n",
       "    <tr>\n",
       "      <th>53</th>\n",
       "      <td>113117619</td>\n",
       "      <td>11185481</td>\n",
       "      <td>Americas</td>\n",
       "      <td>USA</td>\n",
       "      <td>United States of America (the)</td>\n",
       "      <td>Americas</td>\n",
       "      <td>OP</td>\n",
       "      <td>Z20822</td>\n",
       "      <td>Cont w/and (sus) exp COV</td>\n",
       "      <td>NaN</td>\n",
       "      <td>NaN</td>\n",
       "      <td>NaN</td>\n",
       "      <td>False</td>\n",
       "      <td>55.16</td>\n",
       "      <td>2.098101e+10</td>\n",
       "      <td>Z20822</td>\n",
       "      <td>Contact with and (suspected) exposure to COVID-19</td>\n",
       "      <td>XXX000</td>\n",
       "      <td>Unacceptable PDX</td>\n",
       "      <td>FAC016</td>\n",
       "      <td>Exposure, encounters, screening or contact wit...</td>\n",
       "      <td>NaN</td>\n",
       "      <td>NaN</td>\n",
       "      <td>NaN</td>\n",
       "      <td>NaN</td>\n",
       "      <td>NaN</td>\n",
       "      <td>FAC016</td>\n",
       "      <td>Exposure, encounters, screening or contact wit...</td>\n",
       "      <td>NaN</td>\n",
       "      <td>NaN</td>\n",
       "      <td>NaN</td>\n",
       "      <td>FAC</td>\n",
       "      <td>Z20</td>\n",
       "      <td>Factors influencing health status and contact ...</td>\n",
       "      <td>both</td>\n",
       "      <td>NaN</td>\n",
       "      <td>NaN</td>\n",
       "      <td>NaN</td>\n",
       "      <td>left_only</td>\n",
       "      <td>Z20</td>\n",
       "      <td>Z20</td>\n",
       "      <td>FAC</td>\n",
       "      <td>Factors influencing health status and contact ...</td>\n",
       "      <td>both</td>\n",
       "      <td>nan</td>\n",
       "    </tr>\n",
       "    <tr>\n",
       "      <th>54</th>\n",
       "      <td>113117619</td>\n",
       "      <td>11185481</td>\n",
       "      <td>Americas</td>\n",
       "      <td>USA</td>\n",
       "      <td>United States of America (the)</td>\n",
       "      <td>Americas</td>\n",
       "      <td>OP</td>\n",
       "      <td>Z20822</td>\n",
       "      <td>Cont w/and (sus) exp COV</td>\n",
       "      <td>NaN</td>\n",
       "      <td>NaN</td>\n",
       "      <td>NaN</td>\n",
       "      <td>False</td>\n",
       "      <td>75.00</td>\n",
       "      <td>2.098101e+10</td>\n",
       "      <td>Z20822</td>\n",
       "      <td>Contact with and (suspected) exposure to COVID-19</td>\n",
       "      <td>XXX000</td>\n",
       "      <td>Unacceptable PDX</td>\n",
       "      <td>FAC016</td>\n",
       "      <td>Exposure, encounters, screening or contact wit...</td>\n",
       "      <td>NaN</td>\n",
       "      <td>NaN</td>\n",
       "      <td>NaN</td>\n",
       "      <td>NaN</td>\n",
       "      <td>NaN</td>\n",
       "      <td>FAC016</td>\n",
       "      <td>Exposure, encounters, screening or contact wit...</td>\n",
       "      <td>NaN</td>\n",
       "      <td>NaN</td>\n",
       "      <td>NaN</td>\n",
       "      <td>FAC</td>\n",
       "      <td>Z20</td>\n",
       "      <td>Factors influencing health status and contact ...</td>\n",
       "      <td>both</td>\n",
       "      <td>NaN</td>\n",
       "      <td>NaN</td>\n",
       "      <td>NaN</td>\n",
       "      <td>left_only</td>\n",
       "      <td>Z20</td>\n",
       "      <td>Z20</td>\n",
       "      <td>FAC</td>\n",
       "      <td>Factors influencing health status and contact ...</td>\n",
       "      <td>both</td>\n",
       "      <td>nan</td>\n",
       "    </tr>\n",
       "    <tr>\n",
       "      <th>55</th>\n",
       "      <td>113117619</td>\n",
       "      <td>11185481</td>\n",
       "      <td>Americas</td>\n",
       "      <td>USA</td>\n",
       "      <td>United States of America (the)</td>\n",
       "      <td>Americas</td>\n",
       "      <td>OP</td>\n",
       "      <td>Z20822</td>\n",
       "      <td>Cont w/and (sus) exp COV</td>\n",
       "      <td>NaN</td>\n",
       "      <td>NaN</td>\n",
       "      <td>NaN</td>\n",
       "      <td>False</td>\n",
       "      <td>225.02</td>\n",
       "      <td>2.098101e+10</td>\n",
       "      <td>Z20822</td>\n",
       "      <td>Contact with and (suspected) exposure to COVID-19</td>\n",
       "      <td>XXX000</td>\n",
       "      <td>Unacceptable PDX</td>\n",
       "      <td>FAC016</td>\n",
       "      <td>Exposure, encounters, screening or contact wit...</td>\n",
       "      <td>NaN</td>\n",
       "      <td>NaN</td>\n",
       "      <td>NaN</td>\n",
       "      <td>NaN</td>\n",
       "      <td>NaN</td>\n",
       "      <td>FAC016</td>\n",
       "      <td>Exposure, encounters, screening or contact wit...</td>\n",
       "      <td>NaN</td>\n",
       "      <td>NaN</td>\n",
       "      <td>NaN</td>\n",
       "      <td>FAC</td>\n",
       "      <td>Z20</td>\n",
       "      <td>Factors influencing health status and contact ...</td>\n",
       "      <td>both</td>\n",
       "      <td>NaN</td>\n",
       "      <td>NaN</td>\n",
       "      <td>NaN</td>\n",
       "      <td>left_only</td>\n",
       "      <td>Z20</td>\n",
       "      <td>Z20</td>\n",
       "      <td>FAC</td>\n",
       "      <td>Factors influencing health status and contact ...</td>\n",
       "      <td>both</td>\n",
       "      <td>nan</td>\n",
       "    </tr>\n",
       "  </tbody>\n",
       "</table>\n",
       "</div>"
      ],
      "text/plain": [
       "    HS_claim_num_key  HS_unique_member_id_key HS_book_of_business_nm  \\\n",
       "53         113117619                 11185481               Americas   \n",
       "54         113117619                 11185481               Americas   \n",
       "55         113117619                 11185481               Americas   \n",
       "\n",
       "   HS_claim_location_country_cd    HS_claim_location_country_nm HS_region  \\\n",
       "53                          USA  United States of America (the)  Americas   \n",
       "54                          USA  United States of America (the)  Americas   \n",
       "55                          USA  United States of America (the)  Americas   \n",
       "\n",
       "   HS_claim_type_nm HS_icd_10_cm_code       HS_diagnosis_1_desc  \\\n",
       "53               OP            Z20822  Cont w/and (sus) exp COV   \n",
       "54               OP            Z20822  Cont w/and (sus) exp COV   \n",
       "55               OP            Z20822  Cont w/and (sus) exp COV   \n",
       "\n",
       "   HS_ccsr_category_1_description HS_is_chronic_cd HS_cm_diagnosis_flag  \\\n",
       "53                            NaN              NaN                  NaN   \n",
       "54                            NaN              NaN                  NaN   \n",
       "55                            NaN              NaN                  NaN   \n",
       "\n",
       "    HS_cm_flag  HS_local_currency_net_amt  HS_member_id ICD_code_2023  \\\n",
       "53       False                      55.16  2.098101e+10        Z20822   \n",
       "54       False                      75.00  2.098101e+10        Z20822   \n",
       "55       False                     225.02  2.098101e+10        Z20822   \n",
       "\n",
       "                      ICD_10_CM_CODE_DESCRIPTION_2023  \\\n",
       "53  Contact with and (suspected) exposure to COVID-19   \n",
       "54  Contact with and (suspected) exposure to COVID-19   \n",
       "55  Contact with and (suspected) exposure to COVID-19   \n",
       "\n",
       "   Default_CCSR_CATEGORY_IP_2023 Default_CCSR_CATEGORY_DESCRIPTION_IP_2023  \\\n",
       "53                        XXX000                          Unacceptable PDX   \n",
       "54                        XXX000                          Unacceptable PDX   \n",
       "55                        XXX000                          Unacceptable PDX   \n",
       "\n",
       "   Default_CCSR_CATEGORY_OP_2023  \\\n",
       "53                        FAC016   \n",
       "54                        FAC016   \n",
       "55                        FAC016   \n",
       "\n",
       "            Default_CCSR_CATEGORY_DESCRIPTION_OP_2023  CCS_CATEGORY_2019  \\\n",
       "53  Exposure, encounters, screening or contact wit...                NaN   \n",
       "54  Exposure, encounters, screening or contact wit...                NaN   \n",
       "55  Exposure, encounters, screening or contact wit...                NaN   \n",
       "\n",
       "   CCS_CATEGORY_DESCRIPTION_2019 icd_code_2019  \\\n",
       "53                           NaN           NaN   \n",
       "54                           NaN           NaN   \n",
       "55                           NaN           NaN   \n",
       "\n",
       "   ICD_10_CM_CODE_DESCRIPTION_2019  CCS_LVL_1_code_2019 CCSR_CATEGORY_1_2023  \\\n",
       "53                             NaN                  NaN               FAC016   \n",
       "54                             NaN                  NaN               FAC016   \n",
       "55                             NaN                  NaN               FAC016   \n",
       "\n",
       "                     CCSR_CATEGORY_1_DESCRIPTION_2023  \\\n",
       "53  Exposure, encounters, screening or contact wit...   \n",
       "54  Exposure, encounters, screening or contact wit...   \n",
       "55  Exposure, encounters, screening or contact wit...   \n",
       "\n",
       "   CCS_LVL_1_Description_2019 CCS_LVL_2_code_2019 CCS_LVL_2_Description_2019  \\\n",
       "53                        NaN                 NaN                        NaN   \n",
       "54                        NaN                 NaN                        NaN   \n",
       "55                        NaN                 NaN                        NaN   \n",
       "\n",
       "   CCSR_Body_System_Abbreviation_2023 ICD_2023_code_abr  \\\n",
       "53                                FAC               Z20   \n",
       "54                                FAC               Z20   \n",
       "55                                FAC               Z20   \n",
       "\n",
       "                        ICD_10_code_book_chapter_2023  \\\n",
       "53  Factors influencing health status and contact ...   \n",
       "54  Factors influencing health status and contact ...   \n",
       "55  Factors influencing health status and contact ...   \n",
       "\n",
       "   ICD_CODE_BUCKET_HS_CCSR_2023  CCS_chapter_number_2019  \\\n",
       "53                         both                      NaN   \n",
       "54                         both                      NaN   \n",
       "55                         both                      NaN   \n",
       "\n",
       "   CCS_Body_System_Abbreviation_2019 IVD_9_code_diagnosis chapters  \\\n",
       "53                               NaN                           NaN   \n",
       "54                               NaN                           NaN   \n",
       "55                               NaN                           NaN   \n",
       "\n",
       "   CCS_LEVEL1_CHAPTER_NAME_BUCKET HS_ICD_code_Abr  \\\n",
       "53                      left_only             Z20   \n",
       "54                      left_only             Z20   \n",
       "55                      left_only             Z20   \n",
       "\n",
       "   CODE_range_first_three_characters CCSR_Body_sys_ABR_mapped_HS_CODE  \\\n",
       "53                               Z20                              FAC   \n",
       "54                               Z20                              FAC   \n",
       "55                               Z20                              FAC   \n",
       "\n",
       "                        ICD_10_chapter_mapped_HS_CODE  \\\n",
       "53  Factors influencing health status and contact ...   \n",
       "54  Factors influencing health status and contact ...   \n",
       "55  Factors influencing health status and contact ...   \n",
       "\n",
       "   CCSR_CHAPTER_CODE_BUCKET ICD_23_19_BUCKET  \n",
       "53                     both              nan  \n",
       "54                     both              nan  \n",
       "55                     both              nan  "
      ]
     },
     "execution_count": 70,
     "metadata": {},
     "output_type": "execute_result"
    }
   ],
   "source": [
    "HEALTH_STATE_MAP_final[HEALTH_STATE_MAP_final['ICD_23_19_BUCKET']=='nan'].head(3)"
   ]
  },
  {
   "cell_type": "code",
   "execution_count": 71,
   "id": "9e9b87e4-fcb2-46a7-9306-9a427a95b655",
   "metadata": {
    "tags": []
   },
   "outputs": [
    {
     "data": {
      "text/plain": [
       "ICD_23_19_BUCKET\n",
       "MATCH    510536\n",
       "nan       54590\n",
       "NA        43842\n",
       "Name: count, dtype: int64"
      ]
     },
     "execution_count": 71,
     "metadata": {},
     "output_type": "execute_result"
    }
   ],
   "source": [
    "HEALTH_STATE_MAP_final['ICD_23_19_BUCKET'].value_counts()"
   ]
  },
  {
   "cell_type": "code",
   "execution_count": 72,
   "id": "2c5411ca-fdb8-44f4-8ede-e9b74b079966",
   "metadata": {
    "tags": []
   },
   "outputs": [
    {
     "data": {
      "text/plain": [
       "ICD_23_19_BUCKET\n",
       "MATCH    83.84%\n",
       "nan       8.96%\n",
       "NA         7.2%\n",
       "Name: proportion, dtype: object"
      ]
     },
     "execution_count": 72,
     "metadata": {},
     "output_type": "execute_result"
    }
   ],
   "source": [
    "HEALTH_STATE_MAP_final['ICD_23_19_BUCKET'].value_counts(normalize=True)\\\n",
    ".mul(100).round(2).astype(str)+'%'"
   ]
  },
  {
   "cell_type": "code",
   "execution_count": 73,
   "id": "910fb7e2-8649-419d-9699-b2090a196529",
   "metadata": {
    "tags": []
   },
   "outputs": [],
   "source": [
    "HEALTH_STATE_MAP_final['ICD_HS_19_BUCKET']= np.where(HEALTH_STATE_MAP_final['HS_icd_10_cm_code']==HEALTH_STATE_MAP_final['icd_code_2019'],'MATCH',\n",
    "                                                     np.nan)\n"
   ]
  },
  {
   "cell_type": "code",
   "execution_count": 74,
   "id": "56b57598-8d0f-4755-9e6f-780dbc7f6aa4",
   "metadata": {
    "tags": []
   },
   "outputs": [
    {
     "data": {
      "text/plain": [
       "ICD_HS_19_BUCKET\n",
       "MATCH    510536\n",
       "nan       98432\n",
       "Name: count, dtype: int64"
      ]
     },
     "execution_count": 74,
     "metadata": {},
     "output_type": "execute_result"
    }
   ],
   "source": [
    "HEALTH_STATE_MAP_final['ICD_HS_19_BUCKET'].value_counts() "
   ]
  },
  {
   "cell_type": "code",
   "execution_count": 75,
   "id": "5b1ea221-a3c4-4190-aecf-d891b21b8cf8",
   "metadata": {
    "tags": []
   },
   "outputs": [
    {
     "data": {
      "text/plain": [
       "ICD_HS_19_BUCKET\n",
       "MATCH    83.84%\n",
       "nan      16.16%\n",
       "Name: proportion, dtype: object"
      ]
     },
     "execution_count": 75,
     "metadata": {},
     "output_type": "execute_result"
    }
   ],
   "source": [
    "HEALTH_STATE_MAP_final['ICD_HS_19_BUCKET'].value_counts(normalize=True)\\\n",
    ".mul(100).round(2).astype(str)+'%'"
   ]
  },
  {
   "cell_type": "markdown",
   "id": "6ee4010f-4092-4275-a21d-c229f54d1dbe",
   "metadata": {},
   "source": [
    "# Checking the missing 7 percent data"
   ]
  },
  {
   "cell_type": "code",
   "execution_count": 76,
   "id": "cb9af1b3-2e18-4b3b-8a23-61ae73339566",
   "metadata": {
    "collapsed": true,
    "jupyter": {
     "outputs_hidden": true
    },
    "tags": []
   },
   "outputs": [
    {
     "data": {
      "text/plain": [
       "HS_claim_location_country_nm\n",
       "United States of America (the)                                21453\n",
       "Qatar                                                          2271\n",
       "China                                                          1938\n",
       "Singapore                                                      1709\n",
       "Kuwait                                                         1698\n",
       "Germany                                                        1453\n",
       "South Africa                                                   1323\n",
       "India                                                          1092\n",
       "Russian Federation (the)                                        915\n",
       "Thailand                                                        760\n",
       "Brazil                                                          657\n",
       "Korea (the Republic of)                                         545\n",
       "Hong Kong                                                       503\n",
       "United Kingdom of Great Britain and Northern Ireland (the)      432\n",
       "Bahrain                                                         331\n",
       "Mexico                                                          298\n",
       "Oman                                                            286\n",
       "Turkey                                                          281\n",
       "Switzerland                                                     276\n",
       "Taiwan (Province of China)                                      261\n",
       "Viet Nam                                                        261\n",
       "United Arab Emirates (the)                                      251\n",
       "Japan                                                           226\n",
       "Kenya                                                           209\n",
       "Indonesia                                                       192\n",
       "Chile                                                           191\n",
       "Marshall Islands (the)                                          174\n",
       "Czechia                                                         174\n",
       "Canada                                                          172\n",
       "Philippines (the)                                               162\n",
       "Malaysia                                                        158\n",
       "France                                                          154\n",
       "Poland                                                          142\n",
       "Italy                                                           130\n",
       "Cambodia                                                        114\n",
       "Spain                                                           113\n",
       "Saudi Arabia                                                    104\n",
       "Panama                                                          103\n",
       "Colombia                                                         99\n",
       "Uganda                                                           95\n",
       "Hungary                                                          93\n",
       "Dominican Republic (the)                                         87\n",
       "Mali                                                             85\n",
       "Pakistan                                                         82\n",
       "Austria                                                          82\n",
       "Grenada                                                          82\n",
       "Jordan                                                           81\n",
       "Egypt                                                            78\n",
       "Peru                                                             77\n",
       "Serbia                                                           76\n",
       "Belgium                                                          72\n",
       "Nigeria                                                          67\n",
       "Australia                                                        61\n",
       "Greece                                                           61\n",
       "Azerbaijan                                                       46\n",
       "Morocco                                                          42\n",
       "Netherlands (the)                                                39\n",
       "Senegal                                                          36\n",
       "Costa Rica                                                       35\n",
       "Ukraine                                                          32\n",
       "Bulgaria                                                         31\n",
       "Albania                                                          28\n",
       "Israel                                                           28\n",
       "Guatemala                                                        27\n",
       "Ecuador                                                          25\n",
       "Bolivia (Plurinational State of)                                 24\n",
       "Argentina                                                        24\n",
       "Congo (the Democratic Republic of the)                           23\n",
       "Croatia                                                          22\n",
       "Honduras                                                         21\n",
       "Lebanon                                                          20\n",
       "Tanzania, the United Republic of                                 20\n",
       "Kazakhstan                                                       19\n",
       "Uruguay                                                          17\n",
       "Lao People's Democratic Republic (the)                           17\n",
       "Portugal                                                         17\n",
       "New Zealand                                                      17\n",
       "Ireland                                                          17\n",
       "Guam                                                             16\n",
       "Iraq                                                             16\n",
       "North Macedonia                                                  15\n",
       "Tunisia                                                          15\n",
       "Mozambique                                                       15\n",
       "Uzbekistan                                                       13\n",
       "Eswatini                                                         13\n",
       "Zambia                                                           12\n",
       "Ghana                                                            12\n",
       "South Sudan                                                      11\n",
       "Romania                                                          11\n",
       "Zimbabwe                                                         10\n",
       "Antigua and Barbuda                                              10\n",
       "Libya                                                            10\n",
       "Somalia                                                           9\n",
       "Ethiopia                                                          9\n",
       "Angola                                                            9\n",
       "Jamaica                                                           9\n",
       "Papua New Guinea                                                  8\n",
       "Côte d'Ivoire                                                     8\n",
       "Venezuela (Bolivarian Republic of)                                8\n",
       "Norway                                                            8\n",
       "Sweden                                                            8\n",
       "Bahamas (the)                                                     7\n",
       "Rwanda                                                            7\n",
       "Djibouti                                                          7\n",
       "Puerto Rico                                                       7\n",
       "Algeria                                                           7\n",
       "Haiti                                                             6\n",
       "Sint Maarten (Dutch part)                                         6\n",
       "Timor-Leste                                                       6\n",
       "Virgin Islands (U.S.)                                             6\n",
       "Benin                                                             6\n",
       "Trinidad and Tobago                                               6\n",
       "Mongolia                                                          6\n",
       "Latvia                                                            5\n",
       "El Salvador                                                       5\n",
       "Macao                                                             4\n",
       "Niger (the)                                                       4\n",
       "Nepal                                                             4\n",
       "Bermuda                                                           4\n",
       "Kosovo                                                            4\n",
       "Bangladesh                                                        4\n",
       "Sri Lanka                                                         4\n",
       "New Caledonia                                                     4\n",
       "Myanmar                                                           3\n",
       "Cameroon                                                          3\n",
       "Cyprus                                                            3\n",
       "Georgia                                                           3\n",
       "Finland                                                           3\n",
       "Barbados                                                          3\n",
       "Afghanistan                                                       3\n",
       "Namibia                                                           3\n",
       "Kyrgyzstan                                                        2\n",
       "Liberia                                                           2\n",
       "Turks and Caicos Islands (the)                                    2\n",
       "Seychelles                                                        2\n",
       "Burkina Faso                                                      2\n",
       "Cayman Islands (the)                                              2\n",
       "Congo (the)                                                       2\n",
       "Tajikistan                                                        2\n",
       "Maldives                                                          1\n",
       "Lithuania                                                         1\n",
       "Nicaragua                                                         1\n",
       "Vanuatu                                                           1\n",
       "Belarus                                                           1\n",
       "Paraguay                                                          1\n",
       "Luxembourg                                                        1\n",
       "Iceland                                                           1\n",
       "Anguilla                                                          1\n",
       "Saint Kitts and Nevis                                             1\n",
       "Cuba                                                              1\n",
       "Name: count, dtype: int64"
      ]
     },
     "execution_count": 76,
     "metadata": {},
     "output_type": "execute_result"
    }
   ],
   "source": [
    "HEALTH_STATE_MAP_final[HEALTH_STATE_MAP_final['ICD_CODE_BUCKET_HS_CCSR_2023']=='left_only']['HS_claim_location_country_nm'].value_counts()     \n",
    "\n"
   ]
  },
  {
   "cell_type": "code",
   "execution_count": 77,
   "id": "1b44a2bf-3d86-47cf-ad4e-d34d380dab75",
   "metadata": {
    "tags": []
   },
   "outputs": [
    {
     "data": {
      "text/plain": [
       "43842"
      ]
     },
     "execution_count": 77,
     "metadata": {},
     "output_type": "execute_result"
    }
   ],
   "source": [
    "HEALTH_STATE_MAP_final[HEALTH_STATE_MAP_final['ICD_CODE_BUCKET_HS_CCSR_2023']=='left_only']['HS_claim_location_country_nm'].count()"
   ]
  },
  {
   "cell_type": "markdown",
   "id": "40bc7ba5-80d1-45e2-b09e-af6ff1580a4e",
   "metadata": {},
   "source": [
    "## data set for America "
   ]
  },
  {
   "cell_type": "code",
   "execution_count": 78,
   "id": "67a695af-a9b6-4ee4-92f8-1105dae41471",
   "metadata": {
    "tags": []
   },
   "outputs": [],
   "source": [
    "America= HEALTH_STATE_MAP_final[(HEALTH_STATE_MAP_final['ICD_CODE_BUCKET_HS_CCSR_2023']=='left_only')  &  \n",
    " (HEALTH_STATE_MAP_final['HS_claim_location_country_nm']=='United States of America (the)')]"
   ]
  },
  {
   "cell_type": "markdown",
   "id": "9daa9454-6428-4a0c-ac54-e4e790eda281",
   "metadata": {},
   "source": [
    "## count in 7% missing dataset"
   ]
  },
  {
   "cell_type": "code",
   "execution_count": 79,
   "id": "7eff34e7-bfcf-4ed5-a662-66d8c61f8a73",
   "metadata": {
    "tags": []
   },
   "outputs": [
    {
     "data": {
      "text/plain": [
       "CCSR_CHAPTER_CODE_BUCKET\n",
       "both          42428\n",
       "left_only      1414\n",
       "right_only        0\n",
       "Name: count, dtype: int64"
      ]
     },
     "execution_count": 79,
     "metadata": {},
     "output_type": "execute_result"
    }
   ],
   "source": [
    "HEALTH_STATE_MAP_final[HEALTH_STATE_MAP_final['ICD_CODE_BUCKET_HS_CCSR_2023']=='left_only']['CCSR_CHAPTER_CODE_BUCKET'].value_counts() \n",
    "\n",
    "# total both plus left_only= 43779"
   ]
  },
  {
   "cell_type": "code",
   "execution_count": 80,
   "id": "e1bc92c4-f08f-4b2f-b34c-d1e9dcb97d77",
   "metadata": {
    "collapsed": true,
    "jupyter": {
     "outputs_hidden": true
    },
    "tags": []
   },
   "outputs": [
    {
     "data": {
      "text/plain": [
       "HS_icd_10_cm_code\n",
       "Z012      21386\n",
       "DEIMM       875\n",
       "E11         853\n",
       "Z014        638\n",
       "J45         627\n",
       "U072        578\n",
       "Z76         558\n",
       "RTNIMM      521\n",
       "M2551       360\n",
       "T7840       327\n",
       "M54         291\n",
       "Z769        237\n",
       "F41         174\n",
       "J02         166\n",
       "J20         165\n",
       "R10         154\n",
       "M543        150\n",
       "L70         148\n",
       "J019        147\n",
       "M750        144\n",
       "E05         140\n",
       "S934        139\n",
       "K297        134\n",
       "H521        127\n",
       "H10         124\n",
       "M754        123\n",
       "J01         121\n",
       "F432        120\n",
       "B07         119\n",
       "K290        114\n",
       "K21         113\n",
       "R50         112\n",
       "J459        111\n",
       "R060        109\n",
       "M255        106\n",
       "M751        105\n",
       "M17         103\n",
       "C50         103\n",
       "B02         102\n",
       "M511        102\n",
       "H0412        92\n",
       "H612         92\n",
       "M7967        91\n",
       "R07          90\n",
       "J11          89\n",
       "R53          88\n",
       "F33          86\n",
       "E08          85\n",
       "Z4881        84\n",
       "E13          83\n",
       "E03          82\n",
       "K590         82\n",
       "Z000         81\n",
       "F90          80\n",
       "H669         79\n",
       "J039         79\n",
       "M10          75\n",
       "I251         75\n",
       "L20          75\n",
       "H010         73\n",
       "G473         72\n",
       "Z001         71\n",
       "E66          71\n",
       "M7964        71\n",
       "N40          70\n",
       "F32          69\n",
       "A010         69\n",
       "K29          68\n",
       "R11          67\n",
       "M6283        67\n",
       "H931         65\n",
       "E55          65\n",
       "M23          63\n",
       "G43          63\n",
       "C509         63\n",
       "M544         62\n",
       "Z33          61\n",
       "B36          60\n",
       "T784         60\n",
       "M2552        60\n",
       "F50          58\n",
       "G470         57\n",
       "Z480         56\n",
       "Z380         56\n",
       "M2556        55\n",
       "S860         54\n",
       "N76          54\n",
       "K58          54\n",
       "J06          54\n",
       "K64          53\n",
       "S8980        53\n",
       "Z2082        52\n",
       "Z010         52\n",
       "M2555        51\n",
       "M538         50\n",
       "J30          50\n",
       "Z02          49\n",
       "I25          47\n",
       "M541         47\n",
       "N39          47\n",
       "R688         47\n",
       "M2557        46\n",
       "D391         46\n",
       "I48          46\n",
       "C53          45\n",
       "H400         44\n",
       "S832         44\n",
       "Z63          44\n",
       "S9291        44\n",
       "S521         43\n",
       "F84          43\n",
       "F431         43\n",
       "H522         42\n",
       "E10          42\n",
       "S82          41\n",
       "S83509       41\n",
       "L57          41\n",
       "L50          40\n",
       "H681         40\n",
       "G409         40\n",
       "J03          39\n",
       "R73          39\n",
       "C811         38\n",
       "N309         37\n",
       "Z018         37\n",
       "S835         37\n",
       "J32          37\n",
       "M6216        36\n",
       "M513         36\n",
       "D12          36\n",
       "L23          36\n",
       "M753         35\n",
       "M224         34\n",
       "L72          34\n",
       "R529         33\n",
       "S80          33\n",
       "J308         33\n",
       "T881         33\n",
       "N832         33\n",
       "C64          33\n",
       "R103         32\n",
       "H920         32\n",
       "N300         32\n",
       "G439         32\n",
       "H40          31\n",
       "K80          31\n",
       "L82          30\n",
       "S460         30\n",
       "T23009       29\n",
       "G430         29\n",
       "E149         29\n",
       "Z00          29\n",
       "B35          29\n",
       "Z39          29\n",
       "H001         27\n",
       "L039         27\n",
       "K51          27\n",
       "W57          26\n",
       "H660         26\n",
       "S430         26\n",
       "K52          26\n",
       "J018         25\n",
       "S0990        25\n",
       "Z988         25\n",
       "H60          25\n",
       "D50          25\n",
       "L21          25\n",
       "K05          24\n",
       "Z01          24\n",
       "N97          24\n",
       "S420         24\n",
       "D22          24\n",
       "M238         23\n",
       "S93          23\n",
       "M62          23\n",
       "M798         23\n",
       "Z019         22\n",
       "M32          22\n",
       "L208         22\n",
       "K295         22\n",
       "X008         22\n",
       "Z48          22\n",
       "M45          21\n",
       "K768         21\n",
       "G40          21\n",
       "S73109       21\n",
       "S626         21\n",
       "S7242        21\n",
       "N20          21\n",
       "Z11          21\n",
       "Z349         21\n",
       "L24          21\n",
       "M6255        21\n",
       "L85          20\n",
       "Z984         20\n",
       "M501         20\n",
       "H65          20\n",
       "S638X9       20\n",
       "H103         20\n",
       "H401         20\n",
       "S800         19\n",
       "M202         19\n",
       "K050         19\n",
       "R108         19\n",
       "S22          19\n",
       "L02          19\n",
       "F500         19\n",
       "S134         19\n",
       "Z9101        19\n",
       "N602         19\n",
       "S43409       18\n",
       "S335         18\n",
       "H041         18\n",
       "F43          18\n",
       "Z0111        18\n",
       "H57          18\n",
       "L03          18\n",
       "R03          18\n",
       "E115         18\n",
       "J453         18\n",
       "S7240        18\n",
       "N288         18\n",
       "S821         18\n",
       "S52509       18\n",
       "E260         18\n",
       "S4221        18\n",
       "H650         17\n",
       "S81809       17\n",
       "H659         17\n",
       "K299         17\n",
       "M13          17\n",
       "M217         17\n",
       "E28          17\n",
       "Z34          17\n",
       "I489         17\n",
       "S33100       16\n",
       "M478         16\n",
       "H6054        16\n",
       "Z489         16\n",
       "L65          16\n",
       "M222         16\n",
       "L0302        16\n",
       "R06          16\n",
       "G433         16\n",
       "S62309       16\n",
       "M2553        16\n",
       "Q90          16\n",
       "L40          16\n",
       "A490         16\n",
       "M2561        16\n",
       "S0180        16\n",
       "O268         16\n",
       "S83          16\n",
       "Z9664        16\n",
       "E78          16\n",
       "M2117        15\n",
       "S635         15\n",
       "S42293       15\n",
       "S83411       15\n",
       "M7965        15\n",
       "S0590        15\n",
       "G442         15\n",
       "G44          15\n",
       "M239         15\n",
       "C349         15\n",
       "J108         15\n",
       "B34          15\n",
       "M7966        15\n",
       "M233         15\n",
       "S010         15\n",
       "I20          15\n",
       "S67          14\n",
       "S46099       14\n",
       "S828         14\n",
       "R63          14\n",
       "M51          14\n",
       "M060         14\n",
       "H4010        14\n",
       "S525         14\n",
       "L30          14\n",
       "H608X        14\n",
       "K519         14\n",
       "Z123         14\n",
       "K20          14\n",
       "H105         14\n",
       "L01          14\n",
       "I84121       14\n",
       "M774         14\n",
       "N768         14\n",
       "M725         14\n",
       "L97          14\n",
       "E14          14\n",
       "H811         14\n",
       "R13          14\n",
       "I829         13\n",
       "B08          13\n",
       "S462         13\n",
       "T6291        13\n",
       "Z320         13\n",
       "K40          13\n",
       "H608         13\n",
       "S52309       13\n",
       "E050         13\n",
       "E059         13\n",
       "R14          13\n",
       "S4990        13\n",
       "F31          13\n",
       "M81          13\n",
       "R500         13\n",
       "H162         13\n",
       "R22          13\n",
       "S6980        13\n",
       "H33          12\n",
       "S93402       12\n",
       "E113         12\n",
       "S99919       12\n",
       "F119         12\n",
       "C795         12\n",
       "K515         12\n",
       "S9093        12\n",
       "E112         12\n",
       "H50          12\n",
       "G51          12\n",
       "M214         12\n",
       "M171         12\n",
       "K566         12\n",
       "S52609       12\n",
       "J030         12\n",
       "S8210        12\n",
       "T149         12\n",
       "R224         12\n",
       "S7201        12\n",
       "R501         12\n",
       "M766         12\n",
       "S060X9       12\n",
       "T189         12\n",
       "S4300        12\n",
       "S59819       12\n",
       "H4005        11\n",
       "L71          11\n",
       "H000         11\n",
       "M512         11\n",
       "H251         11\n",
       "O342         11\n",
       "L248         11\n",
       "N35          11\n",
       "M92          11\n",
       "Z300         11\n",
       "I11          11\n",
       "J31          11\n",
       "B50          11\n",
       "Z71          11\n",
       "G81          11\n",
       "K12          11\n",
       "S903         11\n",
       "S83519       11\n",
       "E145         11\n",
       "N18          11\n",
       "S63          11\n",
       "H102         11\n",
       "S330         11\n",
       "O10          11\n",
       "C343         11\n",
       "K800         11\n",
       "S999         11\n",
       "S623         11\n",
       "D894         11\n",
       "B00          10\n",
       "R538         10\n",
       "L038         10\n",
       "S920         10\n",
       "S8201        10\n",
       "S61200       10\n",
       "S822         10\n",
       "O269         10\n",
       "C900         10\n",
       "M75          10\n",
       "S52511       10\n",
       "S90221       10\n",
       "R098         10\n",
       "S62009       10\n",
       "H00          10\n",
       "M052         10\n",
       "S93401       10\n",
       "M16          10\n",
       "O03          10\n",
       "H357         10\n",
       "S81          10\n",
       "I26          10\n",
       "S61219       10\n",
       "H809         10\n",
       "R79          10\n",
       "S0143        10\n",
       "M47          10\n",
       "O240         10\n",
       "H353         10\n",
       "O091         10\n",
       "J038         10\n",
       "S901          9\n",
       "C80           9\n",
       "T23001        9\n",
       "S9240         9\n",
       "T7805         9\n",
       "M702          9\n",
       "C959          9\n",
       "H5222         9\n",
       "S011          9\n",
       "B27           9\n",
       "K501          9\n",
       "S936          9\n",
       "L08           9\n",
       "F401          9\n",
       "G900          9\n",
       "R111          9\n",
       "F19           9\n",
       "L63           9\n",
       "S92919        9\n",
       "I831          9\n",
       "T783          9\n",
       "Z30           9\n",
       "R68           9\n",
       "I269          9\n",
       "S620          9\n",
       "F313          9\n",
       "K296          9\n",
       "H34           9\n",
       "S520          9\n",
       "N601          9\n",
       "S669          9\n",
       "H250          9\n",
       "L0381         9\n",
       "M2116         8\n",
       "S600          8\n",
       "Z32           8\n",
       "B05           8\n",
       "Z65           8\n",
       "M705          8\n",
       "N811          8\n",
       "S925          8\n",
       "J350          8\n",
       "S0121         8\n",
       "L029          8\n",
       "D57           8\n",
       "S46092        8\n",
       "J18           8\n",
       "S599          8\n",
       "I84           8\n",
       "S661          8\n",
       "S8000         8\n",
       "M771          8\n",
       "H1883         8\n",
       "D27           8\n",
       "S80869        8\n",
       "J091          8\n",
       "F80           8\n",
       "S93429        8\n",
       "S01109        8\n",
       "M548          8\n",
       "M990          8\n",
       "G405          8\n",
       "T169          8\n",
       "R101          8\n",
       "N04           8\n",
       "E27           8\n",
       "S80819        8\n",
       "O094          8\n",
       "S060          8\n",
       "M707          8\n",
       "Z03           8\n",
       "H4003         8\n",
       "J05           8\n",
       "G576          8\n",
       "Z9665         8\n",
       "S9340         8\n",
       "A083          8\n",
       "R31           8\n",
       "L050          8\n",
       "V892          8\n",
       "T814          8\n",
       "H405          8\n",
       "S91319        7\n",
       "N30           7\n",
       "O72           7\n",
       "W54           7\n",
       "C34           7\n",
       "R943          7\n",
       "R91           7\n",
       "S025          7\n",
       "K528          7\n",
       "M266          7\n",
       "J10           7\n",
       "D486          7\n",
       "E085          7\n",
       "G724          7\n",
       "K27           7\n",
       "L023          7\n",
       "S60041        7\n",
       "L031          7\n",
       "Z011          7\n",
       "H40129        7\n",
       "M34           7\n",
       "S61401        7\n",
       "M942          7\n",
       "R478          7\n",
       "S8214         7\n",
       "S8290         7\n",
       "R520          7\n",
       "D180          7\n",
       "F10           7\n",
       "S43086        7\n",
       "E29           7\n",
       "H609          7\n",
       "M674          7\n",
       "S82002        7\n",
       "K628          7\n",
       "S799          7\n",
       "S61           7\n",
       "O20           7\n",
       "N93           7\n",
       "S830          7\n",
       "S636          7\n",
       "S9349         7\n",
       "Z12           7\n",
       "K802          7\n",
       "S8392         7\n",
       "N02           7\n",
       "S93609        7\n",
       "H53           7\n",
       "J44           7\n",
       "M79           7\n",
       "H810          7\n",
       "H0282         6\n",
       "M755          6\n",
       "G891          6\n",
       "E53           6\n",
       "K508          6\n",
       "S900          6\n",
       "B99           6\n",
       "T384          6\n",
       "M710          6\n",
       "M01X7         6\n",
       "S00501        6\n",
       "S8982         6\n",
       "G575          6\n",
       "Z340          6\n",
       "H023          6\n",
       "G560          6\n",
       "N633          6\n",
       "M05           6\n",
       "Z861          6\n",
       "I841          6\n",
       "S8230         6\n",
       "K76           6\n",
       "H011          6\n",
       "C8270         6\n",
       "S53032        6\n",
       "K59           6\n",
       "E083          6\n",
       "M7960         6\n",
       "E87           6\n",
       "M6256         6\n",
       "N5081         6\n",
       "H531          6\n",
       "H025          6\n",
       "E21           6\n",
       "M104          6\n",
       "S009          6\n",
       "L020          6\n",
       "K509          6\n",
       "G47           6\n",
       "H699          6\n",
       "H7300         6\n",
       "M6584         6\n",
       "F25           6\n",
       "M6735         6\n",
       "S56           6\n",
       "S338          6\n",
       "S923          6\n",
       "H4020         6\n",
       "S3992         6\n",
       "M256          6\n",
       "S8990         6\n",
       "M653          6\n",
       "P073          6\n",
       "S0211         6\n",
       "R391          6\n",
       "H186          6\n",
       "N46           6\n",
       "T85848        6\n",
       "J011          6\n",
       "W19           6\n",
       "S0591         6\n",
       "J938          6\n",
       "H3541         6\n",
       "S8350         6\n",
       "G70           6\n",
       "S83241        6\n",
       "N80           6\n",
       "I80           6\n",
       "S7000         6\n",
       "G403          6\n",
       "Z518          6\n",
       "Z0140         5\n",
       "N45           5\n",
       "S129          5\n",
       "J21           5\n",
       "T14           5\n",
       "J4590         5\n",
       "R35           5\n",
       "Z304          5\n",
       "Z0010         5\n",
       "S8220         5\n",
       "M991          5\n",
       "S01501        5\n",
       "C67           5\n",
       "O364          5\n",
       "I8281         5\n",
       "M350          5\n",
       "V0032         5\n",
       "S139          5\n",
       "M19           5\n",
       "J380          5\n",
       "S431          5\n",
       "E50           5\n",
       "R190          5\n",
       "T887          5\n",
       "S62649        5\n",
       "Z038          5\n",
       "S8086         5\n",
       "L92           5\n",
       "M763          5\n",
       "72990         5\n",
       "I8420         5\n",
       "I802          5\n",
       "R508          5\n",
       "E34           5\n",
       "H68           5\n",
       "E04           5\n",
       "S80919        5\n",
       "S509          5\n",
       "H341          5\n",
       "H520          5\n",
       "N851          5\n",
       "S97109        5\n",
       "E07           5\n",
       "H72           5\n",
       "S0501         5\n",
       "Z318          5\n",
       "S91309        5\n",
       "D86           5\n",
       "J010          5\n",
       "O090          5\n",
       "T781          5\n",
       "S138          5\n",
       "M06           5\n",
       "S53           5\n",
       "S92312        5\n",
       "S46012        5\n",
       "L030          5\n",
       "E23           5\n",
       "M232          5\n",
       "S699          5\n",
       "S83207        5\n",
       "H663          5\n",
       "I678          5\n",
       "S4343         5\n",
       "H67           5\n",
       "V726          5\n",
       "R30           5\n",
       "O321          5\n",
       "R223          5\n",
       "S63612        5\n",
       "S4992         4\n",
       "S0190         4\n",
       "Y932          4\n",
       "H5314         4\n",
       "H912          4\n",
       "S5250         4\n",
       "N645          4\n",
       "S3421         4\n",
       "K298          4\n",
       "H101          4\n",
       "S80911        4\n",
       "S098          4\n",
       "G57           4\n",
       "H114          4\n",
       "S46           4\n",
       "R59           4\n",
       "G443          4\n",
       "K052          4\n",
       "M658          4\n",
       "F311          4\n",
       "M858          4\n",
       "K14           4\n",
       "Z86           4\n",
       "L66           4\n",
       "S9230         4\n",
       "H729          4\n",
       "N90           4\n",
       "K65           4\n",
       "E74           4\n",
       "E835          4\n",
       "S90129        4\n",
       "D06           4\n",
       "H113          4\n",
       "S83409        4\n",
       "S39012        4\n",
       "Z31           4\n",
       "H571          4\n",
       "M70           4\n",
       "M2565         4\n",
       "H108          4\n",
       "L81           4\n",
       "N258          4\n",
       "S6290         4\n",
       "R60           4\n",
       "C449          4\n",
       "H0113         4\n",
       "N47           4\n",
       "H6600         4\n",
       "S93499        4\n",
       "B01           4\n",
       "M242          4\n",
       "Z0012         4\n",
       "M068          4\n",
       "H525          4\n",
       "S13100        4\n",
       "M8430         4\n",
       "N608          4\n",
       "N709          4\n",
       "R522          4\n",
       "H01           4\n",
       "S202          4\n",
       "S79819        4\n",
       "S534          4\n",
       "M1384         4\n",
       "L60           4\n",
       "R04           4\n",
       "M2554         4\n",
       "H433          4\n",
       "H183          4\n",
       "S56919        4\n",
       "H5303         4\n",
       "T798          4\n",
       "I839          4\n",
       "S224          4\n",
       "S633          4\n",
       "N92           4\n",
       "S826          4\n",
       "Q96           4\n",
       "S911          4\n",
       "S59809        4\n",
       "N52           4\n",
       "J452          4\n",
       "H02           4\n",
       "S0120         4\n",
       "S63501        4\n",
       "V340          4\n",
       "D21           4\n",
       "G90           4\n",
       "H17           4\n",
       "S8681         4\n",
       "M089          4\n",
       "L29           4\n",
       "E1131         4\n",
       "C859          4\n",
       "S46301        4\n",
       "D61           4\n",
       "Z38           4\n",
       "W18           4\n",
       "R625          4\n",
       "H813          4\n",
       "N48           4\n",
       "H5081         4\n",
       "H44           4\n",
       "N34           4\n",
       "J100          4\n",
       "R20           4\n",
       "E73           4\n",
       "H40123        4\n",
       "S0081         4\n",
       "Z0141         4\n",
       "S5252         4\n",
       "N85           4\n",
       "A08           4\n",
       "S62122        4\n",
       "M998          4\n",
       "C921          4\n",
       "L91           4\n",
       "E884          4\n",
       "H331          4\n",
       "E1134         4\n",
       "R40222        4\n",
       "K86           4\n",
       "M15           4\n",
       "R068          4\n",
       "T510X1        3\n",
       "L238          3\n",
       "O927          3\n",
       "N60           3\n",
       "S82209        3\n",
       "T84028        3\n",
       "K579          3\n",
       "H348          3\n",
       "M759          3\n",
       "N41           3\n",
       "K25           3\n",
       "F1022         3\n",
       "D48           3\n",
       "H6033         3\n",
       "S0993         3\n",
       "S9021         3\n",
       "D051          3\n",
       "R730          3\n",
       "S43429        3\n",
       "S841          3\n",
       "O244          3\n",
       "T1592         3\n",
       "M244          3\n",
       "S62501        3\n",
       "S46901        3\n",
       "K578          3\n",
       "S935          3\n",
       "S0093         3\n",
       "N94           3\n",
       "L721          3\n",
       "H438          3\n",
       "M6206         3\n",
       "R26           3\n",
       "S90           3\n",
       "Z768          3\n",
       "C14           3\n",
       "S0100         3\n",
       "H16           3\n",
       "Z47           3\n",
       "R1081         3\n",
       "F81           3\n",
       "C40           3\n",
       "S220          3\n",
       "H533          3\n",
       "M235          3\n",
       "K638          3\n",
       "O096          3\n",
       "C15           3\n",
       "B279          3\n",
       "S83249        3\n",
       "N600          3\n",
       "T84           3\n",
       "R18           3\n",
       "F400          3\n",
       "S829          3\n",
       "S5202         3\n",
       "Z43           3\n",
       "T2640         3\n",
       "W502          3\n",
       "M1315         3\n",
       "C5090         3\n",
       "S612          3\n",
       "S71009        3\n",
       "M2582         3\n",
       "J34           3\n",
       "S52501        3\n",
       "T30           3\n",
       "D17           3\n",
       "S6990         3\n",
       "T17900        3\n",
       "H680          3\n",
       "Z348          3\n",
       "S37           3\n",
       "Z637          3\n",
       "E110          3\n",
       "S99911        3\n",
       "S49           3\n",
       "M796          3\n",
       "N850          3\n",
       "D64           3\n",
       "M199          3\n",
       "S0603         3\n",
       "F510          3\n",
       "H54           3\n",
       "S0080         3\n",
       "R92           3\n",
       "S01119        3\n",
       "S602          3\n",
       "S6260         3\n",
       "S2232         3\n",
       "W540          3\n",
       "H932          3\n",
       "O14           3\n",
       "S069          3\n",
       "H0111         3\n",
       "M2537         3\n",
       "M628          3\n",
       "M201          3\n",
       "M2427         3\n",
       "K227          3\n",
       "B082          3\n",
       "S899          3\n",
       "R268          3\n",
       "B81           3\n",
       "M41           3\n",
       "H819          3\n",
       "M509          3\n",
       "M405          3\n",
       "S60569        3\n",
       "K729          3\n",
       "M238X         3\n",
       "A022          3\n",
       "M540          3\n",
       "O233          3\n",
       "M6747         3\n",
       "H350          3\n",
       "G892          3\n",
       "Z316          3\n",
       "S92909        3\n",
       "N701          3\n",
       "M94           3\n",
       "K112          3\n",
       "H600          3\n",
       "M138          3\n",
       "S92351        3\n",
       "H4702         3\n",
       "F51           3\n",
       "S92511        2\n",
       "H1023         2\n",
       "H652          2\n",
       "S35319        2\n",
       "C793          2\n",
       "Z511          2\n",
       "S81009        2\n",
       "S9301         2\n",
       "S7230         2\n",
       "H430          2\n",
       "O45           2\n",
       "S501          2\n",
       "M773          2\n",
       "S07           2\n",
       "M80           2\n",
       "S4601         2\n",
       "T242          2\n",
       "S8630         2\n",
       "K500          2\n",
       "S6000         2\n",
       "S76212        2\n",
       "Z13           2\n",
       "S161          2\n",
       "M40           2\n",
       "S9369         2\n",
       "H0001         2\n",
       "H100          2\n",
       "S00           2\n",
       "V495          2\n",
       "Z924          2\n",
       "D14           2\n",
       "S300          2\n",
       "T7803         2\n",
       "R078          2\n",
       "I8389         2\n",
       "E1132         2\n",
       "S92309        2\n",
       "S290          2\n",
       "S6991         2\n",
       "T753          2\n",
       "S62           2\n",
       "L64           2\n",
       "S625          2\n",
       "S93699        2\n",
       "A15           2\n",
       "G4310         2\n",
       "R56           2\n",
       "N42           2\n",
       "S301          2\n",
       "M24           2\n",
       "C504          2\n",
       "F109          2\n",
       "T16           2\n",
       "S83521        2\n",
       "Z964          2\n",
       "S3202         2\n",
       "F334          2\n",
       "M18           2\n",
       "I83           2\n",
       "K293          2\n",
       "W5503         2\n",
       "S62632        2\n",
       "Z568          2\n",
       "G438          2\n",
       "M800          2\n",
       "Z98           2\n",
       "K409          2\n",
       "E660          2\n",
       "E09           2\n",
       "N428          2\n",
       "S33140        2\n",
       "E081          2\n",
       "S32           2\n",
       "H0284         2\n",
       "S76           2\n",
       "Z115          2\n",
       "D25           2\n",
       "M480          2\n",
       "W5501         2\n",
       "S01           2\n",
       "B191          2\n",
       "S83511        2\n",
       "M421          2\n",
       "K63           2\n",
       "I830          2\n",
       "H27           2\n",
       "H3537         2\n",
       "D49           2\n",
       "M65           2\n",
       "S70           2\n",
       "E00           2\n",
       "H919          2\n",
       "N64           2\n",
       "S63599        2\n",
       "S370          2\n",
       "H4022         2\n",
       "H0002         2\n",
       "G36           2\n",
       "I693          2\n",
       "M2322         2\n",
       "M770          2\n",
       "Z121          2\n",
       "T381          2\n",
       "S4342         2\n",
       "E131          2\n",
       "M911          2\n",
       "D24           2\n",
       "M72           2\n",
       "S210          2\n",
       "S641          2\n",
       "O469          2\n",
       "S02401        2\n",
       "N81           2\n",
       "W541          2\n",
       "S76291        2\n",
       "H1624         2\n",
       "Z128          2\n",
       "M210          2\n",
       "S63519        2\n",
       "H830          2\n",
       "L010          2\n",
       "Z29           2\n",
       "M7963         2\n",
       "V180          2\n",
       "S629          2\n",
       "M2567         2\n",
       "R74           2\n",
       "C85           2\n",
       "N87           2\n",
       "K351          2\n",
       "L024          2\n",
       "L74           2\n",
       "H330          2\n",
       "S01409        2\n",
       "G571          2\n",
       "082           2\n",
       "E051          2\n",
       "K35           2\n",
       "G258          2\n",
       "S83512        2\n",
       "S6720         2\n",
       "M2531         2\n",
       "M8622         2\n",
       "S001          2\n",
       "I13           2\n",
       "M503          2\n",
       "M924          2\n",
       "S53439        2\n",
       "C699          2\n",
       "M4847         2\n",
       "R298          2\n",
       "C82           2\n",
       "S5000         2\n",
       "E79           2\n",
       "K72           2\n",
       "M86           2\n",
       "E56           2\n",
       "D361          2\n",
       "H4739         2\n",
       "H0411         2\n",
       "G40B          2\n",
       "H605          2\n",
       "T8332         2\n",
       "E67           2\n",
       "D293          2\n",
       "H35           2\n",
       "K805          2\n",
       "S5990         2\n",
       "S610          2\n",
       "S46011        1\n",
       "Y923          1\n",
       "O120          1\n",
       "T24199        1\n",
       "C780          1\n",
       "S7200         1\n",
       "Z138          1\n",
       "C500          1\n",
       "C75           1\n",
       "S83412        1\n",
       "Y927          1\n",
       "S951          1\n",
       "V380          1\n",
       "T50Z95        1\n",
       "M992          1\n",
       "C18           1\n",
       "F102          1\n",
       "Z914          1\n",
       "L05           1\n",
       "M01           1\n",
       "R90           1\n",
       "S663          1\n",
       "H511          1\n",
       "Z532          1\n",
       "L25           1\n",
       "T50901        1\n",
       "Z718          1\n",
       "S76301        1\n",
       "K92           1\n",
       "S6328         1\n",
       "I74           1\n",
       "S8091         1\n",
       "L95           1\n",
       "S39011        1\n",
       "M760          1\n",
       "T2000         1\n",
       "S42           1\n",
       "M411          1\n",
       "F316          1\n",
       "K02           1\n",
       "S499          1\n",
       "R299          1\n",
       "K758          1\n",
       "K294          1\n",
       "S1311         1\n",
       "S80912        1\n",
       "K13           1\n",
       "S621          1\n",
       "S46001        1\n",
       "M6136         1\n",
       "V9189         1\n",
       "S91209        1\n",
       "D23           1\n",
       "S80861        1\n",
       "E116          1\n",
       "M7962         1\n",
       "H742          1\n",
       "H472          1\n",
       "I82           1\n",
       "R619          1\n",
       "N460          1\n",
       "M2466         1\n",
       "N301          1\n",
       "H3503         1\n",
       "S132          1\n",
       "Z3A           1\n",
       "S99929        1\n",
       "N6080         1\n",
       "S099          1\n",
       "S29           1\n",
       "T509          1\n",
       "L98           1\n",
       "J12           1\n",
       "S223          1\n",
       "O3680         1\n",
       "E721          1\n",
       "M2546         1\n",
       "H92           1\n",
       "S43006        1\n",
       "M22           1\n",
       "S43           1\n",
       "S99921        1\n",
       "H18           1\n",
       "F30           1\n",
       "S43004        1\n",
       "B008          1\n",
       "D68           1\n",
       "S82152        1\n",
       "M624          1\n",
       "S81021        1\n",
       "M8702         1\n",
       "P94           1\n",
       "S86909        1\n",
       "Z870          1\n",
       "S0181         1\n",
       "N394          1\n",
       "M997          1\n",
       "H3571         1\n",
       "H4021         1\n",
       "F808          1\n",
       "S272          1\n",
       "M2487         1\n",
       "J09           1\n",
       "F301          1\n",
       "H045          1\n",
       "S6021         1\n",
       "F982          1\n",
       "S52022        1\n",
       "S422          1\n",
       "C920          1\n",
       "S9342         1\n",
       "K44           1\n",
       "S6105         1\n",
       "E760          1\n",
       "S62609        1\n",
       "S0033         1\n",
       "C45           1\n",
       "K73           1\n",
       "M331          1\n",
       "S42302        1\n",
       "Z0011         1\n",
       "S82009        1\n",
       "S52002        1\n",
       "K573          1\n",
       "A692          1\n",
       "S86012        1\n",
       "S76319        1\n",
       "Z04           1\n",
       "H048          1\n",
       "T63           1\n",
       "H51           1\n",
       "R39           1\n",
       "M7682         1\n",
       "M701          1\n",
       "M625          1\n",
       "E22           1\n",
       "L890          1\n",
       "H933X         1\n",
       "S29019        1\n",
       "G03           1\n",
       "Q53           1\n",
       "S91339        1\n",
       "G440          1\n",
       "N609          1\n",
       "K42           1\n",
       "M712          1\n",
       "M7689         1\n",
       "L73           1\n",
       "V9105         1\n",
       "I49           1\n",
       "K511          1\n",
       "S8351         1\n",
       "C51           1\n",
       "I47           1\n",
       "S320          1\n",
       "E148          1\n",
       "I652          1\n",
       "D72           1\n",
       "D78           1\n",
       "H618          1\n",
       "S86002        1\n",
       "M21           1\n",
       "M8537         1\n",
       "E831          1\n",
       "S59901        1\n",
       "S62307        1\n",
       "S14109        1\n",
       "G4050         1\n",
       "S233          1\n",
       "S76312        1\n",
       "S1011         1\n",
       "H104          1\n",
       "T519          1\n",
       "S854          1\n",
       "R40           1\n",
       "N84           1\n",
       "G4741         1\n",
       "S73191        1\n",
       "K08           1\n",
       "O343          1\n",
       "S731          1\n",
       "J39           1\n",
       "M6524         1\n",
       "S63602        1\n",
       "K46           1\n",
       "L059          1\n",
       "L0312         1\n",
       "B962          1\n",
       "H6601         1\n",
       "H25           1\n",
       "M6797         1\n",
       "R00           1\n",
       "S0040         1\n",
       "O04           1\n",
       "D221          1\n",
       "S66909        1\n",
       "M50           1\n",
       "M2321         1\n",
       "S614          1\n",
       "F40           1\n",
       "E114          1\n",
       "E283          1\n",
       "S83242        1\n",
       "S332          1\n",
       "G4090         1\n",
       "H603          1\n",
       "N632          1\n",
       "M2417         1\n",
       "Name: count, dtype: int64"
      ]
     },
     "execution_count": 80,
     "metadata": {},
     "output_type": "execute_result"
    }
   ],
   "source": [
    "HEALTH_STATE_MAP_final[HEALTH_STATE_MAP_final['ICD_CODE_BUCKET_HS_CCSR_2023']=='left_only']['HS_icd_10_cm_code'].value_counts(ascending=False)     "
   ]
  },
  {
   "cell_type": "code",
   "execution_count": null,
   "id": "95891274-91ac-4380-8fd6-5f03d26f3436",
   "metadata": {},
   "outputs": [],
   "source": []
  },
  {
   "cell_type": "markdown",
   "id": "3a0a3aff-c5d4-48c3-b278-dc375e6666a8",
   "metadata": {},
   "source": [
    "# CCSR vs Ip vs OP"
   ]
  },
  {
   "cell_type": "code",
   "execution_count": 81,
   "id": "8ff8d715-a61b-43e7-ae64-6cf69379f820",
   "metadata": {
    "tags": []
   },
   "outputs": [],
   "source": [
    "HEALTH_STATE_MAP_final['CCSR_1_HS_CHAPTER']= np.where(HEALTH_STATE_MAP_final['CCSR_Body_sys_ABR_mapped_HS_CODE']==HEALTH_STATE_MAP_final['CCSR_CATEGORY_1_2023'].str[0:3],'MATCH',\n",
    "                                                     np.where(HEALTH_STATE_MAP_final['CCSR_CATEGORY_1_2023'].isnull() ,\"NA\",\"NO MATCH\"))"
   ]
  },
  {
   "cell_type": "code",
   "execution_count": 82,
   "id": "030806d4-995a-4aff-a239-b988f3213115",
   "metadata": {
    "tags": []
   },
   "outputs": [
    {
     "data": {
      "text/plain": [
       "CCSR_1_HS_CHAPTER\n",
       "MATCH       494825\n",
       "NO MATCH     70301\n",
       "NA           43842\n",
       "Name: count, dtype: int64"
      ]
     },
     "execution_count": 82,
     "metadata": {},
     "output_type": "execute_result"
    }
   ],
   "source": [
    "HEALTH_STATE_MAP_final['CCSR_1_HS_CHAPTER'].value_counts()"
   ]
  },
  {
   "cell_type": "code",
   "execution_count": 83,
   "id": "3cdb404b-1506-4372-8efd-5661ca8f2762",
   "metadata": {
    "tags": []
   },
   "outputs": [
    {
     "data": {
      "text/html": [
       "<div>\n",
       "<style scoped>\n",
       "    .dataframe tbody tr th:only-of-type {\n",
       "        vertical-align: middle;\n",
       "    }\n",
       "\n",
       "    .dataframe tbody tr th {\n",
       "        vertical-align: top;\n",
       "    }\n",
       "\n",
       "    .dataframe thead th {\n",
       "        text-align: right;\n",
       "    }\n",
       "</style>\n",
       "<table border=\"1\" class=\"dataframe\">\n",
       "  <thead>\n",
       "    <tr style=\"text-align: right;\">\n",
       "      <th></th>\n",
       "      <th>HS_claim_num_key</th>\n",
       "      <th>HS_unique_member_id_key</th>\n",
       "      <th>HS_book_of_business_nm</th>\n",
       "      <th>HS_claim_location_country_cd</th>\n",
       "      <th>HS_claim_location_country_nm</th>\n",
       "      <th>HS_region</th>\n",
       "      <th>HS_claim_type_nm</th>\n",
       "      <th>HS_icd_10_cm_code</th>\n",
       "      <th>HS_diagnosis_1_desc</th>\n",
       "      <th>HS_ccsr_category_1_description</th>\n",
       "      <th>HS_is_chronic_cd</th>\n",
       "      <th>HS_cm_diagnosis_flag</th>\n",
       "      <th>HS_cm_flag</th>\n",
       "      <th>HS_local_currency_net_amt</th>\n",
       "      <th>HS_member_id</th>\n",
       "      <th>ICD_code_2023</th>\n",
       "      <th>ICD_10_CM_CODE_DESCRIPTION_2023</th>\n",
       "      <th>Default_CCSR_CATEGORY_IP_2023</th>\n",
       "      <th>Default_CCSR_CATEGORY_DESCRIPTION_IP_2023</th>\n",
       "      <th>Default_CCSR_CATEGORY_OP_2023</th>\n",
       "      <th>Default_CCSR_CATEGORY_DESCRIPTION_OP_2023</th>\n",
       "      <th>CCS_CATEGORY_2019</th>\n",
       "      <th>CCS_CATEGORY_DESCRIPTION_2019</th>\n",
       "      <th>icd_code_2019</th>\n",
       "      <th>ICD_10_CM_CODE_DESCRIPTION_2019</th>\n",
       "      <th>CCS_LVL_1_code_2019</th>\n",
       "      <th>CCSR_CATEGORY_1_2023</th>\n",
       "      <th>CCSR_CATEGORY_1_DESCRIPTION_2023</th>\n",
       "      <th>CCS_LVL_1_Description_2019</th>\n",
       "      <th>CCS_LVL_2_code_2019</th>\n",
       "      <th>CCS_LVL_2_Description_2019</th>\n",
       "      <th>CCSR_Body_System_Abbreviation_2023</th>\n",
       "      <th>ICD_2023_code_abr</th>\n",
       "      <th>ICD_10_code_book_chapter_2023</th>\n",
       "      <th>ICD_CODE_BUCKET_HS_CCSR_2023</th>\n",
       "      <th>CCS_chapter_number_2019</th>\n",
       "      <th>CCS_Body_System_Abbreviation_2019</th>\n",
       "      <th>IVD_9_code_diagnosis chapters</th>\n",
       "      <th>CCS_LEVEL1_CHAPTER_NAME_BUCKET</th>\n",
       "      <th>HS_ICD_code_Abr</th>\n",
       "      <th>CODE_range_first_three_characters</th>\n",
       "      <th>CCSR_Body_sys_ABR_mapped_HS_CODE</th>\n",
       "      <th>ICD_10_chapter_mapped_HS_CODE</th>\n",
       "      <th>CCSR_CHAPTER_CODE_BUCKET</th>\n",
       "      <th>ICD_23_19_BUCKET</th>\n",
       "      <th>ICD_HS_19_BUCKET</th>\n",
       "      <th>CCSR_1_HS_CHAPTER</th>\n",
       "    </tr>\n",
       "  </thead>\n",
       "  <tbody>\n",
       "    <tr>\n",
       "      <th>90</th>\n",
       "      <td>115139463</td>\n",
       "      <td>10192044</td>\n",
       "      <td>Americas</td>\n",
       "      <td>CHN</td>\n",
       "      <td>China</td>\n",
       "      <td>Asia</td>\n",
       "      <td>OP</td>\n",
       "      <td>J453</td>\n",
       "      <td>MILD PERSISTENT ASTHMA</td>\n",
       "      <td>NaN</td>\n",
       "      <td>NaN</td>\n",
       "      <td>NaN</td>\n",
       "      <td>False</td>\n",
       "      <td>0.00</td>\n",
       "      <td>2.090843e+10</td>\n",
       "      <td>NaN</td>\n",
       "      <td>NaN</td>\n",
       "      <td>NaN</td>\n",
       "      <td>NaN</td>\n",
       "      <td>NaN</td>\n",
       "      <td>NaN</td>\n",
       "      <td>NaN</td>\n",
       "      <td>NaN</td>\n",
       "      <td>NaN</td>\n",
       "      <td>NaN</td>\n",
       "      <td>NaN</td>\n",
       "      <td>NaN</td>\n",
       "      <td>NaN</td>\n",
       "      <td>NaN</td>\n",
       "      <td>NaN</td>\n",
       "      <td>NaN</td>\n",
       "      <td>NaN</td>\n",
       "      <td>NaN</td>\n",
       "      <td>NaN</td>\n",
       "      <td>left_only</td>\n",
       "      <td>NaN</td>\n",
       "      <td>NaN</td>\n",
       "      <td>NaN</td>\n",
       "      <td>left_only</td>\n",
       "      <td>J45</td>\n",
       "      <td>J45</td>\n",
       "      <td>RSP</td>\n",
       "      <td>Diseases of the respiratory system</td>\n",
       "      <td>both</td>\n",
       "      <td>NA</td>\n",
       "      <td>nan</td>\n",
       "      <td>NA</td>\n",
       "    </tr>\n",
       "    <tr>\n",
       "      <th>200</th>\n",
       "      <td>116067446</td>\n",
       "      <td>11988361</td>\n",
       "      <td>Americas</td>\n",
       "      <td>GRC</td>\n",
       "      <td>Greece</td>\n",
       "      <td>Europe</td>\n",
       "      <td>IP</td>\n",
       "      <td>K409</td>\n",
       "      <td>UNILATERAL INGUINAL HERN</td>\n",
       "      <td>NaN</td>\n",
       "      <td>NaN</td>\n",
       "      <td>NaN</td>\n",
       "      <td>False</td>\n",
       "      <td>10408.38</td>\n",
       "      <td>2.105294e+10</td>\n",
       "      <td>NaN</td>\n",
       "      <td>NaN</td>\n",
       "      <td>NaN</td>\n",
       "      <td>NaN</td>\n",
       "      <td>NaN</td>\n",
       "      <td>NaN</td>\n",
       "      <td>NaN</td>\n",
       "      <td>NaN</td>\n",
       "      <td>NaN</td>\n",
       "      <td>NaN</td>\n",
       "      <td>NaN</td>\n",
       "      <td>NaN</td>\n",
       "      <td>NaN</td>\n",
       "      <td>NaN</td>\n",
       "      <td>NaN</td>\n",
       "      <td>NaN</td>\n",
       "      <td>NaN</td>\n",
       "      <td>NaN</td>\n",
       "      <td>NaN</td>\n",
       "      <td>left_only</td>\n",
       "      <td>NaN</td>\n",
       "      <td>NaN</td>\n",
       "      <td>NaN</td>\n",
       "      <td>left_only</td>\n",
       "      <td>K40</td>\n",
       "      <td>K40</td>\n",
       "      <td>DIG</td>\n",
       "      <td>Diseases of the digestive system</td>\n",
       "      <td>both</td>\n",
       "      <td>NA</td>\n",
       "      <td>nan</td>\n",
       "      <td>NA</td>\n",
       "    </tr>\n",
       "    <tr>\n",
       "      <th>201</th>\n",
       "      <td>116067446</td>\n",
       "      <td>11988361</td>\n",
       "      <td>Americas</td>\n",
       "      <td>GRC</td>\n",
       "      <td>Greece</td>\n",
       "      <td>Europe</td>\n",
       "      <td>IP</td>\n",
       "      <td>K409</td>\n",
       "      <td>UNILATERAL INGUINAL HERN</td>\n",
       "      <td>NaN</td>\n",
       "      <td>NaN</td>\n",
       "      <td>NaN</td>\n",
       "      <td>False</td>\n",
       "      <td>0.00</td>\n",
       "      <td>2.105294e+10</td>\n",
       "      <td>NaN</td>\n",
       "      <td>NaN</td>\n",
       "      <td>NaN</td>\n",
       "      <td>NaN</td>\n",
       "      <td>NaN</td>\n",
       "      <td>NaN</td>\n",
       "      <td>NaN</td>\n",
       "      <td>NaN</td>\n",
       "      <td>NaN</td>\n",
       "      <td>NaN</td>\n",
       "      <td>NaN</td>\n",
       "      <td>NaN</td>\n",
       "      <td>NaN</td>\n",
       "      <td>NaN</td>\n",
       "      <td>NaN</td>\n",
       "      <td>NaN</td>\n",
       "      <td>NaN</td>\n",
       "      <td>NaN</td>\n",
       "      <td>NaN</td>\n",
       "      <td>left_only</td>\n",
       "      <td>NaN</td>\n",
       "      <td>NaN</td>\n",
       "      <td>NaN</td>\n",
       "      <td>left_only</td>\n",
       "      <td>K40</td>\n",
       "      <td>K40</td>\n",
       "      <td>DIG</td>\n",
       "      <td>Diseases of the digestive system</td>\n",
       "      <td>both</td>\n",
       "      <td>NA</td>\n",
       "      <td>nan</td>\n",
       "      <td>NA</td>\n",
       "    </tr>\n",
       "    <tr>\n",
       "      <th>360</th>\n",
       "      <td>115139463</td>\n",
       "      <td>10192044</td>\n",
       "      <td>Americas</td>\n",
       "      <td>CHN</td>\n",
       "      <td>China</td>\n",
       "      <td>Asia</td>\n",
       "      <td>OP</td>\n",
       "      <td>J453</td>\n",
       "      <td>MILD PERSISTENT ASTHMA</td>\n",
       "      <td>NaN</td>\n",
       "      <td>NaN</td>\n",
       "      <td>NaN</td>\n",
       "      <td>False</td>\n",
       "      <td>0.00</td>\n",
       "      <td>2.090843e+10</td>\n",
       "      <td>NaN</td>\n",
       "      <td>NaN</td>\n",
       "      <td>NaN</td>\n",
       "      <td>NaN</td>\n",
       "      <td>NaN</td>\n",
       "      <td>NaN</td>\n",
       "      <td>NaN</td>\n",
       "      <td>NaN</td>\n",
       "      <td>NaN</td>\n",
       "      <td>NaN</td>\n",
       "      <td>NaN</td>\n",
       "      <td>NaN</td>\n",
       "      <td>NaN</td>\n",
       "      <td>NaN</td>\n",
       "      <td>NaN</td>\n",
       "      <td>NaN</td>\n",
       "      <td>NaN</td>\n",
       "      <td>NaN</td>\n",
       "      <td>NaN</td>\n",
       "      <td>left_only</td>\n",
       "      <td>NaN</td>\n",
       "      <td>NaN</td>\n",
       "      <td>NaN</td>\n",
       "      <td>left_only</td>\n",
       "      <td>J45</td>\n",
       "      <td>J45</td>\n",
       "      <td>RSP</td>\n",
       "      <td>Diseases of the respiratory system</td>\n",
       "      <td>both</td>\n",
       "      <td>NA</td>\n",
       "      <td>nan</td>\n",
       "      <td>NA</td>\n",
       "    </tr>\n",
       "    <tr>\n",
       "      <th>365</th>\n",
       "      <td>113290037</td>\n",
       "      <td>10844118</td>\n",
       "      <td>Americas</td>\n",
       "      <td>CHN</td>\n",
       "      <td>China</td>\n",
       "      <td>Asia</td>\n",
       "      <td>OP</td>\n",
       "      <td>J06</td>\n",
       "      <td>ACUTE UPPER RESP INFECTI</td>\n",
       "      <td>NaN</td>\n",
       "      <td>NaN</td>\n",
       "      <td>NaN</td>\n",
       "      <td>False</td>\n",
       "      <td>192.30</td>\n",
       "      <td>2.095349e+10</td>\n",
       "      <td>NaN</td>\n",
       "      <td>NaN</td>\n",
       "      <td>NaN</td>\n",
       "      <td>NaN</td>\n",
       "      <td>NaN</td>\n",
       "      <td>NaN</td>\n",
       "      <td>NaN</td>\n",
       "      <td>NaN</td>\n",
       "      <td>NaN</td>\n",
       "      <td>NaN</td>\n",
       "      <td>NaN</td>\n",
       "      <td>NaN</td>\n",
       "      <td>NaN</td>\n",
       "      <td>NaN</td>\n",
       "      <td>NaN</td>\n",
       "      <td>NaN</td>\n",
       "      <td>NaN</td>\n",
       "      <td>NaN</td>\n",
       "      <td>NaN</td>\n",
       "      <td>left_only</td>\n",
       "      <td>NaN</td>\n",
       "      <td>NaN</td>\n",
       "      <td>NaN</td>\n",
       "      <td>left_only</td>\n",
       "      <td>J06</td>\n",
       "      <td>J06</td>\n",
       "      <td>RSP</td>\n",
       "      <td>Diseases of the respiratory system</td>\n",
       "      <td>both</td>\n",
       "      <td>NA</td>\n",
       "      <td>nan</td>\n",
       "      <td>NA</td>\n",
       "    </tr>\n",
       "  </tbody>\n",
       "</table>\n",
       "</div>"
      ],
      "text/plain": [
       "     HS_claim_num_key  HS_unique_member_id_key HS_book_of_business_nm  \\\n",
       "90          115139463                 10192044               Americas   \n",
       "200         116067446                 11988361               Americas   \n",
       "201         116067446                 11988361               Americas   \n",
       "360         115139463                 10192044               Americas   \n",
       "365         113290037                 10844118               Americas   \n",
       "\n",
       "    HS_claim_location_country_cd HS_claim_location_country_nm HS_region  \\\n",
       "90                           CHN                        China      Asia   \n",
       "200                          GRC                       Greece    Europe   \n",
       "201                          GRC                       Greece    Europe   \n",
       "360                          CHN                        China      Asia   \n",
       "365                          CHN                        China      Asia   \n",
       "\n",
       "    HS_claim_type_nm HS_icd_10_cm_code       HS_diagnosis_1_desc  \\\n",
       "90                OP              J453    MILD PERSISTENT ASTHMA   \n",
       "200               IP              K409  UNILATERAL INGUINAL HERN   \n",
       "201               IP              K409  UNILATERAL INGUINAL HERN   \n",
       "360               OP              J453    MILD PERSISTENT ASTHMA   \n",
       "365               OP               J06  ACUTE UPPER RESP INFECTI   \n",
       "\n",
       "    HS_ccsr_category_1_description HS_is_chronic_cd HS_cm_diagnosis_flag  \\\n",
       "90                             NaN              NaN                  NaN   \n",
       "200                            NaN              NaN                  NaN   \n",
       "201                            NaN              NaN                  NaN   \n",
       "360                            NaN              NaN                  NaN   \n",
       "365                            NaN              NaN                  NaN   \n",
       "\n",
       "     HS_cm_flag  HS_local_currency_net_amt  HS_member_id ICD_code_2023  \\\n",
       "90        False                       0.00  2.090843e+10           NaN   \n",
       "200       False                   10408.38  2.105294e+10           NaN   \n",
       "201       False                       0.00  2.105294e+10           NaN   \n",
       "360       False                       0.00  2.090843e+10           NaN   \n",
       "365       False                     192.30  2.095349e+10           NaN   \n",
       "\n",
       "    ICD_10_CM_CODE_DESCRIPTION_2023 Default_CCSR_CATEGORY_IP_2023  \\\n",
       "90                              NaN                           NaN   \n",
       "200                             NaN                           NaN   \n",
       "201                             NaN                           NaN   \n",
       "360                             NaN                           NaN   \n",
       "365                             NaN                           NaN   \n",
       "\n",
       "    Default_CCSR_CATEGORY_DESCRIPTION_IP_2023 Default_CCSR_CATEGORY_OP_2023  \\\n",
       "90                                        NaN                           NaN   \n",
       "200                                       NaN                           NaN   \n",
       "201                                       NaN                           NaN   \n",
       "360                                       NaN                           NaN   \n",
       "365                                       NaN                           NaN   \n",
       "\n",
       "    Default_CCSR_CATEGORY_DESCRIPTION_OP_2023  CCS_CATEGORY_2019  \\\n",
       "90                                        NaN                NaN   \n",
       "200                                       NaN                NaN   \n",
       "201                                       NaN                NaN   \n",
       "360                                       NaN                NaN   \n",
       "365                                       NaN                NaN   \n",
       "\n",
       "    CCS_CATEGORY_DESCRIPTION_2019 icd_code_2019  \\\n",
       "90                            NaN           NaN   \n",
       "200                           NaN           NaN   \n",
       "201                           NaN           NaN   \n",
       "360                           NaN           NaN   \n",
       "365                           NaN           NaN   \n",
       "\n",
       "    ICD_10_CM_CODE_DESCRIPTION_2019  CCS_LVL_1_code_2019 CCSR_CATEGORY_1_2023  \\\n",
       "90                              NaN                  NaN                  NaN   \n",
       "200                             NaN                  NaN                  NaN   \n",
       "201                             NaN                  NaN                  NaN   \n",
       "360                             NaN                  NaN                  NaN   \n",
       "365                             NaN                  NaN                  NaN   \n",
       "\n",
       "    CCSR_CATEGORY_1_DESCRIPTION_2023 CCS_LVL_1_Description_2019  \\\n",
       "90                               NaN                        NaN   \n",
       "200                              NaN                        NaN   \n",
       "201                              NaN                        NaN   \n",
       "360                              NaN                        NaN   \n",
       "365                              NaN                        NaN   \n",
       "\n",
       "    CCS_LVL_2_code_2019 CCS_LVL_2_Description_2019  \\\n",
       "90                  NaN                        NaN   \n",
       "200                 NaN                        NaN   \n",
       "201                 NaN                        NaN   \n",
       "360                 NaN                        NaN   \n",
       "365                 NaN                        NaN   \n",
       "\n",
       "    CCSR_Body_System_Abbreviation_2023 ICD_2023_code_abr  \\\n",
       "90                                 NaN               NaN   \n",
       "200                                NaN               NaN   \n",
       "201                                NaN               NaN   \n",
       "360                                NaN               NaN   \n",
       "365                                NaN               NaN   \n",
       "\n",
       "    ICD_10_code_book_chapter_2023 ICD_CODE_BUCKET_HS_CCSR_2023  \\\n",
       "90                            NaN                    left_only   \n",
       "200                           NaN                    left_only   \n",
       "201                           NaN                    left_only   \n",
       "360                           NaN                    left_only   \n",
       "365                           NaN                    left_only   \n",
       "\n",
       "     CCS_chapter_number_2019 CCS_Body_System_Abbreviation_2019  \\\n",
       "90                       NaN                               NaN   \n",
       "200                      NaN                               NaN   \n",
       "201                      NaN                               NaN   \n",
       "360                      NaN                               NaN   \n",
       "365                      NaN                               NaN   \n",
       "\n",
       "    IVD_9_code_diagnosis chapters CCS_LEVEL1_CHAPTER_NAME_BUCKET  \\\n",
       "90                            NaN                      left_only   \n",
       "200                           NaN                      left_only   \n",
       "201                           NaN                      left_only   \n",
       "360                           NaN                      left_only   \n",
       "365                           NaN                      left_only   \n",
       "\n",
       "    HS_ICD_code_Abr CODE_range_first_three_characters  \\\n",
       "90              J45                               J45   \n",
       "200             K40                               K40   \n",
       "201             K40                               K40   \n",
       "360             J45                               J45   \n",
       "365             J06                               J06   \n",
       "\n",
       "    CCSR_Body_sys_ABR_mapped_HS_CODE        ICD_10_chapter_mapped_HS_CODE  \\\n",
       "90                               RSP  Diseases of the respiratory system    \n",
       "200                              DIG    Diseases of the digestive system    \n",
       "201                              DIG    Diseases of the digestive system    \n",
       "360                              RSP  Diseases of the respiratory system    \n",
       "365                              RSP  Diseases of the respiratory system    \n",
       "\n",
       "    CCSR_CHAPTER_CODE_BUCKET ICD_23_19_BUCKET ICD_HS_19_BUCKET  \\\n",
       "90                      both               NA              nan   \n",
       "200                     both               NA              nan   \n",
       "201                     both               NA              nan   \n",
       "360                     both               NA              nan   \n",
       "365                     both               NA              nan   \n",
       "\n",
       "    CCSR_1_HS_CHAPTER  \n",
       "90                 NA  \n",
       "200                NA  \n",
       "201                NA  \n",
       "360                NA  \n",
       "365                NA  "
      ]
     },
     "execution_count": 83,
     "metadata": {},
     "output_type": "execute_result"
    }
   ],
   "source": [
    "HEALTH_STATE_MAP_final[HEALTH_STATE_MAP_final['CCSR_1_HS_CHAPTER']=='NA'].head(5)"
   ]
  },
  {
   "cell_type": "code",
   "execution_count": 84,
   "id": "3ffad40c-a0e2-46ca-968f-5aa56e7c688f",
   "metadata": {
    "tags": []
   },
   "outputs": [],
   "source": [
    "HEALTH_STATE_MAP_final['CCSR_IP_HS_CHAPTER']= np.where(HEALTH_STATE_MAP_final['CCSR_Body_sys_ABR_mapped_HS_CODE']==HEALTH_STATE_MAP_final['Default_CCSR_CATEGORY_IP_2023'].str[0:3],'MATCH',\n",
    "                                                     np.where(HEALTH_STATE_MAP_final['Default_CCSR_CATEGORY_IP_2023'].isnull() ,\"NA\",\"NO MATCH\"))"
   ]
  },
  {
   "cell_type": "code",
   "execution_count": 85,
   "id": "f7a380c5-ceb8-4bfc-85da-7f3339d8cf1f",
   "metadata": {
    "tags": []
   },
   "outputs": [
    {
     "data": {
      "text/plain": [
       "CCSR_IP_HS_CHAPTER\n",
       "MATCH       312976\n",
       "NO MATCH    252150\n",
       "NA           43842\n",
       "Name: count, dtype: int64"
      ]
     },
     "execution_count": 85,
     "metadata": {},
     "output_type": "execute_result"
    }
   ],
   "source": [
    "HEALTH_STATE_MAP_final['CCSR_IP_HS_CHAPTER'].value_counts()"
   ]
  },
  {
   "cell_type": "code",
   "execution_count": 86,
   "id": "8f7935c5-5181-4f31-9dfe-1c0ae3a9333a",
   "metadata": {
    "tags": []
   },
   "outputs": [],
   "source": [
    "HEALTH_STATE_MAP_final['CCSR_OP_HS_CHAPTER']= np.where(HEALTH_STATE_MAP_final['CCSR_Body_sys_ABR_mapped_HS_CODE']==HEALTH_STATE_MAP_final['Default_CCSR_CATEGORY_OP_2023'].str[0:3],'MATCH',\n",
    "                                                     np.where(HEALTH_STATE_MAP_final['Default_CCSR_CATEGORY_OP_2023'].isnull() ,\"NA\",\"NO MATCH\"))"
   ]
  },
  {
   "cell_type": "code",
   "execution_count": 87,
   "id": "774ee500-867b-4859-bf1f-82e354c56042",
   "metadata": {
    "tags": []
   },
   "outputs": [
    {
     "data": {
      "text/plain": [
       "CCSR_OP_HS_CHAPTER\n",
       "MATCH       523897\n",
       "NA           43842\n",
       "NO MATCH     41229\n",
       "Name: count, dtype: int64"
      ]
     },
     "execution_count": 87,
     "metadata": {},
     "output_type": "execute_result"
    }
   ],
   "source": [
    "HEALTH_STATE_MAP_final['CCSR_OP_HS_CHAPTER'].value_counts()"
   ]
  },
  {
   "cell_type": "markdown",
   "id": "a23af5d0-e93e-4515-85de-105e8a4a8da5",
   "metadata": {},
   "source": [
    "# OP only"
   ]
  },
  {
   "cell_type": "code",
   "execution_count": 88,
   "id": "ade7e7e6-13ef-4c79-990e-cd94c4bb1de9",
   "metadata": {
    "tags": []
   },
   "outputs": [
    {
     "data": {
      "text/plain": [
       "CCSR_OP_HS_CHAPTER\n",
       "MATCH       503302\n",
       "NA           43084\n",
       "NO MATCH     36695\n",
       "Name: count, dtype: int64"
      ]
     },
     "execution_count": 88,
     "metadata": {},
     "output_type": "execute_result"
    }
   ],
   "source": [
    "HEALTH_STATE_MAP_final[HEALTH_STATE_MAP_final['HS_claim_type_nm']=='OP']['CCSR_OP_HS_CHAPTER'].value_counts()"
   ]
  },
  {
   "cell_type": "code",
   "execution_count": 117,
   "id": "304f0008-cadd-4e4b-b3b8-b2e4d87da784",
   "metadata": {
    "tags": []
   },
   "outputs": [
    {
     "data": {
      "text/plain": [
       "CCSR_OP_HS_CHAPTER\n",
       "MATCH       86.32%\n",
       "NA           7.39%\n",
       "NO MATCH     6.29%\n",
       "Name: proportion, dtype: object"
      ]
     },
     "execution_count": 117,
     "metadata": {},
     "output_type": "execute_result"
    }
   ],
   "source": [
    "HEALTH_STATE_MAP_final[HEALTH_STATE_MAP_final['HS_claim_type_nm']=='OP']['CCSR_OP_HS_CHAPTER']\\\n",
    ".value_counts(normalize=True).mul(100).round(2).astype(str)+'%'"
   ]
  },
  {
   "cell_type": "markdown",
   "id": "c81b7787-b260-45f2-a044-3e483ab8ce24",
   "metadata": {},
   "source": [
    "# IP only"
   ]
  },
  {
   "cell_type": "code",
   "execution_count": 89,
   "id": "11602f03-f596-48a7-9700-2b6dd9c5e708",
   "metadata": {
    "tags": []
   },
   "outputs": [
    {
     "data": {
      "text/plain": [
       "CCSR_OP_HS_CHAPTER\n",
       "MATCH       14930\n",
       "NO MATCH     4016\n",
       "NA            685\n",
       "Name: count, dtype: int64"
      ]
     },
     "execution_count": 89,
     "metadata": {},
     "output_type": "execute_result"
    }
   ],
   "source": [
    "HEALTH_STATE_MAP_final[HEALTH_STATE_MAP_final['HS_claim_type_nm']=='IP']['CCSR_OP_HS_CHAPTER'].value_counts()"
   ]
  },
  {
   "cell_type": "code",
   "execution_count": 90,
   "id": "6de850cf-0ac9-4896-84b9-3e5d56811c73",
   "metadata": {
    "tags": []
   },
   "outputs": [
    {
     "data": {
      "text/plain": [
       "HS_claim_type_nm\n",
       "OP    583081\n",
       "IP     19631\n",
       "Name: count, dtype: int64"
      ]
     },
     "execution_count": 90,
     "metadata": {},
     "output_type": "execute_result"
    }
   ],
   "source": [
    "HEALTH_STATE_MAP_final['HS_claim_type_nm'].value_counts()"
   ]
  },
  {
   "cell_type": "code",
   "execution_count": 91,
   "id": "173beeb7-c8bb-4b66-af19-12f76a3c5602",
   "metadata": {
    "tags": []
   },
   "outputs": [
    {
     "data": {
      "text/plain": [
       "6256"
      ]
     },
     "execution_count": 91,
     "metadata": {},
     "output_type": "execute_result"
    }
   ],
   "source": [
    "HEALTH_STATE_MAP_final['HS_claim_type_nm'].isnull().sum()"
   ]
  },
  {
   "cell_type": "markdown",
   "id": "88ddd04e-e7c7-43b2-ac8a-40e06da77fe6",
   "metadata": {},
   "source": [
    "# CCS Analysis"
   ]
  },
  {
   "cell_type": "code",
   "execution_count": 92,
   "id": "894f2395-edbf-4b72-ad28-37f47badd4bf",
   "metadata": {
    "tags": []
   },
   "outputs": [],
   "source": [
    "HEALTH_STATE_MAP_final['CCS_LVL_1_HS_CHAPTER']= np.where(HEALTH_STATE_MAP_final['CCSR_Body_sys_ABR_mapped_HS_CODE']==HEALTH_STATE_MAP_final['CCS_Body_System_Abbreviation_2019'],'MATCH',\n",
    "                                                     np.where(HEALTH_STATE_MAP_final['CCS_Body_System_Abbreviation_2019'].isnull() ,\"NA\",\"NO MATCH\"))"
   ]
  },
  {
   "cell_type": "code",
   "execution_count": 93,
   "id": "177682b7-64d2-4802-b2a2-077932f7c6fd",
   "metadata": {
    "tags": []
   },
   "outputs": [
    {
     "data": {
      "text/plain": [
       "CCS_LVL_1_HS_CHAPTER\n",
       "NO MATCH    310801\n",
       "MATCH       199735\n",
       "NA           98432\n",
       "Name: count, dtype: int64"
      ]
     },
     "execution_count": 93,
     "metadata": {},
     "output_type": "execute_result"
    }
   ],
   "source": [
    "HEALTH_STATE_MAP_final['CCS_LVL_1_HS_CHAPTER'].value_counts()"
   ]
  },
  {
   "cell_type": "markdown",
   "id": "a78ad507-f02d-4f81-9f22-76ea9dd04a28",
   "metadata": {},
   "source": [
    "# Claim amount"
   ]
  },
  {
   "cell_type": "code",
   "execution_count": 94,
   "id": "3e86d3a6-2475-4729-83ec-ecbe10b4e1f7",
   "metadata": {
    "collapsed": true,
    "jupyter": {
     "outputs_hidden": true
    },
    "tags": []
   },
   "outputs": [
    {
     "data": {
      "text/plain": [
       "ICD_10_chapter_mapped_HS_CODE\n",
       "Factors influencing health status and contact with health services                                      25696878.18\n",
       "Symptoms, signs and abnormal clinical and laboratory findings, not elsewhere classified                  6127478.30\n",
       "Diseases of the musculoskeletal system and connective tissue                                             4566309.94\n",
       "Neoplasms                                                                                                3782478.33\n",
       "Injury, poisoning and certain other consequences of external causes.                                     3643091.20\n",
       "Pregnancy, childbirth, and the puerperium                                                                3097521.45\n",
       "Diseases of the circulatory system                                                                       2889191.28\n",
       "Mental, behavioral, and neurodevelopmental disorders                                                     2790929.12\n",
       "Diseases of the digestive system                                                                         2763928.53\n",
       "Diseases of the genitourinary system                                                                     2724443.59\n",
       "Diseases of the respiratory system                                                                       1790283.43\n",
       "Endocrine, nutritional, and metabolic diseases                                                           1497120.92\n",
       "Diseases of the nervous system                                                                           1332292.91\n",
       "Diseases of the eye and adnexa                                                                           1184434.98\n",
       "Codes for special purposes                                                                               1003489.31\n",
       "Diseases of the skin and subcutaneous tissue                                                              961288.96\n",
       "Congenital malformations, deformations and chromosomal abnormalities                                      893215.34\n",
       "Certain infectious and parasitic diseases                                                                 836707.57\n",
       "Certain conditions originating in the perinatal period                                                    790198.64\n",
       "Diseases of the ear and mastoid process                                                                   447070.88\n",
       "Diseases of the blood and blood-forming organs and certain disorders involving the immune mechanism       312567.31\n",
       "External causes of morbidity                                                                               49510.94\n",
       "Name: HS_local_currency_net_amt, dtype: float64"
      ]
     },
     "execution_count": 94,
     "metadata": {},
     "output_type": "execute_result"
    }
   ],
   "source": [
    "HEALTH_STATE_MAP_final.groupby('ICD_10_chapter_mapped_HS_CODE')['HS_local_currency_net_amt']\\\n",
    ".sum().sort_values(ascending=False)"
   ]
  },
  {
   "cell_type": "code",
   "execution_count": 95,
   "id": "2d40eed3-51f6-43b9-82a0-8856d314c517",
   "metadata": {
    "tags": []
   },
   "outputs": [
    {
     "data": {
      "text/plain": [
       "CCSR_Body_sys_ABR_mapped_HS_CODE\n",
       "FAC                     25696878.18\n",
       "SYM                      6127478.30\n",
       "MUS                      4566309.94\n",
       "NEO                      3782478.33\n",
       "INJ                      3643091.20\n",
       "PRG                      3097521.45\n",
       "CIR                      2889191.28\n",
       "MBD                      2790929.12\n",
       "DIG                      2763928.53\n",
       "GEN                      2724443.59\n",
       "RSP                      1790283.43\n",
       "END                      1497120.92\n",
       "NVS                      1332292.91\n",
       "EYE                      1184434.98\n",
       "code_special_purpose     1003489.31\n",
       "SKN                       961288.96\n",
       "MAL                       893215.34\n",
       "INF                       836707.57\n",
       "PNL                       790198.64\n",
       "EAR                       447070.88\n",
       "BLD                       312567.31\n",
       "EXT                        49510.94\n",
       "Name: HS_local_currency_net_amt, dtype: float64"
      ]
     },
     "execution_count": 95,
     "metadata": {},
     "output_type": "execute_result"
    }
   ],
   "source": [
    "HEALTH_STATE_MAP_final.groupby('CCSR_Body_sys_ABR_mapped_HS_CODE')['HS_local_currency_net_amt']\\\n",
    ".sum().sort_values(ascending=False)"
   ]
  },
  {
   "cell_type": "markdown",
   "id": "3aca7330-a587-44d7-a1f9-62aa2b07a489",
   "metadata": {},
   "source": [
    "## claims in ccsr chapters_icd_2023 chapters"
   ]
  },
  {
   "cell_type": "code",
   "execution_count": 96,
   "id": "237cc913-54fe-41d5-a01d-bf19417fa710",
   "metadata": {
    "tags": []
   },
   "outputs": [
    {
     "data": {
      "text/plain": [
       "CCSR_Body_System_Abbreviation_2023\n",
       "FAC                     24018901.16\n",
       "SYM                      6010071.72\n",
       "MUS                      4082802.16\n",
       "NEO                      3504256.78\n",
       "PRG                      3048290.92\n",
       "INJ                      2854077.79\n",
       "CIR                      2810244.58\n",
       "MBD                      2728023.23\n",
       "DIG                      2644418.06\n",
       "GEN                      2630747.82\n",
       "RSP                      1694258.57\n",
       "END                      1349679.93\n",
       "NVS                      1258910.32\n",
       "EYE                      1094470.94\n",
       "code_special_purpose      975308.42\n",
       "SKN                       911045.19\n",
       "MAL                       891595.65\n",
       "INF                       811600.92\n",
       "PNL                       789815.90\n",
       "EAR                       420463.27\n",
       "BLD                       309221.90\n",
       "EXT                        29367.45\n",
       "Name: HS_local_currency_net_amt, dtype: float64"
      ]
     },
     "execution_count": 96,
     "metadata": {},
     "output_type": "execute_result"
    }
   ],
   "source": [
    "HEALTH_STATE_MAP_final.groupby('CCSR_Body_System_Abbreviation_2023')['HS_local_currency_net_amt']\\\n",
    ".sum().sort_values(ascending=False)"
   ]
  },
  {
   "cell_type": "markdown",
   "id": "a14d960b-7c1e-42f8-884f-f72cd4569053",
   "metadata": {},
   "source": [
    "## claim in ccs multi level chapter"
   ]
  },
  {
   "cell_type": "code",
   "execution_count": 97,
   "id": "66851774-196a-4e10-bcca-1017333cd2ba",
   "metadata": {
    "tags": []
   },
   "outputs": [
    {
     "data": {
      "text/plain": [
       "CCS_Body_System_Abbreviation_2019\n",
       "Other_conditions    18061780.52\n",
       "NEO                  4446235.16\n",
       "PRG                  4417135.53\n",
       "CIR                  3989559.30\n",
       "MUS                  3877658.34\n",
       "INJ                  2988696.41\n",
       "PNL                  2899684.57\n",
       "NVS                  2898938.81\n",
       "MBD                  2829246.81\n",
       "GEN                  2750519.47\n",
       "INF                  2607222.75\n",
       "DIG                  2502516.81\n",
       "RSP                  2066915.25\n",
       "Residual_codes       1814578.71\n",
       "END                  1522844.98\n",
       "SKN                  1023841.48\n",
       "MAL                   909830.42\n",
       "BLD                   259796.67\n",
       "Name: HS_local_currency_net_amt, dtype: float64"
      ]
     },
     "execution_count": 97,
     "metadata": {},
     "output_type": "execute_result"
    }
   ],
   "source": [
    "HEALTH_STATE_MAP_final.groupby('CCS_Body_System_Abbreviation_2019')['HS_local_currency_net_amt']\\\n",
    ".sum().sort_values(ascending=False)"
   ]
  },
  {
   "cell_type": "code",
   "execution_count": 98,
   "id": "082b9878-426f-477e-94ba-083025b30619",
   "metadata": {
    "tags": []
   },
   "outputs": [
    {
     "data": {
      "text/plain": [
       "69251955.26999998"
      ]
     },
     "execution_count": 98,
     "metadata": {},
     "output_type": "execute_result"
    }
   ],
   "source": [
    "HEALTH_STATE_MAP_final['HS_local_currency_net_amt'].sum()"
   ]
  },
  {
   "cell_type": "markdown",
   "id": "df54a9a4-a8fe-4b5a-929c-c311243fbade",
   "metadata": {},
   "source": [
    "# Unique Member CCS"
   ]
  },
  {
   "cell_type": "code",
   "execution_count": 99,
   "id": "e939f217-5b22-4c38-a4e8-84f440f5f76a",
   "metadata": {
    "tags": []
   },
   "outputs": [
    {
     "data": {
      "text/plain": [
       "CCS_Body_System_Abbreviation_2019\n",
       "Other_conditions    194602\n",
       "INF                  50037\n",
       "MUS                  39899\n",
       "END                  25904\n",
       "RSP                  25590\n",
       "GEN                  22649\n",
       "MBD                  22589\n",
       "PRG                  21038\n",
       "NVS                  18546\n",
       "CIR                  17324\n",
       "Residual_codes       15414\n",
       "DIG                  14273\n",
       "INJ                  12479\n",
       "NEO                  12382\n",
       "SKN                   9522\n",
       "PNL                   3798\n",
       "BLD                   3187\n",
       "MAL                   1303\n",
       "Name: HS_unique_member_id_key, dtype: int64"
      ]
     },
     "execution_count": 99,
     "metadata": {},
     "output_type": "execute_result"
    }
   ],
   "source": [
    "HEALTH_STATE_MAP_final.groupby('CCS_Body_System_Abbreviation_2019')['HS_unique_member_id_key']\\\n",
    ".count().sort_values(ascending=False)"
   ]
  },
  {
   "cell_type": "markdown",
   "id": "cee7f3f8-14a1-4329-b33d-3365a70d6e7a",
   "metadata": {},
   "source": [
    "## Unique emeber ccsr"
   ]
  },
  {
   "cell_type": "code",
   "execution_count": 100,
   "id": "9689b999-4fe0-4a44-94fa-0d02e4a446d2",
   "metadata": {
    "tags": []
   },
   "outputs": [
    {
     "data": {
      "text/plain": [
       "CCSR_Body_System_Abbreviation_2023\n",
       "FAC                     276565\n",
       "SYM                      51644\n",
       "MUS                      43348\n",
       "END                      23367\n",
       "MBD                      21976\n",
       "RSP                      20335\n",
       "GEN                      20233\n",
       "code_special_purpose     12720\n",
       "DIG                      12124\n",
       "INJ                      12095\n",
       "CIR                      11772\n",
       "SKN                      10819\n",
       "NEO                       9984\n",
       "PRG                       8883\n",
       "EYE                       7613\n",
       "INF                       6282\n",
       "NVS                       5705\n",
       "BLD                       3518\n",
       "EAR                       3406\n",
       "MAL                       1335\n",
       "PNL                       1200\n",
       "EXT                        202\n",
       "Name: HS_unique_member_id_key, dtype: int64"
      ]
     },
     "execution_count": 100,
     "metadata": {},
     "output_type": "execute_result"
    }
   ],
   "source": [
    "HEALTH_STATE_MAP_final.groupby('CCSR_Body_System_Abbreviation_2023')['HS_unique_member_id_key']\\\n",
    ".count().sort_values(ascending=False)"
   ]
  },
  {
   "cell_type": "markdown",
   "id": "bf6171fc-a3ce-497a-8c54-cbc6299fd3a5",
   "metadata": {},
   "source": [
    "# disease maximum in fac in ccsr and HS"
   ]
  },
  {
   "cell_type": "code",
   "execution_count": 101,
   "id": "a6c51947-f1d1-42fa-9ec0-8a685edf8241",
   "metadata": {
    "tags": []
   },
   "outputs": [
    {
     "data": {
      "text/plain": [
       "CCS_LVL_1_Description_2019\n",
       "Symptoms; signs; and ill-defined conditions and factors influencing health status    194602\n",
       "Name: count, dtype: int64"
      ]
     },
     "execution_count": 101,
     "metadata": {},
     "output_type": "execute_result"
    }
   ],
   "source": [
    "HEALTH_STATE_MAP_final[HEALTH_STATE_MAP_final['CCS_Body_System_Abbreviation_2019']=='Other_conditions']['CCS_LVL_1_Description_2019'].value_counts()"
   ]
  },
  {
   "cell_type": "code",
   "execution_count": 102,
   "id": "cc7d47fe-d7de-467d-ad4d-797829384379",
   "metadata": {
    "tags": []
   },
   "outputs": [
    {
     "data": {
      "text/plain": [
       "194602"
      ]
     },
     "execution_count": 102,
     "metadata": {},
     "output_type": "execute_result"
    }
   ],
   "source": [
    "HEALTH_STATE_MAP_final[HEALTH_STATE_MAP_final['CCS_Body_System_Abbreviation_2019']=='Other_conditions']['CCS_LVL_1_Description_2019'].count()"
   ]
  },
  {
   "cell_type": "code",
   "execution_count": 103,
   "id": "67fca17b-dc1b-4012-a142-b6d55f2f2dca",
   "metadata": {
    "tags": []
   },
   "outputs": [
    {
     "data": {
      "text/plain": [
       "CCS_CATEGORY_DESCRIPTION_2019\n",
       "Medical examination/evaluation                                                           102629\n",
       "Administrative/social admission                                                           63661\n",
       "Other screening for suspected conditions (not mental disorders or infectious disease)      8200\n",
       "Abdominal pain                                                                             5679\n",
       "Fever of unknown origin                                                                    3830\n",
       "Allergic reactions                                                                         3774\n",
       "Other aftercare                                                                            3519\n",
       "Malaise and fatigue                                                                        1620\n",
       "Nausea and vomiting                                                                         813\n",
       "Syncope                                                                                     455\n",
       "Lymphadenitis                                                                               365\n",
       "Shock                                                                                        30\n",
       "Rehabilitation care; fitting of prostheses; and adjustment of devices                        23\n",
       "Gangrene                                                                                      4\n",
       "Name: count, dtype: int64"
      ]
     },
     "execution_count": 103,
     "metadata": {},
     "output_type": "execute_result"
    }
   ],
   "source": [
    "HEALTH_STATE_MAP_final[HEALTH_STATE_MAP_final['CCS_Body_System_Abbreviation_2019']=='Other_conditions']['CCS_CATEGORY_DESCRIPTION_2019'].value_counts()"
   ]
  },
  {
   "cell_type": "code",
   "execution_count": 126,
   "id": "3cfcbb60-6742-494d-9be5-1f32c3361c4c",
   "metadata": {
    "tags": []
   },
   "outputs": [
    {
     "data": {
      "text/plain": [
       "CCS_CATEGORY_DESCRIPTION_2019\n",
       "Medical examination/evaluation                                                           7975669.44\n",
       "Administrative/social admission                                                          7042297.57\n",
       "Abdominal pain                                                                           1058628.52\n",
       "Other screening for suspected conditions (not mental disorders or infectious disease)     856664.28\n",
       "Other aftercare                                                                           272109.40\n",
       "Allergic reactions                                                                        262693.15\n",
       "Fever of unknown origin                                                                   248459.38\n",
       "Syncope                                                                                   146688.44\n",
       "Malaise and fatigue                                                                        76694.67\n",
       "Nausea and vomiting                                                                        64190.45\n",
       "dtype: float64"
      ]
     },
     "execution_count": 126,
     "metadata": {},
     "output_type": "execute_result"
    }
   ],
   "source": [
    "HEALTH_STATE_MAP_final.groupby('CCS_CATEGORY_DESCRIPTION_2019')\\\n",
    ".apply(lambda x: x[x['CCS_Body_System_Abbreviation_2019'] == 'Other_conditions']['HS_local_currency_net_amt']\\\n",
    "       .sum()).sort_values(ascending=False).head(10)"
   ]
  },
  {
   "cell_type": "code",
   "execution_count": 105,
   "id": "a40f16f2-8e24-437b-b318-d4871fa93798",
   "metadata": {},
   "outputs": [],
   "source": [
    "#Health_state_ICD"
   ]
  },
  {
   "cell_type": "code",
   "execution_count": 106,
   "id": "84981871-6592-442f-bb1c-43831c590886",
   "metadata": {
    "tags": []
   },
   "outputs": [
    {
     "data": {
      "text/plain": [
       "276565"
      ]
     },
     "execution_count": 106,
     "metadata": {},
     "output_type": "execute_result"
    }
   ],
   "source": [
    "HEALTH_STATE_MAP_final[HEALTH_STATE_MAP_final['CCSR_Body_System_Abbreviation_2023']=='FAC']['ICD_10_CM_CODE_DESCRIPTION_2023'].count()"
   ]
  },
  {
   "cell_type": "code",
   "execution_count": 125,
   "id": "593fee14-2da5-4a94-8bea-34cc998f0f43",
   "metadata": {
    "tags": []
   },
   "outputs": [
    {
     "data": {
      "text/plain": [
       "ICD_10_CM_CODE_DESCRIPTION_2023\n",
       "Encounter for issue of repeat prescription                                               57490\n",
       "Contact with and (suspected) exposure to COVID-19                                        31799\n",
       "Encounter for other specified special examinations                                       29866\n",
       "Encounter for dental examination and cleaning without abnormal findings                  27046\n",
       "Contact with and (suspected) exposure to other viral communicable diseases               25447\n",
       "Encounter for general adult medical examination without abnormal findings                16462\n",
       "Encounter for routine child health examination without abnormal findings                 12397\n",
       "Encounter for examination of eyes and vision without abnormal findings                    8415\n",
       "Encounter for immunization                                                                8067\n",
       "Encounter for observation for suspected exposure to other biological agents ruled out     6708\n",
       "Name: count, dtype: int64"
      ]
     },
     "execution_count": 125,
     "metadata": {},
     "output_type": "execute_result"
    }
   ],
   "source": [
    "HEALTH_STATE_MAP_final[HEALTH_STATE_MAP_final['CCSR_Body_System_Abbreviation_2023']=='FAC']['ICD_10_CM_CODE_DESCRIPTION_2023'].value_counts().head(10)"
   ]
  },
  {
   "cell_type": "code",
   "execution_count": 124,
   "id": "7a96ce01-b9ff-49c5-b355-ae5f21dcc186",
   "metadata": {
    "tags": []
   },
   "outputs": [
    {
     "data": {
      "text/plain": [
       "ICD_10_CM_CODE_DESCRIPTION_2023\n",
       "Encounter for issue of repeat prescription                                    6481667.55\n",
       "Encounter for other specified special examinations                            2439941.65\n",
       "Encounter for dental examination and cleaning without abnormal findings       2329113.85\n",
       "Contact with and (suspected) exposure to COVID-19                             1367349.61\n",
       "Encounter for general adult medical examination without abnormal findings     1336521.25\n",
       "Single liveborn infant, delivered by cesarean                                 1266325.24\n",
       "Contact with and (suspected) exposure to other viral communicable diseases    1120812.68\n",
       "Encounter for routine child health examination without abnormal findings       754940.96\n",
       "Encounter for examination of eyes and vision without abnormal findings         662318.41\n",
       "Single liveborn infant, delivered vaginally                                    518371.98\n",
       "dtype: float64"
      ]
     },
     "execution_count": 124,
     "metadata": {},
     "output_type": "execute_result"
    }
   ],
   "source": [
    "HEALTH_STATE_MAP_final.groupby('ICD_10_CM_CODE_DESCRIPTION_2023')\\\n",
    ".apply(lambda x: x[x['CCSR_Body_System_Abbreviation_2023'] == 'FAC']['HS_local_currency_net_amt']\\\n",
    "       .sum()).sort_values(ascending=False).head(10)"
   ]
  },
  {
   "cell_type": "code",
   "execution_count": null,
   "id": "2bbe17e3-0b69-4ed2-9cdb-98fe2e0184f3",
   "metadata": {},
   "outputs": [],
   "source": []
  },
  {
   "cell_type": "code",
   "execution_count": null,
   "id": "4fc41a04-82cc-4807-9523-2d0e88969e60",
   "metadata": {},
   "outputs": [],
   "source": []
  },
  {
   "cell_type": "code",
   "execution_count": 109,
   "id": "b0167466-626b-4d8c-8296-71940285146a",
   "metadata": {
    "tags": []
   },
   "outputs": [
    {
     "data": {
      "text/plain": [
       "300539"
      ]
     },
     "execution_count": 109,
     "metadata": {},
     "output_type": "execute_result"
    }
   ],
   "source": [
    "HEALTH_STATE_MAP_final[HEALTH_STATE_MAP_final['CCSR_Body_sys_ABR_mapped_HS_CODE']=='FAC']['HS_diagnosis_1_desc'].count()"
   ]
  },
  {
   "cell_type": "code",
   "execution_count": 123,
   "id": "fcd2291b-e486-4fbf-8a80-86c6d750a1d6",
   "metadata": {
    "tags": []
   },
   "outputs": [
    {
     "data": {
      "text/plain": [
       "HS_diagnosis_1_desc\n",
       "ENCOUNTER FOR ISSUE OF R    57490\n",
       "ENCOUNTER FOR DENTAL EXA    48432\n",
       "Cont w/and (sus) exp COV    31799\n",
       "ENCOUNTER FOR OTHER SPEC    31571\n",
       "CONTACT W AND EXPOSURE T    25791\n",
       "ENCNTR FOR GENERAL ADULT    16462\n",
       "ENCNTR FOR ROUTINE CHILD    12397\n",
       "ENCOUNTER FOR EXAM OF EY     8440\n",
       "ENCOUNTER FOR IMMUNIZATI     8067\n",
       "ENCNTR FOR OBS FOR SUSP      6708\n",
       "Name: count, dtype: int64"
      ]
     },
     "execution_count": 123,
     "metadata": {},
     "output_type": "execute_result"
    }
   ],
   "source": [
    "HEALTH_STATE_MAP_final[HEALTH_STATE_MAP_final['CCSR_Body_sys_ABR_mapped_HS_CODE']=='FAC']['HS_diagnosis_1_desc'].value_counts().head(10)"
   ]
  },
  {
   "cell_type": "code",
   "execution_count": 122,
   "id": "99d625e5-6aba-46d0-8a6a-4433e71c13de",
   "metadata": {
    "tags": []
   },
   "outputs": [
    {
     "data": {
      "text/plain": [
       "HS_diagnosis_1_desc\n",
       "ENCOUNTER FOR ISSUE OF R    6481667.55\n",
       "ENCOUNTER FOR DENTAL EXA    3805801.63\n",
       "ENCOUNTER FOR OTHER SPEC    2544059.24\n",
       "SINGLE LIVEBORN INFANT,D    1784697.22\n",
       "Cont w/and (sus) exp COV    1367349.61\n",
       "ENCNTR FOR GENERAL ADULT    1336521.25\n",
       "CONTACT W AND EXPOSURE T    1137250.51\n",
       "ENCOUNTER FOR ANTINEOPLA     790182.73\n",
       "ENCNTR FOR ROUTINE CHILD     754940.96\n",
       "ENCOUNTER FOR EXAM OF EY     663575.71\n",
       "dtype: float64"
      ]
     },
     "execution_count": 122,
     "metadata": {},
     "output_type": "execute_result"
    }
   ],
   "source": [
    "HEALTH_STATE_MAP_final.groupby('HS_diagnosis_1_desc')\\\n",
    ".apply(lambda x: x[x['CCSR_Body_sys_ABR_mapped_HS_CODE'] == 'FAC']['HS_local_currency_net_amt']\\\n",
    "       .sum()).sort_values(ascending=False).head(10)"
   ]
  },
  {
   "cell_type": "markdown",
   "id": "29f331e8-5e47-4289-a191-34aac2c0fbc8",
   "metadata": {},
   "source": [
    "# MSK Analysis"
   ]
  },
  {
   "cell_type": "code",
   "execution_count": 119,
   "id": "af276cea-5d13-41f1-8a34-7375fe3b5b62",
   "metadata": {
    "tags": []
   },
   "outputs": [
    {
     "data": {
      "text/plain": [
       "HS_diagnosis_1_desc\n",
       "UNILATERAL PRIMARY OSTEO    473644.28\n",
       "LOW BACK PAIN               251713.30\n",
       "CERVICALGIA                 220745.50\n",
       "DORSALGIA,UNSPECIFIED       182162.11\n",
       "OTHER INTERVERTEBRAL DIS    162162.87\n",
       "Low back pain                79078.41\n",
       "SCIATICA,RIGHT SIDE          74924.97\n",
       "PAIN IN RIGHT KNEE           60684.51\n",
       "SEGMENTAL AND SOMATIC DY     60045.29\n",
       "SPONDYLOSIS W/O MYELOPAT     59394.50\n",
       "dtype: float64"
      ]
     },
     "execution_count": 119,
     "metadata": {},
     "output_type": "execute_result"
    }
   ],
   "source": [
    "HEALTH_STATE_MAP_final.groupby('HS_diagnosis_1_desc')\\\n",
    ".apply(lambda x: x[x['CCSR_Body_sys_ABR_mapped_HS_CODE'] == 'MUS']['HS_local_currency_net_amt']\\\n",
    "       .sum()).sort_values(ascending=False).head(10)"
   ]
  },
  {
   "cell_type": "code",
   "execution_count": 121,
   "id": "406c1d11-fe7e-4637-a43d-4f588c3cce15",
   "metadata": {
    "tags": []
   },
   "outputs": [
    {
     "data": {
      "text/plain": [
       "HS_diagnosis_1_desc\n",
       "CERVICALGIA                 4322\n",
       "LOW BACK PAIN               3462\n",
       "DORSALGIA,UNSPECIFIED       2575\n",
       "SEGMENTAL AND SOMATIC DY    2548\n",
       "Low back pain               1830\n",
       "UNILATERAL PRIMARY OSTEO    1345\n",
       "PAIN IN RIGHT KNEE          1010\n",
       "PAIN IN LEFT KNEE            913\n",
       "OTHER INTERVERTEBRAL DIS     900\n",
       "PAIN IN RIGHT SHOULDER       763\n",
       "Name: count, dtype: int64"
      ]
     },
     "execution_count": 121,
     "metadata": {},
     "output_type": "execute_result"
    }
   ],
   "source": [
    "HEALTH_STATE_MAP_final[HEALTH_STATE_MAP_final['CCSR_Body_sys_ABR_mapped_HS_CODE']=='MUS']['HS_diagnosis_1_desc'].value_counts().head(10)"
   ]
  },
  {
   "cell_type": "code",
   "execution_count": 130,
   "id": "39b94467-fc93-40ed-881e-16bca18d4333",
   "metadata": {
    "tags": []
   },
   "outputs": [
    {
     "data": {
      "text/plain": [
       "CCSR_CATEGORY_1_DESCRIPTION_2023\n",
       "Musculoskeletal pain, not low back pain                      13202\n",
       "Spondylopathies/spondyloarthropathy (including infective)     9675\n",
       "Low back pain                                                 6003\n",
       "Biomechanical lesions                                         2856\n",
       "Other specified connective tissue disease                     2073\n",
       "Osteoarthritis                                                2070\n",
       "Other specified joint disorders                               1435\n",
       "Tendon and synovial disorders                                 1421\n",
       "Rheumatoid arthritis and related disease                       768\n",
       "Muscle disorders                                               731\n",
       "Name: count, dtype: int64"
      ]
     },
     "execution_count": 130,
     "metadata": {},
     "output_type": "execute_result"
    }
   ],
   "source": [
    "HEALTH_STATE_MAP_final[HEALTH_STATE_MAP_final['CCSR_Body_System_Abbreviation_2023']=='MUS']['CCSR_CATEGORY_1_DESCRIPTION_2023']\\\n",
    ".value_counts().head(10)"
   ]
  },
  {
   "cell_type": "code",
   "execution_count": 132,
   "id": "bf9b0450-c803-4632-8cef-6dc3f4b5d046",
   "metadata": {
    "tags": []
   },
   "outputs": [
    {
     "data": {
      "text/plain": [
       "CCSR_CATEGORY_1_DESCRIPTION_2023\n",
       "Musculoskeletal pain, not low back pain                                30.46%\n",
       "Spondylopathies/spondyloarthropathy (including infective)              22.32%\n",
       "Low back pain                                                          13.85%\n",
       "Biomechanical lesions                                                   6.59%\n",
       "Other specified connective tissue disease                               4.78%\n",
       "Osteoarthritis                                                          4.78%\n",
       "Other specified joint disorders                                         3.31%\n",
       "Tendon and synovial disorders                                           3.28%\n",
       "Rheumatoid arthritis and related disease                                1.77%\n",
       "Muscle disorders                                                        1.69%\n",
       "Systemic lupus erythematosus and connective tissue disorders            1.19%\n",
       "Scoliosis and other postural dorsopathic deformities                    0.88%\n",
       "Gout                                                                    0.87%\n",
       "Other specified bone disease and musculoskeletal deformities             0.8%\n",
       "Acquired foot deformities                                               0.68%\n",
       "Any dental condition including traumatic injury                         0.55%\n",
       "Osteoporosis                                                             0.5%\n",
       "Osteomyelitis                                                            0.5%\n",
       "Bacterial infections                                                    0.42%\n",
       "Acquired deformities (excluding foot)                                   0.36%\n",
       "Vasculitis                                                              0.13%\n",
       "Infective arthritis                                                     0.11%\n",
       "Pathological fracture, initial encounter                                0.05%\n",
       "Postprocedural or postoperative musculoskeletal system complication     0.04%\n",
       "Autoinflammatory syndromes                                              0.02%\n",
       "Aseptic necrosis and osteonecrosis                                      0.02%\n",
       "Traumatic arthropathy                                                   0.02%\n",
       "Pathological fracture, subsequent encounter                             0.01%\n",
       "Crystal arthropathies (excluding gout)                                  0.01%\n",
       "Cornea and external disease                                             0.01%\n",
       "Juvenile arthritis                                                      0.01%\n",
       "Stress fracture, initial encounter                                      0.01%\n",
       "Immune-mediated/reactive arthropathies                                   0.0%\n",
       "Name: proportion, dtype: object"
      ]
     },
     "execution_count": 132,
     "metadata": {},
     "output_type": "execute_result"
    }
   ],
   "source": [
    "HEALTH_STATE_MAP_final[HEALTH_STATE_MAP_final['CCSR_Body_System_Abbreviation_2023']=='MUS']['CCSR_CATEGORY_1_DESCRIPTION_2023']\\\n",
    ".value_counts(normalize=True).mul(100).round(2).astype(str)+'%'"
   ]
  },
  {
   "cell_type": "code",
   "execution_count": null,
   "id": "3e9642b1-853c-481b-8ad4-0ff4f74e62f3",
   "metadata": {},
   "outputs": [],
   "source": []
  },
  {
   "cell_type": "code",
   "execution_count": null,
   "id": "33465786-71bb-4964-a694-7c4d92450015",
   "metadata": {},
   "outputs": [],
   "source": []
  },
  {
   "cell_type": "markdown",
   "id": "76f8a405-b506-489c-9fe3-14f3f4999a59",
   "metadata": {},
   "source": [
    "# sending to s3"
   ]
  },
  {
   "cell_type": "code",
   "execution_count": 112,
   "id": "b0cdcb97",
   "metadata": {
    "tags": []
   },
   "outputs": [],
   "source": [
    "# wr.s3.to_csv(\n",
    "#     df= HEALTH_STATE_MAP_final,\n",
    "#      path='s3://intl-euro-uk-datascientist-prod/Abhiya/HEALTH_STATE_MAP_REVISED_2.csv')"
   ]
  },
  {
   "cell_type": "code",
   "execution_count": null,
   "id": "e2eeb05e-606d-42d3-8bc7-cd0a68e8dc95",
   "metadata": {},
   "outputs": [],
   "source": []
  }
 ],
 "metadata": {
  "kernelspec": {
   "display_name": "conda_python3",
   "language": "python",
   "name": "conda_python3"
  },
  "language_info": {
   "codemirror_mode": {
    "name": "ipython",
    "version": 3
   },
   "file_extension": ".py",
   "mimetype": "text/x-python",
   "name": "python",
   "nbconvert_exporter": "python",
   "pygments_lexer": "ipython3",
   "version": "3.10.13"
  },
  "toc": {
   "base_numbering": 1,
   "nav_menu": {
    "height": "11.3333px",
    "width": "160px"
   },
   "number_sections": true,
   "sideBar": true,
   "skip_h1_title": false,
   "title_cell": "Table of Contents",
   "title_sidebar": "Contents",
   "toc_cell": false,
   "toc_position": {
    "height": "calc(100% - 180px)",
    "left": "10px",
    "top": "150px",
    "width": "215.667px"
   },
   "toc_section_display": true,
   "toc_window_display": true
  }
 },
 "nbformat": 4,
 "nbformat_minor": 5
}

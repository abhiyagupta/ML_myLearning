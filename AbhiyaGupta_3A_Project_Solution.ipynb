{
  "nbformat": 4,
  "nbformat_minor": 0,
  "metadata": {
    "colab": {
      "provenance": [],
      "toc_visible": true,
      "collapsed_sections": [
        "QQ383HzlAzIC",
        "BqaP7_LaDZXs",
        "prRV3NVpVYWl",
        "edJ5Hpi0Vd5T",
        "6qcu7WDxKfR8",
        "8RHgaIwVCewV",
        "GThvCaTLW5gh",
        "n0QvVHaoXM-t",
        "9zKXNpLPXTOc",
        "BeiA8IMzXXPw",
        "sezsNvEnXbue",
        "-F35FGi2Xghh",
        "IWpKFoJehYmi",
        "mlo-7UUUb3dV",
        "UeNylkPJohFZ",
        "zWn1q4CafKCJ",
        "N9ZDr89GfZNH",
        "UKmAl9Kr80Ww",
        "CJ3W-eQq94Ys",
        "MVpkGQkT881g",
        "MIaiqlmo2Whm",
        "nactFwSOi7HF",
        "zMasJ-1f-HI-",
        "yzCYZkEfWqE7",
        "f4k1lhYP9Fxb",
        "Yu9F7ncCmGZh",
        "xKCiStHCa_fL",
        "XqbuX-Dg9SG8",
        "LYDDEbLMpHJh",
        "7lziRbI3hJg8",
        "n0hFOnXO-BQJ",
        "pAtw-TR3GcQp",
        "li4C3ZpJU-kR",
        "j0hPlvTqhKdU",
        "_V5jm2hNUJim",
        "wBDUMl5nyWFD",
        "LbxjDPEc87ax",
        "b0GRZEHB40HB",
        "clQde5lNMGFS",
        "FQtj59oC9QCZ",
        "f4U1I-DiPl6m",
        "9OBB66KqPl6q",
        "3JuRj2A-Pl6s",
        "yP6tNqOiPl6u",
        "LED42IBAPl6y",
        "BDQ7VhtcPl6z",
        "71KyNl3MPl62",
        "T6HVp-U8WRww",
        "z3RnZtw0Kmnb",
        "Z4P3Tbhjwi47",
        "vov3DqY5Ji3q",
        "F4NFdz9tT3DV"
      ]
    },
    "kernelspec": {
      "name": "python3",
      "display_name": "Python 3"
    },
    "language_info": {
      "name": "python"
    }
  },
  "cells": [
    {
      "cell_type": "markdown",
      "source": [
        "# Project Objective\n",
        "Background\n",
        "Goal, Number of Resources, Business Impact, Time Taken"
      ],
      "metadata": {
        "id": "QQ383HzlAzIC"
      }
    },
    {
      "cell_type": "markdown",
      "source": [
        "Aim: To predict wether or not a person has diabetes, based on the diagnostic measurements of the patient. \n",
        "\n",
        "Background :Diabetes is dubbed the \"Silent Killer\" by medical professionals since it causes a slew of additional problems in patients. \n",
        "The number of people with diabetes rose from 108 million in 1980 to 422 million in 2014. Prevalence has been rising more rapidly in low- and middle-income countries than in high-income countries.Diabetes is a major cause of blindness, kidney failure, heart attacks, stroke and lower limb amputation.In 2019, diabetes and kidney disease due to diabetes caused an estimated 2 million deaths.\n",
        "\n",
        "Goal: If diabetes is discovered early, it can be effectively treated. Understanding diabetes and its adverse consequences on the body is critical for improved management of this condition. Also, we  can save vital organs like kidneys, eys, heart that are adversely affected by untreated and uncontrolled diabetes.\n",
        "\n",
        "\n",
        "\n"
      ],
      "metadata": {
        "id": "7g2MFDAHBqtp"
      }
    },
    {
      "cell_type": "markdown",
      "source": [
        "# Data Exploration and Validation"
      ],
      "metadata": {
        "id": "BqaP7_LaDZXs"
      }
    },
    {
      "cell_type": "code",
      "source": [
        "import pandas as pd\n",
        "import numpy as np\n",
        "import seaborn as sns\n",
        "import matplotlib.pyplot as plt\n"
      ],
      "metadata": {
        "id": "PF26BoSpKWuK"
      },
      "execution_count": null,
      "outputs": []
    },
    {
      "cell_type": "code",
      "source": [
        "import pandas as pd\n",
        "diabetes_prediction_data=pd.read_csv(\"https://raw.githubusercontent.com/abhiyagupta/DV_python_data/main/diabetes.csv\")\n",
        "diabetes_prediction_data.info()"
      ],
      "metadata": {
        "id": "IKmyv6l2D919"
      },
      "execution_count": null,
      "outputs": []
    },
    {
      "cell_type": "code",
      "source": [
        "diabetes_prediction_data.head(3) "
      ],
      "metadata": {
        "colab": {
          "base_uri": "https://localhost:8080/",
          "height": 143
        },
        "id": "O4V6vj7lbqZC",
        "outputId": "ef0500f0-5b74-4bf3-841a-43feeb3fa93a"
      },
      "execution_count": null,
      "outputs": [
        {
          "output_type": "execute_result",
          "data": {
            "text/plain": [
              "   Pregnancies  Glucose  BloodPressure  SkinThickness  Insulin   BMI  \\\n",
              "0            6      148             72             35        0  33.6   \n",
              "1            1       85             66             29        0  26.6   \n",
              "2            8      183             64              0        0  23.3   \n",
              "\n",
              "   DiabetesPedigreeFunction  Age  Outcome  \n",
              "0                     0.627   50        1  \n",
              "1                     0.351   31        0  \n",
              "2                     0.672   32        1  "
            ],
            "text/html": [
              "\n",
              "  <div id=\"df-86aa5222-a18c-48ad-8d1b-311b459f0b95\">\n",
              "    <div class=\"colab-df-container\">\n",
              "      <div>\n",
              "<style scoped>\n",
              "    .dataframe tbody tr th:only-of-type {\n",
              "        vertical-align: middle;\n",
              "    }\n",
              "\n",
              "    .dataframe tbody tr th {\n",
              "        vertical-align: top;\n",
              "    }\n",
              "\n",
              "    .dataframe thead th {\n",
              "        text-align: right;\n",
              "    }\n",
              "</style>\n",
              "<table border=\"1\" class=\"dataframe\">\n",
              "  <thead>\n",
              "    <tr style=\"text-align: right;\">\n",
              "      <th></th>\n",
              "      <th>Pregnancies</th>\n",
              "      <th>Glucose</th>\n",
              "      <th>BloodPressure</th>\n",
              "      <th>SkinThickness</th>\n",
              "      <th>Insulin</th>\n",
              "      <th>BMI</th>\n",
              "      <th>DiabetesPedigreeFunction</th>\n",
              "      <th>Age</th>\n",
              "      <th>Outcome</th>\n",
              "    </tr>\n",
              "  </thead>\n",
              "  <tbody>\n",
              "    <tr>\n",
              "      <th>0</th>\n",
              "      <td>6</td>\n",
              "      <td>148</td>\n",
              "      <td>72</td>\n",
              "      <td>35</td>\n",
              "      <td>0</td>\n",
              "      <td>33.6</td>\n",
              "      <td>0.627</td>\n",
              "      <td>50</td>\n",
              "      <td>1</td>\n",
              "    </tr>\n",
              "    <tr>\n",
              "      <th>1</th>\n",
              "      <td>1</td>\n",
              "      <td>85</td>\n",
              "      <td>66</td>\n",
              "      <td>29</td>\n",
              "      <td>0</td>\n",
              "      <td>26.6</td>\n",
              "      <td>0.351</td>\n",
              "      <td>31</td>\n",
              "      <td>0</td>\n",
              "    </tr>\n",
              "    <tr>\n",
              "      <th>2</th>\n",
              "      <td>8</td>\n",
              "      <td>183</td>\n",
              "      <td>64</td>\n",
              "      <td>0</td>\n",
              "      <td>0</td>\n",
              "      <td>23.3</td>\n",
              "      <td>0.672</td>\n",
              "      <td>32</td>\n",
              "      <td>1</td>\n",
              "    </tr>\n",
              "  </tbody>\n",
              "</table>\n",
              "</div>\n",
              "      <button class=\"colab-df-convert\" onclick=\"convertToInteractive('df-86aa5222-a18c-48ad-8d1b-311b459f0b95')\"\n",
              "              title=\"Convert this dataframe to an interactive table.\"\n",
              "              style=\"display:none;\">\n",
              "        \n",
              "  <svg xmlns=\"http://www.w3.org/2000/svg\" height=\"24px\"viewBox=\"0 0 24 24\"\n",
              "       width=\"24px\">\n",
              "    <path d=\"M0 0h24v24H0V0z\" fill=\"none\"/>\n",
              "    <path d=\"M18.56 5.44l.94 2.06.94-2.06 2.06-.94-2.06-.94-.94-2.06-.94 2.06-2.06.94zm-11 1L8.5 8.5l.94-2.06 2.06-.94-2.06-.94L8.5 2.5l-.94 2.06-2.06.94zm10 10l.94 2.06.94-2.06 2.06-.94-2.06-.94-.94-2.06-.94 2.06-2.06.94z\"/><path d=\"M17.41 7.96l-1.37-1.37c-.4-.4-.92-.59-1.43-.59-.52 0-1.04.2-1.43.59L10.3 9.45l-7.72 7.72c-.78.78-.78 2.05 0 2.83L4 21.41c.39.39.9.59 1.41.59.51 0 1.02-.2 1.41-.59l7.78-7.78 2.81-2.81c.8-.78.8-2.07 0-2.86zM5.41 20L4 18.59l7.72-7.72 1.47 1.35L5.41 20z\"/>\n",
              "  </svg>\n",
              "      </button>\n",
              "      \n",
              "  <style>\n",
              "    .colab-df-container {\n",
              "      display:flex;\n",
              "      flex-wrap:wrap;\n",
              "      gap: 12px;\n",
              "    }\n",
              "\n",
              "    .colab-df-convert {\n",
              "      background-color: #E8F0FE;\n",
              "      border: none;\n",
              "      border-radius: 50%;\n",
              "      cursor: pointer;\n",
              "      display: none;\n",
              "      fill: #1967D2;\n",
              "      height: 32px;\n",
              "      padding: 0 0 0 0;\n",
              "      width: 32px;\n",
              "    }\n",
              "\n",
              "    .colab-df-convert:hover {\n",
              "      background-color: #E2EBFA;\n",
              "      box-shadow: 0px 1px 2px rgba(60, 64, 67, 0.3), 0px 1px 3px 1px rgba(60, 64, 67, 0.15);\n",
              "      fill: #174EA6;\n",
              "    }\n",
              "\n",
              "    [theme=dark] .colab-df-convert {\n",
              "      background-color: #3B4455;\n",
              "      fill: #D2E3FC;\n",
              "    }\n",
              "\n",
              "    [theme=dark] .colab-df-convert:hover {\n",
              "      background-color: #434B5C;\n",
              "      box-shadow: 0px 1px 3px 1px rgba(0, 0, 0, 0.15);\n",
              "      filter: drop-shadow(0px 1px 2px rgba(0, 0, 0, 0.3));\n",
              "      fill: #FFFFFF;\n",
              "    }\n",
              "  </style>\n",
              "\n",
              "      <script>\n",
              "        const buttonEl =\n",
              "          document.querySelector('#df-86aa5222-a18c-48ad-8d1b-311b459f0b95 button.colab-df-convert');\n",
              "        buttonEl.style.display =\n",
              "          google.colab.kernel.accessAllowed ? 'block' : 'none';\n",
              "\n",
              "        async function convertToInteractive(key) {\n",
              "          const element = document.querySelector('#df-86aa5222-a18c-48ad-8d1b-311b459f0b95');\n",
              "          const dataTable =\n",
              "            await google.colab.kernel.invokeFunction('convertToInteractive',\n",
              "                                                     [key], {});\n",
              "          if (!dataTable) return;\n",
              "\n",
              "          const docLinkHtml = 'Like what you see? Visit the ' +\n",
              "            '<a target=\"_blank\" href=https://colab.research.google.com/notebooks/data_table.ipynb>data table notebook</a>'\n",
              "            + ' to learn more about interactive tables.';\n",
              "          element.innerHTML = '';\n",
              "          dataTable['output_type'] = 'display_data';\n",
              "          await google.colab.output.renderOutput(dataTable, element);\n",
              "          const docLink = document.createElement('div');\n",
              "          docLink.innerHTML = docLinkHtml;\n",
              "          element.appendChild(docLink);\n",
              "        }\n",
              "      </script>\n",
              "    </div>\n",
              "  </div>\n",
              "  "
            ]
          },
          "metadata": {},
          "execution_count": 3
        }
      ]
    },
    {
      "cell_type": "markdown",
      "source": [
        "Variable (in dataset) details: \n",
        "1 Pregnancies: Number of times pregnant. (DISCRETE VARIABLE)     \n",
        "2 Glucose: Plasma glucose concentration a 2 hours in an oral glucose  tolerance test. (continuous VARIABLE)               \n",
        "3 BloodPressure: Diastolic blood pressure (CONTINUOUS VARIABLE)\n",
        "4 SkinThickness:Triceps skin fold thickness in mm to see amount of fat. (CONTINUOUS VARIABLE)\n",
        "5 Insulin:2-Hour serum insulin (mu U/ml) (CONTINUOUS VARIABLE)\n",
        "6 BMI: Body mass index (weight in kg/(height in m)^2) (CONTINUOUS VARIABLE)    \n",
        "7 Diabetes PedigreeFunction (CONTINUOUS VARIBALE)\n",
        "8 Age :(DISCRETE VARIBALE)                        \n",
        "9 Outcome: TARGET VARIBALE 0: NON DIABETIC, 1 DIABETIC\n",
        "(DISCRETE VARIBALE)\n"
      ],
      "metadata": {
        "id": "6B3LkZJzFSlP"
      }
    },
    {
      "cell_type": "markdown",
      "source": [
        "# Data Exploration: DETAIL \n"
      ],
      "metadata": {
        "id": "Q_KmD9p-KLJZ"
      }
    },
    {
      "cell_type": "markdown",
      "source": [
        "##TO CHECK FOR MISSING VALUES"
      ],
      "metadata": {
        "id": "prRV3NVpVYWl"
      }
    },
    {
      "cell_type": "code",
      "source": [
        "#to check for missing values\n",
        "diabetes_prediction_data.isnull().sum()"
      ],
      "metadata": {
        "id": "fdOp2LBUT33N"
      },
      "execution_count": null,
      "outputs": []
    },
    {
      "cell_type": "markdown",
      "source": [
        "##TO CHECK FOR MINIMUM, MAXIMUM VALUES ETC TO CHECK FOR HIDDEN MISSING VALUES"
      ],
      "metadata": {
        "id": "edJ5Hpi0Vd5T"
      }
    },
    {
      "cell_type": "code",
      "source": [
        "diabetes_prediction_data.describe().T"
      ],
      "metadata": {
        "colab": {
          "base_uri": "https://localhost:8080/",
          "height": 331
        },
        "id": "W0q5KAIVUIQP",
        "outputId": "646c4d74-4cd1-4f02-c12f-7b20fb2b44dd"
      },
      "execution_count": null,
      "outputs": [
        {
          "output_type": "execute_result",
          "data": {
            "text/plain": [
              "                          count        mean         std     min       25%  \\\n",
              "Pregnancies               768.0    3.845052    3.369578   0.000   1.00000   \n",
              "Glucose                   768.0  120.894531   31.972618   0.000  99.00000   \n",
              "BloodPressure             768.0   69.105469   19.355807   0.000  62.00000   \n",
              "SkinThickness             768.0   20.536458   15.952218   0.000   0.00000   \n",
              "Insulin                   768.0   79.799479  115.244002   0.000   0.00000   \n",
              "BMI                       768.0   31.992578    7.884160   0.000  27.30000   \n",
              "DiabetesPedigreeFunction  768.0    0.471876    0.331329   0.078   0.24375   \n",
              "Age                       768.0   33.240885   11.760232  21.000  24.00000   \n",
              "Outcome                   768.0    0.348958    0.476951   0.000   0.00000   \n",
              "\n",
              "                               50%        75%     max  \n",
              "Pregnancies                 3.0000    6.00000   17.00  \n",
              "Glucose                   117.0000  140.25000  199.00  \n",
              "BloodPressure              72.0000   80.00000  122.00  \n",
              "SkinThickness              23.0000   32.00000   99.00  \n",
              "Insulin                    30.5000  127.25000  846.00  \n",
              "BMI                        32.0000   36.60000   67.10  \n",
              "DiabetesPedigreeFunction    0.3725    0.62625    2.42  \n",
              "Age                        29.0000   41.00000   81.00  \n",
              "Outcome                     0.0000    1.00000    1.00  "
            ],
            "text/html": [
              "\n",
              "  <div id=\"df-b16dfecc-930d-4b7c-9866-d5bd00522688\">\n",
              "    <div class=\"colab-df-container\">\n",
              "      <div>\n",
              "<style scoped>\n",
              "    .dataframe tbody tr th:only-of-type {\n",
              "        vertical-align: middle;\n",
              "    }\n",
              "\n",
              "    .dataframe tbody tr th {\n",
              "        vertical-align: top;\n",
              "    }\n",
              "\n",
              "    .dataframe thead th {\n",
              "        text-align: right;\n",
              "    }\n",
              "</style>\n",
              "<table border=\"1\" class=\"dataframe\">\n",
              "  <thead>\n",
              "    <tr style=\"text-align: right;\">\n",
              "      <th></th>\n",
              "      <th>count</th>\n",
              "      <th>mean</th>\n",
              "      <th>std</th>\n",
              "      <th>min</th>\n",
              "      <th>25%</th>\n",
              "      <th>50%</th>\n",
              "      <th>75%</th>\n",
              "      <th>max</th>\n",
              "    </tr>\n",
              "  </thead>\n",
              "  <tbody>\n",
              "    <tr>\n",
              "      <th>Pregnancies</th>\n",
              "      <td>768.0</td>\n",
              "      <td>3.845052</td>\n",
              "      <td>3.369578</td>\n",
              "      <td>0.000</td>\n",
              "      <td>1.00000</td>\n",
              "      <td>3.0000</td>\n",
              "      <td>6.00000</td>\n",
              "      <td>17.00</td>\n",
              "    </tr>\n",
              "    <tr>\n",
              "      <th>Glucose</th>\n",
              "      <td>768.0</td>\n",
              "      <td>120.894531</td>\n",
              "      <td>31.972618</td>\n",
              "      <td>0.000</td>\n",
              "      <td>99.00000</td>\n",
              "      <td>117.0000</td>\n",
              "      <td>140.25000</td>\n",
              "      <td>199.00</td>\n",
              "    </tr>\n",
              "    <tr>\n",
              "      <th>BloodPressure</th>\n",
              "      <td>768.0</td>\n",
              "      <td>69.105469</td>\n",
              "      <td>19.355807</td>\n",
              "      <td>0.000</td>\n",
              "      <td>62.00000</td>\n",
              "      <td>72.0000</td>\n",
              "      <td>80.00000</td>\n",
              "      <td>122.00</td>\n",
              "    </tr>\n",
              "    <tr>\n",
              "      <th>SkinThickness</th>\n",
              "      <td>768.0</td>\n",
              "      <td>20.536458</td>\n",
              "      <td>15.952218</td>\n",
              "      <td>0.000</td>\n",
              "      <td>0.00000</td>\n",
              "      <td>23.0000</td>\n",
              "      <td>32.00000</td>\n",
              "      <td>99.00</td>\n",
              "    </tr>\n",
              "    <tr>\n",
              "      <th>Insulin</th>\n",
              "      <td>768.0</td>\n",
              "      <td>79.799479</td>\n",
              "      <td>115.244002</td>\n",
              "      <td>0.000</td>\n",
              "      <td>0.00000</td>\n",
              "      <td>30.5000</td>\n",
              "      <td>127.25000</td>\n",
              "      <td>846.00</td>\n",
              "    </tr>\n",
              "    <tr>\n",
              "      <th>BMI</th>\n",
              "      <td>768.0</td>\n",
              "      <td>31.992578</td>\n",
              "      <td>7.884160</td>\n",
              "      <td>0.000</td>\n",
              "      <td>27.30000</td>\n",
              "      <td>32.0000</td>\n",
              "      <td>36.60000</td>\n",
              "      <td>67.10</td>\n",
              "    </tr>\n",
              "    <tr>\n",
              "      <th>DiabetesPedigreeFunction</th>\n",
              "      <td>768.0</td>\n",
              "      <td>0.471876</td>\n",
              "      <td>0.331329</td>\n",
              "      <td>0.078</td>\n",
              "      <td>0.24375</td>\n",
              "      <td>0.3725</td>\n",
              "      <td>0.62625</td>\n",
              "      <td>2.42</td>\n",
              "    </tr>\n",
              "    <tr>\n",
              "      <th>Age</th>\n",
              "      <td>768.0</td>\n",
              "      <td>33.240885</td>\n",
              "      <td>11.760232</td>\n",
              "      <td>21.000</td>\n",
              "      <td>24.00000</td>\n",
              "      <td>29.0000</td>\n",
              "      <td>41.00000</td>\n",
              "      <td>81.00</td>\n",
              "    </tr>\n",
              "    <tr>\n",
              "      <th>Outcome</th>\n",
              "      <td>768.0</td>\n",
              "      <td>0.348958</td>\n",
              "      <td>0.476951</td>\n",
              "      <td>0.000</td>\n",
              "      <td>0.00000</td>\n",
              "      <td>0.0000</td>\n",
              "      <td>1.00000</td>\n",
              "      <td>1.00</td>\n",
              "    </tr>\n",
              "  </tbody>\n",
              "</table>\n",
              "</div>\n",
              "      <button class=\"colab-df-convert\" onclick=\"convertToInteractive('df-b16dfecc-930d-4b7c-9866-d5bd00522688')\"\n",
              "              title=\"Convert this dataframe to an interactive table.\"\n",
              "              style=\"display:none;\">\n",
              "        \n",
              "  <svg xmlns=\"http://www.w3.org/2000/svg\" height=\"24px\"viewBox=\"0 0 24 24\"\n",
              "       width=\"24px\">\n",
              "    <path d=\"M0 0h24v24H0V0z\" fill=\"none\"/>\n",
              "    <path d=\"M18.56 5.44l.94 2.06.94-2.06 2.06-.94-2.06-.94-.94-2.06-.94 2.06-2.06.94zm-11 1L8.5 8.5l.94-2.06 2.06-.94-2.06-.94L8.5 2.5l-.94 2.06-2.06.94zm10 10l.94 2.06.94-2.06 2.06-.94-2.06-.94-.94-2.06-.94 2.06-2.06.94z\"/><path d=\"M17.41 7.96l-1.37-1.37c-.4-.4-.92-.59-1.43-.59-.52 0-1.04.2-1.43.59L10.3 9.45l-7.72 7.72c-.78.78-.78 2.05 0 2.83L4 21.41c.39.39.9.59 1.41.59.51 0 1.02-.2 1.41-.59l7.78-7.78 2.81-2.81c.8-.78.8-2.07 0-2.86zM5.41 20L4 18.59l7.72-7.72 1.47 1.35L5.41 20z\"/>\n",
              "  </svg>\n",
              "      </button>\n",
              "      \n",
              "  <style>\n",
              "    .colab-df-container {\n",
              "      display:flex;\n",
              "      flex-wrap:wrap;\n",
              "      gap: 12px;\n",
              "    }\n",
              "\n",
              "    .colab-df-convert {\n",
              "      background-color: #E8F0FE;\n",
              "      border: none;\n",
              "      border-radius: 50%;\n",
              "      cursor: pointer;\n",
              "      display: none;\n",
              "      fill: #1967D2;\n",
              "      height: 32px;\n",
              "      padding: 0 0 0 0;\n",
              "      width: 32px;\n",
              "    }\n",
              "\n",
              "    .colab-df-convert:hover {\n",
              "      background-color: #E2EBFA;\n",
              "      box-shadow: 0px 1px 2px rgba(60, 64, 67, 0.3), 0px 1px 3px 1px rgba(60, 64, 67, 0.15);\n",
              "      fill: #174EA6;\n",
              "    }\n",
              "\n",
              "    [theme=dark] .colab-df-convert {\n",
              "      background-color: #3B4455;\n",
              "      fill: #D2E3FC;\n",
              "    }\n",
              "\n",
              "    [theme=dark] .colab-df-convert:hover {\n",
              "      background-color: #434B5C;\n",
              "      box-shadow: 0px 1px 3px 1px rgba(0, 0, 0, 0.15);\n",
              "      filter: drop-shadow(0px 1px 2px rgba(0, 0, 0, 0.3));\n",
              "      fill: #FFFFFF;\n",
              "    }\n",
              "  </style>\n",
              "\n",
              "      <script>\n",
              "        const buttonEl =\n",
              "          document.querySelector('#df-b16dfecc-930d-4b7c-9866-d5bd00522688 button.colab-df-convert');\n",
              "        buttonEl.style.display =\n",
              "          google.colab.kernel.accessAllowed ? 'block' : 'none';\n",
              "\n",
              "        async function convertToInteractive(key) {\n",
              "          const element = document.querySelector('#df-b16dfecc-930d-4b7c-9866-d5bd00522688');\n",
              "          const dataTable =\n",
              "            await google.colab.kernel.invokeFunction('convertToInteractive',\n",
              "                                                     [key], {});\n",
              "          if (!dataTable) return;\n",
              "\n",
              "          const docLinkHtml = 'Like what you see? Visit the ' +\n",
              "            '<a target=\"_blank\" href=https://colab.research.google.com/notebooks/data_table.ipynb>data table notebook</a>'\n",
              "            + ' to learn more about interactive tables.';\n",
              "          element.innerHTML = '';\n",
              "          dataTable['output_type'] = 'display_data';\n",
              "          await google.colab.output.renderOutput(dataTable, element);\n",
              "          const docLink = document.createElement('div');\n",
              "          docLink.innerHTML = docLinkHtml;\n",
              "          element.appendChild(docLink);\n",
              "        }\n",
              "      </script>\n",
              "    </div>\n",
              "  </div>\n",
              "  "
            ]
          },
          "metadata": {},
          "execution_count": 5
        }
      ]
    },
    {
      "cell_type": "markdown",
      "source": [
        "MEAN_INSULIN:79.79 MEDIAN_INSULIN:30.5. VARIATION BETWEEN MEAN AND MEDIAN IS HIGH."
      ],
      "metadata": {
        "id": "sP-cSYBPxVny"
      }
    },
    {
      "cell_type": "markdown",
      "source": [
        "THERE ARE NO MISSING VALUES EVIDENT BUT glucose, bp, skin thickness, insulin, BMI have 0 MINIMUM VALUES, WHICH IS WRONG. MISSING VALUES ARE PROBABLY GIVEN AS 0."
      ],
      "metadata": {
        "id": "IlKOW1piUTQA"
      }
    },
    {
      "cell_type": "markdown",
      "source": [
        "# Discrete/Categorical Variables Exploration"
      ],
      "metadata": {
        "id": "6qcu7WDxKfR8"
      }
    },
    {
      "cell_type": "code",
      "source": [
        "import seaborn as sns"
      ],
      "metadata": {
        "id": "MCdtIi7Wm3Za"
      },
      "execution_count": null,
      "outputs": []
    },
    {
      "cell_type": "markdown",
      "source": [
        "##PREGNANCY"
      ],
      "metadata": {
        "id": "taHILqU-Xyhh"
      }
    },
    {
      "cell_type": "code",
      "source": [
        "#variable 1: number of pregnancies (discrete)\n",
        "print(diabetes_prediction_data['Pregnancies'].value_counts())\n",
        "sns.countplot(y=\"Pregnancies\", data=diabetes_prediction_data) \n"
      ],
      "metadata": {
        "id": "CEjT8k85Xjb1"
      },
      "execution_count": null,
      "outputs": []
    },
    {
      "cell_type": "markdown",
      "source": [
        "##AGE"
      ],
      "metadata": {
        "id": "11scggD8X3hK"
      }
    },
    {
      "cell_type": "code",
      "source": [
        "# Age (discrete varibale)\n",
        "print(diabetes_prediction_data['Age'].value_counts())\n",
        "sns.countplot(y=\"Age\" , data=diabetes_prediction_data)"
      ],
      "metadata": {
        "id": "yFmyxLMiyAhL"
      },
      "execution_count": null,
      "outputs": []
    },
    {
      "cell_type": "markdown",
      "source": [
        "##TARGET VARIBALE: OUTCOME"
      ],
      "metadata": {
        "id": "Q8GexAoJX6XQ"
      }
    },
    {
      "cell_type": "markdown",
      "source": [
        "TARGET VARIABLE OUTCOME: NONDIABETIC=0 (500). DIABETIC =1 (268) SO DATASET IS **IMBALANCED**."
      ],
      "metadata": {
        "id": "xJROB4iCms2C"
      }
    },
    {
      "cell_type": "code",
      "source": [
        "# Outcome (discrete varibale) \n",
        "print(diabetes_prediction_data['Outcome'].value_counts())\n",
        "sns.countplot(y=\"Outcome\" , data=diabetes_prediction_data)"
      ],
      "metadata": {
        "id": "lkC73vQIylxb"
      },
      "execution_count": null,
      "outputs": []
    },
    {
      "cell_type": "markdown",
      "source": [
        "# Continuous Variables Exploration"
      ],
      "metadata": {
        "id": "8RHgaIwVCewV"
      }
    },
    {
      "cell_type": "code",
      "source": [
        "import matplotlib.pyplot as plt\n"
      ],
      "metadata": {
        "id": "JR9dakExEC6K"
      },
      "execution_count": null,
      "outputs": []
    },
    {
      "cell_type": "markdown",
      "source": [
        "##PLASMA GLUCOSE\n"
      ],
      "metadata": {
        "id": "GThvCaTLW5gh"
      }
    },
    {
      "cell_type": "code",
      "source": [
        "#Plasma glucose concentration a 2 hours in an oral glucose tolerance test (continuous)\n",
        "plt.boxplot(diabetes_prediction_data[\"Glucose\"])"
      ],
      "metadata": {
        "id": "yhkRd6dkcRXx"
      },
      "execution_count": null,
      "outputs": []
    },
    {
      "cell_type": "code",
      "source": [
        "plt.hist(diabetes_prediction_data[\"Glucose\"])"
      ],
      "metadata": {
        "id": "rnhQ3r0WDQkr"
      },
      "execution_count": null,
      "outputs": []
    },
    {
      "cell_type": "code",
      "source": [
        "glucose_percentiles=diabetes_prediction_data['Glucose'].quantile([0.05, 0.1, 0.25, 0.5, 0.75, 0.80, 0.9,0.91,0.95,0.96,0.97,0.975,0.98,0.99,1])\n",
        "round(glucose_percentiles,2)"
      ],
      "metadata": {
        "id": "kfO82QkdDn3q"
      },
      "execution_count": null,
      "outputs": []
    },
    {
      "cell_type": "markdown",
      "source": [
        "##BLOOD PRESSURE"
      ],
      "metadata": {
        "id": "n0QvVHaoXM-t"
      }
    },
    {
      "cell_type": "code",
      "source": [
        "#Blood pressure (continuos as values are large)\n",
        "plt.boxplot(diabetes_prediction_data[\"BloodPressure\"])"
      ],
      "metadata": {
        "id": "G-ghRqy5Ffxf"
      },
      "execution_count": null,
      "outputs": []
    },
    {
      "cell_type": "code",
      "source": [
        "plt.hist(diabetes_prediction_data[\"BloodPressure\"])"
      ],
      "metadata": {
        "id": "sF4ec1FtFwaK"
      },
      "execution_count": null,
      "outputs": []
    },
    {
      "cell_type": "code",
      "source": [
        "bp_percentile=diabetes_prediction_data['BloodPressure'].quantile([.05, 0.1, 0.25, 0.5, 0.75, 0.80, 0.9,0.91,0.95,0.96,0.97,0.975,0.98,0.99,1])\n",
        "round(bp_percentile,2)"
      ],
      "metadata": {
        "id": "uBOD9D7oF3GC"
      },
      "execution_count": null,
      "outputs": []
    },
    {
      "cell_type": "markdown",
      "source": [
        "##SKIN THICKNESS"
      ],
      "metadata": {
        "id": "9zKXNpLPXTOc"
      }
    },
    {
      "cell_type": "code",
      "source": [
        "# SkinThickness (continuous varibale)\n",
        "plt.boxplot(diabetes_prediction_data[\"SkinThickness\"])"
      ],
      "metadata": {
        "id": "DfM6_pEBxTT4"
      },
      "execution_count": null,
      "outputs": []
    },
    {
      "cell_type": "code",
      "source": [
        "plt.hist(diabetes_prediction_data[\"SkinThickness\"])"
      ],
      "metadata": {
        "id": "k17sU0JRGy2x"
      },
      "execution_count": null,
      "outputs": []
    },
    {
      "cell_type": "code",
      "source": [
        "skinthickness_percentile=diabetes_prediction_data['SkinThickness'].quantile([0.05, 0.1, 0.25, 0.5, 0.75, 0.80, 0.9,0.91,0.95,0.96,0.97,0.975,0.98,0.99,1])\n",
        "round(skinthickness_percentile,2)"
      ],
      "metadata": {
        "id": "MsbsZU0oG6_X"
      },
      "execution_count": null,
      "outputs": []
    },
    {
      "cell_type": "markdown",
      "source": [
        "##INSULIN"
      ],
      "metadata": {
        "id": "BeiA8IMzXXPw"
      }
    },
    {
      "cell_type": "code",
      "source": [
        "# Insulin (CONTINUOUS varibale)\n",
        "plt.boxplot(diabetes_prediction_data[\"Insulin\"])"
      ],
      "metadata": {
        "id": "3qtmpPZW9SL5"
      },
      "execution_count": null,
      "outputs": []
    },
    {
      "cell_type": "code",
      "source": [
        "plt.hist(diabetes_prediction_data[\"Insulin\"])"
      ],
      "metadata": {
        "id": "dHOh2Z4Tl7O5",
        "colab": {
          "base_uri": "https://localhost:8080/",
          "height": 499
        },
        "outputId": "5a04218e-e3a0-471e-ff1f-d27c943d6446"
      },
      "execution_count": null,
      "outputs": [
        {
          "output_type": "execute_result",
          "data": {
            "text/plain": [
              "(array([487., 155.,  70.,  30.,   8.,   9.,   5.,   1.,   2.,   1.]),\n",
              " array([  0. ,  84.6, 169.2, 253.8, 338.4, 423. , 507.6, 592.2, 676.8,\n",
              "        761.4, 846. ]),\n",
              " <BarContainer object of 10 artists>)"
            ]
          },
          "metadata": {},
          "execution_count": 15
        },
        {
          "output_type": "display_data",
          "data": {
            "text/plain": [
              "<Figure size 640x480 with 1 Axes>"
            ],
            "image/png": "[encoded data removed]"
          },
          "metadata": {}
        }
      ]
    },
    {
      "cell_type": "code",
      "source": [
        "insulin_percentile=diabetes_prediction_data['Insulin'].quantile([0.05, 0.1, 0.25, 0.5, 0.75, 0.80, 0.9,0.91,0.95,0.96,0.97,0.975,0.98,0.99,1])\n",
        "round(insulin_percentile,2)"
      ],
      "metadata": {
        "id": "pd68DksbHj7I"
      },
      "execution_count": null,
      "outputs": []
    },
    {
      "cell_type": "markdown",
      "source": [
        "##BMI\n"
      ],
      "metadata": {
        "id": "sezsNvEnXbue"
      }
    },
    {
      "cell_type": "code",
      "source": [
        "#BMI  (continuous Varibale)\n",
        "plt.boxplot(diabetes_prediction_data[\"BMI\"])"
      ],
      "metadata": {
        "id": "-IERDzOPyWQJ"
      },
      "execution_count": null,
      "outputs": []
    },
    {
      "cell_type": "code",
      "source": [
        "plt.hist(diabetes_prediction_data[\"BMI\"])"
      ],
      "metadata": {
        "id": "ztVJg36JH4nU"
      },
      "execution_count": null,
      "outputs": []
    },
    {
      "cell_type": "code",
      "source": [
        "bmi_percentile=diabetes_prediction_data['BMI'].quantile([0.05, 0.1, 0.25, 0.5, 0.75, 0.80, 0.9,0.91,0.95,0.96,0.97,0.975,0.98,0.99,1])\n",
        "round(bmi_percentile,2)"
      ],
      "metadata": {
        "id": "Fb9i4YSCH-9K"
      },
      "execution_count": null,
      "outputs": []
    },
    {
      "cell_type": "markdown",
      "source": [
        "##DIABETES PEDIGREE FUNCTION : GENETIC INFOMATION"
      ],
      "metadata": {
        "id": "-F35FGi2Xghh"
      }
    },
    {
      "cell_type": "code",
      "source": [
        "#DiabetesPedigreeFunction  (continuous Varibale)\n",
        "plt.boxplot(diabetes_prediction_data[\"DiabetesPedigreeFunction\"])"
      ],
      "metadata": {
        "id": "ddx1o0MZyaMm"
      },
      "execution_count": null,
      "outputs": []
    },
    {
      "cell_type": "code",
      "source": [
        "plt.hist(diabetes_prediction_data[\"DiabetesPedigreeFunction\"])"
      ],
      "metadata": {
        "id": "SN1ViqwoInEi"
      },
      "execution_count": null,
      "outputs": []
    },
    {
      "cell_type": "code",
      "source": [
        "dpfunction_percentile=diabetes_prediction_data['DiabetesPedigreeFunction'].quantile([0.05, 0.1, 0.25, 0.5, 0.75, 0.80, 0.9,0.91,0.95,0.96,0.97,0.975,0.98,0.99,1])\n",
        "round(dpfunction_percentile,2)\n"
      ],
      "metadata": {
        "id": "j9MFz5t2IuJY"
      },
      "execution_count": null,
      "outputs": []
    },
    {
      "cell_type": "markdown",
      "source": [
        "#DATA CLEANING\n"
      ],
      "metadata": {
        "id": "IWpKFoJehYmi"
      }
    },
    {
      "cell_type": "code",
      "source": [
        "import numpy as np"
      ],
      "metadata": {
        "id": "LfKXn44xg1Yh"
      },
      "execution_count": null,
      "outputs": []
    },
    {
      "cell_type": "markdown",
      "source": [
        "##CHECK FOR TRUE MISSING VALUES BY REPLACING 0 WITH NAN"
      ],
      "metadata": {
        "id": "Q72NZ8JoYmqj"
      }
    },
    {
      "cell_type": "code",
      "source": [
        "#STEP 1: create DUPLICATE OF varibales THAT needS to be cleaned\n",
        "diabetes_prediction_data[['Glucose_new','BloodPressure_new','SkinThickness_new','Insulin_new','BMI_new']]=diabetes_prediction_data[['Glucose','BloodPressure','SkinThickness','Insulin','BMI']]"
      ],
      "metadata": {
        "id": "qXuTLg9Yg1Yg"
      },
      "execution_count": null,
      "outputs": []
    },
    {
      "cell_type": "code",
      "source": [
        "#CHECKING FOR NULL\n",
        "diabetes_prediction_data.isnull().sum()"
      ],
      "metadata": {
        "id": "SeAn9tUKg1Yh"
      },
      "execution_count": null,
      "outputs": []
    },
    {
      "cell_type": "code",
      "source": [
        "#STEP 2: REPLACING 0 WITH NAN \n",
        "diabetes_prediction_data[['Glucose_new','BloodPressure_new',\n",
        "                        'SkinThickness_new','Insulin_new','BMI_new']] = diabetes_prediction_data[['Glucose_new','BloodPressure_new',\n",
        "                                                    'SkinThickness_new','Insulin_new','BMI_new']].replace(0,np.NaN)"
      ],
      "metadata": {
        "id": "NfQxw7llg1Yi"
      },
      "execution_count": null,
      "outputs": []
    },
    {
      "cell_type": "code",
      "source": [
        "diabetes_prediction_data.isnull().sum()"
      ],
      "metadata": {
        "id": "2NTlUuRWg1Yi",
        "colab": {
          "base_uri": "https://localhost:8080/"
        },
        "outputId": "55489d0a-730b-4f0a-bd54-3246957a7334"
      },
      "execution_count": null,
      "outputs": [
        {
          "output_type": "execute_result",
          "data": {
            "text/plain": [
              "Pregnancies                   0\n",
              "Glucose                       0\n",
              "BloodPressure                 0\n",
              "SkinThickness                 0\n",
              "Insulin                       0\n",
              "BMI                           0\n",
              "DiabetesPedigreeFunction      0\n",
              "Age                           0\n",
              "Outcome                       0\n",
              "Glucose_new                   5\n",
              "BloodPressure_new            35\n",
              "SkinThickness_new           227\n",
              "Insulin_new                 374\n",
              "BMI_new                      11\n",
              "dtype: int64"
            ]
          },
          "metadata": {},
          "execution_count": 22
        }
      ]
    },
    {
      "cell_type": "markdown",
      "source": [
        "##PERCENTAGE OF MISSING VALUES"
      ],
      "metadata": {
        "id": "HSyT-9oMZ_ml"
      }
    },
    {
      "cell_type": "code",
      "source": [
        "#To find missing values in percentage\n",
        "diabetes_prediction_data.isnull().mean().round(4) * 100"
      ],
      "metadata": {
        "id": "wWUyl8YZg1Ym",
        "colab": {
          "base_uri": "https://localhost:8080/"
        },
        "outputId": "c9675823-f2f2-49f6-a414-c2de57d0f5ea"
      },
      "execution_count": null,
      "outputs": [
        {
          "output_type": "execute_result",
          "data": {
            "text/plain": [
              "Pregnancies                  0.00\n",
              "Glucose                      0.00\n",
              "BloodPressure                0.00\n",
              "SkinThickness                0.00\n",
              "Insulin                      0.00\n",
              "BMI                          0.00\n",
              "DiabetesPedigreeFunction     0.00\n",
              "Age                          0.00\n",
              "Outcome                      0.00\n",
              "Glucose_new                  0.65\n",
              "BloodPressure_new            4.56\n",
              "SkinThickness_new           29.56\n",
              "Insulin_new                 48.70\n",
              "BMI_new                      1.43\n",
              "dtype: float64"
            ]
          },
          "metadata": {},
          "execution_count": 23
        }
      ]
    },
    {
      "cell_type": "markdown",
      "source": [
        "## IMPUTING MISSING VALUES WITH MEDIAN. CONTINUOUS VARIABLES.\n"
      ],
      "metadata": {
        "id": "HxXPpuvQal5P"
      }
    },
    {
      "cell_type": "markdown",
      "source": [
        "##SCENARIO 1 : MISSING VALUES IS LESS THAN 10% - GLUCOSE, BP, BMI. "
      ],
      "metadata": {
        "id": "mlo-7UUUb3dV"
      }
    },
    {
      "cell_type": "markdown",
      "source": [
        "STEP 1 : CREATE DUPLICATE OF VARIABLE WE NEED TO WORK ON"
      ],
      "metadata": {
        "id": "J-ERvBhDcGIJ"
      }
    },
    {
      "cell_type": "code",
      "source": [
        "diabetes_prediction_data[['Glucose_new_2','BloodPressure_new_2','BMI_new_2']]=diabetes_prediction_data[['Glucose_new','BloodPressure_new','BMI_new']]"
      ],
      "metadata": {
        "id": "HoHa2g5UiKVf"
      },
      "execution_count": null,
      "outputs": []
    },
    {
      "cell_type": "markdown",
      "source": [
        "STEP 2 : IMPUTE WITH MEDIAN IN DUPLICATED COLUMN"
      ],
      "metadata": {
        "id": "U72HdO4bcOoG"
      }
    },
    {
      "cell_type": "markdown",
      "source": [
        "###GLUCOSE - REPLACING WITH MEDIAN"
      ],
      "metadata": {
        "id": "QwcwGHFFcoAd"
      }
    },
    {
      "cell_type": "code",
      "metadata": {
        "id": "gfwFxqDEIpoG",
        "colab": {
          "base_uri": "https://localhost:8080/"
        },
        "outputId": "20d7f823-9d91-443a-c980-4dcd7861b8b5"
      },
      "source": [
        "diabetes_prediction_data['Glucose_new_2'][diabetes_prediction_data['Glucose_new'].isnull()]=diabetes_prediction_data['Glucose_new'].median()\n",
        "round(diabetes_prediction_data['Glucose_new_2'].describe())"
      ],
      "execution_count": null,
      "outputs": [
        {
          "output_type": "stream",
          "name": "stderr",
          "text": [
            "<ipython-input-36-b571022fdfe3>:1: SettingWithCopyWarning: \n",
            "A value is trying to be set on a copy of a slice from a DataFrame\n",
            "\n",
            "See the caveats in the documentation: https://pandas.pydata.org/pandas-docs/stable/user_guide/indexing.html#returning-a-view-versus-a-copy\n",
            "  diabetes_prediction_data['Glucose_new_2'][diabetes_prediction_data['Glucose_new'].isnull()]=diabetes_prediction_data['Glucose_new'].median()\n"
          ]
        },
        {
          "output_type": "execute_result",
          "data": {
            "text/plain": [
              "count    768.0\n",
              "mean     122.0\n",
              "std       30.0\n",
              "min       44.0\n",
              "25%      100.0\n",
              "50%      117.0\n",
              "75%      140.0\n",
              "max      199.0\n",
              "Name: Glucose_new_2, dtype: float64"
            ]
          },
          "metadata": {},
          "execution_count": 36
        }
      ]
    },
    {
      "cell_type": "markdown",
      "source": [
        "###BLOOD PRESSURE- REPLACING WITH MEDIAN"
      ],
      "metadata": {
        "id": "9a_3plXqc2As"
      }
    },
    {
      "cell_type": "code",
      "metadata": {
        "id": "BL8QfXi5m1_s",
        "colab": {
          "base_uri": "https://localhost:8080/"
        },
        "outputId": "f59a078a-f8e4-4926-9c42-23077a0ed323"
      },
      "source": [
        "diabetes_prediction_data['BloodPressure_new_2'][diabetes_prediction_data['BloodPressure_new'].isnull()]=diabetes_prediction_data['BloodPressure_new'].median()\n",
        "round(diabetes_prediction_data['BloodPressure_new_2'].describe())"
      ],
      "execution_count": null,
      "outputs": [
        {
          "output_type": "stream",
          "name": "stderr",
          "text": [
            "<ipython-input-37-fb126dc72fe3>:1: SettingWithCopyWarning: \n",
            "A value is trying to be set on a copy of a slice from a DataFrame\n",
            "\n",
            "See the caveats in the documentation: https://pandas.pydata.org/pandas-docs/stable/user_guide/indexing.html#returning-a-view-versus-a-copy\n",
            "  diabetes_prediction_data['BloodPressure_new_2'][diabetes_prediction_data['BloodPressure_new'].isnull()]=diabetes_prediction_data['BloodPressure_new'].median()\n"
          ]
        },
        {
          "output_type": "execute_result",
          "data": {
            "text/plain": [
              "count    768.0\n",
              "mean      72.0\n",
              "std       12.0\n",
              "min       24.0\n",
              "25%       64.0\n",
              "50%       72.0\n",
              "75%       80.0\n",
              "max      122.0\n",
              "Name: BloodPressure_new_2, dtype: float64"
            ]
          },
          "metadata": {},
          "execution_count": 37
        }
      ]
    },
    {
      "cell_type": "markdown",
      "source": [
        "###BMI- REPLACING WITH MEDIAN"
      ],
      "metadata": {
        "id": "hTiiGi1QdGqi"
      }
    },
    {
      "cell_type": "code",
      "metadata": {
        "id": "1nI2EEIom2xS",
        "colab": {
          "base_uri": "https://localhost:8080/"
        },
        "outputId": "7db5d30b-f8fe-4951-efe1-635c41777238"
      },
      "source": [
        "diabetes_prediction_data['BMI_new_2'][diabetes_prediction_data['BMI_new'].isnull()]=diabetes_prediction_data['BMI_new'].median()\n",
        "round(diabetes_prediction_data['BMI_new_2'].describe())"
      ],
      "execution_count": null,
      "outputs": [
        {
          "output_type": "stream",
          "name": "stderr",
          "text": [
            "<ipython-input-38-60e1e42984d2>:1: SettingWithCopyWarning: \n",
            "A value is trying to be set on a copy of a slice from a DataFrame\n",
            "\n",
            "See the caveats in the documentation: https://pandas.pydata.org/pandas-docs/stable/user_guide/indexing.html#returning-a-view-versus-a-copy\n",
            "  diabetes_prediction_data['BMI_new_2'][diabetes_prediction_data['BMI_new'].isnull()]=diabetes_prediction_data['BMI_new'].median()\n"
          ]
        },
        {
          "output_type": "execute_result",
          "data": {
            "text/plain": [
              "count    768.0\n",
              "mean      32.0\n",
              "std        7.0\n",
              "min       18.0\n",
              "25%       28.0\n",
              "50%       32.0\n",
              "75%       37.0\n",
              "max       67.0\n",
              "Name: BMI_new_2, dtype: float64"
            ]
          },
          "metadata": {},
          "execution_count": 38
        }
      ]
    },
    {
      "cell_type": "markdown",
      "source": [
        "##SCENARIO 2 : MISSING VALUES IS BETWEEN 10-50% SKIN THICKNESS & INSULIN\n",
        "\n"
      ],
      "metadata": {
        "id": "UeNylkPJohFZ"
      }
    },
    {
      "cell_type": "markdown",
      "source": [
        "STEP 1 : CREATE FLAGGED VARIBALE."
      ],
      "metadata": {
        "id": "n2lttcpPeUin"
      }
    },
    {
      "cell_type": "markdown",
      "source": [
        "FLAGGED VARIBALE OF SKIN THICKNESS:"
      ],
      "metadata": {
        "id": "RaO5LwQSeu-M"
      }
    },
    {
      "cell_type": "code",
      "metadata": {
        "id": "ND7p0os8pCe1",
        "colab": {
          "base_uri": "https://localhost:8080/"
        },
        "outputId": "69764ab9-aa1f-45c9-86b8-96da5355da8a"
      },
      "source": [
        "diabetes_prediction_data['SkinThickness_ind']=1\n",
        "diabetes_prediction_data['SkinThickness_ind'][diabetes_prediction_data['SkinThickness_new'].isnull()]=0\n",
        "diabetes_prediction_data['SkinThickness_ind'].value_counts()\n"
      ],
      "execution_count": null,
      "outputs": [
        {
          "output_type": "stream",
          "name": "stderr",
          "text": [
            "<ipython-input-39-8e6275c99547>:2: SettingWithCopyWarning: \n",
            "A value is trying to be set on a copy of a slice from a DataFrame\n",
            "\n",
            "See the caveats in the documentation: https://pandas.pydata.org/pandas-docs/stable/user_guide/indexing.html#returning-a-view-versus-a-copy\n",
            "  diabetes_prediction_data['SkinThickness_ind'][diabetes_prediction_data['SkinThickness_new'].isnull()]=0\n"
          ]
        },
        {
          "output_type": "execute_result",
          "data": {
            "text/plain": [
              "1    541\n",
              "0    227\n",
              "Name: SkinThickness_ind, dtype: int64"
            ]
          },
          "metadata": {},
          "execution_count": 39
        }
      ]
    },
    {
      "cell_type": "markdown",
      "source": [
        "FLAGGED VARIBALE OF INSULIN"
      ],
      "metadata": {
        "id": "Nd2tSpCFezqA"
      }
    },
    {
      "cell_type": "code",
      "metadata": {
        "id": "L_NijOxlqSvZ",
        "colab": {
          "base_uri": "https://localhost:8080/"
        },
        "outputId": "ef9fc876-907f-470b-eb21-ef66f5d96b24"
      },
      "source": [
        "diabetes_prediction_data['Insulin_ind']=1\n",
        "diabetes_prediction_data['Insulin_ind'][diabetes_prediction_data['Insulin_new'].isnull()]=0\n",
        "diabetes_prediction_data['Insulin_ind'].value_counts()\n"
      ],
      "execution_count": null,
      "outputs": [
        {
          "output_type": "stream",
          "name": "stderr",
          "text": [
            "<ipython-input-40-5b04a16262e1>:2: SettingWithCopyWarning: \n",
            "A value is trying to be set on a copy of a slice from a DataFrame\n",
            "\n",
            "See the caveats in the documentation: https://pandas.pydata.org/pandas-docs/stable/user_guide/indexing.html#returning-a-view-versus-a-copy\n",
            "  diabetes_prediction_data['Insulin_ind'][diabetes_prediction_data['Insulin_new'].isnull()]=0\n"
          ]
        },
        {
          "output_type": "execute_result",
          "data": {
            "text/plain": [
              "1    394\n",
              "0    374\n",
              "Name: Insulin_ind, dtype: int64"
            ]
          },
          "metadata": {},
          "execution_count": 40
        }
      ]
    },
    {
      "cell_type": "markdown",
      "source": [
        "STEP 2 : CREATE DULIPCATE VARIBALE"
      ],
      "metadata": {
        "id": "u_FNhOioe54R"
      }
    },
    {
      "cell_type": "code",
      "source": [
        "diabetes_prediction_data[['SkinThickness_new_2','Insulin_new_2']]=diabetes_prediction_data[['SkinThickness_new','Insulin_new']]"
      ],
      "metadata": {
        "id": "VULQ1rexqgVq"
      },
      "execution_count": null,
      "outputs": []
    },
    {
      "cell_type": "markdown",
      "source": [
        "STEP 3 : IMPUTE WITH MEDIAN IN DUPLICATED COLUMN"
      ],
      "metadata": {
        "id": "lXoPLhA7fE7c"
      }
    },
    {
      "cell_type": "markdown",
      "source": [
        "###SKIN THICKNESS- REPLACING WITH MEDIAN"
      ],
      "metadata": {
        "id": "zWn1q4CafKCJ"
      }
    },
    {
      "cell_type": "code",
      "metadata": {
        "id": "TmA9DOfLq5u3",
        "colab": {
          "base_uri": "https://localhost:8080/"
        },
        "outputId": "35640c25-f4ec-4113-b050-8b8bc3bf8bc3"
      },
      "source": [
        "diabetes_prediction_data['SkinThickness_new_2'][diabetes_prediction_data['SkinThickness_new'].isnull()]=diabetes_prediction_data['SkinThickness_new'].median()\n",
        "round(diabetes_prediction_data['SkinThickness_new_2'].describe())"
      ],
      "execution_count": null,
      "outputs": [
        {
          "output_type": "stream",
          "name": "stderr",
          "text": [
            "<ipython-input-42-43860370eea6>:1: SettingWithCopyWarning: \n",
            "A value is trying to be set on a copy of a slice from a DataFrame\n",
            "\n",
            "See the caveats in the documentation: https://pandas.pydata.org/pandas-docs/stable/user_guide/indexing.html#returning-a-view-versus-a-copy\n",
            "  diabetes_prediction_data['SkinThickness_new_2'][diabetes_prediction_data['SkinThickness_new'].isnull()]=diabetes_prediction_data['SkinThickness_new'].median()\n"
          ]
        },
        {
          "output_type": "execute_result",
          "data": {
            "text/plain": [
              "count    768.0\n",
              "mean      29.0\n",
              "std        9.0\n",
              "min        7.0\n",
              "25%       25.0\n",
              "50%       29.0\n",
              "75%       32.0\n",
              "max       99.0\n",
              "Name: SkinThickness_new_2, dtype: float64"
            ]
          },
          "metadata": {},
          "execution_count": 42
        }
      ]
    },
    {
      "cell_type": "markdown",
      "source": [
        "###INSULIN- REPLACING WITH MEDIAN"
      ],
      "metadata": {
        "id": "N9ZDr89GfZNH"
      }
    },
    {
      "cell_type": "code",
      "metadata": {
        "id": "XaBk-Gmdq6Cs",
        "colab": {
          "base_uri": "https://localhost:8080/"
        },
        "outputId": "db144c5c-62f1-4c92-d945-90c0cece0598"
      },
      "source": [
        "diabetes_prediction_data['Insulin_new_2'][diabetes_prediction_data['Insulin_new'].isnull()]=diabetes_prediction_data['Insulin_new'].median()\n",
        "round(diabetes_prediction_data['Insulin_new_2'].describe())"
      ],
      "execution_count": null,
      "outputs": [
        {
          "output_type": "stream",
          "name": "stderr",
          "text": [
            "<ipython-input-43-813af4e11236>:1: SettingWithCopyWarning: \n",
            "A value is trying to be set on a copy of a slice from a DataFrame\n",
            "\n",
            "See the caveats in the documentation: https://pandas.pydata.org/pandas-docs/stable/user_guide/indexing.html#returning-a-view-versus-a-copy\n",
            "  diabetes_prediction_data['Insulin_new_2'][diabetes_prediction_data['Insulin_new'].isnull()]=diabetes_prediction_data['Insulin_new'].median()\n"
          ]
        },
        {
          "output_type": "execute_result",
          "data": {
            "text/plain": [
              "count    768.0\n",
              "mean     141.0\n",
              "std       86.0\n",
              "min       14.0\n",
              "25%      122.0\n",
              "50%      125.0\n",
              "75%      127.0\n",
              "max      846.0\n",
              "Name: Insulin_new_2, dtype: float64"
            ]
          },
          "metadata": {},
          "execution_count": 43
        }
      ]
    },
    {
      "cell_type": "markdown",
      "source": [
        "#EXPLORING VARIBALES AGAIN WHERE MISSING VALUES WERE IMPUTED"
      ],
      "metadata": {
        "id": "y6kW-fvrrqkK"
      }
    },
    {
      "cell_type": "markdown",
      "source": [
        "##GLUCOSE_NEW_2:"
      ],
      "metadata": {
        "id": "UKmAl9Kr80Ww"
      }
    },
    {
      "cell_type": "code",
      "source": [
        "plt.boxplot(diabetes_prediction_data[\"Glucose_new_2\"])"
      ],
      "metadata": {
        "id": "7WjWtlozrpQ2"
      },
      "execution_count": null,
      "outputs": []
    },
    {
      "cell_type": "code",
      "source": [
        "plt.hist(diabetes_prediction_data[\"Glucose_new_2\"])"
      ],
      "metadata": {
        "id": "oeMvaYJ0giiZ"
      },
      "execution_count": null,
      "outputs": []
    },
    {
      "cell_type": "markdown",
      "source": [
        "##BLOODPRESSURE_NEW_2:\n"
      ],
      "metadata": {
        "id": "CJ3W-eQq94Ys"
      }
    },
    {
      "cell_type": "markdown",
      "source": [
        "###EXPLORING"
      ],
      "metadata": {
        "id": "MVpkGQkT881g"
      }
    },
    {
      "cell_type": "code",
      "source": [
        "plt.boxplot(diabetes_prediction_data[\"BloodPressure_new_2\"])"
      ],
      "metadata": {
        "id": "bhJEqUa4sX0w",
        "colab": {
          "base_uri": "https://localhost:8080/",
          "height": 569
        },
        "outputId": "0b24fcf6-0c73-48d1-c4c7-098082e86588"
      },
      "execution_count": null,
      "outputs": [
        {
          "output_type": "execute_result",
          "data": {
            "text/plain": [
              "{'whiskers': [<matplotlib.lines.Line2D at 0x7fcef54e7040>,\n",
              "  <matplotlib.lines.Line2D at 0x7fcef54e72e0>],\n",
              " 'caps': [<matplotlib.lines.Line2D at 0x7fcef54e7580>,\n",
              "  <matplotlib.lines.Line2D at 0x7fcef54e7820>],\n",
              " 'boxes': [<matplotlib.lines.Line2D at 0x7fcef54d9d60>],\n",
              " 'medians': [<matplotlib.lines.Line2D at 0x7fcef54e7ac0>],\n",
              " 'fliers': [<matplotlib.lines.Line2D at 0x7fcef54e7d60>],\n",
              " 'means': []}"
            ]
          },
          "metadata": {},
          "execution_count": 44
        },
        {
          "output_type": "display_data",
          "data": {
            "text/plain": [
              "<Figure size 640x480 with 1 Axes>"
            ],
            "image/png": "[encoded data removed]"
          },
          "metadata": {}
        }
      ]
    },
    {
      "cell_type": "code",
      "source": [
        "round(diabetes_prediction_data['BloodPressure_new_2'].describe())"
      ],
      "metadata": {
        "id": "j2M2MOjO2QrZ",
        "colab": {
          "base_uri": "https://localhost:8080/"
        },
        "outputId": "8f5711ab-934b-4f86-9bb0-7fe734e7e886"
      },
      "execution_count": null,
      "outputs": [
        {
          "output_type": "execute_result",
          "data": {
            "text/plain": [
              "count    768.0\n",
              "mean      72.0\n",
              "std       12.0\n",
              "min       24.0\n",
              "25%       64.0\n",
              "50%       72.0\n",
              "75%       80.0\n",
              "max      122.0\n",
              "Name: BloodPressure_new_2, dtype: float64"
            ]
          },
          "metadata": {},
          "execution_count": 118
        }
      ]
    },
    {
      "cell_type": "code",
      "source": [
        "plt.hist(diabetes_prediction_data[\"BloodPressure_new_2\"])"
      ],
      "metadata": {
        "id": "-H4xeFHYUjLE",
        "colab": {
          "base_uri": "https://localhost:8080/"
        },
        "outputId": "c6da0ee4-ea8d-4c50-f9b6-5e5a4ec57786"
      },
      "execution_count": null,
      "outputs": [
        {
          "output_type": "execute_result",
          "data": {
            "text/plain": [
              "(array([  3.,   2.,  35., 118., 261., 214., 105.,  18.,  10.,   2.]),\n",
              " array([ 24. ,  33.8,  43.6,  53.4,  63.2,  73. ,  82.8,  92.6, 102.4,\n",
              "        112.2, 122. ]),\n",
              " <BarContainer object of 10 artists>)"
            ]
          },
          "metadata": {},
          "execution_count": 119
        },
        {
          "output_type": "display_data",
          "data": {
            "text/plain": [
              "<Figure size 640x480 with 1 Axes>"
            ],
            "image/png": "[encoded data removed]"
          },
          "metadata": {}
        }
      ]
    },
    {
      "cell_type": "code",
      "source": [
        "bp_new_2_percentiles=diabetes_prediction_data['BloodPressure_new_2'].quantile([0.01,0.02,0.03,.04,0.05,0.1,0.985,0.998,0.999,1])\n",
        "round(bp_new_2_percentiles,2)"
      ],
      "metadata": {
        "id": "vzANX5LIUZnW",
        "colab": {
          "base_uri": "https://localhost:8080/"
        },
        "outputId": "435fb8cb-2fda-4f83-a22a-077b674555d5"
      },
      "execution_count": null,
      "outputs": [
        {
          "output_type": "execute_result",
          "data": {
            "text/plain": [
              "0.010     44.00\n",
              "0.020     48.68\n",
              "0.030     50.00\n",
              "0.040     52.00\n",
              "0.050     52.00\n",
              "0.100     58.00\n",
              "0.985    102.99\n",
              "0.998    111.86\n",
              "0.999    115.86\n",
              "1.000    122.00\n",
              "Name: BloodPressure_new_2, dtype: float64"
            ]
          },
          "metadata": {},
          "execution_count": 52
        }
      ]
    },
    {
      "cell_type": "markdown",
      "source": [
        "###MIN AND MAX VALUES OF DIASTOLIC DATA IS WRONG. NORMAL RANGE 60-90.\n",
        "BELOW 40 AND ABOVE 120 -MEDICAL EMERGENCY.\n",
        "REPLACE VLAUES LESS AND 40 AND MORE THAN 120 WITH MEDIAN.\n",
        "ON EXPLORING BP FURTHER, **1.01%** OF DATA HAS FALSE HIGH AND FLASE LOW VALUES. REPLACING FLASE HIGH/LOW VALUES WITH MEDIAN.\n"
      ],
      "metadata": {
        "id": "MIaiqlmo2Whm"
      }
    },
    {
      "cell_type": "markdown",
      "source": [
        "STEP 1 : STORE VALUE OF MEDIAN IN A VARIBALE"
      ],
      "metadata": {
        "id": "GC3e6kcDh7GR"
      }
    },
    {
      "cell_type": "code",
      "source": [
        "median_bp=diabetes_prediction_data['BloodPressure_new_2'].median()\n",
        "median_bp"
      ],
      "metadata": {
        "colab": {
          "base_uri": "https://localhost:8080/"
        },
        "id": "f8dz_-bS4WpO",
        "outputId": "a32333a7-6b73-4b91-c5a2-3568bf7b11de"
      },
      "execution_count": null,
      "outputs": [
        {
          "output_type": "execute_result",
          "data": {
            "text/plain": [
              "72.0"
            ]
          },
          "metadata": {},
          "execution_count": 57
        }
      ]
    },
    {
      "cell_type": "markdown",
      "source": [
        "STEP 2 : BOOLEAN VECTOR VARIBALE FOR CONDITION GREATER THAN AND LESS THAN\n"
      ],
      "metadata": {
        "id": "smiUzg2liDz9"
      }
    },
    {
      "cell_type": "code",
      "source": [
        "bp_temp_bool_vect_1=diabetes_prediction_data['BloodPressure_new_2']<40\n",
        "bp_temp_bool_vect_2=diabetes_prediction_data['BloodPressure_new_2']>120\n"
      ],
      "metadata": {
        "id": "Zwp6FcWp6VBk"
      },
      "execution_count": null,
      "outputs": []
    },
    {
      "cell_type": "markdown",
      "source": [
        "STEP 3 : DUPLICATE COLUMN, REPLACE WITH MEDIAN USUING BOOLEAN CONDITION ONE (LESS THAN 40)\n",
        "\n"
      ],
      "metadata": {
        "id": "0ZDawBM3iRIC"
      }
    },
    {
      "cell_type": "code",
      "source": [
        "diabetes_prediction_data['BloodPressure_new_3A']=diabetes_prediction_data['BloodPressure_new_2']\n",
        "diabetes_prediction_data['BloodPressure_new_3A'][bp_temp_bool_vect_1]=median_bp"
      ],
      "metadata": {
        "id": "6Yyhld9n6aHg",
        "colab": {
          "base_uri": "https://localhost:8080/"
        },
        "outputId": "220c6307-6158-42e9-ab7c-63420f4c3ed6"
      },
      "execution_count": null,
      "outputs": [
        {
          "output_type": "stream",
          "name": "stderr",
          "text": [
            "<ipython-input-58-9ace7c6d13af>:2: SettingWithCopyWarning: \n",
            "A value is trying to be set on a copy of a slice from a DataFrame\n",
            "\n",
            "See the caveats in the documentation: https://pandas.pydata.org/pandas-docs/stable/user_guide/indexing.html#returning-a-view-versus-a-copy\n",
            "  diabetes_prediction_data['BloodPressure_new_3A'][bp_temp_bool_vect_1]=median_bp\n"
          ]
        }
      ]
    },
    {
      "cell_type": "markdown",
      "source": [
        "STEP 4 : CREATE DUPLICATE OF COLUMN ABOVE, REPLACE WITH SECOND BOOLEAN CONDITION OF GREATER THAN.\n"
      ],
      "metadata": {
        "id": "CYQJysAlipPv"
      }
    },
    {
      "cell_type": "code",
      "source": [
        "diabetes_prediction_data['BloodPressure_new_3']=diabetes_prediction_data['BloodPressure_new_3A']\n",
        "diabetes_prediction_data['BloodPressure_new_3'][bp_temp_bool_vect_2]=median_bp"
      ],
      "metadata": {
        "id": "9tMIS1BY3ktn",
        "colab": {
          "base_uri": "https://localhost:8080/"
        },
        "outputId": "df1c854b-95c4-4654-dee6-e83541304d0d"
      },
      "execution_count": null,
      "outputs": [
        {
          "output_type": "stream",
          "name": "stderr",
          "text": [
            "<ipython-input-59-c34f6ea7df9a>:2: SettingWithCopyWarning: \n",
            "A value is trying to be set on a copy of a slice from a DataFrame\n",
            "\n",
            "See the caveats in the documentation: https://pandas.pydata.org/pandas-docs/stable/user_guide/indexing.html#returning-a-view-versus-a-copy\n",
            "  diabetes_prediction_data['BloodPressure_new_3'][bp_temp_bool_vect_2]=median_bp\n"
          ]
        }
      ]
    },
    {
      "cell_type": "markdown",
      "source": [
        "###CHECK CLEANED VAIRBALE : DESCRIBE - CHECK FOR NEW MIN/MAX, BOX PLOT, HISTOGRAM , PERCENTILE"
      ],
      "metadata": {
        "id": "nactFwSOi7HF"
      }
    },
    {
      "cell_type": "code",
      "source": [
        "round(diabetes_prediction_data['BloodPressure_new_3'].describe())"
      ],
      "metadata": {
        "id": "e_mO5h0D1nqq",
        "colab": {
          "base_uri": "https://localhost:8080/"
        },
        "outputId": "13ee55df-e358-4282-c298-c9200cd0a679"
      },
      "execution_count": null,
      "outputs": [
        {
          "output_type": "execute_result",
          "data": {
            "text/plain": [
              "count    768.0\n",
              "mean      73.0\n",
              "std       12.0\n",
              "min       40.0\n",
              "25%       64.0\n",
              "50%       72.0\n",
              "75%       80.0\n",
              "max      114.0\n",
              "Name: BloodPressure_new_3, dtype: float64"
            ]
          },
          "metadata": {},
          "execution_count": 60
        }
      ]
    },
    {
      "cell_type": "code",
      "source": [
        "bp_new_3_percentiles=diabetes_prediction_data['BloodPressure_new_3'].quantile([0.05, 0.1, 0.25, 0.5, 0.75, 0.80, 0.9,0.91,0.95,0.96,0.97,0.975,0.98,0.99,1])\n",
        "round(bp_new_3_percentiles,2)"
      ],
      "metadata": {
        "id": "q68yo2kB01Er"
      },
      "execution_count": null,
      "outputs": []
    },
    {
      "cell_type": "code",
      "source": [
        "plt.boxplot(diabetes_prediction_data[\"BloodPressure_new_3\"])"
      ],
      "metadata": {
        "id": "apWbe4n5zkfA",
        "colab": {
          "base_uri": "https://localhost:8080/",
          "height": 569
        },
        "outputId": "ef94bfe5-d047-4f6b-a1e0-0dffb20fa713"
      },
      "execution_count": null,
      "outputs": [
        {
          "output_type": "execute_result",
          "data": {
            "text/plain": [
              "{'whiskers': [<matplotlib.lines.Line2D at 0x7fcef474cac0>,\n",
              "  <matplotlib.lines.Line2D at 0x7fcef474cd60>],\n",
              " 'caps': [<matplotlib.lines.Line2D at 0x7fcef475c040>,\n",
              "  <matplotlib.lines.Line2D at 0x7fcef475c2e0>],\n",
              " 'boxes': [<matplotlib.lines.Line2D at 0x7fcef474c820>],\n",
              " 'medians': [<matplotlib.lines.Line2D at 0x7fcef475c580>],\n",
              " 'fliers': [<matplotlib.lines.Line2D at 0x7fcef475c820>],\n",
              " 'means': []}"
            ]
          },
          "metadata": {},
          "execution_count": 62
        },
        {
          "output_type": "display_data",
          "data": {
            "text/plain": [
              "<Figure size 640x480 with 1 Axes>"
            ],
            "image/png": "[encoded data removed]"
          },
          "metadata": {}
        }
      ]
    },
    {
      "cell_type": "markdown",
      "source": [
        "##BMI_NEW_2:\n"
      ],
      "metadata": {
        "id": "zMasJ-1f-HI-"
      }
    },
    {
      "cell_type": "code",
      "source": [
        "plt.boxplot(diabetes_prediction_data[\"BMI_new_2\"])"
      ],
      "metadata": {
        "id": "VYRV49cdsYIh",
        "colab": {
          "base_uri": "https://localhost:8080/"
        },
        "outputId": "9b5d738b-3af4-4be0-b080-7d9d3c7f668d"
      },
      "execution_count": null,
      "outputs": [
        {
          "output_type": "execute_result",
          "data": {
            "text/plain": [
              "{'whiskers': [<matplotlib.lines.Line2D at 0x7ff9b8539850>,\n",
              "  <matplotlib.lines.Line2D at 0x7ff9b8539af0>],\n",
              " 'caps': [<matplotlib.lines.Line2D at 0x7ff9b8539d90>,\n",
              "  <matplotlib.lines.Line2D at 0x7ff9b84c8070>],\n",
              " 'boxes': [<matplotlib.lines.Line2D at 0x7ff9b85395b0>],\n",
              " 'medians': [<matplotlib.lines.Line2D at 0x7ff9b84c8310>],\n",
              " 'fliers': [<matplotlib.lines.Line2D at 0x7ff9b84c85b0>],\n",
              " 'means': []}"
            ]
          },
          "metadata": {},
          "execution_count": 128
        },
        {
          "output_type": "display_data",
          "data": {
            "text/plain": [
              "<Figure size 640x480 with 1 Axes>"
            ],
            "image/png": "[encoded data removed]"
          },
          "metadata": {}
        }
      ]
    },
    {
      "cell_type": "code",
      "source": [
        "round(diabetes_prediction_data['BMI_new_2'].describe())"
      ],
      "metadata": {
        "id": "L22tRsF6Ry2n",
        "colab": {
          "base_uri": "https://localhost:8080/"
        },
        "outputId": "1059459a-57fa-4854-a0e8-4f3de3bcf5ce"
      },
      "execution_count": null,
      "outputs": [
        {
          "output_type": "execute_result",
          "data": {
            "text/plain": [
              "count    768.0\n",
              "mean      32.0\n",
              "std        7.0\n",
              "min       18.0\n",
              "25%       28.0\n",
              "50%       32.0\n",
              "75%       37.0\n",
              "max       67.0\n",
              "Name: BMI_new_2, dtype: float64"
            ]
          },
          "metadata": {},
          "execution_count": 129
        }
      ]
    },
    {
      "cell_type": "code",
      "source": [
        "bmi_new_2_percentiles=diabetes_prediction_data['BMI_new_2'].quantile([0.05, 0.1, 0.25, 0.5, 0.75, 0.80, 0.9,0.91,0.95,0.96,0.97,0.975,0.98,0.99,1])\n",
        "round(bmi_new_2_percentiles,2)"
      ],
      "metadata": {
        "id": "hz_gjQZsRRXw",
        "colab": {
          "base_uri": "https://localhost:8080/"
        },
        "outputId": "e4b353f6-635b-4390-908e-d1315494c333"
      },
      "execution_count": null,
      "outputs": [
        {
          "output_type": "execute_result",
          "data": {
            "text/plain": [
              "0.050    22.24\n",
              "0.100    24.00\n",
              "0.250    27.50\n",
              "0.500    32.30\n",
              "0.750    36.60\n",
              "0.800    37.80\n",
              "0.900    41.50\n",
              "0.910    42.30\n",
              "0.950    44.40\n",
              "0.960    45.33\n",
              "0.970    46.10\n",
              "0.975    46.46\n",
              "0.980    47.53\n",
              "0.990    50.76\n",
              "1.000    67.10\n",
              "Name: BMI_new_2, dtype: float64"
            ]
          },
          "metadata": {},
          "execution_count": 130
        }
      ]
    },
    {
      "cell_type": "code",
      "source": [
        "plt.hist(diabetes_prediction_data[\"BMI_new_2\"])"
      ],
      "metadata": {
        "id": "69PKD0GzRRJF",
        "colab": {
          "base_uri": "https://localhost:8080/"
        },
        "outputId": "f89c121f-8f46-458c-fada-de6713d3dca3"
      },
      "execution_count": null,
      "outputs": [
        {
          "output_type": "execute_result",
          "data": {
            "text/plain": [
              "(array([ 52., 161., 207., 193.,  91.,  48.,  10.,   4.,   1.,   1.]),\n",
              " array([18.2 , 23.09, 27.98, 32.87, 37.76, 42.65, 47.54, 52.43, 57.32,\n",
              "        62.21, 67.1 ]),\n",
              " <BarContainer object of 10 artists>)"
            ]
          },
          "metadata": {},
          "execution_count": 131
        },
        {
          "output_type": "display_data",
          "data": {
            "text/plain": [
              "<Figure size 640x480 with 1 Axes>"
            ],
            "image/png": "[encoded data removed]"
          },
          "metadata": {}
        }
      ]
    },
    {
      "cell_type": "markdown",
      "source": [
        "##SKIN_THICKNESS_NEW_2 : TRICEPS SKIN FOLD\n"
      ],
      "metadata": {
        "id": "yzCYZkEfWqE7"
      }
    },
    {
      "cell_type": "markdown",
      "source": [
        "###EXPLORING"
      ],
      "metadata": {
        "id": "f4k1lhYP9Fxb"
      }
    },
    {
      "cell_type": "code",
      "source": [
        "plt.boxplot(diabetes_prediction_data[\"SkinThickness_new_2\"])"
      ],
      "metadata": {
        "id": "0ovfhFNStAPu",
        "colab": {
          "base_uri": "https://localhost:8080/",
          "height": 569
        },
        "outputId": "d59a3f73-c9a5-4b93-94c0-96265687d060"
      },
      "execution_count": null,
      "outputs": [
        {
          "output_type": "execute_result",
          "data": {
            "text/plain": [
              "{'whiskers': [<matplotlib.lines.Line2D at 0x7fcef4912df0>,\n",
              "  <matplotlib.lines.Line2D at 0x7fcef49050d0>],\n",
              " 'caps': [<matplotlib.lines.Line2D at 0x7fcef4905370>,\n",
              "  <matplotlib.lines.Line2D at 0x7fcef4905610>],\n",
              " 'boxes': [<matplotlib.lines.Line2D at 0x7fcef4912b50>],\n",
              " 'medians': [<matplotlib.lines.Line2D at 0x7fcef49058b0>],\n",
              " 'fliers': [<matplotlib.lines.Line2D at 0x7fcef4905b50>],\n",
              " 'means': []}"
            ]
          },
          "metadata": {},
          "execution_count": 63
        },
        {
          "output_type": "display_data",
          "data": {
            "text/plain": [
              "<Figure size 640x480 with 1 Axes>"
            ],
            "image/png": "[encoded data removed]"
          },
          "metadata": {}
        }
      ]
    },
    {
      "cell_type": "code",
      "source": [
        "round(diabetes_prediction_data['SkinThickness_new_2'].describe())"
      ],
      "metadata": {
        "id": "z8xAyAhtXGAZ",
        "colab": {
          "base_uri": "https://localhost:8080/"
        },
        "outputId": "b51c7e75-d523-42c2-fb50-6aed4bbf519b"
      },
      "execution_count": null,
      "outputs": [
        {
          "output_type": "execute_result",
          "data": {
            "text/plain": [
              "count    768.0\n",
              "mean      29.0\n",
              "std        9.0\n",
              "min        7.0\n",
              "25%       25.0\n",
              "50%       29.0\n",
              "75%       32.0\n",
              "max       99.0\n",
              "Name: SkinThickness_new_2, dtype: float64"
            ]
          },
          "metadata": {},
          "execution_count": 64
        }
      ]
    },
    {
      "cell_type": "code",
      "source": [
        "SkinThickness_new_2_percentiles=diabetes_prediction_data['SkinThickness_new_2'].quantile([0.05, 0.1, 0.25, 0.5, 0.75, 0.80, 0.9,0.91,0.95,0.96,0.97,0.975,0.98,0.99,1])\n",
        "round(SkinThickness_new_2_percentiles,2)"
      ],
      "metadata": {
        "id": "WHTreK5mXGAa",
        "colab": {
          "base_uri": "https://localhost:8080/"
        },
        "outputId": "9edd1ee8-5d50-4d08-c466-4d4acbcfe3f9"
      },
      "execution_count": null,
      "outputs": [
        {
          "output_type": "execute_result",
          "data": {
            "text/plain": [
              "0.050    14.35\n",
              "0.100    18.00\n",
              "0.250    25.00\n",
              "0.500    29.00\n",
              "0.750    32.00\n",
              "0.800    35.00\n",
              "0.900    40.00\n",
              "0.910    41.00\n",
              "0.950    44.00\n",
              "0.960    45.32\n",
              "0.970    46.00\n",
              "0.975    47.00\n",
              "0.980    48.00\n",
              "0.990    51.33\n",
              "1.000    99.00\n",
              "Name: SkinThickness_new_2, dtype: float64"
            ]
          },
          "metadata": {},
          "execution_count": 65
        }
      ]
    },
    {
      "cell_type": "code",
      "source": [
        "plt.hist(diabetes_prediction_data[\"SkinThickness_new_2\"])"
      ],
      "metadata": {
        "id": "GYzFh8URXGAb"
      },
      "execution_count": null,
      "outputs": []
    },
    {
      "cell_type": "markdown",
      "source": [
        "There are different types of calipers. The common ones are Holtain, Harpenden, Lange, and McGraw. Holtain skinfold caliper has an accurate measurement up to a maximum of 45.0 mm. some others have accureacy of 50mm generally used for abdominal fat.\n",
        "**Since we are measuring triceps fold, we values above 45 seems false high**\n"
      ],
      "metadata": {
        "id": "RFCv6T_0ZZNp"
      }
    },
    {
      "cell_type": "markdown",
      "source": [
        "### 5% OF DATA HAS FALSE HIGH VALUES. REPLACING FALSE HIGH WITH MEDIAN."
      ],
      "metadata": {
        "id": "Yu9F7ncCmGZh"
      }
    },
    {
      "cell_type": "markdown",
      "source": [
        "STEP 1 : STORE VALUE OF MEDIAN IN A VARIBALE"
      ],
      "metadata": {
        "id": "jzCxzw0tmRbk"
      }
    },
    {
      "cell_type": "code",
      "source": [
        "median_skin=diabetes_prediction_data['SkinThickness_new_2'].median()\n",
        "median_skin"
      ],
      "metadata": {
        "colab": {
          "base_uri": "https://localhost:8080/"
        },
        "outputId": "8a00f73f-89ee-4443-880d-606da2168d46",
        "id": "S2MS-_Vcaf1D"
      },
      "execution_count": null,
      "outputs": [
        {
          "output_type": "execute_result",
          "data": {
            "text/plain": [
              "29.0"
            ]
          },
          "metadata": {},
          "execution_count": 69
        }
      ]
    },
    {
      "cell_type": "markdown",
      "source": [
        "STEP 2 : CREATE BOOLEAN VECTOR FOR CONDTION.\n"
      ],
      "metadata": {
        "id": "si3M90Qrmb9T"
      }
    },
    {
      "cell_type": "code",
      "source": [
        "skin_temp_bool_vect=diabetes_prediction_data['SkinThickness_new_2']>45\n",
        "\n"
      ],
      "metadata": {
        "id": "2m5JNrfJaf1V"
      },
      "execution_count": null,
      "outputs": []
    },
    {
      "cell_type": "markdown",
      "source": [
        "STEP 3 : CREATE DUPLICATE COLUMN AND REPLACE FLASE HIGH USUING BOOLEAN CONDITION WITH MEDIAN."
      ],
      "metadata": {
        "id": "C550l8rJm2RQ"
      }
    },
    {
      "cell_type": "code",
      "source": [
        "diabetes_prediction_data['SkinThickness_new_3']=diabetes_prediction_data['SkinThickness_new_2']\n",
        "diabetes_prediction_data['SkinThickness_new_3'][skin_temp_bool_vect]=median_skin"
      ],
      "metadata": {
        "id": "b6CBvY5Oaf1W",
        "colab": {
          "base_uri": "https://localhost:8080/"
        },
        "outputId": "75cc9953-e7b1-4cd4-fad7-546c3fb3e08a"
      },
      "execution_count": null,
      "outputs": [
        {
          "output_type": "stream",
          "name": "stderr",
          "text": [
            "<ipython-input-71-7503946b87b3>:2: SettingWithCopyWarning: \n",
            "A value is trying to be set on a copy of a slice from a DataFrame\n",
            "\n",
            "See the caveats in the documentation: https://pandas.pydata.org/pandas-docs/stable/user_guide/indexing.html#returning-a-view-versus-a-copy\n",
            "  diabetes_prediction_data['SkinThickness_new_3'][skin_temp_bool_vect]=median_skin\n"
          ]
        }
      ]
    },
    {
      "cell_type": "markdown",
      "source": [
        "###CHECK CLEANED VAIRBALE : DESCRIBE - CHECK FOR NEW MIN/MAX, BOX PLOT, HISTOGRAM , PERCENTILE\n",
        "\n"
      ],
      "metadata": {
        "id": "xKCiStHCa_fL"
      }
    },
    {
      "cell_type": "code",
      "source": [
        "round(diabetes_prediction_data['SkinThickness_new_3'].describe())"
      ],
      "metadata": {
        "colab": {
          "base_uri": "https://localhost:8080/"
        },
        "id": "i8oW5JUbnPae",
        "outputId": "6b4a894c-f2cb-41b8-a8b0-84ac59883fa6"
      },
      "execution_count": null,
      "outputs": [
        {
          "output_type": "execute_result",
          "data": {
            "text/plain": [
              "count    768.0\n",
              "mean      28.0\n",
              "std        7.0\n",
              "min        7.0\n",
              "25%       25.0\n",
              "50%       29.0\n",
              "75%       31.0\n",
              "max       45.0\n",
              "Name: SkinThickness_new_3, dtype: float64"
            ]
          },
          "metadata": {},
          "execution_count": 72
        }
      ]
    },
    {
      "cell_type": "code",
      "source": [
        "plt.boxplot(diabetes_prediction_data[\"SkinThickness_new_3\"])"
      ],
      "metadata": {
        "id": "sy187claa_fN",
        "colab": {
          "base_uri": "https://localhost:8080/",
          "height": 569
        },
        "outputId": "62e0dc93-f7f7-4da9-8474-854c34d81509"
      },
      "execution_count": null,
      "outputs": [
        {
          "output_type": "execute_result",
          "data": {
            "text/plain": [
              "{'whiskers': [<matplotlib.lines.Line2D at 0x7fcef46ca9a0>,\n",
              "  <matplotlib.lines.Line2D at 0x7fcef46cab20>],\n",
              " 'caps': [<matplotlib.lines.Line2D at 0x7fcef46cadc0>,\n",
              "  <matplotlib.lines.Line2D at 0x7fcef46d90a0>],\n",
              " 'boxes': [<matplotlib.lines.Line2D at 0x7fcef46ca700>],\n",
              " 'medians': [<matplotlib.lines.Line2D at 0x7fcef46d9340>],\n",
              " 'fliers': [<matplotlib.lines.Line2D at 0x7fcef46d95e0>],\n",
              " 'means': []}"
            ]
          },
          "metadata": {},
          "execution_count": 73
        },
        {
          "output_type": "display_data",
          "data": {
            "text/plain": [
              "<Figure size 640x480 with 1 Axes>"
            ],
            "image/png": "[encoded data removed]"
          },
          "metadata": {}
        }
      ]
    },
    {
      "cell_type": "markdown",
      "source": [
        "##INSULIN_NEW_2:\n",
        "\n"
      ],
      "metadata": {
        "id": "lcm_FoF-b6rG"
      }
    },
    {
      "cell_type": "markdown",
      "source": [
        "###EXPLORING"
      ],
      "metadata": {
        "id": "XqbuX-Dg9SG8"
      }
    },
    {
      "cell_type": "code",
      "source": [
        "plt.boxplot(diabetes_prediction_data[\"Insulin_new_2\"])"
      ],
      "metadata": {
        "id": "xdxTuJ92b6rI",
        "colab": {
          "base_uri": "https://localhost:8080/",
          "height": 569
        },
        "outputId": "166e0afe-0b9b-4a0d-9123-3df0934fb072"
      },
      "execution_count": null,
      "outputs": [
        {
          "output_type": "execute_result",
          "data": {
            "text/plain": [
              "{'whiskers': [<matplotlib.lines.Line2D at 0x7fcef57ab670>,\n",
              "  <matplotlib.lines.Line2D at 0x7fcef57abaf0>],\n",
              " 'caps': [<matplotlib.lines.Line2D at 0x7fcef55f97f0>,\n",
              "  <matplotlib.lines.Line2D at 0x7fcef5624790>],\n",
              " 'boxes': [<matplotlib.lines.Line2D at 0x7fcef5795700>],\n",
              " 'medians': [<matplotlib.lines.Line2D at 0x7fcef561f1f0>],\n",
              " 'fliers': [<matplotlib.lines.Line2D at 0x7fcef561f2b0>],\n",
              " 'means': []}"
            ]
          },
          "metadata": {},
          "execution_count": 84
        },
        {
          "output_type": "display_data",
          "data": {
            "text/plain": [
              "<Figure size 640x480 with 1 Axes>"
            ],
            "image/png": "[encoded data removed]"
          },
          "metadata": {}
        }
      ]
    },
    {
      "cell_type": "code",
      "source": [
        "round(diabetes_prediction_data['Insulin_new_2'].describe())"
      ],
      "metadata": {
        "id": "rSPFUsErb6rJ",
        "colab": {
          "base_uri": "https://localhost:8080/"
        },
        "outputId": "d79192eb-348f-4746-dc34-4261a97ce80e"
      },
      "execution_count": null,
      "outputs": [
        {
          "output_type": "execute_result",
          "data": {
            "text/plain": [
              "count    768.0\n",
              "mean     141.0\n",
              "std       86.0\n",
              "min       14.0\n",
              "25%      122.0\n",
              "50%      125.0\n",
              "75%      127.0\n",
              "max      846.0\n",
              "Name: Insulin_new_2, dtype: float64"
            ]
          },
          "metadata": {},
          "execution_count": 75
        }
      ]
    },
    {
      "cell_type": "code",
      "source": [
        "Insulin_new_2_percentiles=diabetes_prediction_data['Insulin_new_2'].quantile([0.98,0.985,0.986,0.987,0.988,0.99,1])\n",
        "round(Insulin_new_2_percentiles,2)"
      ],
      "metadata": {
        "id": "xjFzHPlsb6rK",
        "colab": {
          "base_uri": "https://localhost:8080/"
        },
        "outputId": "ea5eeb2a-e0f5-4d78-e375-c97afb3d52e4"
      },
      "execution_count": null,
      "outputs": [
        {
          "output_type": "execute_result",
          "data": {
            "text/plain": [
              "0.980    470.94\n",
              "0.985    482.48\n",
              "0.986    487.62\n",
              "0.987    495.00\n",
              "0.988    495.00\n",
              "0.990    519.90\n",
              "1.000    846.00\n",
              "Name: Insulin_new_2, dtype: float64"
            ]
          },
          "metadata": {},
          "execution_count": 89
        }
      ]
    },
    {
      "cell_type": "code",
      "source": [
        "plt.hist(diabetes_prediction_data[\"Insulin_new_2\"])"
      ],
      "metadata": {
        "id": "IGGhDDqab6rL",
        "colab": {
          "base_uri": "https://localhost:8080/",
          "height": 499
        },
        "outputId": "a1979517-2ad3-4813-84fc-bff9a9cd6c31"
      },
      "execution_count": null,
      "outputs": [
        {
          "output_type": "execute_result",
          "data": {
            "text/plain": [
              "(array([142., 517.,  55.,  29.,   7.,  10.,   4.,   1.,   2.,   1.]),\n",
              " array([ 14. ,  97.2, 180.4, 263.6, 346.8, 430. , 513.2, 596.4, 679.6,\n",
              "        762.8, 846. ]),\n",
              " <BarContainer object of 10 artists>)"
            ]
          },
          "metadata": {},
          "execution_count": 77
        },
        {
          "output_type": "display_data",
          "data": {
            "text/plain": [
              "<Figure size 640x480 with 1 Axes>"
            ],
            "image/png": "[encoded data removed]"
          },
          "metadata": {}
        }
      ]
    },
    {
      "cell_type": "markdown",
      "source": [
        "Fasting Insul in uIU/ml IS 2-30. IN NON OBESE AND 7-74 IN OBESE. NORMAL IS CONSIDERED AT 5-15 uIU/ml. \n",
        "MEASURED ARRAY RANGE IS FROM 1.2 - 400\n"
      ],
      "metadata": {
        "id": "p1azJSoyb6rL"
      }
    },
    {
      "cell_type": "markdown",
      "source": [
        "###ON EXPLORING INSULIN FURTHER, 1.021 OF DATA HAS FALSE HIGH VALUES. REPLACING FALSE HIGH VALUES WITH MEDIAN."
      ],
      "metadata": {
        "id": "LYDDEbLMpHJh"
      }
    },
    {
      "cell_type": "markdown",
      "source": [
        "STEP 1 : STORE VALUE OF MEDIAN IN NEW VARIABLE."
      ],
      "metadata": {
        "id": "zFzK1DsNpOfI"
      }
    },
    {
      "cell_type": "code",
      "source": [
        "median_insulin=diabetes_prediction_data['Insulin_new_2'].median()\n",
        "median_insulin"
      ],
      "metadata": {
        "colab": {
          "base_uri": "https://localhost:8080/"
        },
        "outputId": "65168f0a-4e77-47ef-eb57-1a35c2f36699",
        "id": "_prheVUcb6rM"
      },
      "execution_count": null,
      "outputs": [
        {
          "output_type": "execute_result",
          "data": {
            "text/plain": [
              "125.0"
            ]
          },
          "metadata": {},
          "execution_count": 90
        }
      ]
    },
    {
      "cell_type": "markdown",
      "source": [
        "STEP 2 : CREATE TEMP BOOLEAN VECTOR FOR CONDITION"
      ],
      "metadata": {
        "id": "SJDBhmWlpYfp"
      }
    },
    {
      "cell_type": "code",
      "source": [
        "insulin_temp_bool_vect=diabetes_prediction_data['Insulin_new_2']>500\n",
        "\n"
      ],
      "metadata": {
        "id": "4FYtTEMShJg6"
      },
      "execution_count": null,
      "outputs": []
    },
    {
      "cell_type": "markdown",
      "source": [
        "STEP 3 : DUPLICATE COLUMN AND REPLACE FLASE HIGH VALUES IN DUPLICATED COLUMN\n"
      ],
      "metadata": {
        "id": "Qh55Y-i7pft5"
      }
    },
    {
      "cell_type": "code",
      "source": [
        "diabetes_prediction_data['Insulin_new_3']=diabetes_prediction_data['Insulin_new_2']\n",
        "diabetes_prediction_data['Insulin_new_3'][insulin_temp_bool_vect]=median_insulin"
      ],
      "metadata": {
        "id": "3icR1TeAhJg8",
        "colab": {
          "base_uri": "https://localhost:8080/"
        },
        "outputId": "cfb9d1cc-78a8-4034-9666-d2037f5123c4"
      },
      "execution_count": null,
      "outputs": [
        {
          "output_type": "stream",
          "name": "stderr",
          "text": [
            "<ipython-input-92-509624be5a80>:2: SettingWithCopyWarning: \n",
            "A value is trying to be set on a copy of a slice from a DataFrame\n",
            "\n",
            "See the caveats in the documentation: https://pandas.pydata.org/pandas-docs/stable/user_guide/indexing.html#returning-a-view-versus-a-copy\n",
            "  diabetes_prediction_data['Insulin_new_3'][insulin_temp_bool_vect]=median_insulin\n"
          ]
        }
      ]
    },
    {
      "cell_type": "markdown",
      "source": [
        "###CHECK CLEANED VAIRBALE : DESCRIBE - CHECK FOR NEW MIN/MAX, BOX PLOT, HISTOGRAM , PERCENTILE\n",
        "\n"
      ],
      "metadata": {
        "id": "7lziRbI3hJg8"
      }
    },
    {
      "cell_type": "code",
      "source": [
        "round(diabetes_prediction_data['Insulin_new_3'].describe())"
      ],
      "metadata": {
        "id": "1OLtaQF_im8k",
        "colab": {
          "base_uri": "https://localhost:8080/"
        },
        "outputId": "2b2d1e70-99b8-4d7b-8682-a92acdac89a7"
      },
      "execution_count": null,
      "outputs": [
        {
          "output_type": "execute_result",
          "data": {
            "text/plain": [
              "count    768.0\n",
              "mean     135.0\n",
              "std       68.0\n",
              "min       14.0\n",
              "25%      122.0\n",
              "50%      125.0\n",
              "75%      125.0\n",
              "max      495.0\n",
              "Name: Insulin_new_3, dtype: float64"
            ]
          },
          "metadata": {},
          "execution_count": 93
        }
      ]
    },
    {
      "cell_type": "code",
      "source": [
        "plt.hist(diabetes_prediction_data[\"Insulin_new_3\"])"
      ],
      "metadata": {
        "id": "IJWMdrBHp8pk",
        "colab": {
          "base_uri": "https://localhost:8080/",
          "height": 499
        },
        "outputId": "d4314d5e-8290-42a5-f20a-8726048cfb14"
      },
      "execution_count": null,
      "outputs": [
        {
          "output_type": "execute_result",
          "data": {
            "text/plain": [
              "(array([ 63., 109., 463.,  60.,  26.,  19.,  12.,   5.,   3.,   8.]),\n",
              " array([ 14. ,  62.1, 110.2, 158.3, 206.4, 254.5, 302.6, 350.7, 398.8,\n",
              "        446.9, 495. ]),\n",
              " <BarContainer object of 10 artists>)"
            ]
          },
          "metadata": {},
          "execution_count": 94
        },
        {
          "output_type": "display_data",
          "data": {
            "text/plain": [
              "<Figure size 640x480 with 1 Axes>"
            ],
            "image/png": "[encoded data removed]"
          },
          "metadata": {}
        }
      ]
    },
    {
      "cell_type": "code",
      "source": [
        "plt.boxplot(diabetes_prediction_data[\"Insulin_new_3\"])"
      ],
      "metadata": {
        "id": "4rhwnelMhJg9",
        "colab": {
          "base_uri": "https://localhost:8080/",
          "height": 569
        },
        "outputId": "a0c449e1-cf2a-406c-f8b7-5c339b8aefec"
      },
      "execution_count": null,
      "outputs": [
        {
          "output_type": "execute_result",
          "data": {
            "text/plain": [
              "{'whiskers': [<matplotlib.lines.Line2D at 0x7fcef4388a00>,\n",
              "  <matplotlib.lines.Line2D at 0x7fcef4388ca0>],\n",
              " 'caps': [<matplotlib.lines.Line2D at 0x7fcef4388f40>,\n",
              "  <matplotlib.lines.Line2D at 0x7fcef4399220>],\n",
              " 'boxes': [<matplotlib.lines.Line2D at 0x7fcef4388760>],\n",
              " 'medians': [<matplotlib.lines.Line2D at 0x7fcef43994c0>],\n",
              " 'fliers': [<matplotlib.lines.Line2D at 0x7fcef4399760>],\n",
              " 'means': []}"
            ]
          },
          "metadata": {},
          "execution_count": 95
        },
        {
          "output_type": "display_data",
          "data": {
            "text/plain": [
              "<Figure size 640x480 with 1 Axes>"
            ],
            "image/png": "[encoded data removed]"
          },
          "metadata": {}
        }
      ]
    },
    {
      "cell_type": "markdown",
      "source": [
        "# MODEL BUILDING 1 : MULTIPLE LOGISTIC REGRESSION AS IT IS A CLASSIFICATION PROBLEM\n"
      ],
      "metadata": {
        "id": "n0hFOnXO-BQJ"
      }
    },
    {
      "cell_type": "code",
      "source": [
        "diabetes_prediction_data_M1=diabetes_prediction_data[[\"Glucose_new_2\"]+['BloodPressure_new_3']+['SkinThickness_new_3']+\n",
        "                                                    ['Insulin_new_3']+['BMI_new_2']+['DiabetesPedigreeFunction']+\n",
        "                                                  ['Pregnancies']+['Age']+['SkinThickness_ind']+['Insulin_ind']+['Outcome']] "
      ],
      "metadata": {
        "id": "hws6UNWwttuN"
      },
      "execution_count": null,
      "outputs": []
    },
    {
      "cell_type": "code",
      "source": [
        "diabetes_prediction_data_M1.describe().T"
      ],
      "metadata": {
        "id": "CRw8lE5mxMJv"
      },
      "execution_count": null,
      "outputs": []
    },
    {
      "cell_type": "markdown",
      "source": [
        "##PLOT LOGISTIC REGRESSION LINE"
      ],
      "metadata": {
        "id": "pAtw-TR3GcQp"
      }
    },
    {
      "cell_type": "code",
      "source": [
        "sns.regplot(x=diabetes_prediction_data_M1['Glucose_new_2'], y=diabetes_prediction_data_M1['Outcome'], data=diabetes_prediction_data_M1,\n",
        "            logistic=True, ci=None , scatter_kws={'color': 'black'}, line_kws={'color': 'red'}) \n"
      ],
      "metadata": {
        "id": "z1-gDE6nuJNb",
        "colab": {
          "base_uri": "https://localhost:8080/"
        },
        "outputId": "f86ab28c-1cef-477c-854f-04accfc094ad"
      },
      "execution_count": null,
      "outputs": [
        {
          "output_type": "execute_result",
          "data": {
            "text/plain": [
              "<Axes: xlabel='Glucose_new_2', ylabel='Outcome'>"
            ]
          },
          "metadata": {},
          "execution_count": 98
        },
        {
          "output_type": "display_data",
          "data": {
            "text/plain": [
              "<Figure size 640x480 with 1 Axes>"
            ],
            "image/png": "[encoded data removed]"
          },
          "metadata": {}
        }
      ]
    },
    {
      "cell_type": "code",
      "source": [
        "sns.regplot(x=diabetes_prediction_data_M1['BloodPressure_new_3'], y=diabetes_prediction_data_M1['Outcome'], data=diabetes_prediction_data_M1,\n",
        "            logistic=True, ci=None , scatter_kws={'color': 'black'}, line_kws={'color': 'red'})  "
      ],
      "metadata": {
        "id": "BO9a2tILFVmX",
        "colab": {
          "base_uri": "https://localhost:8080/"
        },
        "outputId": "de93267d-18d6-4f10-8627-12731cdc6387"
      },
      "execution_count": null,
      "outputs": [
        {
          "output_type": "execute_result",
          "data": {
            "text/plain": [
              "<Axes: xlabel='BloodPressure_new_3', ylabel='Outcome'>"
            ]
          },
          "metadata": {},
          "execution_count": 99
        },
        {
          "output_type": "display_data",
          "data": {
            "text/plain": [
              "<Figure size 640x480 with 1 Axes>"
            ],
            "image/png": "[encoded data removed]"
          },
          "metadata": {}
        }
      ]
    },
    {
      "cell_type": "code",
      "source": [
        "sns.regplot(x=diabetes_prediction_data_M1['SkinThickness_new_3'], y=diabetes_prediction_data_M1['Outcome'], data=diabetes_prediction_data_M1,\n",
        "            logistic=True, ci=None , scatter_kws={'color': 'black'}, line_kws={'color': 'red'}) "
      ],
      "metadata": {
        "id": "QY6za6NdFm1X",
        "colab": {
          "base_uri": "https://localhost:8080/"
        },
        "outputId": "9d391813-ccfb-4bd2-f98f-f6b9b6af7f5c"
      },
      "execution_count": null,
      "outputs": [
        {
          "output_type": "execute_result",
          "data": {
            "text/plain": [
              "<Axes: xlabel='SkinThickness_new_3', ylabel='Outcome'>"
            ]
          },
          "metadata": {},
          "execution_count": 100
        },
        {
          "output_type": "display_data",
          "data": {
            "text/plain": [
              "<Figure size 640x480 with 1 Axes>"
            ],
            "image/png": "[encoded data removed]"
          },
          "metadata": {}
        }
      ]
    },
    {
      "cell_type": "code",
      "source": [
        "sns.regplot(x=diabetes_prediction_data_M1['Insulin_new_3'], y=diabetes_prediction_data_M1['Outcome'], data=diabetes_prediction_data_M1,\n",
        "            logistic=True, ci=None , scatter_kws={'color': 'black'}, line_kws={'color': 'red'}) "
      ],
      "metadata": {
        "id": "LokT1CBkF0ny",
        "colab": {
          "base_uri": "https://localhost:8080/"
        },
        "outputId": "345483d1-4f75-439b-cf64-c676518b1376"
      },
      "execution_count": null,
      "outputs": [
        {
          "output_type": "execute_result",
          "data": {
            "text/plain": [
              "<Axes: xlabel='Insulin_new_3', ylabel='Outcome'>"
            ]
          },
          "metadata": {},
          "execution_count": 101
        },
        {
          "output_type": "display_data",
          "data": {
            "text/plain": [
              "<Figure size 640x480 with 1 Axes>"
            ],
            "image/png": "[encoded data removed]"
          },
          "metadata": {}
        }
      ]
    },
    {
      "cell_type": "code",
      "source": [
        "sns.regplot(x=diabetes_prediction_data_M1['BMI_new_2'], y=diabetes_prediction_data_M1['Outcome'], data=diabetes_prediction_data_M1,\n",
        "            logistic=True, ci=None , scatter_kws={'color': 'black'}, line_kws={'color': 'red'}) "
      ],
      "metadata": {
        "id": "kUddGRPEGA5e",
        "colab": {
          "base_uri": "https://localhost:8080/"
        },
        "outputId": "20d47bd9-0535-497f-e99e-15f850fd74c2"
      },
      "execution_count": null,
      "outputs": [
        {
          "output_type": "execute_result",
          "data": {
            "text/plain": [
              "<Axes: xlabel='BMI_new_2', ylabel='Outcome'>"
            ]
          },
          "metadata": {},
          "execution_count": 102
        },
        {
          "output_type": "display_data",
          "data": {
            "text/plain": [
              "<Figure size 640x480 with 1 Axes>"
            ],
            "image/png": "[encoded data removed]"
          },
          "metadata": {}
        }
      ]
    },
    {
      "cell_type": "code",
      "source": [
        "sns.regplot(x=diabetes_prediction_data_M1['DiabetesPedigreeFunction'], y=diabetes_prediction_data_M1['Outcome'], data=diabetes_prediction_data_M1,\n",
        "            logistic=True, ci=None , scatter_kws={'color': 'black'}, line_kws={'color': 'red'}) "
      ],
      "metadata": {
        "id": "-2MZRrHaGBRt",
        "colab": {
          "base_uri": "https://localhost:8080/"
        },
        "outputId": "0ac040ae-072d-4e9f-9412-504dbd7a2e55"
      },
      "execution_count": null,
      "outputs": [
        {
          "output_type": "execute_result",
          "data": {
            "text/plain": [
              "<Axes: xlabel='DiabetesPedigreeFunction', ylabel='Outcome'>"
            ]
          },
          "metadata": {},
          "execution_count": 103
        },
        {
          "output_type": "display_data",
          "data": {
            "text/plain": [
              "<Figure size 640x480 with 1 Axes>"
            ],
            "image/png": "[encoded data removed]"
          },
          "metadata": {}
        }
      ]
    },
    {
      "cell_type": "code",
      "source": [
        "sns.regplot(x=diabetes_prediction_data_M1['Pregnancies'], y=diabetes_prediction_data_M1['Outcome'], data=diabetes_prediction_data_M1,\n",
        "            logistic=True, ci=None , scatter_kws={'color': 'black'}, line_kws={'color': 'red'}) "
      ],
      "metadata": {
        "id": "99UwBpKdGHY9",
        "colab": {
          "base_uri": "https://localhost:8080/"
        },
        "outputId": "27314092-64cd-4195-fead-2354d17544c5"
      },
      "execution_count": null,
      "outputs": [
        {
          "output_type": "execute_result",
          "data": {
            "text/plain": [
              "<Axes: xlabel='Pregnancies', ylabel='Outcome'>"
            ]
          },
          "metadata": {},
          "execution_count": 104
        },
        {
          "output_type": "display_data",
          "data": {
            "text/plain": [
              "<Figure size 640x480 with 1 Axes>"
            ],
            "image/png": "[encoded data removed]"
          },
          "metadata": {}
        }
      ]
    },
    {
      "cell_type": "code",
      "source": [
        "sns.regplot(x=diabetes_prediction_data_M1['Age'], y=diabetes_prediction_data_M1['Outcome'], data=diabetes_prediction_data_M1,\n",
        "            logistic=True, ci=None , scatter_kws={'color': 'black'}, line_kws={'color': 'red'}) "
      ],
      "metadata": {
        "id": "FUVrnIeUGKZ-",
        "colab": {
          "base_uri": "https://localhost:8080/"
        },
        "outputId": "73fb666d-fd2b-4ae3-8338-07306c761f67"
      },
      "execution_count": null,
      "outputs": [
        {
          "output_type": "execute_result",
          "data": {
            "text/plain": [
              "<Axes: xlabel='Age', ylabel='Outcome'>"
            ]
          },
          "metadata": {},
          "execution_count": 105
        },
        {
          "output_type": "display_data",
          "data": {
            "text/plain": [
              "<Figure size 640x480 with 1 Axes>"
            ],
            "image/png": "[encoded data removed]"
          },
          "metadata": {}
        }
      ]
    },
    {
      "cell_type": "code",
      "source": [
        "sns.regplot(x=diabetes_prediction_data_M1['SkinThickness_ind'], y=diabetes_prediction_data_M1['Outcome'], data=diabetes_prediction_data_M1,\n",
        "            logistic=True, ci=None , scatter_kws={'color': 'black'}, line_kws={'color': 'red'}) "
      ],
      "metadata": {
        "id": "hddK2AZRtIH5",
        "colab": {
          "base_uri": "https://localhost:8080/"
        },
        "outputId": "06e8f2ee-497a-457d-e5fe-887a4861a629"
      },
      "execution_count": null,
      "outputs": [
        {
          "output_type": "execute_result",
          "data": {
            "text/plain": [
              "<Axes: xlabel='SkinThickness_ind', ylabel='Outcome'>"
            ]
          },
          "metadata": {},
          "execution_count": 106
        },
        {
          "output_type": "display_data",
          "data": {
            "text/plain": [
              "<Figure size 640x480 with 1 Axes>"
            ],
            "image/png": "[encoded data removed]"
          },
          "metadata": {}
        }
      ]
    },
    {
      "cell_type": "code",
      "source": [
        "sns.regplot(x=diabetes_prediction_data_M1['Insulin_ind'], y=diabetes_prediction_data_M1['Outcome'], data=diabetes_prediction_data_M1,\n",
        "            logistic=True, ci=None , scatter_kws={'color': 'black'}, line_kws={'color': 'red'}) "
      ],
      "metadata": {
        "id": "9NXOpbwQtIjv",
        "colab": {
          "base_uri": "https://localhost:8080/"
        },
        "outputId": "73334184-2ac1-4b66-b29b-b8e4aa40cc06"
      },
      "execution_count": null,
      "outputs": [
        {
          "output_type": "execute_result",
          "data": {
            "text/plain": [
              "<Axes: xlabel='Insulin_ind', ylabel='Outcome'>"
            ]
          },
          "metadata": {},
          "execution_count": 107
        },
        {
          "output_type": "display_data",
          "data": {
            "text/plain": [
              "<Figure size 640x480 with 1 Axes>"
            ],
            "image/png": "[encoded data removed]"
          },
          "metadata": {}
        }
      ]
    },
    {
      "cell_type": "markdown",
      "source": [
        "## STEP 2: MODEL VALIDATION : CONFUSION MATRIX TO PREDICT ACCURACY"
      ],
      "metadata": {
        "id": "R8g9R3niG2MI"
      }
    },
    {
      "cell_type": "code",
      "metadata": {
        "id": "HEYVmbh9QGWB"
      },
      "source": [
        "import numpy as np\n",
        "import matplotlib.pyplot as plt\n",
        "from sklearn.metrics import confusion_matrix\n",
        "from sklearn.linear_model import LogisticRegression"
      ],
      "execution_count": null,
      "outputs": []
    },
    {
      "cell_type": "markdown",
      "source": [
        "STEP 1 : LOGISTIC REGRESSION.FIT : fitting logistic regression for OUTCOME (TARGET VARIBALE) on rest of the variables\n",
        "\n"
      ],
      "metadata": {
        "id": "nno5ZuXJvfyS"
      }
    },
    {
      "cell_type": "code",
      "metadata": {
        "id": "Snei9Lp2aweU",
        "colab": {
          "base_uri": "https://localhost:8080/",
          "height": 268
        },
        "outputId": "a5858685-aa25-4b44-a7ff-9c943814fa50"
      },
      "source": [
        "logistic1= LogisticRegression()\n",
        "\n",
        "logistic1.fit(diabetes_prediction_data_M1[[\"Glucose_new_2\"]+['BloodPressure_new_3']+['SkinThickness_new_3']+\n",
        "                                       ['Insulin_new_3']+['BMI_new_2']+['DiabetesPedigreeFunction']+['Pregnancies']+\n",
        "                                       ['Age']+['SkinThickness_ind']+['Insulin_ind']],diabetes_prediction_data_M1[['Outcome']])\n"
      ],
      "execution_count": null,
      "outputs": [
        {
          "output_type": "stream",
          "name": "stderr",
          "text": [
            "/usr/local/lib/python3.9/dist-packages/sklearn/utils/validation.py:1143: DataConversionWarning: A column-vector y was passed when a 1d array was expected. Please change the shape of y to (n_samples, ), for example using ravel().\n",
            "  y = column_or_1d(y, warn=True)\n",
            "/usr/local/lib/python3.9/dist-packages/sklearn/linear_model/_logistic.py:458: ConvergenceWarning: lbfgs failed to converge (status=1):\n",
            "STOP: TOTAL NO. of ITERATIONS REACHED LIMIT.\n",
            "\n",
            "Increase the number of iterations (max_iter) or scale the data as shown in:\n",
            "    https://scikit-learn.org/stable/modules/preprocessing.html\n",
            "Please also refer to the documentation for alternative solver options:\n",
            "    https://scikit-learn.org/stable/modules/linear_model.html#logistic-regression\n",
            "  n_iter_i = _check_optimize_result(\n"
          ]
        },
        {
          "output_type": "execute_result",
          "data": {
            "text/plain": [
              "LogisticRegression()"
            ],
            "text/html": [
              "<style>#sk-container-id-2 {color: black;background-color: white;}#sk-container-id-2 pre{padding: 0;}#sk-container-id-2 div.sk-toggleable {background-color: white;}#sk-container-id-2 label.sk-toggleable__label {cursor: pointer;display: block;width: 100%;margin-bottom: 0;padding: 0.3em;box-sizing: border-box;text-align: center;}#sk-container-id-2 label.sk-toggleable__label-arrow:before {content: \"▸\";float: left;margin-right: 0.25em;color: #696969;}#sk-container-id-2 label.sk-toggleable__label-arrow:hover:before {color: black;}#sk-container-id-2 div.sk-estimator:hover label.sk-toggleable__label-arrow:before {color: black;}#sk-container-id-2 div.sk-toggleable__content {max-height: 0;max-width: 0;overflow: hidden;text-align: left;background-color: #f0f8ff;}#sk-container-id-2 div.sk-toggleable__content pre {margin: 0.2em;color: black;border-radius: 0.25em;background-color: #f0f8ff;}#sk-container-id-2 input.sk-toggleable__control:checked~div.sk-toggleable__content {max-height: 200px;max-width: 100%;overflow: auto;}#sk-container-id-2 input.sk-toggleable__control:checked~label.sk-toggleable__label-arrow:before {content: \"▾\";}#sk-container-id-2 div.sk-estimator input.sk-toggleable__control:checked~label.sk-toggleable__label {background-color: #d4ebff;}#sk-container-id-2 div.sk-label input.sk-toggleable__control:checked~label.sk-toggleable__label {background-color: #d4ebff;}#sk-container-id-2 input.sk-hidden--visually {border: 0;clip: rect(1px 1px 1px 1px);clip: rect(1px, 1px, 1px, 1px);height: 1px;margin: -1px;overflow: hidden;padding: 0;position: absolute;width: 1px;}#sk-container-id-2 div.sk-estimator {font-family: monospace;background-color: #f0f8ff;border: 1px dotted black;border-radius: 0.25em;box-sizing: border-box;margin-bottom: 0.5em;}#sk-container-id-2 div.sk-estimator:hover {background-color: #d4ebff;}#sk-container-id-2 div.sk-parallel-item::after {content: \"\";width: 100%;border-bottom: 1px solid gray;flex-grow: 1;}#sk-container-id-2 div.sk-label:hover label.sk-toggleable__label {background-color: #d4ebff;}#sk-container-id-2 div.sk-serial::before {content: \"\";position: absolute;border-left: 1px solid gray;box-sizing: border-box;top: 0;bottom: 0;left: 50%;z-index: 0;}#sk-container-id-2 div.sk-serial {display: flex;flex-direction: column;align-items: center;background-color: white;padding-right: 0.2em;padding-left: 0.2em;position: relative;}#sk-container-id-2 div.sk-item {position: relative;z-index: 1;}#sk-container-id-2 div.sk-parallel {display: flex;align-items: stretch;justify-content: center;background-color: white;position: relative;}#sk-container-id-2 div.sk-item::before, #sk-container-id-2 div.sk-parallel-item::before {content: \"\";position: absolute;border-left: 1px solid gray;box-sizing: border-box;top: 0;bottom: 0;left: 50%;z-index: -1;}#sk-container-id-2 div.sk-parallel-item {display: flex;flex-direction: column;z-index: 1;position: relative;background-color: white;}#sk-container-id-2 div.sk-parallel-item:first-child::after {align-self: flex-end;width: 50%;}#sk-container-id-2 div.sk-parallel-item:last-child::after {align-self: flex-start;width: 50%;}#sk-container-id-2 div.sk-parallel-item:only-child::after {width: 0;}#sk-container-id-2 div.sk-dashed-wrapped {border: 1px dashed gray;margin: 0 0.4em 0.5em 0.4em;box-sizing: border-box;padding-bottom: 0.4em;background-color: white;}#sk-container-id-2 div.sk-label label {font-family: monospace;font-weight: bold;display: inline-block;line-height: 1.2em;}#sk-container-id-2 div.sk-label-container {text-align: center;}#sk-container-id-2 div.sk-container {/* jupyter's `normalize.less` sets `[hidden] { display: none; }` but bootstrap.min.css set `[hidden] { display: none !important; }` so we also need the `!important` here to be able to override the default hidden behavior on the sphinx rendered scikit-learn.org. See: https://github.com/scikit-learn/scikit-learn/issues/21755 */display: inline-block !important;position: relative;}#sk-container-id-2 div.sk-text-repr-fallback {display: none;}</style><div id=\"sk-container-id-2\" class=\"sk-top-container\"><div class=\"sk-text-repr-fallback\"><pre>LogisticRegression()</pre><b>In a Jupyter environment, please rerun this cell to show the HTML representation or trust the notebook. <br />On GitHub, the HTML representation is unable to render, please try loading this page with nbviewer.org.</b></div><div class=\"sk-container\" hidden><div class=\"sk-item\"><div class=\"sk-estimator sk-toggleable\"><input class=\"sk-toggleable__control sk-hidden--visually\" id=\"sk-estimator-id-2\" type=\"checkbox\" checked><label for=\"sk-estimator-id-2\" class=\"sk-toggleable__label sk-toggleable__label-arrow\">LogisticRegression</label><div class=\"sk-toggleable__content\"><pre>LogisticRegression()</pre></div></div></div></div></div>"
            ]
          },
          "metadata": {},
          "execution_count": 121
        }
      ]
    },
    {
      "cell_type": "code",
      "metadata": {
        "id": "2RUCY4DNbKvu",
        "colab": {
          "base_uri": "https://localhost:8080/"
        },
        "outputId": "70a2f546-632f-417a-c2b7-cff8431d0008"
      },
      "source": [
        "print(\"Intercept\", logistic1.intercept_)\n",
        "print(\"Coefficients\", logistic1.coef_)"
      ],
      "execution_count": null,
      "outputs": [
        {
          "output_type": "stream",
          "name": "stdout",
          "text": [
            "Intercept [-4.79737115]\n",
            "Coefficients [[ 3.73348128e-02 -4.88907522e-02 -3.69322165e-03  1.96193238e-04\n",
            "   8.88049015e-02  1.84592097e+00  1.24639517e-01 -8.07009936e-03\n",
            "  -8.34668047e-01 -5.90120820e-01]]\n"
          ]
        }
      ]
    },
    {
      "cell_type": "markdown",
      "source": [
        "STEP 2 : LOGISTIC REGRESSION.PREDICT \n"
      ],
      "metadata": {
        "id": "Cky-bKE8wB6A"
      }
    },
    {
      "cell_type": "code",
      "metadata": {
        "id": "V0mRRlMuJsMu"
      },
      "source": [
        "predict1=logistic1.predict(diabetes_prediction_data_M1[[\"Glucose_new_2\"]+['BloodPressure_new_3']+['SkinThickness_new_3']+\n",
        "                                                    ['Insulin_new_3']+['BMI_new_2']+['DiabetesPedigreeFunction']+\n",
        "                                                    ['Pregnancies']+['Age']+['SkinThickness_ind']+['Insulin_ind']])\n"
      ],
      "execution_count": null,
      "outputs": []
    },
    {
      "cell_type": "markdown",
      "source": [
        "STEP3: CONFUSION MATRIX, ACCURACY, SENSTIVITY & SPECIFICITY CODE"
      ],
      "metadata": {
        "id": "rPqg6dWe33ap"
      }
    },
    {
      "cell_type": "code",
      "source": [
        "#Confusion Matrix, Accuracy and Sensitivity-Specificity\n",
        "\n",
        "cm1 = confusion_matrix(diabetes_prediction_data_M1[\"Outcome\"],predict1)\n",
        "print('Confusion Matrix : \\n', cm1)\n",
        "\n",
        "total1=sum(sum(cm1))\n",
        "#####from confusion matrix calculate accuracy\n",
        "accuracy1=(cm1[0,0]+cm1[1,1])/total1\n",
        "print ('Accuracy : ', accuracy1)\n",
        "\n",
        "sensitivity1 = cm1[0,0]/(cm1[0,0]+cm1[0,1])\n",
        "print('Sensitivity : ', sensitivity1 )\n",
        "\n",
        "specificity1 = cm1[1,1]/(cm1[1,0]+cm1[1,1])\n",
        "print('Specificity : ', specificity1)"
      ],
      "metadata": {
        "colab": {
          "base_uri": "https://localhost:8080/"
        },
        "id": "Ofvlviqb39Cu",
        "outputId": "aa6be86e-1a32-4d80-a144-395438f76922"
      },
      "execution_count": null,
      "outputs": [
        {
          "output_type": "stream",
          "name": "stdout",
          "text": [
            "Confusion Matrix : \n",
            " [[429  71]\n",
            " [115 153]]\n",
            "Accuracy :  0.7578125\n",
            "Sensitivity :  0.858\n",
            "Specificity :  0.5708955223880597\n"
          ]
        }
      ]
    },
    {
      "cell_type": "markdown",
      "source": [
        "METHOD 3: USE FUNCTION DIRECTLY"
      ],
      "metadata": {
        "id": "oTEaZqe64N-X"
      }
    },
    {
      "cell_type": "markdown",
      "source": [
        "RECALL CLASS 0 = SENSITIVITY***** RECALL CLASS 1 = SPECIFICITY"
      ],
      "metadata": {
        "id": "newz2WeY4dcu"
      }
    },
    {
      "cell_type": "code",
      "metadata": {
        "id": "40euqVLBCqOY",
        "colab": {
          "base_uri": "https://localhost:8080/"
        },
        "outputId": "4cdd355a-8f9e-4e49-b5da-4a7f9b8f3c49"
      },
      "source": [
        "from sklearn.metrics import classification_report\n",
        "print(classification_report(diabetes_prediction_data_M1[\"Outcome\"],predict1))"
      ],
      "execution_count": null,
      "outputs": [
        {
          "output_type": "stream",
          "name": "stdout",
          "text": [
            "              precision    recall  f1-score   support\n",
            "\n",
            "           0       0.79      0.86      0.82       500\n",
            "           1       0.68      0.57      0.62       268\n",
            "\n",
            "    accuracy                           0.76       768\n",
            "   macro avg       0.74      0.71      0.72       768\n",
            "weighted avg       0.75      0.76      0.75       768\n",
            "\n"
          ]
        }
      ]
    },
    {
      "cell_type": "markdown",
      "source": [
        "## STEP 3: MULTI COLLINEARITY"
      ],
      "metadata": {
        "id": "li4C3ZpJU-kR"
      }
    },
    {
      "cell_type": "code",
      "metadata": {
        "id": "6Ws_d_MGQecs"
      },
      "source": [
        "import statsmodels.formula.api as sm\n",
        "\n",
        "def vif_cal(input_data, dependent_col):\n",
        "    x_vars=input_data.drop([dependent_col], axis=1)\n",
        "    xvar_names=x_vars.columns\n",
        "    for i in range(0,xvar_names.shape[0]):\n",
        "        y=x_vars[xvar_names[i]] \n",
        "        x=x_vars[xvar_names.drop(xvar_names[i])]\n",
        "        rsq=sm.ols(formula=\"y~x\", data=x_vars).fit().rsquared  \n",
        "        vif=round(1/(1-rsq),2)\n",
        "        print (xvar_names[i], \" VIF = \" , vif)"
      ],
      "execution_count": null,
      "outputs": []
    },
    {
      "cell_type": "code",
      "metadata": {
        "id": "3njhbd6nQg9R",
        "colab": {
          "base_uri": "https://localhost:8080/"
        },
        "outputId": "cd7e2738-904f-4747-ba7e-12d610224928"
      },
      "source": [
        "vif_cal(input_data=diabetes_prediction_data_M1, dependent_col=\"Outcome\")"
      ],
      "execution_count": null,
      "outputs": [
        {
          "output_type": "stream",
          "name": "stdout",
          "text": [
            "Glucose_new_2  VIF =  1.34\n",
            "BloodPressure_new_3  VIF =  1.29\n",
            "SkinThickness_new_3  VIF =  1.39\n",
            "Insulin_new_3  VIF =  1.23\n",
            "BMI_new_2  VIF =  1.56\n",
            "DiabetesPedigreeFunction  VIF =  1.08\n",
            "Pregnancies  VIF =  1.45\n",
            "Age  VIF =  1.66\n",
            "SkinThickness_ind  VIF =  1.84\n",
            "Insulin_ind  VIF =  1.87\n"
          ]
        }
      ]
    },
    {
      "cell_type": "code",
      "metadata": {
        "id": "ULbBkLG316pc"
      },
      "source": [
        "#Drop the variable with highest VIF : example of code\n",
        "#vif_cal(input_data=diabetes_prediction_data_V1.drop(\"Glucose\", axis=1), dependent_col=\"Outcome\")"
      ],
      "execution_count": null,
      "outputs": []
    },
    {
      "cell_type": "markdown",
      "source": [
        "## STEP 4: INDIVIDUAL IMPACT OF VARIBALE"
      ],
      "metadata": {
        "id": "fQj4-zhKcgmY"
      }
    },
    {
      "cell_type": "markdown",
      "source": [
        "STEP 1: STATS MODEL.FIT FOR P VALUE"
      ],
      "metadata": {
        "id": "QZeUFu2DyeY8"
      }
    },
    {
      "cell_type": "code",
      "metadata": {
        "id": "XmSSgXB2Qi6f",
        "colab": {
          "base_uri": "https://localhost:8080/"
        },
        "outputId": "41caacde-84d6-43c5-8e01-525d6aed314a"
      },
      "source": [
        "import statsmodels.api as sm\n",
        "m1=sm.Logit(diabetes_prediction_data_M1['Outcome'],diabetes_prediction_data_M1[[\"Glucose_new_2\"]+['BloodPressure_new_3']+\n",
        "                                      ['SkinThickness_new_3']+['Insulin_new_3']+['BMI_new_2']+\n",
        "                                      ['DiabetesPedigreeFunction']+['Pregnancies']+['Age']+['SkinThickness_ind']+['Insulin_ind']])\n",
        "m1.fit()\n",
        "print(m1.fit().summary())"
      ],
      "execution_count": null,
      "outputs": [
        {
          "output_type": "stream",
          "name": "stdout",
          "text": [
            "Optimization terminated successfully.\n",
            "         Current function value: 0.556721\n",
            "         Iterations 6\n",
            "Optimization terminated successfully.\n",
            "         Current function value: 0.556721\n",
            "         Iterations 6\n",
            "                           Logit Regression Results                           \n",
            "==============================================================================\n",
            "Dep. Variable:                Outcome   No. Observations:                  768\n",
            "Model:                          Logit   Df Residuals:                      758\n",
            "Method:                           MLE   Df Model:                            9\n",
            "Date:                Tue, 04 Apr 2023   Pseudo R-squ.:                  0.1393\n",
            "Time:                        06:52:21   Log-Likelihood:                -427.56\n",
            "converged:                       True   LL-Null:                       -496.74\n",
            "Covariance Type:            nonrobust   LLR p-value:                 2.248e-25\n",
            "============================================================================================\n",
            "                               coef    std err          z      P>|z|      [0.025      0.975]\n",
            "--------------------------------------------------------------------------------------------\n",
            "Glucose_new_2                0.0248      0.003      7.501      0.000       0.018       0.031\n",
            "BloodPressure_new_3         -0.0613      0.007     -8.204      0.000      -0.076      -0.047\n",
            "SkinThickness_new_3         -0.0324      0.013     -2.403      0.016      -0.059      -0.006\n",
            "Insulin_new_3            -5.568e-05      0.001     -0.041      0.967      -0.003       0.003\n",
            "BMI_new_2                    0.0520      0.015      3.360      0.001       0.022       0.082\n",
            "DiabetesPedigreeFunction     0.5801      0.264      2.194      0.028       0.062       1.098\n",
            "Pregnancies                  0.1318      0.030      4.411      0.000       0.073       0.190\n",
            "Age                         -0.0048      0.009     -0.538      0.591      -0.022       0.013\n",
            "SkinThickness_ind           -0.5346      0.241     -2.219      0.026      -1.007      -0.062\n",
            "Insulin_ind                 -0.3994      0.232     -1.718      0.086      -0.855       0.056\n",
            "============================================================================================\n"
          ]
        }
      ]
    },
    {
      "cell_type": "markdown",
      "source": [
        "DROP INSULIN_NEW_3 AS P VALUE >= 0.05"
      ],
      "metadata": {
        "id": "7BnyTp9U-TVN"
      }
    },
    {
      "cell_type": "code",
      "metadata": {
        "id": "7cdZtYDa2oSO",
        "colab": {
          "base_uri": "https://localhost:8080/"
        },
        "outputId": "74d617a1-b751-46fc-f9ed-ce2c6145e8d9"
      },
      "source": [
        "m1=sm.Logit(diabetes_prediction_data_M1['Outcome'],diabetes_prediction_data_M1[[\"Glucose_new_2\"]+['BloodPressure_new_3']+\n",
        "                                      ['SkinThickness_new_3']+['BMI_new_2']+\n",
        "                                      ['DiabetesPedigreeFunction']+['Pregnancies']+['Age']+['SkinThickness_ind']+['Insulin_ind']])\n",
        "m1.fit()\n",
        "print(m1.fit().summary())"
      ],
      "execution_count": null,
      "outputs": [
        {
          "output_type": "stream",
          "name": "stdout",
          "text": [
            "Optimization terminated successfully.\n",
            "         Current function value: 0.556722\n",
            "         Iterations 6\n",
            "Optimization terminated successfully.\n",
            "         Current function value: 0.556722\n",
            "         Iterations 6\n",
            "                           Logit Regression Results                           \n",
            "==============================================================================\n",
            "Dep. Variable:                Outcome   No. Observations:                  768\n",
            "Model:                          Logit   Df Residuals:                      759\n",
            "Method:                           MLE   Df Model:                            8\n",
            "Date:                Tue, 04 Apr 2023   Pseudo R-squ.:                  0.1393\n",
            "Time:                        06:52:21   Log-Likelihood:                -427.56\n",
            "converged:                       True   LL-Null:                       -496.74\n",
            "Covariance Type:            nonrobust   LLR p-value:                 5.205e-26\n",
            "============================================================================================\n",
            "                               coef    std err          z      P>|z|      [0.025      0.975]\n",
            "--------------------------------------------------------------------------------------------\n",
            "Glucose_new_2                0.0247      0.003      7.927      0.000       0.019       0.031\n",
            "BloodPressure_new_3         -0.0613      0.007     -8.208      0.000      -0.076      -0.047\n",
            "SkinThickness_new_3         -0.0324      0.013     -2.414      0.016      -0.059      -0.006\n",
            "BMI_new_2                    0.0520      0.015      3.362      0.001       0.022       0.082\n",
            "DiabetesPedigreeFunction     0.5797      0.264      2.195      0.028       0.062       1.097\n",
            "Pregnancies                  0.1318      0.030      4.414      0.000       0.073       0.190\n",
            "Age                         -0.0048      0.009     -0.537      0.591      -0.022       0.013\n",
            "SkinThickness_ind           -0.5348      0.241     -2.221      0.026      -1.007      -0.063\n",
            "Insulin_ind                 -0.4005      0.231     -1.735      0.083      -0.853       0.052\n",
            "============================================================================================\n"
          ]
        }
      ]
    },
    {
      "cell_type": "markdown",
      "source": [
        "DROP AGE"
      ],
      "metadata": {
        "id": "CU7ZbDR9-iRq"
      }
    },
    {
      "cell_type": "code",
      "source": [
        "m1=sm.Logit(diabetes_prediction_data_M1['Outcome'],diabetes_prediction_data_M1[[\"Glucose_new_2\"]+['BloodPressure_new_3']+\n",
        "                                      ['SkinThickness_new_3']+['BMI_new_2']+\n",
        "                                      ['DiabetesPedigreeFunction']+['Pregnancies']+['SkinThickness_ind']+['Insulin_ind']])\n",
        "m1.fit()\n",
        "print(m1.fit().summary())"
      ],
      "metadata": {
        "id": "myqdOu17zFzN",
        "colab": {
          "base_uri": "https://localhost:8080/"
        },
        "outputId": "7b45f61f-754c-4061-8d37-e372c146f24b"
      },
      "execution_count": null,
      "outputs": [
        {
          "output_type": "stream",
          "name": "stdout",
          "text": [
            "Optimization terminated successfully.\n",
            "         Current function value: 0.556910\n",
            "         Iterations 6\n",
            "Optimization terminated successfully.\n",
            "         Current function value: 0.556910\n",
            "         Iterations 6\n",
            "                           Logit Regression Results                           \n",
            "==============================================================================\n",
            "Dep. Variable:                Outcome   No. Observations:                  768\n",
            "Model:                          Logit   Df Residuals:                      760\n",
            "Method:                           MLE   Df Model:                            7\n",
            "Date:                Tue, 04 Apr 2023   Pseudo R-squ.:                  0.1390\n",
            "Time:                        06:52:21   Log-Likelihood:                -427.71\n",
            "converged:                       True   LL-Null:                       -496.74\n",
            "Covariance Type:            nonrobust   LLR p-value:                 1.289e-26\n",
            "============================================================================================\n",
            "                               coef    std err          z      P>|z|      [0.025      0.975]\n",
            "--------------------------------------------------------------------------------------------\n",
            "Glucose_new_2                0.0243      0.003      8.059      0.000       0.018       0.030\n",
            "BloodPressure_new_3         -0.0627      0.007     -8.885      0.000      -0.077      -0.049\n",
            "SkinThickness_new_3         -0.0328      0.013     -2.449      0.014      -0.059      -0.007\n",
            "BMI_new_2                    0.0528      0.015      3.434      0.001       0.023       0.083\n",
            "DiabetesPedigreeFunction     0.5674      0.263      2.160      0.031       0.053       1.082\n",
            "Pregnancies                  0.1240      0.026      4.761      0.000       0.073       0.175\n",
            "SkinThickness_ind           -0.5265      0.240     -2.192      0.028      -0.997      -0.056\n",
            "Insulin_ind                 -0.3957      0.231     -1.717      0.086      -0.848       0.056\n",
            "============================================================================================\n"
          ]
        }
      ]
    },
    {
      "cell_type": "markdown",
      "source": [
        "DROP INSULIN_IND"
      ],
      "metadata": {
        "id": "CWnTdLLE-opc"
      }
    },
    {
      "cell_type": "code",
      "source": [
        "m1=sm.Logit(diabetes_prediction_data_M1['Outcome'],diabetes_prediction_data_M1[[\"Glucose_new_2\"]+['BloodPressure_new_3']+\n",
        "                                      ['SkinThickness_new_3']+['BMI_new_2']+\n",
        "                                      ['DiabetesPedigreeFunction']+['Pregnancies']+['SkinThickness_ind']])\n",
        "m1.fit()\n",
        "print(m1.fit().summary())"
      ],
      "metadata": {
        "id": "Z2_1gwXFzVUK",
        "colab": {
          "base_uri": "https://localhost:8080/"
        },
        "outputId": "85bf480d-866c-4a27-e002-36d767fe6657"
      },
      "execution_count": null,
      "outputs": [
        {
          "output_type": "stream",
          "name": "stdout",
          "text": [
            "Optimization terminated successfully.\n",
            "         Current function value: 0.558812\n",
            "         Iterations 6\n",
            "Optimization terminated successfully.\n",
            "         Current function value: 0.558812\n",
            "         Iterations 6\n",
            "                           Logit Regression Results                           \n",
            "==============================================================================\n",
            "Dep. Variable:                Outcome   No. Observations:                  768\n",
            "Model:                          Logit   Df Residuals:                      761\n",
            "Method:                           MLE   Df Model:                            6\n",
            "Date:                Tue, 04 Apr 2023   Pseudo R-squ.:                  0.1360\n",
            "Time:                        06:52:21   Log-Likelihood:                -429.17\n",
            "converged:                       True   LL-Null:                       -496.74\n",
            "Covariance Type:            nonrobust   LLR p-value:                 1.057e-26\n",
            "============================================================================================\n",
            "                               coef    std err          z      P>|z|      [0.025      0.975]\n",
            "--------------------------------------------------------------------------------------------\n",
            "Glucose_new_2                0.0236      0.003      7.957      0.000       0.018       0.029\n",
            "BloodPressure_new_3         -0.0613      0.007     -8.808      0.000      -0.075      -0.048\n",
            "SkinThickness_new_3         -0.0319      0.013     -2.397      0.017      -0.058      -0.006\n",
            "BMI_new_2                    0.0515      0.015      3.365      0.001       0.021       0.081\n",
            "DiabetesPedigreeFunction     0.5343      0.261      2.046      0.041       0.023       1.046\n",
            "Pregnancies                  0.1265      0.026      4.865      0.000       0.076       0.177\n",
            "SkinThickness_ind           -0.8027      0.181     -4.436      0.000      -1.157      -0.448\n",
            "============================================================================================\n"
          ]
        }
      ]
    },
    {
      "cell_type": "markdown",
      "source": [
        "## STEP 5: RANK ORDER OF IMPACT"
      ],
      "metadata": {
        "id": "j0hPlvTqhKdU"
      }
    },
    {
      "cell_type": "code",
      "metadata": {
        "id": "x7aCIqUM4u7j",
        "colab": {
          "base_uri": "https://localhost:8080/"
        },
        "outputId": "468a2bff-92e1-47fc-9f67-9b139ba0cf94"
      },
      "source": [
        "# Wald Chi-square value\n",
        "abs(m1.fit().tvalues).sort_values(ascending=False)"
      ],
      "execution_count": null,
      "outputs": [
        {
          "output_type": "stream",
          "name": "stdout",
          "text": [
            "Optimization terminated successfully.\n",
            "         Current function value: 0.558812\n",
            "         Iterations 6\n"
          ]
        },
        {
          "output_type": "execute_result",
          "data": {
            "text/plain": [
              "BloodPressure_new_3         8.808060\n",
              "Glucose_new_2               7.956936\n",
              "Pregnancies                 4.865076\n",
              "SkinThickness_ind           4.435953\n",
              "BMI_new_2                   3.364883\n",
              "SkinThickness_new_3         2.397368\n",
              "DiabetesPedigreeFunction    2.046494\n",
              "dtype: float64"
            ]
          },
          "metadata": {},
          "execution_count": 136
        }
      ]
    },
    {
      "cell_type": "markdown",
      "source": [
        "##RECHECKING CONFUSION MATRIX AND ACCURACY"
      ],
      "metadata": {
        "id": "_V5jm2hNUJim"
      }
    },
    {
      "cell_type": "code",
      "source": [
        "diabetes_prediction_data_M1_FINAL=diabetes_prediction_data[[\"Glucose_new_2\"]+['BloodPressure_new_3']+['SkinThickness_new_3']+\n",
        "                                                    ['BMI_new_2']+['DiabetesPedigreeFunction']+\n",
        "                                                  ['Pregnancies']+['SkinThickness_ind']+['Outcome']] "
      ],
      "metadata": {
        "id": "2AAnQS8h-MZ1"
      },
      "execution_count": null,
      "outputs": []
    },
    {
      "cell_type": "code",
      "metadata": {
        "id": "jkV54YwQS3Ei",
        "colab": {
          "base_uri": "https://localhost:8080/",
          "height": 268
        },
        "outputId": "338b0bf7-eba5-4173-e466-b7bf8c7d7b8c"
      },
      "source": [
        "logistic_1= LogisticRegression()\n",
        "logistic1.fit(diabetes_prediction_data_M1_FINAL[[\"Glucose_new_2\"]+['BloodPressure_new_3']+['Pregnancies']+['SkinThickness_ind']\n",
        "                                         +['BMI_new_2'] +['SkinThickness_new_3']+['DiabetesPedigreeFunction']],diabetes_prediction_data_M1_FINAL[['Outcome']])\n"
      ],
      "execution_count": null,
      "outputs": [
        {
          "output_type": "stream",
          "name": "stderr",
          "text": [
            "/usr/local/lib/python3.9/dist-packages/sklearn/utils/validation.py:1143: DataConversionWarning: A column-vector y was passed when a 1d array was expected. Please change the shape of y to (n_samples, ), for example using ravel().\n",
            "  y = column_or_1d(y, warn=True)\n",
            "/usr/local/lib/python3.9/dist-packages/sklearn/linear_model/_logistic.py:458: ConvergenceWarning: lbfgs failed to converge (status=1):\n",
            "STOP: TOTAL NO. of ITERATIONS REACHED LIMIT.\n",
            "\n",
            "Increase the number of iterations (max_iter) or scale the data as shown in:\n",
            "    https://scikit-learn.org/stable/modules/preprocessing.html\n",
            "Please also refer to the documentation for alternative solver options:\n",
            "    https://scikit-learn.org/stable/modules/linear_model.html#logistic-regression\n",
            "  n_iter_i = _check_optimize_result(\n"
          ]
        },
        {
          "output_type": "execute_result",
          "data": {
            "text/plain": [
              "LogisticRegression()"
            ],
            "text/html": [
              "<style>#sk-container-id-5 {color: black;background-color: white;}#sk-container-id-5 pre{padding: 0;}#sk-container-id-5 div.sk-toggleable {background-color: white;}#sk-container-id-5 label.sk-toggleable__label {cursor: pointer;display: block;width: 100%;margin-bottom: 0;padding: 0.3em;box-sizing: border-box;text-align: center;}#sk-container-id-5 label.sk-toggleable__label-arrow:before {content: \"▸\";float: left;margin-right: 0.25em;color: #696969;}#sk-container-id-5 label.sk-toggleable__label-arrow:hover:before {color: black;}#sk-container-id-5 div.sk-estimator:hover label.sk-toggleable__label-arrow:before {color: black;}#sk-container-id-5 div.sk-toggleable__content {max-height: 0;max-width: 0;overflow: hidden;text-align: left;background-color: #f0f8ff;}#sk-container-id-5 div.sk-toggleable__content pre {margin: 0.2em;color: black;border-radius: 0.25em;background-color: #f0f8ff;}#sk-container-id-5 input.sk-toggleable__control:checked~div.sk-toggleable__content {max-height: 200px;max-width: 100%;overflow: auto;}#sk-container-id-5 input.sk-toggleable__control:checked~label.sk-toggleable__label-arrow:before {content: \"▾\";}#sk-container-id-5 div.sk-estimator input.sk-toggleable__control:checked~label.sk-toggleable__label {background-color: #d4ebff;}#sk-container-id-5 div.sk-label input.sk-toggleable__control:checked~label.sk-toggleable__label {background-color: #d4ebff;}#sk-container-id-5 input.sk-hidden--visually {border: 0;clip: rect(1px 1px 1px 1px);clip: rect(1px, 1px, 1px, 1px);height: 1px;margin: -1px;overflow: hidden;padding: 0;position: absolute;width: 1px;}#sk-container-id-5 div.sk-estimator {font-family: monospace;background-color: #f0f8ff;border: 1px dotted black;border-radius: 0.25em;box-sizing: border-box;margin-bottom: 0.5em;}#sk-container-id-5 div.sk-estimator:hover {background-color: #d4ebff;}#sk-container-id-5 div.sk-parallel-item::after {content: \"\";width: 100%;border-bottom: 1px solid gray;flex-grow: 1;}#sk-container-id-5 div.sk-label:hover label.sk-toggleable__label {background-color: #d4ebff;}#sk-container-id-5 div.sk-serial::before {content: \"\";position: absolute;border-left: 1px solid gray;box-sizing: border-box;top: 0;bottom: 0;left: 50%;z-index: 0;}#sk-container-id-5 div.sk-serial {display: flex;flex-direction: column;align-items: center;background-color: white;padding-right: 0.2em;padding-left: 0.2em;position: relative;}#sk-container-id-5 div.sk-item {position: relative;z-index: 1;}#sk-container-id-5 div.sk-parallel {display: flex;align-items: stretch;justify-content: center;background-color: white;position: relative;}#sk-container-id-5 div.sk-item::before, #sk-container-id-5 div.sk-parallel-item::before {content: \"\";position: absolute;border-left: 1px solid gray;box-sizing: border-box;top: 0;bottom: 0;left: 50%;z-index: -1;}#sk-container-id-5 div.sk-parallel-item {display: flex;flex-direction: column;z-index: 1;position: relative;background-color: white;}#sk-container-id-5 div.sk-parallel-item:first-child::after {align-self: flex-end;width: 50%;}#sk-container-id-5 div.sk-parallel-item:last-child::after {align-self: flex-start;width: 50%;}#sk-container-id-5 div.sk-parallel-item:only-child::after {width: 0;}#sk-container-id-5 div.sk-dashed-wrapped {border: 1px dashed gray;margin: 0 0.4em 0.5em 0.4em;box-sizing: border-box;padding-bottom: 0.4em;background-color: white;}#sk-container-id-5 div.sk-label label {font-family: monospace;font-weight: bold;display: inline-block;line-height: 1.2em;}#sk-container-id-5 div.sk-label-container {text-align: center;}#sk-container-id-5 div.sk-container {/* jupyter's `normalize.less` sets `[hidden] { display: none; }` but bootstrap.min.css set `[hidden] { display: none !important; }` so we also need the `!important` here to be able to override the default hidden behavior on the sphinx rendered scikit-learn.org. See: https://github.com/scikit-learn/scikit-learn/issues/21755 */display: inline-block !important;position: relative;}#sk-container-id-5 div.sk-text-repr-fallback {display: none;}</style><div id=\"sk-container-id-5\" class=\"sk-top-container\"><div class=\"sk-text-repr-fallback\"><pre>LogisticRegression()</pre><b>In a Jupyter environment, please rerun this cell to show the HTML representation or trust the notebook. <br />On GitHub, the HTML representation is unable to render, please try loading this page with nbviewer.org.</b></div><div class=\"sk-container\" hidden><div class=\"sk-item\"><div class=\"sk-estimator sk-toggleable\"><input class=\"sk-toggleable__control sk-hidden--visually\" id=\"sk-estimator-id-5\" type=\"checkbox\" checked><label for=\"sk-estimator-id-5\" class=\"sk-toggleable__label sk-toggleable__label-arrow\">LogisticRegression</label><div class=\"sk-toggleable__content\"><pre>LogisticRegression()</pre></div></div></div></div></div>"
            ]
          },
          "metadata": {},
          "execution_count": 145
        }
      ]
    },
    {
      "cell_type": "code",
      "metadata": {
        "id": "VzPe27SXS3Ej"
      },
      "source": [
        "predict1=logistic1.predict(diabetes_prediction_data_M1_FINAL[[\"Glucose_new_2\"]+['BloodPressure_new_3']+['Pregnancies']+['SkinThickness_ind']\n",
        "                                                       +['BMI_new_2']+['SkinThickness_new_3']+['DiabetesPedigreeFunction']])\n",
        "predict1\n",
        "\n"
      ],
      "execution_count": null,
      "outputs": []
    },
    {
      "cell_type": "code",
      "source": [
        "#Confusion Matrix, Accuracy and Sensitivity-Specificity\n",
        "\n",
        "cm1 = confusion_matrix(diabetes_prediction_data_M1_FINAL[\"Outcome\"],predict1)\n",
        "print('Confusion Matrix : \\n', cm1)\n",
        "\n",
        "total1=sum(sum(cm1))\n",
        "#####from confusion matrix calculate accuracy\n",
        "accuracy1=(cm1[0,0]+cm1[1,1])/total1\n",
        "print ('Accuracy : ', accuracy1)\n",
        "\n",
        "sensitivity1 = cm1[0,0]/(cm1[0,0]+cm1[0,1])\n",
        "print('Sensitivity : ', sensitivity1 )\n",
        "\n",
        "specificity1 = cm1[1,1]/(cm1[1,0]+cm1[1,1])\n",
        "print('Specificity : ', specificity1)"
      ],
      "metadata": {
        "colab": {
          "base_uri": "https://localhost:8080/"
        },
        "outputId": "aac3a6d2-f1d5-410a-d6c5-37bef9ccf53f",
        "id": "QTbJQ0zYEu2i"
      },
      "execution_count": null,
      "outputs": [
        {
          "output_type": "stream",
          "name": "stdout",
          "text": [
            "Confusion Matrix : \n",
            " [[442  58]\n",
            " [116 152]]\n",
            "Accuracy :  0.7734375\n",
            "Sensitivity :  0.884\n",
            "Specificity :  0.5671641791044776\n"
          ]
        }
      ]
    },
    {
      "cell_type": "code",
      "metadata": {
        "colab": {
          "base_uri": "https://localhost:8080/"
        },
        "outputId": "e3cef1d1-7157-41fe-d105-b0c91f281536",
        "id": "klxXwilSEu2i"
      },
      "source": [
        "from sklearn.metrics import classification_report\n",
        "print(classification_report(diabetes_prediction_data_M1_FINAL[\"Outcome\"],predict1))"
      ],
      "execution_count": null,
      "outputs": [
        {
          "output_type": "stream",
          "name": "stdout",
          "text": [
            "              precision    recall  f1-score   support\n",
            "\n",
            "           0       0.79      0.88      0.84       500\n",
            "           1       0.72      0.57      0.64       268\n",
            "\n",
            "    accuracy                           0.77       768\n",
            "   macro avg       0.76      0.73      0.74       768\n",
            "weighted avg       0.77      0.77      0.77       768\n",
            "\n"
          ]
        }
      ]
    },
    {
      "cell_type": "markdown",
      "source": [
        "# MODEL 2: DECISION TREES"
      ],
      "metadata": {
        "id": "wBDUMl5nyWFD"
      }
    },
    {
      "cell_type": "code",
      "source": [
        "from sklearn import tree\n",
        "import matplotlib.pyplot as plt\n",
        "from sklearn.tree import plot_tree, export_text"
      ],
      "metadata": {
        "id": "UndpynAPiUI6"
      },
      "execution_count": null,
      "outputs": []
    },
    {
      "cell_type": "code",
      "source": [
        "diabetes_prediction_data_M2=diabetes_prediction_data[[\"Glucose_new_2\"]+['BloodPressure_new_3']+['SkinThickness_new_3']+\n",
        "                                                    ['Insulin_new_3']+['BMI_new_2']+['DiabetesPedigreeFunction']+\n",
        "                                                  ['Pregnancies']+['Age']+['SkinThickness_ind']+['Insulin_ind']+['Outcome']] "
      ],
      "metadata": {
        "id": "cFwvDcm-H2lw"
      },
      "execution_count": null,
      "outputs": []
    },
    {
      "cell_type": "code",
      "source": [
        "features=['Glucose_new_2', 'BloodPressure_new_3','SkinThickness_new_3','Insulin_new_3','BMI_new_2',\n",
        "          'DiabetesPedigreeFunction','Pregnancies','Age','SkinThickness_ind','Insulin_ind']"
      ],
      "metadata": {
        "id": "NG1t0Wj62iEd"
      },
      "execution_count": null,
      "outputs": []
    },
    {
      "cell_type": "code",
      "source": [
        "X = diabetes_prediction_data_M2[features]\n",
        "y = diabetes_prediction_data_M2['Outcome'] "
      ],
      "metadata": {
        "id": "6rXBTN9J0MQY"
      },
      "execution_count": null,
      "outputs": []
    },
    {
      "cell_type": "markdown",
      "source": [
        "##BUILDING TREE MODEL"
      ],
      "metadata": {
        "id": "LbxjDPEc87ax"
      }
    },
    {
      "cell_type": "code",
      "source": [
        "#Building Tree Model\n",
        "DTree = tree.DecisionTreeClassifier(max_leaf_nodes=10)\n",
        "DTree.fit(X,y)"
      ],
      "metadata": {
        "colab": {
          "base_uri": "https://localhost:8080/",
          "height": 75
        },
        "id": "fB-_QEG7IgJD",
        "outputId": "42285485-0562-441f-d84f-5e21cc9f5f7c"
      },
      "execution_count": null,
      "outputs": [
        {
          "output_type": "execute_result",
          "data": {
            "text/plain": [
              "DecisionTreeClassifier(max_leaf_nodes=10)"
            ],
            "text/html": [
              "<style>#sk-container-id-13 {color: black;background-color: white;}#sk-container-id-13 pre{padding: 0;}#sk-container-id-13 div.sk-toggleable {background-color: white;}#sk-container-id-13 label.sk-toggleable__label {cursor: pointer;display: block;width: 100%;margin-bottom: 0;padding: 0.3em;box-sizing: border-box;text-align: center;}#sk-container-id-13 label.sk-toggleable__label-arrow:before {content: \"▸\";float: left;margin-right: 0.25em;color: #696969;}#sk-container-id-13 label.sk-toggleable__label-arrow:hover:before {color: black;}#sk-container-id-13 div.sk-estimator:hover label.sk-toggleable__label-arrow:before {color: black;}#sk-container-id-13 div.sk-toggleable__content {max-height: 0;max-width: 0;overflow: hidden;text-align: left;background-color: #f0f8ff;}#sk-container-id-13 div.sk-toggleable__content pre {margin: 0.2em;color: black;border-radius: 0.25em;background-color: #f0f8ff;}#sk-container-id-13 input.sk-toggleable__control:checked~div.sk-toggleable__content {max-height: 200px;max-width: 100%;overflow: auto;}#sk-container-id-13 input.sk-toggleable__control:checked~label.sk-toggleable__label-arrow:before {content: \"▾\";}#sk-container-id-13 div.sk-estimator input.sk-toggleable__control:checked~label.sk-toggleable__label {background-color: #d4ebff;}#sk-container-id-13 div.sk-label input.sk-toggleable__control:checked~label.sk-toggleable__label {background-color: #d4ebff;}#sk-container-id-13 input.sk-hidden--visually {border: 0;clip: rect(1px 1px 1px 1px);clip: rect(1px, 1px, 1px, 1px);height: 1px;margin: -1px;overflow: hidden;padding: 0;position: absolute;width: 1px;}#sk-container-id-13 div.sk-estimator {font-family: monospace;background-color: #f0f8ff;border: 1px dotted black;border-radius: 0.25em;box-sizing: border-box;margin-bottom: 0.5em;}#sk-container-id-13 div.sk-estimator:hover {background-color: #d4ebff;}#sk-container-id-13 div.sk-parallel-item::after {content: \"\";width: 100%;border-bottom: 1px solid gray;flex-grow: 1;}#sk-container-id-13 div.sk-label:hover label.sk-toggleable__label {background-color: #d4ebff;}#sk-container-id-13 div.sk-serial::before {content: \"\";position: absolute;border-left: 1px solid gray;box-sizing: border-box;top: 0;bottom: 0;left: 50%;z-index: 0;}#sk-container-id-13 div.sk-serial {display: flex;flex-direction: column;align-items: center;background-color: white;padding-right: 0.2em;padding-left: 0.2em;position: relative;}#sk-container-id-13 div.sk-item {position: relative;z-index: 1;}#sk-container-id-13 div.sk-parallel {display: flex;align-items: stretch;justify-content: center;background-color: white;position: relative;}#sk-container-id-13 div.sk-item::before, #sk-container-id-13 div.sk-parallel-item::before {content: \"\";position: absolute;border-left: 1px solid gray;box-sizing: border-box;top: 0;bottom: 0;left: 50%;z-index: -1;}#sk-container-id-13 div.sk-parallel-item {display: flex;flex-direction: column;z-index: 1;position: relative;background-color: white;}#sk-container-id-13 div.sk-parallel-item:first-child::after {align-self: flex-end;width: 50%;}#sk-container-id-13 div.sk-parallel-item:last-child::after {align-self: flex-start;width: 50%;}#sk-container-id-13 div.sk-parallel-item:only-child::after {width: 0;}#sk-container-id-13 div.sk-dashed-wrapped {border: 1px dashed gray;margin: 0 0.4em 0.5em 0.4em;box-sizing: border-box;padding-bottom: 0.4em;background-color: white;}#sk-container-id-13 div.sk-label label {font-family: monospace;font-weight: bold;display: inline-block;line-height: 1.2em;}#sk-container-id-13 div.sk-label-container {text-align: center;}#sk-container-id-13 div.sk-container {/* jupyter's `normalize.less` sets `[hidden] { display: none; }` but bootstrap.min.css set `[hidden] { display: none !important; }` so we also need the `!important` here to be able to override the default hidden behavior on the sphinx rendered scikit-learn.org. See: https://github.com/scikit-learn/scikit-learn/issues/21755 */display: inline-block !important;position: relative;}#sk-container-id-13 div.sk-text-repr-fallback {display: none;}</style><div id=\"sk-container-id-13\" class=\"sk-top-container\"><div class=\"sk-text-repr-fallback\"><pre>DecisionTreeClassifier(max_leaf_nodes=10)</pre><b>In a Jupyter environment, please rerun this cell to show the HTML representation or trust the notebook. <br />On GitHub, the HTML representation is unable to render, please try loading this page with nbviewer.org.</b></div><div class=\"sk-container\" hidden><div class=\"sk-item\"><div class=\"sk-estimator sk-toggleable\"><input class=\"sk-toggleable__control sk-hidden--visually\" id=\"sk-estimator-id-13\" type=\"checkbox\" checked><label for=\"sk-estimator-id-13\" class=\"sk-toggleable__label sk-toggleable__label-arrow\">DecisionTreeClassifier</label><div class=\"sk-toggleable__content\"><pre>DecisionTreeClassifier(max_leaf_nodes=10)</pre></div></div></div></div></div>"
            ]
          },
          "metadata": {},
          "execution_count": 439
        }
      ]
    },
    {
      "cell_type": "code",
      "source": [
        "##Plotting the trees \n",
        "import matplotlib.pyplot as plt\n",
        "from sklearn.tree import plot_tree, export_text\n",
        "plt.figure(figsize=(15,7))\n",
        "plot_tree(DTree, filled=True, \n",
        "                     rounded=True,\n",
        "                     impurity=False,\n",
        "                     feature_names = features)\n",
        "print( export_text(DTree, feature_names = features))"
      ],
      "metadata": {
        "id": "IFPdV8Yk4JPg",
        "colab": {
          "base_uri": "https://localhost:8080/",
          "height": 954
        },
        "outputId": "f70744de-5014-4e78-8e24-ce64fb332c11"
      },
      "execution_count": null,
      "outputs": [
        {
          "output_type": "stream",
          "name": "stdout",
          "text": [
            "|--- Glucose_new_2 <= 127.50\n",
            "|   |--- Age <= 28.50\n",
            "|   |   |--- class: 0\n",
            "|   |--- Age >  28.50\n",
            "|   |   |--- BMI_new_2 <= 26.35\n",
            "|   |   |   |--- class: 0\n",
            "|   |   |--- BMI_new_2 >  26.35\n",
            "|   |   |   |--- Glucose_new_2 <= 99.50\n",
            "|   |   |   |   |--- class: 0\n",
            "|   |   |   |--- Glucose_new_2 >  99.50\n",
            "|   |   |   |   |--- Insulin_new_3 <= 112.00\n",
            "|   |   |   |   |   |--- class: 0\n",
            "|   |   |   |   |--- Insulin_new_3 >  112.00\n",
            "|   |   |   |   |   |--- DiabetesPedigreeFunction <= 0.20\n",
            "|   |   |   |   |   |   |--- class: 0\n",
            "|   |   |   |   |   |--- DiabetesPedigreeFunction >  0.20\n",
            "|   |   |   |   |   |   |--- class: 1\n",
            "|--- Glucose_new_2 >  127.50\n",
            "|   |--- BMI_new_2 <= 29.95\n",
            "|   |   |--- Glucose_new_2 <= 145.50\n",
            "|   |   |   |--- class: 0\n",
            "|   |   |--- Glucose_new_2 >  145.50\n",
            "|   |   |   |--- class: 1\n",
            "|   |--- BMI_new_2 >  29.95\n",
            "|   |   |--- Glucose_new_2 <= 157.50\n",
            "|   |   |   |--- class: 1\n",
            "|   |   |--- Glucose_new_2 >  157.50\n",
            "|   |   |   |--- class: 1\n",
            "\n"
          ]
        },
        {
          "output_type": "display_data",
          "data": {
            "text/plain": [
              "<Figure size 1500x700 with 1 Axes>"
            ],
            "image/png": "[encoded data removed]"
          },
          "metadata": {}
        }
      ]
    },
    {
      "cell_type": "markdown",
      "source": [
        "##TREE VALIDATION"
      ],
      "metadata": {
        "id": "b0GRZEHB40HB"
      }
    },
    {
      "cell_type": "code",
      "source": [
        "predict_tree = DTree.predict(X)"
      ],
      "metadata": {
        "id": "Q7XDCQeQI628"
      },
      "execution_count": null,
      "outputs": []
    },
    {
      "cell_type": "code",
      "source": [
        "from sklearn.metrics import confusion_matrix \n",
        "cm_tree= confusion_matrix(y, predict_tree)\n",
        "print (cm_tree)\n",
        "\n",
        "total1 = sum(sum(cm_tree))\n",
        "\n",
        "accuracy_tree = (cm_tree[0,0]+cm_tree[1,1])/total1\n",
        "print(accuracy_tree)\n",
        "\n",
        "sensitivity_tree = cm_tree[0,0]/(cm_tree[0,0]+cm_tree[0,1])\n",
        "print('Sensitivity : ', sensitivity_tree )\n",
        "\n",
        "specificity_tree= cm_tree[1,1]/(cm_tree[1,0]+cm_tree[1,1])\n",
        "print('Specificity : ', specificity_tree)"
      ],
      "metadata": {
        "colab": {
          "base_uri": "https://localhost:8080/"
        },
        "id": "tryOM6GVI-fo",
        "outputId": "ba913038-67be-43b4-abb5-6a3c31824f9f"
      },
      "execution_count": null,
      "outputs": [
        {
          "output_type": "stream",
          "name": "stdout",
          "text": [
            "[[424  76]\n",
            " [ 97 171]]\n",
            "0.7747395833333334\n",
            "Sensitivity :  0.848\n",
            "Specificity :  0.6380597014925373\n"
          ]
        }
      ]
    },
    {
      "cell_type": "markdown",
      "source": [
        "##TEST-TRAIN"
      ],
      "metadata": {
        "id": "7b3kgvV-6NkR"
      }
    },
    {
      "cell_type": "code",
      "source": [
        "from sklearn import tree\n",
        "from sklearn.model_selection import train_test_split"
      ],
      "metadata": {
        "id": "cSJkxY-Q4Mkj"
      },
      "execution_count": null,
      "outputs": []
    },
    {
      "cell_type": "code",
      "source": [
        "X = diabetes_prediction_data_M2[features]\n",
        "y = diabetes_prediction_data_M2['Outcome'] "
      ],
      "metadata": {
        "id": "OvcQZy__AAsl"
      },
      "execution_count": null,
      "outputs": []
    },
    {
      "cell_type": "code",
      "source": [
        "X_train, X_test, y_train, y_test = train_test_split(X, y, train_size=0.80, random_state=1)"
      ],
      "metadata": {
        "id": "TZ3gluLF_W6C"
      },
      "execution_count": null,
      "outputs": []
    },
    {
      "cell_type": "code",
      "metadata": {
        "id": "yzhMDwHWllJn",
        "colab": {
          "base_uri": "https://localhost:8080/"
        },
        "outputId": "2f53cc7a-ea75-4e5b-fd10-d096db11618e"
      },
      "source": [
        "#training Tree Model\n",
        "clf = tree.DecisionTreeClassifier()\n",
        "clf.fit(X_train,y_train)\n",
        "\n",
        "predict_train = clf.predict(X_train)\n",
        "predict_test = clf.predict(X_test)\n",
        "\n",
        "#On Train Data\n",
        "cm_train = confusion_matrix(y_train,predict_train)\n",
        "total_train = sum(sum(cm_train))\n",
        "accuracy_train = (cm_train[0,0]+cm_train[1,1])/total_train\n",
        "print(\"Train Accuracy\", accuracy_train)\n",
        "\n",
        "#On Test Data\n",
        "cm_test = confusion_matrix(y_test,predict_test)\n",
        "total_test = sum(sum(cm_test))\n",
        "accuracy_test = (cm_test[0,0]+cm_test[1,1])/total_test\n",
        "print(\"Test Accuracy\", accuracy_test)"
      ],
      "execution_count": null,
      "outputs": [
        {
          "output_type": "stream",
          "name": "stdout",
          "text": [
            "Train Accuracy 1.0\n",
            "Test Accuracy 0.6948051948051948\n"
          ]
        }
      ]
    },
    {
      "cell_type": "markdown",
      "metadata": {
        "id": "NdKqBtOemAXb"
      },
      "source": [
        "##PRUNING"
      ]
    },
    {
      "cell_type": "markdown",
      "source": [
        "### MAX_LEAF_NODES"
      ],
      "metadata": {
        "id": "clQde5lNMGFS"
      }
    },
    {
      "cell_type": "code",
      "metadata": {
        "id": "-hPkGlEEl5oW",
        "colab": {
          "base_uri": "https://localhost:8080/"
        },
        "outputId": "7bb6e4d4-6d34-4797-833d-e0f98297ce6b"
      },
      "source": [
        "#training Tree Model\n",
        "clf = tree.DecisionTreeClassifier(max_leaf_nodes =10)\n",
        "clf.fit(X_train,y_train)\n",
        "\n",
        "predict_train = clf.predict(X_train)\n",
        "predict_test = clf.predict(X_test)\n",
        "\n",
        "#On Train Data\n",
        "cm_train = confusion_matrix(y_train,predict_train)\n",
        "total_train = sum(sum(cm_train))\n",
        "accuracy_train = (cm_train[0,0]+cm_train[1,1])/total_train\n",
        "print(\"Train Accuracy\", accuracy_train)\n",
        "\n",
        "#On Test Data\n",
        "cm_test = confusion_matrix(y_test,predict_test)\n",
        "total_test = sum(sum(cm_test))\n",
        "accuracy_test = (cm_test[0,0]+cm_test[1,1])/total_test\n",
        "print(\"Test Accuracy\", accuracy_test)"
      ],
      "execution_count": null,
      "outputs": [
        {
          "output_type": "stream",
          "name": "stdout",
          "text": [
            "Train Accuracy 0.8045602605863192\n",
            "Test Accuracy 0.7987012987012987\n"
          ]
        }
      ]
    },
    {
      "cell_type": "markdown",
      "source": [
        "### CLASSIFICATION REPORT USING FUNCTION FOR TEST DATA"
      ],
      "metadata": {
        "id": "FQtj59oC9QCZ"
      }
    },
    {
      "cell_type": "code",
      "source": [
        "print(classification_report(y_test, predict_test))"
      ],
      "metadata": {
        "colab": {
          "base_uri": "https://localhost:8080/"
        },
        "id": "d4XMrrAX8-t7",
        "outputId": "b19a7805-1b64-4671-94c9-b2c2d730bc6a"
      },
      "execution_count": null,
      "outputs": [
        {
          "output_type": "stream",
          "name": "stdout",
          "text": [
            "              precision    recall  f1-score   support\n",
            "\n",
            "           0       0.85      0.84      0.84        99\n",
            "           1       0.71      0.73      0.72        55\n",
            "\n",
            "    accuracy                           0.80       154\n",
            "   macro avg       0.78      0.78      0.78       154\n",
            "weighted avg       0.80      0.80      0.80       154\n",
            "\n"
          ]
        }
      ]
    },
    {
      "cell_type": "markdown",
      "source": [
        "TEST DATA REPORT USUING CODE"
      ],
      "metadata": {
        "id": "xK2u5kmZ9Yyp"
      }
    },
    {
      "cell_type": "code",
      "source": [
        "cm_test = confusion_matrix(y_test,predict_test)\n",
        "print(cm_test)\n",
        "\n",
        "sensitivity_test = cm_test[0,0]/(cm_test[0,0]+cm_test[0,1])\n",
        "print('Sensitivity_test : ', sensitivity_test )\n",
        "\n",
        "specificity_test = cm_test[1,1]/(cm_test[1,0]+cm_test[1,1])\n",
        "print('Specificity_test : ', specificity_test)"
      ],
      "metadata": {
        "id": "5Z75egpwHH6z",
        "colab": {
          "base_uri": "https://localhost:8080/"
        },
        "outputId": "6228ba6d-bcd5-45fa-f5bf-e83053789774"
      },
      "execution_count": null,
      "outputs": [
        {
          "output_type": "stream",
          "name": "stdout",
          "text": [
            "[[83 16]\n",
            " [15 40]]\n",
            "Sensitivity_test :  0.8383838383838383\n",
            "Specificity_test :  0.7272727272727273\n"
          ]
        }
      ]
    },
    {
      "cell_type": "markdown",
      "source": [
        "###CLASSIFICATION REPORT USING FUNCTION FOR TRAIN DATA"
      ],
      "metadata": {
        "id": "x_H0R4If9kbj"
      }
    },
    {
      "cell_type": "code",
      "source": [
        "print(classification_report(y_train, predict_train))"
      ],
      "metadata": {
        "colab": {
          "base_uri": "https://localhost:8080/"
        },
        "outputId": "0dbf7cec-4c21-4057-a573-3201fb461d2d",
        "id": "tbYHvpPU9kbk"
      },
      "execution_count": null,
      "outputs": [
        {
          "output_type": "stream",
          "name": "stdout",
          "text": [
            "              precision    recall  f1-score   support\n",
            "\n",
            "           0       0.85      0.85      0.85       401\n",
            "           1       0.72      0.72      0.72       213\n",
            "\n",
            "    accuracy                           0.80       614\n",
            "   macro avg       0.78      0.79      0.78       614\n",
            "weighted avg       0.81      0.80      0.80       614\n",
            "\n"
          ]
        }
      ]
    },
    {
      "cell_type": "code",
      "source": [
        "cm_train = confusion_matrix(y_train,predict_train)\n",
        "print(cm_train)\n",
        "\n",
        "sensitivity_train = cm_train[0,0]/(cm_train[0,0]+cm_train[0,1])\n",
        "print('Sensitivity_train : ', sensitivity_train )\n",
        "\n",
        "specificity_train = cm_train[1,1]/(cm_train[1,0]+cm_train[1,1])\n",
        "print('Specificity_train : ', specificity_train)"
      ],
      "metadata": {
        "colab": {
          "base_uri": "https://localhost:8080/"
        },
        "outputId": "9949aa87-9c23-4b2a-b93d-1646d35b858a",
        "id": "MS2W_ps07fXg"
      },
      "execution_count": null,
      "outputs": [
        {
          "output_type": "stream",
          "name": "stdout",
          "text": [
            "[[340  61]\n",
            " [ 59 154]]\n",
            "Sensitivity_train :  0.8478802992518704\n",
            "Specificity_train :  0.7230046948356808\n"
          ]
        }
      ]
    },
    {
      "cell_type": "markdown",
      "source": [],
      "metadata": {
        "id": "7ocXQmbhPki_"
      }
    },
    {
      "cell_type": "code",
      "source": [],
      "metadata": {
        "id": "dKJxeQ4zPldE"
      },
      "execution_count": null,
      "outputs": []
    },
    {
      "cell_type": "markdown",
      "source": [
        "# MODEL 3: DECISION TREES USUING VARIBALES FROM LOGISTIC REGRESSION MODEL"
      ],
      "metadata": {
        "id": "f4U1I-DiPl6m"
      }
    },
    {
      "cell_type": "code",
      "source": [
        "from sklearn import tree\n",
        "import matplotlib.pyplot as plt\n",
        "from sklearn.tree import plot_tree, export_text"
      ],
      "metadata": {
        "id": "DyI0cJ_1Pl6n"
      },
      "execution_count": null,
      "outputs": []
    },
    {
      "cell_type": "code",
      "source": [
        "diabetes_prediction_data_M3=diabetes_prediction_data[[\"Glucose_new_2\"]+['BloodPressure_new_3']+['SkinThickness_new_3']+\n",
        "                                                    ['BMI_new_2']+['DiabetesPedigreeFunction']+\n",
        "                                                  ['Pregnancies']+['SkinThickness_ind']+['Outcome']] "
      ],
      "metadata": {
        "id": "IQNAj2fbPl6o"
      },
      "execution_count": null,
      "outputs": []
    },
    {
      "cell_type": "code",
      "source": [
        "features=['Glucose_new_2', 'BloodPressure_new_3','SkinThickness_new_3','BMI_new_2',\n",
        "          'DiabetesPedigreeFunction','Pregnancies','SkinThickness_ind']"
      ],
      "metadata": {
        "id": "BOI4Wl_4Pl6o"
      },
      "execution_count": null,
      "outputs": []
    },
    {
      "cell_type": "code",
      "source": [
        "X = diabetes_prediction_data_M3[features]\n",
        "y = diabetes_prediction_data_M3['Outcome'] "
      ],
      "metadata": {
        "id": "l8o8e5TXPl6p"
      },
      "execution_count": null,
      "outputs": []
    },
    {
      "cell_type": "markdown",
      "source": [
        "##BUILDING TREE MODEL"
      ],
      "metadata": {
        "id": "9OBB66KqPl6q"
      }
    },
    {
      "cell_type": "code",
      "source": [
        "#Building Tree Model\n",
        "DTree = tree.DecisionTreeClassifier(max_depth=3)\n",
        "DTree.fit(X,y)"
      ],
      "metadata": {
        "colab": {
          "base_uri": "https://localhost:8080/",
          "height": 75
        },
        "outputId": "ecaf6d0e-29b2-4637-e1f6-1f5f1565ca65",
        "id": "iJCkJp-ZPl6q"
      },
      "execution_count": null,
      "outputs": [
        {
          "output_type": "execute_result",
          "data": {
            "text/plain": [
              "DecisionTreeClassifier(max_depth=3)"
            ],
            "text/html": [
              "<style>#sk-container-id-9 {color: black;background-color: white;}#sk-container-id-9 pre{padding: 0;}#sk-container-id-9 div.sk-toggleable {background-color: white;}#sk-container-id-9 label.sk-toggleable__label {cursor: pointer;display: block;width: 100%;margin-bottom: 0;padding: 0.3em;box-sizing: border-box;text-align: center;}#sk-container-id-9 label.sk-toggleable__label-arrow:before {content: \"▸\";float: left;margin-right: 0.25em;color: #696969;}#sk-container-id-9 label.sk-toggleable__label-arrow:hover:before {color: black;}#sk-container-id-9 div.sk-estimator:hover label.sk-toggleable__label-arrow:before {color: black;}#sk-container-id-9 div.sk-toggleable__content {max-height: 0;max-width: 0;overflow: hidden;text-align: left;background-color: #f0f8ff;}#sk-container-id-9 div.sk-toggleable__content pre {margin: 0.2em;color: black;border-radius: 0.25em;background-color: #f0f8ff;}#sk-container-id-9 input.sk-toggleable__control:checked~div.sk-toggleable__content {max-height: 200px;max-width: 100%;overflow: auto;}#sk-container-id-9 input.sk-toggleable__control:checked~label.sk-toggleable__label-arrow:before {content: \"▾\";}#sk-container-id-9 div.sk-estimator input.sk-toggleable__control:checked~label.sk-toggleable__label {background-color: #d4ebff;}#sk-container-id-9 div.sk-label input.sk-toggleable__control:checked~label.sk-toggleable__label {background-color: #d4ebff;}#sk-container-id-9 input.sk-hidden--visually {border: 0;clip: rect(1px 1px 1px 1px);clip: rect(1px, 1px, 1px, 1px);height: 1px;margin: -1px;overflow: hidden;padding: 0;position: absolute;width: 1px;}#sk-container-id-9 div.sk-estimator {font-family: monospace;background-color: #f0f8ff;border: 1px dotted black;border-radius: 0.25em;box-sizing: border-box;margin-bottom: 0.5em;}#sk-container-id-9 div.sk-estimator:hover {background-color: #d4ebff;}#sk-container-id-9 div.sk-parallel-item::after {content: \"\";width: 100%;border-bottom: 1px solid gray;flex-grow: 1;}#sk-container-id-9 div.sk-label:hover label.sk-toggleable__label {background-color: #d4ebff;}#sk-container-id-9 div.sk-serial::before {content: \"\";position: absolute;border-left: 1px solid gray;box-sizing: border-box;top: 0;bottom: 0;left: 50%;z-index: 0;}#sk-container-id-9 div.sk-serial {display: flex;flex-direction: column;align-items: center;background-color: white;padding-right: 0.2em;padding-left: 0.2em;position: relative;}#sk-container-id-9 div.sk-item {position: relative;z-index: 1;}#sk-container-id-9 div.sk-parallel {display: flex;align-items: stretch;justify-content: center;background-color: white;position: relative;}#sk-container-id-9 div.sk-item::before, #sk-container-id-9 div.sk-parallel-item::before {content: \"\";position: absolute;border-left: 1px solid gray;box-sizing: border-box;top: 0;bottom: 0;left: 50%;z-index: -1;}#sk-container-id-9 div.sk-parallel-item {display: flex;flex-direction: column;z-index: 1;position: relative;background-color: white;}#sk-container-id-9 div.sk-parallel-item:first-child::after {align-self: flex-end;width: 50%;}#sk-container-id-9 div.sk-parallel-item:last-child::after {align-self: flex-start;width: 50%;}#sk-container-id-9 div.sk-parallel-item:only-child::after {width: 0;}#sk-container-id-9 div.sk-dashed-wrapped {border: 1px dashed gray;margin: 0 0.4em 0.5em 0.4em;box-sizing: border-box;padding-bottom: 0.4em;background-color: white;}#sk-container-id-9 div.sk-label label {font-family: monospace;font-weight: bold;display: inline-block;line-height: 1.2em;}#sk-container-id-9 div.sk-label-container {text-align: center;}#sk-container-id-9 div.sk-container {/* jupyter's `normalize.less` sets `[hidden] { display: none; }` but bootstrap.min.css set `[hidden] { display: none !important; }` so we also need the `!important` here to be able to override the default hidden behavior on the sphinx rendered scikit-learn.org. See: https://github.com/scikit-learn/scikit-learn/issues/21755 */display: inline-block !important;position: relative;}#sk-container-id-9 div.sk-text-repr-fallback {display: none;}</style><div id=\"sk-container-id-9\" class=\"sk-top-container\"><div class=\"sk-text-repr-fallback\"><pre>DecisionTreeClassifier(max_depth=3)</pre><b>In a Jupyter environment, please rerun this cell to show the HTML representation or trust the notebook. <br />On GitHub, the HTML representation is unable to render, please try loading this page with nbviewer.org.</b></div><div class=\"sk-container\" hidden><div class=\"sk-item\"><div class=\"sk-estimator sk-toggleable\"><input class=\"sk-toggleable__control sk-hidden--visually\" id=\"sk-estimator-id-9\" type=\"checkbox\" checked><label for=\"sk-estimator-id-9\" class=\"sk-toggleable__label sk-toggleable__label-arrow\">DecisionTreeClassifier</label><div class=\"sk-toggleable__content\"><pre>DecisionTreeClassifier(max_depth=3)</pre></div></div></div></div></div>"
            ]
          },
          "metadata": {},
          "execution_count": 251
        }
      ]
    },
    {
      "cell_type": "code",
      "source": [
        "##Plotting the trees \n",
        "import matplotlib.pyplot as plt\n",
        "from sklearn.tree import plot_tree, export_text\n",
        "plt.figure(figsize=(15,7))\n",
        "plot_tree(DTree, filled=True, \n",
        "                     rounded=True,\n",
        "                     impurity=False,\n",
        "                     feature_names = features)\n",
        "print( export_text(DTree, feature_names = features))"
      ],
      "metadata": {
        "id": "GeX32nd0Pl6r"
      },
      "execution_count": null,
      "outputs": []
    },
    {
      "cell_type": "markdown",
      "source": [
        "##TREE VALIDATION"
      ],
      "metadata": {
        "id": "3JuRj2A-Pl6s"
      }
    },
    {
      "cell_type": "code",
      "source": [
        "predict_tree = DTree.predict(X)"
      ],
      "metadata": {
        "id": "gQOHy_6hPl6s"
      },
      "execution_count": null,
      "outputs": []
    },
    {
      "cell_type": "code",
      "source": [
        "from sklearn.metrics import confusion_matrix \n",
        "cm_tree= confusion_matrix(y, predict_tree)\n",
        "print (cm_tree)\n",
        "\n",
        "total1 = sum(sum(cm_tree))\n",
        "\n",
        "accuracy_tree = (cm_tree[0,0]+cm_tree[1,1])/total1\n",
        "print(accuracy_tree)\n",
        "\n",
        "sensitivity_tree = cm_tree[0,0]/(cm_tree[0,0]+cm_tree[0,1])\n",
        "print('Sensitivity : ', sensitivity_tree )\n",
        "\n",
        "specificity_tree= cm_tree[1,1]/(cm_tree[1,0]+cm_tree[1,1])\n",
        "print('Specificity : ', specificity_tree)"
      ],
      "metadata": {
        "colab": {
          "base_uri": "https://localhost:8080/"
        },
        "outputId": "056b6a11-a811-4101-b217-157a5c7d1734",
        "id": "EilInfthPl6t"
      },
      "execution_count": null,
      "outputs": [
        {
          "output_type": "stream",
          "name": "stdout",
          "text": [
            "[[425  75]\n",
            " [100 168]]\n",
            "0.7721354166666666\n",
            "Sensitivity :  0.85\n",
            "Specificity :  0.6268656716417911\n"
          ]
        }
      ]
    },
    {
      "cell_type": "markdown",
      "source": [
        "##TEST-TRAIN"
      ],
      "metadata": {
        "id": "yP6tNqOiPl6u"
      }
    },
    {
      "cell_type": "code",
      "source": [
        "from sklearn import tree\n",
        "from sklearn.model_selection import train_test_split"
      ],
      "metadata": {
        "id": "3WcJurlmPl6u"
      },
      "execution_count": null,
      "outputs": []
    },
    {
      "cell_type": "code",
      "source": [
        "X = diabetes_prediction_data_M3[features]\n",
        "y = diabetes_prediction_data_M3['Outcome'] "
      ],
      "metadata": {
        "id": "Zn53qa_bPl6v"
      },
      "execution_count": null,
      "outputs": []
    },
    {
      "cell_type": "code",
      "source": [
        "X_train, X_test, y_train, y_test = train_test_split(X, y, train_size=0.80, random_state=1)"
      ],
      "metadata": {
        "id": "HM82vstNPl6w"
      },
      "execution_count": null,
      "outputs": []
    },
    {
      "cell_type": "code",
      "metadata": {
        "colab": {
          "base_uri": "https://localhost:8080/"
        },
        "outputId": "e587a801-b874-4390-e83d-681026245617",
        "id": "-zgdCzYKPl6w"
      },
      "source": [
        "#training Tree Model\n",
        "clf = tree.DecisionTreeClassifier()\n",
        "clf.fit(X_train,y_train)\n",
        "\n",
        "predict_train = clf.predict(X_train)\n",
        "predict_test = clf.predict(X_test)\n",
        "\n",
        "#On Train Data\n",
        "cm_train = confusion_matrix(y_train,predict_train)\n",
        "total_train = sum(sum(cm_train))\n",
        "accuracy_train = (cm_train[0,0]+cm_train[1,1])/total_train\n",
        "print(\"Train Accuracy\", accuracy_train)\n",
        "\n",
        "#On Test Data\n",
        "cm_test = confusion_matrix(y_test,predict_test)\n",
        "total_test = sum(sum(cm_test))\n",
        "accuracy_test = (cm_test[0,0]+cm_test[1,1])/total_test\n",
        "print(\"Test Accuracy\", accuracy_test)"
      ],
      "execution_count": null,
      "outputs": [
        {
          "output_type": "stream",
          "name": "stdout",
          "text": [
            "Train Accuracy 1.0\n",
            "Test Accuracy 0.6493506493506493\n"
          ]
        }
      ]
    },
    {
      "cell_type": "markdown",
      "metadata": {
        "id": "AEM3V_4CPl6x"
      },
      "source": [
        "##PRUNING"
      ]
    },
    {
      "cell_type": "markdown",
      "source": [
        "### MAX_LEAF_NODES"
      ],
      "metadata": {
        "id": "LED42IBAPl6y"
      }
    },
    {
      "cell_type": "code",
      "metadata": {
        "colab": {
          "base_uri": "https://localhost:8080/"
        },
        "outputId": "9f7d6de6-8ba5-43c1-e05e-99149910c2a3",
        "id": "5B53k9uFPl6z"
      },
      "source": [
        "#training Tree Model\n",
        "clf = tree.DecisionTreeClassifier(max_leaf_nodes =10)\n",
        "clf.fit(X_train,y_train)\n",
        "\n",
        "predict_train = clf.predict(X_train)\n",
        "predict_test = clf.predict(X_test)\n",
        "\n",
        "#On Train Data\n",
        "cm_train = confusion_matrix(y_train,predict_train)\n",
        "total_train = sum(sum(cm_train))\n",
        "accuracy_train = (cm_train[0,0]+cm_train[1,1])/total_train\n",
        "print(\"Train Accuracy\", accuracy_train)\n",
        "\n",
        "#On Test Data\n",
        "cm_test = confusion_matrix(y_test,predict_test)\n",
        "total_test = sum(sum(cm_test))\n",
        "accuracy_test = (cm_test[0,0]+cm_test[1,1])/total_test\n",
        "print(\"Test Accuracy\", accuracy_test)"
      ],
      "execution_count": null,
      "outputs": [
        {
          "output_type": "stream",
          "name": "stdout",
          "text": [
            "Train Accuracy 0.7996742671009772\n",
            "Test Accuracy 0.7792207792207793\n"
          ]
        }
      ]
    },
    {
      "cell_type": "markdown",
      "source": [
        "### CLASSIFICATION REPORT USING FUNCTION FOR TEST DATA"
      ],
      "metadata": {
        "id": "BDQ7VhtcPl6z"
      }
    },
    {
      "cell_type": "code",
      "source": [
        "print(classification_report(y_test, predict_test))"
      ],
      "metadata": {
        "colab": {
          "base_uri": "https://localhost:8080/"
        },
        "outputId": "710b4abf-dd48-4c2e-dc68-6cb55863a98e",
        "id": "3ZEqRt1jPl60"
      },
      "execution_count": null,
      "outputs": [
        {
          "output_type": "stream",
          "name": "stdout",
          "text": [
            "              precision    recall  f1-score   support\n",
            "\n",
            "           0       0.82      0.85      0.83        99\n",
            "           1       0.71      0.65      0.68        55\n",
            "\n",
            "    accuracy                           0.78       154\n",
            "   macro avg       0.76      0.75      0.76       154\n",
            "weighted avg       0.78      0.78      0.78       154\n",
            "\n"
          ]
        }
      ]
    },
    {
      "cell_type": "markdown",
      "source": [
        "TEST DATA REPORT USUING CODE"
      ],
      "metadata": {
        "id": "oqHS7kh0Pl61"
      }
    },
    {
      "cell_type": "code",
      "source": [
        "cm_test = confusion_matrix(y_test,predict_test)\n",
        "print(cm_test)\n",
        "\n",
        "sensitivity_test = cm_test[0,0]/(cm_test[0,0]+cm_test[0,1])\n",
        "print('Sensitivity_test : ', sensitivity_test )\n",
        "\n",
        "specificity_test = cm_test[1,1]/(cm_test[1,0]+cm_test[1,1])\n",
        "print('Specificity_test : ', specificity_test)"
      ],
      "metadata": {
        "colab": {
          "base_uri": "https://localhost:8080/"
        },
        "outputId": "1b47e9b8-0b31-4e44-9c91-e384b813ae7a",
        "id": "G9xXnfHePl61"
      },
      "execution_count": null,
      "outputs": [
        {
          "output_type": "stream",
          "name": "stdout",
          "text": [
            "[[84 15]\n",
            " [19 36]]\n",
            "Sensitivity_test :  0.8484848484848485\n",
            "Specificity_test :  0.6545454545454545\n"
          ]
        }
      ]
    },
    {
      "cell_type": "markdown",
      "source": [
        "###CLASSIFICATION REPORT USING FUNCTION FOR TRAIN DATA"
      ],
      "metadata": {
        "id": "71KyNl3MPl62"
      }
    },
    {
      "cell_type": "code",
      "source": [
        "print(classification_report(y_train, predict_train))"
      ],
      "metadata": {
        "colab": {
          "base_uri": "https://localhost:8080/"
        },
        "outputId": "23e482e5-80e2-4dc0-8a42-07eb72a37266",
        "id": "145bRe7fPl63"
      },
      "execution_count": null,
      "outputs": [
        {
          "output_type": "stream",
          "name": "stdout",
          "text": [
            "              precision    recall  f1-score   support\n",
            "\n",
            "           0       0.83      0.87      0.85       401\n",
            "           1       0.73      0.68      0.70       213\n",
            "\n",
            "    accuracy                           0.80       614\n",
            "   macro avg       0.78      0.77      0.78       614\n",
            "weighted avg       0.80      0.80      0.80       614\n",
            "\n"
          ]
        }
      ]
    },
    {
      "cell_type": "code",
      "source": [
        "cm_train = confusion_matrix(y_train,predict_train)\n",
        "print(cm_train)\n",
        "\n",
        "sensitivity_train = cm_train[0,0]/(cm_train[0,0]+cm_train[0,1])\n",
        "print('Sensitivity_train : ', sensitivity_train )\n",
        "\n",
        "specificity_train = cm_train[1,1]/(cm_train[1,0]+cm_train[1,1])\n",
        "print('Specificity_train : ', specificity_train)"
      ],
      "metadata": {
        "colab": {
          "base_uri": "https://localhost:8080/"
        },
        "outputId": "44e90109-2ae3-4282-a478-78df5409134c",
        "id": "UHtShKyNPl64"
      },
      "execution_count": null,
      "outputs": [
        {
          "output_type": "stream",
          "name": "stdout",
          "text": [
            "[[347  54]\n",
            " [ 69 144]]\n",
            "Sensitivity_train :  0.8653366583541147\n",
            "Specificity_train :  0.676056338028169\n"
          ]
        }
      ]
    },
    {
      "cell_type": "markdown",
      "source": [
        "# MODEL 4: CHANGE THRESHOLD TO INCREASE SPECIFICITY / RECALL CLASS 1 \n",
        "\n"
      ],
      "metadata": {
        "id": "T6HVp-U8WRww"
      }
    },
    {
      "cell_type": "code",
      "source": [
        "diabetes_prediction_data_M4=diabetes_prediction_data[[\"Glucose_new_2\"]+['BloodPressure_new_3']+['SkinThickness_new_3']+\n",
        "                                                    ['Insulin_new_3']+['BMI_new_2']+['DiabetesPedigreeFunction']+\n",
        "                                                  ['Pregnancies']+['Age']+['SkinThickness_ind']+['Insulin_ind']+['Outcome']] "
      ],
      "metadata": {
        "id": "pGJAFUXcWRwx"
      },
      "execution_count": null,
      "outputs": []
    },
    {
      "cell_type": "code",
      "metadata": {
        "id": "mco5Nqx7XtEV"
      },
      "source": [
        "import statsmodels.api as sm\n",
        "m1=sm.Logit(diabetes_prediction_data_M4['Outcome'],diabetes_prediction_data_M4[[\"Glucose_new_2\"]+['BloodPressure_new_3']\n",
        "                                                  +['SkinThickness_new_3']+['Insulin_new_3']+['BMI_new_2']\n",
        "                                                  +['DiabetesPedigreeFunction']+['Pregnancies']+['Age']\n",
        "                                                  +['SkinThickness_ind']+['Insulin_ind']]) \n",
        "m1.fit()\n",
        "results=m1.fit()\n",
        "print(results.summary())\n"
      ],
      "execution_count": null,
      "outputs": []
    },
    {
      "cell_type": "markdown",
      "source": [
        "DROP VARIABLES WITH HIGH P VALUE>0.05"
      ],
      "metadata": {
        "id": "2ZdN2ksgXlE9"
      }
    },
    {
      "cell_type": "code",
      "metadata": {
        "id": "dlHBh6AiWRwy"
      },
      "source": [
        "import statsmodels.api as sm\n",
        "m1=sm.Logit(diabetes_prediction_data_M4['Outcome'],diabetes_prediction_data_M4[[\"Glucose_new_2\"]+['BloodPressure_new_3']\n",
        "                                                  +['SkinThickness_new_3']+['BMI_new_2']\n",
        "                                                  +['DiabetesPedigreeFunction']+['Pregnancies']\n",
        "                                                  +['SkinThickness_ind']]) \n",
        "m1.fit()\n",
        "results=m1.fit()\n",
        "print(results.summary())\n"
      ],
      "execution_count": null,
      "outputs": []
    },
    {
      "cell_type": "code",
      "metadata": {
        "colab": {
          "base_uri": "https://localhost:8080/"
        },
        "outputId": "140ccffd-06c5-4d1b-aa7c-ac1eb57dbd13",
        "id": "5BDaE7ZXWRw0"
      },
      "source": [
        "#####Create the confusion matrix\n",
        "###predict the variable active customer from logistic fit####\n",
        "predictions = results.predict()\n",
        "print(predictions[0:10])\n",
        "len(predictions)"
      ],
      "execution_count": null,
      "outputs": [
        {
          "output_type": "stream",
          "name": "stdout",
          "text": [
            "[0.49779523 0.1111688  0.8858804  0.14016053 0.90961381 0.34090573\n",
            " 0.2818024  0.63076998 0.50912684 0.25859822]\n"
          ]
        },
        {
          "output_type": "execute_result",
          "data": {
            "text/plain": [
              "768"
            ]
          },
          "metadata": {},
          "execution_count": 242
        }
      ]
    },
    {
      "cell_type": "code",
      "metadata": {
        "colab": {
          "base_uri": "https://localhost:8080/"
        },
        "outputId": "4871d2b8-f17d-498f-b2f9-d3b504622a4b",
        "id": "KhnC28iIWRw2"
      },
      "source": [
        "###Sensitivity vs Specificity with Different Thresholds\n",
        "### Converting predicted values into classes using new threshold\n",
        "threshold=0.3\n",
        "predicted_class1=[ 0 if x < threshold else 1 for x in predictions]\n",
        "\n",
        "#Change in Confusion Matrix, Accuracy and Sensitivity-Specificity\n",
        "#Confusion matrix, Accuracy, sensitivity and specificity\n",
        "cm1 = confusion_matrix(diabetes_prediction_data_M4[\"Outcome\"],predicted_class1)\n",
        "print('Confusion Matrix : \\n', cm1)\n",
        "\n",
        "total1=sum(sum(cm1))\n",
        "#####from confusion matrix calculate accuracy\n",
        "accuracy1=(cm1[0,0]+cm1[1,1])/total1\n",
        "print ('Accuracy : ', accuracy1)\n",
        "\n",
        "sensitivity1 = cm1[0,0]/(cm1[0,0]+cm1[0,1])\n",
        "print('Sensitivity : ', sensitivity1 )\n",
        "\n",
        "specificity1 = cm1[1,1]/(cm1[1,0]+cm1[1,1])\n",
        "print('Specificity : ', specificity1)\n",
        "\n",
        "\n",
        "Precision_Class0 = cm1[0,0]/(cm1[0,0]+cm1[1,0])\n",
        "print('Precision_Class0 : ', Precision_Class0 )\n",
        "\n",
        "Recall_Class0 = cm1[0,0]/(cm1[0,0]+cm1[0,1])\n",
        "print('Recall_Class0 : ', Recall_Class0 )\n",
        "\n",
        "F1_Class0 = 2/((1/Precision_Class0)+(1/Recall_Class0))\n",
        "print('F1_Class0 : ', F1_Class0 )\n",
        "\n",
        "\n",
        "Precision_Class1 = cm1[1,1]/(cm1[0,1]+cm1[1,1])\n",
        "print('Precision_Class1 : ', Precision_Class1 )\n",
        "\n",
        "Recall_Class1 = cm1[1,1]/(cm1[1,0]+cm1[1,1])\n",
        "print('Recall_Class1 : ', Recall_Class1 )\n",
        "\n",
        "F1_Class1 = 2/((1/Precision_Class1)+(1/Recall_Class1))\n",
        "print('F1_Class1 : ', F1_Class1 )\n",
        "\n"
      ],
      "execution_count": null,
      "outputs": [
        {
          "output_type": "stream",
          "name": "stdout",
          "text": [
            "Confusion Matrix : \n",
            " [[282 218]\n",
            " [ 57 211]]\n",
            "Accuracy :  0.6419270833333334\n",
            "Sensitivity :  0.564\n",
            "Specificity :  0.7873134328358209\n",
            "Precision_Class0 :  0.831858407079646\n",
            "Recall_Class0 :  0.564\n",
            "F1_Class0 :  0.6722288438617401\n",
            "Precision_Class1 :  0.49184149184149184\n",
            "Recall_Class1 :  0.7873134328358209\n",
            "F1_Class1 :  0.60545193687231\n"
          ]
        }
      ]
    },
    {
      "cell_type": "markdown",
      "source": [
        "##FUNCTION TO PRINT REPORT WITH CHANGED THRESHOLD"
      ],
      "metadata": {
        "id": "LPdBFNqfWRw3"
      }
    },
    {
      "cell_type": "code",
      "source": [
        "from sklearn.metrics import classification_report\n",
        "print(classification_report(diabetes_prediction_data_M4[\"Outcome\"],predicted_class1))"
      ],
      "metadata": {
        "colab": {
          "base_uri": "https://localhost:8080/"
        },
        "outputId": "18bea376-4abf-46bb-c70d-93e5d4e67f0f",
        "id": "shnhvpMeWRw4"
      },
      "execution_count": null,
      "outputs": [
        {
          "output_type": "stream",
          "name": "stdout",
          "text": [
            "              precision    recall  f1-score   support\n",
            "\n",
            "           0       0.83      0.56      0.67       500\n",
            "           1       0.49      0.79      0.61       268\n",
            "\n",
            "    accuracy                           0.64       768\n",
            "   macro avg       0.66      0.68      0.64       768\n",
            "weighted avg       0.71      0.64      0.65       768\n",
            "\n"
          ]
        }
      ]
    },
    {
      "cell_type": "markdown",
      "source": [
        "#ADDITIONAL VALIDATION METHODS"
      ],
      "metadata": {
        "id": "z3RnZtw0Kmnb"
      }
    },
    {
      "cell_type": "markdown",
      "source": [
        "##ROC"
      ],
      "metadata": {
        "id": "0v3Tq0c_IJu0"
      }
    },
    {
      "cell_type": "code",
      "metadata": {
        "id": "AlOto3GF-iLQ"
      },
      "source": [
        "from sklearn.metrics import roc_curve, auc\n",
        "import matplotlib.pyplot as plt\n",
        "\n",
        "actual = diabetes_prediction_data_M2[\"Outcome\"]\n",
        "false_positive_rate, true_positive_rate, thresholds = roc_curve(actual, predictions)\n",
        "print(\"false_positive_rate\", false_positive_rate)\n",
        "print(\"true_positive_rate\", true_positive_rate)\n",
        "print(\"thresholds\", thresholds)"
      ],
      "execution_count": null,
      "outputs": []
    },
    {
      "cell_type": "code",
      "source": [
        "import matplotlib.pyplot as plt\n",
        "plt.title('ROC Curve')\n",
        "#Drawing ROC Curve\n",
        "plt.plot(false_positive_rate, true_positive_rate)\n",
        "\n",
        "#X and Y  Axis Limits \n",
        "plt.xlim([-0,1])\n",
        "plt.ylim([-0,1])\n",
        "\n",
        "# Labels \n",
        "plt.ylabel('True Positive Rate(Sensitivity)')\n",
        "plt.xlabel('False Positive Rate(Specificity)')\n",
        "plt.show()"
      ],
      "metadata": {
        "id": "3z7X_qyOOHN2",
        "colab": {
          "base_uri": "https://localhost:8080/",
          "height": 472
        },
        "outputId": "f8376601-07cb-45d8-80b7-f0e61ccc4d8c"
      },
      "execution_count": null,
      "outputs": [
        {
          "output_type": "display_data",
          "data": {
            "text/plain": [
              "<Figure size 640x480 with 1 Axes>"
            ],
            "image/png": "[encoded data removed]"
          },
          "metadata": {}
        }
      ]
    },
    {
      "cell_type": "markdown",
      "source": [
        "##AUC"
      ],
      "metadata": {
        "id": "v8mtT8sPI8gn"
      }
    },
    {
      "cell_type": "code",
      "metadata": {
        "id": "Qqp-5-3mAAzi",
        "colab": {
          "base_uri": "https://localhost:8080/"
        },
        "outputId": "16b0237d-dd8f-47a5-ac36-5425d4311c78"
      },
      "source": [
        "roc_auc = auc(false_positive_rate, true_positive_rate)\n",
        "roc_auc"
      ],
      "execution_count": null,
      "outputs": [
        {
          "output_type": "execute_result",
          "data": {
            "text/plain": [
              "0.7491791044776119"
            ]
          },
          "metadata": {},
          "execution_count": 320
        }
      ]
    },
    {
      "cell_type": "markdown",
      "metadata": {
        "id": "Z4P3Tbhjwi47"
      },
      "source": [
        "# HANDLING CLASS IMBALANCE"
      ]
    },
    {
      "cell_type": "code",
      "source": [
        "diabetes_prediction_data_M2.info()"
      ],
      "metadata": {
        "colab": {
          "base_uri": "https://localhost:8080/"
        },
        "id": "9w2D6DJDcqhH",
        "outputId": "35f8499f-eb31-490e-bfba-1bdb1c1f2c08"
      },
      "execution_count": null,
      "outputs": [
        {
          "output_type": "stream",
          "name": "stdout",
          "text": [
            "<class 'pandas.core.frame.DataFrame'>\n",
            "RangeIndex: 768 entries, 0 to 767\n",
            "Data columns (total 11 columns):\n",
            " #   Column                    Non-Null Count  Dtype  \n",
            "---  ------                    --------------  -----  \n",
            " 0   Glucose_new_2             768 non-null    float64\n",
            " 1   BloodPressure_new_3       768 non-null    float64\n",
            " 2   SkinThickness_new_3       768 non-null    float64\n",
            " 3   Insulin_new_3             768 non-null    float64\n",
            " 4   BMI_new_2                 768 non-null    float64\n",
            " 5   DiabetesPedigreeFunction  768 non-null    float64\n",
            " 6   Pregnancies               768 non-null    int64  \n",
            " 7   Age                       768 non-null    int64  \n",
            " 8   SkinThickness_ind         768 non-null    int64  \n",
            " 9   Insulin_ind               768 non-null    int64  \n",
            " 10  Outcome                   768 non-null    int64  \n",
            "dtypes: float64(6), int64(5)\n",
            "memory usage: 66.1 KB\n"
          ]
        }
      ]
    },
    {
      "cell_type": "code",
      "metadata": {
        "id": "t9Bo2p2aIz0g",
        "colab": {
          "base_uri": "https://localhost:8080/"
        },
        "outputId": "bdbf37f6-25f4-4cf3-9ca5-594604e86183"
      },
      "source": [
        "print(\"Actual Data :\", diabetes_prediction_data_M2.shape)\n",
        "\n",
        "#Frequency count on target column\n",
        "freq=diabetes_prediction_data_M2['Outcome'].value_counts()\n",
        "print(freq)\n",
        "print((freq/freq.sum())*100)\n",
        "\n",
        "#Classwise data\n",
        "Non_diabetic_class0 = diabetes_prediction_data_M2[diabetes_prediction_data_M2['Outcome'] == 0]\n",
        "Non_diabetic_class1 = diabetes_prediction_data_M2[diabetes_prediction_data_M2['Outcome'] == 1]\n",
        "\n",
        "print(\"Class0 Actual :\", Non_diabetic_class0.shape)\n",
        "print(\"Class1 Actual  :\", Non_diabetic_class1.shape)\n"
      ],
      "execution_count": null,
      "outputs": [
        {
          "output_type": "stream",
          "name": "stdout",
          "text": [
            "Actual Data : (768, 11)\n",
            "0    500\n",
            "1    268\n",
            "Name: Outcome, dtype: int64\n",
            "0    65.104167\n",
            "1    34.895833\n",
            "Name: Outcome, dtype: float64\n",
            "Class0 Actual : (500, 11)\n",
            "Class1 Actual  : (268, 11)\n"
          ]
        }
      ]
    },
    {
      "cell_type": "markdown",
      "metadata": {
        "id": "vov3DqY5Ji3q"
      },
      "source": [
        "#MODEL 5: Undersampling and Oversampling"
      ]
    },
    {
      "cell_type": "code",
      "metadata": {
        "id": "nUSlfFAMJmA8",
        "colab": {
          "base_uri": "https://localhost:8080/"
        },
        "outputId": "d7e01b3d-b777-4f89-b70a-ada3ff464885"
      },
      "source": [
        "##Undersampling of class-0\n",
        "## Consider half of class-0\n",
        "Non_diabetic_class0_under = Non_diabetic_class0.sample(int(.75*len(Non_diabetic_class0)))\n",
        "print(\"Class0 Undersample :\", Non_diabetic_class0_under.shape)\n",
        "\n",
        "##Oversampling of Class-1 \n",
        "# Lets increase the size by four times\n",
        "Non_diabetic_class1_over = Non_diabetic_class1.sample(int(1.4*len(Non_diabetic_class1)),replace=True)\n",
        "print(\"Class1 Oversample :\", Non_diabetic_class1_over.shape)\n",
        "\n",
        "#Concatenate to create the final balanced data\n",
        "data_balanced=pd.concat([Non_diabetic_class0_under,Non_diabetic_class1_over])\n",
        "print(\"Final Balannced Data :\", data_balanced.shape)\n",
        "\n",
        "#Frequency count on target column in the balanced data\n",
        "freq=data_balanced['Outcome'].value_counts()\n",
        "print(freq)\n",
        "print((freq/freq.sum())*100)\n"
      ],
      "execution_count": null,
      "outputs": [
        {
          "output_type": "stream",
          "name": "stdout",
          "text": [
            "Class0 Undersample : (375, 11)\n",
            "Class1 Oversample : (375, 11)\n",
            "Final Balannced Data : (750, 11)\n",
            "0    375\n",
            "1    375\n",
            "Name: Outcome, dtype: int64\n",
            "0    50.0\n",
            "1    50.0\n",
            "Name: Outcome, dtype: float64\n"
          ]
        }
      ]
    },
    {
      "cell_type": "markdown",
      "metadata": {
        "id": "BfFSo7i9KLI1"
      },
      "source": [
        "### Model with balanced data"
      ]
    },
    {
      "cell_type": "code",
      "metadata": {
        "colab": {
          "base_uri": "https://localhost:8080/"
        },
        "id": "mRsu5zthdanR",
        "outputId": "7760cac5-9fc8-456c-f6bd-3d14012efe5b"
      },
      "source": [
        "import statsmodels.api as sm\n",
        "m1=sm.Logit(data_balanced['Outcome'],data_balanced[[\"Glucose_new_2\"]+['BloodPressure_new_3']\n",
        "                                                  +['SkinThickness_new_3']+['Insulin_new_3']+['BMI_new_2']\n",
        "                                                  +['DiabetesPedigreeFunction']+['Pregnancies']+['Age']\n",
        "                                                  +['SkinThickness_ind']+['Insulin_ind']]) \n",
        "m1.fit()\n",
        "results=m1.fit()\n",
        "print(results.summary())\n"
      ],
      "execution_count": null,
      "outputs": [
        {
          "output_type": "stream",
          "name": "stdout",
          "text": [
            "Optimization terminated successfully.\n",
            "         Current function value: 0.583174\n",
            "         Iterations 5\n",
            "Optimization terminated successfully.\n",
            "         Current function value: 0.583174\n",
            "         Iterations 5\n",
            "                           Logit Regression Results                           \n",
            "==============================================================================\n",
            "Dep. Variable:                Outcome   No. Observations:                  750\n",
            "Model:                          Logit   Df Residuals:                      740\n",
            "Method:                           MLE   Df Model:                            9\n",
            "Date:                Tue, 04 Apr 2023   Pseudo R-squ.:                  0.1587\n",
            "Time:                        10:25:16   Log-Likelihood:                -437.38\n",
            "converged:                       True   LL-Null:                       -519.86\n",
            "Covariance Type:            nonrobust   LLR p-value:                 6.914e-31\n",
            "============================================================================================\n",
            "                               coef    std err          z      P>|z|      [0.025      0.975]\n",
            "--------------------------------------------------------------------------------------------\n",
            "Glucose_new_2                0.0226      0.003      7.015      0.000       0.016       0.029\n",
            "BloodPressure_new_3         -0.0579      0.008     -7.686      0.000      -0.073      -0.043\n",
            "SkinThickness_new_3         -0.0527      0.013     -4.021      0.000      -0.078      -0.027\n",
            "Insulin_new_3                0.0007      0.001      0.465      0.642      -0.002       0.003\n",
            "BMI_new_2                    0.0717      0.015      4.639      0.000       0.041       0.102\n",
            "DiabetesPedigreeFunction     0.4475      0.267      1.678      0.093      -0.075       0.970\n",
            "Pregnancies                  0.1480      0.030      4.889      0.000       0.089       0.207\n",
            "Age                          0.0062      0.009      0.703      0.482      -0.011       0.024\n",
            "SkinThickness_ind           -0.3511      0.235     -1.495      0.135      -0.811       0.109\n",
            "Insulin_ind                 -0.5022      0.221     -2.270      0.023      -0.936      -0.069\n",
            "============================================================================================\n"
          ]
        }
      ]
    },
    {
      "cell_type": "markdown",
      "source": [
        "DROP VARIABLES WITH HIGH P VALUE>0.05"
      ],
      "metadata": {
        "id": "fV65W181danS"
      }
    },
    {
      "cell_type": "code",
      "metadata": {
        "colab": {
          "base_uri": "https://localhost:8080/"
        },
        "outputId": "30831400-8463-4c85-8973-6ff1a69a9837",
        "id": "biIouv-3ecNi"
      },
      "source": [
        "import statsmodels.api as sm\n",
        "m1=sm.Logit(data_balanced['Outcome'],data_balanced[[\"Glucose_new_2\"]+['BloodPressure_new_3']\n",
        "                                                  +['BMI_new_2']\n",
        "                                                  +['Pregnancies']\n",
        "                                                  +['SkinThickness_ind']]) \n",
        "m1.fit()\n",
        "results=m1.fit()\n",
        "print(results.summary())\n"
      ],
      "execution_count": null,
      "outputs": [
        {
          "output_type": "stream",
          "name": "stdout",
          "text": [
            "Optimization terminated successfully.\n",
            "         Current function value: 0.599273\n",
            "         Iterations 5\n",
            "Optimization terminated successfully.\n",
            "         Current function value: 0.599273\n",
            "         Iterations 5\n",
            "                           Logit Regression Results                           \n",
            "==============================================================================\n",
            "Dep. Variable:                Outcome   No. Observations:                  750\n",
            "Model:                          Logit   Df Residuals:                      745\n",
            "Method:                           MLE   Df Model:                            4\n",
            "Date:                Tue, 04 Apr 2023   Pseudo R-squ.:                  0.1354\n",
            "Time:                        10:26:23   Log-Likelihood:                -449.45\n",
            "converged:                       True   LL-Null:                       -519.86\n",
            "Covariance Type:            nonrobust   LLR p-value:                 1.892e-29\n",
            "=======================================================================================\n",
            "                          coef    std err          z      P>|z|      [0.025      0.975]\n",
            "---------------------------------------------------------------------------------------\n",
            "Glucose_new_2           0.0218      0.003      7.640      0.000       0.016       0.027\n",
            "BloodPressure_new_3    -0.0566      0.007     -8.240      0.000      -0.070      -0.043\n",
            "BMI_new_2               0.0399      0.013      3.132      0.002       0.015       0.065\n",
            "Pregnancies             0.1484      0.025      5.824      0.000       0.098       0.198\n",
            "SkinThickness_ind      -0.5765      0.178     -3.235      0.001      -0.926      -0.227\n",
            "=======================================================================================\n"
          ]
        }
      ]
    },
    {
      "cell_type": "code",
      "metadata": {
        "colab": {
          "base_uri": "https://localhost:8080/"
        },
        "outputId": "c09c70eb-a84c-46f1-e70f-266a122303ac",
        "id": "94ebrSGfqfIm"
      },
      "source": [
        "# Wald Chi-square value\n",
        "abs(m1.fit().tvalues).sort_values(ascending=False)"
      ],
      "execution_count": null,
      "outputs": [
        {
          "output_type": "stream",
          "name": "stdout",
          "text": [
            "Optimization terminated successfully.\n",
            "         Current function value: 0.599273\n",
            "         Iterations 5\n"
          ]
        },
        {
          "output_type": "execute_result",
          "data": {
            "text/plain": [
              "BloodPressure_new_3    8.240260\n",
              "Glucose_new_2          7.639921\n",
              "Pregnancies            5.823629\n",
              "SkinThickness_ind      3.234693\n",
              "BMI_new_2              3.132244\n",
              "dtype: float64"
            ]
          },
          "metadata": {},
          "execution_count": 432
        }
      ]
    },
    {
      "cell_type": "markdown",
      "metadata": {
        "id": "fFlqLuCeKtly"
      },
      "source": [
        "#### UPDATED ACCURACY, SENSTIVITY & SPECIFICITY"
      ]
    },
    {
      "cell_type": "code",
      "metadata": {
        "id": "LTj8IVjLKtCF",
        "colab": {
          "base_uri": "https://localhost:8080/"
        },
        "outputId": "07a87035-06af-4fd6-d8f6-e3bdb95caec0"
      },
      "source": [
        "#####Create the confusion matrix\n",
        "###predict the variable active customer from logistic fit####\n",
        "predictions = results.predict()\n",
        "threshold=0.5\n",
        "predicted_class1=[ 0 if x < threshold else 1 for x in predictions]\n",
        "\n",
        "#Change in Confusion Matrix, Accuracy and Sensitivity-Specificity\n",
        "#Confusion matrix, Accuracy, sensitivity and specificity\n",
        "cm1 = confusion_matrix(data_balanced[\"Outcome\"],predicted_class1)\n",
        "print('Confusion Matrix : \\n', cm1)\n",
        "\n",
        "total1=sum(sum(cm1))\n",
        "#####from confusion matrix calculate accuracy\n",
        "accuracy1=(cm1[0,0]+cm1[1,1])/total1\n",
        "print ('Accuracy : ', accuracy1)\n",
        "\n",
        "sensitivity1 = cm1[0,0]/(cm1[0,0]+cm1[0,1])\n",
        "print('Sensitivity : ', sensitivity1 )\n",
        "\n",
        "specificity1 = cm1[1,1]/(cm1[1,0]+cm1[1,1])\n",
        "print('Specificity : ', specificity1)\n",
        "\n",
        "\n",
        "Precision_Class0 = cm1[0,0]/(cm1[0,0]+cm1[1,0])\n",
        "print('Precision_Class0 : ', Precision_Class0 )\n",
        "\n",
        "Recall_Class0 = cm1[0,0]/(cm1[0,0]+cm1[0,1])\n",
        "print('Recall_Class0 : ', Recall_Class0 )\n",
        "\n",
        "F1_Class0 = 2/((1/Precision_Class0)+(1/Recall_Class0))\n",
        "print('F1_Class0 : ', F1_Class0 )\n",
        "\n",
        "\n",
        "Precision_Class1 = cm1[1,1]/(cm1[0,1]+cm1[1,1])\n",
        "print('Precision_Class1 : ', Precision_Class1 )\n",
        "\n",
        "Recall_Class1 = cm1[1,1]/(cm1[1,0]+cm1[1,1])\n",
        "print('Recall_Class1 : ', Recall_Class1 )\n",
        "\n",
        "F1_Class1 = 2/((1/Precision_Class1)+(1/Recall_Class1))\n",
        "print('F1_Class1 : ', F1_Class1 )"
      ],
      "execution_count": null,
      "outputs": [
        {
          "output_type": "stream",
          "name": "stdout",
          "text": [
            "Confusion Matrix : \n",
            " [[246 129]\n",
            " [111 264]]\n",
            "Accuracy :  0.68\n",
            "Sensitivity :  0.656\n",
            "Specificity :  0.704\n",
            "Precision_Class0 :  0.6890756302521008\n",
            "Recall_Class0 :  0.656\n",
            "F1_Class0 :  0.6721311475409836\n",
            "Precision_Class1 :  0.6717557251908397\n",
            "Recall_Class1 :  0.704\n",
            "F1_Class1 :  0.6875\n"
          ]
        }
      ]
    },
    {
      "cell_type": "markdown",
      "metadata": {
        "id": "t9SuaBYCLhYX"
      },
      "source": [
        "#### UPDATED CLASSIFICATION REPORT"
      ]
    },
    {
      "cell_type": "code",
      "metadata": {
        "id": "ukVzaIqWNwXr",
        "colab": {
          "base_uri": "https://localhost:8080/"
        },
        "outputId": "c77bb894-e569-41a8-8933-50152ea15010"
      },
      "source": [
        "from sklearn.metrics import classification_report\n",
        "print(classification_report(data_balanced[\"Outcome\"],predicted_class1))"
      ],
      "execution_count": null,
      "outputs": [
        {
          "output_type": "stream",
          "name": "stdout",
          "text": [
            "              precision    recall  f1-score   support\n",
            "\n",
            "           0       0.70      0.67      0.68       375\n",
            "           1       0.68      0.71      0.70       375\n",
            "\n",
            "    accuracy                           0.69       750\n",
            "   macro avg       0.69      0.69      0.69       750\n",
            "weighted avg       0.69      0.69      0.69       750\n",
            "\n"
          ]
        }
      ]
    },
    {
      "cell_type": "markdown",
      "source": [
        "#MODEL 6 SMOTE for Handling Class Imbalance"
      ],
      "metadata": {
        "id": "F4NFdz9tT3DV"
      }
    },
    {
      "cell_type": "code",
      "source": [
        "diabetes_prediction_data_M2.info()"
      ],
      "metadata": {
        "id": "VdEJ4ZAygZ5c"
      },
      "execution_count": null,
      "outputs": []
    },
    {
      "cell_type": "code",
      "source": [
        "print(\"Actual Data :\", diabetes_prediction_data_M2.shape)\n",
        "\n",
        "#Frequency count on target column\n",
        "freq=diabetes_prediction_data_M2['Outcome'].value_counts()\n",
        "print(freq)\n",
        "print((freq/freq.sum())*100)\n",
        "\n",
        "#Classwise data\n",
        "Non_diabetic_class0 = diabetes_prediction_data_M2[diabetes_prediction_data_M2['Outcome'] == 0]\n",
        "Non_diabetic_class1 = diabetes_prediction_data_M2[diabetes_prediction_data_M2['Outcome'] == 1]\n",
        "\n",
        "print(\"Class0 Actual :\", Non_diabetic_class0.shape)\n",
        "print(\"Class1 Actual  :\", Non_diabetic_class1.shape)\n",
        "\n",
        "\n"
      ],
      "metadata": {
        "id": "M5P5xf7aT8Jj",
        "colab": {
          "base_uri": "https://localhost:8080/"
        },
        "outputId": "71ae5312-72a6-4899-8560-64b2d4edc17c"
      },
      "execution_count": null,
      "outputs": [
        {
          "output_type": "stream",
          "name": "stdout",
          "text": [
            "Actual Data : (768, 11)\n",
            "0    500\n",
            "1    268\n",
            "Name: Outcome, dtype: int64\n",
            "0    65.104167\n",
            "1    34.895833\n",
            "Name: Outcome, dtype: float64\n",
            "Class0 Actual : (500, 11)\n",
            "Class1 Actual  : (268, 11)\n"
          ]
        }
      ]
    },
    {
      "cell_type": "markdown",
      "source": [
        "### Visulaizing Imbalanced Data"
      ],
      "metadata": {
        "id": "Du8j76EjVsde"
      }
    },
    {
      "cell_type": "code",
      "source": [
        "import matplotlib.pyplot as plt\n",
        "data=diabetes_prediction_data_M2.sample(500)\n",
        "fig = plt.figure()\n",
        "ax1 = fig.add_subplot(111)\n",
        "\n",
        "var1=\"Glucose_new_2\"\n",
        "var2=\"BloodPressure_new_3\"\n",
        "\n",
        "ax1.scatter(data[var1][data.Outcome==0],data[var2][data.Outcome==0], s=50, c='b', marker=\"o\", label='0 Good')\n",
        "ax1.scatter(data[var1][data.Outcome==1],data[var2][data.Outcome==1], s=50, c='r', marker=\"o\", label='1 Bad')\n",
        "\n",
        "plt.xlim(min(data[var1]), max(data[var1]))\n",
        "plt.ylim(min(data[var2]), max(data[var2]))\n",
        "plt.legend(loc='upper left');\n",
        "\n",
        "plt.show()"
      ],
      "metadata": {
        "id": "KULDKjibT8R6",
        "colab": {
          "base_uri": "https://localhost:8080/",
          "height": 430
        },
        "outputId": "ddf42cb3-1dc1-4269-cf7c-61209b7feb92"
      },
      "execution_count": null,
      "outputs": [
        {
          "output_type": "display_data",
          "data": {
            "text/plain": [
              "<Figure size 640x480 with 1 Axes>"
            ],
            "image/png": "[encoded data removed]"
          },
          "metadata": {}
        }
      ]
    },
    {
      "cell_type": "markdown",
      "source": [
        "## SMOTE Function"
      ],
      "metadata": {
        "id": "W4ibQiKgdBxh"
      }
    },
    {
      "cell_type": "markdown",
      "source": [
        "iloc [ rows,columns]"
      ],
      "metadata": {
        "id": "xq4LIENqJ5p9"
      }
    },
    {
      "cell_type": "code",
      "source": [
        "print(diabetes_prediction_data_M2.columns)\n",
        "X_train=diabetes_prediction_data_M2.iloc[:,:10]\n",
        "y_train=diabetes_prediction_data_M2[\"Outcome\"]\n",
        "print(X_train.shape)\n",
        "print(y_train.shape)\n",
        "\n",
        "print(X_train.columns)"
      ],
      "metadata": {
        "colab": {
          "base_uri": "https://localhost:8080/"
        },
        "id": "NQblcbLvHanS",
        "outputId": "3af701bb-907a-4c4f-9b23-06c2ee444fb1"
      },
      "execution_count": null,
      "outputs": [
        {
          "output_type": "stream",
          "name": "stdout",
          "text": [
            "Index(['Glucose_new_2', 'BloodPressure_new_3', 'SkinThickness_new_3',\n",
            "       'Insulin_new_3', 'BMI_new_2', 'DiabetesPedigreeFunction', 'Pregnancies',\n",
            "       'Age', 'SkinThickness_ind', 'Insulin_ind', 'Outcome'],\n",
            "      dtype='object')\n",
            "(768, 10)\n",
            "(768,)\n",
            "Index(['Glucose_new_2', 'BloodPressure_new_3', 'SkinThickness_new_3',\n",
            "       'Insulin_new_3', 'BMI_new_2', 'DiabetesPedigreeFunction', 'Pregnancies',\n",
            "       'Age', 'SkinThickness_ind', 'Insulin_ind'],\n",
            "      dtype='object')\n"
          ]
        }
      ]
    },
    {
      "cell_type": "code",
      "source": [
        "from imblearn.over_sampling import SMOTE \n",
        "smote = SMOTE(random_state = 2)\n",
        "X_train_smote, y_train_smote = smote.fit_resample(X_train, y_train)\n",
        "\n",
        "import collections\n",
        "print(\"Before SMOTE\", collections.Counter(y_train))\n",
        "print(\"After SMOTE\", collections.Counter(y_train_smote))"
      ],
      "metadata": {
        "id": "x0ph6b_PT8cc",
        "colab": {
          "base_uri": "https://localhost:8080/"
        },
        "outputId": "4dd996c9-2694-41cb-8b4b-30597a99cbb5"
      },
      "execution_count": null,
      "outputs": [
        {
          "output_type": "stream",
          "name": "stdout",
          "text": [
            "Before SMOTE Counter({0: 500, 1: 268})\n",
            "After SMOTE Counter({1: 500, 0: 500})\n"
          ]
        }
      ]
    },
    {
      "cell_type": "markdown",
      "source": [
        "### Mention the sample size"
      ],
      "metadata": {
        "id": "ni8Z5UKceUDB"
      }
    },
    {
      "cell_type": "code",
      "source": [
        "from imblearn.over_sampling import SMOTE \n",
        "smote = SMOTE(sampling_strategy=0.8, random_state = 2)\n",
        "X_train_smote, y_train_smote = smote.fit_resample(X_train, y_train)\n",
        "\n",
        "import collections\n",
        "print(\"Before SMOTE\", collections.Counter(y_train))\n",
        "print(\"After SMOTE\", collections.Counter(y_train_smote))"
      ],
      "metadata": {
        "id": "WFuMOrxAeR-A",
        "colab": {
          "base_uri": "https://localhost:8080/"
        },
        "outputId": "d4954120-3fef-4d48-9f79-519f3e2dc458"
      },
      "execution_count": null,
      "outputs": [
        {
          "output_type": "stream",
          "name": "stdout",
          "text": [
            "Before SMOTE Counter({0: 500, 1: 268})\n",
            "After SMOTE Counter({0: 500, 1: 400})\n"
          ]
        }
      ]
    },
    {
      "cell_type": "code",
      "source": [
        "data_smote=X_train_smote\n",
        "data_smote[\"Outcome\"]=y_train_smote"
      ],
      "metadata": {
        "id": "nNkR0dOkg1rx"
      },
      "execution_count": null,
      "outputs": []
    },
    {
      "cell_type": "markdown",
      "source": [
        "### Visulaizing balanced data after SMOTE"
      ],
      "metadata": {
        "id": "MECOs798hgXo"
      }
    },
    {
      "cell_type": "code",
      "source": [
        "import matplotlib.pyplot as plt\n",
        "data=data_smote.sample(500)\n",
        "fig = plt.figure()\n",
        "ax1 = fig.add_subplot(111)\n",
        "\n",
        "var1=\"Glucose_new_2\"\n",
        "var2=\"BloodPressure_new_3\"\n",
        "\n",
        "ax1.scatter(data[var1][data.Outcome==0],data[var2][data.Outcome==0], s=50, c='b', marker=\"o\", label='0 Good')\n",
        "ax1.scatter(data[var1][data.Outcome==1],data[var2][data.Outcome==1], s=50, c='r', marker=\"o\", label='1 Bad')\n",
        "\n",
        "plt.xlim(min(data[var1]), max(data[var1]))\n",
        "plt.ylim(min(data[var2]), max(data[var2]))\n",
        "plt.legend(loc='upper left');\n",
        "\n",
        "plt.show()"
      ],
      "metadata": {
        "id": "E6Yu8p6FUG_Q"
      },
      "execution_count": null,
      "outputs": []
    },
    {
      "cell_type": "code",
      "source": [
        "data_smote.info()"
      ],
      "metadata": {
        "colab": {
          "base_uri": "https://localhost:8080/"
        },
        "id": "VcahS51OjEJp",
        "outputId": "d2ff1b47-b12d-42d6-9cfc-0a11f8bedeb9"
      },
      "execution_count": null,
      "outputs": [
        {
          "output_type": "stream",
          "name": "stdout",
          "text": [
            "<class 'pandas.core.frame.DataFrame'>\n",
            "RangeIndex: 900 entries, 0 to 899\n",
            "Data columns (total 11 columns):\n",
            " #   Column                    Non-Null Count  Dtype  \n",
            "---  ------                    --------------  -----  \n",
            " 0   Glucose_new_2             900 non-null    float64\n",
            " 1   BloodPressure_new_3       900 non-null    float64\n",
            " 2   SkinThickness_new_3       900 non-null    float64\n",
            " 3   Insulin_new_3             900 non-null    float64\n",
            " 4   BMI_new_2                 900 non-null    float64\n",
            " 5   DiabetesPedigreeFunction  900 non-null    float64\n",
            " 6   Pregnancies               900 non-null    int64  \n",
            " 7   Age                       900 non-null    int64  \n",
            " 8   SkinThickness_ind         900 non-null    int64  \n",
            " 9   Insulin_ind               900 non-null    int64  \n",
            " 10  Outcome                   900 non-null    int64  \n",
            "dtypes: float64(6), int64(5)\n",
            "memory usage: 77.5 KB\n"
          ]
        }
      ]
    },
    {
      "cell_type": "code",
      "source": [
        "data_smote['Outcome'].value_counts()"
      ],
      "metadata": {
        "colab": {
          "base_uri": "https://localhost:8080/"
        },
        "id": "mFBk1BBKkwj3",
        "outputId": "d64aaeb4-88d1-405a-c3c8-8d904a73dbe2"
      },
      "execution_count": null,
      "outputs": [
        {
          "output_type": "execute_result",
          "data": {
            "text/plain": [
              "0    500\n",
              "1    400\n",
              "Name: Outcome, dtype: int64"
            ]
          },
          "metadata": {},
          "execution_count": 397
        }
      ]
    },
    {
      "cell_type": "markdown",
      "metadata": {
        "id": "erq7PH1Fh5A5"
      },
      "source": [
        "### Model with balanced data - SMOTE"
      ]
    },
    {
      "cell_type": "code",
      "metadata": {
        "colab": {
          "base_uri": "https://localhost:8080/"
        },
        "id": "-rKXnhKfYCN4",
        "outputId": "1dd7b79b-857c-41cd-8835-369270471d00"
      },
      "source": [
        "import statsmodels.api as sm\n",
        "\n",
        "m1=sm.Logit(data_smote['Outcome'],data_smote[[\"Glucose_new_2\"]+['BloodPressure_new_3']+['SkinThickness_new_3']+\n",
        "                                             ['Insulin_new_3']+['BMI_new_2']+['DiabetesPedigreeFunction']+\n",
        "                                             ['Pregnancies'] +['Age']+['SkinThickness_ind']+['Insulin_ind']]) \n",
        "                                           \n",
        "m1.fit()\n",
        "results=m1.fit()\n",
        "print(results.summary())\n"
      ],
      "execution_count": null,
      "outputs": [
        {
          "output_type": "stream",
          "name": "stdout",
          "text": [
            "Optimization terminated successfully.\n",
            "         Current function value: 0.556912\n",
            "         Iterations 6\n",
            "Optimization terminated successfully.\n",
            "         Current function value: 0.556912\n",
            "         Iterations 6\n",
            "                           Logit Regression Results                           \n",
            "==============================================================================\n",
            "Dep. Variable:                Outcome   No. Observations:                  900\n",
            "Model:                          Logit   Df Residuals:                      890\n",
            "Method:                           MLE   Df Model:                            9\n",
            "Date:                Tue, 04 Apr 2023   Pseudo R-squ.:                  0.1893\n",
            "Time:                        09:32:08   Log-Likelihood:                -501.22\n",
            "converged:                       True   LL-Null:                       -618.27\n",
            "Covariance Type:            nonrobust   LLR p-value:                 2.264e-45\n",
            "============================================================================================\n",
            "                               coef    std err          z      P>|z|      [0.025      0.975]\n",
            "--------------------------------------------------------------------------------------------\n",
            "Glucose_new_2                0.0279      0.003      8.934      0.000       0.022       0.034\n",
            "BloodPressure_new_3         -0.0642      0.007     -8.925      0.000      -0.078      -0.050\n",
            "SkinThickness_new_3         -0.0295      0.013     -2.312      0.021      -0.055      -0.004\n",
            "Insulin_new_3             1.246e-05      0.001      0.010      0.992      -0.002       0.002\n",
            "BMI_new_2                    0.0611      0.015      4.160      0.000       0.032       0.090\n",
            "DiabetesPedigreeFunction     0.7890      0.258      3.057      0.002       0.283       1.295\n",
            "Pregnancies                  0.1462      0.029      5.097      0.000       0.090       0.202\n",
            "Age                         -0.0106      0.009     -1.236      0.216      -0.028       0.006\n",
            "SkinThickness_ind           -0.7899      0.223     -3.547      0.000      -1.226      -0.353\n",
            "Insulin_ind                 -0.4644      0.218     -2.133      0.033      -0.891      -0.038\n",
            "============================================================================================\n"
          ]
        }
      ]
    },
    {
      "cell_type": "markdown",
      "source": [
        "DROP VARIBALES WITH HIGH P VALUE"
      ],
      "metadata": {
        "id": "gDyo27bAkGQh"
      }
    },
    {
      "cell_type": "code",
      "metadata": {
        "colab": {
          "base_uri": "https://localhost:8080/"
        },
        "outputId": "09840895-7e34-42eb-b65a-6f465fb940fe",
        "id": "2O3qyDFbnD4x"
      },
      "source": [
        "import statsmodels.api as sm\n",
        "\n",
        "m1=sm.Logit(data_smote['Outcome'],data_smote[[\"Glucose_new_2\"]+['BloodPressure_new_3']+['SkinThickness_new_3']+\n",
        "                                            ['BMI_new_2']+['DiabetesPedigreeFunction']+\n",
        "                                             ['Pregnancies'] +['SkinThickness_ind']+['Insulin_ind']]) \n",
        "                                           \n",
        "m1.fit()\n",
        "results=m1.fit()\n",
        "print(results.summary())\n"
      ],
      "execution_count": null,
      "outputs": [
        {
          "output_type": "stream",
          "name": "stdout",
          "text": [
            "Optimization terminated successfully.\n",
            "         Current function value: 0.557766\n",
            "         Iterations 6\n",
            "Optimization terminated successfully.\n",
            "         Current function value: 0.557766\n",
            "         Iterations 6\n",
            "                           Logit Regression Results                           \n",
            "==============================================================================\n",
            "Dep. Variable:                Outcome   No. Observations:                  900\n",
            "Model:                          Logit   Df Residuals:                      892\n",
            "Method:                           MLE   Df Model:                            7\n",
            "Date:                Tue, 04 Apr 2023   Pseudo R-squ.:                  0.1881\n",
            "Time:                        10:19:44   Log-Likelihood:                -501.99\n",
            "converged:                       True   LL-Null:                       -618.27\n",
            "Covariance Type:            nonrobust   LLR p-value:                 1.424e-46\n",
            "============================================================================================\n",
            "                               coef    std err          z      P>|z|      [0.025      0.975]\n",
            "--------------------------------------------------------------------------------------------\n",
            "Glucose_new_2                0.0271      0.003      9.505      0.000       0.022       0.033\n",
            "BloodPressure_new_3         -0.0672      0.007     -9.891      0.000      -0.081      -0.054\n",
            "SkinThickness_new_3         -0.0301      0.013     -2.375      0.018      -0.055      -0.005\n",
            "BMI_new_2                    0.0629      0.015      4.301      0.000       0.034       0.092\n",
            "DiabetesPedigreeFunction     0.7575      0.256      2.964      0.003       0.257       1.258\n",
            "Pregnancies                  0.1287      0.025      5.205      0.000       0.080       0.177\n",
            "SkinThickness_ind           -0.7729      0.222     -3.487      0.000      -1.207      -0.338\n",
            "Insulin_ind                 -0.4556      0.215     -2.117      0.034      -0.877      -0.034\n",
            "============================================================================================\n"
          ]
        }
      ]
    },
    {
      "cell_type": "code",
      "metadata": {
        "colab": {
          "base_uri": "https://localhost:8080/"
        },
        "outputId": "01deda04-3289-4dac-b297-e7eb8582d68d",
        "id": "jFekiGpCozZL"
      },
      "source": [
        "# Wald Chi-square value\n",
        "abs(m1.fit().tvalues).sort_values(ascending=False)"
      ],
      "execution_count": null,
      "outputs": [
        {
          "output_type": "stream",
          "name": "stdout",
          "text": [
            "Optimization terminated successfully.\n",
            "         Current function value: 0.557766\n",
            "         Iterations 6\n"
          ]
        },
        {
          "output_type": "execute_result",
          "data": {
            "text/plain": [
              "BloodPressure_new_3         9.891080\n",
              "Glucose_new_2               9.504597\n",
              "Pregnancies                 5.204570\n",
              "BMI_new_2                   4.301367\n",
              "SkinThickness_ind           3.486691\n",
              "DiabetesPedigreeFunction    2.964265\n",
              "SkinThickness_new_3         2.374640\n",
              "Insulin_ind                 2.117034\n",
              "dtype: float64"
            ]
          },
          "metadata": {},
          "execution_count": 420
        }
      ]
    },
    {
      "cell_type": "markdown",
      "metadata": {
        "id": "6oGoAzYwh5A6"
      },
      "source": [
        "#### UPDATED ACCURACY SENSITIVITY AND SEPCIFICITY"
      ]
    },
    {
      "cell_type": "code",
      "metadata": {
        "id": "t1fTs1Sgh5A6",
        "colab": {
          "base_uri": "https://localhost:8080/"
        },
        "outputId": "4b315d7c-a7c6-4592-d2c8-05c48d57f32a"
      },
      "source": [
        "#####Create the confusion matrix\n",
        "###predict the variable active customer from logistic fit####\n",
        "predictions = results.predict()\n",
        "threshold=0.5\n",
        "predicted_class1=[ 0 if x < threshold else 1 for x in predictions]\n",
        "\n",
        "#Change in Confusion Matrix, Accuracy and Sensitivity-Specificity\n",
        "#Confusion matrix, Accuracy, sensitivity and specificity\n",
        "cm1 = confusion_matrix(data_smote[\"Outcome\"],predicted_class1)\n",
        "print('Confusion Matrix : \\n', cm1)\n",
        "\n",
        "total1=sum(sum(cm1))\n",
        "#####from confusion matrix calculate accuracy\n",
        "accuracy1=(cm1[0,0]+cm1[1,1])/total1\n",
        "print ('Accuracy : ', accuracy1)\n",
        "\n",
        "sensitivity1 = cm1[0,0]/(cm1[0,0]+cm1[0,1])\n",
        "print('Sensitivity : ', sensitivity1 )\n",
        "\n",
        "specificity1 = cm1[1,1]/(cm1[1,0]+cm1[1,1])\n",
        "print('Specificity : ', specificity1)\n",
        "\n",
        "\n",
        "Precision_Class0 = cm1[0,0]/(cm1[0,0]+cm1[1,0])\n",
        "print('Precision_Class0 : ', Precision_Class0 )\n",
        "\n",
        "Recall_Class0 = cm1[0,0]/(cm1[0,0]+cm1[0,1])\n",
        "print('Recall_Class0 : ', Recall_Class0 )\n",
        "\n",
        "F1_Class0 = 2/((1/Precision_Class0)+(1/Recall_Class0))\n",
        "print('F1_Class0 : ', F1_Class0 )\n",
        "\n",
        "\n",
        "Precision_Class1 = cm1[1,1]/(cm1[0,1]+cm1[1,1])\n",
        "print('Precision_Class1 : ', Precision_Class1 )\n",
        "\n",
        "Recall_Class1 = cm1[1,1]/(cm1[1,0]+cm1[1,1])\n",
        "print('Recall_Class1 : ', Recall_Class1 )\n",
        "\n",
        "F1_Class1 = 2/((1/Precision_Class1)+(1/Recall_Class1))\n",
        "print('F1_Class1 : ', F1_Class1 )\n",
        "\n"
      ],
      "execution_count": null,
      "outputs": [
        {
          "output_type": "stream",
          "name": "stdout",
          "text": [
            "Confusion Matrix : \n",
            " [[388 112]\n",
            " [128 272]]\n",
            "Accuracy :  0.7333333333333333\n",
            "Sensitivity :  0.776\n",
            "Specificity :  0.68\n",
            "Precision_Class0 :  0.751937984496124\n",
            "Recall_Class0 :  0.776\n",
            "F1_Class0 :  0.7637795275590552\n",
            "Precision_Class1 :  0.7083333333333334\n",
            "Recall_Class1 :  0.68\n",
            "F1_Class1 :  0.6938775510204083\n"
          ]
        }
      ]
    },
    {
      "cell_type": "markdown",
      "metadata": {
        "id": "2VHlg6Okh5A7"
      },
      "source": [
        "###CLASSIFICATION REPORT"
      ]
    },
    {
      "cell_type": "code",
      "metadata": {
        "id": "aN1SDyRfh5A7",
        "colab": {
          "base_uri": "https://localhost:8080/"
        },
        "outputId": "71ea0a7c-34dc-4899-ae5a-38146f432917"
      },
      "source": [
        "from sklearn.metrics import classification_report\n",
        "print(classification_report(data_smote[\"Outcome\"],predicted_class1))"
      ],
      "execution_count": null,
      "outputs": [
        {
          "output_type": "stream",
          "name": "stdout",
          "text": [
            "              precision    recall  f1-score   support\n",
            "\n",
            "           0       0.75      0.78      0.76       500\n",
            "           1       0.71      0.68      0.69       400\n",
            "\n",
            "    accuracy                           0.73       900\n",
            "   macro avg       0.73      0.73      0.73       900\n",
            "weighted avg       0.73      0.73      0.73       900\n",
            "\n"
          ]
        }
      ]
    }
  ]
}
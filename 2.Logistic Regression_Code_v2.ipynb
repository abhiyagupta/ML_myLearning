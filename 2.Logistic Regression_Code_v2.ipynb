{
  "nbformat": 4,
  "nbformat_minor": 0,
  "metadata": {
    "colab": {
      "provenance": [],
      "toc_visible": true
    },
    "kernelspec": {
      "name": "python3",
      "display_name": "Python 3"
    },
    "language_info": {
      "name": "python"
    }
  },
  "cells": [
    {
      "cell_type": "markdown",
      "metadata": {
        "id": "cGY4354OM0tb"
      },
      "source": [
        "#Linear Regression Recap"
      ]
    },
    {
      "cell_type": "markdown",
      "source": [
        "here linear regression is wrong. we are only doing this to understand the difference. as age bought , answer should be bought/ nont bought, 0 or 1. even linear line is not coming.\n"
      ],
      "metadata": {
        "id": "uBUXn4utanJT"
      }
    },
    {
      "cell_type": "code",
      "metadata": {
        "id": "UrBj4HBmM8iq"
      },
      "source": [
        "import numpy as np\n",
        "import pandas as pd\n",
        "import matplotlib.pyplot as plt"
      ],
      "execution_count": 1,
      "outputs": []
    },
    {
      "cell_type": "code",
      "metadata": {
        "id": "50a5Tqv6MxCw"
      },
      "source": [
        "#Import the Dataset: Product Sales Data/Product_sales.csv\n",
        "sales=pd.read_csv(\"https://raw.githubusercontent.com/venkatareddykonasani/Datasets/master/Product%20Sales%20Data/Product_sales.csv\")"
      ],
      "execution_count": 2,
      "outputs": []
    },
    {
      "cell_type": "code",
      "metadata": {
        "id": "ftF9MC9DNpL5",
        "colab": {
          "base_uri": "https://localhost:8080/",
          "height": 75
        },
        "outputId": "ec86675e-d4e3-4280-f44f-e958d86425a0"
      },
      "source": [
        "import sklearn as sk\n",
        "from sklearn import linear_model\n",
        "\n",
        "from sklearn.linear_model import LinearRegression\n",
        "lr = LinearRegression()\n",
        "lr.fit(sales[[\"Age\"]], sales[[\"Bought\"]])\n"
      ],
      "execution_count": 5,
      "outputs": [
        {
          "output_type": "execute_result",
          "data": {
            "text/plain": [
              "LinearRegression()"
            ],
            "text/html": [
              "<style>#sk-container-id-2 {color: black;background-color: white;}#sk-container-id-2 pre{padding: 0;}#sk-container-id-2 div.sk-toggleable {background-color: white;}#sk-container-id-2 label.sk-toggleable__label {cursor: pointer;display: block;width: 100%;margin-bottom: 0;padding: 0.3em;box-sizing: border-box;text-align: center;}#sk-container-id-2 label.sk-toggleable__label-arrow:before {content: \"▸\";float: left;margin-right: 0.25em;color: #696969;}#sk-container-id-2 label.sk-toggleable__label-arrow:hover:before {color: black;}#sk-container-id-2 div.sk-estimator:hover label.sk-toggleable__label-arrow:before {color: black;}#sk-container-id-2 div.sk-toggleable__content {max-height: 0;max-width: 0;overflow: hidden;text-align: left;background-color: #f0f8ff;}#sk-container-id-2 div.sk-toggleable__content pre {margin: 0.2em;color: black;border-radius: 0.25em;background-color: #f0f8ff;}#sk-container-id-2 input.sk-toggleable__control:checked~div.sk-toggleable__content {max-height: 200px;max-width: 100%;overflow: auto;}#sk-container-id-2 input.sk-toggleable__control:checked~label.sk-toggleable__label-arrow:before {content: \"▾\";}#sk-container-id-2 div.sk-estimator input.sk-toggleable__control:checked~label.sk-toggleable__label {background-color: #d4ebff;}#sk-container-id-2 div.sk-label input.sk-toggleable__control:checked~label.sk-toggleable__label {background-color: #d4ebff;}#sk-container-id-2 input.sk-hidden--visually {border: 0;clip: rect(1px 1px 1px 1px);clip: rect(1px, 1px, 1px, 1px);height: 1px;margin: -1px;overflow: hidden;padding: 0;position: absolute;width: 1px;}#sk-container-id-2 div.sk-estimator {font-family: monospace;background-color: #f0f8ff;border: 1px dotted black;border-radius: 0.25em;box-sizing: border-box;margin-bottom: 0.5em;}#sk-container-id-2 div.sk-estimator:hover {background-color: #d4ebff;}#sk-container-id-2 div.sk-parallel-item::after {content: \"\";width: 100%;border-bottom: 1px solid gray;flex-grow: 1;}#sk-container-id-2 div.sk-label:hover label.sk-toggleable__label {background-color: #d4ebff;}#sk-container-id-2 div.sk-serial::before {content: \"\";position: absolute;border-left: 1px solid gray;box-sizing: border-box;top: 0;bottom: 0;left: 50%;z-index: 0;}#sk-container-id-2 div.sk-serial {display: flex;flex-direction: column;align-items: center;background-color: white;padding-right: 0.2em;padding-left: 0.2em;position: relative;}#sk-container-id-2 div.sk-item {position: relative;z-index: 1;}#sk-container-id-2 div.sk-parallel {display: flex;align-items: stretch;justify-content: center;background-color: white;position: relative;}#sk-container-id-2 div.sk-item::before, #sk-container-id-2 div.sk-parallel-item::before {content: \"\";position: absolute;border-left: 1px solid gray;box-sizing: border-box;top: 0;bottom: 0;left: 50%;z-index: -1;}#sk-container-id-2 div.sk-parallel-item {display: flex;flex-direction: column;z-index: 1;position: relative;background-color: white;}#sk-container-id-2 div.sk-parallel-item:first-child::after {align-self: flex-end;width: 50%;}#sk-container-id-2 div.sk-parallel-item:last-child::after {align-self: flex-start;width: 50%;}#sk-container-id-2 div.sk-parallel-item:only-child::after {width: 0;}#sk-container-id-2 div.sk-dashed-wrapped {border: 1px dashed gray;margin: 0 0.4em 0.5em 0.4em;box-sizing: border-box;padding-bottom: 0.4em;background-color: white;}#sk-container-id-2 div.sk-label label {font-family: monospace;font-weight: bold;display: inline-block;line-height: 1.2em;}#sk-container-id-2 div.sk-label-container {text-align: center;}#sk-container-id-2 div.sk-container {/* jupyter's `normalize.less` sets `[hidden] { display: none; }` but bootstrap.min.css set `[hidden] { display: none !important; }` so we also need the `!important` here to be able to override the default hidden behavior on the sphinx rendered scikit-learn.org. See: https://github.com/scikit-learn/scikit-learn/issues/21755 */display: inline-block !important;position: relative;}#sk-container-id-2 div.sk-text-repr-fallback {display: none;}</style><div id=\"sk-container-id-2\" class=\"sk-top-container\"><div class=\"sk-text-repr-fallback\"><pre>LinearRegression()</pre><b>In a Jupyter environment, please rerun this cell to show the HTML representation or trust the notebook. <br />On GitHub, the HTML representation is unable to render, please try loading this page with nbviewer.org.</b></div><div class=\"sk-container\" hidden><div class=\"sk-item\"><div class=\"sk-estimator sk-toggleable\"><input class=\"sk-toggleable__control sk-hidden--visually\" id=\"sk-estimator-id-2\" type=\"checkbox\" checked><label for=\"sk-estimator-id-2\" class=\"sk-toggleable__label sk-toggleable__label-arrow\">LinearRegression</label><div class=\"sk-toggleable__content\"><pre>LinearRegression()</pre></div></div></div></div></div>"
            ]
          },
          "metadata": {},
          "execution_count": 5
        }
      ]
    },
    {
      "cell_type": "code",
      "metadata": {
        "id": "bG98Ar_rN_cg",
        "colab": {
          "base_uri": "https://localhost:8080/"
        },
        "outputId": "7dab007f-1d83-4756-a0a9-a84ac63e1575"
      },
      "source": [
        "print(\"intercept\",lr.intercept_)\n",
        "print(\"Co-efficient\",lr.coef_)"
      ],
      "execution_count": 4,
      "outputs": [
        {
          "output_type": "stream",
          "name": "stdout",
          "text": [
            "intercept [-0.17041247]\n",
            "Co-efficient [[0.02094213]]\n"
          ]
        }
      ]
    },
    {
      "cell_type": "code",
      "metadata": {
        "id": "nDeC2T3UNuAh",
        "colab": {
          "base_uri": "https://localhost:8080/"
        },
        "outputId": "30bb45ca-4f15-4286-83c2-70387e8d6fca"
      },
      "source": [
        "d1=pd.DataFrame({\"Age\":[4]})\n",
        "predict1=lr.predict(d1)\n",
        "print(predict1)"
      ],
      "execution_count": 6,
      "outputs": [
        {
          "output_type": "stream",
          "name": "stdout",
          "text": [
            "[[-0.08664394]]\n"
          ]
        }
      ]
    },
    {
      "cell_type": "code",
      "metadata": {
        "id": "rif6rgmQOy8q",
        "colab": {
          "base_uri": "https://localhost:8080/"
        },
        "outputId": "771d8f08-99f7-403e-8f6a-01a07c5fd12e"
      },
      "source": [
        "#If Age is 105 then will that customer buy the product?\n",
        "d2=pd.DataFrame({\"Age\":[105]})\n",
        "predict2=lr.predict(d2)\n",
        "print(predict2)"
      ],
      "execution_count": 7,
      "outputs": [
        {
          "output_type": "stream",
          "name": "stdout",
          "text": [
            "[[2.02851132]]\n"
          ]
        }
      ]
    },
    {
      "cell_type": "markdown",
      "metadata": {
        "id": "VGMMLR9E4-H-"
      },
      "source": [
        "## Drawing Linear Regression line"
      ]
    },
    {
      "cell_type": "code",
      "metadata": {
        "id": "aruWuIa943mm",
        "colab": {
          "base_uri": "https://localhost:8080/",
          "height": 472
        },
        "outputId": "eae18c55-0f0f-4264-dee5-142357781ed9"
      },
      "source": [
        "new_data=sales.drop([\"Bought\"], axis=1)\n",
        "#Pass the variables to get the predicted values. Add actual values in a new column \n",
        "new_data[\"pred_values\"]= lr.predict(new_data)\n",
        "new_data[\"Actual\"]=sales[\"Bought\"]\n",
        "\n",
        "#Sort the data and draw the graph\n",
        "new_data=new_data.sort_values([\"pred_values\"])\n",
        "plt.scatter(new_data[\"Age\"], new_data[\"Actual\"])\n",
        "plt.plot(new_data[\"Age\"], new_data[\"pred_values\"], color='green')\n",
        "#Add lables and title \n",
        "plt.title('Predicted vs Actual Plot')\n",
        "plt.xlabel('Age')\n",
        "plt.ylabel('Bought')\n",
        "plt.show()"
      ],
      "execution_count": 7,
      "outputs": [
        {
          "output_type": "display_data",
          "data": {
            "text/plain": [
              "<Figure size 640x480 with 1 Axes>"
            ],
            "image/png": "[encoded data removed]"
          },
          "metadata": {}
        }
      ]
    },
    {
      "cell_type": "markdown",
      "metadata": {
        "id": "6zhf4vPMO7fW"
      },
      "source": [
        "# Logistic Regression"
      ]
    },
    {
      "cell_type": "code",
      "metadata": {
        "id": "_oh27RRqO5T1",
        "colab": {
          "base_uri": "https://localhost:8080/",
          "height": 75
        },
        "outputId": "ad6b8d9d-949a-4b35-98b0-f1a26b229c0d"
      },
      "source": [
        "from sklearn.linear_model import LogisticRegression\n",
        "logistic = LogisticRegression()\n",
        "logistic.fit(sales[[\"Age\"]],sales[\"Bought\"])"
      ],
      "execution_count": 11,
      "outputs": [
        {
          "output_type": "execute_result",
          "data": {
            "text/plain": [
              "LogisticRegression()"
            ],
            "text/html": [
              "<style>#sk-container-id-3 {color: black;background-color: white;}#sk-container-id-3 pre{padding: 0;}#sk-container-id-3 div.sk-toggleable {background-color: white;}#sk-container-id-3 label.sk-toggleable__label {cursor: pointer;display: block;width: 100%;margin-bottom: 0;padding: 0.3em;box-sizing: border-box;text-align: center;}#sk-container-id-3 label.sk-toggleable__label-arrow:before {content: \"▸\";float: left;margin-right: 0.25em;color: #696969;}#sk-container-id-3 label.sk-toggleable__label-arrow:hover:before {color: black;}#sk-container-id-3 div.sk-estimator:hover label.sk-toggleable__label-arrow:before {color: black;}#sk-container-id-3 div.sk-toggleable__content {max-height: 0;max-width: 0;overflow: hidden;text-align: left;background-color: #f0f8ff;}#sk-container-id-3 div.sk-toggleable__content pre {margin: 0.2em;color: black;border-radius: 0.25em;background-color: #f0f8ff;}#sk-container-id-3 input.sk-toggleable__control:checked~div.sk-toggleable__content {max-height: 200px;max-width: 100%;overflow: auto;}#sk-container-id-3 input.sk-toggleable__control:checked~label.sk-toggleable__label-arrow:before {content: \"▾\";}#sk-container-id-3 div.sk-estimator input.sk-toggleable__control:checked~label.sk-toggleable__label {background-color: #d4ebff;}#sk-container-id-3 div.sk-label input.sk-toggleable__control:checked~label.sk-toggleable__label {background-color: #d4ebff;}#sk-container-id-3 input.sk-hidden--visually {border: 0;clip: rect(1px 1px 1px 1px);clip: rect(1px, 1px, 1px, 1px);height: 1px;margin: -1px;overflow: hidden;padding: 0;position: absolute;width: 1px;}#sk-container-id-3 div.sk-estimator {font-family: monospace;background-color: #f0f8ff;border: 1px dotted black;border-radius: 0.25em;box-sizing: border-box;margin-bottom: 0.5em;}#sk-container-id-3 div.sk-estimator:hover {background-color: #d4ebff;}#sk-container-id-3 div.sk-parallel-item::after {content: \"\";width: 100%;border-bottom: 1px solid gray;flex-grow: 1;}#sk-container-id-3 div.sk-label:hover label.sk-toggleable__label {background-color: #d4ebff;}#sk-container-id-3 div.sk-serial::before {content: \"\";position: absolute;border-left: 1px solid gray;box-sizing: border-box;top: 0;bottom: 0;left: 50%;z-index: 0;}#sk-container-id-3 div.sk-serial {display: flex;flex-direction: column;align-items: center;background-color: white;padding-right: 0.2em;padding-left: 0.2em;position: relative;}#sk-container-id-3 div.sk-item {position: relative;z-index: 1;}#sk-container-id-3 div.sk-parallel {display: flex;align-items: stretch;justify-content: center;background-color: white;position: relative;}#sk-container-id-3 div.sk-item::before, #sk-container-id-3 div.sk-parallel-item::before {content: \"\";position: absolute;border-left: 1px solid gray;box-sizing: border-box;top: 0;bottom: 0;left: 50%;z-index: -1;}#sk-container-id-3 div.sk-parallel-item {display: flex;flex-direction: column;z-index: 1;position: relative;background-color: white;}#sk-container-id-3 div.sk-parallel-item:first-child::after {align-self: flex-end;width: 50%;}#sk-container-id-3 div.sk-parallel-item:last-child::after {align-self: flex-start;width: 50%;}#sk-container-id-3 div.sk-parallel-item:only-child::after {width: 0;}#sk-container-id-3 div.sk-dashed-wrapped {border: 1px dashed gray;margin: 0 0.4em 0.5em 0.4em;box-sizing: border-box;padding-bottom: 0.4em;background-color: white;}#sk-container-id-3 div.sk-label label {font-family: monospace;font-weight: bold;display: inline-block;line-height: 1.2em;}#sk-container-id-3 div.sk-label-container {text-align: center;}#sk-container-id-3 div.sk-container {/* jupyter's `normalize.less` sets `[hidden] { display: none; }` but bootstrap.min.css set `[hidden] { display: none !important; }` so we also need the `!important` here to be able to override the default hidden behavior on the sphinx rendered scikit-learn.org. See: https://github.com/scikit-learn/scikit-learn/issues/21755 */display: inline-block !important;position: relative;}#sk-container-id-3 div.sk-text-repr-fallback {display: none;}</style><div id=\"sk-container-id-3\" class=\"sk-top-container\"><div class=\"sk-text-repr-fallback\"><pre>LogisticRegression()</pre><b>In a Jupyter environment, please rerun this cell to show the HTML representation or trust the notebook. <br />On GitHub, the HTML representation is unable to render, please try loading this page with nbviewer.org.</b></div><div class=\"sk-container\" hidden><div class=\"sk-item\"><div class=\"sk-estimator sk-toggleable\"><input class=\"sk-toggleable__control sk-hidden--visually\" id=\"sk-estimator-id-3\" type=\"checkbox\" checked><label for=\"sk-estimator-id-3\" class=\"sk-toggleable__label sk-toggleable__label-arrow\">LogisticRegression</label><div class=\"sk-toggleable__content\"><pre>LogisticRegression()</pre></div></div></div></div></div>"
            ]
          },
          "metadata": {},
          "execution_count": 11
        }
      ]
    },
    {
      "cell_type": "markdown",
      "source": [
        "#intercept b0\n",
        "#coefficient= b1"
      ],
      "metadata": {
        "id": "L0ZHaWuUZn-m"
      }
    },
    {
      "cell_type": "code",
      "metadata": {
        "id": "1u0RE4wOPBoH",
        "colab": {
          "base_uri": "https://localhost:8080/"
        },
        "outputId": "74ae4b14-3430-40cc-bfca-9c01279da9ef"
      },
      "source": [
        "print(\"Intercept\", logistic.intercept_)\n",
        "print(\"Coefficient\", logistic.coef_)"
      ],
      "execution_count": 12,
      "outputs": [
        {
          "output_type": "stream",
          "name": "stdout",
          "text": [
            "Intercept [-6.90672827]\n",
            "Coefficient [[0.21776006]]\n"
          ]
        }
      ]
    },
    {
      "cell_type": "code",
      "metadata": {
        "id": "JyvzceEuPP4w",
        "colab": {
          "base_uri": "https://localhost:8080/"
        },
        "outputId": "92132d14-7bc6-4c82-95f2-79e534cab72d"
      },
      "source": [
        "#A 4 years old customer, will he buy the product?\n",
        "\n",
        "predict_age1=logistic.predict(d1)\n",
        "print(predict_age1)"
      ],
      "execution_count": 13,
      "outputs": [
        {
          "output_type": "stream",
          "name": "stdout",
          "text": [
            "[0]\n"
          ]
        }
      ]
    },
    {
      "cell_type": "code",
      "metadata": {
        "id": "24Em8hPdPTRe",
        "colab": {
          "base_uri": "https://localhost:8080/"
        },
        "outputId": "77e4aa2e-9225-4566-cd63-df104503f97d"
      },
      "source": [
        "#If Age is 105 then will that customer buy the product?\n",
        "\n",
        "predict_age2=logistic.predict(d2)\n",
        "print(predict_age2)"
      ],
      "execution_count": 14,
      "outputs": [
        {
          "output_type": "stream",
          "name": "stdout",
          "text": [
            "[1]\n"
          ]
        }
      ]
    },
    {
      "cell_type": "markdown",
      "metadata": {
        "id": "U1El-htIEUEJ"
      },
      "source": [
        "## Drawing Logistic Regression line"
      ]
    },
    {
      "cell_type": "code",
      "metadata": {
        "id": "WsBxoamuEUEL",
        "colab": {
          "base_uri": "https://localhost:8080/",
          "height": 472
        },
        "outputId": "1b3ac965-82bd-4915-83a8-c86ff0a00d9e"
      },
      "source": [
        "new_data=sales.drop([\"Bought\"], axis=1)\n",
        "#Pass the variables to get the predicted values. Add actual values in a new column \n",
        "new_data[\"pred_values\"]= logistic.predict_proba(new_data)[:,1]\n",
        "new_data[\"Actual\"]=sales[\"Bought\"]\n",
        "\n",
        "#Sort the data and draw the graph\n",
        "new_data=new_data.sort_values([\"pred_values\"])\n",
        "plt.scatter(new_data[\"Age\"], new_data[\"Actual\"])\n",
        "plt.plot(new_data[\"Age\"], new_data[\"pred_values\"], color='green')\n",
        "#Add lables and title \n",
        "plt.title('Predicted vs Actual Plot')\n",
        "plt.xlabel('Age')\n",
        "plt.ylabel('Bought')\n",
        "plt.show()"
      ],
      "execution_count": 12,
      "outputs": [
        {
          "output_type": "display_data",
          "data": {
            "text/plain": [
              "<Figure size 640x480 with 1 Axes>"
            ],
            "image/png": "[encoded data removed]"
          },
          "metadata": {}
        }
      ]
    },
    {
      "cell_type": "markdown",
      "metadata": {
        "id": "IEUxWe4hPYjD"
      },
      "source": [
        "# Multiple Logistic Regression"
      ]
    },
    {
      "cell_type": "code",
      "metadata": {
        "id": "08J0yAH3PU-b"
      },
      "source": [
        "Fiber=pd.read_csv(\"https://raw.githubusercontent.com/venkatareddykonasani/Datasets/master/Fiberbits/Fiberbits_v1.csv\")"
      ],
      "execution_count": 15,
      "outputs": []
    },
    {
      "cell_type": "code",
      "metadata": {
        "id": "d2vRlUcrPqg1"
      },
      "source": [
        "Fiber.info()"
      ],
      "execution_count": null,
      "outputs": []
    },
    {
      "cell_type": "code",
      "metadata": {
        "id": "sSJTg_FmPsuU"
      },
      "source": [
        "logistic1= LogisticRegression()\n",
        "###fitting logistic regression for active customer on rest of the variables#######\n",
        "logistic1.fit(Fiber[[\"income\"]+['months_on_network']+['Num_complaints']+['number_plan_changes']+['relocated']+['monthly_bill']+['technical_issues_per_month']+['Speed_test_result']],Fiber[['active_cust']])\n"
      ],
      "execution_count": null,
      "outputs": []
    },
    {
      "cell_type": "code",
      "metadata": {
        "id": "VyF1ZoBmPxG_",
        "colab": {
          "base_uri": "https://localhost:8080/"
        },
        "outputId": "8ae68d00-edf4-4ccb-c8b1-df9594526177"
      },
      "source": [
        "print(\"Intercept\", logistic1.intercept_)\n",
        "print(\"Coefficients\", logistic1.coef_)"
      ],
      "execution_count": 18,
      "outputs": [
        {
          "output_type": "stream",
          "name": "stdout",
          "text": [
            "Intercept [-0.01111427]\n",
            "Coefficients [[ 3.67521859e-05  2.55359807e-02  7.37652747e-01 -2.63589093e-01\n",
            "  -1.43424976e-01  1.32372963e-04 -2.64462983e-01 -7.62392338e-02]]\n"
          ]
        }
      ]
    },
    {
      "cell_type": "markdown",
      "metadata": {
        "id": "iIAc4R7GQJp5"
      },
      "source": [
        "# Confusion Matrix & Accuracy"
      ]
    },
    {
      "cell_type": "code",
      "metadata": {
        "id": "HEYVmbh9QGWB"
      },
      "source": [
        "import numpy as np\n",
        "import matplotlib.pyplot as plt\n",
        "from sklearn.metrics import confusion_matrix"
      ],
      "execution_count": 20,
      "outputs": []
    },
    {
      "cell_type": "code",
      "metadata": {
        "id": "6GoHb7olQL5J",
        "colab": {
          "base_uri": "https://localhost:8080/"
        },
        "outputId": "c17a1d67-3662-4a4d-ff14-52beb60759dc"
      },
      "source": [
        "predict1=logistic1.predict(Fiber[[\"income\"]+['months_on_network']+['Num_complaints']+['number_plan_changes']+['relocated']+['monthly_bill']+['technical_issues_per_month']+['Speed_test_result']])\n",
        "predict1\n",
        "\n",
        "cm1 = confusion_matrix(Fiber[['active_cust']],predict1)\n",
        "print(cm1)"
      ],
      "execution_count": 21,
      "outputs": [
        {
          "output_type": "stream",
          "name": "stdout",
          "text": [
            "[[33855  8286]\n",
            " [ 6141 51718]]\n"
          ]
        }
      ]
    },
    {
      "cell_type": "code",
      "metadata": {
        "id": "YKJ4zGZAQPn2",
        "colab": {
          "base_uri": "https://localhost:8080/"
        },
        "outputId": "e497a883-2917-4aa9-8ec6-50d3587ef9e9"
      },
      "source": [
        "print(\"col sums\", sum(cm1))\n",
        "total1=sum(sum(cm1))\n",
        "print(\"Total\", total1)\n"
      ],
      "execution_count": 22,
      "outputs": [
        {
          "output_type": "stream",
          "name": "stdout",
          "text": [
            "col sums [39996 60004]\n",
            "Total 100000\n"
          ]
        }
      ]
    },
    {
      "cell_type": "code",
      "metadata": {
        "id": "HiBbRB4mQQ9N",
        "colab": {
          "base_uri": "https://localhost:8080/"
        },
        "outputId": "9a96b781-fed2-4280-c812-8b3993294064"
      },
      "source": [
        "accuracy1=(cm1[0,0]+cm1[1,1])/total1\n",
        "accuracy1"
      ],
      "execution_count": 23,
      "outputs": [
        {
          "output_type": "execute_result",
          "data": {
            "text/plain": [
              "0.85573"
            ]
          },
          "metadata": {},
          "execution_count": 23
        }
      ]
    },
    {
      "cell_type": "markdown",
      "metadata": {
        "id": "uTs9fXBgQdnD"
      },
      "source": [
        "# Multicollinearity"
      ]
    },
    {
      "cell_type": "code",
      "metadata": {
        "id": "6Ws_d_MGQecs"
      },
      "source": [
        "import statsmodels.formula.api as sm\n",
        "\n",
        "def vif_cal(input_data, dependent_col):\n",
        "    x_vars=input_data.drop([dependent_col], axis=1)\n",
        "    xvar_names=x_vars.columns\n",
        "    for i in range(0,xvar_names.shape[0]):\n",
        "        y=x_vars[xvar_names[i]] \n",
        "        x=x_vars[xvar_names.drop(xvar_names[i])]\n",
        "        rsq=sm.ols(formula=\"y~x\", data=x_vars).fit().rsquared  \n",
        "        vif=round(1/(1-rsq),2)\n",
        "        print (xvar_names[i], \" VIF = \" , vif)"
      ],
      "execution_count": 24,
      "outputs": []
    },
    {
      "cell_type": "code",
      "metadata": {
        "id": "3njhbd6nQg9R",
        "colab": {
          "base_uri": "https://localhost:8080/"
        },
        "outputId": "5f192ed4-9b8e-4508-9ae4-aca30c5e96ca"
      },
      "source": [
        "vif_cal(input_data=Fiber, dependent_col=\"active_cust\")"
      ],
      "execution_count": 25,
      "outputs": [
        {
          "output_type": "stream",
          "name": "stdout",
          "text": [
            "income  VIF =  1.02\n",
            "months_on_network  VIF =  1.04\n",
            "Num_complaints  VIF =  1.17\n",
            "number_plan_changes  VIF =  11.98\n",
            "relocated  VIF =  1.61\n",
            "monthly_bill  VIF =  1.0\n",
            "technical_issues_per_month  VIF =  11.44\n",
            "Speed_test_result  VIF =  1.14\n"
          ]
        }
      ]
    },
    {
      "cell_type": "code",
      "metadata": {
        "id": "ULbBkLG316pc",
        "colab": {
          "base_uri": "https://localhost:8080/"
        },
        "outputId": "f1220de8-88f8-48ef-b3c4-f638f57b66c8"
      },
      "source": [
        "#Drop the variable with highest VIF\n",
        "vif_cal(input_data=Fiber.drop(\"number_plan_changes\", axis=1), dependent_col=\"active_cust\")"
      ],
      "execution_count": 26,
      "outputs": [
        {
          "output_type": "stream",
          "name": "stdout",
          "text": [
            "income  VIF =  1.02\n",
            "months_on_network  VIF =  1.04\n",
            "Num_complaints  VIF =  1.17\n",
            "relocated  VIF =  1.55\n",
            "monthly_bill  VIF =  1.0\n",
            "technical_issues_per_month  VIF =  1.49\n",
            "Speed_test_result  VIF =  1.14\n"
          ]
        }
      ]
    },
    {
      "cell_type": "markdown",
      "metadata": {
        "id": "Q4rtUAbtQluo"
      },
      "source": [
        "# Individual Impact of Variables"
      ]
    },
    {
      "cell_type": "code",
      "metadata": {
        "id": "XmSSgXB2Qi6f"
      },
      "source": [
        "import statsmodels.api as sm\n",
        "m1=sm.Logit(Fiber['active_cust'],Fiber[[\"income\"]+['months_on_network']+['Num_complaints']+['relocated']+['monthly_bill']+['technical_issues_per_month']+['Speed_test_result']])\n",
        "m1.fit()\n",
        "print(m1.fit().summary())"
      ],
      "execution_count": null,
      "outputs": []
    },
    {
      "cell_type": "code",
      "metadata": {
        "id": "7cdZtYDa2oSO"
      },
      "source": [
        "m1=sm.Logit(Fiber['active_cust'],Fiber[[\"income\"]+['months_on_network']+['Num_complaints']+['relocated']+['technical_issues_per_month']+['Speed_test_result']])\n",
        "m1.fit()\n",
        "print(m1.fit().summary())"
      ],
      "execution_count": null,
      "outputs": []
    },
    {
      "cell_type": "markdown",
      "metadata": {
        "id": "yg0OFDDJ2jTY"
      },
      "source": [
        "# Rank Ordering of the impactful variables"
      ]
    },
    {
      "cell_type": "code",
      "metadata": {
        "id": "DXK0ku61Q6OE",
        "colab": {
          "base_uri": "https://localhost:8080/"
        },
        "outputId": "b51a7d2e-f567-4148-be67-18c6da6271a0"
      },
      "source": [
        "m1=sm.Logit(Fiber['active_cust'],Fiber[[\"income\"]+['months_on_network']+['Num_complaints']+['relocated']+['technical_issues_per_month']+['Speed_test_result']])\n",
        "m1.fit()\n",
        "print(m1.fit().summary())"
      ],
      "execution_count": 31,
      "outputs": [
        {
          "output_type": "stream",
          "name": "stdout",
          "text": [
            "Optimization terminated successfully.\n",
            "         Current function value: 0.297061\n",
            "         Iterations 8\n",
            "Optimization terminated successfully.\n",
            "         Current function value: 0.297061\n",
            "         Iterations 8\n",
            "                           Logit Regression Results                           \n",
            "==============================================================================\n",
            "Dep. Variable:            active_cust   No. Observations:               100000\n",
            "Model:                          Logit   Df Residuals:                    99994\n",
            "Method:                           MLE   Df Model:                            5\n",
            "Date:                Thu, 30 Mar 2023   Pseudo R-squ.:                  0.5636\n",
            "Time:                        17:26:51   Log-Likelihood:                -29706.\n",
            "converged:                       True   LL-Null:                       -68074.\n",
            "Covariance Type:            nonrobust   LLR p-value:                     0.000\n",
            "==============================================================================================\n",
            "                                 coef    std err          z      P>|z|      [0.025      0.975]\n",
            "----------------------------------------------------------------------------------------------\n",
            "income                       2.58e-05   8.76e-06      2.946      0.003    8.63e-06     4.3e-05\n",
            "months_on_network              0.0230      0.001     42.915      0.000       0.022       0.024\n",
            "Num_complaints                 0.7486      0.006    134.263      0.000       0.738       0.759\n",
            "relocated                     -2.5905      0.047    -55.423      0.000      -2.682      -2.499\n",
            "technical_issues_per_month    -0.2453      0.008    -30.170      0.000      -0.261      -0.229\n",
            "Speed_test_result             -0.0779      0.001   -120.105      0.000      -0.079      -0.077\n",
            "==============================================================================================\n"
          ]
        }
      ]
    },
    {
      "cell_type": "code",
      "metadata": {
        "id": "x7aCIqUM4u7j",
        "colab": {
          "base_uri": "https://localhost:8080/"
        },
        "outputId": "0cccbe99-3e40-4c2e-f6e6-da584d2c9818"
      },
      "source": [
        "# Wald Chi-square value\n",
        "abs(m1.fit().tvalues).sort_values(ascending=False)"
      ],
      "execution_count": 30,
      "outputs": [
        {
          "output_type": "stream",
          "name": "stdout",
          "text": [
            "Optimization terminated successfully.\n",
            "         Current function value: 0.297061\n",
            "         Iterations 8\n"
          ]
        },
        {
          "output_type": "execute_result",
          "data": {
            "text/plain": [
              "Num_complaints                134.263303\n",
              "Speed_test_result             120.105001\n",
              "relocated                      55.422838\n",
              "months_on_network              42.914674\n",
              "technical_issues_per_month     30.170208\n",
              "income                          2.945912\n",
              "dtype: float64"
            ]
          },
          "metadata": {},
          "execution_count": 30
        }
      ]
    }
  ]
}
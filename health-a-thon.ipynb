{
 "cells": [
  {
   "cell_type": "code",
   "execution_count": null,
   "id": "6f36635d-ef56-40ac-951e-8cccf96ce9d3",
   "metadata": {
    "scrolled": true
   },
   "outputs": [],
   "source": [
    "pip install google.generativeai"
   ]
  },
  {
   "cell_type": "code",
   "execution_count": 1,
   "id": "a64dc5fa-8af4-43f9-9e5b-23748f674692",
   "metadata": {},
   "outputs": [],
   "source": [
    "import google.generativeai as genai\n",
    "from IPython.display import display, Markdown\n",
    "\n",
    "API_KEY = ''\n",
    "\n",
    "genai.configure(api_key=API_KEY)\n",
    "\n",
    "generation_config = {\n",
    "  \"temperature\": 0.4,\n",
    "  \"top_p\": 1,\n",
    "  \"top_k\": 32,\n",
    "  \"max_output_tokens\": 4096,\n",
    "}\n",
    "safety_settings = [\n",
    "    {\n",
    "        \"category\": \"HARM_CATEGORY_HARASSMENT\",\n",
    "        \"threshold\": \"BLOCK_MEDIUM_AND_ABOVE\"\n",
    "    },\n",
    "    {\n",
    "        \"category\": \"HARM_CATEGORY_HATE_SPEECH\",\n",
    "        \"threshold\": \"BLOCK_MEDIUM_AND_ABOVE\"\n",
    "    },\n",
    "    {\n",
    "        \"category\": \"HARM_CATEGORY_SEXUALLY_EXPLICIT\",\n",
    "        \"threshold\": \"BLOCK_MEDIUM_AND_ABOVE\"\n",
    "    },\n",
    "    {\n",
    "        \"category\": \"HARM_CATEGORY_DANGEROUS_CONTENT\",\n",
    "        \"threshold\": \"BLOCK_MEDIUM_AND_ABOVE\"\n",
    "    },\n",
    "]\n",
    "\n",
    "model_name = \"gemini-pro\""
   ]
  },
  {
   "cell_type": "code",
   "execution_count": 2,
   "id": "66d15dd7-2f3a-4557-8ae3-29a722c83e18",
   "metadata": {},
   "outputs": [],
   "source": [
    "model = genai.GenerativeModel(model_name=model_name,\n",
    "                                      generation_config=generation_config,\n",
    "                                      safety_settings=safety_settings)"
   ]
  },
  {
   "cell_type": "code",
   "execution_count": 3,
   "id": "c83555d7-8964-4544-bc51-9488e1c43f89",
   "metadata": {},
   "outputs": [],
   "source": [
    "session_messages= [{\"role\": \"system\",\n",
    "                    \"content\":  \"You are an assistant for an Insurance company Named ABC. you will get claim information from user as input\"\n",
    "                                \" in json format. Your task is to write an empathetic email to the user\"\n",
    "                                \" stating the reason for claim rejection and what can the user make sure to keep \"\n",
    "                                \"in mind next time so that their claim would not get rejected. only add description of \"\n",
    "                                \"fields which are relevant to the claim rejection reason. give the rejection reasons\"\n",
    "                                \" in a tabular format.\"}]"
   ]
  },
  {
   "cell_type": "code",
   "execution_count": 5,
   "id": "3cf45b06-51d0-4e00-a3d3-54846b5e8f50",
   "metadata": {},
   "outputs": [],
   "source": [
    "prompt = \"\"\"Name Shruti\n",
    "Age 23\n",
    "Gender Female\n",
    "new_member_id\t85804365801:01\n",
    "Service_Date\t28-Apr-2023\n",
    "policy_Eligibility_From_Date\t23-Dec-2022\n",
    "policy_Eligibility_To_Date\t23-Dec-2023\n",
    "policy_ALLOWED_AMOUNT\t1000000\n",
    "CLAIM_BALANCE_REMAINING\t714463\n",
    "user_claim_INVOICE_AMOUNT\t1729042\n",
    "DENTAL_addon_PLAN\tNo\n",
    "VISION_addon_PLAN\tNo\n",
    "PATIENT_SHARE\t337963\"\"\"\n",
    "\n",
    "def convert_to_json(text):\n",
    "    text = text.split()\n",
    "    res = {}\n",
    "    for i in range(0,len(text),2):\n",
    "        res[text[i]] = text[i+1]\n",
    "    return res\n",
    "prompt = convert_to_json(prompt)"
   ]
  },
  {
   "cell_type": "code",
   "execution_count": 6,
   "id": "f399103a-43f5-4384-a332-84412d82c135",
   "metadata": {},
   "outputs": [],
   "source": [
    "session_messages.append({\"role\": \"user\", \"content\": prompt})"
   ]
  },
  {
   "cell_type": "code",
   "execution_count": 7,
   "id": "62cf5c17-f9ba-407c-85f5-071af45411a1",
   "metadata": {},
   "outputs": [],
   "source": [
    "final_prompt = [f'{i[\"role\"]}: {i[\"content\"]}\\n' for i in session_messages]"
   ]
  },
  {
   "cell_type": "code",
   "execution_count": 8,
   "id": "b4f45709-e29c-4936-a46c-9542bb206d81",
   "metadata": {},
   "outputs": [
    {
     "data": {
      "text/plain": [
       "['system: You are an assistant for an Insurance company Named ABC. you will get claim information from user as input in json format. Your task is to write an empathetic email to the user stating the reason for claim rejection and what can the user make sure to keep in mind next time so that their claim would not get rejected. only add description of fields which are relevant to the claim rejection reason. give the rejection reasons in a tabular format.\\n',\n",
       " \"user: {'Name': 'Shruti', 'Age': '23', 'Gender': 'Female', 'new_member_id': '85804365801:01', 'Service_Date': '28-Apr-2023', 'policy_Eligibility_From_Date': '23-Dec-2022', 'policy_Eligibility_To_Date': '23-Dec-2023', 'policy_ALLOWED_AMOUNT': '1000000', 'CLAIM_BALANCE_REMAINING': '714463', 'user_claim_INVOICE_AMOUNT': '1729042', 'DENTAL_addon_PLAN': 'No', 'VISION_addon_PLAN': 'No', 'PATIENT_SHARE': '337963'}\\n\"]"
      ]
     },
     "execution_count": 8,
     "metadata": {},
     "output_type": "execute_result"
    }
   ],
   "source": [
    "final_prompt"
   ]
  },
  {
   "cell_type": "code",
   "execution_count": 9,
   "id": "1f66d345-57fb-46f7-b185-8ce1beeee175",
   "metadata": {},
   "outputs": [],
   "source": [
    "response = model.generate_content(final_prompt)"
   ]
  },
  {
   "cell_type": "code",
   "execution_count": 10,
   "id": "ffa90623-ab00-4c61-914a-0c9b175ee96b",
   "metadata": {},
   "outputs": [
    {
     "data": {
      "text/markdown": [
       "Dear Shruti,\n",
       "\n",
       "We hope this email finds you well.\n",
       "\n",
       "We have received your recent claim (claim number 85804365801:01) and regret to inform you that it has been denied.\n",
       "\n",
       "**Reason for Denial:**\n",
       "\n",
       "| Field | Value | Reason |\n",
       "|---|---|---|\n",
       "| Service Date | 28-Apr-2023 | Services were received before the policy eligibility start date (23-Dec-2022). |\n",
       "\n",
       "**What to Keep in Mind for Future Claims:**\n",
       "\n",
       "To avoid claim denials in the future, please ensure that:\n",
       "\n",
       "* Services are received within the policy eligibility period (23-Dec-2022 to 23-Dec-2023).\n",
       "* The total claim amount does not exceed the policy allowed amount (INR 1,000,000).\n",
       "* All required documentation, including invoices and medical records, is submitted.\n",
       "\n",
       "We understand that claim denials can be frustrating, and we want to assure you that we are committed to providing you with the best possible coverage. Please do not hesitate to contact us if you have any questions or concerns.\n",
       "\n",
       "Sincerely,\n",
       "ABC Insurance Team"
      ],
      "text/plain": [
       "<IPython.core.display.Markdown object>"
      ]
     },
     "metadata": {},
     "output_type": "display_data"
    }
   ],
   "source": [
    "display(Markdown(response.text))"
   ]
  }
 ],
 "metadata": {
  "kernelspec": {
   "display_name": "Python 3 (ipykernel)",
   "language": "python",
   "name": "python3"
  },
  "language_info": {
   "codemirror_mode": {
    "name": "ipython",
    "version": 3
   },
   "file_extension": ".py",
   "mimetype": "text/x-python",
   "name": "python",
   "nbconvert_exporter": "python",
   "pygments_lexer": "ipython3",
   "version": "3.12.0"
  }
 },
 "nbformat": 4,
 "nbformat_minor": 5
}
